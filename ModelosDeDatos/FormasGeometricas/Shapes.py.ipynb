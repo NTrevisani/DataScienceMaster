{
 "cells": [
  {
   "cell_type": "code",
   "execution_count": 214,
   "metadata": {},
   "outputs": [],
   "source": [
    "import math\n",
    "\n",
    "PI = math.pi\n",
    "\n",
    "class Shape(object):\n",
    "    \n",
    "    def __str__(self):\n",
    "        raise NotImplementedError\n",
    "        \n",
    "    def __repr__(self):\n",
    "        raise NotImplementedError        \n",
    "    \n",
    "    def perimeter(self):\n",
    "        raise NotImplementedError\n",
    "\n",
    "    def area(self):\n",
    "        raise NotImplementedError\n",
    "\n",
    "    def __eq__(self, other):\n",
    "        return self.area() ==  other.area()  \n",
    "\n",
    "    def __sum__(self, other):\n",
    "        raise NotImplementedError\n",
    "\n",
    "    def __add__(self, other):\n",
    "        raise NotImplementedError\n",
    "\n",
    "    def __radd__(self, other):\n",
    "        return self.__add__(other)\n",
    "\n",
    "class Circle(Shape):\n",
    "    \n",
    "    def __init__(self, radius):\n",
    "        if radius < 0:\n",
    "            print(\"You inserted a negative value for the radius.\")\n",
    "            print(\"I changed it for a positive value :)\")\n",
    "            self.radius = abs(radius)\n",
    "        #elif radius == 0:\n",
    "        #    self.radius = 1\n",
    "        else:\n",
    "            self.radius = radius\n",
    "                     \n",
    "    def __str__(self):\n",
    "        my_class = type(self).__name__\n",
    "        msg = \"A {0} with radius {1}\"\n",
    "        return msg.format(my_class, self.radius)\n",
    "    \n",
    "    def __repr__(self):\n",
    "        my_class = type(self).__name__\n",
    "        msg = \"{0}({1})\"\n",
    "        return msg.format(my_class, self.radius)\n",
    "    \n",
    "    def __add__(self, other):\n",
    "        if isinstance(other, int) or isinstance(other, float):\n",
    "            int_circle = type(self)(other)\n",
    "            return type(self)(self.radius + int_circle.radius)\n",
    "        else:\n",
    "            return type(self)(self.radius + other.radius)\n",
    "\n",
    "    def perimeter(self):\n",
    "        return self.radius * 2 * PI\n",
    "    \n",
    "    def area(self):\n",
    "        return self.radius** 2 * PI\n",
    "    \n",
    "\n",
    "class Rectangle(Shape):\n",
    "    \n",
    "    def __init__(self, base, height):\n",
    "        if base < 0:\n",
    "            print(\"You inserted a negative value for the base.\")\n",
    "            print(\"I changed it for a positive value :)\")\n",
    "            self.base = abs(base)\n",
    "        #elif base == 0:\n",
    "        #    self.base = 1\n",
    "        else:\n",
    "            self.base = base\n",
    "        if height < 0:\n",
    "            print(\"You inserted a negative value for the height.\")\n",
    "            print(\"I changed it for a positive value :)\")\n",
    "            self.height = abs(height)\n",
    "        #elif height == 0:\n",
    "        #    self.height = 1\n",
    "        else:        \n",
    "            self.height = height\n",
    "        \n",
    "    def __str__(self):\n",
    "        my_class = type(self).__name__\n",
    "        msg = \"A {0} with base {1} and height {2}\"\n",
    "        return msg.format(my_class, self.base, self.height)\n",
    "    \n",
    "    def __repr__(self):\n",
    "        my_class = type(self).__name__\n",
    "        msg = \"{0}({1},{2})\"\n",
    "        return msg.format(my_class, self.base, self.height)\n",
    "        \n",
    "    def perimeter(self):\n",
    "        return 2 * (self.base + self.height)\n",
    "    \n",
    "    def area(self):\n",
    "        return self.base * self.height"
   ]
  },
  {
   "cell_type": "code",
   "execution_count": 215,
   "metadata": {},
   "outputs": [
    {
     "name": "stdout",
     "output_type": "stream",
     "text": [
      "You inserted a negative value for the radius.\n",
      "I changed it for a positive value :)\n",
      "25.132741228718345\n",
      "50.26548245743669\n",
      "A Circle with radius 4\n"
     ]
    }
   ],
   "source": [
    "a = Circle(-4)\n",
    "\n",
    "print(a.perimeter())\n",
    "print(a.area())\n",
    "print(a)"
   ]
  },
  {
   "cell_type": "code",
   "execution_count": 216,
   "metadata": {},
   "outputs": [
    {
     "name": "stdout",
     "output_type": "stream",
     "text": [
      "A Circle with radius 4\n"
     ]
    }
   ],
   "source": [
    "print(a)"
   ]
  },
  {
   "cell_type": "code",
   "execution_count": 217,
   "metadata": {},
   "outputs": [
    {
     "data": {
      "text/plain": [
       "Circle(4)"
      ]
     },
     "execution_count": 217,
     "metadata": {},
     "output_type": "execute_result"
    }
   ],
   "source": [
    "eval(repr(a))"
   ]
  },
  {
   "cell_type": "code",
   "execution_count": 218,
   "metadata": {},
   "outputs": [],
   "source": [
    "b = Circle(3)"
   ]
  },
  {
   "cell_type": "code",
   "execution_count": 219,
   "metadata": {},
   "outputs": [
    {
     "data": {
      "text/plain": [
       "False"
      ]
     },
     "execution_count": 219,
     "metadata": {},
     "output_type": "execute_result"
    }
   ],
   "source": [
    "a == b\n"
   ]
  },
  {
   "cell_type": "code",
   "execution_count": 220,
   "metadata": {},
   "outputs": [
    {
     "name": "stdout",
     "output_type": "stream",
     "text": [
      "A Circle with radius 7\n"
     ]
    }
   ],
   "source": [
    "print(a + b)"
   ]
  },
  {
   "cell_type": "code",
   "execution_count": 221,
   "metadata": {},
   "outputs": [
    {
     "data": {
      "text/plain": [
       "Circle(5.1)"
      ]
     },
     "execution_count": 221,
     "metadata": {},
     "output_type": "execute_result"
    }
   ],
   "source": [
    "a + 1.1"
   ]
  },
  {
   "cell_type": "code",
   "execution_count": 224,
   "metadata": {},
   "outputs": [
    {
     "data": {
      "text/plain": [
       "Circle(5.1)"
      ]
     },
     "execution_count": 224,
     "metadata": {},
     "output_type": "execute_result"
    }
   ],
   "source": [
    "1.1 + a"
   ]
  },
  {
   "cell_type": "code",
   "execution_count": 222,
   "metadata": {},
   "outputs": [],
   "source": [
    "c = Rectangle(1,28.274333882308138)"
   ]
  },
  {
   "cell_type": "code",
   "execution_count": 223,
   "metadata": {},
   "outputs": [
    {
     "data": {
      "text/plain": [
       "False"
      ]
     },
     "execution_count": 223,
     "metadata": {},
     "output_type": "execute_result"
    }
   ],
   "source": [
    "a == c"
   ]
  },
  {
   "cell_type": "code",
   "execution_count": 142,
   "metadata": {},
   "outputs": [
    {
     "name": "stdout",
     "output_type": "stream",
     "text": [
      "You inserted a negative value for the base.\n",
      "I changed it for a positive value :)\n",
      "You inserted a negative value for the height.\n",
      "I changed it for a positive value :)\n"
     ]
    },
    {
     "data": {
      "text/plain": [
       "Rectangle(2,7)"
      ]
     },
     "execution_count": 142,
     "metadata": {},
     "output_type": "execute_result"
    }
   ],
   "source": [
    "d = Rectangle(-2,-7)\n",
    "d"
   ]
  },
  {
   "cell_type": "code",
   "execution_count": 149,
   "metadata": {},
   "outputs": [
    {
     "data": {
      "text/plain": [
       "Rectangle(0,0)"
      ]
     },
     "execution_count": 149,
     "metadata": {},
     "output_type": "execute_result"
    }
   ],
   "source": [
    "e = Rectangle(0,0)\n",
    "e\n"
   ]
  },
  {
   "cell_type": "code",
   "execution_count": 150,
   "metadata": {},
   "outputs": [
    {
     "data": {
      "text/plain": [
       "0"
      ]
     },
     "execution_count": 150,
     "metadata": {},
     "output_type": "execute_result"
    }
   ],
   "source": [
    "e.area()"
   ]
  },
  {
   "cell_type": "code",
   "execution_count": 183,
   "metadata": {},
   "outputs": [
    {
     "data": {
      "text/plain": [
       "int"
      ]
     },
     "execution_count": 183,
     "metadata": {},
     "output_type": "execute_result"
    }
   ],
   "source": [
    "type(1)"
   ]
  },
  {
   "cell_type": "code",
   "execution_count": 184,
   "metadata": {},
   "outputs": [
    {
     "data": {
      "text/plain": [
       "float"
      ]
     },
     "execution_count": 184,
     "metadata": {},
     "output_type": "execute_result"
    }
   ],
   "source": [
    "type(1.)"
   ]
  },
  {
   "cell_type": "code",
   "execution_count": null,
   "metadata": {},
   "outputs": [],
   "source": []
  }
 ],
 "metadata": {
  "kernelspec": {
   "display_name": "Python 3",
   "language": "python",
   "name": "python3"
  },
  "language_info": {
   "codemirror_mode": {
    "name": "ipython",
    "version": 3
   },
   "file_extension": ".py",
   "mimetype": "text/x-python",
   "name": "python",
   "nbconvert_exporter": "python",
   "pygments_lexer": "ipython3",
   "version": "3.7.3"
  }
 },
 "nbformat": 4,
 "nbformat_minor": 2
}
