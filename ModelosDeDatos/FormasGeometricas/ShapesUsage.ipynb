{
 "cells": [
  {
   "cell_type": "code",
   "execution_count": 13,
   "metadata": {},
   "outputs": [],
   "source": [
    "import math\n",
    "\n",
    "PI = math.pi\n",
    "\n",
    "class Shape(object):\n",
    "    \"\"\"Basic class for the managing of geometric shapes.\"\"\"    \n",
    "    \n",
    "    def __str__(self):\n",
    "        \"\"\"Print the object as 'An object with attributes '...''.\n",
    "        \n",
    "        The actual implementation depends on the object\n",
    "        and on the number of attributes it has.\n",
    "        \"\"\"\n",
    "        raise NotImplementedError\n",
    "        \n",
    "    def __repr__(self):\n",
    "        raise NotImplementedError        \n",
    "    \n",
    "    def perimeter(self):\n",
    "        raise NotImplementedError\n",
    "\n",
    "    def area(self):\n",
    "        raise NotImplementedError\n",
    "\n",
    "    def __sum__(self, other):\n",
    "        raise NotImplementedError\n",
    "\n",
    "    def __add__(self, other):\n",
    "        raise NotImplementedError\n",
    "\n",
    "    def __eq__(self, other):\n",
    "        return self.area() ==  other.area()  \n",
    "\n",
    "    def __radd__(self, other):\n",
    "        return self.__add__(other)\n",
    "\n",
    "    \n",
    "class Circle(Shape):\n",
    "    \"\"\"A circle of radius 'radius'\"\"\"\n",
    "    \n",
    "    def __init__(self, radius):\n",
    "        \"\"\"Initialize the circle with its radius.\n",
    "        \n",
    "        The value must be positive.\n",
    "        \"\"\"\n",
    "        if radius <= 0:\n",
    "            raise ValueError(\"Radius must have a positive value\")\n",
    "        else:\n",
    "            self.radius = radius\n",
    "                     \n",
    "    def __str__(self):\n",
    "        \"\"\"Print as 'A Circle with radius 'radius''.\"\"\"\n",
    "        my_class = type(self).__name__\n",
    "        msg = \"A {0} with radius {1}\"\n",
    "        return msg.format(my_class, self.radius)\n",
    "    \n",
    "    def __repr__(self):\n",
    "        \"\"\"Represents the object as 'Circle(radius)'.\"\"\"\n",
    "        my_class = type(self).__name__\n",
    "        msg = \"{0}({1})\"\n",
    "        return msg.format(my_class, self.radius)\n",
    "    \n",
    "    def __add__(self, other):\n",
    "        \"\"\"Sum of two Circles or of a Circle and a number.\n",
    "        \n",
    "        The sum of two Circles returns a third Circle with\n",
    "        radius equal to the sum of the radii of the two \n",
    "        Circles to be summed.\n",
    "        The sum of a Circle and a number returns a new Circle\n",
    "        with radius equal to the radius of the Circle plus\n",
    "        the number.\n",
    "        \"\"\"\n",
    "        if isinstance(other, int) or isinstance(other, float):\n",
    "            int_circle = type(self)(other)\n",
    "            return type(self)(self.radius + int_circle.radius)\n",
    "        else:\n",
    "            return type(self)(self.radius + other.radius)\n",
    "\n",
    "    def perimeter(self):\n",
    "        \"\"\"Returns the perimeter of the circle.\"\"\"\n",
    "        return self.radius * 2 * PI\n",
    "    \n",
    "    def area(self):\n",
    "        \"\"\"Returns the are of the circle.\"\"\"\n",
    "        return self.radius** 2 * PI\n",
    "    \n",
    "\n",
    "class Rectangle(Shape):\n",
    "    \"\"\"A rectangle with a base and a height.\"\"\"\n",
    "    def __init__(self, base, height):\n",
    "        if base <= 0:\n",
    "            raise ValueError(\"Base must have a positive value\")\n",
    "        else:\n",
    "            self.base = base            \n",
    "        if height < 0:\n",
    "            raise ValueError(\"Height must have a positive value\")\n",
    "        else:        \n",
    "            self.height = height\n",
    "        \n",
    "    def __str__(self):\n",
    "        my_class = type(self).__name__\n",
    "        msg = \"A {0} with base {1} and height {2}\"\n",
    "        return msg.format(my_class, self.base, self.height)\n",
    "    \n",
    "    def __repr__(self):\n",
    "        my_class = type(self).__name__\n",
    "        msg = \"{0}({1},{2})\"\n",
    "        return msg.format(my_class, self.base, self.height)\n",
    "        \n",
    "    def perimeter(self):\n",
    "        return 2 * (self.base + self.height)\n",
    "    \n",
    "    def area(self):\n",
    "        return self.base * self.height"
   ]
  },
  {
   "cell_type": "code",
   "execution_count": 12,
   "metadata": {},
   "outputs": [
    {
     "name": "stdout",
     "output_type": "stream",
     "text": [
      "25.132741228718345\n",
      "50.26548245743669\n",
      "A Circle with radius 4\n"
     ]
    }
   ],
   "source": [
    "a = Circle(4)\n",
    "\n",
    "print(a.perimeter())\n",
    "print(a.area())\n",
    "print(a)"
   ]
  },
  {
   "cell_type": "code",
   "execution_count": 9,
   "metadata": {},
   "outputs": [
    {
     "name": "stdout",
     "output_type": "stream",
     "text": [
      "A Circle with radius 4\n"
     ]
    }
   ],
   "source": [
    "print(a)"
   ]
  },
  {
   "cell_type": "code",
   "execution_count": 10,
   "metadata": {},
   "outputs": [
    {
     "data": {
      "text/plain": [
       "Circle(4)"
      ]
     },
     "execution_count": 10,
     "metadata": {},
     "output_type": "execute_result"
    }
   ],
   "source": [
    "eval(repr(a))"
   ]
  },
  {
   "cell_type": "code",
   "execution_count": 218,
   "metadata": {},
   "outputs": [],
   "source": [
    "b = Circle(3)"
   ]
  },
  {
   "cell_type": "code",
   "execution_count": 219,
   "metadata": {},
   "outputs": [
    {
     "data": {
      "text/plain": [
       "False"
      ]
     },
     "execution_count": 219,
     "metadata": {},
     "output_type": "execute_result"
    }
   ],
   "source": [
    "a == b\n"
   ]
  },
  {
   "cell_type": "code",
   "execution_count": 220,
   "metadata": {},
   "outputs": [
    {
     "name": "stdout",
     "output_type": "stream",
     "text": [
      "A Circle with radius 7\n"
     ]
    }
   ],
   "source": [
    "print(a + b)"
   ]
  },
  {
   "cell_type": "code",
   "execution_count": 221,
   "metadata": {},
   "outputs": [
    {
     "data": {
      "text/plain": [
       "Circle(5.1)"
      ]
     },
     "execution_count": 221,
     "metadata": {},
     "output_type": "execute_result"
    }
   ],
   "source": [
    "a + 1.1"
   ]
  },
  {
   "cell_type": "code",
   "execution_count": 224,
   "metadata": {},
   "outputs": [
    {
     "data": {
      "text/plain": [
       "Circle(5.1)"
      ]
     },
     "execution_count": 224,
     "metadata": {},
     "output_type": "execute_result"
    }
   ],
   "source": [
    "1.1 + a"
   ]
  },
  {
   "cell_type": "code",
   "execution_count": 222,
   "metadata": {},
   "outputs": [],
   "source": [
    "c = Rectangle(1,28.274333882308138)"
   ]
  },
  {
   "cell_type": "code",
   "execution_count": 223,
   "metadata": {},
   "outputs": [
    {
     "data": {
      "text/plain": [
       "False"
      ]
     },
     "execution_count": 223,
     "metadata": {},
     "output_type": "execute_result"
    }
   ],
   "source": [
    "a == c"
   ]
  },
  {
   "cell_type": "code",
   "execution_count": 6,
   "metadata": {},
   "outputs": [
    {
     "ename": "ValueError",
     "evalue": "Base must have a positive value",
     "output_type": "error",
     "traceback": [
      "\u001b[0;31m---------------------------------------------------------------------------\u001b[0m",
      "\u001b[0;31mValueError\u001b[0m                                Traceback (most recent call last)",
      "\u001b[0;32m<ipython-input-6-d83b0286a314>\u001b[0m in \u001b[0;36m<module>\u001b[0;34m\u001b[0m\n\u001b[0;32m----> 1\u001b[0;31m \u001b[0md\u001b[0m \u001b[0;34m=\u001b[0m \u001b[0mRectangle\u001b[0m\u001b[0;34m(\u001b[0m\u001b[0;34m-\u001b[0m\u001b[0;36m2\u001b[0m\u001b[0;34m,\u001b[0m\u001b[0;34m-\u001b[0m\u001b[0;36m7\u001b[0m\u001b[0;34m)\u001b[0m\u001b[0;34m\u001b[0m\u001b[0;34m\u001b[0m\u001b[0m\n\u001b[0m\u001b[1;32m      2\u001b[0m \u001b[0md\u001b[0m\u001b[0;34m\u001b[0m\u001b[0;34m\u001b[0m\u001b[0m\n",
      "\u001b[0;32m<ipython-input-4-112231c3d929>\u001b[0m in \u001b[0;36m__init__\u001b[0;34m(self, base, height)\u001b[0m\n\u001b[1;32m     67\u001b[0m     \u001b[0;32mdef\u001b[0m \u001b[0m__init__\u001b[0m\u001b[0;34m(\u001b[0m\u001b[0mself\u001b[0m\u001b[0;34m,\u001b[0m \u001b[0mbase\u001b[0m\u001b[0;34m,\u001b[0m \u001b[0mheight\u001b[0m\u001b[0;34m)\u001b[0m\u001b[0;34m:\u001b[0m\u001b[0;34m\u001b[0m\u001b[0;34m\u001b[0m\u001b[0m\n\u001b[1;32m     68\u001b[0m         \u001b[0;32mif\u001b[0m \u001b[0mbase\u001b[0m \u001b[0;34m<=\u001b[0m \u001b[0;36m0\u001b[0m\u001b[0;34m:\u001b[0m\u001b[0;34m\u001b[0m\u001b[0;34m\u001b[0m\u001b[0m\n\u001b[0;32m---> 69\u001b[0;31m             \u001b[0;32mraise\u001b[0m \u001b[0mValueError\u001b[0m\u001b[0;34m(\u001b[0m\u001b[0;34m\"Base must have a positive value\"\u001b[0m\u001b[0;34m)\u001b[0m\u001b[0;34m\u001b[0m\u001b[0;34m\u001b[0m\u001b[0m\n\u001b[0m\u001b[1;32m     70\u001b[0m         \u001b[0;32melse\u001b[0m\u001b[0;34m:\u001b[0m\u001b[0;34m\u001b[0m\u001b[0;34m\u001b[0m\u001b[0m\n\u001b[1;32m     71\u001b[0m             \u001b[0mself\u001b[0m\u001b[0;34m.\u001b[0m\u001b[0mbase\u001b[0m \u001b[0;34m=\u001b[0m \u001b[0mbase\u001b[0m\u001b[0;34m\u001b[0m\u001b[0;34m\u001b[0m\u001b[0m\n",
      "\u001b[0;31mValueError\u001b[0m: Base must have a positive value"
     ]
    }
   ],
   "source": [
    "d = Rectangle(-2,-7)\n",
    "d"
   ]
  },
  {
   "cell_type": "code",
   "execution_count": 149,
   "metadata": {},
   "outputs": [
    {
     "data": {
      "text/plain": [
       "Rectangle(0,0)"
      ]
     },
     "execution_count": 149,
     "metadata": {},
     "output_type": "execute_result"
    }
   ],
   "source": [
    "e = Rectangle(0,0)\n",
    "e\n"
   ]
  },
  {
   "cell_type": "code",
   "execution_count": 150,
   "metadata": {},
   "outputs": [
    {
     "data": {
      "text/plain": [
       "0"
      ]
     },
     "execution_count": 150,
     "metadata": {},
     "output_type": "execute_result"
    }
   ],
   "source": [
    "e.area()"
   ]
  },
  {
   "cell_type": "code",
   "execution_count": 183,
   "metadata": {},
   "outputs": [
    {
     "data": {
      "text/plain": [
       "int"
      ]
     },
     "execution_count": 183,
     "metadata": {},
     "output_type": "execute_result"
    }
   ],
   "source": [
    "type(1)"
   ]
  },
  {
   "cell_type": "code",
   "execution_count": 184,
   "metadata": {},
   "outputs": [
    {
     "data": {
      "text/plain": [
       "float"
      ]
     },
     "execution_count": 184,
     "metadata": {},
     "output_type": "execute_result"
    }
   ],
   "source": [
    "type(1.)"
   ]
  },
  {
   "cell_type": "code",
   "execution_count": null,
   "metadata": {},
   "outputs": [],
   "source": []
  }
 ],
 "metadata": {
  "kernelspec": {
   "display_name": "Python 3",
   "language": "python",
   "name": "python3"
  },
  "language_info": {
   "codemirror_mode": {
    "name": "ipython",
    "version": 3
   },
   "file_extension": ".py",
   "mimetype": "text/x-python",
   "name": "python",
   "nbconvert_exporter": "python",
   "pygments_lexer": "ipython3",
   "version": "3.7.3"
  }
 },
 "nbformat": 4,
 "nbformat_minor": 2
}
