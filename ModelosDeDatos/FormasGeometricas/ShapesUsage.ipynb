{
 "cells": [
  {
   "cell_type": "markdown",
   "metadata": {},
   "source": [
    "# Object-oriented programming exercise"
   ]
  },
  {
   "cell_type": "markdown",
   "metadata": {},
   "source": [
    "## Importing the Shape module"
   ]
  },
  {
   "cell_type": "code",
   "execution_count": 92,
   "metadata": {},
   "outputs": [],
   "source": [
    "from Shapes import Shape, Point, Circle, Rectangle, Triangle"
   ]
  },
  {
   "cell_type": "code",
   "execution_count": 93,
   "metadata": {},
   "outputs": [
    {
     "name": "stdout",
     "output_type": "stream",
     "text": [
      "The module allows to create and manage geometrical shapes.\n"
     ]
    }
   ],
   "source": [
    "%run Shapes.py"
   ]
  },
  {
   "cell_type": "markdown",
   "metadata": {},
   "source": [
    "## Module structure"
   ]
  },
  {
   "cell_type": "markdown",
   "metadata": {},
   "source": [
    "The _Shapes_ module contains 5 classes, each one defining one geometric object:\n",
    "- Shape: all the other classes inherit from it;\n",
    "- Point: a point defined by its (x,y) coordinates. Directly inherits from Shape and all the 2D-object classes inherit from Point. The point is considered as the center of those objects;\n",
    "- Circle, Rectangle, Triangle: the actual geometric shapes."
   ]
  },
  {
   "cell_type": "markdown",
   "metadata": {},
   "source": [
    "The *mother* class, Shape, is almost exclusively used as a support for the other classes that inherit from it. There, all the methods (e.g. area, perimeter, ...) raise a NotImplementedError, to force the _children_ classes to explicitly define them, with few exceptions:\n",
    "- area comparison methods: \n",
    "    - \\_\\_eq_\\_ ( == )\n",
    "    - \\_\\_ne_\\_ ( != )\n",
    "    - \\_\\_lt_\\_ ( < ) \n",
    "    - \\_\\_gt_\\_ ( > )\n",
    "    - \\_\\_le_\\_ ( <= )\n",
    "    - \\_\\_ge_\\_ ( >= )\n",
    "- reverse operations (only the commutative ones):\n",
    "    - \\_\\_radd_\\_ (reverse sum)\n",
    "    - \\_\\_rmul_\\_ (reverse product)"
   ]
  },
  {
   "cell_type": "markdown",
   "metadata": {},
   "source": [
    "The area comparison methods have to be defined in the mother class, since areas can be compared among different shapes.\n",
    "They just call the actual implementation of the area() method in the children classes and compare the output."
   ]
  },
  {
   "cell_type": "markdown",
   "metadata": {},
   "source": [
    "The *reverse operation* methods, on the other hand, can be considered as special cases: \\_\\_radd_\\_ and \\_\\_rmul_\\_ allow to change the order of the operands and are particularly useful in the cases (float + shape) or (float x shape).\n",
    "\n",
    "In fact, if such methods were not implemented, the operation would return an error, even if the sum (shape + float) is correctly defined. Thanks to them, it is possible to change the order of the objects to be summed, so that (float + shape), which is not defined, becomes (shape + float), that the code can handle if  \\_\\_add_\\_ is defined.\n",
    "\n",
    "A caveat regarding these methods is that they are not aware if an operation is commutative or not, so they just change the order of the operands: we have to be careful that it is not the same to do (float - shape) or (shape - float).\n",
    "\n",
    "To face this feature of reverse operations, \\_\\_rsub_\\_ and \\_\\_rtruedivide_\\_ have been specifically defined in each class, in order to correctly operate on the attributes (e.g., radius of the circle, sides of the triangle, ...) of the figures."
   ]
  },
  {
   "cell_type": "markdown",
   "metadata": {},
   "source": [
    "## What about putting all the methods in the mother class?"
   ]
  },
  {
   "cell_type": "markdown",
   "metadata": {},
   "source": [
    "Probably, it would have been possible to define all the methods of all the classes in the mother class Shape, through a series of *if*, *elif*, and *else* that change the behaviour of the method depending on the geometric shape to operate on, but this would have made the module incompatible with the addition of a new shape just by plugging-in an independently developed piece of code.\n",
    "\n",
    "Another possibility would have been to pass the attributes of the geometric shape (e.g. the radius of a circle) as a list: this would have allowed to directly operate all the arithmentic operations on the list of attributes.\n",
    "This means that the sum of two circles or the sum of two triangles would have been the same strcure, *code wise*:"
   ]
  },
  {
   "cell_type": "markdown",
   "metadata": {},
   "source": [
    "For example, this definition of sum would have been valid for all the classes:\n",
    "\n",
    "    def __add__(self, other):\n",
    "        if isinstance(other, (int,float)):\n",
    "            sum_x, sum_y = Point.half_way(self, self)\n",
    "            sum_attributes = self._attributes_list + other\n",
    "        elif (isinstance(other, type(self))):\n",
    "            sum_x, sum_y = Point.half_way(self, other)\n",
    "            sum_attributes = self._attributes_list + other._attributes_list\n",
    "        else:\n",
    "            self_class = type(self).__name__\n",
    "            other_class = type(other).__name__\n",
    "            msg = \"You cannot sum a {0} and a {1}\"\n",
    "            raise TypeError(msg.format(self_class, other_class))\n",
    "        return type(self)(sum_x, sum_y, sum_radius)"
   ]
  },
  {
   "cell_type": "markdown",
   "metadata": {},
   "source": [
    "Two inconvenients are implicit in this approach:\n",
    "- the center of the figure (if defined) has to be treated differently with respect to the other attributes;\n",
    "- to exploit this feature, also the *children* classes have to be defined in the same way, which may not be completely intuitive."
   ]
  },
  {
   "cell_type": "markdown",
   "metadata": {},
   "source": [
    "## Instantiating objects"
   ]
  },
  {
   "cell_type": "markdown",
   "metadata": {},
   "source": [
    "Let's now instantiate pairs of basic objects, to show how they work.\n",
    "- Point: this class directly inherits from Shape and is used to represent the _center_ of the other geometric figures;\n",
    "- Circle, Rectangle, and Triangle: inherit from Point and are the actual two-dimensional shapes we want.\n"
   ]
  },
  {
   "cell_type": "code",
   "execution_count": 85,
   "metadata": {},
   "outputs": [
    {
     "name": "stdout",
     "output_type": "stream",
     "text": [
      "A Point with coordinates (0,0)\n",
      "Point(0,0)\n",
      "\n",
      "A Point with coordinates (10,10)\n",
      "Point(10,10)\n"
     ]
    }
   ],
   "source": [
    "# Two points\n",
    "\n",
    "p1 = Point(0,0)\n",
    "print(p1)\n",
    "print(repr(p1))\n",
    "print()\n",
    "\n",
    "p2 = Point(10,10)\n",
    "print(p2)\n",
    "print(repr(p2))"
   ]
  },
  {
   "cell_type": "code",
   "execution_count": 91,
   "metadata": {},
   "outputs": [
    {
     "name": "stdout",
     "output_type": "stream",
     "text": [
      "A Circle centered at (0,0) with radius 10\n",
      "Circle(0,0,10)\n",
      "\n",
      "A Circle centered at (-4,2) with radius 8\n",
      "Circle(-4,2,8)\n"
     ]
    }
   ],
   "source": [
    "# Two circles\n",
    "\n",
    "c1 = Circle(0,0,10)\n",
    "print(c1)\n",
    "print(repr(c1))\n",
    "print()\n",
    "\n",
    "c2 = Circle(-4,2,8)\n",
    "print(c2)\n",
    "print(repr(c2))"
   ]
  },
  {
   "cell_type": "code",
   "execution_count": 88,
   "metadata": {},
   "outputs": [
    {
     "name": "stdout",
     "output_type": "stream",
     "text": [
      "A Triangle centered at (0,0) with sides of length: 6, 8, 10\n",
      "Triangle(0,0,6,8,10)\n",
      "\n",
      "A Triangle centered at (5,7) with sides of length: 3, 4, 5\n",
      "Triangle(5,7,3,4,5)\n"
     ]
    }
   ],
   "source": [
    "# Two triangles\n",
    "\n",
    "t1 = Triangle(0,0,6,8,10)\n",
    "print(t1)\n",
    "print(repr(t1))\n",
    "print()\n",
    "\n",
    "t2 = Triangle(5,7,3,4,5)\n",
    "print(t2)\n",
    "print(repr(t2))"
   ]
  },
  {
   "cell_type": "code",
   "execution_count": 79,
   "metadata": {},
   "outputs": [
    {
     "name": "stdout",
     "output_type": "stream",
     "text": [
      "A Rectangle centered at (0,0) with base 10 and height 10\n",
      "Rectangle(0,0,10,10)\n",
      "\n",
      "A Rectangle centered at (5,11) with base 4 and height 6\n",
      "Rectangle(5,11,4,6)\n"
     ]
    }
   ],
   "source": [
    "# Two rectangles\n",
    "\n",
    "r1 = Rectangle(0,0,10,10)\n",
    "print(r1)\n",
    "print(repr(r1))\n",
    "print()\n",
    "\n",
    "r2 = Rectangle(5,11,4,6)\n",
    "print(r2)\n",
    "print(repr(r2))"
   ]
  },
  {
   "cell_type": "markdown",
   "metadata": {},
   "source": [
    "## Repr and str"
   ]
  },
  {
   "cell_type": "markdown",
   "metadata": {},
   "source": [
    "In the previous examples, together with the definition of the geometric shapes, their _printable_ version and their representations have been shown.\n",
    "\n",
    "In particular,  \\_\\_str_\\_ has been implemented in order to return a human-readable description of the object (e.g. 'A Rectangle centered at (0,0) with base 12 and height 10'), while \\_\\_repr_\\_ gives a more formal output ('Rectangle(0,0,12,10)'), the same used in the code to define the object itself."
   ]
  },
  {
   "cell_type": "markdown",
   "metadata": {},
   "source": [
    "## Some operations between points"
   ]
  },
  {
   "cell_type": "markdown",
   "metadata": {},
   "source": [
    "The basic methods implemented for points and inherited by the other figures are:\n",
    "- move_along_x: moves the point along x;\n",
    "- move_along_y: moves the point along y;\n",
    "- set_x: sets the x value of the point to a new value;\n",
    "- set_y: sets the y value of the point to a new value;\n",
    "- move_to: moves the point to a new pair of coordinates;\n",
    "- half_way: returns the x and the y (as two separate numbers, not as Point) of the middle point between two Point objects;\n",
    "- distance: returns the distance between two points;\n",
    "- get_center: returns the coordinates of the point;\n",
    "- get_x: returns the x coordinate of the point;\n",
    "- get_y: returns the y coordinate of the point."
   ]
  },
  {
   "cell_type": "code",
   "execution_count": 7,
   "metadata": {},
   "outputs": [
    {
     "name": "stdout",
     "output_type": "stream",
     "text": [
      "A Point with coordinates (0,0)\n",
      "A Point with coordinates (10,0)\n"
     ]
    }
   ],
   "source": [
    "print(p1)\n",
    "p1.move_along_x(10)\n",
    "print(p1)"
   ]
  },
  {
   "cell_type": "code",
   "execution_count": 8,
   "metadata": {},
   "outputs": [
    {
     "name": "stdout",
     "output_type": "stream",
     "text": [
      "A Point with coordinates (10,10)\n",
      "A Point with coordinates (10,20)\n"
     ]
    }
   ],
   "source": [
    "print(p2)\n",
    "p2.move_along_y(10)\n",
    "print(p2)"
   ]
  },
  {
   "cell_type": "code",
   "execution_count": 9,
   "metadata": {},
   "outputs": [
    {
     "name": "stdout",
     "output_type": "stream",
     "text": [
      "A Point with coordinates (10,0)\n",
      "A Point with coordinates (15,0)\n",
      "x: 15\n"
     ]
    }
   ],
   "source": [
    "print(p1)\n",
    "p1.set_x(15)\n",
    "print(p1)\n",
    "print(\"x:\",p1.get_x())"
   ]
  },
  {
   "cell_type": "code",
   "execution_count": 10,
   "metadata": {},
   "outputs": [
    {
     "name": "stdout",
     "output_type": "stream",
     "text": [
      "A Point with coordinates (10,20)\n",
      "A Point with coordinates (10,12)\n",
      "y: 12\n"
     ]
    }
   ],
   "source": [
    "print(p2)\n",
    "p2.set_y(12)\n",
    "print(p2)\n",
    "print(\"y:\",p2.get_y())"
   ]
  },
  {
   "cell_type": "code",
   "execution_count": 11,
   "metadata": {},
   "outputs": [
    {
     "name": "stdout",
     "output_type": "stream",
     "text": [
      "A Point with coordinates (0,0)\n",
      "A Point with coordinates (10,10)\n"
     ]
    }
   ],
   "source": [
    "p1.move_to(0,0)\n",
    "p2.move_to(10,10)\n",
    "print(p1)\n",
    "print(p2)"
   ]
  },
  {
   "cell_type": "code",
   "execution_count": 12,
   "metadata": {},
   "outputs": [
    {
     "name": "stdout",
     "output_type": "stream",
     "text": [
      "5.0 5.0\n"
     ]
    }
   ],
   "source": [
    "mid_x,mid_y = p1.half_way(p2) \n",
    "print(mid_x,mid_y)"
   ]
  },
  {
   "cell_type": "code",
   "execution_count": 13,
   "metadata": {},
   "outputs": [
    {
     "name": "stdout",
     "output_type": "stream",
     "text": [
      "14.142135623730951\n"
     ]
    }
   ],
   "source": [
    "print(p1.distance(p2))"
   ]
  },
  {
   "cell_type": "markdown",
   "metadata": {},
   "source": [
    "The methods work also for the classes that inherit from Point:"
   ]
  },
  {
   "cell_type": "code",
   "execution_count": 14,
   "metadata": {},
   "outputs": [
    {
     "name": "stdout",
     "output_type": "stream",
     "text": [
      "A Circle centered at (0,0) with radius 10\n",
      "A Circle centered at (10,0) with radius 10\n"
     ]
    }
   ],
   "source": [
    "print(c1)\n",
    "c1.move_along_x(10)\n",
    "print(c1)"
   ]
  },
  {
   "cell_type": "code",
   "execution_count": 15,
   "metadata": {},
   "outputs": [
    {
     "name": "stdout",
     "output_type": "stream",
     "text": [
      "A Triangle centered at (5,7) with sides of length: 3, 4, 5\n",
      "A Triangle centered at (5,17) with sides of length: 3, 4, 5\n"
     ]
    }
   ],
   "source": [
    "print(t2)\n",
    "t2.move_along_y(10)\n",
    "print(t2)"
   ]
  },
  {
   "cell_type": "code",
   "execution_count": 16,
   "metadata": {},
   "outputs": [
    {
     "name": "stdout",
     "output_type": "stream",
     "text": [
      "A Circle centered at (0,0) with radius 10\n",
      "A Circle centered at (-4,2) with radius 8\n"
     ]
    }
   ],
   "source": [
    "c1.move_to(0,0)\n",
    "t2.move_to(-4,2)\n",
    "print(c1)\n",
    "print(c2)"
   ]
  },
  {
   "cell_type": "code",
   "execution_count": 17,
   "metadata": {},
   "outputs": [
    {
     "name": "stdout",
     "output_type": "stream",
     "text": [
      "-2.0 1.0\n"
     ]
    }
   ],
   "source": [
    "mid_x,mid_y = r1.half_way(c2) \n",
    "print(mid_x,mid_y)"
   ]
  },
  {
   "cell_type": "code",
   "execution_count": 18,
   "metadata": {},
   "outputs": [
    {
     "name": "stdout",
     "output_type": "stream",
     "text": [
      "4.47213595499958\n"
     ]
    }
   ],
   "source": [
    "print(c1.distance(t2))"
   ]
  },
  {
   "cell_type": "code",
   "execution_count": 19,
   "metadata": {},
   "outputs": [
    {
     "name": "stdout",
     "output_type": "stream",
     "text": [
      "(-4, 2)\n"
     ]
    }
   ],
   "source": [
    "print(t2.get_center())"
   ]
  },
  {
   "cell_type": "markdown",
   "metadata": {},
   "source": [
    "## Operations between geometric shapes"
   ]
  },
  {
   "cell_type": "markdown",
   "metadata": {},
   "source": [
    "Operation between geometric shapes are implemented as requested:\n",
    "- the sum of two objects of the same class returns a new object with the parameters (e.g. radius in the case of a circle, base and height for a rectangle, ...) summed one by one. In addition, the center of the new object is the middle point between the centers of the two objects;\n",
    "- the sum of an object with a number returns a new object with the parameters equal to the parameters of the original object, plus the number. In this case, the center of the new object is the same as the original object;\n",
    "- the difference, product, and division between two objects or between an object and a number work similarly;\n",
    "- the same is true for the power of an objet elevated to a number;\n",
    "- the power of an object elevated to another object is not accepted."
   ]
  },
  {
   "cell_type": "markdown",
   "metadata": {},
   "source": [
    "<span style=\"color:red\">Important</span>: it is not possible to operate on objects of different classes."
   ]
  },
  {
   "cell_type": "markdown",
   "metadata": {},
   "source": [
    "### Some examples"
   ]
  },
  {
   "cell_type": "code",
   "execution_count": 20,
   "metadata": {},
   "outputs": [
    {
     "name": "stdout",
     "output_type": "stream",
     "text": [
      "A Circle centered at (0,0) with radius 10\n",
      "A Circle centered at (-4,2) with radius 8\n",
      "A Circle centered at (-2.0,1.0) with radius 18\n"
     ]
    }
   ],
   "source": [
    "print(c1)\n",
    "print(c2)\n",
    "c3 = c1 + c2\n",
    "print(c3)"
   ]
  },
  {
   "cell_type": "code",
   "execution_count": 21,
   "metadata": {},
   "outputs": [
    {
     "name": "stdout",
     "output_type": "stream",
     "text": [
      "A Rectangle centered at (0,0) with base 12 and height 10\n",
      "A Rectangle centered at (0.0,0.0) with base 19 and height 17\n"
     ]
    }
   ],
   "source": [
    "print(r1)\n",
    "r3 = r1 + 7\n",
    "print(r3)"
   ]
  },
  {
   "cell_type": "code",
   "execution_count": 22,
   "metadata": {},
   "outputs": [
    {
     "name": "stdout",
     "output_type": "stream",
     "text": [
      "A Triangle centered at (0,0) with sides of length: 6, 8, 10\n",
      "A Triangle centered at (-4,2) with sides of length: 3, 4, 5\n",
      "A Triangle centered at (-2.0,1.0) with sides of length: 3, 4, 5\n"
     ]
    }
   ],
   "source": [
    "print(t1)\n",
    "print(t2)\n",
    "t3 = t1 - t2\n",
    "print(t3)"
   ]
  },
  {
   "cell_type": "code",
   "execution_count": 23,
   "metadata": {},
   "outputs": [
    {
     "name": "stdout",
     "output_type": "stream",
     "text": [
      "A Circle centered at (0,0) with radius 10\n",
      "A Circle centered at (0.0,0.0) with radius 6\n"
     ]
    }
   ],
   "source": [
    "print(c1)\n",
    "c4 = c1 - 4\n",
    "print(c4)"
   ]
  },
  {
   "cell_type": "code",
   "execution_count": 24,
   "metadata": {},
   "outputs": [
    {
     "name": "stdout",
     "output_type": "stream",
     "text": [
      "A Rectangle centered at (5,11) with base 4 and height 6\n",
      "A Rectangle centered at (5,11) with base 11 and height 9\n"
     ]
    }
   ],
   "source": [
    "print(r2)\n",
    "r4 = 15 - r2\n",
    "print(r4)"
   ]
  },
  {
   "cell_type": "code",
   "execution_count": 25,
   "metadata": {},
   "outputs": [
    {
     "name": "stdout",
     "output_type": "stream",
     "text": [
      "A Triangle centered at (0,0) with sides of length: 6, 8, 10\n",
      "A Triangle centered at (-4,2) with sides of length: 3, 4, 5\n",
      "A Triangle centered at (-2.0,1.0) with sides of length: 18, 32, 50\n"
     ]
    }
   ],
   "source": [
    "print(t1)\n",
    "print(t2)\n",
    "t4 = t1 * t2\n",
    "print(t4)"
   ]
  },
  {
   "cell_type": "code",
   "execution_count": 26,
   "metadata": {},
   "outputs": [
    {
     "name": "stdout",
     "output_type": "stream",
     "text": [
      "A Circle centered at (0,0) with radius 10\n",
      "A Circle centered at (0,0) with radius 2.0\n"
     ]
    }
   ],
   "source": [
    "print(c1)\n",
    "c5 = 20 / c1\n",
    "print(c5)"
   ]
  },
  {
   "cell_type": "code",
   "execution_count": 53,
   "metadata": {},
   "outputs": [
    {
     "name": "stdout",
     "output_type": "stream",
     "text": [
      "A Rectangle centered at (0,0) with base 12 and height 10\n",
      "A Rectangle centered at (0.0,0.0) with base 6.0 and height 5.0\n"
     ]
    }
   ],
   "source": [
    "print(r1)\n",
    "r5 = r1 / 2\n",
    "print(r5)"
   ]
  },
  {
   "cell_type": "code",
   "execution_count": 56,
   "metadata": {},
   "outputs": [
    {
     "name": "stdout",
     "output_type": "stream",
     "text": [
      "A Triangle centered at (0,0) with sides of length: 6, 8, 10\n",
      "A Triangle centered at (0,0) with sides of length: 36, 64, 100\n"
     ]
    }
   ],
   "source": [
    "print(t1)\n",
    "t5 = t1 ** 2\n",
    "print(t5)"
   ]
  },
  {
   "cell_type": "markdown",
   "metadata": {},
   "source": [
    "### Some exceptions\n"
   ]
  },
  {
   "cell_type": "markdown",
   "metadata": {},
   "source": [
    "Some exceptions have been implemented to guide the user in case some object are wrongly istantiated or some operations give a non-geometric result:\n",
    "- A _ValueError_ is raised if the object is created with negative values for some attributes (radius, length of a side, ...);\n",
    "- A *TypeError* is raised if we try to operate on two objects of different classes or when we try to elevate an object to another object;\n",
    "- A _ValueError_ is issued also when the result of an operation gives a non-geometric result, namely if some of the attributes in the resulting object are negative;\n",
    "- In the specific case of triangles, a *ValueError* is produced if one of the sides is larger than the sum of the other two.\n"
   ]
  },
  {
   "cell_type": "code",
   "execution_count": 28,
   "metadata": {},
   "outputs": [
    {
     "ename": "ValueError",
     "evalue": "Radius must have a positive value",
     "output_type": "error",
     "traceback": [
      "\u001b[0;31m---------------------------------------------------------------------------\u001b[0m",
      "\u001b[0;31mValueError\u001b[0m                                Traceback (most recent call last)",
      "\u001b[0;32m<ipython-input-28-bbf6d23a1eb2>\u001b[0m in \u001b[0;36m<module>\u001b[0;34m\u001b[0m\n\u001b[0;32m----> 1\u001b[0;31m \u001b[0merr1\u001b[0m \u001b[0;34m=\u001b[0m \u001b[0mCircle\u001b[0m\u001b[0;34m(\u001b[0m\u001b[0;36m0\u001b[0m\u001b[0;34m,\u001b[0m\u001b[0;36m0\u001b[0m\u001b[0;34m,\u001b[0m\u001b[0;34m-\u001b[0m\u001b[0;36m4\u001b[0m\u001b[0;34m)\u001b[0m\u001b[0;34m\u001b[0m\u001b[0;34m\u001b[0m\u001b[0m\n\u001b[0m",
      "\u001b[0;32m~/DataScienceMaster/ModelosDeDatos/FormasGeometricas/Shapes.py\u001b[0m in \u001b[0;36m__init__\u001b[0;34m(self, x, y, radius)\u001b[0m\n\u001b[1;32m    271\u001b[0m         \u001b[0msuper\u001b[0m\u001b[0;34m(\u001b[0m\u001b[0;34m)\u001b[0m\u001b[0;34m.\u001b[0m\u001b[0m__init__\u001b[0m\u001b[0;34m(\u001b[0m\u001b[0mx\u001b[0m\u001b[0;34m,\u001b[0m\u001b[0my\u001b[0m\u001b[0;34m)\u001b[0m\u001b[0;34m\u001b[0m\u001b[0;34m\u001b[0m\u001b[0m\n\u001b[1;32m    272\u001b[0m         \u001b[0;32mif\u001b[0m \u001b[0mradius\u001b[0m \u001b[0;34m<=\u001b[0m \u001b[0;36m0\u001b[0m\u001b[0;34m:\u001b[0m\u001b[0;34m\u001b[0m\u001b[0;34m\u001b[0m\u001b[0m\n\u001b[0;32m--> 273\u001b[0;31m             \u001b[0;32mraise\u001b[0m \u001b[0mValueError\u001b[0m\u001b[0;34m(\u001b[0m\u001b[0;34m\"Radius must have a positive value\"\u001b[0m\u001b[0;34m)\u001b[0m\u001b[0;34m\u001b[0m\u001b[0;34m\u001b[0m\u001b[0m\n\u001b[0m\u001b[1;32m    274\u001b[0m         \u001b[0;32melse\u001b[0m\u001b[0;34m:\u001b[0m\u001b[0;34m\u001b[0m\u001b[0;34m\u001b[0m\u001b[0m\n\u001b[1;32m    275\u001b[0m             \u001b[0mself\u001b[0m\u001b[0;34m.\u001b[0m\u001b[0m_radius\u001b[0m \u001b[0;34m=\u001b[0m \u001b[0mradius\u001b[0m\u001b[0;34m\u001b[0m\u001b[0;34m\u001b[0m\u001b[0m\n",
      "\u001b[0;31mValueError\u001b[0m: Radius must have a positive value"
     ]
    }
   ],
   "source": [
    "err1 = Circle(0,0,-4)"
   ]
  },
  {
   "cell_type": "code",
   "execution_count": null,
   "metadata": {},
   "outputs": [],
   "source": [
    "err2 = Rectangle(4,-12,8,-1)"
   ]
  },
  {
   "cell_type": "code",
   "execution_count": null,
   "metadata": {},
   "outputs": [],
   "source": [
    "err3 = Triangle(-8,-2,-1,4,10)"
   ]
  },
  {
   "cell_type": "code",
   "execution_count": null,
   "metadata": {},
   "outputs": [],
   "source": [
    "err4 = Triangle(1,2,3,4,15)"
   ]
  },
  {
   "cell_type": "code",
   "execution_count": null,
   "metadata": {},
   "outputs": [],
   "source": [
    "err5 = c1 + r1"
   ]
  },
  {
   "cell_type": "code",
   "execution_count": null,
   "metadata": {},
   "outputs": [],
   "source": [
    "err6 = c1 - 20"
   ]
  },
  {
   "cell_type": "code",
   "execution_count": null,
   "metadata": {},
   "outputs": [],
   "source": [
    "err7 = 1 - r2"
   ]
  },
  {
   "cell_type": "markdown",
   "metadata": {},
   "source": [
    "## Objects attributes"
   ]
  },
  {
   "cell_type": "markdown",
   "metadata": {},
   "source": [
    "The methods area() and perimeter() allow to get the corresponding attributes of a figure."
   ]
  },
  {
   "cell_type": "code",
   "execution_count": null,
   "metadata": {},
   "outputs": [],
   "source": [
    "print(c1)\n",
    "print(\"c1 area is\",c1.area())\n",
    "print(\"c1 perimeter is\",c1.perimeter())"
   ]
  },
  {
   "cell_type": "code",
   "execution_count": null,
   "metadata": {},
   "outputs": [],
   "source": [
    "print(r1)\n",
    "print(\"r1 area is\",r1.area())\n",
    "print(\"r1 perimeter is\",r1.perimeter())"
   ]
  },
  {
   "cell_type": "code",
   "execution_count": null,
   "metadata": {},
   "outputs": [],
   "source": [
    "print(t1)\n",
    "print(\"t1 area is\",t1.area())\n",
    "print(\"t1 perimeter is\",t1.perimeter())"
   ]
  },
  {
   "cell_type": "markdown",
   "metadata": {},
   "source": [
    "The areas can be compared directly using the corresponding methods."
   ]
  },
  {
   "cell_type": "code",
   "execution_count": null,
   "metadata": {},
   "outputs": [],
   "source": [
    "print(r1.area())\n",
    "print(t1.area())\n",
    "print()\n",
    "\n",
    "print(r1 == t1)\n",
    "print(r1 != t1)\n",
    "print(r1 > t1)\n",
    "print(r1 < t1)\n",
    "print(r1 >= t1)\n",
    "print(r1 <= t1)"
   ]
  },
  {
   "cell_type": "markdown",
   "metadata": {},
   "source": [
    "The areas can also be directly compared with numbers."
   ]
  },
  {
   "cell_type": "code",
   "execution_count": null,
   "metadata": {},
   "outputs": [],
   "source": [
    "print(r1.area())\n",
    "print()\n",
    "\n",
    "print(r1 == 120)\n",
    "print(r1 != 120)\n",
    "print()\n",
    "\n",
    "print(r1 <= 120)\n",
    "print(r1 >= 120)\n",
    "print()\n",
    "\n",
    "print(r1 <= 500)\n",
    "print(r1 >= 500)\n",
    "print()\n",
    "\n",
    "print(500 < r1)\n",
    "print(120 == r1)"
   ]
  },
  {
   "cell_type": "markdown",
   "metadata": {},
   "source": [
    "Additionally, specific methods give access to all the attributes of a figure:\n",
    "- Circle: \n",
    "    - get_radius; \n",
    "    - set_radius;\n",
    "- Rectangle: \n",
    "    - get_base;\n",
    "    - get_height;\n",
    "    - set_base;\n",
    "    - set_height;\n",
    "- Triangle:\n",
    "    - get_side1;\n",
    "    - get_side2;\n",
    "    - get_side3;\n",
    "    - set_side1;\n",
    "    - set_side2;\n",
    "    - set_side3.    "
   ]
  },
  {
   "cell_type": "code",
   "execution_count": null,
   "metadata": {},
   "outputs": [],
   "source": [
    "print(c1)\n",
    "print()\n",
    "\n",
    "print(c1.get_center())\n",
    "print(c1.get_radius())\n",
    "\n",
    "c1.move_to(2,4)\n",
    "c1.set_radius(12)\n",
    "\n",
    "print(c1)"
   ]
  },
  {
   "cell_type": "code",
   "execution_count": null,
   "metadata": {},
   "outputs": [],
   "source": [
    "print(r1)\n",
    "print()\n",
    "\n",
    "print(r1.get_center())\n",
    "print(r1.get_base())\n",
    "print(r1.get_height())\n",
    "\n",
    "r1.move_to(2,4)\n",
    "r1.set_base(12)\n",
    "r1.set_height(20)\n",
    "\n",
    "print(r1)"
   ]
  },
  {
   "cell_type": "code",
   "execution_count": null,
   "metadata": {},
   "outputs": [],
   "source": [
    "print(t1)\n",
    "print()\n",
    "\n",
    "print(t1.get_center())\n",
    "print(t1.get_side1())\n",
    "print(t1.get_side2())\n",
    "print(t1.get_side3())\n",
    "\n",
    "t1.move_to(2,4)\n",
    "t1.set_side1(12)\n",
    "t1.set_side2(20)\n",
    "t1.set_side3(18)\n",
    "\n",
    "print(t1)"
   ]
  },
  {
   "cell_type": "markdown",
   "metadata": {},
   "source": [
    "By defining such methods, I tried to avoid a direct access to the attributes of the figures, which are *private* variables.\n",
    "\n",
    "This is particularly important for variables as the radius of a circle or the sides of a polygon, since they cannot assume negative values.\n",
    "\n",
    "In fact, a protection against negative values for the radius, for example, is implemented in set_radius() as a ValueError, but is not present in case the radius is accessed directly."
   ]
  },
  {
   "cell_type": "markdown",
   "metadata": {},
   "source": [
    "Trying to access the radius of a circle:"
   ]
  },
  {
   "cell_type": "code",
   "execution_count": 61,
   "metadata": {},
   "outputs": [
    {
     "ename": "AttributeError",
     "evalue": "'Circle' object has no attribute 'radius'",
     "output_type": "error",
     "traceback": [
      "\u001b[0;31m---------------------------------------------------------------------------\u001b[0m",
      "\u001b[0;31mAttributeError\u001b[0m                            Traceback (most recent call last)",
      "\u001b[0;32m<ipython-input-61-c17d7b693e8d>\u001b[0m in \u001b[0;36m<module>\u001b[0;34m\u001b[0m\n\u001b[0;32m----> 1\u001b[0;31m \u001b[0mc1\u001b[0m\u001b[0;34m.\u001b[0m\u001b[0mradius\u001b[0m\u001b[0;34m\u001b[0m\u001b[0;34m\u001b[0m\u001b[0m\n\u001b[0m",
      "\u001b[0;31mAttributeError\u001b[0m: 'Circle' object has no attribute 'radius'"
     ]
    }
   ],
   "source": [
    "c1.radius"
   ]
  },
  {
   "cell_type": "markdown",
   "metadata": {},
   "source": [
    "Now it works, but the fact that the name of the variable is \\_base represents a warning: it should not be directly modified or used:"
   ]
  },
  {
   "cell_type": "code",
   "execution_count": 62,
   "metadata": {},
   "outputs": [
    {
     "data": {
      "text/plain": [
       "-12"
      ]
     },
     "execution_count": 62,
     "metadata": {},
     "output_type": "execute_result"
    }
   ],
   "source": [
    "c1._radius"
   ]
  },
  {
   "cell_type": "markdown",
   "metadata": {},
   "source": [
    "And in fact, if we do not pay too much attention:"
   ]
  },
  {
   "cell_type": "code",
   "execution_count": 63,
   "metadata": {},
   "outputs": [
    {
     "data": {
      "text/plain": [
       "-75.39822368615503"
      ]
     },
     "execution_count": 63,
     "metadata": {},
     "output_type": "execute_result"
    }
   ],
   "source": [
    "c1._radius = -12\n",
    "c1.perimeter()"
   ]
  }
 ],
 "metadata": {
  "kernelspec": {
   "display_name": "Python 3",
   "language": "python",
   "name": "python3"
  },
  "language_info": {
   "codemirror_mode": {
    "name": "ipython",
    "version": 3
   },
   "file_extension": ".py",
   "mimetype": "text/x-python",
   "name": "python",
   "nbconvert_exporter": "python",
   "pygments_lexer": "ipython3",
   "version": "3.7.3"
  }
 },
 "nbformat": 4,
 "nbformat_minor": 2
}
