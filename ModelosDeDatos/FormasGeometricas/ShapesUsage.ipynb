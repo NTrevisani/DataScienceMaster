{
 "cells": [
  {
   "cell_type": "markdown",
   "metadata": {},
   "source": [
    "# Object-oriented programming exercise"
   ]
  },
  {
   "cell_type": "code",
   "execution_count": 1,
   "metadata": {},
   "outputs": [],
   "source": [
    "#import importlib\n",
    "\n",
    "#importlib.reload(Shapes)\n",
    "\n",
    "from Shapes import Shape, Point, Circle, Rectangle, Triangle"
   ]
  },
  {
   "cell_type": "code",
   "execution_count": 2,
   "metadata": {},
   "outputs": [
    {
     "name": "stdout",
     "output_type": "stream",
     "text": [
      "The module allows to create and manage geometrical shapes.\n"
     ]
    }
   ],
   "source": [
    "%run Shapes.py"
   ]
  },
  {
   "cell_type": "markdown",
   "metadata": {},
   "source": [
    "Let's define pairs of basic objects, to show how they work.\n",
    "- Point: this class directly inherits from Shape and is used to represent the _center_ of the other geometric figures;\n",
    "- Circle, Rectangle, and Triangle: inherit from Point and are the actual two-dimensional shapes we want.\n",
    "\n",
    "The *mother* class, Shape, is almost exclusively used as a support for the other classes that inherit from it. There, all the methods (e.g. area, perimeter, ...) rise a NotImplementedError, to force the _children_ classes to explicitly define them, with few exceptions:\n",
    "- \\_\\_radd_\\_;\n",
    "- \\_\\_rmul_\\_;\n",
    "- \\_\\_eq_\\_.\n",
    "\n",
    "These methods are in fact special, since \\_\\_radd_\\_ and \\_\\_rmul_\\_ are the _reverse_ sum and product, so they just revert the order of \\_\\_add_\\_ and \\_\\_mul_\\_, specifically defined in each child class. \n",
    "\n",
    "It is not the same for methods as \\_\\_rsub_\\_ and \\_\\_rtruedivide_\\_, since the associated operations (subraction and division) are not commutative and I did not find a sensible way to implement them in a general way for all the shapes.\n",
    "In this case, both the operation (e.g. \\_\\_sub_\\_) and its *reverse* (e.g. \\_\\_rsub_\\_) are defined in the children classes.\n",
    "\n",
    "\\_\\_eq_\\_, on the other hand, defines when two figures are considered equal, in our case when they have the same area."
   ]
  },
  {
   "cell_type": "code",
   "execution_count": 3,
   "metadata": {},
   "outputs": [
    {
     "name": "stdout",
     "output_type": "stream",
     "text": [
      "A Point with coordinates (0,0)\n",
      "Point(0,0)\n",
      "\n",
      "A Point with coordinates (10,10)\n",
      "Point(10,10)\n"
     ]
    }
   ],
   "source": [
    "# Defining two points\n",
    "\n",
    "p1 = Point(0,0)\n",
    "print(p1)\n",
    "print(repr(p1))\n",
    "print()\n",
    "\n",
    "p2 = Point(10,10)\n",
    "print(p2)\n",
    "print(repr(p2))"
   ]
  },
  {
   "cell_type": "code",
   "execution_count": 4,
   "metadata": {},
   "outputs": [
    {
     "name": "stdout",
     "output_type": "stream",
     "text": [
      "A Circle centered at (0,0) with radius 10\n",
      "Circle(0,0,10)\n",
      "\n",
      "A Circle centered at (-4,2) with radius 8\n",
      "Circle(-4,2,8)\n"
     ]
    }
   ],
   "source": [
    "# Defining two circles\n",
    "\n",
    "c1 = Circle(0,0,10)\n",
    "print(c1)\n",
    "print(repr(c1))\n",
    "print()\n",
    "\n",
    "c2 = Circle(-4,2,8)\n",
    "print(c2)\n",
    "print(repr(c2))"
   ]
  },
  {
   "cell_type": "code",
   "execution_count": 5,
   "metadata": {},
   "outputs": [
    {
     "name": "stdout",
     "output_type": "stream",
     "text": [
      "A Triangle centered at (0,0) with 3 sides of length: 6, 8, 10\n",
      "Triangle(0,0,6,8,10)\n",
      "\n",
      "A Triangle centered at (5,7) with 3 sides of length: 3, 4, 5\n",
      "Triangle(5,7,3,4,5)\n"
     ]
    }
   ],
   "source": [
    "# Defining two triangles\n",
    "\n",
    "t1 = Triangle(0,0,6,8,10)\n",
    "print(t1)\n",
    "print(repr(t1))\n",
    "print()\n",
    "\n",
    "t2 = Triangle(5,7,3,4,5)\n",
    "print(t2)\n",
    "print(repr(t2))"
   ]
  },
  {
   "cell_type": "code",
   "execution_count": 6,
   "metadata": {},
   "outputs": [
    {
     "name": "stdout",
     "output_type": "stream",
     "text": [
      "A Rectangle centered at (0,0) with base 12 and height 10\n",
      "Rectangle(0,0,12,10)\n",
      "\n",
      "A Rectangle centered at (5,11) with base 4 and height 6\n",
      "Rectangle(5,11,4,6)\n"
     ]
    }
   ],
   "source": [
    "# Defining two rectangles\n",
    "\n",
    "r1 = Rectangle(0,0,12,10)\n",
    "print(r1)\n",
    "print(repr(r1))\n",
    "print()\n",
    "\n",
    "r2 = Rectangle(5,11,4,6)\n",
    "print(r2)\n",
    "print(repr(r2))"
   ]
  },
  {
   "cell_type": "markdown",
   "metadata": {},
   "source": [
    "## Repr and str"
   ]
  },
  {
   "cell_type": "markdown",
   "metadata": {},
   "source": [
    "Together with the definition of the geometric shapes, their _printable_ version and their representation have been shown.\n",
    "\n",
    "In particular,  \\_\\_str_\\_ has been implemented in order to return a human-readable description of the object (e.g. 'A Rectangle centered at (0,0) with base 12 and height 10'), while \\_\\_repr_\\_ gives a more formal output ('Rectangle(0,0,12,10)'), the same used in the code to define the object itself."
   ]
  },
  {
   "cell_type": "markdown",
   "metadata": {},
   "source": [
    "## Some operations between points"
   ]
  },
  {
   "cell_type": "markdown",
   "metadata": {},
   "source": [
    "The basic methods implemented for points and inherited by the other figures are:\n",
    "- move_along_x: moves the point along x;\n",
    "- move_along_y: moves the point along y;\n",
    "- set_x: sets the x value of the point to a new value;\n",
    "- set_y: sets the y value of the point to a new value;\n",
    "- move_to: moves the point to a new pair of coordinates;\n",
    "- half_way: returns the x and the y (as two separate numbers!) of the middle point between two Point objects;\n",
    "- distance: returns the distance between two points;\n",
    "- get_center: returns the coordinates of the point;\n",
    "- get_x: returns the x coordinate of the point;\n",
    "- get_y: returns the y coordinate of the point."
   ]
  },
  {
   "cell_type": "code",
   "execution_count": 20,
   "metadata": {},
   "outputs": [
    {
     "name": "stdout",
     "output_type": "stream",
     "text": [
      "A Point with coordinates (0,0)\n",
      "A Point with coordinates (10,0)\n",
      "\n",
      "A Point with coordinates (10,10)\n",
      "A Point with coordinates (10,20)\n",
      "\n",
      "A Point with coordinates (10,0)\n",
      "A Point with coordinates (15,0)\n",
      "x: 15\n",
      "\n",
      "A Point with coordinates (10,20)\n",
      "A Point with coordinates (10,12)\n",
      "y: 12\n",
      "\n",
      "A Point with coordinates (0,0)\n",
      "A Point with coordinates (10,10)\n",
      "\n",
      "5.0 5.0\n",
      "\n",
      "14.142135623730951\n",
      "\n"
     ]
    }
   ],
   "source": [
    "print(p1)\n",
    "p1.move_along_x(10)\n",
    "print(p1)\n",
    "print()\n",
    "\n",
    "print(p2)\n",
    "p2.move_along_y(10)\n",
    "print(p2)\n",
    "print()\n",
    "\n",
    "print(p1)\n",
    "p1.set_x(15)\n",
    "print(p1)\n",
    "print(\"x:\",p1.get_x())\n",
    "print()\n",
    "\n",
    "print(p2)\n",
    "p2.set_y(12)\n",
    "print(p2)\n",
    "print(\"y:\",p2.get_y())\n",
    "print()\n",
    "\n",
    "p1.move_to(0,0)\n",
    "p2.move_to(10,10)\n",
    "print(p1)\n",
    "print(p2)\n",
    "print()\n",
    "\n",
    "mid_x,mid_y = p1.half_way(p2) \n",
    "print(mid_x,mid_y)\n",
    "print()\n",
    "\n",
    "print(p1.distance(p2))\n",
    "print()"
   ]
  },
  {
   "cell_type": "markdown",
   "metadata": {},
   "source": [
    "The methods work also for the classes that inherit from Point:"
   ]
  },
  {
   "cell_type": "code",
   "execution_count": 21,
   "metadata": {},
   "outputs": [
    {
     "name": "stdout",
     "output_type": "stream",
     "text": [
      "A Circle centered at (0,0) with radius 10\n",
      "A Circle centered at (10,0) with radius 10\n",
      "\n",
      "A Circle centered at (-4,2) with radius 8\n",
      "A Circle centered at (-4,12) with radius 8\n",
      "\n",
      "A Circle centered at (0,0) with radius 10\n",
      "A Circle centered at (-4,2) with radius 8\n",
      "\n",
      "-2.0 1.0\n",
      "\n",
      "8.602325267042627\n"
     ]
    }
   ],
   "source": [
    "print(c1)\n",
    "c1.move_along_x(10)\n",
    "print(c1)\n",
    "print()\n",
    "\n",
    "print(c2)\n",
    "c2.move_along_y(10)\n",
    "print(c2)\n",
    "print()\n",
    "\n",
    "c1.move_to(0,0)\n",
    "c2.move_to(-4,2)\n",
    "print(c1)\n",
    "print(c2)\n",
    "print()\n",
    "\n",
    "mid_x,mid_y = c1.half_way(c2) \n",
    "print(mid_x,mid_y)\n",
    "print()\n",
    "\n",
    "print(c1.distance(t2))"
   ]
  },
  {
   "cell_type": "markdown",
   "metadata": {},
   "source": [
    "## Operations between geometric shapes"
   ]
  },
  {
   "cell_type": "markdown",
   "metadata": {},
   "source": [
    "Operation between geometric shapes are implemented as requested:\n",
    "- the sum of two objects of the same class returns a new object with the parameters (e.g. radius in the case of a circle, base and height for a rectangle, ...) summed one by one. In addition, the center of the new object is the middle point between the centers of the two objects;\n",
    "- the sum of an object with a number returns a new object with the parameters equal to the parameters of the original object, plus the number. In this case, the center of the new object is the same as the original object.\n",
    "- The difference between two objects or between an object and a number works similarly.\n"
   ]
  },
  {
   "cell_type": "markdown",
   "metadata": {},
   "source": [
    "### Circles"
   ]
  },
  {
   "cell_type": "code",
   "execution_count": 24,
   "metadata": {},
   "outputs": [
    {
     "name": "stdout",
     "output_type": "stream",
     "text": [
      "A Circle centered at (0,0) with radius 10\n",
      "A Circle centered at (-4,2) with radius 8\n",
      "A Circle centered at (-2.0,1.0) with radius 18\n",
      "\n",
      "A Circle centered at (0.0,0.0) with radius 17\n",
      "\n",
      "A Circle centered at (-2.0,1.0) with radius 2\n",
      "\n",
      "A Circle centered at (0.0,0.0) with radius 6\n",
      "\n",
      "A Circle centered at (-4,2) with radius 7\n",
      "\n",
      "A Circle centered at (-2.0,1.0) with radius 80\n",
      "\n"
     ]
    }
   ],
   "source": [
    "print(c1)\n",
    "print(c2)\n",
    "c3 = c1 + c2\n",
    "print(c3)\n",
    "print()\n",
    "\n",
    "c4 = c1 + 7\n",
    "print(c4)\n",
    "print()\n",
    "\n",
    "c5 = c1 - c2\n",
    "print(c5)\n",
    "print()\n",
    "\n",
    "c6 = c1 - 4\n",
    "print(c6)\n",
    "print()\n",
    "\n",
    "c7 = 15 - c2\n",
    "print(c7)\n",
    "print()\n",
    "\n",
    "c8 = c1 * c2\n",
    "print(c8)\n",
    "print()\n"
   ]
  },
  {
   "cell_type": "markdown",
   "metadata": {},
   "source": [
    "### Rectangles"
   ]
  },
  {
   "cell_type": "code",
   "execution_count": 10,
   "metadata": {},
   "outputs": [
    {
     "name": "stdout",
     "output_type": "stream",
     "text": [
      "A Rectangle centered at (0,0) with base 12 and height 10\n",
      "A Rectangle centered at (5,11) with base 4 and height 6\n",
      "A Rectangle centered at (2.5,5.5) with base 16 and height 16\n",
      "\n",
      "A Rectangle centered at (0.0,0.0) with base 19 and height 17\n",
      "\n",
      "A Rectangle centered at (2.5,5.5) with base 8 and height 4\n",
      "\n",
      "A Rectangle centered at (0.0,0.0) with base 8 and height 6\n"
     ]
    }
   ],
   "source": [
    "print(r1)\n",
    "print(r2)\n",
    "r3 = r1 + r2\n",
    "print(r3)\n",
    "print()\n",
    "\n",
    "r4 = r1 + 7\n",
    "print(r4)\n",
    "print()\n",
    "\n",
    "r5 = r1 - r2\n",
    "print(r5)\n",
    "print()\n",
    "\n",
    "r6 = r1 - 4\n",
    "print(r6)"
   ]
  },
  {
   "cell_type": "markdown",
   "metadata": {},
   "source": [
    "### Triangles"
   ]
  },
  {
   "cell_type": "code",
   "execution_count": 11,
   "metadata": {},
   "outputs": [
    {
     "name": "stdout",
     "output_type": "stream",
     "text": [
      "A Triangle centered at (0,0) with 3 sides of length: 6, 8, 10\n",
      "A Triangle centered at (5,7) with 3 sides of length: 3, 4, 5\n",
      "A Triangle centered at (2.5,3.5) with 3 sides of length: 9, 12, 15\n",
      "\n",
      "A Triangle centered at (0.0,0.0) with 3 sides of length: 13, 15, 17\n",
      "\n",
      "A Triangle centered at (2.5,3.5) with 3 sides of length: 3, 4, 5\n",
      "\n",
      "A Triangle centered at (0.0,0.0) with 3 sides of length: 2, 4, 6\n"
     ]
    }
   ],
   "source": [
    "print(t1)\n",
    "print(t2)\n",
    "t3 = t1 + t2\n",
    "print(t3)\n",
    "print()\n",
    "\n",
    "t4 = t1 + 7\n",
    "print(t4)\n",
    "print()\n",
    "\n",
    "t5 = t1 - t2\n",
    "print(t5)\n",
    "print()\n",
    "\n",
    "t6 = t1 - 4\n",
    "print(t6)"
   ]
  },
  {
   "cell_type": "markdown",
   "metadata": {},
   "source": [
    "### Some errors\n"
   ]
  },
  {
   "cell_type": "markdown",
   "metadata": {},
   "source": [
    "Some errors have been implemented to guide the user in case some object are wrongly istantiated or some operations give a non-geometric result:\n",
    "- A _ValueError_ is raised if the object is created with negative values for some attributes (radius, length of a side, ...);\n",
    "- It is not possible to sum or subract objects of different shape (e.g. the sum of a circle and a triangle is not permitted). In this case, a *TypeError* is raised;\n",
    "- A _ValueError_ is issued also when the result of an operation gives a non-geometric result, namely if some of the attributes in the resulting object are negative;\n",
    "- In the specific case of triangles, a *ValueError* is produced if one of the sides is larger than the sum of the other two.\n"
   ]
  },
  {
   "cell_type": "code",
   "execution_count": 12,
   "metadata": {},
   "outputs": [
    {
     "ename": "ValueError",
     "evalue": "Radius must have a positive value",
     "output_type": "error",
     "traceback": [
      "\u001b[0;31m---------------------------------------------------------------------------\u001b[0m",
      "\u001b[0;31mValueError\u001b[0m                                Traceback (most recent call last)",
      "\u001b[0;32m<ipython-input-12-bbf6d23a1eb2>\u001b[0m in \u001b[0;36m<module>\u001b[0;34m\u001b[0m\n\u001b[0;32m----> 1\u001b[0;31m \u001b[0merr1\u001b[0m \u001b[0;34m=\u001b[0m \u001b[0mCircle\u001b[0m\u001b[0;34m(\u001b[0m\u001b[0;36m0\u001b[0m\u001b[0;34m,\u001b[0m\u001b[0;36m0\u001b[0m\u001b[0;34m,\u001b[0m\u001b[0;34m-\u001b[0m\u001b[0;36m4\u001b[0m\u001b[0;34m)\u001b[0m\u001b[0;34m\u001b[0m\u001b[0;34m\u001b[0m\u001b[0m\n\u001b[0m",
      "\u001b[0;32m~/DataScienceMaster/ModelosDeDatos/FormasGeometricas/Shapes.py\u001b[0m in \u001b[0;36m__init__\u001b[0;34m(self, x, y, radius)\u001b[0m\n\u001b[1;32m    180\u001b[0m         \u001b[0msuper\u001b[0m\u001b[0;34m(\u001b[0m\u001b[0;34m)\u001b[0m\u001b[0;34m.\u001b[0m\u001b[0m__init__\u001b[0m\u001b[0;34m(\u001b[0m\u001b[0mx\u001b[0m\u001b[0;34m,\u001b[0m\u001b[0my\u001b[0m\u001b[0;34m)\u001b[0m\u001b[0;34m\u001b[0m\u001b[0;34m\u001b[0m\u001b[0m\n\u001b[1;32m    181\u001b[0m         \u001b[0;32mif\u001b[0m \u001b[0mradius\u001b[0m \u001b[0;34m<=\u001b[0m \u001b[0;36m0\u001b[0m\u001b[0;34m:\u001b[0m\u001b[0;34m\u001b[0m\u001b[0;34m\u001b[0m\u001b[0m\n\u001b[0;32m--> 182\u001b[0;31m             \u001b[0;32mraise\u001b[0m \u001b[0mValueError\u001b[0m\u001b[0;34m(\u001b[0m\u001b[0;34m\"Radius must have a positive value\"\u001b[0m\u001b[0;34m)\u001b[0m\u001b[0;34m\u001b[0m\u001b[0;34m\u001b[0m\u001b[0m\n\u001b[0m\u001b[1;32m    183\u001b[0m         \u001b[0;32melse\u001b[0m\u001b[0;34m:\u001b[0m\u001b[0;34m\u001b[0m\u001b[0;34m\u001b[0m\u001b[0m\n\u001b[1;32m    184\u001b[0m             \u001b[0mself\u001b[0m\u001b[0;34m.\u001b[0m\u001b[0mradius\u001b[0m \u001b[0;34m=\u001b[0m \u001b[0mradius\u001b[0m\u001b[0;34m\u001b[0m\u001b[0;34m\u001b[0m\u001b[0m\n",
      "\u001b[0;31mValueError\u001b[0m: Radius must have a positive value"
     ]
    }
   ],
   "source": [
    "err1 = Circle(0,0,-4)"
   ]
  },
  {
   "cell_type": "code",
   "execution_count": null,
   "metadata": {},
   "outputs": [],
   "source": [
    "err2 = Rectangle(4,-12,8,-1)"
   ]
  },
  {
   "cell_type": "code",
   "execution_count": null,
   "metadata": {},
   "outputs": [],
   "source": [
    "err3 = Triangle(-8,-2,-1,4,10)"
   ]
  },
  {
   "cell_type": "code",
   "execution_count": null,
   "metadata": {},
   "outputs": [],
   "source": [
    "err4 = Triangle(1,2,3,4,15)"
   ]
  },
  {
   "cell_type": "code",
   "execution_count": null,
   "metadata": {},
   "outputs": [],
   "source": [
    "err5 = c1 + r1"
   ]
  },
  {
   "cell_type": "code",
   "execution_count": null,
   "metadata": {},
   "outputs": [],
   "source": [
    "err6 = c1 - 20"
   ]
  },
  {
   "cell_type": "markdown",
   "metadata": {},
   "source": [
    "## Objects attributes"
   ]
  },
  {
   "cell_type": "markdown",
   "metadata": {},
   "source": [
    "The methods area() and perimeter() allow to get the corresponding attributes of a figure."
   ]
  },
  {
   "cell_type": "code",
   "execution_count": null,
   "metadata": {},
   "outputs": [],
   "source": [
    "print(c1)\n",
    "print(\"c1 area is\",c1.area())\n",
    "print(\"c1 perimeter is\",c1.perimeter())\n",
    "print()\n",
    "\n",
    "print(r1)\n",
    "print(\"r1 area is\",r1.area())\n",
    "print(\"r1 perimeter is\",r1.perimeter())\n",
    "print()\n",
    "\n",
    "print(t1)\n",
    "print(\"t1 area is\",t1.area())\n",
    "print(\"t1 perimeter is\",t1.perimeter())\n",
    "print()\n",
    "\n",
    "r7 = Rectangle(4,1,6,4)\n",
    "print(\"r7 area is\",r7.area())\n",
    "print(\"r7 perimeter is\",r7.perimeter())\n",
    "print()\n",
    "\n",
    "def has_same_area(fig1, fig2):\n",
    "    if fig1 == fig2:\n",
    "        print(\"The two figures have the same area\")\n",
    "    else:\n",
    "        print(\"The two figures have different areas\")\n",
    "        \n",
    "has_same_area(t1,r7)"
   ]
  },
  {
   "cell_type": "markdown",
   "metadata": {},
   "source": [
    "It is possible to have access to the other attributes of the figure through the corresponding methods:\n",
    "- get_center() returns the coordinates of the center of the object;\n"
   ]
  },
  {
   "cell_type": "code",
   "execution_count": null,
   "metadata": {},
   "outputs": [],
   "source": [
    "p1.get_center()"
   ]
  },
  {
   "cell_type": "code",
   "execution_count": null,
   "metadata": {},
   "outputs": [],
   "source": [
    "c1.get_center()\n",
    "c1.set_radius(-115)\n",
    "c1.get_radius()"
   ]
  },
  {
   "cell_type": "code",
   "execution_count": null,
   "metadata": {},
   "outputs": [],
   "source": [
    "tt = Triangle(0,0,300,400,500)\n",
    "tt"
   ]
  },
  {
   "cell_type": "code",
   "execution_count": null,
   "metadata": {},
   "outputs": [],
   "source": [
    "tt.set_side1(1)"
   ]
  },
  {
   "cell_type": "code",
   "execution_count": null,
   "metadata": {},
   "outputs": [],
   "source": [
    "c1\n"
   ]
  },
  {
   "cell_type": "code",
   "execution_count": null,
   "metadata": {},
   "outputs": [],
   "source": [
    "c2"
   ]
  },
  {
   "cell_type": "code",
   "execution_count": null,
   "metadata": {},
   "outputs": [],
   "source": [
    "c1 / 2"
   ]
  },
  {
   "cell_type": "code",
   "execution_count": null,
   "metadata": {},
   "outputs": [],
   "source": [
    "c1 / c2"
   ]
  },
  {
   "cell_type": "code",
   "execution_count": null,
   "metadata": {},
   "outputs": [],
   "source": [
    "r1"
   ]
  },
  {
   "cell_type": "code",
   "execution_count": null,
   "metadata": {},
   "outputs": [],
   "source": [
    "r2"
   ]
  },
  {
   "cell_type": "code",
   "execution_count": null,
   "metadata": {},
   "outputs": [],
   "source": [
    "r1 * r2"
   ]
  },
  {
   "cell_type": "code",
   "execution_count": null,
   "metadata": {},
   "outputs": [],
   "source": [
    "r1 / r2"
   ]
  },
  {
   "cell_type": "code",
   "execution_count": null,
   "metadata": {},
   "outputs": [],
   "source": [
    "r1 * 4"
   ]
  },
  {
   "cell_type": "code",
   "execution_count": null,
   "metadata": {},
   "outputs": [],
   "source": [
    "r1 / 4"
   ]
  },
  {
   "cell_type": "code",
   "execution_count": null,
   "metadata": {},
   "outputs": [],
   "source": [
    "4 / r1"
   ]
  },
  {
   "cell_type": "code",
   "execution_count": null,
   "metadata": {},
   "outputs": [],
   "source": [
    "print(r1)\n",
    "r1 * 2"
   ]
  },
  {
   "cell_type": "code",
   "execution_count": null,
   "metadata": {},
   "outputs": [],
   "source": [
    "c1"
   ]
  },
  {
   "cell_type": "code",
   "execution_count": null,
   "metadata": {},
   "outputs": [],
   "source": [
    "1 - c1"
   ]
  },
  {
   "cell_type": "code",
   "execution_count": null,
   "metadata": {},
   "outputs": [],
   "source": [
    "12 - c1"
   ]
  },
  {
   "cell_type": "code",
   "execution_count": null,
   "metadata": {},
   "outputs": [],
   "source": [
    "t1 - t2"
   ]
  },
  {
   "cell_type": "code",
   "execution_count": null,
   "metadata": {},
   "outputs": [],
   "source": [
    "t3 = Triangle(0,0,11,9.1,2.1)\n",
    "t4 = Triangle(0,0,10,1.1,9)"
   ]
  },
  {
   "cell_type": "code",
   "execution_count": 13,
   "metadata": {},
   "outputs": [
    {
     "data": {
      "text/plain": [
       "Circle(0,0,1.2)"
      ]
     },
     "execution_count": 13,
     "metadata": {},
     "output_type": "execute_result"
    }
   ],
   "source": [
    "12 / c1"
   ]
  },
  {
   "cell_type": "code",
   "execution_count": 15,
   "metadata": {},
   "outputs": [
    {
     "data": {
      "text/plain": [
       "Circle(0,0,10)"
      ]
     },
     "execution_count": 15,
     "metadata": {},
     "output_type": "execute_result"
    }
   ],
   "source": [
    "c1"
   ]
  },
  {
   "cell_type": "code",
   "execution_count": null,
   "metadata": {},
   "outputs": [],
   "source": [
    "c2 - 4"
   ]
  },
  {
   "cell_type": "code",
   "execution_count": null,
   "metadata": {},
   "outputs": [],
   "source": [
    "c1\n",
    "c1 - 6"
   ]
  },
  {
   "cell_type": "code",
   "execution_count": null,
   "metadata": {},
   "outputs": [],
   "source": [
    "c1 - 4"
   ]
  },
  {
   "cell_type": "code",
   "execution_count": null,
   "metadata": {},
   "outputs": [],
   "source": [
    "12 - c1"
   ]
  },
  {
   "cell_type": "code",
   "execution_count": null,
   "metadata": {},
   "outputs": [],
   "source": [
    "6 - c1"
   ]
  },
  {
   "cell_type": "code",
   "execution_count": null,
   "metadata": {},
   "outputs": [],
   "source": [
    "c1 - t1"
   ]
  },
  {
   "cell_type": "code",
   "execution_count": null,
   "metadata": {},
   "outputs": [],
   "source": [
    "r1"
   ]
  },
  {
   "cell_type": "code",
   "execution_count": null,
   "metadata": {},
   "outputs": [],
   "source": [
    "15 - r1"
   ]
  },
  {
   "cell_type": "code",
   "execution_count": null,
   "metadata": {},
   "outputs": [],
   "source": [
    "r1 - r2"
   ]
  },
  {
   "cell_type": "code",
   "execution_count": null,
   "metadata": {},
   "outputs": [],
   "source": [
    "r2 - r1"
   ]
  },
  {
   "cell_type": "code",
   "execution_count": null,
   "metadata": {},
   "outputs": [],
   "source": [
    "t1 - t2"
   ]
  },
  {
   "cell_type": "code",
   "execution_count": null,
   "metadata": {},
   "outputs": [],
   "source": [
    "t2 - t1"
   ]
  },
  {
   "cell_type": "code",
   "execution_count": null,
   "metadata": {},
   "outputs": [],
   "source": [
    "t1"
   ]
  },
  {
   "cell_type": "code",
   "execution_count": null,
   "metadata": {},
   "outputs": [],
   "source": [
    "t2"
   ]
  },
  {
   "cell_type": "code",
   "execution_count": null,
   "metadata": {},
   "outputs": [],
   "source": [
    "15 - t1"
   ]
  },
  {
   "cell_type": "code",
   "execution_count": null,
   "metadata": {},
   "outputs": [],
   "source": [
    "t1 - 15"
   ]
  },
  {
   "cell_type": "code",
   "execution_count": null,
   "metadata": {},
   "outputs": [],
   "source": []
  }
 ],
 "metadata": {
  "kernelspec": {
   "display_name": "Python 3",
   "language": "python",
   "name": "python3"
  },
  "language_info": {
   "codemirror_mode": {
    "name": "ipython",
    "version": 3
   },
   "file_extension": ".py",
   "mimetype": "text/x-python",
   "name": "python",
   "nbconvert_exporter": "python",
   "pygments_lexer": "ipython3",
   "version": "3.7.3"
  }
 },
 "nbformat": 4,
 "nbformat_minor": 2
}
