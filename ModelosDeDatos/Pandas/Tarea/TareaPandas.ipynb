{
 "cells": [
  {
   "cell_type": "markdown",
   "metadata": {},
   "source": [
    "# Tarea Pandas\n",
    "\n",
    "Nicolò Trevisani"
   ]
  },
  {
   "cell_type": "code",
   "execution_count": 54,
   "metadata": {},
   "outputs": [],
   "source": [
    "import numpy as np\n",
    "import pandas as pd"
   ]
  },
  {
   "cell_type": "markdown",
   "metadata": {},
   "source": [
    "## Archivo CSV"
   ]
  },
  {
   "cell_type": "code",
   "execution_count": 59,
   "metadata": {},
   "outputs": [
    {
     "data": {
      "text/html": [
       "<div>\n",
       "<style scoped>\n",
       "    .dataframe tbody tr th:only-of-type {\n",
       "        vertical-align: middle;\n",
       "    }\n",
       "\n",
       "    .dataframe tbody tr th {\n",
       "        vertical-align: top;\n",
       "    }\n",
       "\n",
       "    .dataframe thead th {\n",
       "        text-align: right;\n",
       "    }\n",
       "</style>\n",
       "<table border=\"1\" class=\"dataframe\">\n",
       "  <thead>\n",
       "    <tr style=\"text-align: right;\">\n",
       "      <th></th>\n",
       "      <th>FID</th>\n",
       "      <th>OBJECTID</th>\n",
       "      <th>Cod_INE</th>\n",
       "      <th>Texto</th>\n",
       "      <th>Poblacion</th>\n",
       "      <th>CodMun</th>\n",
       "      <th>Municipio</th>\n",
       "      <th>Cod_Provin</th>\n",
       "      <th>Provincia</th>\n",
       "      <th>X</th>\n",
       "      <th>Y</th>\n",
       "    </tr>\n",
       "  </thead>\n",
       "  <tbody>\n",
       "    <tr>\n",
       "      <th>0</th>\n",
       "      <td>0</td>\n",
       "      <td>1</td>\n",
       "      <td>35002000101</td>\n",
       "      <td>Agüimes</td>\n",
       "      <td>29431.0</td>\n",
       "      <td>35002</td>\n",
       "      <td>Agüimes</td>\n",
       "      <td>35</td>\n",
       "      <td>Las Palmas</td>\n",
       "      <td>-15.446012</td>\n",
       "      <td>27.900542</td>\n",
       "    </tr>\n",
       "    <tr>\n",
       "      <th>1</th>\n",
       "      <td>1</td>\n",
       "      <td>2</td>\n",
       "      <td>35003000201</td>\n",
       "      <td>Antigua</td>\n",
       "      <td>10458.0</td>\n",
       "      <td>35003</td>\n",
       "      <td>Antigua</td>\n",
       "      <td>35</td>\n",
       "      <td>Las Palmas</td>\n",
       "      <td>-14.013301</td>\n",
       "      <td>28.418966</td>\n",
       "    </tr>\n",
       "    <tr>\n",
       "      <th>2</th>\n",
       "      <td>2</td>\n",
       "      <td>3</td>\n",
       "      <td>35004000301</td>\n",
       "      <td>Arrecife</td>\n",
       "      <td>58156.0</td>\n",
       "      <td>35004</td>\n",
       "      <td>Arrecife</td>\n",
       "      <td>35</td>\n",
       "      <td>Las Palmas</td>\n",
       "      <td>-13.551451</td>\n",
       "      <td>28.960649</td>\n",
       "    </tr>\n",
       "    <tr>\n",
       "      <th>3</th>\n",
       "      <td>3</td>\n",
       "      <td>4</td>\n",
       "      <td>35006000202</td>\n",
       "      <td>Arucas</td>\n",
       "      <td>36745.0</td>\n",
       "      <td>35006</td>\n",
       "      <td>Arucas</td>\n",
       "      <td>35</td>\n",
       "      <td>Las Palmas</td>\n",
       "      <td>-15.521512</td>\n",
       "      <td>28.117496</td>\n",
       "    </tr>\n",
       "    <tr>\n",
       "      <th>4</th>\n",
       "      <td>4</td>\n",
       "      <td>5</td>\n",
       "      <td>35009000303</td>\n",
       "      <td>Gáldar</td>\n",
       "      <td>24473.0</td>\n",
       "      <td>35009</td>\n",
       "      <td>Gáldar</td>\n",
       "      <td>35</td>\n",
       "      <td>Las Palmas</td>\n",
       "      <td>-15.654111</td>\n",
       "      <td>28.143873</td>\n",
       "    </tr>\n",
       "  </tbody>\n",
       "</table>\n",
       "</div>"
      ],
      "text/plain": [
       "   FID  OBJECTID      Cod_INE     Texto  Poblacion  CodMun Municipio  \\\n",
       "0    0         1  35002000101   Agüimes    29431.0   35002   Agüimes   \n",
       "1    1         2  35003000201   Antigua    10458.0   35003   Antigua   \n",
       "2    2         3  35004000301  Arrecife    58156.0   35004  Arrecife   \n",
       "3    3         4  35006000202    Arucas    36745.0   35006    Arucas   \n",
       "4    4         5  35009000303    Gáldar    24473.0   35009    Gáldar   \n",
       "\n",
       "   Cod_Provin   Provincia          X          Y  \n",
       "0          35  Las Palmas -15.446012  27.900542  \n",
       "1          35  Las Palmas -14.013301  28.418966  \n",
       "2          35  Las Palmas -13.551451  28.960649  \n",
       "3          35  Las Palmas -15.521512  28.117496  \n",
       "4          35  Las Palmas -15.654111  28.143873  "
      ]
     },
     "execution_count": 59,
     "metadata": {},
     "output_type": "execute_result"
    }
   ],
   "source": [
    "# Leo el dataset y miro su formato\n",
    "\n",
    "df = pd.read_csv('Centroides_NucleosPoblacion.csv')\n",
    "df.head()"
   ]
  },
  {
   "cell_type": "markdown",
   "metadata": {},
   "source": [
    "1) ¿Cuántos Municipios tienen más de 100000 habitantes?. ¿Cuál es la segunda ciudad más poblada?. ¿Qué posición ocupa Granada en el ranking de las más pobladas?."
   ]
  },
  {
   "cell_type": "code",
   "execution_count": 56,
   "metadata": {},
   "outputs": [
    {
     "data": {
      "text/plain": [
       "62"
      ]
     },
     "execution_count": 56,
     "metadata": {},
     "output_type": "execute_result"
    }
   ],
   "source": [
    "# Número de Municipios con más de cien mil habitantes\n",
    "len(df[df.Poblacion > 100000])"
   ]
  },
  {
   "cell_type": "code",
   "execution_count": 33,
   "metadata": {},
   "outputs": [
    {
     "data": {
      "text/plain": [
       "623    Barcelona\n",
       "Name: Municipio, dtype: object"
      ]
     },
     "execution_count": 33,
     "metadata": {},
     "output_type": "execute_result"
    }
   ],
   "source": [
    "# Segunda ciudad más poblada\n",
    "df.sort_values(by=['Poblacion'], ascending = False)[1:2].Municipio"
   ]
  },
  {
   "cell_type": "code",
   "execution_count": 9,
   "metadata": {},
   "outputs": [
    {
     "data": {
      "text/plain": [
       "Int64Index([18], dtype='int64')"
      ]
     },
     "execution_count": 9,
     "metadata": {},
     "output_type": "execute_result"
    }
   ],
   "source": [
    "# Posición que ocupa Granada\n",
    "df2 = df.sort_values(by=['Poblacion'], ascending = False).reset_index()\n",
    "df2[df2.Municipio == \"Granada\"].index + 1 # Sumo 1 porque el primer índice es 0"
   ]
  },
  {
   "cell_type": "markdown",
   "metadata": {},
   "source": [
    "2) Escriba los nombres de los 10 municipios con menos población."
   ]
  },
  {
   "cell_type": "code",
   "execution_count": 32,
   "metadata": {},
   "outputs": [
    {
     "data": {
      "text/plain": [
       "307         Zumarraga\n",
       "115    Caldas de Reis\n",
       "168           Amurrio\n",
       "746    Premià de Dalt\n",
       "525             Buñol\n",
       "97           Bembibre\n",
       "503             Ocaña\n",
       "193               Sax\n",
       "841     San Fulgencio\n",
       "756     San Bartolomé\n",
       "Name: Municipio, dtype: object"
      ]
     },
     "execution_count": 32,
     "metadata": {},
     "output_type": "execute_result"
    }
   ],
   "source": [
    "df.sort_values(by=['Poblacion'])[0:10].Municipio"
   ]
  },
  {
   "cell_type": "markdown",
   "metadata": {},
   "source": [
    "3) ¿Cuántos municipios de León tienen más de 6000 habitantes?."
   ]
  },
  {
   "cell_type": "code",
   "execution_count": 15,
   "metadata": {},
   "outputs": [
    {
     "data": {
      "text/plain": [
       "9"
      ]
     },
     "execution_count": 15,
     "metadata": {},
     "output_type": "execute_result"
    }
   ],
   "source": [
    "len(df[df.Provincia == 'León'].Poblacion > 6000)"
   ]
  },
  {
   "cell_type": "markdown",
   "metadata": {},
   "source": [
    "4) ¿Cuál es el municipio situado más al Norte? (Usar el valor de la coordenada \"Y\" que representa la latitud en grados). Proporcione también la provincia a la que pertenece y su población."
   ]
  },
  {
   "cell_type": "code",
   "execution_count": 31,
   "metadata": {},
   "outputs": [
    {
     "name": "stdout",
     "output_type": "stream",
     "text": [
      "El municipio más al norte es Viveiro y se encuentra en la provincia de Lugo\n"
     ]
    }
   ],
   "source": [
    "mun_norte  = df.loc[df.Y.idxmax(axis = 1)].Municipio\n",
    "prov_norte = df.loc[df.Y.idxmax(axis = 1)].Provincia\n",
    "\n",
    "print(\"El municipio más al norte es {0} y se encuentra en la provincia de {1}\".format(mun_norte,prov_norte))"
   ]
  },
  {
   "cell_type": "markdown",
   "metadata": {},
   "source": [
    "5) ¿Cual es el municipio de la provincia de Cantabria situado más al Este?. ¿Cual es el situado más al Oeste?."
   ]
  },
  {
   "cell_type": "code",
   "execution_count": null,
   "metadata": {},
   "outputs": [],
   "source": [
    "mun_este = df.loc[df[df.Provincia == \"Cantabria\"].X.idxmax()].Municipio\n",
    "mun_oeste = df.loc[df[df.Provincia == \"Cantabria\"].X.idxmin()].Municipio\n",
    "\n",
    "print(\"El municipio más al este de Cantabria es {0}, el más el oeste es {1}\".format(mun_este,mun_oeste))"
   ]
  },
  {
   "cell_type": "markdown",
   "metadata": {},
   "source": [
    "6) Dígame los nombres de los Municipios más cercano y más lejano a Madrid. Para ello debe calcular la distancia en todos ellos y Madrid. Por supuesto, Madrid no cuenta."
   ]
  },
  {
   "cell_type": "code",
   "execution_count": null,
   "metadata": {},
   "outputs": [],
   "source": [
    "# Defino las coordenadas de Madrid\n",
    "x_madrid = df[df.Municipio == 'Madrid'].X.values\n",
    "y_madrid = df[df.Municipio == 'Madrid'].Y.values\n",
    "\n",
    "# Anado la columna 'dist_madrid', con las distancia euclideas de \n",
    "# los municipios con respecto a Madrid\n",
    "df['dist_Madrid'] = (df.X - x_madrid)**2 + (df.Y - y_madrid)**2\n",
    "\n",
    "# Cross-check: quiero que la distancia de Madrid con Madrid sea 0\n",
    "df[df.Municipio == 'Madrid']"
   ]
  },
  {
   "cell_type": "code",
   "execution_count": 93,
   "metadata": {},
   "outputs": [
    {
     "name": "stdout",
     "output_type": "stream",
     "text": [
      "El municipio más cerca de Madrid es Pozuelo de Alarcón, el más lejano es Los Llanos de Aridane\n"
     ]
    }
   ],
   "source": [
    "# Ahora los resultados\n",
    "far = df.loc[df['dist_Madrid'].idxmax()].Municipio\n",
    "close = df.sort_values(by=['dist_Madrid'])[1:2].Municipio.values[0]\n",
    "\n",
    "print(\"El municipio más cercano a Madrid es {0}, el más lejano es {1}\".format(close, far))"
   ]
  },
  {
   "cell_type": "markdown",
   "metadata": {},
   "source": [
    "7) ¿Cuántos Municipios hay en un radio de 5 grados de la ciudad de Barcelona?"
   ]
  },
  {
   "cell_type": "code",
   "execution_count": null,
   "metadata": {},
   "outputs": [],
   "source": [
    "# Defino las coordenadas de Barcelona\n",
    "x_barcelona = df[df.Municipio == 'Barcelona'].X.values\n",
    "y_barcelona = df[df.Municipio == 'Barcelona'].Y.values\n",
    "\n",
    "# Anado la columna 'dist_barcelona', con las distancia euclideas de \n",
    "# los municipios con respecto a Barcelona\n",
    "df['dist_Barcelona'] = (df.X - x_barcelona)**2 + (df.Y - y_barcelona)**2\n",
    "\n",
    "# Cross-check: quiero que la distancia de Barcelona con Barcelona sea 0\n",
    "df[df.Municipio == 'Barcelona']"
   ]
  },
  {
   "cell_type": "code",
   "execution_count": 99,
   "metadata": {},
   "outputs": [
    {
     "data": {
      "text/plain": [
       "155"
      ]
     },
     "execution_count": 99,
     "metadata": {},
     "output_type": "execute_result"
    }
   ],
   "source": [
    "# Ahora los resultados\n",
    "len(df[df['dist_Barcelona'] < 5])"
   ]
  },
  {
   "cell_type": "markdown",
   "metadata": {},
   "source": [
    "8) Obtenga la media, mediana, desviación estándar, valor máximo y valor mínimo de la población de los municipios de la provincia de Cantabria."
   ]
  },
  {
   "cell_type": "code",
   "execution_count": 126,
   "metadata": {},
   "outputs": [
    {
     "name": "stdout",
     "output_type": "stream",
     "text": [
      "Población en Cantabria:\n",
      "Valor medio: 31246\n",
      "Mediana: 14322\n",
      "Desviación típica: 45088\n",
      "Valor máximo: 181589\n",
      "Valor mínimo: 10277\n"
     ]
    }
   ],
   "source": [
    "pobl_cantabria = df[df.Provincia == \"Cantabria\"].Poblacion\n",
    "\n",
    "print(\"Población en Cantabria:\")\n",
    "\n",
    "print(\"Valor medio: %2d\" %(pobl_cantabria.mean()))\n",
    "print(\"Mediana: %2d\" %(pobl_cantabria.median()))\n",
    "print(\"Desviación típica: %2d\" %(pobl_cantabria.std()))\n",
    "\n",
    "print(\"Valor máximo: %2d\" %(pobl_cantabria.max()))\n",
    "print(\"Valor mínimo: %2d\" %(pobl_cantabria.min()))"
   ]
  },
  {
   "cell_type": "markdown",
   "metadata": {},
   "source": [
    "9) Usando los métodos de agregación, calcular las poblaciones de cada provincia."
   ]
  },
  {
   "cell_type": "code",
   "execution_count": 123,
   "metadata": {},
   "outputs": [
    {
     "data": {
      "text/plain": [
       "Provincia\n",
       "A Coruña                   818982.0\n",
       "Alacant/Alicante          1804252.0\n",
       "Albacete                   280673.0\n",
       "Almería                    550604.0\n",
       "Asturias                   965777.0\n",
       "Badajoz                    361700.0\n",
       "Barcelona                 4934795.0\n",
       "Burgos                     250766.0\n",
       "Cantabria                  437448.0\n",
       "Castelló/Castellón         476388.0\n",
       "Ceuta                       80579.0\n",
       "Ciudad Real                348364.0\n",
       "Cuenca                      71921.0\n",
       "Cáceres                    176220.0\n",
       "Cádiz                     1166531.0\n",
       "Córdoba                    590503.0\n",
       "Girona                     474739.0\n",
       "Granada                    604357.0\n",
       "Guadalajara                139373.0\n",
       "Guipúzcoa                  546141.0\n",
       "Huelva                     361777.0\n",
       "Huesca                     124838.0\n",
       "Illes Balears             1041183.0\n",
       "Jaén                       426169.0\n",
       "La Rioja                   203911.0\n",
       "Las Palmas                1220407.0\n",
       "León                       316662.0\n",
       "Lleida                     199135.0\n",
       "Lugo                       162422.0\n",
       "Madrid                    6315312.0\n",
       "Melilla                     76034.0\n",
       "Murcia                    1599339.0\n",
       "Málaga                    1702839.0\n",
       "Navarra                    440005.0\n",
       "Ourense                    161821.0\n",
       "Palencia                    82169.0\n",
       "Pontevedra                 794690.0\n",
       "Salamanca                  197780.0\n",
       "Santa Cruz de Tenerife     989964.0\n",
       "Segovia                     55748.0\n",
       "Sevilla                   1671058.0\n",
       "Soria                       39838.0\n",
       "Tarragona                  598738.0\n",
       "Teruel                      51532.0\n",
       "Toledo                     332751.0\n",
       "Valladolid                 372022.0\n",
       "València/Valencia         2189461.0\n",
       "Vizcaya                    984560.0\n",
       "Zamora                      85098.0\n",
       "Zaragoza                   743312.0\n",
       "Álava                      266717.0\n",
       "Ávila                       58245.0\n",
       "Name: Poblacion, dtype: float64"
      ]
     },
     "execution_count": 123,
     "metadata": {},
     "output_type": "execute_result"
    }
   ],
   "source": [
    "df.groupby('Provincia').Poblacion.sum()"
   ]
  },
  {
   "cell_type": "markdown",
   "metadata": {},
   "source": [
    "10) Dibujar el valor de la población para las diferentes ciudades (usar las funciones vistas en MatPlotLib)."
   ]
  },
  {
   "cell_type": "code",
   "execution_count": 142,
   "metadata": {},
   "outputs": [
    {
     "data": {
      "text/plain": [
       "<matplotlib.axes._subplots.AxesSubplot at 0x7efc9c60ad50>"
      ]
     },
     "execution_count": 142,
     "metadata": {},
     "output_type": "execute_result"
    },
    {
     "data": {
      "image/png": "[encoded data removed]",
      "text/plain": [
       "<Figure size 432x288 with 2 Axes>"
      ]
     },
     "metadata": {
      "needs_background": "light"
     },
     "output_type": "display_data"
    }
   ],
   "source": [
    "import matplotlib.pyplot as plt\n",
    "\n",
    "df.plot.scatter(x='X', \n",
    "        y='Y', \n",
    "        c = 'Poblacion',\n",
    "        colormap='YlOrRd',\n",
    "        s = 5)"
   ]
  },
  {
   "cell_type": "markdown",
   "metadata": {},
   "source": [
    "11) Hacer un gráfico equivalente pero para las diferentes provincias. Seleccionar un punto representativo de las ciudades incluidas en cada provincia."
   ]
  },
  {
   "cell_type": "code",
   "execution_count": 163,
   "metadata": {},
   "outputs": [
    {
     "name": "stderr",
     "output_type": "stream",
     "text": [
      "/home/nicolo/miniconda3/lib/python3.7/site-packages/ipykernel_launcher.py:6: SettingWithCopyWarning: \n",
      "A value is trying to be set on a copy of a slice from a DataFrame.\n",
      "Try using .loc[row_indexer,col_indexer] = value instead\n",
      "\n",
      "See the caveats in the documentation: http://pandas.pydata.org/pandas-docs/stable/user_guide/indexing.html#returning-a-view-versus-a-copy\n",
      "  \n"
     ]
    },
    {
     "data": {
      "text/plain": [
       "<matplotlib.axes._subplots.AxesSubplot at 0x7efc9c465b90>"
      ]
     },
     "execution_count": 163,
     "metadata": {},
     "output_type": "execute_result"
    },
    {
     "data": {
      "image/png": "[encoded data removed]",
      "text/plain": [
       "<Figure size 432x288 with 2 Axes>"
      ]
     },
     "metadata": {
      "needs_background": "light"
     },
     "output_type": "display_data"
    }
   ],
   "source": [
    "# Agrupo por provincia, y me quedo con el Municipio con más población\n",
    "# (quiero usar sus coordenadas)\n",
    "df_plot = df.loc[df.groupby('Provincia').Poblacion.idxmax()]\n",
    "\n",
    "df_plot_2 = df_plot[['Municipio','X','Y']]\n",
    "df_plot_2['Poblacion'] = df.groupby('Provincia').Poblacion.sum().values\n",
    "\n",
    "df_plot_2.plot.scatter(x='X', \n",
    "        y='Y', \n",
    "        c = 'Poblacion',\n",
    "        colormap='YlOrRd',\n",
    "        s = 5)"
   ]
  }
 ],
 "metadata": {
  "kernelspec": {
   "display_name": "Python 3",
   "language": "python",
   "name": "python3"
  },
  "language_info": {
   "codemirror_mode": {
    "name": "ipython",
    "version": 3
   },
   "file_extension": ".py",
   "mimetype": "text/x-python",
   "name": "python",
   "nbconvert_exporter": "python",
   "pygments_lexer": "ipython3",
   "version": "3.7.4"
  }
 },
 "nbformat": 4,
 "nbformat_minor": 2
}
