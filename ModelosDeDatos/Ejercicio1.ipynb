{
 "cells": [
  {
   "cell_type": "markdown",
   "metadata": {},
   "source": [
    "\n",
    "# Follow-up exercises: Introduction to Python"
   ]
  },
  {
   "cell_type": "markdown",
   "metadata": {},
   "source": [
    "\n",
    "Student: Nicolò Trevisani\n"
   ]
  },
  {
   "cell_type": "markdown",
   "metadata": {},
   "source": [
    "## 0. From the scipy-lectures, reproduce and comment the basic examples from the introduction sections\n"
   ]
  },
  {
   "cell_type": "markdown",
   "metadata": {},
   "source": [
    "The [spicy lectures](http://scipy-lectures.org/intro/language/python_language.html) introduces some basic concepts of python. Among them:\n",
    "- Basic Types; \n",
    "- Control Flow; \n",
    "- Functions Definition.\n",
    "\n",
    "Here, I am listing the most interesting examples I found, among the ones presented there."
   ]
  },
  {
   "cell_type": "markdown",
   "metadata": {},
   "source": [
    "### Lists\n"
   ]
  },
  {
   "cell_type": "markdown",
   "metadata": {},
   "source": [
    "Regarding lists, I would like to mention a feature of the _slicing_ that I did not think it was possible until we saw it in the lectures.\n",
    "\n",
    "Using the *slicing*, it is in fact possible to insert new elements in a list in a specific position."
   ]
  },
  {
   "cell_type": "code",
   "execution_count": 1,
   "metadata": {},
   "outputs": [
    {
     "data": {
      "text/plain": [
       "['red', 'blue', 'gray', 'purple', 'pink', 'green', 'black', 'white']"
      ]
     },
     "execution_count": 1,
     "metadata": {},
     "output_type": "execute_result"
    }
   ],
   "source": [
    "colors = ['red', 'blue', 'green', 'black', 'white']\n",
    "\n",
    "# I want to insert three new elements to the 'color' list,\n",
    "# just after the 'blue' element\n",
    "colors[2:2] = ['gray', 'purple', 'pink']\n",
    "\n",
    "colors"
   ]
  },
  {
   "cell_type": "markdown",
   "metadata": {},
   "source": [
    "But also replace one (or more) element with an arbitrary number of new elements."
   ]
  },
  {
   "cell_type": "code",
   "execution_count": 2,
   "metadata": {},
   "outputs": [
    {
     "data": {
      "text/plain": [
       "['red', 'blue', 'gray', 'purple', 'pink', 'black', 'white']"
      ]
     },
     "execution_count": 2,
     "metadata": {},
     "output_type": "execute_result"
    }
   ],
   "source": [
    "colors = ['red', 'blue', 'green', 'black', 'white']\n",
    "\n",
    "# I want to remove the 'green' element and insert three new elements \n",
    "# to the 'color' list\n",
    "colors[2:3] = ['gray', 'purple', 'pink']\n",
    "\n",
    "colors"
   ]
  },
  {
   "cell_type": "markdown",
   "metadata": {},
   "source": [
    "### Control flow"
   ]
  },
  {
   "cell_type": "markdown",
   "metadata": {},
   "source": [
    "Also for control flow, I try to put here examples of aspects of python I was not expecting.\n",
    "\n",
    "The first thing is the structure of the _for_ iteration, which can be *closed* with an else."
   ]
  },
  {
   "cell_type": "code",
   "execution_count": 3,
   "metadata": {},
   "outputs": [
    {
     "name": "stdout",
     "output_type": "stream",
     "text": [
      "Python is cool\n",
      "Python is powerful\n",
      "Python is readable\n",
      "But also many more things\n"
     ]
    }
   ],
   "source": [
    "# In this case, the 'for' ends with an 'else' statement\n",
    "for word in ('cool', 'powerful', 'readable'):\n",
    "    print('Python is %s' % word)\n",
    "else:\n",
    "    print(\"But also many more things\")"
   ]
  },
  {
   "cell_type": "code",
   "execution_count": 4,
   "metadata": {},
   "outputs": [
    {
     "name": "stdout",
     "output_type": "stream",
     "text": [
      "Python is cool\n",
      "Python is powerful\n",
      "Python is readable\n"
     ]
    }
   ],
   "source": [
    "# Here, the 'else' statement is skipped, since the 'for'\n",
    "# was broken before finishing\n",
    "for word in ('cool', 'powerful', 'readable'):\n",
    "    print('Python is %s' % word)\n",
    "    if word == 'readable':\n",
    "        break\n",
    "else:\n",
    "    print(\"But also many more things\")    "
   ]
  },
  {
   "cell_type": "markdown",
   "metadata": {},
   "source": [
    "I found interesting also the _enumerate_ function, which allows to easily iterate over the indics and the items of a list."
   ]
  },
  {
   "cell_type": "code",
   "execution_count": 5,
   "metadata": {},
   "outputs": [
    {
     "name": "stdout",
     "output_type": "stream",
     "text": [
      "(0, 'cool')\n",
      "(1, 'powerful')\n",
      "(2, 'readable')\n"
     ]
    }
   ],
   "source": [
    "words = ('cool', 'powerful', 'readable')\n",
    "for index, item in enumerate(words):\n",
    "    print((index, item))"
   ]
  },
  {
   "cell_type": "markdown",
   "metadata": {},
   "source": [
    "### Functions"
   ]
  },
  {
   "cell_type": "markdown",
   "metadata": {},
   "source": [
    "Again, some examples of counterintuitive (at least to me) behaviours of functions in python.\n",
    "\n",
    "First of all, default values are evaluated when the function is defined, not when it is called.\n",
    "This fact produces different results when the _default value_ is mutable or immutable. "
   ]
  },
  {
   "cell_type": "code",
   "execution_count": 6,
   "metadata": {},
   "outputs": [
    {
     "name": "stdout",
     "output_type": "stream",
     "text": [
      "20\n",
      "2000000000.0\n"
     ]
    }
   ],
   "source": [
    "# Using an immutable object (int)\n",
    "bigx = 10\n",
    "\n",
    "def double_it(x=bigx):\n",
    "     return x * 2\n",
    "\n",
    "bigx = 1e9  # Now really big\n",
    "print(double_it())\n",
    "\n",
    "# Now explicitly passing the new value of bigx\n",
    "print(double_it(1e9))\n"
   ]
  },
  {
   "cell_type": "markdown",
   "metadata": {},
   "source": [
    "In this first case, the default value bigx is evaluated when the function double_it is created. \n",
    "This means that when double_it is called without passing it any explicit value, it uses the value of bigx it got when it was defined.\n",
    "Of course, if the new value of bigx is explicitly given to the function, it uses the new one."
   ]
  },
  {
   "cell_type": "markdown",
   "metadata": {},
   "source": [
    "On the other hand, using a mutable type object in a keyword argument (and modifying it inside the function body) produces a different result."
   ]
  },
  {
   "cell_type": "code",
   "execution_count": 7,
   "metadata": {},
   "outputs": [
    {
     "name": "stdout",
     "output_type": "stream",
     "text": [
      "{'a': 2, 'b': 3}\n",
      "{'a': 3, 'b': 4}\n",
      "{'a': 4, 'b': 5}\n"
     ]
    }
   ],
   "source": [
    "def add_to_dict(args={'a': 1, 'b': 2}):\n",
    "    for i in args.keys():\n",
    "        args[i] += 1\n",
    "    print(args)\n",
    "\n",
    "add_to_dict()\n",
    "add_to_dict()\n",
    "add_to_dict()\n"
   ]
  },
  {
   "cell_type": "markdown",
   "metadata": {},
   "source": [
    "Since dictionaries are mutable objects, their values can actually be modified permanently by the function."
   ]
  },
  {
   "cell_type": "markdown",
   "metadata": {},
   "source": [
    "A similar example is given by the following exercise.\n",
    "\n",
    "In general, when a variable is passed to a function, python gives the reference to the object to which the variable refers (value), not the variable itself.\n",
    "\n",
    "This means that if the value passed to a function is immutable, the function does not modify the variable. On the other hand, if the value is mutable, the function may modify the variable."
   ]
  },
  {
   "cell_type": "code",
   "execution_count": 8,
   "metadata": {},
   "outputs": [
    {
     "name": "stdout",
     "output_type": "stream",
     "text": [
      "x: 23\n",
      "y: [99, 42]\n",
      "z: [99]\n",
      "\n",
      "a: 77\n",
      "b: [99, 42]\n",
      "c: [28]\n"
     ]
    }
   ],
   "source": [
    "def try_to_modify(x, y, z):\n",
    "    x = 23\n",
    "    y.append(42)\n",
    "    z = [99] # new reference\n",
    "    print(\"x:\",x)\n",
    "    print(\"y:\",y)\n",
    "    print(\"z:\",z)\n",
    "\n",
    "a = 77    # immutable variable\n",
    "b = [99]  # mutable variable\n",
    "c = [28]\n",
    "\n",
    "try_to_modify(a, b, c)\n",
    "\n",
    "print()\n",
    "\n",
    "print(\"a:\",a)\n",
    "print(\"b:\",b)\n",
    "print(\"c:\",c)"
   ]
  },
  {
   "cell_type": "markdown",
   "metadata": {},
   "source": [
    "In this example:\n",
    "- a = 77: an int is an immutable object and cannot be modified by the function;\n",
    "- b = [99]: a list is a mutable object, so that _appending_ a new value to y inside the function actually modifies also b;\n",
    "- c = [28]: also c is a list, so that it is a mutable object. On the other hand, z gets assigned a new value _inside_ the function. In this case, z 'lives' only inside the scope of the function, so that outside c keeps the value it was originally assigned."
   ]
  },
  {
   "cell_type": "markdown",
   "metadata": {},
   "source": [
    "In general, variables declared outside the function can be referenced within the function."
   ]
  },
  {
   "cell_type": "code",
   "execution_count": 9,
   "metadata": {},
   "outputs": [
    {
     "data": {
      "text/plain": [
       "15"
      ]
     },
     "execution_count": 9,
     "metadata": {},
     "output_type": "execute_result"
    }
   ],
   "source": [
    "x = 5\n",
    "\n",
    "def addx(y):\n",
    "    return x + y\n",
    "\n",
    "addx(10)"
   ]
  },
  {
   "cell_type": "markdown",
   "metadata": {},
   "source": [
    "These variables can be modified inside the function, but the changes are not propagted outside it. For example:"
   ]
  },
  {
   "cell_type": "code",
   "execution_count": 10,
   "metadata": {},
   "outputs": [
    {
     "name": "stdout",
     "output_type": "stream",
     "text": [
      "x is 10\n",
      "5\n"
     ]
    }
   ],
   "source": [
    "x = 5\n",
    "\n",
    "def setx(y):\n",
    "    x = y\n",
    "    print('x is %d' % x)\n",
    "\n",
    "setx(10)\n",
    "print(x)"
   ]
  },
  {
   "cell_type": "markdown",
   "metadata": {},
   "source": [
    "If we really want to do so, we need to decalre the variables as **global** inside the function."
   ]
  },
  {
   "cell_type": "code",
   "execution_count": 11,
   "metadata": {},
   "outputs": [
    {
     "name": "stdout",
     "output_type": "stream",
     "text": [
      "x is 10\n",
      "10\n"
     ]
    }
   ],
   "source": [
    "x = 5\n",
    "\n",
    "def setx(y):\n",
    "    # now we can globally modify x\n",
    "    global x \n",
    "    x = y\n",
    "    print('x is %d' % x)\n",
    "\n",
    "setx(10)\n",
    "print(x)"
   ]
  },
  {
   "cell_type": "markdown",
   "metadata": {},
   "source": [
    "## 1. Compute the decimals of $\\pi$ using the Wallis formula\n"
   ]
  },
  {
   "cell_type": "markdown",
   "metadata": {},
   "source": [
    "According to the [Wallis formula](https://en.wikipedia.org/wiki/Wallis_product), $\\pi$ can be obtained by the following product:"
   ]
  },
  {
   "cell_type": "markdown",
   "metadata": {},
   "source": [
    "# $$ \\pi = 2 \\prod_{i = 1}^{\\infty} \\frac{4 i^2}{4 i^2 - 1 } $$"
   ]
  },
  {
   "cell_type": "markdown",
   "metadata": {},
   "source": [
    "I decided to implement it by using a simple _for_ iteration, as follows:"
   ]
  },
  {
   "cell_type": "code",
   "execution_count": 16,
   "metadata": {},
   "outputs": [
    {
     "name": "stdout",
     "output_type": "stream",
     "text": [
      "Please tell me how many products to you want to compute: 7+4j\n",
      "\n",
      "\n",
      "I need an integer number as input:\n",
      "7+4j is not an integer number\n"
     ]
    }
   ],
   "source": [
    "import math\n",
    "\n",
    "# Getting the value of pi from python, to estimate the precision of the algorithm\n",
    "math_pi = math.pi\n",
    "\n",
    "# Initializing the 'pi' I want to use in the code\n",
    "pi = 2\n",
    "\n",
    "# Asking how many iterations the user would like to use for pi estimation\n",
    "up_to = input(\"Please tell me how many products to you want to compute: \")\n",
    "print(\"\\n\")\n",
    "\n",
    "# Check if the 'up_to' parameter is an int\n",
    "try:\n",
    "    up_to = int(up_to)\n",
    "    # Check if 'up_to' is positive\n",
    "    if up_to > 0:\n",
    "        # Actual calculation\n",
    "        for i in range(1,up_to):\n",
    "            pi *= 4*(i**2) / (4*(i**2) - 1)\n",
    "        # Just printing the result once the iterations are done\n",
    "        else:\n",
    "            print(\"After {0} iterations, I get the following value for pi: {1:.6f}\".format(up_to, pi))\n",
    "            print(\"Comparing with the value of pi I get from python (%.6f),\" %(math_pi))\n",
    "            precision = 100. * (math_pi - pi) / (math_pi)\n",
    "            print(\"I can say I reached a precision of %.6f%%\" %(precision))\n",
    "    else:\n",
    "        print(\"I need a positive number as input:\") \n",
    "        print(up_to, \"is not a positive number\")        \n",
    "except ValueError:\n",
    "    print(\"I need an integer number as input:\") \n",
    "    print(up_to, \"is not an integer number\")"
   ]
  },
  {
   "cell_type": "markdown",
   "metadata": {},
   "source": [
    "After some tests, it seems that the precision of the algorithm, defined as the _relative distance_ between the result and the actual value of $\\pi$, goes as $\\frac{25}{n}$%.\n",
    "\n",
    "e.g.:\n",
    "- After 100 iterations: 0.25%\n",
    "- After 1000 iterations: 0.025%\n",
    "- After 10000 iterations: 0.0025%"
   ]
  },
  {
   "cell_type": "markdown",
   "metadata": {},
   "source": [
    "## 2. Write a function that displays the n first terms of the Fibonacci sequence\n",
    "\n"
   ]
  },
  {
   "cell_type": "markdown",
   "metadata": {},
   "source": [
    "The [Fibonacci sequence](https://en.wikipedia.org/wiki/Fibonacci_number) is defined such that each number is the sum of the two preceding ones, starting from 0 and 1:"
   ]
  },
  {
   "attachments": {
    "fibonacci.png": {
     "image/png": "[encoded data removed]"
    }
   },
   "cell_type": "markdown",
   "metadata": {},
   "source": [
    "![fibonacci.png](attachment:fibonacci.png)"
   ]
  },
  {
   "cell_type": "markdown",
   "metadata": {},
   "source": [
    "The implementation of the sequence itself is just a small part of the function and is based on a _for_ iteration.\n",
    "\n",
    "I tried to focus more on the _defensive programming_ part, trying to ensure that in case incorrect inputs are given, the code does not crash, but gives a short explanation of why the output is not the expected one.\n",
    "In particular, I implemented the following *protections*:\n",
    "- the variable _n_ has to be an integer. If not, a _ValueError_ exception is called;\n",
    "- the number _n_ of terms has to be positive;\n",
    "- in case _n_ is 0, a message says that no output will be shown, since this is the meaning of requiring 0 element of a sequence.\n",
    "\n",
    "The same protections have been implemented in the previous exercise. In that case, on the other hand, I did not use a function to define the actual implementation of the calculation and this lead to a less readable and more complex code.\n",
    "This can be one of the many reason to prefer modular programming."
   ]
  },
  {
   "cell_type": "code",
   "execution_count": null,
   "metadata": {},
   "outputs": [],
   "source": [
    "def fibonacci(n = 10):\n",
    "    \"\"\" This function prints the first n terms of the fibonacci sequence.\n",
    "    \n",
    "    If 'n' is not specified, 10 is taken as default value.\n",
    "    The funcion accepts only positive integer numbers as input.\n",
    "    No output is produced in case 'n' is 0.\n",
    "    \"\"\"\n",
    "       \n",
    "    # Check if the 'n' parameter is an int\n",
    "    try:\n",
    "        n = int(n)\n",
    "    except ValueError:\n",
    "        print(\"I need an integer number as input:\") \n",
    "        print(n, \"is not an integer number\")\n",
    "        return\n",
    "        \n",
    "    # If 'n' is an int, it has to be positive\n",
    "    if n < 0:\n",
    "        print(\"I need a positive integer number as input:\")\n",
    "        print(n, \"is negative\")\n",
    "        return\n",
    "\n",
    "    # Special case: 'n' = 0 \n",
    "    if n == 0:\n",
    "        print(\"You are asking me to print the first 0 terms of a sequence!\")\n",
    "        print(\"No output will be produced.\")\n",
    "        return\n",
    "    \n",
    "    # Special case: 'n' = 1\n",
    "    if n == 1:\n",
    "        print(\"The first term of the fibonacci sequence is:\")\n",
    "    else:\n",
    "        print(\"The first \" + str(n) + \" terms of the fibonacci sequence are:\")\n",
    "\n",
    "    # Actual implementation of the sequence\n",
    "    a, b = 0, 1\n",
    "    for i in range(n):\n",
    "        print(a, end = '\\n')\n",
    "        a, b = b, a + b\n",
    "\n",
    "# Just to check if the dockstring is properly shown        \n",
    "#fibonacci?\n",
    "        \n",
    "n_terms = input(\"Please tell me how many terms of the Fibonacci sequence you want me to print: \")\n",
    "print()\n",
    "fibonacci(n_terms)"
   ]
  },
  {
   "cell_type": "markdown",
   "metadata": {},
   "source": [
    "## 3. Implement the quicksort algorithm\n"
   ]
  },
  {
   "cell_type": "markdown",
   "metadata": {},
   "source": [
    "The quicksort algorithm allows to efficiently order the elements of an array.\n",
    "The idea is to select one element of the array, called pivot, and to put to its _left_ all the elements of the array smaller to it and to its _right_ all the elements greater or equal to it.\n",
    "Operating iteratively on the two subsets of elements of the array created, it is possible to sort the array.\n",
    "\n",
    "The general idea of how the algoritm works is described below:"
   ]
  },
  {
   "cell_type": "markdown",
   "metadata": {},
   "source": [
    "    function quicksort(array)\n",
    "        var list less, greater\n",
    "        if length(array) < 2\n",
    "            return array\n",
    "        select and remove a pivot value pivot from array\n",
    "        for each x in array\n",
    "            if x < pivot + 1 then append x to less\n",
    "            else append x to greater\n",
    "        return concatenate(quicksort(less), pivot, quicksort(greater))"
   ]
  },
  {
   "cell_type": "markdown",
   "metadata": {},
   "source": [
    "Nevertheless, two schemes are typically followed to implement the quicksort algortihm:\n",
    "- the Lomuto partition scheme;\n",
    "- the Hoare partition scheme."
   ]
  },
  {
   "cell_type": "markdown",
   "metadata": {},
   "source": [
    "Both of them separate the the work in two different functions:\n",
    "- the first one (*partition*) selects a set of elements of the array and a pivot, putting all the elements of the subset smaller than the pivot to the _left_ of it and all the elements of the subset greater or equal to the pivot to its *right*;\n",
    "- the second one (*quicksort*) recursively calls the _partition_ function to actually sort the full array."
   ]
  },
  {
   "cell_type": "markdown",
   "metadata": {},
   "source": [
    "### Lomuto partition scheme\n"
   ]
  },
  {
   "cell_type": "markdown",
   "metadata": {},
   "source": [
    "This scheme chooses a pivot that is typically the last element in the array. \n",
    "Given a subset of the array that goes from position lo to position hi, the pivot is array[hi].\n",
    "The algorithm then starts by assigning to an index i the starting position (lo) and scans the array through and index j that spans from lo to hi, looking for elements smaller than the pivot. \n",
    "When an element smaller than the pivot is found at the position j, the element at position i and position j are swapped and i is increased by 1, so that i keeps pointing at the leftmost element inspected which is greater than the pivot.\n",
    "Eventually, the elements from lo to i-1 are smaller than the pivot and the elements from i+1 to j are greater than the pivot. The position i, occupied by the pivot, is then used to further split the array in two parts, on which the algorithms operates iteratively until it is sorted.\n",
    "\n",
    "A description in pseudo-code is given below:"
   ]
  },
  {
   "cell_type": "markdown",
   "metadata": {},
   "source": [
    "    algorithm partition(A, lo, hi) is\n",
    "        pivot := A[hi]\n",
    "        i := lo\n",
    "        for j := lo to hi do\n",
    "            if A[j] < pivot then\n",
    "                swap A[i] with A[j]\n",
    "                i := i + 1\n",
    "        swap A[i] with A[hi]\n",
    "        return i\n",
    "    \n",
    "    algorithm quicksort(A, lo, hi) is\n",
    "        if lo < hi then\n",
    "            p := partition(A, lo, hi)\n",
    "            quicksort(A, lo, p - 1)\n",
    "            quicksort(A, p + 1, hi)"
   ]
  },
  {
   "cell_type": "markdown",
   "metadata": {},
   "source": [
    "While the acual python implementation is here:"
   ]
  },
  {
   "cell_type": "code",
   "execution_count": 48,
   "metadata": {},
   "outputs": [],
   "source": [
    "# Function to select a pivot, and:\n",
    "# puts all the smaller elements to its left\n",
    "# puts all the greater elements to its right\n",
    "# returns the pivot position\n",
    "def partition(array, low, high): \n",
    "    \"\"\" This function uses Lomuto partition scheme to order arrays.\n",
    "\n",
    "    Given an array, a starting position low, and \n",
    "    a stopping position high, the function takes the high-th\n",
    "    element of the array (pivot) and compares it with the elements of \n",
    "    the array between position low and high-1.\n",
    "    The elements smaller than pivot are put at its left,\n",
    "    the elements greater than pivot are put at its right.\n",
    "    Eventually, the position of the pivot after the sorting\n",
    "    is returned.\n",
    "    \"\"\"\n",
    "\n",
    "    # index of greater element\n",
    "    i = low - 1          \n",
    "\n",
    "    # pivot is the last element of the array\n",
    "    pivot = array[high]     \n",
    "    \n",
    "    # iterate over all the elements of the array, but the pivot\n",
    "    for j in range(low , high): \n",
    "  \n",
    "        # If current element is smaller than or equal to pivot,\n",
    "        # switch its position with the first element of the array \n",
    "        # grater than the pivot\n",
    "        if array[j] <= pivot:          \n",
    "            i = i + 1 \n",
    "            array[i],array[j] = array[j],array[i] \n",
    "            \n",
    "    # Put the pivot just after the last element\n",
    "    # smaller then or equal to it\n",
    "    array[i+1],array[high] = array[high],array[i+1] \n",
    "\n",
    "    # Return the position of the pivot\n",
    "    return (i + 1) \n",
    "\n",
    "\n",
    "# Actual sorting\n",
    "def quicksort(array,low,high):\n",
    "    \"\"\" This function performs the quicksort algorithm following the Lomuto partition scheme.\n",
    "    \n",
    "    The implementation relies on the 'partition' function, which\n",
    "    is defined in this notebook.\n",
    "    \"\"\"\n",
    "\n",
    "    # Check if the 'array' parameter is a list\n",
    "    # of real numbers\n",
    "    try:\n",
    "        test = list(array)\n",
    "    except TypeError:\n",
    "        print(\"I need a list:\") \n",
    "        print(array, \"is not a list\")\n",
    "        return\n",
    "\n",
    "    if (all(isinstance(x, int) for x in array) == False\n",
    "    and all(isinstance(x, float) for x in array) == False): \n",
    "        print(\"This is not a list of real numebrs\")\n",
    "        print(\"I do not know how to sort this\")\n",
    "        return\n",
    "\n",
    "    # Do this only if the array is not already ordered\n",
    "    if low < high: \n",
    "  \n",
    "        # Order the array with respect to the pivot\n",
    "        # and return the correct pivot position\n",
    "        pi = partition(array,low,high) \n",
    "  \n",
    "        # Separately sort elements smaller  \n",
    "        # and greater than the pivot\n",
    "        quicksort(array, low, pi - 1) \n",
    "        quicksort(array, pi + 1, high) \n",
    "        "
   ]
  },
  {
   "cell_type": "code",
   "execution_count": 72,
   "metadata": {},
   "outputs": [
    {
     "name": "stdout",
     "output_type": "stream",
     "text": [
      "Original array:\n",
      "[55, 16, 59, 39, 15, 49, 74, 27, 29, 84]\n",
      "\n",
      "Sorted array:\n",
      "[15, 16, 27, 29, 39, 49, 55, 59, 74, 84]\n"
     ]
    }
   ],
   "source": [
    "from random import randint\n",
    "\n",
    "arr=[]\n",
    "for i in range(10):\n",
    "    arr.append(randint(1, 100))\n",
    "\n",
    "# Just for testing with lists of\n",
    "# non-real numbers\n",
    "#arr.append(2j)\n",
    "#arr = \"pizza\"\n",
    "\n",
    "print(\"Original array:\")\n",
    "print(arr)\n",
    "\n",
    "print()\n",
    "\n",
    "# Check if the 'array' parameter is a list\n",
    "try:\n",
    "    arr = list(arr)\n",
    "    length = len(arr)\n",
    "    quicksort(arr, 0, length - 1)\n",
    "    print (\"Sorted array:\") \n",
    "    print(arr)    \n",
    "except TypeError:\n",
    "    print(\"I need a list:\") \n",
    "    print(arr, \"is not a list\")\n",
    "\n"
   ]
  },
  {
   "cell_type": "markdown",
   "metadata": {},
   "source": [
    "### Hoare partition scheme\n"
   ]
  },
  {
   "cell_type": "markdown",
   "metadata": {},
   "source": [
    "This second partition scheme uses two indices to put the elements of the array in the correct position with respect to the pivot:\n",
    "- i starts by pointing at the starting position;\n",
    "- j starts by pointing at the stopping position.\n",
    "\n",
    "The i and the j indices are moved toward each other, until a pair of elements, one greater than or equal to the pivot and one smaller than or equal to the pivot are found in the wrong positions and swapped.\n",
    "Once the indices get the same value, the algorithm stops and returns the indices value, which is used to further split the array in two parts, on which the algorithms operates iteratively until it is sorted.\n",
    "Thanks to the fact that the two indices look for a pair of elements in the _wrong_ position, this partition scheme allows to reduce the number of swaps with respect to the Lomuto one, so that it is, in principle, more efficient."
   ]
  },
  {
   "cell_type": "markdown",
   "metadata": {},
   "source": [
    "A description in pseudo-code is given here:"
   ]
  },
  {
   "cell_type": "markdown",
   "metadata": {},
   "source": [
    "    algorithm partition(A, lo, hi) is\n",
    "        pivot := A[lo + (hi - lo) / 2]\n",
    "        i := lo - 1\n",
    "        j := hi + 1\n",
    "        loop forever\n",
    "            do\n",
    "                i := i + 1\n",
    "            while A[i] < pivot\n",
    "            do\n",
    "                j := j - 1\n",
    "            while A[j] > pivot\n",
    "            if i >= j then\n",
    "                return j\n",
    "            swap A[i] with A[j]\n",
    "        \n",
    "    algorithm quicksort(A, lo, hi) is\n",
    "        if lo < hi then\n",
    "            p := partition(A, lo, hi)\n",
    "            quicksort(A, lo, p)\n",
    "            quicksort(A, p + 1, hi)"
   ]
  },
  {
   "cell_type": "markdown",
   "metadata": {},
   "source": [
    "While the acual python implementation follows:"
   ]
  },
  {
   "cell_type": "code",
   "execution_count": 50,
   "metadata": {},
   "outputs": [],
   "source": [
    "def partition2(array, low, high):\n",
    "    \"\"\" This function orders arrays using the Hoare partition scheme.\n",
    "\n",
    "    Given an array, a starting position (low), and \n",
    "    a stopping position (high), the function takes the\n",
    "    element in the middle between low and high as pivot.\n",
    "    The function then search for elements greater than the\n",
    "    pivot at its left and element smaller than the pivot at its\n",
    "    right, and swap them. \n",
    "    Doing so: \n",
    "    all the elements smaller than the pivot are put at its left, and\n",
    "    all the elements greater than the pivot are put at its right.\n",
    "    \"\"\"\n",
    "    # Set the pivot as the element in the middle of the array\n",
    "    pivot = array[low + (high - low) // 2]\n",
    "    # Initialize the indices\n",
    "    i = low - 1\n",
    "    j = high + 1\n",
    "    \n",
    "    # Infinite loop \n",
    "    # It actually exits when the indices get the same value\n",
    "    while 1:\n",
    "        # Move i from left to right until an element greater\n",
    "        # than the pivot is found\n",
    "        i = i + 1\n",
    "        while array[i] < pivot:\n",
    "            i = i + 1\n",
    "        # Move j from right to left until an element smaller\n",
    "        # than the pivot is found        \n",
    "        j = j - 1\n",
    "        while array[j] > pivot:\n",
    "            j = j - 1\n",
    "       \n",
    "        # If the two indices have the same value,\n",
    "        # return that value\n",
    "        if i >= j:\n",
    "            return j\n",
    "        \n",
    "        # Swap the element at the wrong side of the pivot\n",
    "        array[i], array[j] = array[j], array[i]\n",
    "\n",
    "\n",
    "# Actual sorting        \n",
    "def quicksort2(array, low, high):\n",
    "    \"\"\" This function performs the quicksort algorithm following the Hoare partition scheme.\n",
    "    \n",
    "    The implementation relies on the 'partition2' function, which\n",
    "    is defined in this notebook.\n",
    "    \"\"\"\n",
    "    \n",
    "    # Check if the 'array' parameter is a list\n",
    "    # of real numbers\n",
    "    try:\n",
    "        test = list(array)\n",
    "    except TypeError:\n",
    "        print(\"I need a list:\") \n",
    "        print(array, \"is not a list\")\n",
    "        return\n",
    "\n",
    "    if (all(isinstance(x, int) for x in array) == False\n",
    "    and all(isinstance(x, float) for x in array) == False): \n",
    "        print(\"This is not a list of real numebrs\")\n",
    "        print(\"I do not know how to sort this\")\n",
    "        return\n",
    "    \n",
    "    # Do this only if the array is not already ordered\n",
    "    if low < high:\n",
    "        \n",
    "        # Order the array with respect to the pivot\n",
    "        # and return the correct pivot position\n",
    "        pi = partition2(array, low, high) \n",
    "          \n",
    "        # Separately sort elements at the left\n",
    "        # and at the right with respect to the 'pi'\n",
    "        # element given by the previous iteration\n",
    "        quicksort2(array, low, pi)\n",
    "        quicksort2(array, pi + 1, high)"
   ]
  },
  {
   "cell_type": "code",
   "execution_count": 71,
   "metadata": {},
   "outputs": [
    {
     "name": "stdout",
     "output_type": "stream",
     "text": [
      "Original array:\n",
      "[52, 87, 20, 35, 51, 32, 89, 75, 54, 73]\n",
      "\n",
      "Sorted array:\n",
      "[20, 32, 35, 51, 52, 54, 73, 75, 87, 89]\n"
     ]
    }
   ],
   "source": [
    "from random import randint\n",
    "\n",
    "arr=[]\n",
    "for i in range(10):\n",
    "    arr.append(randint(1, 100))\n",
    "\n",
    "print(\"Original array:\")\n",
    "print(arr)\n",
    "\n",
    "#arr.append(2j)\n",
    "#arr = \"pizza\"\n",
    "\n",
    "print()\n",
    "\n",
    "# Check if the 'array' parameter is a list\n",
    "try:\n",
    "    arr = list(arr)\n",
    "    length = len(arr)\n",
    "    quicksort2(arr, 0, length - 1)\n",
    "    print (\"Sorted array:\") \n",
    "    print(arr)    \n",
    "except TypeError:\n",
    "    print(\"I need a list:\") \n",
    "    print(arr, \"is not a list\")"
   ]
  }
 ],
 "metadata": {
  "kernelspec": {
   "display_name": "Python 3",
   "language": "python",
   "name": "python3"
  },
  "language_info": {
   "codemirror_mode": {
    "name": "ipython",
    "version": 3
   },
   "file_extension": ".py",
   "mimetype": "text/x-python",
   "name": "python",
   "nbconvert_exporter": "python",
   "pygments_lexer": "ipython3",
   "version": "3.7.3"
  }
 },
 "nbformat": 4,
 "nbformat_minor": 2
}
