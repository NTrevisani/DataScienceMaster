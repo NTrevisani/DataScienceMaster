{
 "cells": [
  {
   "cell_type": "markdown",
   "metadata": {},
   "source": [
    "\n",
    "# Follow-up exercises: Introduction to Python"
   ]
  },
  {
   "cell_type": "markdown",
   "metadata": {},
   "source": [
    "\n",
    "Student: Nicolò Trevisani\n"
   ]
  },
  {
   "cell_type": "markdown",
   "metadata": {},
   "source": [
    "## 1. Compute the decimals of $\\pi$ using the Wallis formula\n"
   ]
  },
  {
   "cell_type": "markdown",
   "metadata": {},
   "source": [
    "According to the [Wallis formula](https://en.wikipedia.org/wiki/Wallis_product), $\\pi$ can be obtained by the following product:"
   ]
  },
  {
   "cell_type": "markdown",
   "metadata": {},
   "source": [
    "# $$ \\pi = 2 \\prod_{i = 1}^{\\infty} \\frac{4 i^2}{4 i^2 - 1 } $$"
   ]
  },
  {
   "cell_type": "markdown",
   "metadata": {},
   "source": [
    "I decided to implement it by using a simple _for_ iteration, as follows:"
   ]
  },
  {
   "cell_type": "code",
   "execution_count": 23,
   "metadata": {},
   "outputs": [
    {
     "name": "stdout",
     "output_type": "stream",
     "text": [
      "Please tell me how many products to you want to compute: 10\n",
      "\n",
      "\n",
      "After 10 iterations, I get the following value for pi: 3.060035\n",
      "Comparing with the value of pi I get from python (3.141593),\n",
      "I can say I reached a precision of 2.596075%\n"
     ]
    }
   ],
   "source": [
    "import math\n",
    "\n",
    "# Getting the value of pi from python, to estimate the precision of the algorithm\n",
    "math_pi = math.pi\n",
    "\n",
    "# Initializing the 'pi' I want to use in the code\n",
    "pi = 2\n",
    "\n",
    "# Asking how many iterations the user would like to use for pi estimation\n",
    "up_to = int(input(\"Please tell me how many products to you want to compute: \"))\n",
    "print(\"\\n\")\n",
    "\n",
    "# Actual calculation\n",
    "for i in range(1,up_to):\n",
    "    pi *= 4*(i**2) / (4*(i**2) - 1)\n",
    "# Just printing the result once the iterations are done\n",
    "else:\n",
    "    print(\"After {0} iterations, I get the following value for pi: {1:.6f}\".format(up_to, pi))\n",
    "    print(\"Comparing with the value of pi I get from python (%.6f),\" %(math_pi))\n",
    "    precision = 100. * (math_pi - pi) / (math_pi)\n",
    "    print(\"I can say I reached a precision of %.6f%%\" %(precision))\n",
    "\n"
   ]
  },
  {
   "cell_type": "markdown",
   "metadata": {},
   "source": [
    "After some tests, it seems that the precision of the algorithm, defined as the _relative distance_ between the result and the actual value of $\\pi$, goes as $\\frac{25}{n}$%.\n",
    "\n",
    "e.g.:\n",
    "- After 100 iterations: 0.25%\n",
    "- After 1000 iterations: 0.025%\n",
    "- After 10000 iterations: 0.0025%"
   ]
  },
  {
   "cell_type": "markdown",
   "metadata": {},
   "source": [
    "## 2. Write a function that displays the n first terms of the Fibonacci sequence\n",
    "\n"
   ]
  },
  {
   "cell_type": "code",
   "execution_count": 36,
   "metadata": {},
   "outputs": [
    {
     "name": "stdout",
     "output_type": "stream",
     "text": [
      "I need an integer number as input\n",
      "4.1 is not an integer number\n"
     ]
    }
   ],
   "source": [
    "def fibonacci(n = 10):\n",
    "    \"\"\" This function prints the first n terms\n",
    "    of the fibonacci sequence.\n",
    "    If 'n' is not specified, 10 is taken by default.\n",
    "    \"\"\"\n",
    "    \n",
    "    if isinstance(n, int) == False: \n",
    "        print(\"I need an integer number as input\")\n",
    "        print(n, \"is not an integer number\")\n",
    "        \n",
    "         \n",
    "     \n",
    "    pass\n",
    "    \n",
    "fibonacci(4.1)"
   ]
  },
  {
   "cell_type": "code",
   "execution_count": null,
   "metadata": {},
   "outputs": [],
   "source": []
  }
 ],
 "metadata": {
  "kernelspec": {
   "display_name": "Python 3",
   "language": "python",
   "name": "python3"
  },
  "language_info": {
   "codemirror_mode": {
    "name": "ipython",
    "version": 3
   },
   "file_extension": ".py",
   "mimetype": "text/x-python",
   "name": "python",
   "nbconvert_exporter": "python",
   "pygments_lexer": "ipython3",
   "version": "3.6.6"
  }
 },
 "nbformat": 4,
 "nbformat_minor": 2
}
