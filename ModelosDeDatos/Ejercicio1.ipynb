{
 "cells": [
  {
   "cell_type": "markdown",
   "metadata": {},
   "source": [
    "\n",
    "# Follow-up exercises: Introduction to Python"
   ]
  },
  {
   "cell_type": "markdown",
   "metadata": {},
   "source": [
    "\n",
    "Student: Nicolò Trevisani\n"
   ]
  },
  {
   "cell_type": "markdown",
   "metadata": {},
   "source": [
    "## 0. From the scipy-lectures, reproduce and comment the basic examples from the introduction sections\n"
   ]
  },
  {
   "cell_type": "markdown",
   "metadata": {},
   "source": [
    "The [spicy lectures](http://scipy-lectures.org/intro/language/python_language.html) introduces some basic concepts of python. Among them:\n",
    "- Basic Types; \n",
    "- Control Flow; \n",
    "- Functions Definition.\n",
    "\n",
    "Here, I am listing the most interesting examples I found, among the ones presented there."
   ]
  },
  {
   "cell_type": "markdown",
   "metadata": {},
   "source": [
    "### Lists\n"
   ]
  },
  {
   "cell_type": "markdown",
   "metadata": {},
   "source": [
    "Regarding lists, I would like to mention a feature of the _slicing_ that I did not think it was possible until we saw it in the lectures.\n",
    "\n",
    "Using the *slicing*, it is in fact possible to insert new elements in a list in a specific position."
   ]
  },
  {
   "cell_type": "code",
   "execution_count": 1,
   "metadata": {},
   "outputs": [
    {
     "data": {
      "text/plain": [
       "['red', 'blue', 'gray', 'purple', 'pink', 'green', 'black', 'white']"
      ]
     },
     "execution_count": 1,
     "metadata": {},
     "output_type": "execute_result"
    }
   ],
   "source": [
    "colors = ['red', 'blue', 'green', 'black', 'white']\n",
    "\n",
    "# I want to insert three new elements to the 'color' list,\n",
    "# just after the 'blue' element\n",
    "colors[2:2] = ['gray', 'purple', 'pink']\n",
    "\n",
    "colors"
   ]
  },
  {
   "cell_type": "markdown",
   "metadata": {},
   "source": [
    "But also replace one (or more) element with an arbitrary number of new elements."
   ]
  },
  {
   "cell_type": "code",
   "execution_count": 2,
   "metadata": {},
   "outputs": [
    {
     "data": {
      "text/plain": [
       "['red', 'blue', 'gray', 'purple', 'pink', 'black', 'white']"
      ]
     },
     "execution_count": 2,
     "metadata": {},
     "output_type": "execute_result"
    }
   ],
   "source": [
    "colors = ['red', 'blue', 'green', 'black', 'white']\n",
    "\n",
    "# I want to remove the 'green' element and insert three new elements \n",
    "# to the 'color' list\n",
    "colors[2:3] = ['gray', 'purple', 'pink']\n",
    "\n",
    "colors"
   ]
  },
  {
   "cell_type": "markdown",
   "metadata": {},
   "source": [
    "### Control flow"
   ]
  },
  {
   "cell_type": "markdown",
   "metadata": {},
   "source": [
    "Also for control flow, I try to put here examples of aspects of python I was not expecting.\n",
    "\n",
    "The first thing is the structure of the _for_ iteration, which can be *closed* with an else."
   ]
  },
  {
   "cell_type": "code",
   "execution_count": 3,
   "metadata": {},
   "outputs": [
    {
     "name": "stdout",
     "output_type": "stream",
     "text": [
      "Python is cool\n",
      "Python is powerful\n",
      "Python is readable\n",
      "But also many more things\n"
     ]
    }
   ],
   "source": [
    "# In this case, the 'for' ends with an 'else' statement\n",
    "for word in ('cool', 'powerful', 'readable'):\n",
    "    print('Python is %s' % word)\n",
    "else:\n",
    "    print(\"But also many more things\")"
   ]
  },
  {
   "cell_type": "code",
   "execution_count": 4,
   "metadata": {},
   "outputs": [
    {
     "name": "stdout",
     "output_type": "stream",
     "text": [
      "Python is cool\n",
      "Python is powerful\n",
      "Python is readable\n"
     ]
    }
   ],
   "source": [
    "# Here, the 'else' statement is skipped, since the 'for'\n",
    "# was broken before finishing\n",
    "for word in ('cool', 'powerful', 'readable'):\n",
    "    print('Python is %s' % word)\n",
    "    if word == 'readable':\n",
    "        break\n",
    "else:\n",
    "    print(\"But also many more things\")    "
   ]
  },
  {
   "cell_type": "markdown",
   "metadata": {},
   "source": [
    "I found interesting also the _enumerate_ function, which allows to easily iterate over the indics and the items of a list."
   ]
  },
  {
   "cell_type": "code",
   "execution_count": 5,
   "metadata": {},
   "outputs": [
    {
     "name": "stdout",
     "output_type": "stream",
     "text": [
      "(0, 'cool')\n",
      "(1, 'powerful')\n",
      "(2, 'readable')\n"
     ]
    }
   ],
   "source": [
    "words = ('cool', 'powerful', 'readable')\n",
    "for index, item in enumerate(words):\n",
    "    print((index, item))"
   ]
  },
  {
   "cell_type": "markdown",
   "metadata": {},
   "source": [
    "### Functions"
   ]
  },
  {
   "cell_type": "markdown",
   "metadata": {},
   "source": [
    "Again, some examples of counterintuitive (at least to me) behaviours of functions in python.\n",
    "\n",
    "First of all, default values are evaluated when the function is defined, not when it is called.\n",
    "This fact produces different results when the _default value_ is mutable or immutable. "
   ]
  },
  {
   "cell_type": "code",
   "execution_count": 6,
   "metadata": {},
   "outputs": [
    {
     "name": "stdout",
     "output_type": "stream",
     "text": [
      "20\n",
      "2000000000.0\n"
     ]
    }
   ],
   "source": [
    "# Using an immutable object (int)\n",
    "bigx = 10\n",
    "\n",
    "def double_it(x=bigx):\n",
    "     return x * 2\n",
    "\n",
    "bigx = 1e9  # Now really big\n",
    "print(double_it())\n",
    "\n",
    "# Now explicitly passing the new value of bigx\n",
    "print(double_it(1e9))\n"
   ]
  },
  {
   "cell_type": "markdown",
   "metadata": {},
   "source": [
    "In this first case, the default value bigx is evaluated when the function double_it is created. \n",
    "This means that when double_it is called without passing it any explicit value, it uses the value of bigx it got when it was defined.\n",
    "Of course, if the new value of bigx is explicitly given to the function, it uses the new one."
   ]
  },
  {
   "cell_type": "markdown",
   "metadata": {},
   "source": [
    "On the other hand, using a mutable type object in a keyword argument (and modifying it inside the function body) produces a different result."
   ]
  },
  {
   "cell_type": "code",
   "execution_count": 7,
   "metadata": {},
   "outputs": [
    {
     "name": "stdout",
     "output_type": "stream",
     "text": [
      "{'a': 2, 'b': 3}\n",
      "{'a': 3, 'b': 4}\n",
      "{'a': 4, 'b': 5}\n"
     ]
    }
   ],
   "source": [
    "def add_to_dict(args={'a': 1, 'b': 2}):\n",
    "    for i in args.keys():\n",
    "        args[i] += 1\n",
    "    print(args)\n",
    "\n",
    "add_to_dict()\n",
    "add_to_dict()\n",
    "add_to_dict()\n"
   ]
  },
  {
   "cell_type": "markdown",
   "metadata": {},
   "source": [
    "Since dictionaries are mutable objects, their values can actually be modified permanently by the function."
   ]
  },
  {
   "cell_type": "markdown",
   "metadata": {},
   "source": [
    "A similar example is given by the following exercise.\n",
    "\n",
    "In general, when a variable is passed to a function, python gives the reference to the object to which the variable refers (value), not the variable itself.\n",
    "\n",
    "This means that if the value passed to a function is immutable, the function does not modify the variable. On the other hand, if the value is mutable, the function may modify the variable."
   ]
  },
  {
   "cell_type": "code",
   "execution_count": 8,
   "metadata": {},
   "outputs": [
    {
     "name": "stdout",
     "output_type": "stream",
     "text": [
      "x: 23\n",
      "y: [99, 42]\n",
      "z: [99]\n",
      "\n",
      "a: 77\n",
      "b: [99, 42]\n",
      "c: [28]\n"
     ]
    }
   ],
   "source": [
    "def try_to_modify(x, y, z):\n",
    "    x = 23\n",
    "    y.append(42)\n",
    "    z = [99] # new reference\n",
    "    print(\"x:\",x)\n",
    "    print(\"y:\",y)\n",
    "    print(\"z:\",z)\n",
    "\n",
    "a = 77    # immutable variable\n",
    "b = [99]  # mutable variable\n",
    "c = [28]\n",
    "\n",
    "try_to_modify(a, b, c)\n",
    "\n",
    "print()\n",
    "\n",
    "print(\"a:\",a)\n",
    "print(\"b:\",b)\n",
    "print(\"c:\",c)"
   ]
  },
  {
   "cell_type": "markdown",
   "metadata": {},
   "source": [
    "In this example:\n",
    "- a = 77: an int is an immutable object and cannot be modified by the function;\n",
    "- b = [99]: a list is a mutable object, so that _appending_ a new value to y inside the function actually modifies also b;\n",
    "- c = [28]: also c is a list, so that it is a mutable object. On the other hand, z gets assigned a new value _inside_ the function. In this case, z 'lives' only inside the scope of the function, so that outside c keeps the value it was originally assigned."
   ]
  },
  {
   "cell_type": "markdown",
   "metadata": {},
   "source": [
    "In general, variables declared outside the function can be referenced within the function."
   ]
  },
  {
   "cell_type": "code",
   "execution_count": 9,
   "metadata": {},
   "outputs": [
    {
     "data": {
      "text/plain": [
       "15"
      ]
     },
     "execution_count": 9,
     "metadata": {},
     "output_type": "execute_result"
    }
   ],
   "source": [
    "x = 5\n",
    "\n",
    "def addx(y):\n",
    "    return x + y\n",
    "\n",
    "addx(10)"
   ]
  },
  {
   "cell_type": "markdown",
   "metadata": {},
   "source": [
    "These variables can be modified inside the function, but the changes are not propagted outside it. For example:"
   ]
  },
  {
   "cell_type": "code",
   "execution_count": 10,
   "metadata": {},
   "outputs": [
    {
     "name": "stdout",
     "output_type": "stream",
     "text": [
      "x is 10\n",
      "5\n"
     ]
    }
   ],
   "source": [
    "x = 5\n",
    "\n",
    "def setx(y):\n",
    "    x = y\n",
    "    print('x is %d' % x)\n",
    "\n",
    "setx(10)\n",
    "print(x)"
   ]
  },
  {
   "cell_type": "markdown",
   "metadata": {},
   "source": [
    "If we really want to do so, we need to decalre the variables as **global** inside the function."
   ]
  },
  {
   "cell_type": "code",
   "execution_count": 11,
   "metadata": {},
   "outputs": [
    {
     "name": "stdout",
     "output_type": "stream",
     "text": [
      "x is 10\n",
      "10\n"
     ]
    }
   ],
   "source": [
    "x = 5\n",
    "\n",
    "def setx(y):\n",
    "    # now we can globally modify x\n",
    "    global x \n",
    "    x = y\n",
    "    print('x is %d' % x)\n",
    "\n",
    "setx(10)\n",
    "print(x)"
   ]
  },
  {
   "cell_type": "markdown",
   "metadata": {},
   "source": [
    "## 1. Compute the decimals of $\\pi$ using the Wallis formula\n"
   ]
  },
  {
   "cell_type": "markdown",
   "metadata": {},
   "source": [
    "According to the [Wallis formula](https://en.wikipedia.org/wiki/Wallis_product), $\\pi$ can be obtained by the following product:"
   ]
  },
  {
   "cell_type": "markdown",
   "metadata": {},
   "source": [
    "# $$ \\pi = 2 \\prod_{i = 1}^{\\infty} \\frac{4 i^2}{4 i^2 - 1 } $$"
   ]
  },
  {
   "cell_type": "markdown",
   "metadata": {},
   "source": [
    "I decided to implement it by using a simple _for_ iteration, as follows:"
   ]
  },
  {
   "cell_type": "code",
   "execution_count": 12,
   "metadata": {},
   "outputs": [
    {
     "name": "stdout",
     "output_type": "stream",
     "text": [
      "Please tell me how many products to you want to compute: 10\n",
      "\n",
      "\n",
      "After 10 iterations, I get the following value for pi: 3.060035\n",
      "Comparing with the value of pi I get from python (3.141593),\n",
      "I can say I reached a precision of 2.596075%\n"
     ]
    }
   ],
   "source": [
    "import math\n",
    "\n",
    "# Getting the value of pi from python, to estimate the precision of the algorithm\n",
    "math_pi = math.pi\n",
    "\n",
    "# Initializing the 'pi' I want to use in the code\n",
    "pi = 2\n",
    "\n",
    "# Asking how many iterations the user would like to use for pi estimation\n",
    "up_to = input(\"Please tell me how many products to you want to compute: \")\n",
    "print(\"\\n\")\n",
    "\n",
    "# Check if the 'up_to' parameter is an int\n",
    "try:\n",
    "    up_to = int(up_to)\n",
    "    # Check if 'up_to' is positive\n",
    "    if up_to > 0:\n",
    "        # Actual calculation\n",
    "        for i in range(1,up_to):\n",
    "            pi *= 4*(i**2) / (4*(i**2) - 1)\n",
    "        # Just printing the result once the iterations are done\n",
    "        else:\n",
    "            print(\"After {0} iterations, I get the following value for pi: {1:.6f}\".format(up_to, pi))\n",
    "            print(\"Comparing with the value of pi I get from python (%.6f),\" %(math_pi))\n",
    "            precision = 100. * (math_pi - pi) / (math_pi)\n",
    "            print(\"I can say I reached a precision of %.6f%%\" %(precision))\n",
    "    else:\n",
    "        print(\"I need a positive number as input:\") \n",
    "        print(up_to, \"is not a positive number\")        \n",
    "except ValueError:\n",
    "    print(\"I need an integer number as input:\") \n",
    "    print(up_to, \"is not an integer number\")"
   ]
  },
  {
   "cell_type": "markdown",
   "metadata": {},
   "source": [
    "After some tests, it seems that the precision of the algorithm, defined as the _relative distance_ between the result and the actual value of $\\pi$, goes as $\\frac{25}{n}$%.\n",
    "\n",
    "e.g.:\n",
    "- After 100 iterations: 0.25%\n",
    "- After 1000 iterations: 0.025%\n",
    "- After 10000 iterations: 0.0025%"
   ]
  },
  {
   "cell_type": "markdown",
   "metadata": {},
   "source": [
    "## 2. Write a function that displays the n first terms of the Fibonacci sequence\n",
    "\n"
   ]
  },
  {
   "cell_type": "markdown",
   "metadata": {},
   "source": [
    "The [Fibonacci sequence](https://en.wikipedia.org/wiki/Fibonacci_number) is defined such that each number is the sum of the two preceding ones, starting from 0 and 1:"
   ]
  },
  {
   "attachments": {
    "fibonacci.png": {
     "image/png": "[encoded data removed]"
    }
   },
   "cell_type": "markdown",
   "metadata": {},
   "source": [
    "![fibonacci.png](attachment:fibonacci.png)"
   ]
  },
  {
   "cell_type": "markdown",
   "metadata": {},
   "source": [
    "The implementation of the sequence itself is just a small part of the function and is based on a _for_ iteration.\n",
    "\n",
    "I tried to focus more on the _defensive programming_ part, trying to ensure that in case incorrect inputs are given, the code does not crash, but gives a short explanation of why the output is not the expected one.\n",
    "In particular, I implemented the following *protections*:\n",
    "- the variable _n_ has to be an integer. If not, a _ValueError_ exception is called;\n",
    "- the number _n_ of terms has to be positive;\n",
    "- in case _n_ is 0, a message says that no output will be shown, since this is the meaning of requiring 0 element of a sequence.\n",
    "\n",
    "The same protections have been implemented in the previous exercise. In that case, on the other hand, I did not use a function to define the actual implementation of the calculation and this lead to a less readable and more complex code.\n",
    "This can be one of the many reason to prefer modular programming."
   ]
  },
  {
   "cell_type": "code",
   "execution_count": 13,
   "metadata": {},
   "outputs": [
    {
     "name": "stdout",
     "output_type": "stream",
     "text": [
      "Please tell me how many terms of the Fibonacci sequence you want me to print: 10\n",
      "\n",
      "The first 10 terms of the fibonacci sequence are:\n",
      "0\n",
      "1\n",
      "1\n",
      "2\n",
      "3\n",
      "5\n",
      "8\n",
      "13\n",
      "21\n",
      "34\n"
     ]
    }
   ],
   "source": [
    "def fibonacci(n = 10):\n",
    "    \"\"\" This function prints the first n terms of the fibonacci sequence.\n",
    "    \n",
    "    If 'n' is not specified, 10 is taken as default value.\n",
    "    The funcion accepts only positive integer numbers as input.\n",
    "    No output is produced in case 'n' is 0.\n",
    "    \"\"\"\n",
    "       \n",
    "    # Check if the 'n' parameter is an int\n",
    "    try:\n",
    "        n = int(n)\n",
    "    except ValueError:\n",
    "        print(\"I need an integer number as input:\") \n",
    "        print(n, \"is not an integer number\")\n",
    "        return\n",
    "        \n",
    "    # If 'n' is an int, it has to be positive\n",
    "    if n < 0:\n",
    "        print(\"I need a positive integer number as input:\")\n",
    "        print(n, \"is negative\")\n",
    "        return\n",
    "\n",
    "    # Special case: 'n' = 0 \n",
    "    if n == 0:\n",
    "        print(\"You are asking me to print the first 0 terms of a sequence!\")\n",
    "        print(\"No output will be produced.\")\n",
    "        return\n",
    "    \n",
    "    # Special case: 'n' = 1\n",
    "    if n == 1:\n",
    "        print(\"The first term of the fibonacci sequence is:\")\n",
    "    else:\n",
    "        print(\"The first \" + str(n) + \" terms of the fibonacci sequence are:\")\n",
    "\n",
    "    # Actual implementation of the sequence\n",
    "    a, b = 0, 1\n",
    "    for i in range(n):\n",
    "        print(a, end = '\\n')\n",
    "        a, b = b, a + b\n",
    "\n",
    "# Just to check if the dockstring is properly shown        \n",
    "#fibonacci?\n",
    "        \n",
    "n_terms = input(\"Please tell me how many terms of the Fibonacci sequence you want me to print: \")\n",
    "print()\n",
    "fibonacci(n_terms)"
   ]
  },
  {
   "cell_type": "markdown",
   "metadata": {},
   "source": [
    "## 3. Implement the quicksort algorithm\n"
   ]
  },
  {
   "cell_type": "markdown",
   "metadata": {},
   "source": [
    "The quicksort algorithm allows to efficiently order the elements of an array.\n",
    "The idea is to select one element of the array, called pivot, and to put to its _left_ all the elements of the array smaller to it and to its _right_ all the elements greater or equal to it.\n",
    "Operating iteratively on the two subsets of elements of the array created, it is possible to sort the array.\n",
    "\n",
    "The general idea of how the algoritm works is described below:"
   ]
  },
  {
   "cell_type": "markdown",
   "metadata": {},
   "source": [
    "    function quicksort(array)\n",
    "        var list less, greater\n",
    "        if length(array) < 2\n",
    "            return array\n",
    "        select and remove a pivot value pivot from array\n",
    "        for each x in array\n",
    "            if x < pivot + 1 then append x to less\n",
    "            else append x to greater\n",
    "        return concatenate(quicksort(less), pivot, quicksort(greater))"
   ]
  },
  {
   "cell_type": "markdown",
   "metadata": {},
   "source": [
    "The python implementation follows. Here I tried to implement some protections, similarly to the previous cases:\n",
    "- the input has to be a list;\n",
    "- the element of the list have to be real numbers, so that it makes sense to order them."
   ]
  },
  {
   "cell_type": "code",
   "execution_count": 14,
   "metadata": {},
   "outputs": [],
   "source": [
    "def quicksort(array): \n",
    "    \"\"\"This function uses quicksort to order arrays.\n",
    "    \n",
    "    Given an array, the function considers the first\n",
    "    element as a pivot, and splits the array in three \n",
    "    parts: the first one with all the values smaller\n",
    "    than the pivot, the second one is the pivot itself,\n",
    "    and the third one with all the values greater than the \n",
    "    pivot. Operating iteratively, it sorts the array.\n",
    "    \"\"\"\n",
    "\n",
    "    \n",
    "    # Check if the 'array' parameter is a list\n",
    "    # of real numbers\n",
    "    try:\n",
    "        test = list(array)\n",
    "    except TypeError:\n",
    "        print(\"I need a list:\") \n",
    "        print(array, \"is not a list\")\n",
    "        return\n",
    "\n",
    "    if (all(isinstance(x, int) for x in array) == False\n",
    "    and all(isinstance(x, float) for x in array) == False): \n",
    "        print(\"This is not a list of real numebrs\")\n",
    "        print(\"I do not know how to sort this\")\n",
    "        return\n",
    "\n",
    "    # Initialize three lists of elements of the array\n",
    "    # depending on their relative value with respect to the pivot\n",
    "    smaller = []\n",
    "    pivot = []\n",
    "    greater = []\n",
    "\n",
    "    # Do this only if the array contains more than one element\n",
    "    if len(array) > 1:\n",
    "        # The pivot is the first element of the array\n",
    "        pi = array[0]\n",
    "        # Pivot just has one value\n",
    "        pivot.append(pi)\n",
    "        # Scan the array (skipping the pivot) \n",
    "        # and split it depending on the \n",
    "        # values of the elements with respect to the pivot\n",
    "        for x in array[1:]:\n",
    "            if x < pi:\n",
    "                smaller.append(x)\n",
    "            else: \n",
    "                greater.append(x)\n",
    "        # Return the concatenation of the three lists,\n",
    "        # properly ordered\n",
    "        return quicksort(smaller)+pivot+quicksort(greater)  \n",
    "    # If the array has just one element,\n",
    "    # directly return it\n",
    "    else:\n",
    "        return array"
   ]
  },
  {
   "cell_type": "code",
   "execution_count": 16,
   "metadata": {},
   "outputs": [
    {
     "name": "stdout",
     "output_type": "stream",
     "text": [
      "Original array:\n",
      "1\n",
      "\n",
      "I need a list:\n",
      "1 is not a list\n"
     ]
    }
   ],
   "source": [
    "from random import randint\n",
    "\n",
    "arr=[]\n",
    "for i in range(10):\n",
    "    arr.append(randint(1, 100))\n",
    "\n",
    "# Just for testing with lists of\n",
    "# non-real numbers\n",
    "#arr.append(2j)\n",
    "#arr = \"pizza\"\n",
    "\n",
    "print(\"Original array:\")\n",
    "print(arr)\n",
    "\n",
    "print()\n",
    "\n",
    "# Check if the 'array' parameter is a list\n",
    "try:\n",
    "    arr = list(arr)\n",
    "    new_arr = quicksort(arr)\n",
    "    print (\"Sorted array:\") \n",
    "    print(new_arr)    \n",
    "except TypeError:\n",
    "    print(\"I need a list:\") \n",
    "    print(arr, \"is not a list\")\n"
   ]
  },
  {
   "cell_type": "code",
   "execution_count": null,
   "metadata": {},
   "outputs": [],
   "source": []
  }
 ],
 "metadata": {
  "kernelspec": {
   "display_name": "Python 3",
   "language": "python",
   "name": "python3"
  },
  "language_info": {
   "codemirror_mode": {
    "name": "ipython",
    "version": 3
   },
   "file_extension": ".py",
   "mimetype": "text/x-python",
   "name": "python",
   "nbconvert_exporter": "python",
   "pygments_lexer": "ipython3",
   "version": "3.7.3"
  }
 },
 "nbformat": 4,
 "nbformat_minor": 2
}
