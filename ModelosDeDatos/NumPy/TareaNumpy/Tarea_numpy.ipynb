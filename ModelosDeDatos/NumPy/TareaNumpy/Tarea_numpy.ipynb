{
 "cells": [
  {
   "cell_type": "markdown",
   "metadata": {},
   "source": [
    "## Load NumPy and the dataset"
   ]
  },
  {
   "cell_type": "code",
   "execution_count": 1,
   "metadata": {},
   "outputs": [],
   "source": [
    "import numpy as np"
   ]
  },
  {
   "cell_type": "code",
   "execution_count": 2,
   "metadata": {},
   "outputs": [
    {
     "data": {
      "text/plain": [
       "array([[ 1900., 30000.,  4000., 48300.],\n",
       "       [ 1901., 47200.,  6100., 48200.],\n",
       "       [ 1902., 70200.,  9800., 41500.],\n",
       "       [ 1903., 77400., 35200., 38200.],\n",
       "       [ 1904., 36300., 59400., 40600.],\n",
       "       [ 1905., 20600., 41700., 39800.],\n",
       "       [ 1906., 18100., 19000., 38600.],\n",
       "       [ 1907., 21400., 13000., 42300.],\n",
       "       [ 1908., 22000.,  8300., 44500.],\n",
       "       [ 1909., 25400.,  9100., 42100.],\n",
       "       [ 1910., 27100.,  7400., 46000.],\n",
       "       [ 1911., 40300.,  8000., 46800.],\n",
       "       [ 1912., 57000., 12300., 43800.],\n",
       "       [ 1913., 76600., 19500., 40900.],\n",
       "       [ 1914., 52300., 45700., 39400.],\n",
       "       [ 1915., 19500., 51100., 39000.],\n",
       "       [ 1916., 11200., 29700., 36700.],\n",
       "       [ 1917.,  7600., 15800., 41800.],\n",
       "       [ 1918., 14600.,  9700., 43300.],\n",
       "       [ 1919., 16200., 10100., 41300.],\n",
       "       [ 1920., 24700.,  8600., 47300.]])"
      ]
     },
     "execution_count": 2,
     "metadata": {},
     "output_type": "execute_result"
    }
   ],
   "source": [
    "data = np.loadtxt(\"populations.txt\")\n",
    "data"
   ]
  },
  {
   "cell_type": "markdown",
   "metadata": {},
   "source": [
    "## Mean and std dev of the populations of each species for the years in the period."
   ]
  },
  {
   "cell_type": "code",
   "execution_count": 3,
   "metadata": {},
   "outputs": [
    {
     "name": "stdout",
     "output_type": "stream",
     "text": [
      "The mean hares population is 34081\n",
      "The mean lynx population is 20167\n",
      "The mean carrots population is 42400\n"
     ]
    }
   ],
   "source": [
    "# Mean of each of the three columns of 'data' with species\n",
    "mean_hare, mean_lynx, mean_carrot = data[:,1:].mean(axis = 0)\n",
    "print(\"The mean hares population is {0:.0f}\".format(mean_hare))\n",
    "print(\"The mean lynx population is {0:.0f}\".format(mean_lynx))\n",
    "print(\"The mean carrots population is {0:.0f}\".format(mean_carrot))"
   ]
  },
  {
   "cell_type": "code",
   "execution_count": 4,
   "metadata": {},
   "outputs": [
    {
     "name": "stdout",
     "output_type": "stream",
     "text": [
      "The standard deviation of hares population is 20898\n",
      "The standard deviation of lynx population is 16255\n",
      "The standard deviation of carrots population is 3323\n"
     ]
    }
   ],
   "source": [
    "# Standard deviation of each of the three columns of 'data' with species\n",
    "std_dev_hare, std_dev_lynx, std_dev_carrot = data[:,1:].std(axis = 0)\n",
    "print(\"The standard deviation of hares population is {0:.0f}\".format(std_dev_hare))\n",
    "print(\"The standard deviation of lynx population is {0:.0f}\".format(std_dev_lynx))\n",
    "print(\"The standard deviation of carrots population is {0:.0f}\".format(std_dev_carrot))"
   ]
  },
  {
   "cell_type": "markdown",
   "metadata": {},
   "source": [
    "## Year in which each species had the largest population."
   ]
  },
  {
   "cell_type": "code",
   "execution_count": 5,
   "metadata": {},
   "outputs": [
    {
     "name": "stdout",
     "output_type": "stream",
     "text": [
      "Hares reached their maximum population in 1903\n",
      "Lynx reached their maximum population in 1904\n",
      "Carrots reached their maximum population in 1900\n"
     ]
    }
   ],
   "source": [
    "# Supporting array, just for printing years as integers\n",
    "years = np.array(data[:,0], dtype = \"int_\")\n",
    "\n",
    "# Indices of the maxima of each of the three columns of 'data' with species\n",
    "max_hare, max_lynx, max_carrot = data[:,1:].argmax(axis = 0)\n",
    "\n",
    "# Print the corresponding year, using the indices obtained in the previous step\n",
    "print(\"Hares reached their maximum population in\",years[max_hare])\n",
    "print(\"Lynx reached their maximum population in\",years[max_lynx])\n",
    "print(\"Carrots reached their maximum population in\",years[max_carrot])"
   ]
  },
  {
   "cell_type": "markdown",
   "metadata": {},
   "source": [
    "## Species with the largest population for each year."
   ]
  },
  {
   "cell_type": "code",
   "execution_count": 6,
   "metadata": {},
   "outputs": [
    {
     "name": "stdout",
     "output_type": "stream",
     "text": [
      "Most abundant species, year by year:\n",
      "{1900: 'carrot', 1901: 'carrot', 1902: 'hare', 1903: 'hare', 1904: 'lynx', 1905: 'lynx', 1906: 'carrot', 1907: 'carrot', 1908: 'carrot', 1909: 'carrot', 1910: 'carrot', 1911: 'carrot', 1912: 'hare', 1913: 'hare', 1914: 'hare', 1915: 'lynx', 1916: 'carrot', 1917: 'carrot', 1918: 'carrot', 1919: 'carrot', 1920: 'carrot'}\n"
     ]
    },
    {
     "name": "stderr",
     "output_type": "stream",
     "text": [
      "/home/nicolo/miniconda3/lib/python3.7/site-packages/ipykernel_launcher.py:8: FutureWarning: Using a non-tuple sequence for multidimensional indexing is deprecated; use `arr[tuple(seq)]` instead of `arr[seq]`. In the future this will be interpreted as an array index, `arr[np.array(seq)]`, which will result either in an error or a different result.\n",
      "  \n"
     ]
    }
   ],
   "source": [
    "# Supporting arrays, just for printing\n",
    "species = np.array([\"hare\",\"lynx\",\"carrot\"])\n",
    "years = np.array(data[:,0], dtype = \"int_\")\n",
    "\n",
    "# Indices of the maximum of each line,\n",
    "# passed to 'species' array to get the corresponding\n",
    "# species with the largest population\n",
    "best_species = species[[data[:,1:].argmax(axis = 1)]]\n",
    "\n",
    "print(\"Most abundant species, year by year:\")\n",
    "print(dict(zip(years, best_species)))"
   ]
  },
  {
   "cell_type": "markdown",
   "metadata": {},
   "source": [
    "## Years in which any of the populations is above 50000"
   ]
  },
  {
   "cell_type": "code",
   "execution_count": 7,
   "metadata": {},
   "outputs": [
    {
     "name": "stdout",
     "output_type": "stream",
     "text": [
      "In these years, at least one species had a population larger than 50000:\n",
      "[1902 1903 1904 1912 1913 1914 1915]\n"
     ]
    }
   ],
   "source": [
    "# Check in 'data' if at least one of the three columns with species\n",
    "# has a population larger than 50000, year by year\n",
    "more_50000 = years[np.any(data[:,1:] > 50000, axis=1)]\n",
    "print(\"In these years, at least one species had a population larger than 50000:\")\n",
    "print(more_50000)"
   ]
  },
  {
   "cell_type": "markdown",
   "metadata": {},
   "source": [
    "##  For each species, the two years with the lowest population"
   ]
  },
  {
   "cell_type": "code",
   "execution_count": 8,
   "metadata": {},
   "outputs": [],
   "source": [
    "# Get the sorted populations idices\n",
    "j = data[:,1:].argsort(axis = 0)"
   ]
  },
  {
   "cell_type": "code",
   "execution_count": 9,
   "metadata": {},
   "outputs": [
    {
     "data": {
      "text/plain": [
       "array([[ 7600.,  4000., 36700.],\n",
       "       [11200.,  6100., 38200.],\n",
       "       [14600.,  7400., 38600.],\n",
       "       [16200.,  8000., 39000.],\n",
       "       [18100.,  8300., 39400.],\n",
       "       [19500.,  8600., 39800.],\n",
       "       [20600.,  9100., 40600.],\n",
       "       [21400.,  9700., 40900.],\n",
       "       [22000.,  9800., 41300.],\n",
       "       [24700., 10100., 41500.],\n",
       "       [25400., 12300., 41800.],\n",
       "       [27100., 13000., 42100.],\n",
       "       [30000., 15800., 42300.],\n",
       "       [36300., 19000., 43300.],\n",
       "       [40300., 19500., 43800.],\n",
       "       [47200., 29700., 44500.],\n",
       "       [52300., 35200., 46000.],\n",
       "       [57000., 41700., 46800.],\n",
       "       [70200., 45700., 47300.],\n",
       "       [76600., 51100., 48200.],\n",
       "       [77400., 59400., 48300.]])"
      ]
     },
     "execution_count": 9,
     "metadata": {},
     "output_type": "execute_result"
    }
   ],
   "source": [
    "# Just checking\n",
    "data[j,(1,2,3)]"
   ]
  },
  {
   "cell_type": "code",
   "execution_count": 10,
   "metadata": {},
   "outputs": [
    {
     "name": "stdout",
     "output_type": "stream",
     "text": [
      "Hares had their minimum populations in [1917 1916]\n",
      "Lynx had their minimum populations in [1900 1901]\n",
      "Carrots had their minimum populations in [1916 1903]\n"
     ]
    }
   ],
   "source": [
    "# printing\n",
    "print(\"Hares had their minimum populations in\",years[j][0:2,0])\n",
    "print(\"Lynx had their minimum populations in\",years[j][0:2,1])\n",
    "print(\"Carrots had their minimum populations in\",years[j][0:2,2])"
   ]
  },
  {
   "cell_type": "markdown",
   "metadata": {},
   "source": [
    "## Compare the gradient of hare population and number of lynx and check correlation."
   ]
  },
  {
   "cell_type": "code",
   "execution_count": 11,
   "metadata": {},
   "outputs": [],
   "source": [
    "from matplotlib import pyplot as plt"
   ]
  },
  {
   "cell_type": "code",
   "execution_count": 12,
   "metadata": {},
   "outputs": [],
   "source": [
    "# transform columns into variables\n",
    "year, hares, lynx, carrots = data.T "
   ]
  },
  {
   "cell_type": "code",
   "execution_count": 13,
   "metadata": {},
   "outputs": [],
   "source": [
    "# Get the gradient of hares population\n",
    "hares_grad = np.gradient(hares)"
   ]
  },
  {
   "cell_type": "code",
   "execution_count": 14,
   "metadata": {},
   "outputs": [
    {
     "data": {
      "text/plain": [
       "<matplotlib.legend.Legend at 0x7fcaa82b5160>"
      ]
     },
     "execution_count": 14,
     "metadata": {},
     "output_type": "execute_result"
    },
    {
     "data": {
      "image/png": "[encoded data removed]",
      "text/plain": [
       "<Figure size 432x288 with 1 Axes>"
      ]
     },
     "metadata": {
      "needs_background": "light"
     },
     "output_type": "display_data"
    }
   ],
   "source": [
    "# Plot the gradients\n",
    "plt.axes([0.0, 0.0, 1.0, 1.0]) \n",
    "plt.plot(year, hares_grad, year, lynx)\n",
    "plt.legend(('Hare gradient', 'Lynx population'), loc=(1.05, 0.5)) \n"
   ]
  },
  {
   "cell_type": "code",
   "execution_count": 15,
   "metadata": {},
   "outputs": [
    {
     "data": {
      "text/plain": [
       "array([[ 1.        , -0.91792485],\n",
       "       [-0.91792485,  1.        ]])"
      ]
     },
     "execution_count": 15,
     "metadata": {},
     "output_type": "execute_result"
    }
   ],
   "source": [
    "np.corrcoef([hares_grad, lynx])"
   ]
  },
  {
   "cell_type": "markdown",
   "metadata": {},
   "source": [
    "It is evident that there is a strong anti-correlation between the lynx (predator) and the hare (prey) populations.\n",
    "\n",
    "This can be observed both in the plot of the hare population gradient versus the lynx population and in the correlation matrix of the two variables. \n",
    "Here it can be seen that when the lynx population increases, the hare population starts to decrease (negative gradient) and that when there are few hares, also the linx start to decrease in number, due to the lack of preys.\n",
    "\n",
    "Once the predators are less abundant, the hares start to increase in population again, creating an oscillation of the populations of the two species."
   ]
  }
 ],
 "metadata": {
  "kernelspec": {
   "display_name": "Python 3",
   "language": "python",
   "name": "python3"
  },
  "language_info": {
   "codemirror_mode": {
    "name": "ipython",
    "version": 3
   },
   "file_extension": ".py",
   "mimetype": "text/x-python",
   "name": "python",
   "nbconvert_exporter": "python",
   "pygments_lexer": "ipython3",
   "version": "3.7.3"
  }
 },
 "nbformat": 4,
 "nbformat_minor": 2
}
