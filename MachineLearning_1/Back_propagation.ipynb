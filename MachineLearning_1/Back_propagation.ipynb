{
 "cells": [
  {
   "cell_type": "markdown",
   "metadata": {},
   "source": [
    "# Back propagation"
   ]
  },
  {
   "cell_type": "code",
   "execution_count": 1,
   "metadata": {},
   "outputs": [
    {
     "data": {
      "text/html": [
       "<table>\n",
       "<caption>A data.frame: 6 × 3</caption>\n",
       "<thead>\n",
       "\t<tr><th></th><th scope=col>V1</th><th scope=col>V2</th><th scope=col>V3</th></tr>\n",
       "\t<tr><th></th><th scope=col>&lt;dbl&gt;</th><th scope=col>&lt;dbl&gt;</th><th scope=col>&lt;int&gt;</th></tr>\n",
       "</thead>\n",
       "<tbody>\n",
       "\t<tr><th scope=row>1</th><td>0.272</td><td>0.987</td><td>0</td></tr>\n",
       "\t<tr><th scope=row>2</th><td>0.506</td><td>0.371</td><td>1</td></tr>\n",
       "\t<tr><th scope=row>3</th><td>0.526</td><td>0.900</td><td>0</td></tr>\n",
       "\t<tr><th scope=row>4</th><td>0.932</td><td>0.968</td><td>1</td></tr>\n",
       "\t<tr><th scope=row>5</th><td>0.369</td><td>0.938</td><td>0</td></tr>\n",
       "\t<tr><th scope=row>6</th><td>0.524</td><td>0.196</td><td>1</td></tr>\n",
       "</tbody>\n",
       "</table>\n"
      ],
      "text/latex": [
       "A data.frame: 6 × 3\n",
       "\\begin{tabular}{r|lll}\n",
       "  & V1 & V2 & V3\\\\\n",
       "  & <dbl> & <dbl> & <int>\\\\\n",
       "\\hline\n",
       "\t1 & 0.272 & 0.987 & 0\\\\\n",
       "\t2 & 0.506 & 0.371 & 1\\\\\n",
       "\t3 & 0.526 & 0.900 & 0\\\\\n",
       "\t4 & 0.932 & 0.968 & 1\\\\\n",
       "\t5 & 0.369 & 0.938 & 0\\\\\n",
       "\t6 & 0.524 & 0.196 & 1\\\\\n",
       "\\end{tabular}\n"
      ],
      "text/markdown": [
       "\n",
       "A data.frame: 6 × 3\n",
       "\n",
       "| <!--/--> | V1 &lt;dbl&gt; | V2 &lt;dbl&gt; | V3 &lt;int&gt; |\n",
       "|---|---|---|---|\n",
       "| 1 | 0.272 | 0.987 | 0 |\n",
       "| 2 | 0.506 | 0.371 | 1 |\n",
       "| 3 | 0.526 | 0.900 | 0 |\n",
       "| 4 | 0.932 | 0.968 | 1 |\n",
       "| 5 | 0.369 | 0.938 | 0 |\n",
       "| 6 | 0.524 | 0.196 | 1 |\n",
       "\n"
      ],
      "text/plain": [
       "  V1    V2    V3\n",
       "1 0.272 0.987 0 \n",
       "2 0.506 0.371 1 \n",
       "3 0.526 0.900 0 \n",
       "4 0.932 0.968 1 \n",
       "5 0.369 0.938 0 \n",
       "6 0.524 0.196 1 "
      ]
     },
     "metadata": {},
     "output_type": "display_data"
    }
   ],
   "source": [
    "# cargo el dataset\n",
    "lin <- read.csv(\"lineal.csv\",header = F)\n",
    "\n",
    "head(lin)\n"
   ]
  },
  {
   "cell_type": "code",
   "execution_count": 2,
   "metadata": {},
   "outputs": [
    {
     "data": {
      "image/png": "[encoded data removed]",
      "text/plain": [
       "plot without title"
      ]
     },
     "metadata": {
      "image/png": {
       "height": 420,
       "width": 420
      },
      "text/plain": {
       "height": 420,
       "width": 420
      }
     },
     "output_type": "display_data"
    }
   ],
   "source": [
    "# Miro que pinta tiene\n",
    "ind=which(lin[,3]==0)\n",
    "\n",
    "plot(lin[ind,1],lin[ind,2],type=\"p\",xlim=c(0,1),ylim=c(0,1))\n",
    "lines(lin[-ind,1],lin[-ind,2],type=\"p\",col=\"red\")"
   ]
  },
  {
   "cell_type": "code",
   "execution_count": 3,
   "metadata": {},
   "outputs": [
    {
     "data": {
      "text/html": [
       "<style>\n",
       ".list-inline {list-style: none; margin:0; padding: 0}\n",
       ".list-inline>li {display: inline-block}\n",
       ".list-inline>li:not(:last-child)::after {content: \"\\00b7\"; padding: 0 .5ex}\n",
       "</style>\n",
       "<ol class=list-inline><li>15</li><li>2</li></ol>\n"
      ],
      "text/latex": [
       "\\begin{enumerate*}\n",
       "\\item 15\n",
       "\\item 2\n",
       "\\end{enumerate*}\n"
      ],
      "text/markdown": [
       "1. 15\n",
       "2. 2\n",
       "\n",
       "\n"
      ],
      "text/plain": [
       "[1] 15  2"
      ]
     },
     "metadata": {},
     "output_type": "display_data"
    }
   ],
   "source": [
    "# Creo una matriz 'a' con las features\n",
    "a <- as.matrix(lin[,-3])\n",
    "dim(a)"
   ]
  },
  {
   "cell_type": "code",
   "execution_count": 4,
   "metadata": {},
   "outputs": [
    {
     "data": {
      "text/html": [
       "<style>\n",
       ".list-inline {list-style: none; margin:0; padding: 0}\n",
       ".list-inline>li {display: inline-block}\n",
       ".list-inline>li:not(:last-child)::after {content: \"\\00b7\"; padding: 0 .5ex}\n",
       "</style>\n",
       "<ol class=list-inline><li>15</li><li>1</li></ol>\n"
      ],
      "text/latex": [
       "\\begin{enumerate*}\n",
       "\\item 15\n",
       "\\item 1\n",
       "\\end{enumerate*}\n"
      ],
      "text/markdown": [
       "1. 15\n",
       "2. 1\n",
       "\n",
       "\n"
      ],
      "text/plain": [
       "[1] 15  1"
      ]
     },
     "metadata": {},
     "output_type": "display_data"
    }
   ],
   "source": [
    "# Creo un vector 'b' con el valor de las dos clases\n",
    "b <- as.matrix(lin[,3])\n",
    "dim(b)"
   ]
  },
  {
   "cell_type": "markdown",
   "metadata": {},
   "source": [
    "Es un problema de clasificación y tengo dos variables (features) de entrada:\n",
    "- uso dos neuronas de entrada (una por cada variable);\n",
    "- uso una neurona de salida, que me dá la probabilidad de ser de la clase 1 (con respecto a la clase 0)."
   ]
  },
  {
   "cell_type": "code",
   "execution_count": 5,
   "metadata": {},
   "outputs": [],
   "source": [
    "# Incluyo el bias como una variable más, que siempre tiene valor 1\n",
    "a <- cbind(a,rep(1,nrow(a)))"
   ]
  },
  {
   "cell_type": "code",
   "execution_count": 6,
   "metadata": {},
   "outputs": [
    {
     "data": {
      "text/html": [
       "<style>\n",
       ".list-inline {list-style: none; margin:0; padding: 0}\n",
       ".list-inline>li {display: inline-block}\n",
       ".list-inline>li:not(:last-child)::after {content: \"\\00b7\"; padding: 0 .5ex}\n",
       "</style>\n",
       "<ol class=list-inline><li>15</li><li>3</li></ol>\n"
      ],
      "text/latex": [
       "\\begin{enumerate*}\n",
       "\\item 15\n",
       "\\item 3\n",
       "\\end{enumerate*}\n"
      ],
      "text/markdown": [
       "1. 15\n",
       "2. 3\n",
       "\n",
       "\n"
      ],
      "text/plain": [
       "[1] 15  3"
      ]
     },
     "metadata": {},
     "output_type": "display_data"
    }
   ],
   "source": [
    "dim(a)"
   ]
  },
  {
   "cell_type": "code",
   "execution_count": 7,
   "metadata": {},
   "outputs": [],
   "source": [
    "# Defino la función de activación (la sigmoide en este caso)\n",
    "activation <- function(z) {\n",
    "    1/(1 + exp(-z))\n",
    "}"
   ]
  },
  {
   "cell_type": "code",
   "execution_count": 8,
   "metadata": {},
   "outputs": [],
   "source": [
    "# defino las neuronas de entrada y de salida\n",
    "neurons <- c(ncol(a),ncol(b))\n",
    "\n",
    "# inicializo los pesos de manera aleatoria entre -1 y +1\n",
    "W <- matrix(data = runif(prod(neurons), min = -1, max = 1),\n",
    "    nrow = neurons[2], ncol = neurons[1])"
   ]
  },
  {
   "cell_type": "code",
   "execution_count": 9,
   "metadata": {},
   "outputs": [],
   "source": [
    "# el output de la neurona es la función de activación aplicada \n",
    "#al producto escalar de los pesos por los valores de entreada\n",
    "bout <- activation(a %*% t(W))"
   ]
  },
  {
   "cell_type": "code",
   "execution_count": 10,
   "metadata": {},
   "outputs": [],
   "source": [
    "# el error es la diferencia entre la salida de la neurona y el valor observado\n",
    "error <- b-bout\n",
    "\n",
    "# voy construyendo el delta-W: aquí pongo el error por la derivada de la función\n",
    "# de activación...\n",
    "aux<- error*bout*(1-bout)\n",
    "\n",
    "# ... y aquí multiplico ese valor por 'a' \n",
    "# (solo me falta decidir cuanto de grande va a ser el paso eta)\n",
    "Wdelta <- t(aux)%*%a"
   ]
  },
  {
   "cell_type": "code",
   "execution_count": 108,
   "metadata": {},
   "outputs": [],
   "source": [
    "# Defino aquí la función de back propagation\n",
    "\n",
    "backprop <- function(x, y, epochs = 10, eta = 0.1) {\n",
    "    \n",
    "    # Inicializar matrices y listas\n",
    "    errors <- c()\n",
    "    x <- cbind(x, rep(1,nrow(x)))\n",
    "    \n",
    "    neurons <- c(ncol(x),ncol(y))\n",
    "\n",
    "    Weights <- matrix(data = runif(prod(neurons), min = -1, max = 1),\n",
    "    nrow = neurons[2], ncol = neurons[1])\n",
    "    \n",
    "    print(\"Prod neurons\")\n",
    "    print(prod(neurons))\n",
    "\n",
    "    \n",
    "    for (j in 1:epochs) {\n",
    "        \n",
    "        # Propagar hacia delante\n",
    "        # y_out = b^ = f(B^)  \n",
    "        y_out <- activation(x %*% t(Weights))\n",
    "        \n",
    "        # error = (b - b^)\n",
    "        error <- y - y_out\n",
    "        \n",
    "        # aux = (b - b^) * f(B)(1 - f(B)) \n",
    "        aux <- error * y_out * (1 - y_out)\n",
    "        \n",
    "        # DeltaW = - eta * (aux*x)\n",
    "        Wdelta <- t(aux) %*% x * eta\n",
    "        \n",
    "        # Actualizar pesos\n",
    "        Weights <- Weights + Wdelta\n",
    "        \n",
    "        # Error output\n",
    "        #print(paste(\"Error:\", sum(error)))\n",
    "        errors <- c(errors, sum(error**2))\n",
    "\n",
    "}\n",
    "### Return values\n",
    "plot(errors)  \n",
    "return(Weights)\n",
    "}"
   ]
  },
  {
   "cell_type": "code",
   "execution_count": 109,
   "metadata": {},
   "outputs": [
    {
     "name": "stdout",
     "output_type": "stream",
     "text": [
      "[1] \"Prod neurons\"\n",
      "[1] 3\n"
     ]
    },
    {
     "data": {
      "text/html": [
       "<table>\n",
       "<caption>A matrix: 1 × 3 of type dbl</caption>\n",
       "<thead>\n",
       "\t<tr><th scope=col>V1</th><th scope=col>V2</th><th scope=col></th></tr>\n",
       "</thead>\n",
       "<tbody>\n",
       "\t<tr><td>5,937163</td><td>-4,383289</td><td>-0,2724538</td></tr>\n",
       "</tbody>\n",
       "</table>\n"
      ],
      "text/latex": [
       "A matrix: 1 × 3 of type dbl\n",
       "\\begin{tabular}{lll}\n",
       " V1 & V2 & \\\\\n",
       "\\hline\n",
       "\t 5,937163 & -4,383289 & -0,2724538\\\\\n",
       "\\end{tabular}\n"
      ],
      "text/markdown": [
       "\n",
       "A matrix: 1 × 3 of type dbl\n",
       "\n",
       "| V1 | V2 | <!----> |\n",
       "|---|---|---|\n",
       "| 5,937163 | -4,383289 | -0,2724538 |\n",
       "\n"
      ],
      "text/plain": [
       "     V1       V2                  \n",
       "[1,] 5,937163 -4,383289 -0,2724538"
      ]
     },
     "metadata": {},
     "output_type": "display_data"
    },
    {
     "data": {
      "image/png": "[encoded data removed]",
      "text/plain": [
       "plot without title"
      ]
     },
     "metadata": {
      "image/png": {
       "height": 420,
       "width": 420
      },
      "text/plain": {
       "height": 420,
       "width": 420
      }
     },
     "output_type": "display_data"
    }
   ],
   "source": [
    "set.seed(1)\n",
    "\n",
    "lin <- read.csv(\"lineal.csv\",header = F)\n",
    "a   <- as.matrix(lin[,-3])\n",
    "b   <- as.matrix(lin[,3])\n",
    "\n",
    "epochs <- 500\n",
    "\n",
    "recta <- backprop(a, b, epochs = epochs, eta = 0.1)\n",
    "recta"
   ]
  },
  {
   "cell_type": "code",
   "execution_count": 13,
   "metadata": {},
   "outputs": [
    {
     "data": {
      "image/png": "[encoded data removed]",
      "text/plain": [
       "plot without title"
      ]
     },
     "metadata": {
      "image/png": {
       "height": 420,
       "width": 420
      },
      "text/plain": {
       "height": 420,
       "width": 420
      }
     },
     "output_type": "display_data"
    }
   ],
   "source": [
    "plot(lin[ind,1],lin[ind,2],type=\"p\",xlim=c(0,1),ylim=c(0,1))\n",
    "lines(lin[-ind,1],lin[-ind,2],type=\"p\",col=\"red\")\n",
    "abline(recta[1]/recta[3], recta[2]/recta[3])"
   ]
  },
  {
   "cell_type": "markdown",
   "metadata": {},
   "source": [
    "# Ahora con una capa oculta"
   ]
  },
  {
   "cell_type": "code",
   "execution_count": 110,
   "metadata": {},
   "outputs": [],
   "source": [
    "# Defino aquí la función de back propagation\n",
    "\n",
    "# h = numero de neuronas de la capa oculta\n",
    "backprop <- function(x, y, epochs = 10, eta = 0.1, h = 2) {\n",
    "    \n",
    "    # Inicializar matrices y listas\n",
    "    errors <- c()\n",
    "    \n",
    "    # Añado el bias a los valores de entrada\n",
    "    x <- cbind(x, rep(1,nrow(x)))\n",
    "    \n",
    "    # numero de pesos de las x a la primera capa = ncol(x) * h\n",
    "    neurons_1 <- c(ncol(x),h)\n",
    "    # y ahora los pesos, con valores generados al azar\n",
    "    Weights_1 <- matrix(data = runif(prod(neurons_1), min = -1, max = 1),\n",
    "        nrow = neurons_1[2], \n",
    "        ncol = neurons_1[1])\n",
    "\n",
    "    # numero de pesos de la primera capa a la salida = h * ncol(y)\n",
    "    neurons_2 <- c(h,ncol(y))\n",
    "    # y ahora los pesos, con valores generados al azar\n",
    "    Weights_2 <- matrix(data = runif(prod(neurons_2), min = -1, max = 1),\n",
    "        nrow = neurons_2[2], \n",
    "        ncol = neurons_2[1])\n",
    "    \n",
    "    for (j in 1:epochs) {\n",
    "        \n",
    "        # Defino las variables que necesito, propagando hacía adelante\n",
    "        \n",
    "        # y_out = b^ = f(B^)  \n",
    "        h_1   <- activation(x   %*% t(Weights_1))\n",
    "        y_out <- activation(h_1 %*% t(Weights_2))\n",
    "        \n",
    "        # error = (b - b^)\n",
    "        error <- y - y_out\n",
    "        \n",
    "        # aux = (b - b^) * f(B)(1 - f(B)) \n",
    "        aux   <- error * y_out * (1 - y_out)\n",
    "        \n",
    "        # Cuando actualizo los pesos, empiezo por los de la capa oculta     \n",
    "        #print(\"Dim x:\") \n",
    "        #print(dim(x))\n",
    "        #print(\"Dim aux:\")\n",
    "        #print(dim(aux))\n",
    "        #print(\"Dim h1:\")\n",
    "        #print(dim(h_1))\n",
    "        #print(\"Dim Weights 2:\")\n",
    "        #print(dim(Weights_2))\n",
    "        #print(\"Dim Weights 1:\")\n",
    "        #print(dim(Weights_1))\n",
    "\n",
    "        # Calculo los DeltaW\n",
    "        # Para los pesos de capa oculta a salida: DeltaWeights_2 = - eta * (aux*h_1)\n",
    "        Wdelta_2  <- t(aux) %*% h_1\n",
    "        Weights_2 <- Weights_2 + eta * Wdelta_2\n",
    "        \n",
    "        # Para los pesos de entrada a capa oculta: DeltaWeights_1 = - eta * (aux*Weights_2*aux_2*x)\n",
    "        aux_2 <- h_1 * (1 - h_1)\n",
    "        \n",
    "        #print(\"Dim aux 2:\")\n",
    "        #print(dim(aux_2))\n",
    "        #print(\"Dim Wdelta 2:\")\n",
    "        #print(dim(Wdelta_2))\n",
    "        #print(\"Dim t(x) %*% aux_2:\")\n",
    "        #print(dim(t(x) %*% aux_2))\n",
    "        \n",
    "        Wdelta_1  <- t((aux %*% Weights_2) * aux_2) %*% x\n",
    "        Weights_1 <- Weights_1 + eta * Wdelta_1\n",
    "        \n",
    "        #print(\"dim Wdelta_1\")\n",
    "        #print(dim(Wdelta_1))\n",
    "        \n",
    "        \n",
    "        # Error output\n",
    "        # print(paste(\"Error:\", sum(error)))\n",
    "        errors <- c(errors, sum(error**2))\n",
    "}\n",
    "    \n",
    "### Return values\n",
    "plot(errors)  \n",
    "    \n",
    "Weights = list(Weights_1, Weights_2)    \n",
    "return(Weights)\n",
    "}"
   ]
  },
  {
   "cell_type": "code",
   "execution_count": 112,
   "metadata": {},
   "outputs": [
    {
     "data": {
      "text/html": [
       "<ol>\n",
       "\t<li><table>\n",
       "<caption>A matrix: 5 × 3 of type dbl</caption>\n",
       "<thead>\n",
       "\t<tr><th scope=col>V1</th><th scope=col>V2</th><th scope=col></th></tr>\n",
       "</thead>\n",
       "<tbody>\n",
       "\t<tr><td>-4,5747823</td><td> 3,343003</td><td> 0,3063432</td></tr>\n",
       "\t<tr><td>-2,1421238</td><td> 1,949924</td><td>-0,3061253</td></tr>\n",
       "\t<tr><td> 3,3708583</td><td>-2,081983</td><td>-0,4455462</td></tr>\n",
       "\t<tr><td> 0,8241784</td><td> 0,392683</td><td>-0,2023863</td></tr>\n",
       "\t<tr><td> 1,9967387</td><td>-2,098749</td><td> 0,4902527</td></tr>\n",
       "</tbody>\n",
       "</table>\n",
       "</li>\n",
       "\t<li><table>\n",
       "<caption>A matrix: 1 × 5 of type dbl</caption>\n",
       "<tbody>\n",
       "\t<tr><td>-5,785343</td><td>-2,716664</td><td>4,231675</td><td>0,5660309</td><td>2,843993</td></tr>\n",
       "</tbody>\n",
       "</table>\n",
       "</li>\n",
       "</ol>\n"
      ],
      "text/latex": [
       "\\begin{enumerate}\n",
       "\\item A matrix: 5 × 3 of type dbl\n",
       "\\begin{tabular}{lll}\n",
       " V1 & V2 & \\\\\n",
       "\\hline\n",
       "\t -4,5747823 &  3,343003 &  0,3063432\\\\\n",
       "\t -2,1421238 &  1,949924 & -0,3061253\\\\\n",
       "\t  3,3708583 & -2,081983 & -0,4455462\\\\\n",
       "\t  0,8241784 &  0,392683 & -0,2023863\\\\\n",
       "\t  1,9967387 & -2,098749 &  0,4902527\\\\\n",
       "\\end{tabular}\n",
       "\n",
       "\\item A matrix: 1 × 5 of type dbl\n",
       "\\begin{tabular}{lllll}\n",
       "\t -5,785343 & -2,716664 & 4,231675 & 0,5660309 & 2,843993\\\\\n",
       "\\end{tabular}\n",
       "\n",
       "\\end{enumerate}\n"
      ],
      "text/markdown": [
       "1. \n",
       "A matrix: 5 × 3 of type dbl\n",
       "\n",
       "| V1 | V2 | <!----> |\n",
       "|---|---|---|\n",
       "| -4,5747823 |  3,343003 |  0,3063432 |\n",
       "| -2,1421238 |  1,949924 | -0,3061253 |\n",
       "|  3,3708583 | -2,081983 | -0,4455462 |\n",
       "|  0,8241784 |  0,392683 | -0,2023863 |\n",
       "|  1,9967387 | -2,098749 |  0,4902527 |\n",
       "\n",
       "\n",
       "2. \n",
       "A matrix: 1 × 5 of type dbl\n",
       "\n",
       "| -5,785343 | -2,716664 | 4,231675 | 0,5660309 | 2,843993 |\n",
       "\n",
       "\n",
       "\n",
       "\n"
      ],
      "text/plain": [
       "[[1]]\n",
       "             V1        V2           \n",
       "[1,] -4,5747823  3,343003  0,3063432\n",
       "[2,] -2,1421238  1,949924 -0,3061253\n",
       "[3,]  3,3708583 -2,081983 -0,4455462\n",
       "[4,]  0,8241784  0,392683 -0,2023863\n",
       "[5,]  1,9967387 -2,098749  0,4902527\n",
       "\n",
       "[[2]]\n",
       "          [,1]      [,2]     [,3]      [,4]     [,5]\n",
       "[1,] -5,785343 -2,716664 4,231675 0,5660309 2,843993\n"
      ]
     },
     "metadata": {},
     "output_type": "display_data"
    },
    {
     "data": {
      "image/png": "[encoded data removed]",
      "text/plain": [
       "plot without title"
      ]
     },
     "metadata": {
      "image/png": {
       "height": 420,
       "width": 420
      },
      "text/plain": {
       "height": 420,
       "width": 420
      }
     },
     "output_type": "display_data"
    }
   ],
   "source": [
    "set.seed(1)\n",
    "\n",
    "lin <- read.csv(\"lineal.csv\",header = F)\n",
    "a   <- as.matrix(lin[,-3])\n",
    "b   <- as.matrix(lin[,3])\n",
    "\n",
    "epochs <- 100\n",
    "\n",
    "recta <- backprop(a, b, epochs = epochs, eta = 0.1, h = 5)\n",
    "recta"
   ]
  },
  {
   "cell_type": "code",
   "execution_count": 93,
   "metadata": {},
   "outputs": [
    {
     "data": {
      "image/png": "[encoded data removed]",
      "text/plain": [
       "plot without title"
      ]
     },
     "metadata": {
      "image/png": {
       "height": 420,
       "width": 420
      },
      "text/plain": {
       "height": 420,
       "width": 420
      }
     },
     "output_type": "display_data"
    }
   ],
   "source": [
    "plot(lin[ind,1],lin[ind,2],type=\"p\",xlim=c(0,1),ylim=c(0,1))\n",
    "lines(lin[-ind,1],lin[-ind,2],type=\"p\",col=\"red\")\n",
    "abline(recta[1], -recta[2])"
   ]
  },
  {
   "cell_type": "code",
   "execution_count": null,
   "metadata": {},
   "outputs": [],
   "source": []
  }
 ],
 "metadata": {
  "kernelspec": {
   "display_name": "R",
   "language": "R",
   "name": "ir"
  },
  "language_info": {
   "codemirror_mode": "r",
   "file_extension": ".r",
   "mimetype": "text/x-r-source",
   "name": "R",
   "pygments_lexer": "r",
   "version": "3.6.1"
  }
 },
 "nbformat": 4,
 "nbformat_minor": 4
}
