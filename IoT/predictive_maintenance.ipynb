{
 "cells": [
  {
   "cell_type": "markdown",
   "metadata": {
    "colab_type": "text",
    "id": "e0DfDrD53K3_"
   },
   "source": [
    "# Predictive Maintenance\n",
    "\n",
    "This notebook is part of [*Practical Data Science for IoT*](https://github.com/pablodecm/datalab_ml_iot) tutorial by Pablo de Castro"
   ]
  },
  {
   "cell_type": "markdown",
   "metadata": {
    "colab_type": "text",
    "id": "PihW8CdR3K4E"
   },
   "source": [
    "## Tools\n",
    "\n",
    "This notebook will use the following Python 3\n",
    "libraries for data analytics and machine learning:\n",
    "- pandas\n",
    "- numpy\n",
    "- matplotlib\n",
    "- scikit-learn\n",
    "- keras/tensorflow"
   ]
  },
  {
   "cell_type": "code",
   "execution_count": 1,
   "metadata": {
    "colab": {},
    "colab_type": "code",
    "id": "NYgrJLY83K4H"
   },
   "outputs": [],
   "source": [
    "import pandas as pd\n",
    "import numpy as np\n",
    "import matplotlib.pyplot as plt"
   ]
  },
  {
   "cell_type": "markdown",
   "metadata": {
    "colab_type": "text",
    "id": "IVzWK16p3K4R"
   },
   "source": [
    "## Dataset\n",
    "\n",
    "The dataset that will be used, which was published by NASA [[3](#References)],\n",
    "consist on simulated turbojet engine degradation\n",
    "under different combinations of operational conditions.\n",
    "\n",
    "**The main task is to predict when the engine is about to fail before it fails.**\n",
    "\n",
    "<div align=\"center\">\n",
    "  <img src=\"https://github.com/pablodecm/datalab_ml_iot/blob/master/01_predictive_mainteinance/images/airbus-turbofan.jpg?raw=1\" height=\"50%\" style=\"max-width: 50%\">\n",
    "</div>\n"
   ]
  },
  {
   "cell_type": "code",
   "execution_count": 2,
   "metadata": {
    "colab": {
     "base_uri": "https://localhost:8080/",
     "height": 527
    },
    "colab_type": "code",
    "executionInfo": {
     "elapsed": 7482,
     "status": "ok",
     "timestamp": 1585244524068,
     "user": {
      "displayName": "Nicolò Trevisani",
      "photoUrl": "https://lh3.googleusercontent.com/a-/AOh14GiJ9pkFZdHQ4Zthp07GOkrYQq29m1orzwKSoxs2Cg=s64",
      "userId": "16681236576994002363"
     },
     "user_tz": -60
    },
    "id": "5poQAGA63K4T",
    "outputId": "c680f01f-294a-46d2-b01f-decaf6d495cc"
   },
   "outputs": [
    {
     "name": "stdout",
     "output_type": "stream",
     "text": [
      "--2020-03-27 11:49:15--  https://ti.arc.nasa.gov/c/6/\n",
      "Resolving ti.arc.nasa.gov (ti.arc.nasa.gov)... 128.102.105.66, 2001:4d0:6311:2227:14b6:372b:2078:2a94\n",
      "Connecting to ti.arc.nasa.gov (ti.arc.nasa.gov)|128.102.105.66|:443... connected.\n",
      "HTTP request sent, awaiting response... 302 FOUND\n",
      "Location: https://ti.arc.nasa.gov/m/project/prognostic-repository/CMAPSSData.zip [following]\n",
      "--2020-03-27 11:49:22--  https://ti.arc.nasa.gov/m/project/prognostic-repository/CMAPSSData.zip\n",
      "Reusing existing connection to ti.arc.nasa.gov:443.\n",
      "HTTP request sent, awaiting response... 200 OK\n",
      "Length: 12425978 (12M) [application/zip]\n",
      "Saving to: ‘data/CMAPSSData.zip’\n",
      "\n",
      "data/CMAPSSData.zip 100%[===================>]  11,85M   716KB/s    in 80s     \n",
      "\n",
      "2020-03-27 11:50:44 (151 KB/s) - ‘data/CMAPSSData.zip’ saved [12425978/12425978]\n",
      "\n",
      "Archive:  data/CMAPSSData.zip\n",
      "  inflating: data/Damage Propagation Modeling.pdf  \n",
      "  inflating: data/readme.txt         \n",
      "  inflating: data/RUL_FD001.txt      \n",
      "  inflating: data/RUL_FD002.txt      \n",
      "  inflating: data/RUL_FD003.txt      \n",
      "  inflating: data/RUL_FD004.txt      \n",
      "  inflating: data/test_FD001.txt     \n",
      "  inflating: data/test_FD002.txt     \n",
      "  inflating: data/test_FD003.txt     \n",
      "  inflating: data/test_FD004.txt     \n",
      "  inflating: data/train_FD001.txt    \n",
      "  inflating: data/train_FD002.txt    \n",
      "  inflating: data/train_FD003.txt    \n",
      "  inflating: data/train_FD004.txt    \n"
     ]
    }
   ],
   "source": [
    "!mkdir data\n",
    "!wget https://ti.arc.nasa.gov/c/6/ -O data/CMAPSSData.zip\n",
    "!unzip -o data/CMAPSSData.zip -d data"
   ]
  },
  {
   "cell_type": "code",
   "execution_count": 3,
   "metadata": {
    "colab": {
     "base_uri": "https://localhost:8080/",
     "height": 802
    },
    "colab_type": "code",
    "executionInfo": {
     "elapsed": 10527,
     "status": "ok",
     "timestamp": 1585244527119,
     "user": {
      "displayName": "Nicolò Trevisani",
      "photoUrl": "https://lh3.googleusercontent.com/a-/AOh14GiJ9pkFZdHQ4Zthp07GOkrYQq29m1orzwKSoxs2Cg=s64",
      "userId": "16681236576994002363"
     },
     "user_tz": -60
    },
    "id": "Pt0C0WpD3K4Y",
    "outputId": "c2f6f018-e6a8-4c4b-d37a-ba49f4c64c85"
   },
   "outputs": [
    {
     "name": "stdout",
     "output_type": "stream",
     "text": [
      "Data Set: FD001\r\n",
      "Train trjectories: 100\r\n",
      "Test trajectories: 100\r\n",
      "Conditions: ONE (Sea Level)\r\n",
      "Fault Modes: ONE (HPC Degradation)\r\n",
      "\r\n",
      "Data Set: FD002\r\n",
      "Train trjectories: 260\r\n",
      "Test trajectories: 259\r\n",
      "Conditions: SIX \r\n",
      "Fault Modes: ONE (HPC Degradation)\r\n",
      "\r\n",
      "Data Set: FD003\r\n",
      "Train trjectories: 100\r\n",
      "Test trajectories: 100\r\n",
      "Conditions: ONE (Sea Level)\r\n",
      "Fault Modes: TWO (HPC Degradation, Fan Degradation)\r\n",
      "\r\n",
      "Data Set: FD004\r\n",
      "Train trjectories: 248\r\n",
      "Test trajectories: 249\r\n",
      "Conditions: SIX \r\n",
      "Fault Modes: TWO (HPC Degradation, Fan Degradation)\r\n",
      "\r\n",
      "\r\n",
      "\r\n",
      "Experimental Scenario\r\n",
      "\r\n",
      "Data sets consists of multiple multivariate time series. Each data set is further divided into training and test subsets. Each time series is from a different engine  i.e., the data can be considered to be from a fleet of engines of the same type. Each engine starts with different degrees of initial wear and manufacturing variation which is unknown to the user. This wear and variation is considered normal, i.e., it is not considered a fault condition. There are three operational settings that have a substantial effect on engine performance. These settings are also included in the data. The data is contaminated with sensor noise.\r\n",
      "\r\n",
      "The engine is operating normally at the start of each time series, and develops a fault at some point during the series. In the training set, the fault grows in magnitude until system failure. In the test set, the time series ends some time prior to system failure. The objective of the competition is to predict the number of remaining operational cycles before failure in the test set, i.e., the number of operational cycles after the last cycle that the engine will continue to operate. Also provided a vector of true Remaining Useful Life (RUL) values for the test data.\r\n",
      "\r\n",
      "The data are provided as a zip-compressed text file with 26 columns of numbers, separated by spaces. Each row is a snapshot of data taken during a single operational cycle, each column is a different variable. The columns correspond to:\r\n",
      "1)\tunit number\r\n",
      "2)\ttime, in cycles\r\n",
      "3)\toperational setting 1\r\n",
      "4)\toperational setting 2\r\n",
      "5)\toperational setting 3\r\n",
      "6)\tsensor measurement  1\r\n",
      "7)\tsensor measurement  2\r\n",
      "...\r\n",
      "26)\tsensor measurement  26\r\n",
      "\r\n",
      "\r\n",
      "Reference: A. Saxena, K. Goebel, D. Simon, and N. Eklund, Damage Propagation Modeling for Aircraft Engine Run-to-Failure Simulation, in the Proceedings of the Ist International Conference on Prognostics and Health Management (PHM08), Denver CO, Oct 2008.\r\n"
     ]
    }
   ],
   "source": [
    "# this converts the encoding\n",
    "!iconv -f ISO-8859-1 -t UTF-8//TRANSLIT data/readme.txt -o data/readme_enc.txt\n",
    "!cat data/readme_enc.txt"
   ]
  },
  {
   "cell_type": "code",
   "execution_count": 4,
   "metadata": {
    "colab": {
     "base_uri": "https://localhost:8080/",
     "height": 102
    },
    "colab_type": "code",
    "executionInfo": {
     "elapsed": 15602,
     "status": "ok",
     "timestamp": 1585244532199,
     "user": {
      "displayName": "Nicolò Trevisani",
      "photoUrl": "https://lh3.googleusercontent.com/a-/AOh14GiJ9pkFZdHQ4Zthp07GOkrYQq29m1orzwKSoxs2Cg=s64",
      "userId": "16681236576994002363"
     },
     "user_tz": -60
    },
    "id": "rrskeVBL3K4d",
    "outputId": "9d42c7f1-d8d7-4df8-fa4c-1b331fc677d7"
   },
   "outputs": [
    {
     "name": "stdout",
     "output_type": "stream",
     "text": [
      "1 1 -0.0007 -0.0004 100.0 518.67 641.82 1589.70 1400.60 14.62 21.61 554.36 2388.06 9046.19 1.30 47.47 521.66 2388.02 8138.62 8.4195 0.03 392 2388 100.00 39.06 23.4190  \r\n",
      "1 2 0.0019 -0.0003 100.0 518.67 642.15 1591.82 1403.14 14.62 21.61 553.75 2388.04 9044.07 1.30 47.49 522.28 2388.07 8131.49 8.4318 0.03 392 2388 100.00 39.00 23.4236  \r\n",
      "1 3 -0.0043 0.0003 100.0 518.67 642.35 1587.99 1404.20 14.62 21.61 554.26 2388.08 9052.94 1.30 47.27 522.42 2388.03 8133.23 8.4178 0.03 390 2388 100.00 38.95 23.3442  \r\n",
      "1 4 0.0007 0.0000 100.0 518.67 642.35 1582.79 1401.87 14.62 21.61 554.45 2388.11 9049.48 1.30 47.13 522.86 2388.08 8133.83 8.3682 0.03 392 2388 100.00 38.88 23.3739  \r\n",
      "1 5 -0.0019 -0.0002 100.0 518.67 642.37 1582.85 1406.22 14.62 21.61 554.00 2388.06 9055.15 1.30 47.28 522.19 2388.04 8133.80 8.4294 0.03 393 2388 100.00 38.90 23.4044  \r\n"
     ]
    }
   ],
   "source": [
    "# train and test data are simple space separated values\n",
    "!head -5 data/train_FD001.txt"
   ]
  },
  {
   "cell_type": "code",
   "execution_count": 5,
   "metadata": {
    "colab": {
     "base_uri": "https://localhost:8080/",
     "height": 102
    },
    "colab_type": "code",
    "executionInfo": {
     "elapsed": 17478,
     "status": "ok",
     "timestamp": 1585244534079,
     "user": {
      "displayName": "Nicolò Trevisani",
      "photoUrl": "https://lh3.googleusercontent.com/a-/AOh14GiJ9pkFZdHQ4Zthp07GOkrYQq29m1orzwKSoxs2Cg=s64",
      "userId": "16681236576994002363"
     },
     "user_tz": -60
    },
    "id": "1PYfHxrx3K4j",
    "outputId": "d27d8ff5-8719-4081-acf2-c4b2dad69137"
   },
   "outputs": [
    {
     "name": "stdout",
     "output_type": "stream",
     "text": [
      "112 \r\n",
      "98 \r\n",
      "69 \r\n",
      "82 \r\n",
      "91 \r\n"
     ]
    }
   ],
   "source": [
    "# the test truth is given as the number of steps to failure\n",
    "# for each engine run in the test set (100 in total)\n",
    "!head -5 data/RUL_FD001.txt"
   ]
  },
  {
   "cell_type": "code",
   "execution_count": 7,
   "metadata": {
    "colab": {
     "base_uri": "https://localhost:8080/",
     "height": 334
    },
    "colab_type": "code",
    "executionInfo": {
     "elapsed": 17738,
     "status": "ok",
     "timestamp": 1585244534342,
     "user": {
      "displayName": "Nicolò Trevisani",
      "photoUrl": "https://lh3.googleusercontent.com/a-/AOh14GiJ9pkFZdHQ4Zthp07GOkrYQq29m1orzwKSoxs2Cg=s64",
      "userId": "16681236576994002363"
     },
     "user_tz": -60
    },
    "id": "04-P-kQl3K4p",
    "outputId": "b9ed0ba8-5d61-480e-b037-ed6a7a5dc310"
   },
   "outputs": [
    {
     "name": "stdout",
     "output_type": "stream",
     "text": [
      "train shape:  (20631, 28) test shape:  (13096, 28)\n"
     ]
    },
    {
     "data": {
      "text/html": [
       "<div>\n",
       "<style scoped>\n",
       "    .dataframe tbody tr th:only-of-type {\n",
       "        vertical-align: middle;\n",
       "    }\n",
       "\n",
       "    .dataframe tbody tr th {\n",
       "        vertical-align: top;\n",
       "    }\n",
       "\n",
       "    .dataframe thead th {\n",
       "        text-align: right;\n",
       "    }\n",
       "</style>\n",
       "<table border=\"1\" class=\"dataframe\">\n",
       "  <thead>\n",
       "    <tr style=\"text-align: right;\">\n",
       "      <th></th>\n",
       "      <th>0</th>\n",
       "      <th>1</th>\n",
       "      <th>2</th>\n",
       "      <th>3</th>\n",
       "      <th>4</th>\n",
       "      <th>5</th>\n",
       "      <th>6</th>\n",
       "      <th>7</th>\n",
       "      <th>8</th>\n",
       "      <th>9</th>\n",
       "      <th>...</th>\n",
       "      <th>18</th>\n",
       "      <th>19</th>\n",
       "      <th>20</th>\n",
       "      <th>21</th>\n",
       "      <th>22</th>\n",
       "      <th>23</th>\n",
       "      <th>24</th>\n",
       "      <th>25</th>\n",
       "      <th>26</th>\n",
       "      <th>27</th>\n",
       "    </tr>\n",
       "  </thead>\n",
       "  <tbody>\n",
       "    <tr>\n",
       "      <th>count</th>\n",
       "      <td>20631.000000</td>\n",
       "      <td>20631.000000</td>\n",
       "      <td>20631.000000</td>\n",
       "      <td>20631.000000</td>\n",
       "      <td>20631.0</td>\n",
       "      <td>20631.00</td>\n",
       "      <td>20631.000000</td>\n",
       "      <td>20631.000000</td>\n",
       "      <td>20631.000000</td>\n",
       "      <td>2.063100e+04</td>\n",
       "      <td>...</td>\n",
       "      <td>20631.000000</td>\n",
       "      <td>20631.000000</td>\n",
       "      <td>2.063100e+04</td>\n",
       "      <td>20631.000000</td>\n",
       "      <td>20631.0</td>\n",
       "      <td>20631.0</td>\n",
       "      <td>20631.000000</td>\n",
       "      <td>20631.000000</td>\n",
       "      <td>0.0</td>\n",
       "      <td>0.0</td>\n",
       "    </tr>\n",
       "    <tr>\n",
       "      <th>mean</th>\n",
       "      <td>51.506568</td>\n",
       "      <td>108.807862</td>\n",
       "      <td>-0.000009</td>\n",
       "      <td>0.000002</td>\n",
       "      <td>100.0</td>\n",
       "      <td>518.67</td>\n",
       "      <td>642.680934</td>\n",
       "      <td>1590.523119</td>\n",
       "      <td>1408.933782</td>\n",
       "      <td>1.462000e+01</td>\n",
       "      <td>...</td>\n",
       "      <td>8143.752722</td>\n",
       "      <td>8.442146</td>\n",
       "      <td>3.000000e-02</td>\n",
       "      <td>393.210654</td>\n",
       "      <td>2388.0</td>\n",
       "      <td>100.0</td>\n",
       "      <td>38.816271</td>\n",
       "      <td>23.289705</td>\n",
       "      <td>NaN</td>\n",
       "      <td>NaN</td>\n",
       "    </tr>\n",
       "    <tr>\n",
       "      <th>std</th>\n",
       "      <td>29.227633</td>\n",
       "      <td>68.880990</td>\n",
       "      <td>0.002187</td>\n",
       "      <td>0.000293</td>\n",
       "      <td>0.0</td>\n",
       "      <td>0.00</td>\n",
       "      <td>0.500053</td>\n",
       "      <td>6.131150</td>\n",
       "      <td>9.000605</td>\n",
       "      <td>1.776400e-15</td>\n",
       "      <td>...</td>\n",
       "      <td>19.076176</td>\n",
       "      <td>0.037505</td>\n",
       "      <td>1.387812e-17</td>\n",
       "      <td>1.548763</td>\n",
       "      <td>0.0</td>\n",
       "      <td>0.0</td>\n",
       "      <td>0.180746</td>\n",
       "      <td>0.108251</td>\n",
       "      <td>NaN</td>\n",
       "      <td>NaN</td>\n",
       "    </tr>\n",
       "    <tr>\n",
       "      <th>min</th>\n",
       "      <td>1.000000</td>\n",
       "      <td>1.000000</td>\n",
       "      <td>-0.008700</td>\n",
       "      <td>-0.000600</td>\n",
       "      <td>100.0</td>\n",
       "      <td>518.67</td>\n",
       "      <td>641.210000</td>\n",
       "      <td>1571.040000</td>\n",
       "      <td>1382.250000</td>\n",
       "      <td>1.462000e+01</td>\n",
       "      <td>...</td>\n",
       "      <td>8099.940000</td>\n",
       "      <td>8.324900</td>\n",
       "      <td>3.000000e-02</td>\n",
       "      <td>388.000000</td>\n",
       "      <td>2388.0</td>\n",
       "      <td>100.0</td>\n",
       "      <td>38.140000</td>\n",
       "      <td>22.894200</td>\n",
       "      <td>NaN</td>\n",
       "      <td>NaN</td>\n",
       "    </tr>\n",
       "    <tr>\n",
       "      <th>25%</th>\n",
       "      <td>26.000000</td>\n",
       "      <td>52.000000</td>\n",
       "      <td>-0.001500</td>\n",
       "      <td>-0.000200</td>\n",
       "      <td>100.0</td>\n",
       "      <td>518.67</td>\n",
       "      <td>642.325000</td>\n",
       "      <td>1586.260000</td>\n",
       "      <td>1402.360000</td>\n",
       "      <td>1.462000e+01</td>\n",
       "      <td>...</td>\n",
       "      <td>8133.245000</td>\n",
       "      <td>8.414900</td>\n",
       "      <td>3.000000e-02</td>\n",
       "      <td>392.000000</td>\n",
       "      <td>2388.0</td>\n",
       "      <td>100.0</td>\n",
       "      <td>38.700000</td>\n",
       "      <td>23.221800</td>\n",
       "      <td>NaN</td>\n",
       "      <td>NaN</td>\n",
       "    </tr>\n",
       "    <tr>\n",
       "      <th>50%</th>\n",
       "      <td>52.000000</td>\n",
       "      <td>104.000000</td>\n",
       "      <td>0.000000</td>\n",
       "      <td>0.000000</td>\n",
       "      <td>100.0</td>\n",
       "      <td>518.67</td>\n",
       "      <td>642.640000</td>\n",
       "      <td>1590.100000</td>\n",
       "      <td>1408.040000</td>\n",
       "      <td>1.462000e+01</td>\n",
       "      <td>...</td>\n",
       "      <td>8140.540000</td>\n",
       "      <td>8.438900</td>\n",
       "      <td>3.000000e-02</td>\n",
       "      <td>393.000000</td>\n",
       "      <td>2388.0</td>\n",
       "      <td>100.0</td>\n",
       "      <td>38.830000</td>\n",
       "      <td>23.297900</td>\n",
       "      <td>NaN</td>\n",
       "      <td>NaN</td>\n",
       "    </tr>\n",
       "    <tr>\n",
       "      <th>75%</th>\n",
       "      <td>77.000000</td>\n",
       "      <td>156.000000</td>\n",
       "      <td>0.001500</td>\n",
       "      <td>0.000300</td>\n",
       "      <td>100.0</td>\n",
       "      <td>518.67</td>\n",
       "      <td>643.000000</td>\n",
       "      <td>1594.380000</td>\n",
       "      <td>1414.555000</td>\n",
       "      <td>1.462000e+01</td>\n",
       "      <td>...</td>\n",
       "      <td>8148.310000</td>\n",
       "      <td>8.465600</td>\n",
       "      <td>3.000000e-02</td>\n",
       "      <td>394.000000</td>\n",
       "      <td>2388.0</td>\n",
       "      <td>100.0</td>\n",
       "      <td>38.950000</td>\n",
       "      <td>23.366800</td>\n",
       "      <td>NaN</td>\n",
       "      <td>NaN</td>\n",
       "    </tr>\n",
       "    <tr>\n",
       "      <th>max</th>\n",
       "      <td>100.000000</td>\n",
       "      <td>362.000000</td>\n",
       "      <td>0.008700</td>\n",
       "      <td>0.000600</td>\n",
       "      <td>100.0</td>\n",
       "      <td>518.67</td>\n",
       "      <td>644.530000</td>\n",
       "      <td>1616.910000</td>\n",
       "      <td>1441.490000</td>\n",
       "      <td>1.462000e+01</td>\n",
       "      <td>...</td>\n",
       "      <td>8293.720000</td>\n",
       "      <td>8.584800</td>\n",
       "      <td>3.000000e-02</td>\n",
       "      <td>400.000000</td>\n",
       "      <td>2388.0</td>\n",
       "      <td>100.0</td>\n",
       "      <td>39.430000</td>\n",
       "      <td>23.618400</td>\n",
       "      <td>NaN</td>\n",
       "      <td>NaN</td>\n",
       "    </tr>\n",
       "  </tbody>\n",
       "</table>\n",
       "<p>8 rows × 28 columns</p>\n",
       "</div>"
      ],
      "text/plain": [
       "                 0             1             2             3        4   \\\n",
       "count  20631.000000  20631.000000  20631.000000  20631.000000  20631.0   \n",
       "mean      51.506568    108.807862     -0.000009      0.000002    100.0   \n",
       "std       29.227633     68.880990      0.002187      0.000293      0.0   \n",
       "min        1.000000      1.000000     -0.008700     -0.000600    100.0   \n",
       "25%       26.000000     52.000000     -0.001500     -0.000200    100.0   \n",
       "50%       52.000000    104.000000      0.000000      0.000000    100.0   \n",
       "75%       77.000000    156.000000      0.001500      0.000300    100.0   \n",
       "max      100.000000    362.000000      0.008700      0.000600    100.0   \n",
       "\n",
       "             5             6             7             8             9   ...  \\\n",
       "count  20631.00  20631.000000  20631.000000  20631.000000  2.063100e+04  ...   \n",
       "mean     518.67    642.680934   1590.523119   1408.933782  1.462000e+01  ...   \n",
       "std        0.00      0.500053      6.131150      9.000605  1.776400e-15  ...   \n",
       "min      518.67    641.210000   1571.040000   1382.250000  1.462000e+01  ...   \n",
       "25%      518.67    642.325000   1586.260000   1402.360000  1.462000e+01  ...   \n",
       "50%      518.67    642.640000   1590.100000   1408.040000  1.462000e+01  ...   \n",
       "75%      518.67    643.000000   1594.380000   1414.555000  1.462000e+01  ...   \n",
       "max      518.67    644.530000   1616.910000   1441.490000  1.462000e+01  ...   \n",
       "\n",
       "                 18            19            20            21       22  \\\n",
       "count  20631.000000  20631.000000  2.063100e+04  20631.000000  20631.0   \n",
       "mean    8143.752722      8.442146  3.000000e-02    393.210654   2388.0   \n",
       "std       19.076176      0.037505  1.387812e-17      1.548763      0.0   \n",
       "min     8099.940000      8.324900  3.000000e-02    388.000000   2388.0   \n",
       "25%     8133.245000      8.414900  3.000000e-02    392.000000   2388.0   \n",
       "50%     8140.540000      8.438900  3.000000e-02    393.000000   2388.0   \n",
       "75%     8148.310000      8.465600  3.000000e-02    394.000000   2388.0   \n",
       "max     8293.720000      8.584800  3.000000e-02    400.000000   2388.0   \n",
       "\n",
       "            23            24            25   26   27  \n",
       "count  20631.0  20631.000000  20631.000000  0.0  0.0  \n",
       "mean     100.0     38.816271     23.289705  NaN  NaN  \n",
       "std        0.0      0.180746      0.108251  NaN  NaN  \n",
       "min      100.0     38.140000     22.894200  NaN  NaN  \n",
       "25%      100.0     38.700000     23.221800  NaN  NaN  \n",
       "50%      100.0     38.830000     23.297900  NaN  NaN  \n",
       "75%      100.0     38.950000     23.366800  NaN  NaN  \n",
       "max      100.0     39.430000     23.618400  NaN  NaN  \n",
       "\n",
       "[8 rows x 28 columns]"
      ]
     },
     "execution_count": 7,
     "metadata": {},
     "output_type": "execute_result"
    }
   ],
   "source": [
    "# load data (only gonna use FD001 dataset)\n",
    "train_df = pd.read_csv('data/train_FD001.txt', sep=\" \", header=None)\n",
    "test_df  = pd.read_csv('data/test_FD001.txt', sep=\" \", header=None)\n",
    "print(\"train shape: \", train_df.shape, \"test shape: \", test_df.shape)\n",
    "# lets have a look at basic descriptive statistics\n",
    "train_df.describe()"
   ]
  },
  {
   "cell_type": "code",
   "execution_count": 8,
   "metadata": {
    "colab": {
     "base_uri": "https://localhost:8080/",
     "height": 34
    },
    "colab_type": "code",
    "executionInfo": {
     "elapsed": 17737,
     "status": "ok",
     "timestamp": 1585244534345,
     "user": {
      "displayName": "Nicolò Trevisani",
      "photoUrl": "https://lh3.googleusercontent.com/a-/AOh14GiJ9pkFZdHQ4Zthp07GOkrYQq29m1orzwKSoxs2Cg=s64",
      "userId": "16681236576994002363"
     },
     "user_tz": -60
    },
    "id": "JydfNPSZ3K4u",
    "outputId": "3f88cad4-1365-457c-fb03-96d204657ffb"
   },
   "outputs": [
    {
     "name": "stdout",
     "output_type": "stream",
     "text": [
      "train shape:  (20631, 26) test shape:  (13096, 26)\n"
     ]
    }
   ],
   "source": [
    "# we will remove columns 26 and 27 because of the NaNs\n",
    "train_df.drop(train_df.columns[[26, 27]], axis=1, inplace=True)\n",
    "test_df.drop(test_df.columns[[26, 27]], axis=1, inplace=True)\n",
    "print(\"train shape: \", train_df.shape, \"test shape: \", test_df.shape)"
   ]
  },
  {
   "cell_type": "code",
   "execution_count": 9,
   "metadata": {
    "colab": {
     "base_uri": "https://localhost:8080/",
     "height": 54
    },
    "colab_type": "code",
    "executionInfo": {
     "elapsed": 17737,
     "status": "ok",
     "timestamp": 1585244534348,
     "user": {
      "displayName": "Nicolò Trevisani",
      "photoUrl": "https://lh3.googleusercontent.com/a-/AOh14GiJ9pkFZdHQ4Zthp07GOkrYQq29m1orzwKSoxs2Cg=s64",
      "userId": "16681236576994002363"
     },
     "user_tz": -60
    },
    "id": "YWdv7HcI3K40",
    "outputId": "9dc0f9e7-fc3e-46ca-d602-bd33a141fc34"
   },
   "outputs": [
    {
     "name": "stdout",
     "output_type": "stream",
     "text": [
      "['UnitNumber', 'Cycle', 'Op_Setting_1', 'Op_Setting_2', 'Op_Setting_3', 'Sensor_1', 'Sensor_2', 'Sensor_3', 'Sensor_4', 'Sensor_5', 'Sensor_6', 'Sensor_7', 'Sensor_8', 'Sensor_9', 'Sensor_10', 'Sensor_11', 'Sensor_12', 'Sensor_13', 'Sensor_14', 'Sensor_15', 'Sensor_16', 'Sensor_17', 'Sensor_18', 'Sensor_19', 'Sensor_20', 'Sensor_21']\n"
     ]
    }
   ],
   "source": [
    "# the files did not contain headers\n",
    "# we can create them based on the documentation\n",
    "target_var = ['target_RUL']\n",
    "index_columns_names =  [\"UnitNumber\",\"Cycle\"]\n",
    "op_settings_columns = [\"Op_Setting_\"+str(i) for i in range(1,4)]\n",
    "sensor_columns =[\"Sensor_\"+str(i) for i in range(1,22)]\n",
    "column_names = index_columns_names + op_settings_columns + sensor_columns\n",
    "print(column_names)"
   ]
  },
  {
   "cell_type": "code",
   "execution_count": 10,
   "metadata": {
    "colab": {
     "base_uri": "https://localhost:8080/",
     "height": 224
    },
    "colab_type": "code",
    "executionInfo": {
     "elapsed": 17737,
     "status": "ok",
     "timestamp": 1585244534351,
     "user": {
      "displayName": "Nicolò Trevisani",
      "photoUrl": "https://lh3.googleusercontent.com/a-/AOh14GiJ9pkFZdHQ4Zthp07GOkrYQq29m1orzwKSoxs2Cg=s64",
      "userId": "16681236576994002363"
     },
     "user_tz": -60
    },
    "id": "YX8MI_zp3K44",
    "outputId": "a014b43e-0c34-4919-9d9d-11a836334f13"
   },
   "outputs": [
    {
     "data": {
      "text/html": [
       "<div>\n",
       "<style scoped>\n",
       "    .dataframe tbody tr th:only-of-type {\n",
       "        vertical-align: middle;\n",
       "    }\n",
       "\n",
       "    .dataframe tbody tr th {\n",
       "        vertical-align: top;\n",
       "    }\n",
       "\n",
       "    .dataframe thead th {\n",
       "        text-align: right;\n",
       "    }\n",
       "</style>\n",
       "<table border=\"1\" class=\"dataframe\">\n",
       "  <thead>\n",
       "    <tr style=\"text-align: right;\">\n",
       "      <th></th>\n",
       "      <th>UnitNumber</th>\n",
       "      <th>Cycle</th>\n",
       "      <th>Op_Setting_1</th>\n",
       "      <th>Op_Setting_2</th>\n",
       "      <th>Op_Setting_3</th>\n",
       "      <th>Sensor_1</th>\n",
       "      <th>Sensor_2</th>\n",
       "      <th>Sensor_3</th>\n",
       "      <th>Sensor_4</th>\n",
       "      <th>Sensor_5</th>\n",
       "      <th>...</th>\n",
       "      <th>Sensor_12</th>\n",
       "      <th>Sensor_13</th>\n",
       "      <th>Sensor_14</th>\n",
       "      <th>Sensor_15</th>\n",
       "      <th>Sensor_16</th>\n",
       "      <th>Sensor_17</th>\n",
       "      <th>Sensor_18</th>\n",
       "      <th>Sensor_19</th>\n",
       "      <th>Sensor_20</th>\n",
       "      <th>Sensor_21</th>\n",
       "    </tr>\n",
       "  </thead>\n",
       "  <tbody>\n",
       "    <tr>\n",
       "      <th>0</th>\n",
       "      <td>1</td>\n",
       "      <td>1</td>\n",
       "      <td>-0.0007</td>\n",
       "      <td>-0.0004</td>\n",
       "      <td>100.0</td>\n",
       "      <td>518.67</td>\n",
       "      <td>641.82</td>\n",
       "      <td>1589.70</td>\n",
       "      <td>1400.60</td>\n",
       "      <td>14.62</td>\n",
       "      <td>...</td>\n",
       "      <td>521.66</td>\n",
       "      <td>2388.02</td>\n",
       "      <td>8138.62</td>\n",
       "      <td>8.4195</td>\n",
       "      <td>0.03</td>\n",
       "      <td>392</td>\n",
       "      <td>2388</td>\n",
       "      <td>100.0</td>\n",
       "      <td>39.06</td>\n",
       "      <td>23.4190</td>\n",
       "    </tr>\n",
       "    <tr>\n",
       "      <th>1</th>\n",
       "      <td>1</td>\n",
       "      <td>2</td>\n",
       "      <td>0.0019</td>\n",
       "      <td>-0.0003</td>\n",
       "      <td>100.0</td>\n",
       "      <td>518.67</td>\n",
       "      <td>642.15</td>\n",
       "      <td>1591.82</td>\n",
       "      <td>1403.14</td>\n",
       "      <td>14.62</td>\n",
       "      <td>...</td>\n",
       "      <td>522.28</td>\n",
       "      <td>2388.07</td>\n",
       "      <td>8131.49</td>\n",
       "      <td>8.4318</td>\n",
       "      <td>0.03</td>\n",
       "      <td>392</td>\n",
       "      <td>2388</td>\n",
       "      <td>100.0</td>\n",
       "      <td>39.00</td>\n",
       "      <td>23.4236</td>\n",
       "    </tr>\n",
       "    <tr>\n",
       "      <th>2</th>\n",
       "      <td>1</td>\n",
       "      <td>3</td>\n",
       "      <td>-0.0043</td>\n",
       "      <td>0.0003</td>\n",
       "      <td>100.0</td>\n",
       "      <td>518.67</td>\n",
       "      <td>642.35</td>\n",
       "      <td>1587.99</td>\n",
       "      <td>1404.20</td>\n",
       "      <td>14.62</td>\n",
       "      <td>...</td>\n",
       "      <td>522.42</td>\n",
       "      <td>2388.03</td>\n",
       "      <td>8133.23</td>\n",
       "      <td>8.4178</td>\n",
       "      <td>0.03</td>\n",
       "      <td>390</td>\n",
       "      <td>2388</td>\n",
       "      <td>100.0</td>\n",
       "      <td>38.95</td>\n",
       "      <td>23.3442</td>\n",
       "    </tr>\n",
       "    <tr>\n",
       "      <th>3</th>\n",
       "      <td>1</td>\n",
       "      <td>4</td>\n",
       "      <td>0.0007</td>\n",
       "      <td>0.0000</td>\n",
       "      <td>100.0</td>\n",
       "      <td>518.67</td>\n",
       "      <td>642.35</td>\n",
       "      <td>1582.79</td>\n",
       "      <td>1401.87</td>\n",
       "      <td>14.62</td>\n",
       "      <td>...</td>\n",
       "      <td>522.86</td>\n",
       "      <td>2388.08</td>\n",
       "      <td>8133.83</td>\n",
       "      <td>8.3682</td>\n",
       "      <td>0.03</td>\n",
       "      <td>392</td>\n",
       "      <td>2388</td>\n",
       "      <td>100.0</td>\n",
       "      <td>38.88</td>\n",
       "      <td>23.3739</td>\n",
       "    </tr>\n",
       "    <tr>\n",
       "      <th>4</th>\n",
       "      <td>1</td>\n",
       "      <td>5</td>\n",
       "      <td>-0.0019</td>\n",
       "      <td>-0.0002</td>\n",
       "      <td>100.0</td>\n",
       "      <td>518.67</td>\n",
       "      <td>642.37</td>\n",
       "      <td>1582.85</td>\n",
       "      <td>1406.22</td>\n",
       "      <td>14.62</td>\n",
       "      <td>...</td>\n",
       "      <td>522.19</td>\n",
       "      <td>2388.04</td>\n",
       "      <td>8133.80</td>\n",
       "      <td>8.4294</td>\n",
       "      <td>0.03</td>\n",
       "      <td>393</td>\n",
       "      <td>2388</td>\n",
       "      <td>100.0</td>\n",
       "      <td>38.90</td>\n",
       "      <td>23.4044</td>\n",
       "    </tr>\n",
       "  </tbody>\n",
       "</table>\n",
       "<p>5 rows × 26 columns</p>\n",
       "</div>"
      ],
      "text/plain": [
       "   UnitNumber  Cycle  Op_Setting_1  Op_Setting_2  Op_Setting_3  Sensor_1  \\\n",
       "0           1      1       -0.0007       -0.0004         100.0    518.67   \n",
       "1           1      2        0.0019       -0.0003         100.0    518.67   \n",
       "2           1      3       -0.0043        0.0003         100.0    518.67   \n",
       "3           1      4        0.0007        0.0000         100.0    518.67   \n",
       "4           1      5       -0.0019       -0.0002         100.0    518.67   \n",
       "\n",
       "   Sensor_2  Sensor_3  Sensor_4  Sensor_5  ...  Sensor_12  Sensor_13  \\\n",
       "0    641.82   1589.70   1400.60     14.62  ...     521.66    2388.02   \n",
       "1    642.15   1591.82   1403.14     14.62  ...     522.28    2388.07   \n",
       "2    642.35   1587.99   1404.20     14.62  ...     522.42    2388.03   \n",
       "3    642.35   1582.79   1401.87     14.62  ...     522.86    2388.08   \n",
       "4    642.37   1582.85   1406.22     14.62  ...     522.19    2388.04   \n",
       "\n",
       "   Sensor_14  Sensor_15  Sensor_16  Sensor_17  Sensor_18  Sensor_19  \\\n",
       "0    8138.62     8.4195       0.03        392       2388      100.0   \n",
       "1    8131.49     8.4318       0.03        392       2388      100.0   \n",
       "2    8133.23     8.4178       0.03        390       2388      100.0   \n",
       "3    8133.83     8.3682       0.03        392       2388      100.0   \n",
       "4    8133.80     8.4294       0.03        393       2388      100.0   \n",
       "\n",
       "   Sensor_20  Sensor_21  \n",
       "0      39.06    23.4190  \n",
       "1      39.00    23.4236  \n",
       "2      38.95    23.3442  \n",
       "3      38.88    23.3739  \n",
       "4      38.90    23.4044  \n",
       "\n",
       "[5 rows x 26 columns]"
      ]
     },
     "execution_count": 10,
     "metadata": {},
     "output_type": "execute_result"
    }
   ],
   "source": [
    "# name columns\n",
    "train_df.columns = column_names\n",
    "test_df.columns = column_names\n",
    "\n",
    "# now the dataset looks better, e.g. the first unit\n",
    "train_df[train_df.UnitNumber == 1].head(5)"
   ]
  },
  {
   "cell_type": "markdown",
   "metadata": {
    "colab_type": "text",
    "id": "2luHo8Mq3K4-"
   },
   "source": [
    "### Remaining Useful Life (RUL)\n",
    "\n",
    "The training data consists time-series for the engine sensors\n",
    "for each cycle (i.e. timestep) until failure which happens\n",
    "after the last time step.\n",
    "\n",
    "Thus, the Remaining Useful Life (RUL), i.e. time until the\n",
    "engine breaks, can be calculated based on the maximum cycle\n",
    "of each unit present in the training set.\n"
   ]
  },
  {
   "cell_type": "code",
   "execution_count": 11,
   "metadata": {
    "colab": {
     "base_uri": "https://localhost:8080/",
     "height": 224
    },
    "colab_type": "code",
    "executionInfo": {
     "elapsed": 17979,
     "status": "ok",
     "timestamp": 1585244534597,
     "user": {
      "displayName": "Nicolò Trevisani",
      "photoUrl": "https://lh3.googleusercontent.com/a-/AOh14GiJ9pkFZdHQ4Zthp07GOkrYQq29m1orzwKSoxs2Cg=s64",
      "userId": "16681236576994002363"
     },
     "user_tz": -60
    },
    "id": "1Wn54P0n3K5A",
    "outputId": "2d17c6e1-4779-491e-f884-89441961d86a"
   },
   "outputs": [
    {
     "data": {
      "text/html": [
       "<div>\n",
       "<style scoped>\n",
       "    .dataframe tbody tr th:only-of-type {\n",
       "        vertical-align: middle;\n",
       "    }\n",
       "\n",
       "    .dataframe tbody tr th {\n",
       "        vertical-align: top;\n",
       "    }\n",
       "\n",
       "    .dataframe thead th {\n",
       "        text-align: right;\n",
       "    }\n",
       "</style>\n",
       "<table border=\"1\" class=\"dataframe\">\n",
       "  <thead>\n",
       "    <tr style=\"text-align: right;\">\n",
       "      <th></th>\n",
       "      <th>UnitNumber</th>\n",
       "      <th>Cycle</th>\n",
       "      <th>Op_Setting_1</th>\n",
       "      <th>Op_Setting_2</th>\n",
       "      <th>Op_Setting_3</th>\n",
       "      <th>Sensor_1</th>\n",
       "      <th>Sensor_2</th>\n",
       "      <th>Sensor_3</th>\n",
       "      <th>Sensor_4</th>\n",
       "      <th>Sensor_5</th>\n",
       "      <th>...</th>\n",
       "      <th>Sensor_13</th>\n",
       "      <th>Sensor_14</th>\n",
       "      <th>Sensor_15</th>\n",
       "      <th>Sensor_16</th>\n",
       "      <th>Sensor_17</th>\n",
       "      <th>Sensor_18</th>\n",
       "      <th>Sensor_19</th>\n",
       "      <th>Sensor_20</th>\n",
       "      <th>Sensor_21</th>\n",
       "      <th>target_RUL</th>\n",
       "    </tr>\n",
       "  </thead>\n",
       "  <tbody>\n",
       "    <tr>\n",
       "      <th>0</th>\n",
       "      <td>1</td>\n",
       "      <td>1</td>\n",
       "      <td>-0.0007</td>\n",
       "      <td>-0.0004</td>\n",
       "      <td>100.0</td>\n",
       "      <td>518.67</td>\n",
       "      <td>641.82</td>\n",
       "      <td>1589.70</td>\n",
       "      <td>1400.60</td>\n",
       "      <td>14.62</td>\n",
       "      <td>...</td>\n",
       "      <td>2388.02</td>\n",
       "      <td>8138.62</td>\n",
       "      <td>8.4195</td>\n",
       "      <td>0.03</td>\n",
       "      <td>392</td>\n",
       "      <td>2388</td>\n",
       "      <td>100.0</td>\n",
       "      <td>39.06</td>\n",
       "      <td>23.4190</td>\n",
       "      <td>191</td>\n",
       "    </tr>\n",
       "    <tr>\n",
       "      <th>1</th>\n",
       "      <td>1</td>\n",
       "      <td>2</td>\n",
       "      <td>0.0019</td>\n",
       "      <td>-0.0003</td>\n",
       "      <td>100.0</td>\n",
       "      <td>518.67</td>\n",
       "      <td>642.15</td>\n",
       "      <td>1591.82</td>\n",
       "      <td>1403.14</td>\n",
       "      <td>14.62</td>\n",
       "      <td>...</td>\n",
       "      <td>2388.07</td>\n",
       "      <td>8131.49</td>\n",
       "      <td>8.4318</td>\n",
       "      <td>0.03</td>\n",
       "      <td>392</td>\n",
       "      <td>2388</td>\n",
       "      <td>100.0</td>\n",
       "      <td>39.00</td>\n",
       "      <td>23.4236</td>\n",
       "      <td>190</td>\n",
       "    </tr>\n",
       "    <tr>\n",
       "      <th>2</th>\n",
       "      <td>1</td>\n",
       "      <td>3</td>\n",
       "      <td>-0.0043</td>\n",
       "      <td>0.0003</td>\n",
       "      <td>100.0</td>\n",
       "      <td>518.67</td>\n",
       "      <td>642.35</td>\n",
       "      <td>1587.99</td>\n",
       "      <td>1404.20</td>\n",
       "      <td>14.62</td>\n",
       "      <td>...</td>\n",
       "      <td>2388.03</td>\n",
       "      <td>8133.23</td>\n",
       "      <td>8.4178</td>\n",
       "      <td>0.03</td>\n",
       "      <td>390</td>\n",
       "      <td>2388</td>\n",
       "      <td>100.0</td>\n",
       "      <td>38.95</td>\n",
       "      <td>23.3442</td>\n",
       "      <td>189</td>\n",
       "    </tr>\n",
       "    <tr>\n",
       "      <th>3</th>\n",
       "      <td>1</td>\n",
       "      <td>4</td>\n",
       "      <td>0.0007</td>\n",
       "      <td>0.0000</td>\n",
       "      <td>100.0</td>\n",
       "      <td>518.67</td>\n",
       "      <td>642.35</td>\n",
       "      <td>1582.79</td>\n",
       "      <td>1401.87</td>\n",
       "      <td>14.62</td>\n",
       "      <td>...</td>\n",
       "      <td>2388.08</td>\n",
       "      <td>8133.83</td>\n",
       "      <td>8.3682</td>\n",
       "      <td>0.03</td>\n",
       "      <td>392</td>\n",
       "      <td>2388</td>\n",
       "      <td>100.0</td>\n",
       "      <td>38.88</td>\n",
       "      <td>23.3739</td>\n",
       "      <td>188</td>\n",
       "    </tr>\n",
       "    <tr>\n",
       "      <th>4</th>\n",
       "      <td>1</td>\n",
       "      <td>5</td>\n",
       "      <td>-0.0019</td>\n",
       "      <td>-0.0002</td>\n",
       "      <td>100.0</td>\n",
       "      <td>518.67</td>\n",
       "      <td>642.37</td>\n",
       "      <td>1582.85</td>\n",
       "      <td>1406.22</td>\n",
       "      <td>14.62</td>\n",
       "      <td>...</td>\n",
       "      <td>2388.04</td>\n",
       "      <td>8133.80</td>\n",
       "      <td>8.4294</td>\n",
       "      <td>0.03</td>\n",
       "      <td>393</td>\n",
       "      <td>2388</td>\n",
       "      <td>100.0</td>\n",
       "      <td>38.90</td>\n",
       "      <td>23.4044</td>\n",
       "      <td>187</td>\n",
       "    </tr>\n",
       "  </tbody>\n",
       "</table>\n",
       "<p>5 rows × 27 columns</p>\n",
       "</div>"
      ],
      "text/plain": [
       "   UnitNumber  Cycle  Op_Setting_1  Op_Setting_2  Op_Setting_3  Sensor_1  \\\n",
       "0           1      1       -0.0007       -0.0004         100.0    518.67   \n",
       "1           1      2        0.0019       -0.0003         100.0    518.67   \n",
       "2           1      3       -0.0043        0.0003         100.0    518.67   \n",
       "3           1      4        0.0007        0.0000         100.0    518.67   \n",
       "4           1      5       -0.0019       -0.0002         100.0    518.67   \n",
       "\n",
       "   Sensor_2  Sensor_3  Sensor_4  Sensor_5  ...  Sensor_13  Sensor_14  \\\n",
       "0    641.82   1589.70   1400.60     14.62  ...    2388.02    8138.62   \n",
       "1    642.15   1591.82   1403.14     14.62  ...    2388.07    8131.49   \n",
       "2    642.35   1587.99   1404.20     14.62  ...    2388.03    8133.23   \n",
       "3    642.35   1582.79   1401.87     14.62  ...    2388.08    8133.83   \n",
       "4    642.37   1582.85   1406.22     14.62  ...    2388.04    8133.80   \n",
       "\n",
       "   Sensor_15  Sensor_16  Sensor_17  Sensor_18  Sensor_19  Sensor_20  \\\n",
       "0     8.4195       0.03        392       2388      100.0      39.06   \n",
       "1     8.4318       0.03        392       2388      100.0      39.00   \n",
       "2     8.4178       0.03        390       2388      100.0      38.95   \n",
       "3     8.3682       0.03        392       2388      100.0      38.88   \n",
       "4     8.4294       0.03        393       2388      100.0      38.90   \n",
       "\n",
       "   Sensor_21  target_RUL  \n",
       "0    23.4190         191  \n",
       "1    23.4236         190  \n",
       "2    23.3442         189  \n",
       "3    23.3739         188  \n",
       "4    23.4044         187  \n",
       "\n",
       "[5 rows x 27 columns]"
      ]
     },
     "execution_count": 11,
     "metadata": {},
     "output_type": "execute_result"
    }
   ],
   "source": [
    "# find the last cycle per unit number\n",
    "max_cycle = train_df.groupby('UnitNumber')['Cycle'].max().reset_index()\n",
    "max_cycle.columns = ['UnitNumber', 'MaxOfCycle']\n",
    "# merge the max cycle back into the original frame\n",
    "train_df = train_df.merge(max_cycle, left_on='UnitNumber', right_on='UnitNumber', how='inner')\n",
    "# calculate RUL for each row\n",
    "target_RUL = train_df[\"MaxOfCycle\"] - train_df[\"Cycle\"]\n",
    "# add columns and remove MaxOfCycle\n",
    "train_df[\"target_RUL\"] = target_RUL\n",
    "train_df = train_df.drop(\"MaxOfCycle\", axis=1)\n",
    "# check that it worked for unit 1\n",
    "train_df[train_df.UnitNumber == 1].head(5)"
   ]
  },
  {
   "cell_type": "markdown",
   "metadata": {
    "colab_type": "text",
    "id": "wuKusLFh3K5E"
   },
   "source": [
    "The test data does not correspond to running until failure\n",
    "as discussed in the dataset documentation, the RUL at the last\n",
    "step is instead provided on an additional file."
   ]
  },
  {
   "cell_type": "code",
   "execution_count": 12,
   "metadata": {
    "colab": {
     "base_uri": "https://localhost:8080/",
     "height": 224
    },
    "colab_type": "code",
    "executionInfo": {
     "elapsed": 17976,
     "status": "ok",
     "timestamp": 1585244534598,
     "user": {
      "displayName": "Nicolò Trevisani",
      "photoUrl": "https://lh3.googleusercontent.com/a-/AOh14GiJ9pkFZdHQ4Zthp07GOkrYQq29m1orzwKSoxs2Cg=s64",
      "userId": "16681236576994002363"
     },
     "user_tz": -60
    },
    "id": "cOxRuHpA3K5G",
    "outputId": "7094d5c3-3fcd-46c7-f2e4-2a5f57074c28"
   },
   "outputs": [
    {
     "data": {
      "text/html": [
       "<div>\n",
       "<style scoped>\n",
       "    .dataframe tbody tr th:only-of-type {\n",
       "        vertical-align: middle;\n",
       "    }\n",
       "\n",
       "    .dataframe tbody tr th {\n",
       "        vertical-align: top;\n",
       "    }\n",
       "\n",
       "    .dataframe thead th {\n",
       "        text-align: right;\n",
       "    }\n",
       "</style>\n",
       "<table border=\"1\" class=\"dataframe\">\n",
       "  <thead>\n",
       "    <tr style=\"text-align: right;\">\n",
       "      <th></th>\n",
       "      <th>UnitNumber</th>\n",
       "      <th>Cycle</th>\n",
       "      <th>Op_Setting_1</th>\n",
       "      <th>Op_Setting_2</th>\n",
       "      <th>Op_Setting_3</th>\n",
       "      <th>Sensor_1</th>\n",
       "      <th>Sensor_2</th>\n",
       "      <th>Sensor_3</th>\n",
       "      <th>Sensor_4</th>\n",
       "      <th>Sensor_5</th>\n",
       "      <th>...</th>\n",
       "      <th>Sensor_13</th>\n",
       "      <th>Sensor_14</th>\n",
       "      <th>Sensor_15</th>\n",
       "      <th>Sensor_16</th>\n",
       "      <th>Sensor_17</th>\n",
       "      <th>Sensor_18</th>\n",
       "      <th>Sensor_19</th>\n",
       "      <th>Sensor_20</th>\n",
       "      <th>Sensor_21</th>\n",
       "      <th>target_RUL</th>\n",
       "    </tr>\n",
       "  </thead>\n",
       "  <tbody>\n",
       "    <tr>\n",
       "      <th>0</th>\n",
       "      <td>1</td>\n",
       "      <td>1</td>\n",
       "      <td>0.0023</td>\n",
       "      <td>0.0003</td>\n",
       "      <td>100.0</td>\n",
       "      <td>518.67</td>\n",
       "      <td>643.02</td>\n",
       "      <td>1585.29</td>\n",
       "      <td>1398.21</td>\n",
       "      <td>14.62</td>\n",
       "      <td>...</td>\n",
       "      <td>2388.03</td>\n",
       "      <td>8125.55</td>\n",
       "      <td>8.4052</td>\n",
       "      <td>0.03</td>\n",
       "      <td>392</td>\n",
       "      <td>2388</td>\n",
       "      <td>100.0</td>\n",
       "      <td>38.86</td>\n",
       "      <td>23.3735</td>\n",
       "      <td>142</td>\n",
       "    </tr>\n",
       "    <tr>\n",
       "      <th>1</th>\n",
       "      <td>1</td>\n",
       "      <td>2</td>\n",
       "      <td>-0.0027</td>\n",
       "      <td>-0.0003</td>\n",
       "      <td>100.0</td>\n",
       "      <td>518.67</td>\n",
       "      <td>641.71</td>\n",
       "      <td>1588.45</td>\n",
       "      <td>1395.42</td>\n",
       "      <td>14.62</td>\n",
       "      <td>...</td>\n",
       "      <td>2388.06</td>\n",
       "      <td>8139.62</td>\n",
       "      <td>8.3803</td>\n",
       "      <td>0.03</td>\n",
       "      <td>393</td>\n",
       "      <td>2388</td>\n",
       "      <td>100.0</td>\n",
       "      <td>39.02</td>\n",
       "      <td>23.3916</td>\n",
       "      <td>141</td>\n",
       "    </tr>\n",
       "    <tr>\n",
       "      <th>2</th>\n",
       "      <td>1</td>\n",
       "      <td>3</td>\n",
       "      <td>0.0003</td>\n",
       "      <td>0.0001</td>\n",
       "      <td>100.0</td>\n",
       "      <td>518.67</td>\n",
       "      <td>642.46</td>\n",
       "      <td>1586.94</td>\n",
       "      <td>1401.34</td>\n",
       "      <td>14.62</td>\n",
       "      <td>...</td>\n",
       "      <td>2388.03</td>\n",
       "      <td>8130.10</td>\n",
       "      <td>8.4441</td>\n",
       "      <td>0.03</td>\n",
       "      <td>393</td>\n",
       "      <td>2388</td>\n",
       "      <td>100.0</td>\n",
       "      <td>39.08</td>\n",
       "      <td>23.4166</td>\n",
       "      <td>140</td>\n",
       "    </tr>\n",
       "    <tr>\n",
       "      <th>3</th>\n",
       "      <td>1</td>\n",
       "      <td>4</td>\n",
       "      <td>0.0042</td>\n",
       "      <td>0.0000</td>\n",
       "      <td>100.0</td>\n",
       "      <td>518.67</td>\n",
       "      <td>642.44</td>\n",
       "      <td>1584.12</td>\n",
       "      <td>1406.42</td>\n",
       "      <td>14.62</td>\n",
       "      <td>...</td>\n",
       "      <td>2388.05</td>\n",
       "      <td>8132.90</td>\n",
       "      <td>8.3917</td>\n",
       "      <td>0.03</td>\n",
       "      <td>391</td>\n",
       "      <td>2388</td>\n",
       "      <td>100.0</td>\n",
       "      <td>39.00</td>\n",
       "      <td>23.3737</td>\n",
       "      <td>139</td>\n",
       "    </tr>\n",
       "    <tr>\n",
       "      <th>4</th>\n",
       "      <td>1</td>\n",
       "      <td>5</td>\n",
       "      <td>0.0014</td>\n",
       "      <td>0.0000</td>\n",
       "      <td>100.0</td>\n",
       "      <td>518.67</td>\n",
       "      <td>642.51</td>\n",
       "      <td>1587.19</td>\n",
       "      <td>1401.92</td>\n",
       "      <td>14.62</td>\n",
       "      <td>...</td>\n",
       "      <td>2388.03</td>\n",
       "      <td>8129.54</td>\n",
       "      <td>8.4031</td>\n",
       "      <td>0.03</td>\n",
       "      <td>390</td>\n",
       "      <td>2388</td>\n",
       "      <td>100.0</td>\n",
       "      <td>38.99</td>\n",
       "      <td>23.4130</td>\n",
       "      <td>138</td>\n",
       "    </tr>\n",
       "  </tbody>\n",
       "</table>\n",
       "<p>5 rows × 27 columns</p>\n",
       "</div>"
      ],
      "text/plain": [
       "   UnitNumber  Cycle  Op_Setting_1  Op_Setting_2  Op_Setting_3  Sensor_1  \\\n",
       "0           1      1        0.0023        0.0003         100.0    518.67   \n",
       "1           1      2       -0.0027       -0.0003         100.0    518.67   \n",
       "2           1      3        0.0003        0.0001         100.0    518.67   \n",
       "3           1      4        0.0042        0.0000         100.0    518.67   \n",
       "4           1      5        0.0014        0.0000         100.0    518.67   \n",
       "\n",
       "   Sensor_2  Sensor_3  Sensor_4  Sensor_5  ...  Sensor_13  Sensor_14  \\\n",
       "0    643.02   1585.29   1398.21     14.62  ...    2388.03    8125.55   \n",
       "1    641.71   1588.45   1395.42     14.62  ...    2388.06    8139.62   \n",
       "2    642.46   1586.94   1401.34     14.62  ...    2388.03    8130.10   \n",
       "3    642.44   1584.12   1406.42     14.62  ...    2388.05    8132.90   \n",
       "4    642.51   1587.19   1401.92     14.62  ...    2388.03    8129.54   \n",
       "\n",
       "   Sensor_15  Sensor_16  Sensor_17  Sensor_18  Sensor_19  Sensor_20  \\\n",
       "0     8.4052       0.03        392       2388      100.0      38.86   \n",
       "1     8.3803       0.03        393       2388      100.0      39.02   \n",
       "2     8.4441       0.03        393       2388      100.0      39.08   \n",
       "3     8.3917       0.03        391       2388      100.0      39.00   \n",
       "4     8.4031       0.03        390       2388      100.0      38.99   \n",
       "\n",
       "   Sensor_21  target_RUL  \n",
       "0    23.3735         142  \n",
       "1    23.3916         141  \n",
       "2    23.4166         140  \n",
       "3    23.3737         139  \n",
       "4    23.4130         138  \n",
       "\n",
       "[5 rows x 27 columns]"
      ]
     },
     "execution_count": 12,
     "metadata": {},
     "output_type": "execute_result"
    }
   ],
   "source": [
    "# get truth RUL\n",
    "truth_df = pd.read_csv('data/RUL_FD001.txt', sep=\" \", header=None)\n",
    "truth_df.drop(truth_df.columns[[1]], axis=1, inplace=True)\n",
    "# UnitNumber based\n",
    "truth_df.columns = [\"RUL_after_last\"]\n",
    "truth_df['UnitNumber'] =  truth_df.index + 1\n",
    "# find the last cycle per unit number in test set\n",
    "max_cycle = test_df.groupby('UnitNumber')['Cycle'].max().reset_index()\n",
    "max_cycle.columns = ['UnitNumber', 'MaxOfCycle']\n",
    "max_cycle['MaxOfCycle'] = max_cycle['MaxOfCycle'] + truth_df[\"RUL_after_last\"]\n",
    "# merge the max cycle back into the original frame\n",
    "test_df = test_df.merge(max_cycle, left_on='UnitNumber', right_on='UnitNumber', how='inner')\n",
    "# calculate RUL for each row\n",
    "target_RUL = test_df[\"MaxOfCycle\"] - test_df[\"Cycle\"]\n",
    "# add columns and remove MaxOfCycle\n",
    "test_df[\"target_RUL\"] = target_RUL\n",
    "test_df = test_df.drop(\"MaxOfCycle\", axis=1)\n",
    "# check that it worked for unit 1\n",
    "test_df[test_df.UnitNumber == 1].head(5)"
   ]
  },
  {
   "cell_type": "markdown",
   "metadata": {
    "colab_type": "text",
    "id": "V1st4km-3K5K"
   },
   "source": [
    "### Defining the Problem\n",
    "\n",
    "**The first step before starting with ML for a IoT application (or any problem for that matter)\n",
    "is to understand well the task at hand.**\n",
    "\n",
    "Predictive maintenance is about having accurate predictions (based on sensors or performances)\n",
    "of when a machine or a industrial setup will fail and how to schedule costly maintenance\n",
    "intelligently and reduce operating costs.\n",
    "\n",
    "The most common problem definitions for predictive maintenance are: \n",
    "\n",
    "- Regression (**included here**): Predict the Remaining Useful Life (RUL) or Time to Failure (TTF).\n",
    "- Binary classification (**included here**): Predict if an asset will fail within certain time frame (e.g. days).\n",
    "- Multi-class classification (**not included here**): Predict if an asset will fail in different time windows or due to different failure models\n",
    "\n",
    "\n",
    "These techniques are those also used for general time-series\n",
    "forecasting but at application time we do not have access to the target value at the current or\n",
    "previous time step.\n",
    "\n"
   ]
  },
  {
   "cell_type": "markdown",
   "metadata": {
    "colab_type": "text",
    "id": "fOF48pdV3K5L"
   },
   "source": [
    "### Feature Exploration\n",
    "\n",
    "Independently on the chosen problem, it is always recommended\n",
    "to interactively explore the variables to be considered\n",
    "in the predictive modelling problem.\n",
    "\n",
    "It is important to not only consider the data available\n",
    "in the training set but also that expected in the test\n",
    "or production environment. Alternatively we can\n",
    "incur in:\n",
    "- **target leakage**: use information that has predictive power\n",
    "as input of the model during training but will no be available\n",
    "in production or for the real data.\n",
    "- **domain mismatch**: if the training and test/production data\n",
    "are different the trained models might not perform well in\n",
    "the real word scenario."
   ]
  },
  {
   "cell_type": "code",
   "execution_count": 13,
   "metadata": {
    "colab": {
     "base_uri": "https://localhost:8080/",
     "height": 119
    },
    "colab_type": "code",
    "executionInfo": {
     "elapsed": 17973,
     "status": "ok",
     "timestamp": 1585244534599,
     "user": {
      "displayName": "Nicolò Trevisani",
      "photoUrl": "https://lh3.googleusercontent.com/a-/AOh14GiJ9pkFZdHQ4Zthp07GOkrYQq29m1orzwKSoxs2Cg=s64",
      "userId": "16681236576994002363"
     },
     "user_tz": -60
    },
    "id": "9tSLx65z3K5M",
    "outputId": "7dad88b6-9467-446b-bb64-73dd1ec361a8"
   },
   "outputs": [
    {
     "name": "stdout",
     "output_type": "stream",
     "text": [
      "basic_features:  Index(['Cycle', 'Op_Setting_1', 'Op_Setting_2', 'Op_Setting_3', 'Sensor_1',\n",
      "       'Sensor_10', 'Sensor_11', 'Sensor_12', 'Sensor_13', 'Sensor_14',\n",
      "       'Sensor_15', 'Sensor_16', 'Sensor_17', 'Sensor_18', 'Sensor_19',\n",
      "       'Sensor_2', 'Sensor_20', 'Sensor_21', 'Sensor_3', 'Sensor_4',\n",
      "       'Sensor_5', 'Sensor_6', 'Sensor_7', 'Sensor_8', 'Sensor_9'],\n",
      "      dtype='object')\n"
     ]
    }
   ],
   "source": [
    "# we will consider all features except the UnitNumber and the target\n",
    "basic_features = train_df.columns.difference([\"UnitNumber\",\"target_RUL\"])\n",
    "print(\"basic_features: \",basic_features)"
   ]
  },
  {
   "cell_type": "markdown",
   "metadata": {
    "colab_type": "text",
    "id": "cnLCjIBj3K5Q"
   },
   "source": [
    "#### Exercise: Plot the Sensor Data for given Unit\n",
    "\n",
    "For a given unit of the training set, plot the time-series of some of the sensor data."
   ]
  },
  {
   "cell_type": "code",
   "execution_count": 26,
   "metadata": {
    "colab": {
     "base_uri": "https://localhost:8080/",
     "height": 901
    },
    "colab_type": "code",
    "executionInfo": {
     "elapsed": 791,
     "status": "error",
     "timestamp": 1585244764436,
     "user": {
      "displayName": "Nicolò Trevisani",
      "photoUrl": "https://lh3.googleusercontent.com/a-/AOh14GiJ9pkFZdHQ4Zthp07GOkrYQq29m1orzwKSoxs2Cg=s64",
      "userId": "16681236576994002363"
     },
     "user_tz": -60
    },
    "id": "Xj7KuE8m3K5S",
    "outputId": "894ed698-c0d2-46e9-dba3-e5d70f830766"
   },
   "outputs": [
    {
     "data": {
      "text/plain": [
       "[<matplotlib.lines.Line2D at 0x7f829b702910>]"
      ]
     },
     "execution_count": 26,
     "metadata": {},
     "output_type": "execute_result"
    },
    {
     "data": {
      "image/png": "[encoded data removed]",
      "text/plain": [
       "<Figure size 1440x864 with 1 Axes>"
      ]
     },
     "metadata": {
      "needs_background": "light"
     },
     "output_type": "display_data"
    }
   ],
   "source": [
    "# space for exercise solution\n",
    "\n",
    "# Decido qué motor quiero mirar\n",
    "engine_number = 2\n",
    "\n",
    "# Decido qué sensor quiero mirar\n",
    "sensor_name = \"Sensor_4\"\n",
    "\n",
    "# Filtro el df, para qué aparezca solo el motor que quiero mirar\n",
    "plot_df = train_df[train_df[\"UnitNumber\"] == engine_number]\n",
    "\n",
    "# Preparo los plots\n",
    "fig, ax = plt.subplots(figsize = (20, 12))\n",
    "ax.plot(plot_df[\"Cycle\"], plot_df[sensor_name])"
   ]
  },
  {
   "cell_type": "markdown",
   "metadata": {
    "colab_type": "text",
    "id": "Fs3oURL-3K5X"
   },
   "source": [
    "#### Exercise: Compare the Distribution of Variables in the Train and Test sets\n",
    "\n",
    "Compare graphically the distribution of some of the\n",
    "input variables (e.g. 'Cycle', 'Op_Setting_1' or sensor data) for the train and test sets."
   ]
  },
  {
   "cell_type": "code",
   "execution_count": 27,
   "metadata": {
    "colab": {
     "base_uri": "https://localhost:8080/",
     "height": 785
    },
    "colab_type": "code",
    "executionInfo": {
     "elapsed": 813,
     "status": "ok",
     "timestamp": 1585244823419,
     "user": {
      "displayName": "Nicolò Trevisani",
      "photoUrl": "https://lh3.googleusercontent.com/a-/AOh14GiJ9pkFZdHQ4Zthp07GOkrYQq29m1orzwKSoxs2Cg=s64",
      "userId": "16681236576994002363"
     },
     "user_tz": -60
    },
    "id": "hpUgG-8w3K5Y",
    "outputId": "b5198a31-1aae-4eb8-f21a-8b7db41d5b92"
   },
   "outputs": [
    {
     "data": {
      "text/plain": [
       "(array([3100., 2821., 2426., 2035., 1467.,  765.,  311.,  108.,   32.,\n",
       "          31.]),\n",
       " array([  1. ,  31.2,  61.4,  91.6, 121.8, 152. , 182.2, 212.4, 242.6,\n",
       "        272.8, 303. ]),\n",
       " <a list of 10 Patch objects>)"
      ]
     },
     "execution_count": 27,
     "metadata": {},
     "output_type": "execute_result"
    },
    {
     "data": {
      "image/png": "[encoded data removed]",
      "text/plain": [
       "<Figure size 1440x864 with 1 Axes>"
      ]
     },
     "metadata": {
      "needs_background": "light"
     },
     "output_type": "display_data"
    }
   ],
   "source": [
    "# space for exercise solution\n",
    "\n",
    "fig, ax = plt.subplots(figsize = (20,12))\n",
    "\n",
    "variable_name = \"Cycle\"\n",
    "\n",
    "ax.hist(train_df.loc[:, variable_name])\n",
    "ax.hist(test_df.loc[:, variable_name])"
   ]
  },
  {
   "cell_type": "markdown",
   "metadata": {
    "colab_type": "text",
    "id": "ya5c777o3K5c"
   },
   "source": [
    "#### Exercise: Compare the Distrubution of the Target in the Train and Test sets\n",
    "\n",
    "Compare graphically the distribution of the target RUL in the train and test sets.\n",
    "Will this affect the training? How could it be avoided (see reference [9](#References))"
   ]
  },
  {
   "cell_type": "code",
   "execution_count": 30,
   "metadata": {
    "colab": {},
    "colab_type": "code",
    "id": "tOW-lAPn3K5d"
   },
   "outputs": [
    {
     "data": {
      "text/plain": [
       "(array([ 596., 1177., 1828., 2952., 2884., 1975.,  978.,  453.,  174.,\n",
       "          79.]),\n",
       " array([  7. ,  40.3,  73.6, 106.9, 140.2, 173.5, 206.8, 240.1, 273.4,\n",
       "        306.7, 340. ]),\n",
       " <a list of 10 Patch objects>)"
      ]
     },
     "execution_count": 30,
     "metadata": {},
     "output_type": "execute_result"
    },
    {
     "data": {
      "image/png": "[encoded data removed]",
      "text/plain": [
       "<Figure size 1440x864 with 1 Axes>"
      ]
     },
     "metadata": {
      "needs_background": "light"
     },
     "output_type": "display_data"
    }
   ],
   "source": [
    "# space for exercise solution\n",
    "\n",
    "fig, ax = plt.subplots(figsize = (20,12))\n",
    "\n",
    "variable_name = \"target_RUL\"\n",
    "\n",
    "ax.hist(train_df.loc[:, variable_name])\n",
    "ax.hist(test_df.loc[:, variable_name])"
   ]
  },
  {
   "cell_type": "markdown",
   "metadata": {
    "colab_type": "text",
    "id": "DRQ4jALJ3K5f"
   },
   "source": [
    "### Feature Transformations and Engineering\n",
    "\n",
    "Another important step, particularly when dealing with\n",
    "most techniques other than Deep Learning, is *feature\n",
    "preprocessing/scaling* and *feature engineering*.\n",
    "\n",
    "Feature preprocessing/scaling can facilitate model training by\n",
    "scaling the features to dimensionless values based on the properties\n",
    "of the dataset.\n",
    "\n",
    "Feature engineering, the definition of new variables based\n",
    "on those available, is particularly important for time-series\n",
    "data when we want to\n",
    "make a prediction for each timestep as is the case for all the\n",
    "problems considered in this notebook.\n",
    "\n",
    "\n"
   ]
  },
  {
   "cell_type": "code",
   "execution_count": 32,
   "metadata": {
    "colab": {
     "base_uri": "https://localhost:8080/",
     "height": 317
    },
    "colab_type": "code",
    "executionInfo": {
     "elapsed": 1108,
     "status": "ok",
     "timestamp": 1585244859762,
     "user": {
      "displayName": "Nicolò Trevisani",
      "photoUrl": "https://lh3.googleusercontent.com/a-/AOh14GiJ9pkFZdHQ4Zthp07GOkrYQq29m1orzwKSoxs2Cg=s64",
      "userId": "16681236576994002363"
     },
     "user_tz": -60
    },
    "id": "6yiHAP_G3K5g",
    "outputId": "a286cf1d-2836-412f-fbe4-cc60e0b1fe70"
   },
   "outputs": [
    {
     "data": {
      "text/html": [
       "<div>\n",
       "<style scoped>\n",
       "    .dataframe tbody tr th:only-of-type {\n",
       "        vertical-align: middle;\n",
       "    }\n",
       "\n",
       "    .dataframe tbody tr th {\n",
       "        vertical-align: top;\n",
       "    }\n",
       "\n",
       "    .dataframe thead th {\n",
       "        text-align: right;\n",
       "    }\n",
       "</style>\n",
       "<table border=\"1\" class=\"dataframe\">\n",
       "  <thead>\n",
       "    <tr style=\"text-align: right;\">\n",
       "      <th></th>\n",
       "      <th>Cycle</th>\n",
       "      <th>Op_Setting_1</th>\n",
       "      <th>Op_Setting_2</th>\n",
       "      <th>Op_Setting_3</th>\n",
       "      <th>Sensor_1</th>\n",
       "      <th>Sensor_10</th>\n",
       "      <th>Sensor_11</th>\n",
       "      <th>Sensor_12</th>\n",
       "      <th>Sensor_13</th>\n",
       "      <th>Sensor_14</th>\n",
       "      <th>...</th>\n",
       "      <th>Sensor_2</th>\n",
       "      <th>Sensor_20</th>\n",
       "      <th>Sensor_21</th>\n",
       "      <th>Sensor_3</th>\n",
       "      <th>Sensor_4</th>\n",
       "      <th>Sensor_5</th>\n",
       "      <th>Sensor_6</th>\n",
       "      <th>Sensor_7</th>\n",
       "      <th>Sensor_8</th>\n",
       "      <th>Sensor_9</th>\n",
       "    </tr>\n",
       "  </thead>\n",
       "  <tbody>\n",
       "    <tr>\n",
       "      <th>count</th>\n",
       "      <td>2.063100e+04</td>\n",
       "      <td>2.063100e+04</td>\n",
       "      <td>2.063100e+04</td>\n",
       "      <td>20631.0</td>\n",
       "      <td>20631.0</td>\n",
       "      <td>20631.0</td>\n",
       "      <td>2.063100e+04</td>\n",
       "      <td>2.063100e+04</td>\n",
       "      <td>2.063100e+04</td>\n",
       "      <td>2.063100e+04</td>\n",
       "      <td>...</td>\n",
       "      <td>2.063100e+04</td>\n",
       "      <td>2.063100e+04</td>\n",
       "      <td>2.063100e+04</td>\n",
       "      <td>2.063100e+04</td>\n",
       "      <td>2.063100e+04</td>\n",
       "      <td>20631.0</td>\n",
       "      <td>2.063100e+04</td>\n",
       "      <td>2.063100e+04</td>\n",
       "      <td>2.063100e+04</td>\n",
       "      <td>2.063100e+04</td>\n",
       "    </tr>\n",
       "    <tr>\n",
       "      <th>mean</th>\n",
       "      <td>-8.816778e-17</td>\n",
       "      <td>1.377622e-18</td>\n",
       "      <td>-2.720802e-17</td>\n",
       "      <td>0.0</td>\n",
       "      <td>0.0</td>\n",
       "      <td>0.0</td>\n",
       "      <td>-2.937089e-15</td>\n",
       "      <td>-1.199702e-13</td>\n",
       "      <td>3.493855e-13</td>\n",
       "      <td>3.061075e-15</td>\n",
       "      <td>...</td>\n",
       "      <td>6.410348e-14</td>\n",
       "      <td>4.156146e-14</td>\n",
       "      <td>2.402296e-14</td>\n",
       "      <td>-4.959437e-14</td>\n",
       "      <td>9.285169e-16</td>\n",
       "      <td>-1.0</td>\n",
       "      <td>-6.469426e-12</td>\n",
       "      <td>-3.161641e-14</td>\n",
       "      <td>1.008249e-12</td>\n",
       "      <td>-4.185765e-14</td>\n",
       "    </tr>\n",
       "    <tr>\n",
       "      <th>std</th>\n",
       "      <td>1.000024e+00</td>\n",
       "      <td>1.000024e+00</td>\n",
       "      <td>1.000024e+00</td>\n",
       "      <td>0.0</td>\n",
       "      <td>0.0</td>\n",
       "      <td>0.0</td>\n",
       "      <td>1.000024e+00</td>\n",
       "      <td>1.000024e+00</td>\n",
       "      <td>1.000024e+00</td>\n",
       "      <td>1.000024e+00</td>\n",
       "      <td>...</td>\n",
       "      <td>1.000024e+00</td>\n",
       "      <td>1.000024e+00</td>\n",
       "      <td>1.000024e+00</td>\n",
       "      <td>1.000024e+00</td>\n",
       "      <td>1.000024e+00</td>\n",
       "      <td>0.0</td>\n",
       "      <td>1.000024e+00</td>\n",
       "      <td>1.000024e+00</td>\n",
       "      <td>1.000024e+00</td>\n",
       "      <td>1.000024e+00</td>\n",
       "    </tr>\n",
       "    <tr>\n",
       "      <th>min</th>\n",
       "      <td>-1.565170e+00</td>\n",
       "      <td>-3.973523e+00</td>\n",
       "      <td>-2.055419e+00</td>\n",
       "      <td>0.0</td>\n",
       "      <td>0.0</td>\n",
       "      <td>0.0</td>\n",
       "      <td>-2.587860e+00</td>\n",
       "      <td>-3.692663e+00</td>\n",
       "      <td>-3.005574e+00</td>\n",
       "      <td>-2.296780e+00</td>\n",
       "      <td>...</td>\n",
       "      <td>-2.941625e+00</td>\n",
       "      <td>-3.741634e+00</td>\n",
       "      <td>-3.653688e+00</td>\n",
       "      <td>-3.177804e+00</td>\n",
       "      <td>-2.964737e+00</td>\n",
       "      <td>-1.0</td>\n",
       "      <td>-7.057993e+00</td>\n",
       "      <td>-3.974497e+00</td>\n",
       "      <td>-2.770375e+00</td>\n",
       "      <td>-1.970486e+00</td>\n",
       "    </tr>\n",
       "    <tr>\n",
       "      <th>25%</th>\n",
       "      <td>-8.247448e-01</td>\n",
       "      <td>-6.817340e-01</td>\n",
       "      <td>-6.904875e-01</td>\n",
       "      <td>0.0</td>\n",
       "      <td>0.0</td>\n",
       "      <td>0.0</td>\n",
       "      <td>-7.157686e-01</td>\n",
       "      <td>-6.148450e-01</td>\n",
       "      <td>-7.807925e-01</td>\n",
       "      <td>-5.508429e-01</td>\n",
       "      <td>...</td>\n",
       "      <td>-7.118085e-01</td>\n",
       "      <td>-6.432961e-01</td>\n",
       "      <td>-6.273114e-01</td>\n",
       "      <td>-6.953381e-01</td>\n",
       "      <td>-7.303888e-01</td>\n",
       "      <td>-1.0</td>\n",
       "      <td>1.416833e-01</td>\n",
       "      <td>-6.301317e-01</td>\n",
       "      <td>-6.572157e-01</td>\n",
       "      <td>-5.498936e-01</td>\n",
       "    </tr>\n",
       "    <tr>\n",
       "      <th>50%</th>\n",
       "      <td>-6.980124e-02</td>\n",
       "      <td>4.055368e-03</td>\n",
       "      <td>-8.021809e-03</td>\n",
       "      <td>0.0</td>\n",
       "      <td>0.0</td>\n",
       "      <td>0.0</td>\n",
       "      <td>-1.166993e-01</td>\n",
       "      <td>9.020580e-02</td>\n",
       "      <td>-8.554830e-02</td>\n",
       "      <td>-1.684195e-01</td>\n",
       "      <td>...</td>\n",
       "      <td>-8.186036e-02</td>\n",
       "      <td>7.596096e-02</td>\n",
       "      <td>7.570228e-02</td>\n",
       "      <td>-6.901297e-02</td>\n",
       "      <td>-9.930481e-02</td>\n",
       "      <td>-1.0</td>\n",
       "      <td>1.416833e-01</td>\n",
       "      <td>8.167571e-02</td>\n",
       "      <td>-9.370652e-02</td>\n",
       "      <td>-2.075387e-01</td>\n",
       "    </tr>\n",
       "    <tr>\n",
       "      <th>75%</th>\n",
       "      <td>6.851423e-01</td>\n",
       "      <td>6.898448e-01</td>\n",
       "      <td>1.015677e+00</td>\n",
       "      <td>0.0</td>\n",
       "      <td>0.0</td>\n",
       "      <td>0.0</td>\n",
       "      <td>5.946956e-01</td>\n",
       "      <td>7.274632e-01</td>\n",
       "      <td>6.096959e-01</td>\n",
       "      <td>2.389047e-01</td>\n",
       "      <td>...</td>\n",
       "      <td>6.380804e-01</td>\n",
       "      <td>7.398906e-01</td>\n",
       "      <td>7.122022e-01</td>\n",
       "      <td>6.290786e-01</td>\n",
       "      <td>6.245530e-01</td>\n",
       "      <td>-1.0</td>\n",
       "      <td>1.416833e-01</td>\n",
       "      <td>7.256920e-01</td>\n",
       "      <td>6.106800e-01</td>\n",
       "      <td>1.891583e-01</td>\n",
       "    </tr>\n",
       "    <tr>\n",
       "      <th>max</th>\n",
       "      <td>3.675880e+00</td>\n",
       "      <td>3.981634e+00</td>\n",
       "      <td>2.039375e+00</td>\n",
       "      <td>0.0</td>\n",
       "      <td>0.0</td>\n",
       "      <td>0.0</td>\n",
       "      <td>3.702368e+00</td>\n",
       "      <td>2.666353e+00</td>\n",
       "      <td>6.449748e+00</td>\n",
       "      <td>7.861686e+00</td>\n",
       "      <td>...</td>\n",
       "      <td>3.697829e+00</td>\n",
       "      <td>3.395609e+00</td>\n",
       "      <td>3.036489e+00</td>\n",
       "      <td>4.303846e+00</td>\n",
       "      <td>3.617202e+00</td>\n",
       "      <td>-1.0</td>\n",
       "      <td>1.416833e-01</td>\n",
       "      <td>3.041891e+00</td>\n",
       "      <td>6.527526e+00</td>\n",
       "      <td>8.121740e+00</td>\n",
       "    </tr>\n",
       "  </tbody>\n",
       "</table>\n",
       "<p>8 rows × 25 columns</p>\n",
       "</div>"
      ],
      "text/plain": [
       "              Cycle  Op_Setting_1  Op_Setting_2  Op_Setting_3  Sensor_1  \\\n",
       "count  2.063100e+04  2.063100e+04  2.063100e+04       20631.0   20631.0   \n",
       "mean  -8.816778e-17  1.377622e-18 -2.720802e-17           0.0       0.0   \n",
       "std    1.000024e+00  1.000024e+00  1.000024e+00           0.0       0.0   \n",
       "min   -1.565170e+00 -3.973523e+00 -2.055419e+00           0.0       0.0   \n",
       "25%   -8.247448e-01 -6.817340e-01 -6.904875e-01           0.0       0.0   \n",
       "50%   -6.980124e-02  4.055368e-03 -8.021809e-03           0.0       0.0   \n",
       "75%    6.851423e-01  6.898448e-01  1.015677e+00           0.0       0.0   \n",
       "max    3.675880e+00  3.981634e+00  2.039375e+00           0.0       0.0   \n",
       "\n",
       "       Sensor_10     Sensor_11     Sensor_12     Sensor_13     Sensor_14  ...  \\\n",
       "count    20631.0  2.063100e+04  2.063100e+04  2.063100e+04  2.063100e+04  ...   \n",
       "mean         0.0 -2.937089e-15 -1.199702e-13  3.493855e-13  3.061075e-15  ...   \n",
       "std          0.0  1.000024e+00  1.000024e+00  1.000024e+00  1.000024e+00  ...   \n",
       "min          0.0 -2.587860e+00 -3.692663e+00 -3.005574e+00 -2.296780e+00  ...   \n",
       "25%          0.0 -7.157686e-01 -6.148450e-01 -7.807925e-01 -5.508429e-01  ...   \n",
       "50%          0.0 -1.166993e-01  9.020580e-02 -8.554830e-02 -1.684195e-01  ...   \n",
       "75%          0.0  5.946956e-01  7.274632e-01  6.096959e-01  2.389047e-01  ...   \n",
       "max          0.0  3.702368e+00  2.666353e+00  6.449748e+00  7.861686e+00  ...   \n",
       "\n",
       "           Sensor_2     Sensor_20     Sensor_21      Sensor_3      Sensor_4  \\\n",
       "count  2.063100e+04  2.063100e+04  2.063100e+04  2.063100e+04  2.063100e+04   \n",
       "mean   6.410348e-14  4.156146e-14  2.402296e-14 -4.959437e-14  9.285169e-16   \n",
       "std    1.000024e+00  1.000024e+00  1.000024e+00  1.000024e+00  1.000024e+00   \n",
       "min   -2.941625e+00 -3.741634e+00 -3.653688e+00 -3.177804e+00 -2.964737e+00   \n",
       "25%   -7.118085e-01 -6.432961e-01 -6.273114e-01 -6.953381e-01 -7.303888e-01   \n",
       "50%   -8.186036e-02  7.596096e-02  7.570228e-02 -6.901297e-02 -9.930481e-02   \n",
       "75%    6.380804e-01  7.398906e-01  7.122022e-01  6.290786e-01  6.245530e-01   \n",
       "max    3.697829e+00  3.395609e+00  3.036489e+00  4.303846e+00  3.617202e+00   \n",
       "\n",
       "       Sensor_5      Sensor_6      Sensor_7      Sensor_8      Sensor_9  \n",
       "count   20631.0  2.063100e+04  2.063100e+04  2.063100e+04  2.063100e+04  \n",
       "mean       -1.0 -6.469426e-12 -3.161641e-14  1.008249e-12 -4.185765e-14  \n",
       "std         0.0  1.000024e+00  1.000024e+00  1.000024e+00  1.000024e+00  \n",
       "min        -1.0 -7.057993e+00 -3.974497e+00 -2.770375e+00 -1.970486e+00  \n",
       "25%        -1.0  1.416833e-01 -6.301317e-01 -6.572157e-01 -5.498936e-01  \n",
       "50%        -1.0  1.416833e-01  8.167571e-02 -9.370652e-02 -2.075387e-01  \n",
       "75%        -1.0  1.416833e-01  7.256920e-01  6.106800e-01  1.891583e-01  \n",
       "max        -1.0  1.416833e-01  3.041891e+00  6.527526e+00  8.121740e+00  \n",
       "\n",
       "[8 rows x 25 columns]"
      ]
     },
     "execution_count": 32,
     "metadata": {},
     "output_type": "execute_result"
    }
   ],
   "source": [
    "from sklearn import preprocessing\n",
    "\n",
    "# we will use the Standard Scaler\n",
    "scaler = preprocessing.StandardScaler()\n",
    "\n",
    "features = basic_features\n",
    "X_unscaled = train_df[features].astype('float64')\n",
    "X = pd.DataFrame(scaler.fit_transform(X_unscaled),\n",
    "                 columns = features,\n",
    "                 index = train_df.index)\n",
    "y = train_df[\"target_RUL\"]\n",
    "\n",
    "X.describe()"
   ]
  },
  {
   "cell_type": "code",
   "execution_count": 33,
   "metadata": {
    "colab": {
     "base_uri": "https://localhost:8080/",
     "height": 317
    },
    "colab_type": "code",
    "executionInfo": {
     "elapsed": 550,
     "status": "ok",
     "timestamp": 1585244984836,
     "user": {
      "displayName": "Nicolò Trevisani",
      "photoUrl": "https://lh3.googleusercontent.com/a-/AOh14GiJ9pkFZdHQ4Zthp07GOkrYQq29m1orzwKSoxs2Cg=s64",
      "userId": "16681236576994002363"
     },
     "user_tz": -60
    },
    "id": "MjBHPH_Q3K5k",
    "outputId": "d4e25949-a0ed-4c01-f08b-3f609bbc58a6"
   },
   "outputs": [
    {
     "data": {
      "text/html": [
       "<div>\n",
       "<style scoped>\n",
       "    .dataframe tbody tr th:only-of-type {\n",
       "        vertical-align: middle;\n",
       "    }\n",
       "\n",
       "    .dataframe tbody tr th {\n",
       "        vertical-align: top;\n",
       "    }\n",
       "\n",
       "    .dataframe thead th {\n",
       "        text-align: right;\n",
       "    }\n",
       "</style>\n",
       "<table border=\"1\" class=\"dataframe\">\n",
       "  <thead>\n",
       "    <tr style=\"text-align: right;\">\n",
       "      <th></th>\n",
       "      <th>Cycle</th>\n",
       "      <th>Op_Setting_1</th>\n",
       "      <th>Op_Setting_2</th>\n",
       "      <th>Op_Setting_3</th>\n",
       "      <th>Sensor_1</th>\n",
       "      <th>Sensor_10</th>\n",
       "      <th>Sensor_11</th>\n",
       "      <th>Sensor_12</th>\n",
       "      <th>Sensor_13</th>\n",
       "      <th>Sensor_14</th>\n",
       "      <th>...</th>\n",
       "      <th>Sensor_2</th>\n",
       "      <th>Sensor_20</th>\n",
       "      <th>Sensor_21</th>\n",
       "      <th>Sensor_3</th>\n",
       "      <th>Sensor_4</th>\n",
       "      <th>Sensor_5</th>\n",
       "      <th>Sensor_6</th>\n",
       "      <th>Sensor_7</th>\n",
       "      <th>Sensor_8</th>\n",
       "      <th>Sensor_9</th>\n",
       "    </tr>\n",
       "  </thead>\n",
       "  <tbody>\n",
       "    <tr>\n",
       "      <th>count</th>\n",
       "      <td>13096.000000</td>\n",
       "      <td>13096.000000</td>\n",
       "      <td>13096.000000</td>\n",
       "      <td>13096.0</td>\n",
       "      <td>13096.0</td>\n",
       "      <td>13096.0</td>\n",
       "      <td>13096.000000</td>\n",
       "      <td>13096.000000</td>\n",
       "      <td>13096.000000</td>\n",
       "      <td>13096.000000</td>\n",
       "      <td>...</td>\n",
       "      <td>13096.000000</td>\n",
       "      <td>13096.000000</td>\n",
       "      <td>13096.000000</td>\n",
       "      <td>13096.000000</td>\n",
       "      <td>13096.000000</td>\n",
       "      <td>13096.0</td>\n",
       "      <td>13096.000000</td>\n",
       "      <td>13096.000000</td>\n",
       "      <td>13096.000000</td>\n",
       "      <td>13096.000000</td>\n",
       "    </tr>\n",
       "    <tr>\n",
       "      <th>mean</th>\n",
       "      <td>-0.464165</td>\n",
       "      <td>-0.001056</td>\n",
       "      <td>0.006439</td>\n",
       "      <td>0.0</td>\n",
       "      <td>0.0</td>\n",
       "      <td>0.0</td>\n",
       "      <td>-0.467888</td>\n",
       "      <td>0.453204</td>\n",
       "      <td>-0.349397</td>\n",
       "      <td>-0.251886</td>\n",
       "      <td>...</td>\n",
       "      <td>-0.411658</td>\n",
       "      <td>0.421766</td>\n",
       "      <td>0.425294</td>\n",
       "      <td>-0.395354</td>\n",
       "      <td>-0.466471</td>\n",
       "      <td>-1.0</td>\n",
       "      <td>-0.073823</td>\n",
       "      <td>0.440430</td>\n",
       "      <td>-0.361875</td>\n",
       "      <td>-0.309549</td>\n",
       "    </tr>\n",
       "    <tr>\n",
       "      <th>std</th>\n",
       "      <td>0.770300</td>\n",
       "      <td>1.007052</td>\n",
       "      <td>1.003329</td>\n",
       "      <td>0.0</td>\n",
       "      <td>0.0</td>\n",
       "      <td>0.0</td>\n",
       "      <td>0.733550</td>\n",
       "      <td>0.758779</td>\n",
       "      <td>0.791665</td>\n",
       "      <td>0.534114</td>\n",
       "      <td>...</td>\n",
       "      <td>0.801733</td>\n",
       "      <td>0.783884</td>\n",
       "      <td>0.777105</td>\n",
       "      <td>0.816062</td>\n",
       "      <td>0.743114</td>\n",
       "      <td>0.0</td>\n",
       "      <td>1.226886</td>\n",
       "      <td>0.769753</td>\n",
       "      <td>0.809224</td>\n",
       "      <td>0.517892</td>\n",
       "    </tr>\n",
       "    <tr>\n",
       "      <th>min</th>\n",
       "      <td>-1.565170</td>\n",
       "      <td>-3.744927</td>\n",
       "      <td>-2.055419</td>\n",
       "      <td>0.0</td>\n",
       "      <td>0.0</td>\n",
       "      <td>0.0</td>\n",
       "      <td>-2.775070</td>\n",
       "      <td>-2.757115</td>\n",
       "      <td>-2.866525</td>\n",
       "      <td>-1.848042</td>\n",
       "      <td>...</td>\n",
       "      <td>-3.101612</td>\n",
       "      <td>-2.801067</td>\n",
       "      <td>-3.273082</td>\n",
       "      <td>-3.504015</td>\n",
       "      <td>-2.726970</td>\n",
       "      <td>-1.0</td>\n",
       "      <td>-7.057993</td>\n",
       "      <td>-2.810748</td>\n",
       "      <td>-2.911252</td>\n",
       "      <td>-1.843687</td>\n",
       "    </tr>\n",
       "    <tr>\n",
       "      <th>25%</th>\n",
       "      <td>-1.100590</td>\n",
       "      <td>-0.681734</td>\n",
       "      <td>-0.690488</td>\n",
       "      <td>0.0</td>\n",
       "      <td>0.0</td>\n",
       "      <td>0.0</td>\n",
       "      <td>-1.015303</td>\n",
       "      <td>-0.045381</td>\n",
       "      <td>-0.919841</td>\n",
       "      <td>-0.599858</td>\n",
       "      <td>...</td>\n",
       "      <td>-0.966788</td>\n",
       "      <td>-0.090021</td>\n",
       "      <td>-0.074878</td>\n",
       "      <td>-0.966093</td>\n",
       "      <td>-0.998155</td>\n",
       "      <td>-1.0</td>\n",
       "      <td>0.141683</td>\n",
       "      <td>-0.065205</td>\n",
       "      <td>-0.938970</td>\n",
       "      <td>-0.644087</td>\n",
       "    </tr>\n",
       "    <tr>\n",
       "      <th>50%</th>\n",
       "      <td>-0.577936</td>\n",
       "      <td>0.004055</td>\n",
       "      <td>-0.008022</td>\n",
       "      <td>0.0</td>\n",
       "      <td>0.0</td>\n",
       "      <td>0.0</td>\n",
       "      <td>-0.491118</td>\n",
       "      <td>0.496966</td>\n",
       "      <td>-0.363646</td>\n",
       "      <td>-0.281128</td>\n",
       "      <td>...</td>\n",
       "      <td>-0.441831</td>\n",
       "      <td>0.463253</td>\n",
       "      <td>0.457233</td>\n",
       "      <td>-0.413166</td>\n",
       "      <td>-0.499288</td>\n",
       "      <td>-1.0</td>\n",
       "      <td>0.141683</td>\n",
       "      <td>0.488423</td>\n",
       "      <td>-0.375461</td>\n",
       "      <td>-0.358791</td>\n",
       "    </tr>\n",
       "    <tr>\n",
       "      <th>75%</th>\n",
       "      <td>0.060862</td>\n",
       "      <td>0.689845</td>\n",
       "      <td>1.015677</td>\n",
       "      <td>0.0</td>\n",
       "      <td>0.0</td>\n",
       "      <td>0.0</td>\n",
       "      <td>-0.004374</td>\n",
       "      <td>0.998637</td>\n",
       "      <td>0.192549</td>\n",
       "      <td>0.031835</td>\n",
       "      <td>...</td>\n",
       "      <td>0.118123</td>\n",
       "      <td>0.961200</td>\n",
       "      <td>0.959781</td>\n",
       "      <td>0.136908</td>\n",
       "      <td>0.012913</td>\n",
       "      <td>-1.0</td>\n",
       "      <td>0.141683</td>\n",
       "      <td>0.985558</td>\n",
       "      <td>0.188048</td>\n",
       "      <td>-0.051305</td>\n",
       "    </tr>\n",
       "    <tr>\n",
       "      <th>max</th>\n",
       "      <td>2.819310</td>\n",
       "      <td>3.570160</td>\n",
       "      <td>2.380608</td>\n",
       "      <td>0.0</td>\n",
       "      <td>0.0</td>\n",
       "      <td>0.0</td>\n",
       "      <td>2.691438</td>\n",
       "      <td>3.181582</td>\n",
       "      <td>3.112575</td>\n",
       "      <td>4.022249</td>\n",
       "      <td>...</td>\n",
       "      <td>3.237866</td>\n",
       "      <td>3.284954</td>\n",
       "      <td>3.253583</td>\n",
       "      <td>2.777178</td>\n",
       "      <td>2.713908</td>\n",
       "      <td>-1.0</td>\n",
       "      <td>0.141683</td>\n",
       "      <td>2.793323</td>\n",
       "      <td>2.864717</td>\n",
       "      <td>4.066011</td>\n",
       "    </tr>\n",
       "  </tbody>\n",
       "</table>\n",
       "<p>8 rows × 25 columns</p>\n",
       "</div>"
      ],
      "text/plain": [
       "              Cycle  Op_Setting_1  Op_Setting_2  Op_Setting_3  Sensor_1  \\\n",
       "count  13096.000000  13096.000000  13096.000000       13096.0   13096.0   \n",
       "mean      -0.464165     -0.001056      0.006439           0.0       0.0   \n",
       "std        0.770300      1.007052      1.003329           0.0       0.0   \n",
       "min       -1.565170     -3.744927     -2.055419           0.0       0.0   \n",
       "25%       -1.100590     -0.681734     -0.690488           0.0       0.0   \n",
       "50%       -0.577936      0.004055     -0.008022           0.0       0.0   \n",
       "75%        0.060862      0.689845      1.015677           0.0       0.0   \n",
       "max        2.819310      3.570160      2.380608           0.0       0.0   \n",
       "\n",
       "       Sensor_10     Sensor_11     Sensor_12     Sensor_13     Sensor_14  ...  \\\n",
       "count    13096.0  13096.000000  13096.000000  13096.000000  13096.000000  ...   \n",
       "mean         0.0     -0.467888      0.453204     -0.349397     -0.251886  ...   \n",
       "std          0.0      0.733550      0.758779      0.791665      0.534114  ...   \n",
       "min          0.0     -2.775070     -2.757115     -2.866525     -1.848042  ...   \n",
       "25%          0.0     -1.015303     -0.045381     -0.919841     -0.599858  ...   \n",
       "50%          0.0     -0.491118      0.496966     -0.363646     -0.281128  ...   \n",
       "75%          0.0     -0.004374      0.998637      0.192549      0.031835  ...   \n",
       "max          0.0      2.691438      3.181582      3.112575      4.022249  ...   \n",
       "\n",
       "           Sensor_2     Sensor_20     Sensor_21      Sensor_3      Sensor_4  \\\n",
       "count  13096.000000  13096.000000  13096.000000  13096.000000  13096.000000   \n",
       "mean      -0.411658      0.421766      0.425294     -0.395354     -0.466471   \n",
       "std        0.801733      0.783884      0.777105      0.816062      0.743114   \n",
       "min       -3.101612     -2.801067     -3.273082     -3.504015     -2.726970   \n",
       "25%       -0.966788     -0.090021     -0.074878     -0.966093     -0.998155   \n",
       "50%       -0.441831      0.463253      0.457233     -0.413166     -0.499288   \n",
       "75%        0.118123      0.961200      0.959781      0.136908      0.012913   \n",
       "max        3.237866      3.284954      3.253583      2.777178      2.713908   \n",
       "\n",
       "       Sensor_5      Sensor_6      Sensor_7      Sensor_8      Sensor_9  \n",
       "count   13096.0  13096.000000  13096.000000  13096.000000  13096.000000  \n",
       "mean       -1.0     -0.073823      0.440430     -0.361875     -0.309549  \n",
       "std         0.0      1.226886      0.769753      0.809224      0.517892  \n",
       "min        -1.0     -7.057993     -2.810748     -2.911252     -1.843687  \n",
       "25%        -1.0      0.141683     -0.065205     -0.938970     -0.644087  \n",
       "50%        -1.0      0.141683      0.488423     -0.375461     -0.358791  \n",
       "75%        -1.0      0.141683      0.985558      0.188048     -0.051305  \n",
       "max        -1.0      0.141683      2.793323      2.864717      4.066011  \n",
       "\n",
       "[8 rows x 25 columns]"
      ]
     },
     "execution_count": 33,
     "metadata": {},
     "output_type": "execute_result"
    }
   ],
   "source": [
    "X_test_unscaled = test_df[features].astype('float64')\n",
    "X_test = pd.DataFrame(scaler.transform(X_test_unscaled),\n",
    "                      columns = features,\n",
    "                      index = test_df.index)\n",
    "y_test = test_df[\"target_RUL\"]\n",
    "\n",
    "X_test.describe()"
   ]
  },
  {
   "cell_type": "code",
   "execution_count": 22,
   "metadata": {
    "colab": {
     "base_uri": "https://localhost:8080/",
     "height": 224
    },
    "colab_type": "code",
    "executionInfo": {
     "elapsed": 719,
     "status": "ok",
     "timestamp": 1585244985470,
     "user": {
      "displayName": "Nicolò Trevisani",
      "photoUrl": "https://lh3.googleusercontent.com/a-/AOh14GiJ9pkFZdHQ4Zthp07GOkrYQq29m1orzwKSoxs2Cg=s64",
      "userId": "16681236576994002363"
     },
     "user_tz": -60
    },
    "id": "RAnlImVm9rYr",
    "outputId": "fe6a8730-4177-40f3-8d7f-63d6bc890718"
   },
   "outputs": [
    {
     "data": {
      "text/html": [
       "<div>\n",
       "<style scoped>\n",
       "    .dataframe tbody tr th:only-of-type {\n",
       "        vertical-align: middle;\n",
       "    }\n",
       "\n",
       "    .dataframe tbody tr th {\n",
       "        vertical-align: top;\n",
       "    }\n",
       "\n",
       "    .dataframe thead th {\n",
       "        text-align: right;\n",
       "    }\n",
       "</style>\n",
       "<table border=\"1\" class=\"dataframe\">\n",
       "  <thead>\n",
       "    <tr style=\"text-align: right;\">\n",
       "      <th></th>\n",
       "      <th>Cycle</th>\n",
       "      <th>Op_Setting_1</th>\n",
       "      <th>Op_Setting_2</th>\n",
       "      <th>Op_Setting_3</th>\n",
       "      <th>Sensor_1</th>\n",
       "      <th>Sensor_10</th>\n",
       "      <th>Sensor_11</th>\n",
       "      <th>Sensor_12</th>\n",
       "      <th>Sensor_13</th>\n",
       "      <th>Sensor_14</th>\n",
       "      <th>Sensor_15</th>\n",
       "      <th>Sensor_16</th>\n",
       "      <th>Sensor_17</th>\n",
       "      <th>Sensor_18</th>\n",
       "      <th>Sensor_19</th>\n",
       "      <th>Sensor_2</th>\n",
       "      <th>Sensor_20</th>\n",
       "      <th>Sensor_21</th>\n",
       "      <th>Sensor_3</th>\n",
       "      <th>Sensor_4</th>\n",
       "      <th>Sensor_5</th>\n",
       "      <th>Sensor_6</th>\n",
       "      <th>Sensor_7</th>\n",
       "      <th>Sensor_8</th>\n",
       "      <th>Sensor_9</th>\n",
       "    </tr>\n",
       "  </thead>\n",
       "  <tbody>\n",
       "    <tr>\n",
       "      <th>0</th>\n",
       "      <td>-1.565170</td>\n",
       "      <td>1.055599</td>\n",
       "      <td>1.015677</td>\n",
       "      <td>0.0</td>\n",
       "      <td>0.0</td>\n",
       "      <td>0.0</td>\n",
       "      <td>-1.277396</td>\n",
       "      <td>0.415614</td>\n",
       "      <td>-0.919841</td>\n",
       "      <td>-0.954235</td>\n",
       "      <td>-0.985107</td>\n",
       "      <td>-1.0</td>\n",
       "      <td>-0.781710</td>\n",
       "      <td>0.0</td>\n",
       "      <td>0.0</td>\n",
       "      <td>0.678077</td>\n",
       "      <td>0.241943</td>\n",
       "      <td>0.774097</td>\n",
       "      <td>-0.853550</td>\n",
       "      <td>-1.191480</td>\n",
       "      <td>-1.0</td>\n",
       "      <td>0.141683</td>\n",
       "      <td>0.601408</td>\n",
       "      <td>-0.798093</td>\n",
       "      <td>-0.682579</td>\n",
       "    </tr>\n",
       "    <tr>\n",
       "      <th>1</th>\n",
       "      <td>-1.550652</td>\n",
       "      <td>-1.230366</td>\n",
       "      <td>-1.031720</td>\n",
       "      <td>0.0</td>\n",
       "      <td>0.0</td>\n",
       "      <td>0.0</td>\n",
       "      <td>-0.154141</td>\n",
       "      <td>1.012195</td>\n",
       "      <td>-0.502695</td>\n",
       "      <td>-0.216648</td>\n",
       "      <td>-1.649034</td>\n",
       "      <td>-1.0</td>\n",
       "      <td>-0.136018</td>\n",
       "      <td>0.0</td>\n",
       "      <td>0.0</td>\n",
       "      <td>-1.941707</td>\n",
       "      <td>1.127183</td>\n",
       "      <td>0.941305</td>\n",
       "      <td>-0.338137</td>\n",
       "      <td>-1.501467</td>\n",
       "      <td>-1.0</td>\n",
       "      <td>0.141683</td>\n",
       "      <td>1.674769</td>\n",
       "      <td>-1.220725</td>\n",
       "      <td>-0.490117</td>\n",
       "    </tr>\n",
       "    <tr>\n",
       "      <th>2</th>\n",
       "      <td>-1.536134</td>\n",
       "      <td>0.141213</td>\n",
       "      <td>0.333211</td>\n",
       "      <td>0.0</td>\n",
       "      <td>0.0</td>\n",
       "      <td>0.0</td>\n",
       "      <td>-0.154141</td>\n",
       "      <td>0.754581</td>\n",
       "      <td>-0.919841</td>\n",
       "      <td>-0.715712</td>\n",
       "      <td>0.052112</td>\n",
       "      <td>-1.0</td>\n",
       "      <td>-0.136018</td>\n",
       "      <td>0.0</td>\n",
       "      <td>0.0</td>\n",
       "      <td>-0.441831</td>\n",
       "      <td>1.459148</td>\n",
       "      <td>1.172256</td>\n",
       "      <td>-0.584426</td>\n",
       "      <td>-0.843717</td>\n",
       "      <td>-1.0</td>\n",
       "      <td>0.141683</td>\n",
       "      <td>0.838677</td>\n",
       "      <td>-0.657216</td>\n",
       "      <td>-0.375093</td>\n",
       "    </tr>\n",
       "    <tr>\n",
       "      <th>3</th>\n",
       "      <td>-1.521616</td>\n",
       "      <td>1.924266</td>\n",
       "      <td>-0.008022</td>\n",
       "      <td>0.0</td>\n",
       "      <td>0.0</td>\n",
       "      <td>0.0</td>\n",
       "      <td>-0.977861</td>\n",
       "      <td>-0.045381</td>\n",
       "      <td>-0.641744</td>\n",
       "      <td>-0.568929</td>\n",
       "      <td>-1.345067</td>\n",
       "      <td>-1.0</td>\n",
       "      <td>-1.427402</td>\n",
       "      <td>0.0</td>\n",
       "      <td>0.0</td>\n",
       "      <td>-0.481827</td>\n",
       "      <td>1.016528</td>\n",
       "      <td>0.775945</td>\n",
       "      <td>-1.044384</td>\n",
       "      <td>-0.279297</td>\n",
       "      <td>-1.0</td>\n",
       "      <td>0.141683</td>\n",
       "      <td>0.793483</td>\n",
       "      <td>-0.938970</td>\n",
       "      <td>-0.903570</td>\n",
       "    </tr>\n",
       "    <tr>\n",
       "      <th>4</th>\n",
       "      <td>-1.507098</td>\n",
       "      <td>0.644125</td>\n",
       "      <td>-0.008022</td>\n",
       "      <td>0.0</td>\n",
       "      <td>0.0</td>\n",
       "      <td>0.0</td>\n",
       "      <td>-0.865536</td>\n",
       "      <td>0.998637</td>\n",
       "      <td>-0.919841</td>\n",
       "      <td>-0.745069</td>\n",
       "      <td>-1.041101</td>\n",
       "      <td>-1.0</td>\n",
       "      <td>-2.073094</td>\n",
       "      <td>0.0</td>\n",
       "      <td>0.0</td>\n",
       "      <td>-0.341839</td>\n",
       "      <td>0.961200</td>\n",
       "      <td>1.138999</td>\n",
       "      <td>-0.543650</td>\n",
       "      <td>-0.779276</td>\n",
       "      <td>-1.0</td>\n",
       "      <td>0.141683</td>\n",
       "      <td>0.895170</td>\n",
       "      <td>-1.220725</td>\n",
       "      <td>-0.937081</td>\n",
       "    </tr>\n",
       "  </tbody>\n",
       "</table>\n",
       "</div>"
      ],
      "text/plain": [
       "      Cycle  Op_Setting_1  Op_Setting_2  ...  Sensor_7  Sensor_8  Sensor_9\n",
       "0 -1.565170      1.055599      1.015677  ...  0.601408 -0.798093 -0.682579\n",
       "1 -1.550652     -1.230366     -1.031720  ...  1.674769 -1.220725 -0.490117\n",
       "2 -1.536134      0.141213      0.333211  ...  0.838677 -0.657216 -0.375093\n",
       "3 -1.521616      1.924266     -0.008022  ...  0.793483 -0.938970 -0.903570\n",
       "4 -1.507098      0.644125     -0.008022  ...  0.895170 -1.220725 -0.937081\n",
       "\n",
       "[5 rows x 25 columns]"
      ]
     },
     "execution_count": 22,
     "metadata": {
      "tags": []
     },
     "output_type": "execute_result"
    }
   ],
   "source": [
    "X_test.head(5)"
   ]
  },
  {
   "cell_type": "markdown",
   "metadata": {
    "colab_type": "text",
    "id": "CwOtrrEl3K5o"
   },
   "source": [
    "### RUL Prediction as a Regression Task\n",
    "\n",
    "**How many more cycles an in-service engine will last before it fails?**\n",
    "\n",
    "The task of predicting the Remaining Useful Life (RUL)\n",
    "can be casted as a regression task in the context of machine\n",
    "learning. RUL can also be referred as Time to Failure (TTF).\n",
    "\n",
    "\n",
    "The goal in a regression problem is to find a function\n",
    "$f_R(\\boldsymbol{x})$ that approximates the true target $y$. The\n",
    "target in this problem will be the RUL, while $\\boldsymbol{x}$\n",
    "will be the input features (e.g. sensor readings).\n",
    "\n",
    "To measure the goodness of our regression function, we need\n",
    "to define and score function, which will be also the loss\n",
    "function for some of the machine learning techniques considered.\n",
    "We will be considering the mean squared error:\n",
    "$$ \\textrm{MSE} = \\sum_{i=1}^{n} (y - f_R(\\boldsymbol{x}))^2$$\n",
    "which is one of the most common losses used for regression,\n",
    "depending on the problem alternative loss definitions might\n",
    "be more beneficial."
   ]
  },
  {
   "cell_type": "markdown",
   "metadata": {
    "colab_type": "text",
    "id": "RgX0-hUo3K5p"
   },
   "source": [
    "#### Baseline and Feature Importance\n",
    "\n",
    "Sometimes is useful to train a simple model for the task at hand to\n",
    "get a baseline performance. A random forest has the advantage that\n",
    "it can also provide a list of the relative importance of the\n",
    "different features."
   ]
  },
  {
   "cell_type": "code",
   "execution_count": 34,
   "metadata": {
    "colab": {
     "base_uri": "https://localhost:8080/",
     "height": 136
    },
    "colab_type": "code",
    "executionInfo": {
     "elapsed": 43920,
     "status": "ok",
     "timestamp": 1585245138883,
     "user": {
      "displayName": "Nicolò Trevisani",
      "photoUrl": "https://lh3.googleusercontent.com/a-/AOh14GiJ9pkFZdHQ4Zthp07GOkrYQq29m1orzwKSoxs2Cg=s64",
      "userId": "16681236576994002363"
     },
     "user_tz": -60
    },
    "id": "Ebtdrh3h3K5q",
    "outputId": "9cefd560-907e-491f-fd7f-c4c3cea8451f"
   },
   "outputs": [
    {
     "data": {
      "text/plain": [
       "RandomForestRegressor(bootstrap=True, ccp_alpha=0.0, criterion='mse',\n",
       "                      max_depth=15, max_features='auto', max_leaf_nodes=None,\n",
       "                      max_samples=None, min_impurity_decrease=0.0,\n",
       "                      min_impurity_split=None, min_samples_leaf=1,\n",
       "                      min_samples_split=2, min_weight_fraction_leaf=0.0,\n",
       "                      n_estimators=200, n_jobs=None, oob_score=False,\n",
       "                      random_state=None, verbose=0, warm_start=False)"
      ]
     },
     "execution_count": 34,
     "metadata": {},
     "output_type": "execute_result"
    }
   ],
   "source": [
    "from sklearn import ensemble\n",
    "\n",
    "rf = ensemble.RandomForestRegressor()\n",
    "simple_rf = ensemble.RandomForestRegressor(n_estimators = 200, max_depth = 15)\n",
    "simple_rf.fit(X, y)"
   ]
  },
  {
   "cell_type": "code",
   "execution_count": 35,
   "metadata": {
    "colab": {
     "base_uri": "https://localhost:8080/",
     "height": 68
    },
    "colab_type": "code",
    "executionInfo": {
     "elapsed": 41030,
     "status": "ok",
     "timestamp": 1585245139589,
     "user": {
      "displayName": "Nicolò Trevisani",
      "photoUrl": "https://lh3.googleusercontent.com/a-/AOh14GiJ9pkFZdHQ4Zthp07GOkrYQq29m1orzwKSoxs2Cg=s64",
      "userId": "16681236576994002363"
     },
     "user_tz": -60
    },
    "id": "gcznjBrn3K5t",
    "outputId": "16db9cb1-90ef-4716-fb9d-b9b3a0a90078"
   },
   "outputs": [
    {
     "name": "stdout",
     "output_type": "stream",
     "text": [
      "[Train] Simple RF Mean Squared Error:  366.6694607400992\n",
      "[Train] Simple RF Mean Absolute Error:  13.620296326302414\n",
      "[Train] Simple RF r-squared:  0.9227146767341389\n"
     ]
    }
   ],
   "source": [
    "from sklearn.metrics import mean_squared_error, mean_absolute_error, r2_score\n",
    "\n",
    "y_pred = simple_rf.predict(X)\n",
    "print(\"[Train] Simple RF Mean Squared Error: \", mean_squared_error(y, y_pred))\n",
    "print(\"[Train] Simple RF Mean Absolute Error: \", mean_absolute_error(y, y_pred))\n",
    "print(\"[Train] Simple RF r-squared: \", r2_score(y, y_pred))"
   ]
  },
  {
   "cell_type": "code",
   "execution_count": 36,
   "metadata": {
    "colab": {
     "base_uri": "https://localhost:8080/",
     "height": 68
    },
    "colab_type": "code",
    "executionInfo": {
     "elapsed": 39296,
     "status": "ok",
     "timestamp": 1585245139808,
     "user": {
      "displayName": "Nicolò Trevisani",
      "photoUrl": "https://lh3.googleusercontent.com/a-/AOh14GiJ9pkFZdHQ4Zthp07GOkrYQq29m1orzwKSoxs2Cg=s64",
      "userId": "16681236576994002363"
     },
     "user_tz": -60
    },
    "id": "4G44LKAk3K5x",
    "outputId": "574c1f47-56fb-4734-cbf9-73ba03175588"
   },
   "outputs": [
    {
     "name": "stdout",
     "output_type": "stream",
     "text": [
      "[Test] Simple RF Mean Squared Error:  1704.3855939312464\n",
      "[Test] Simple RF Mean Absolute Error:  31.355149119898076\n",
      "[Test] Simple RF r-squared:  0.5100070833743238\n"
     ]
    }
   ],
   "source": [
    "y_test_pred = simple_rf.predict(X_test)\n",
    "print(\"[Test] Simple RF Mean Squared Error: \", mean_squared_error(y_test, y_test_pred))\n",
    "print(\"[Test] Simple RF Mean Absolute Error: \", mean_absolute_error(y_test, y_test_pred))\n",
    "print(\"[Test] Simple RF r-squared: \", r2_score(y_test, y_test_pred))"
   ]
  },
  {
   "cell_type": "code",
   "execution_count": 37,
   "metadata": {
    "colab": {
     "base_uri": "https://localhost:8080/",
     "height": 767
    },
    "colab_type": "code",
    "executionInfo": {
     "elapsed": 39330,
     "status": "ok",
     "timestamp": 1585245140361,
     "user": {
      "displayName": "Nicolò Trevisani",
      "photoUrl": "https://lh3.googleusercontent.com/a-/AOh14GiJ9pkFZdHQ4Zthp07GOkrYQq29m1orzwKSoxs2Cg=s64",
      "userId": "16681236576994002363"
     },
     "user_tz": -60
    },
    "id": "4glW7Sd_3K50",
    "outputId": "8ad03c8f-d837-4415-8429-1a98a654c07e"
   },
   "outputs": [
    {
     "data": {
      "image/png": "[encoded data removed]",
      "text/plain": [
       "<Figure size 792x648 with 1 Axes>"
      ]
     },
     "metadata": {
      "needs_background": "light"
     },
     "output_type": "display_data"
    },
    {
     "name": "stdout",
     "output_type": "stream",
     "text": [
      "Cycle        0.574347\n",
      "Sensor_11    0.158048\n",
      "Sensor_9     0.040224\n",
      "Sensor_12    0.027551\n",
      "Sensor_4     0.024695\n",
      "Sensor_14    0.022247\n",
      "Sensor_7     0.020242\n",
      "Sensor_15    0.019654\n",
      "Sensor_21    0.017397\n",
      "Sensor_3     0.016026\n",
      "dtype: float64\n"
     ]
    }
   ],
   "source": [
    "# graph feature importance\n",
    "import matplotlib.pyplot as plt\n",
    "importances = simple_rf.feature_importances_\n",
    "indices = np.argsort(importances)[::-1]\n",
    "feature_names = X.columns    \n",
    "f, ax = plt.subplots(figsize=(11, 9))\n",
    "plt.title(\"Feature ranking\", fontsize = 20)\n",
    "plt.bar(range(X.shape[1]), importances[indices], color=\"b\", align=\"center\")\n",
    "plt.xticks(range(X.shape[1]), indices) #feature_names, rotation='vertical')\n",
    "plt.xlim([-1, X.shape[1]])\n",
    "plt.ylabel(\"importance\", fontsize = 18)\n",
    "plt.xlabel(\"index of the feature\", fontsize = 18)\n",
    "plt.show()\n",
    "# list feature importance\n",
    "important_features = pd.Series(data=simple_rf.feature_importances_,index=X.columns)\n",
    "important_features.sort_values(ascending=False,inplace=True)\n",
    "print(important_features.head(10))"
   ]
  },
  {
   "cell_type": "markdown",
   "metadata": {
    "colab_type": "text",
    "id": "odJnjmAC3K54"
   },
   "source": [
    "#### Cross Validation and Hyper-Parameters\n",
    "\n",
    "By means of cross validation and hyper-parameter search, we\n",
    "can try to obtain a better regression model based on RandomForest."
   ]
  },
  {
   "cell_type": "code",
   "execution_count": 38,
   "metadata": {
    "colab": {
     "base_uri": "https://localhost:8080/",
     "height": 391
    },
    "colab_type": "code",
    "executionInfo": {
     "elapsed": 318724,
     "status": "error",
     "timestamp": 1585245578240,
     "user": {
      "displayName": "Nicolò Trevisani",
      "photoUrl": "https://lh3.googleusercontent.com/a-/AOh14GiJ9pkFZdHQ4Zthp07GOkrYQq29m1orzwKSoxs2Cg=s64",
      "userId": "16681236576994002363"
     },
     "user_tz": -60
    },
    "id": "aiSmS6p73K55",
    "outputId": "f50efc9d-ab7b-40a0-caea-b7975c2a9644"
   },
   "outputs": [
    {
     "name": "stdout",
     "output_type": "stream",
     "text": [
      "Fitting 5 folds for each of 30 candidates, totalling 150 fits\n"
     ]
    },
    {
     "name": "stderr",
     "output_type": "stream",
     "text": [
      "[Parallel(n_jobs=-1)]: Using backend LokyBackend with 8 concurrent workers.\n",
      "[Parallel(n_jobs=-1)]: Done  34 tasks      | elapsed:  1.1min\n",
      "[Parallel(n_jobs=-1)]: Done 150 out of 150 | elapsed:  4.8min finished\n"
     ]
    },
    {
     "data": {
      "text/plain": [
       "GridSearchCV(cv=GroupKFold(n_splits=5), error_score=nan,\n",
       "             estimator=RandomForestRegressor(bootstrap=True, ccp_alpha=0.0,\n",
       "                                             criterion='mse', max_depth=None,\n",
       "                                             max_features='auto',\n",
       "                                             max_leaf_nodes=None,\n",
       "                                             max_samples=None,\n",
       "                                             min_impurity_decrease=0.0,\n",
       "                                             min_impurity_split=None,\n",
       "                                             min_samples_leaf=1,\n",
       "                                             min_samples_split=2,\n",
       "                                             min_weight_fraction_leaf=0.0,\n",
       "                                             n_estimators=100, n_jobs=None,\n",
       "                                             oob_score=False, random_state=None,\n",
       "                                             verbose=0, warm_start=False),\n",
       "             iid='deprecated', n_jobs=-1,\n",
       "             param_grid={'max_depth': [7, 8, 9, 10, 11, 12],\n",
       "                         'min_samples_leaf': [2, 10, 25, 50, 100]},\n",
       "             pre_dispatch='2*n_jobs', refit=True, return_train_score=False,\n",
       "             scoring='neg_mean_squared_error', verbose=1)"
      ]
     },
     "execution_count": 38,
     "metadata": {},
     "output_type": "execute_result"
    }
   ],
   "source": [
    "from sklearn.model_selection import GroupKFold, GridSearchCV\n",
    "\n",
    "rf = ensemble.RandomForestRegressor(n_estimators=100)\n",
    "\n",
    "# to avoid having same UnitNumber in both sets\n",
    "cv = GroupKFold(5)\n",
    "\n",
    "param_grid = { \"min_samples_leaf\" : [2, 10, 25, 50, 100],\n",
    "               \"max_depth\" : [7, 8, 9, 10, 11, 12]}\n",
    "\n",
    "optimized_rf = GridSearchCV(estimator=rf,\n",
    "                            cv = cv,\n",
    "                            param_grid=param_grid,\n",
    "                            scoring='neg_mean_squared_error',\n",
    "                            verbose = 1,\n",
    "                            n_jobs = -1)\n",
    "\n",
    "optimized_rf.fit(X, y, groups = train_df.UnitNumber)"
   ]
  },
  {
   "cell_type": "code",
   "execution_count": 39,
   "metadata": {
    "colab": {},
    "colab_type": "code",
    "id": "1-BdEFpj3K59"
   },
   "outputs": [
    {
     "name": "stdout",
     "output_type": "stream",
     "text": [
      "[Test] Optimized RF Mean Squared Error:  1668.798727102675\n",
      "[Test] Optimized RF Mean Absolute Error:  30.829621327231234\n",
      "[Test] Optimized RF r-squared:  0.5202379329737277\n"
     ]
    }
   ],
   "source": [
    "y_test_pred = optimized_rf.predict(X_test)\n",
    "print(\"[Test] Optimized RF Mean Squared Error: \", mean_squared_error(y_test, y_test_pred))\n",
    "print(\"[Test] Optimized RF Mean Absolute Error: \", mean_absolute_error(y_test, y_test_pred))\n",
    "print(\"[Test] Optimized RF r-squared: \", r2_score(y_test, y_test_pred))"
   ]
  },
  {
   "cell_type": "markdown",
   "metadata": {
    "colab_type": "text",
    "id": "6jkvSjl-3K5_"
   },
   "source": [
    "#### Other Models: Gradient Boosting\n",
    "\n",
    "Gradient Boosted regression and classification are some of the\n",
    "best performing model for a variety of tasks, let us see if they\n",
    "can also be applied to this dataset.\n",
    "\n"
   ]
  },
  {
   "cell_type": "code",
   "execution_count": 40,
   "metadata": {
    "colab": {},
    "colab_type": "code",
    "id": "Byc3PrxI3K6A"
   },
   "outputs": [
    {
     "name": "stdout",
     "output_type": "stream",
     "text": [
      "Fitting 5 folds for each of 6 candidates, totalling 30 fits\n"
     ]
    },
    {
     "name": "stderr",
     "output_type": "stream",
     "text": [
      "[Parallel(n_jobs=-1)]: Using backend LokyBackend with 8 concurrent workers.\n",
      "[Parallel(n_jobs=-1)]: Done  30 out of  30 | elapsed:  4.7min finished\n"
     ]
    },
    {
     "data": {
      "text/plain": [
       "GridSearchCV(cv=GroupKFold(n_splits=5), error_score=nan,\n",
       "             estimator=GradientBoostingRegressor(alpha=0.9, ccp_alpha=0.0,\n",
       "                                                 criterion='friedman_mse',\n",
       "                                                 init=None, learning_rate=0.1,\n",
       "                                                 loss='ls', max_depth=3,\n",
       "                                                 max_features=None,\n",
       "                                                 max_leaf_nodes=None,\n",
       "                                                 min_impurity_decrease=0.0,\n",
       "                                                 min_impurity_split=None,\n",
       "                                                 min_samples_leaf=1,\n",
       "                                                 min_samples_split=2,\n",
       "                                                 min_weight_fraction_leaf=0.0,\n",
       "                                                 n_es...\n",
       "                                                 n_iter_no_change=None,\n",
       "                                                 presort='deprecated',\n",
       "                                                 random_state=None,\n",
       "                                                 subsample=1.0, tol=0.0001,\n",
       "                                                 validation_fraction=0.1,\n",
       "                                                 verbose=0, warm_start=False),\n",
       "             iid='deprecated', n_jobs=-1,\n",
       "             param_grid={'alpha': [0.75, 0.9], 'learning_rate': [0.01],\n",
       "                         'max_depth': [4, 5, 6], 'n_estimators': [500]},\n",
       "             pre_dispatch='2*n_jobs', refit=True, return_train_score=False,\n",
       "             scoring='neg_mean_squared_error', verbose=1)"
      ]
     },
     "execution_count": 40,
     "metadata": {},
     "output_type": "execute_result"
    }
   ],
   "source": [
    "from sklearn.model_selection import GroupKFold, GridSearchCV\n",
    "from sklearn.ensemble import GradientBoostingRegressor\n",
    "\n",
    "gb = GradientBoostingRegressor()\n",
    "\n",
    "# to avoid having same UnitNumber in both sets\n",
    "cv = GroupKFold(5)\n",
    "\n",
    "param_grid = { \"alpha\" : [.75, .9],\n",
    "               \"n_estimators\" : [500],\n",
    "               \"learning_rate\" :  [.01],\n",
    "                \"max_depth\" : [4, 5, 6]\n",
    "             }\n",
    "\n",
    "optimized_gb= GridSearchCV(estimator=gb,\n",
    "                            cv = cv,\n",
    "                            param_grid=param_grid,\n",
    "                            scoring='neg_mean_squared_error',\n",
    "                            verbose = 1,\n",
    "                            n_jobs = -1)\n",
    "\n",
    "optimized_gb.fit(X, y, groups = train_df.UnitNumber)"
   ]
  },
  {
   "cell_type": "code",
   "execution_count": 41,
   "metadata": {
    "colab": {},
    "colab_type": "code",
    "id": "lEV-aTjp3K6D"
   },
   "outputs": [
    {
     "name": "stdout",
     "output_type": "stream",
     "text": [
      "[Test] Optimized GB Mean Squared Error:  1654.6876323875063\n",
      "[Test] Optimized GB Mean Absolute Error:  30.652131757345902\n",
      "[Test] Optimized GB r-squared:  0.5242947241604674\n"
     ]
    }
   ],
   "source": [
    "y_test_pred = optimized_gb.predict(X_test)\n",
    "print(\"[Test] Optimized GB Mean Squared Error: \", mean_squared_error(y_test, y_test_pred))\n",
    "print(\"[Test] Optimized GB Mean Absolute Error: \", mean_absolute_error(y_test, y_test_pred))\n",
    "print(\"[Test] Optimized GB r-squared: \", r2_score(y_test, y_test_pred))"
   ]
  },
  {
   "cell_type": "markdown",
   "metadata": {
    "colab_type": "text",
    "id": "6OWHzQtc3K6H"
   },
   "source": [
    "#### Exercise: Train Another Cross Validated Model\n",
    "\n",
    "Based on the previous examples, use cross validation to find a good\n",
    "set of hyper-parameters and benchmark on the test dataset another scikit-learn regression model ([see documentation](https://scikit-learn.org/stable/supervised_learning.html#supervised-learning)), for example choose between:\n",
    "1. `sklearn.svm.SVR`: [Epsilon-Support Vector Regression](https://scikit-learn.org/stable/modules/generated/sklearn.svm.SVR.html#sklearn.svm.SVR)\n",
    "2. `sklearn.neural_network.MLPRegressor` : [Multilayer Perceptron](https://scikit-learn.org/stable/modules/generated/sklearn.neural_network.MLPRegressor.html#sklearn.neural_network.MLPRegressor)\n",
    "3. **Advanced Track**: use `GradientBoostingRegressor` but add some engineering features in order to try to improve the previous result (e.g. moving averages and standard deviations of features)"
   ]
  },
  {
   "cell_type": "code",
   "execution_count": 49,
   "metadata": {
    "colab": {},
    "colab_type": "code",
    "id": "NO7kNAaP3K6I"
   },
   "outputs": [
    {
     "name": "stderr",
     "output_type": "stream",
     "text": [
      "/home/nicolo/miniconda3/lib/python3.7/site-packages/sklearn/model_selection/_validation.py:536: FitFailedWarning: Estimator fit failed. The score on this train-test partition for these parameters will be set to nan. Details: \n",
      "ValueError: gamma < 0\n",
      "\n",
      "  FitFailedWarning)\n",
      "/home/nicolo/miniconda3/lib/python3.7/site-packages/sklearn/model_selection/_validation.py:536: FitFailedWarning: Estimator fit failed. The score on this train-test partition for these parameters will be set to nan. Details: \n",
      "ValueError: gamma < 0\n",
      "\n",
      "  FitFailedWarning)\n",
      "/home/nicolo/miniconda3/lib/python3.7/site-packages/sklearn/model_selection/_validation.py:536: FitFailedWarning: Estimator fit failed. The score on this train-test partition for these parameters will be set to nan. Details: \n",
      "ValueError: gamma < 0\n",
      "\n",
      "  FitFailedWarning)\n",
      "/home/nicolo/miniconda3/lib/python3.7/site-packages/sklearn/model_selection/_validation.py:536: FitFailedWarning: Estimator fit failed. The score on this train-test partition for these parameters will be set to nan. Details: \n",
      "ValueError: gamma < 0\n",
      "\n",
      "  FitFailedWarning)\n",
      "/home/nicolo/miniconda3/lib/python3.7/site-packages/sklearn/model_selection/_validation.py:536: FitFailedWarning: Estimator fit failed. The score on this train-test partition for these parameters will be set to nan. Details: \n",
      "ValueError: gamma < 0\n",
      "\n",
      "  FitFailedWarning)\n",
      "/home/nicolo/miniconda3/lib/python3.7/site-packages/sklearn/model_selection/_validation.py:536: FitFailedWarning: Estimator fit failed. The score on this train-test partition for these parameters will be set to nan. Details: \n",
      "ValueError: gamma < 0\n",
      "\n",
      "  FitFailedWarning)\n",
      "/home/nicolo/miniconda3/lib/python3.7/site-packages/sklearn/model_selection/_validation.py:536: FitFailedWarning: Estimator fit failed. The score on this train-test partition for these parameters will be set to nan. Details: \n",
      "ValueError: gamma < 0\n",
      "\n",
      "  FitFailedWarning)\n",
      "/home/nicolo/miniconda3/lib/python3.7/site-packages/sklearn/model_selection/_validation.py:536: FitFailedWarning: Estimator fit failed. The score on this train-test partition for these parameters will be set to nan. Details: \n",
      "ValueError: gamma < 0\n",
      "\n",
      "  FitFailedWarning)\n",
      "/home/nicolo/miniconda3/lib/python3.7/site-packages/sklearn/model_selection/_validation.py:536: FitFailedWarning: Estimator fit failed. The score on this train-test partition for these parameters will be set to nan. Details: \n",
      "ValueError: gamma < 0\n",
      "\n",
      "  FitFailedWarning)\n",
      "/home/nicolo/miniconda3/lib/python3.7/site-packages/sklearn/model_selection/_validation.py:536: FitFailedWarning: Estimator fit failed. The score on this train-test partition for these parameters will be set to nan. Details: \n",
      "ValueError: gamma < 0\n",
      "\n",
      "  FitFailedWarning)\n",
      "/home/nicolo/miniconda3/lib/python3.7/site-packages/sklearn/model_selection/_validation.py:536: FitFailedWarning: Estimator fit failed. The score on this train-test partition for these parameters will be set to nan. Details: \n",
      "ValueError: gamma < 0\n",
      "\n",
      "  FitFailedWarning)\n",
      "/home/nicolo/miniconda3/lib/python3.7/site-packages/sklearn/model_selection/_validation.py:536: FitFailedWarning: Estimator fit failed. The score on this train-test partition for these parameters will be set to nan. Details: \n",
      "ValueError: gamma < 0\n",
      "\n",
      "  FitFailedWarning)\n",
      "/home/nicolo/miniconda3/lib/python3.7/site-packages/sklearn/model_selection/_validation.py:536: FitFailedWarning: Estimator fit failed. The score on this train-test partition for these parameters will be set to nan. Details: \n",
      "ValueError: gamma < 0\n",
      "\n",
      "  FitFailedWarning)\n",
      "/home/nicolo/miniconda3/lib/python3.7/site-packages/sklearn/model_selection/_validation.py:536: FitFailedWarning: Estimator fit failed. The score on this train-test partition for these parameters will be set to nan. Details: \n",
      "ValueError: gamma < 0\n",
      "\n",
      "  FitFailedWarning)\n",
      "/home/nicolo/miniconda3/lib/python3.7/site-packages/sklearn/model_selection/_validation.py:536: FitFailedWarning: Estimator fit failed. The score on this train-test partition for these parameters will be set to nan. Details: \n",
      "ValueError: gamma < 0\n",
      "\n",
      "  FitFailedWarning)\n"
     ]
    },
    {
     "ename": "KeyboardInterrupt",
     "evalue": "",
     "output_type": "error",
     "traceback": [
      "\u001b[0;31m---------------------------------------------------------------------------\u001b[0m",
      "\u001b[0;31mKeyboardInterrupt\u001b[0m                         Traceback (most recent call last)",
      "\u001b[0;32m<ipython-input-49-96cfa874b875>\u001b[0m in \u001b[0;36m<module>\u001b[0;34m\u001b[0m\n\u001b[1;32m     15\u001b[0m \u001b[0;34m\u001b[0m\u001b[0m\n\u001b[1;32m     16\u001b[0m \u001b[0;34m\u001b[0m\u001b[0m\n\u001b[0;32m---> 17\u001b[0;31m \u001b[0mopt_clf_svr\u001b[0m\u001b[0;34m.\u001b[0m\u001b[0mfit\u001b[0m\u001b[0;34m(\u001b[0m\u001b[0mX\u001b[0m\u001b[0;34m,\u001b[0m \u001b[0my\u001b[0m\u001b[0;34m,\u001b[0m \u001b[0mgroups\u001b[0m \u001b[0;34m=\u001b[0m \u001b[0mtrain_df\u001b[0m\u001b[0;34m.\u001b[0m\u001b[0mUnitNumber\u001b[0m\u001b[0;34m)\u001b[0m\u001b[0;34m\u001b[0m\u001b[0;34m\u001b[0m\u001b[0m\n\u001b[0m",
      "\u001b[0;32m~/miniconda3/lib/python3.7/site-packages/sklearn/model_selection/_search.py\u001b[0m in \u001b[0;36mfit\u001b[0;34m(self, X, y, groups, **fit_params)\u001b[0m\n\u001b[1;32m    708\u001b[0m                 \u001b[0;32mreturn\u001b[0m \u001b[0mresults\u001b[0m\u001b[0;34m\u001b[0m\u001b[0;34m\u001b[0m\u001b[0m\n\u001b[1;32m    709\u001b[0m \u001b[0;34m\u001b[0m\u001b[0m\n\u001b[0;32m--> 710\u001b[0;31m             \u001b[0mself\u001b[0m\u001b[0;34m.\u001b[0m\u001b[0m_run_search\u001b[0m\u001b[0;34m(\u001b[0m\u001b[0mevaluate_candidates\u001b[0m\u001b[0;34m)\u001b[0m\u001b[0;34m\u001b[0m\u001b[0;34m\u001b[0m\u001b[0m\n\u001b[0m\u001b[1;32m    711\u001b[0m \u001b[0;34m\u001b[0m\u001b[0m\n\u001b[1;32m    712\u001b[0m         \u001b[0;31m# For multi-metric evaluation, store the best_index_, best_params_ and\u001b[0m\u001b[0;34m\u001b[0m\u001b[0;34m\u001b[0m\u001b[0;34m\u001b[0m\u001b[0m\n",
      "\u001b[0;32m~/miniconda3/lib/python3.7/site-packages/sklearn/model_selection/_search.py\u001b[0m in \u001b[0;36m_run_search\u001b[0;34m(self, evaluate_candidates)\u001b[0m\n\u001b[1;32m   1149\u001b[0m     \u001b[0;32mdef\u001b[0m \u001b[0m_run_search\u001b[0m\u001b[0;34m(\u001b[0m\u001b[0mself\u001b[0m\u001b[0;34m,\u001b[0m \u001b[0mevaluate_candidates\u001b[0m\u001b[0;34m)\u001b[0m\u001b[0;34m:\u001b[0m\u001b[0;34m\u001b[0m\u001b[0;34m\u001b[0m\u001b[0m\n\u001b[1;32m   1150\u001b[0m         \u001b[0;34m\"\"\"Search all candidates in param_grid\"\"\"\u001b[0m\u001b[0;34m\u001b[0m\u001b[0;34m\u001b[0m\u001b[0m\n\u001b[0;32m-> 1151\u001b[0;31m         \u001b[0mevaluate_candidates\u001b[0m\u001b[0;34m(\u001b[0m\u001b[0mParameterGrid\u001b[0m\u001b[0;34m(\u001b[0m\u001b[0mself\u001b[0m\u001b[0;34m.\u001b[0m\u001b[0mparam_grid\u001b[0m\u001b[0;34m)\u001b[0m\u001b[0;34m)\u001b[0m\u001b[0;34m\u001b[0m\u001b[0;34m\u001b[0m\u001b[0m\n\u001b[0m\u001b[1;32m   1152\u001b[0m \u001b[0;34m\u001b[0m\u001b[0m\n\u001b[1;32m   1153\u001b[0m \u001b[0;34m\u001b[0m\u001b[0m\n",
      "\u001b[0;32m~/miniconda3/lib/python3.7/site-packages/sklearn/model_selection/_search.py\u001b[0m in \u001b[0;36mevaluate_candidates\u001b[0;34m(candidate_params)\u001b[0m\n\u001b[1;32m    687\u001b[0m                                \u001b[0;32mfor\u001b[0m \u001b[0mparameters\u001b[0m\u001b[0;34m,\u001b[0m \u001b[0;34m(\u001b[0m\u001b[0mtrain\u001b[0m\u001b[0;34m,\u001b[0m \u001b[0mtest\u001b[0m\u001b[0;34m)\u001b[0m\u001b[0;34m\u001b[0m\u001b[0;34m\u001b[0m\u001b[0m\n\u001b[1;32m    688\u001b[0m                                in product(candidate_params,\n\u001b[0;32m--> 689\u001b[0;31m                                           cv.split(X, y, groups)))\n\u001b[0m\u001b[1;32m    690\u001b[0m \u001b[0;34m\u001b[0m\u001b[0m\n\u001b[1;32m    691\u001b[0m                 \u001b[0;32mif\u001b[0m \u001b[0mlen\u001b[0m\u001b[0;34m(\u001b[0m\u001b[0mout\u001b[0m\u001b[0;34m)\u001b[0m \u001b[0;34m<\u001b[0m \u001b[0;36m1\u001b[0m\u001b[0;34m:\u001b[0m\u001b[0;34m\u001b[0m\u001b[0;34m\u001b[0m\u001b[0m\n",
      "\u001b[0;32m~/miniconda3/lib/python3.7/site-packages/joblib/parallel.py\u001b[0m in \u001b[0;36m__call__\u001b[0;34m(self, iterable)\u001b[0m\n\u001b[1;32m   1005\u001b[0m                 \u001b[0mself\u001b[0m\u001b[0;34m.\u001b[0m\u001b[0m_iterating\u001b[0m \u001b[0;34m=\u001b[0m \u001b[0mself\u001b[0m\u001b[0;34m.\u001b[0m\u001b[0m_original_iterator\u001b[0m \u001b[0;32mis\u001b[0m \u001b[0;32mnot\u001b[0m \u001b[0;32mNone\u001b[0m\u001b[0;34m\u001b[0m\u001b[0;34m\u001b[0m\u001b[0m\n\u001b[1;32m   1006\u001b[0m \u001b[0;34m\u001b[0m\u001b[0m\n\u001b[0;32m-> 1007\u001b[0;31m             \u001b[0;32mwhile\u001b[0m \u001b[0mself\u001b[0m\u001b[0;34m.\u001b[0m\u001b[0mdispatch_one_batch\u001b[0m\u001b[0;34m(\u001b[0m\u001b[0miterator\u001b[0m\u001b[0;34m)\u001b[0m\u001b[0;34m:\u001b[0m\u001b[0;34m\u001b[0m\u001b[0;34m\u001b[0m\u001b[0m\n\u001b[0m\u001b[1;32m   1008\u001b[0m                 \u001b[0;32mpass\u001b[0m\u001b[0;34m\u001b[0m\u001b[0;34m\u001b[0m\u001b[0m\n\u001b[1;32m   1009\u001b[0m \u001b[0;34m\u001b[0m\u001b[0m\n",
      "\u001b[0;32m~/miniconda3/lib/python3.7/site-packages/joblib/parallel.py\u001b[0m in \u001b[0;36mdispatch_one_batch\u001b[0;34m(self, iterator)\u001b[0m\n\u001b[1;32m    833\u001b[0m                 \u001b[0;32mreturn\u001b[0m \u001b[0;32mFalse\u001b[0m\u001b[0;34m\u001b[0m\u001b[0;34m\u001b[0m\u001b[0m\n\u001b[1;32m    834\u001b[0m             \u001b[0;32melse\u001b[0m\u001b[0;34m:\u001b[0m\u001b[0;34m\u001b[0m\u001b[0;34m\u001b[0m\u001b[0m\n\u001b[0;32m--> 835\u001b[0;31m                 \u001b[0mself\u001b[0m\u001b[0;34m.\u001b[0m\u001b[0m_dispatch\u001b[0m\u001b[0;34m(\u001b[0m\u001b[0mtasks\u001b[0m\u001b[0;34m)\u001b[0m\u001b[0;34m\u001b[0m\u001b[0;34m\u001b[0m\u001b[0m\n\u001b[0m\u001b[1;32m    836\u001b[0m                 \u001b[0;32mreturn\u001b[0m \u001b[0;32mTrue\u001b[0m\u001b[0;34m\u001b[0m\u001b[0;34m\u001b[0m\u001b[0m\n\u001b[1;32m    837\u001b[0m \u001b[0;34m\u001b[0m\u001b[0m\n",
      "\u001b[0;32m~/miniconda3/lib/python3.7/site-packages/joblib/parallel.py\u001b[0m in \u001b[0;36m_dispatch\u001b[0;34m(self, batch)\u001b[0m\n\u001b[1;32m    752\u001b[0m         \u001b[0;32mwith\u001b[0m \u001b[0mself\u001b[0m\u001b[0;34m.\u001b[0m\u001b[0m_lock\u001b[0m\u001b[0;34m:\u001b[0m\u001b[0;34m\u001b[0m\u001b[0;34m\u001b[0m\u001b[0m\n\u001b[1;32m    753\u001b[0m             \u001b[0mjob_idx\u001b[0m \u001b[0;34m=\u001b[0m \u001b[0mlen\u001b[0m\u001b[0;34m(\u001b[0m\u001b[0mself\u001b[0m\u001b[0;34m.\u001b[0m\u001b[0m_jobs\u001b[0m\u001b[0;34m)\u001b[0m\u001b[0;34m\u001b[0m\u001b[0;34m\u001b[0m\u001b[0m\n\u001b[0;32m--> 754\u001b[0;31m             \u001b[0mjob\u001b[0m \u001b[0;34m=\u001b[0m \u001b[0mself\u001b[0m\u001b[0;34m.\u001b[0m\u001b[0m_backend\u001b[0m\u001b[0;34m.\u001b[0m\u001b[0mapply_async\u001b[0m\u001b[0;34m(\u001b[0m\u001b[0mbatch\u001b[0m\u001b[0;34m,\u001b[0m \u001b[0mcallback\u001b[0m\u001b[0;34m=\u001b[0m\u001b[0mcb\u001b[0m\u001b[0;34m)\u001b[0m\u001b[0;34m\u001b[0m\u001b[0;34m\u001b[0m\u001b[0m\n\u001b[0m\u001b[1;32m    755\u001b[0m             \u001b[0;31m# A job can complete so quickly than its callback is\u001b[0m\u001b[0;34m\u001b[0m\u001b[0;34m\u001b[0m\u001b[0;34m\u001b[0m\u001b[0m\n\u001b[1;32m    756\u001b[0m             \u001b[0;31m# called before we get here, causing self._jobs to\u001b[0m\u001b[0;34m\u001b[0m\u001b[0;34m\u001b[0m\u001b[0;34m\u001b[0m\u001b[0m\n",
      "\u001b[0;32m~/miniconda3/lib/python3.7/site-packages/joblib/_parallel_backends.py\u001b[0m in \u001b[0;36mapply_async\u001b[0;34m(self, func, callback)\u001b[0m\n\u001b[1;32m    207\u001b[0m     \u001b[0;32mdef\u001b[0m \u001b[0mapply_async\u001b[0m\u001b[0;34m(\u001b[0m\u001b[0mself\u001b[0m\u001b[0;34m,\u001b[0m \u001b[0mfunc\u001b[0m\u001b[0;34m,\u001b[0m \u001b[0mcallback\u001b[0m\u001b[0;34m=\u001b[0m\u001b[0;32mNone\u001b[0m\u001b[0;34m)\u001b[0m\u001b[0;34m:\u001b[0m\u001b[0;34m\u001b[0m\u001b[0;34m\u001b[0m\u001b[0m\n\u001b[1;32m    208\u001b[0m         \u001b[0;34m\"\"\"Schedule a func to be run\"\"\"\u001b[0m\u001b[0;34m\u001b[0m\u001b[0;34m\u001b[0m\u001b[0m\n\u001b[0;32m--> 209\u001b[0;31m         \u001b[0mresult\u001b[0m \u001b[0;34m=\u001b[0m \u001b[0mImmediateResult\u001b[0m\u001b[0;34m(\u001b[0m\u001b[0mfunc\u001b[0m\u001b[0;34m)\u001b[0m\u001b[0;34m\u001b[0m\u001b[0;34m\u001b[0m\u001b[0m\n\u001b[0m\u001b[1;32m    210\u001b[0m         \u001b[0;32mif\u001b[0m \u001b[0mcallback\u001b[0m\u001b[0;34m:\u001b[0m\u001b[0;34m\u001b[0m\u001b[0;34m\u001b[0m\u001b[0m\n\u001b[1;32m    211\u001b[0m             \u001b[0mcallback\u001b[0m\u001b[0;34m(\u001b[0m\u001b[0mresult\u001b[0m\u001b[0;34m)\u001b[0m\u001b[0;34m\u001b[0m\u001b[0;34m\u001b[0m\u001b[0m\n",
      "\u001b[0;32m~/miniconda3/lib/python3.7/site-packages/joblib/_parallel_backends.py\u001b[0m in \u001b[0;36m__init__\u001b[0;34m(self, batch)\u001b[0m\n\u001b[1;32m    588\u001b[0m         \u001b[0;31m# Don't delay the application, to avoid keeping the input\u001b[0m\u001b[0;34m\u001b[0m\u001b[0;34m\u001b[0m\u001b[0;34m\u001b[0m\u001b[0m\n\u001b[1;32m    589\u001b[0m         \u001b[0;31m# arguments in memory\u001b[0m\u001b[0;34m\u001b[0m\u001b[0;34m\u001b[0m\u001b[0;34m\u001b[0m\u001b[0m\n\u001b[0;32m--> 590\u001b[0;31m         \u001b[0mself\u001b[0m\u001b[0;34m.\u001b[0m\u001b[0mresults\u001b[0m \u001b[0;34m=\u001b[0m \u001b[0mbatch\u001b[0m\u001b[0;34m(\u001b[0m\u001b[0;34m)\u001b[0m\u001b[0;34m\u001b[0m\u001b[0;34m\u001b[0m\u001b[0m\n\u001b[0m\u001b[1;32m    591\u001b[0m \u001b[0;34m\u001b[0m\u001b[0m\n\u001b[1;32m    592\u001b[0m     \u001b[0;32mdef\u001b[0m \u001b[0mget\u001b[0m\u001b[0;34m(\u001b[0m\u001b[0mself\u001b[0m\u001b[0;34m)\u001b[0m\u001b[0;34m:\u001b[0m\u001b[0;34m\u001b[0m\u001b[0;34m\u001b[0m\u001b[0m\n",
      "\u001b[0;32m~/miniconda3/lib/python3.7/site-packages/joblib/parallel.py\u001b[0m in \u001b[0;36m__call__\u001b[0;34m(self)\u001b[0m\n\u001b[1;32m    254\u001b[0m         \u001b[0;32mwith\u001b[0m \u001b[0mparallel_backend\u001b[0m\u001b[0;34m(\u001b[0m\u001b[0mself\u001b[0m\u001b[0;34m.\u001b[0m\u001b[0m_backend\u001b[0m\u001b[0;34m,\u001b[0m \u001b[0mn_jobs\u001b[0m\u001b[0;34m=\u001b[0m\u001b[0mself\u001b[0m\u001b[0;34m.\u001b[0m\u001b[0m_n_jobs\u001b[0m\u001b[0;34m)\u001b[0m\u001b[0;34m:\u001b[0m\u001b[0;34m\u001b[0m\u001b[0;34m\u001b[0m\u001b[0m\n\u001b[1;32m    255\u001b[0m             return [func(*args, **kwargs)\n\u001b[0;32m--> 256\u001b[0;31m                     for func, args, kwargs in self.items]\n\u001b[0m\u001b[1;32m    257\u001b[0m \u001b[0;34m\u001b[0m\u001b[0m\n\u001b[1;32m    258\u001b[0m     \u001b[0;32mdef\u001b[0m \u001b[0m__len__\u001b[0m\u001b[0;34m(\u001b[0m\u001b[0mself\u001b[0m\u001b[0;34m)\u001b[0m\u001b[0;34m:\u001b[0m\u001b[0;34m\u001b[0m\u001b[0;34m\u001b[0m\u001b[0m\n",
      "\u001b[0;32m~/miniconda3/lib/python3.7/site-packages/joblib/parallel.py\u001b[0m in \u001b[0;36m<listcomp>\u001b[0;34m(.0)\u001b[0m\n\u001b[1;32m    254\u001b[0m         \u001b[0;32mwith\u001b[0m \u001b[0mparallel_backend\u001b[0m\u001b[0;34m(\u001b[0m\u001b[0mself\u001b[0m\u001b[0;34m.\u001b[0m\u001b[0m_backend\u001b[0m\u001b[0;34m,\u001b[0m \u001b[0mn_jobs\u001b[0m\u001b[0;34m=\u001b[0m\u001b[0mself\u001b[0m\u001b[0;34m.\u001b[0m\u001b[0m_n_jobs\u001b[0m\u001b[0;34m)\u001b[0m\u001b[0;34m:\u001b[0m\u001b[0;34m\u001b[0m\u001b[0;34m\u001b[0m\u001b[0m\n\u001b[1;32m    255\u001b[0m             return [func(*args, **kwargs)\n\u001b[0;32m--> 256\u001b[0;31m                     for func, args, kwargs in self.items]\n\u001b[0m\u001b[1;32m    257\u001b[0m \u001b[0;34m\u001b[0m\u001b[0m\n\u001b[1;32m    258\u001b[0m     \u001b[0;32mdef\u001b[0m \u001b[0m__len__\u001b[0m\u001b[0;34m(\u001b[0m\u001b[0mself\u001b[0m\u001b[0;34m)\u001b[0m\u001b[0;34m:\u001b[0m\u001b[0;34m\u001b[0m\u001b[0;34m\u001b[0m\u001b[0m\n",
      "\u001b[0;32m~/miniconda3/lib/python3.7/site-packages/sklearn/model_selection/_validation.py\u001b[0m in \u001b[0;36m_fit_and_score\u001b[0;34m(estimator, X, y, scorer, train, test, verbose, parameters, fit_params, return_train_score, return_parameters, return_n_test_samples, return_times, return_estimator, error_score)\u001b[0m\n\u001b[1;32m    542\u001b[0m     \u001b[0;32melse\u001b[0m\u001b[0;34m:\u001b[0m\u001b[0;34m\u001b[0m\u001b[0;34m\u001b[0m\u001b[0m\n\u001b[1;32m    543\u001b[0m         \u001b[0mfit_time\u001b[0m \u001b[0;34m=\u001b[0m \u001b[0mtime\u001b[0m\u001b[0;34m.\u001b[0m\u001b[0mtime\u001b[0m\u001b[0;34m(\u001b[0m\u001b[0;34m)\u001b[0m \u001b[0;34m-\u001b[0m \u001b[0mstart_time\u001b[0m\u001b[0;34m\u001b[0m\u001b[0;34m\u001b[0m\u001b[0m\n\u001b[0;32m--> 544\u001b[0;31m         \u001b[0mtest_scores\u001b[0m \u001b[0;34m=\u001b[0m \u001b[0m_score\u001b[0m\u001b[0;34m(\u001b[0m\u001b[0mestimator\u001b[0m\u001b[0;34m,\u001b[0m \u001b[0mX_test\u001b[0m\u001b[0;34m,\u001b[0m \u001b[0my_test\u001b[0m\u001b[0;34m,\u001b[0m \u001b[0mscorer\u001b[0m\u001b[0;34m)\u001b[0m\u001b[0;34m\u001b[0m\u001b[0;34m\u001b[0m\u001b[0m\n\u001b[0m\u001b[1;32m    545\u001b[0m         \u001b[0mscore_time\u001b[0m \u001b[0;34m=\u001b[0m \u001b[0mtime\u001b[0m\u001b[0;34m.\u001b[0m\u001b[0mtime\u001b[0m\u001b[0;34m(\u001b[0m\u001b[0;34m)\u001b[0m \u001b[0;34m-\u001b[0m \u001b[0mstart_time\u001b[0m \u001b[0;34m-\u001b[0m \u001b[0mfit_time\u001b[0m\u001b[0;34m\u001b[0m\u001b[0;34m\u001b[0m\u001b[0m\n\u001b[1;32m    546\u001b[0m         \u001b[0;32mif\u001b[0m \u001b[0mreturn_train_score\u001b[0m\u001b[0;34m:\u001b[0m\u001b[0;34m\u001b[0m\u001b[0;34m\u001b[0m\u001b[0m\n",
      "\u001b[0;32m~/miniconda3/lib/python3.7/site-packages/sklearn/model_selection/_validation.py\u001b[0m in \u001b[0;36m_score\u001b[0;34m(estimator, X_test, y_test, scorer)\u001b[0m\n\u001b[1;32m    589\u001b[0m         \u001b[0mscores\u001b[0m \u001b[0;34m=\u001b[0m \u001b[0mscorer\u001b[0m\u001b[0;34m(\u001b[0m\u001b[0mestimator\u001b[0m\u001b[0;34m,\u001b[0m \u001b[0mX_test\u001b[0m\u001b[0;34m)\u001b[0m\u001b[0;34m\u001b[0m\u001b[0;34m\u001b[0m\u001b[0m\n\u001b[1;32m    590\u001b[0m     \u001b[0;32melse\u001b[0m\u001b[0;34m:\u001b[0m\u001b[0;34m\u001b[0m\u001b[0;34m\u001b[0m\u001b[0m\n\u001b[0;32m--> 591\u001b[0;31m         \u001b[0mscores\u001b[0m \u001b[0;34m=\u001b[0m \u001b[0mscorer\u001b[0m\u001b[0;34m(\u001b[0m\u001b[0mestimator\u001b[0m\u001b[0;34m,\u001b[0m \u001b[0mX_test\u001b[0m\u001b[0;34m,\u001b[0m \u001b[0my_test\u001b[0m\u001b[0;34m)\u001b[0m\u001b[0;34m\u001b[0m\u001b[0;34m\u001b[0m\u001b[0m\n\u001b[0m\u001b[1;32m    592\u001b[0m \u001b[0;34m\u001b[0m\u001b[0m\n\u001b[1;32m    593\u001b[0m     error_msg = (\"scoring must return a number, got %s (%s) \"\n",
      "\u001b[0;32m~/miniconda3/lib/python3.7/site-packages/sklearn/metrics/_scorer.py\u001b[0m in \u001b[0;36m__call__\u001b[0;34m(self, estimator, *args, **kwargs)\u001b[0m\n\u001b[1;32m     87\u001b[0m                                       *args, **kwargs)\n\u001b[1;32m     88\u001b[0m             \u001b[0;32melse\u001b[0m\u001b[0;34m:\u001b[0m\u001b[0;34m\u001b[0m\u001b[0;34m\u001b[0m\u001b[0m\n\u001b[0;32m---> 89\u001b[0;31m                 \u001b[0mscore\u001b[0m \u001b[0;34m=\u001b[0m \u001b[0mscorer\u001b[0m\u001b[0;34m(\u001b[0m\u001b[0mestimator\u001b[0m\u001b[0;34m,\u001b[0m \u001b[0;34m*\u001b[0m\u001b[0margs\u001b[0m\u001b[0;34m,\u001b[0m \u001b[0;34m**\u001b[0m\u001b[0mkwargs\u001b[0m\u001b[0;34m)\u001b[0m\u001b[0;34m\u001b[0m\u001b[0;34m\u001b[0m\u001b[0m\n\u001b[0m\u001b[1;32m     90\u001b[0m             \u001b[0mscores\u001b[0m\u001b[0;34m[\u001b[0m\u001b[0mname\u001b[0m\u001b[0;34m]\u001b[0m \u001b[0;34m=\u001b[0m \u001b[0mscore\u001b[0m\u001b[0;34m\u001b[0m\u001b[0;34m\u001b[0m\u001b[0m\n\u001b[1;32m     91\u001b[0m         \u001b[0;32mreturn\u001b[0m \u001b[0mscores\u001b[0m\u001b[0;34m\u001b[0m\u001b[0;34m\u001b[0m\u001b[0m\n",
      "\u001b[0;32m~/miniconda3/lib/python3.7/site-packages/sklearn/metrics/_scorer.py\u001b[0m in \u001b[0;36m_passthrough_scorer\u001b[0;34m(estimator, *args, **kwargs)\u001b[0m\n\u001b[1;32m    369\u001b[0m \u001b[0;32mdef\u001b[0m \u001b[0m_passthrough_scorer\u001b[0m\u001b[0;34m(\u001b[0m\u001b[0mestimator\u001b[0m\u001b[0;34m,\u001b[0m \u001b[0;34m*\u001b[0m\u001b[0margs\u001b[0m\u001b[0;34m,\u001b[0m \u001b[0;34m**\u001b[0m\u001b[0mkwargs\u001b[0m\u001b[0;34m)\u001b[0m\u001b[0;34m:\u001b[0m\u001b[0;34m\u001b[0m\u001b[0;34m\u001b[0m\u001b[0m\n\u001b[1;32m    370\u001b[0m     \u001b[0;34m\"\"\"Function that wraps estimator.score\"\"\"\u001b[0m\u001b[0;34m\u001b[0m\u001b[0;34m\u001b[0m\u001b[0m\n\u001b[0;32m--> 371\u001b[0;31m     \u001b[0;32mreturn\u001b[0m \u001b[0mestimator\u001b[0m\u001b[0;34m.\u001b[0m\u001b[0mscore\u001b[0m\u001b[0;34m(\u001b[0m\u001b[0;34m*\u001b[0m\u001b[0margs\u001b[0m\u001b[0;34m,\u001b[0m \u001b[0;34m**\u001b[0m\u001b[0mkwargs\u001b[0m\u001b[0;34m)\u001b[0m\u001b[0;34m\u001b[0m\u001b[0;34m\u001b[0m\u001b[0m\n\u001b[0m\u001b[1;32m    372\u001b[0m \u001b[0;34m\u001b[0m\u001b[0m\n\u001b[1;32m    373\u001b[0m \u001b[0;34m\u001b[0m\u001b[0m\n",
      "\u001b[0;32m~/miniconda3/lib/python3.7/site-packages/sklearn/base.py\u001b[0m in \u001b[0;36mscore\u001b[0;34m(self, X, y, sample_weight)\u001b[0m\n\u001b[1;32m    420\u001b[0m         \u001b[0;32mfrom\u001b[0m \u001b[0;34m.\u001b[0m\u001b[0mmetrics\u001b[0m \u001b[0;32mimport\u001b[0m \u001b[0mr2_score\u001b[0m\u001b[0;34m\u001b[0m\u001b[0;34m\u001b[0m\u001b[0m\n\u001b[1;32m    421\u001b[0m         \u001b[0;32mfrom\u001b[0m \u001b[0;34m.\u001b[0m\u001b[0mmetrics\u001b[0m\u001b[0;34m.\u001b[0m\u001b[0m_regression\u001b[0m \u001b[0;32mimport\u001b[0m \u001b[0m_check_reg_targets\u001b[0m\u001b[0;34m\u001b[0m\u001b[0;34m\u001b[0m\u001b[0m\n\u001b[0;32m--> 422\u001b[0;31m         \u001b[0my_pred\u001b[0m \u001b[0;34m=\u001b[0m \u001b[0mself\u001b[0m\u001b[0;34m.\u001b[0m\u001b[0mpredict\u001b[0m\u001b[0;34m(\u001b[0m\u001b[0mX\u001b[0m\u001b[0;34m)\u001b[0m\u001b[0;34m\u001b[0m\u001b[0;34m\u001b[0m\u001b[0m\n\u001b[0m\u001b[1;32m    423\u001b[0m         \u001b[0;31m# XXX: Remove the check in 0.23\u001b[0m\u001b[0;34m\u001b[0m\u001b[0;34m\u001b[0m\u001b[0;34m\u001b[0m\u001b[0m\n\u001b[1;32m    424\u001b[0m         \u001b[0my_type\u001b[0m\u001b[0;34m,\u001b[0m \u001b[0m_\u001b[0m\u001b[0;34m,\u001b[0m \u001b[0m_\u001b[0m\u001b[0;34m,\u001b[0m \u001b[0m_\u001b[0m \u001b[0;34m=\u001b[0m \u001b[0m_check_reg_targets\u001b[0m\u001b[0;34m(\u001b[0m\u001b[0my\u001b[0m\u001b[0;34m,\u001b[0m \u001b[0my_pred\u001b[0m\u001b[0;34m,\u001b[0m \u001b[0;32mNone\u001b[0m\u001b[0;34m)\u001b[0m\u001b[0;34m\u001b[0m\u001b[0;34m\u001b[0m\u001b[0m\n",
      "\u001b[0;32m~/miniconda3/lib/python3.7/site-packages/sklearn/svm/_base.py\u001b[0m in \u001b[0;36mpredict\u001b[0;34m(self, X)\u001b[0m\n\u001b[1;32m    315\u001b[0m         \u001b[0mX\u001b[0m \u001b[0;34m=\u001b[0m \u001b[0mself\u001b[0m\u001b[0;34m.\u001b[0m\u001b[0m_validate_for_predict\u001b[0m\u001b[0;34m(\u001b[0m\u001b[0mX\u001b[0m\u001b[0;34m)\u001b[0m\u001b[0;34m\u001b[0m\u001b[0;34m\u001b[0m\u001b[0m\n\u001b[1;32m    316\u001b[0m         \u001b[0mpredict\u001b[0m \u001b[0;34m=\u001b[0m \u001b[0mself\u001b[0m\u001b[0;34m.\u001b[0m\u001b[0m_sparse_predict\u001b[0m \u001b[0;32mif\u001b[0m \u001b[0mself\u001b[0m\u001b[0;34m.\u001b[0m\u001b[0m_sparse\u001b[0m \u001b[0;32melse\u001b[0m \u001b[0mself\u001b[0m\u001b[0;34m.\u001b[0m\u001b[0m_dense_predict\u001b[0m\u001b[0;34m\u001b[0m\u001b[0;34m\u001b[0m\u001b[0m\n\u001b[0;32m--> 317\u001b[0;31m         \u001b[0;32mreturn\u001b[0m \u001b[0mpredict\u001b[0m\u001b[0;34m(\u001b[0m\u001b[0mX\u001b[0m\u001b[0;34m)\u001b[0m\u001b[0;34m\u001b[0m\u001b[0;34m\u001b[0m\u001b[0m\n\u001b[0m\u001b[1;32m    318\u001b[0m \u001b[0;34m\u001b[0m\u001b[0m\n\u001b[1;32m    319\u001b[0m     \u001b[0;32mdef\u001b[0m \u001b[0m_dense_predict\u001b[0m\u001b[0;34m(\u001b[0m\u001b[0mself\u001b[0m\u001b[0;34m,\u001b[0m \u001b[0mX\u001b[0m\u001b[0;34m)\u001b[0m\u001b[0;34m:\u001b[0m\u001b[0;34m\u001b[0m\u001b[0;34m\u001b[0m\u001b[0m\n",
      "\u001b[0;32m~/miniconda3/lib/python3.7/site-packages/sklearn/svm/_base.py\u001b[0m in \u001b[0;36m_dense_predict\u001b[0;34m(self, X)\u001b[0m\n\u001b[1;32m    337\u001b[0m             \u001b[0mself\u001b[0m\u001b[0;34m.\u001b[0m\u001b[0mprobA_\u001b[0m\u001b[0;34m,\u001b[0m \u001b[0mself\u001b[0m\u001b[0;34m.\u001b[0m\u001b[0mprobB_\u001b[0m\u001b[0;34m,\u001b[0m \u001b[0msvm_type\u001b[0m\u001b[0;34m=\u001b[0m\u001b[0msvm_type\u001b[0m\u001b[0;34m,\u001b[0m \u001b[0mkernel\u001b[0m\u001b[0;34m=\u001b[0m\u001b[0mkernel\u001b[0m\u001b[0;34m,\u001b[0m\u001b[0;34m\u001b[0m\u001b[0;34m\u001b[0m\u001b[0m\n\u001b[1;32m    338\u001b[0m             \u001b[0mdegree\u001b[0m\u001b[0;34m=\u001b[0m\u001b[0mself\u001b[0m\u001b[0;34m.\u001b[0m\u001b[0mdegree\u001b[0m\u001b[0;34m,\u001b[0m \u001b[0mcoef0\u001b[0m\u001b[0;34m=\u001b[0m\u001b[0mself\u001b[0m\u001b[0;34m.\u001b[0m\u001b[0mcoef0\u001b[0m\u001b[0;34m,\u001b[0m \u001b[0mgamma\u001b[0m\u001b[0;34m=\u001b[0m\u001b[0mself\u001b[0m\u001b[0;34m.\u001b[0m\u001b[0m_gamma\u001b[0m\u001b[0;34m,\u001b[0m\u001b[0;34m\u001b[0m\u001b[0;34m\u001b[0m\u001b[0m\n\u001b[0;32m--> 339\u001b[0;31m             cache_size=self.cache_size)\n\u001b[0m\u001b[1;32m    340\u001b[0m \u001b[0;34m\u001b[0m\u001b[0m\n\u001b[1;32m    341\u001b[0m     \u001b[0;32mdef\u001b[0m \u001b[0m_sparse_predict\u001b[0m\u001b[0;34m(\u001b[0m\u001b[0mself\u001b[0m\u001b[0;34m,\u001b[0m \u001b[0mX\u001b[0m\u001b[0;34m)\u001b[0m\u001b[0;34m:\u001b[0m\u001b[0;34m\u001b[0m\u001b[0;34m\u001b[0m\u001b[0m\n",
      "\u001b[0;31mKeyboardInterrupt\u001b[0m: "
     ]
    }
   ],
   "source": [
    "# space for the exercise solution\n",
    "from sklearn.svm import SVR\n",
    "from sklearn.model_selection import GridSearchCV\n",
    "\n",
    "clf_svr = SVR()\n",
    "\n",
    "cv = GroupKFold(5)\n",
    "\n",
    "opt_clf_svr = GridSearchCV(SVR(kernel='rbf', \n",
    "                               gamma=0.5), \n",
    "                               cv=5,\n",
    "                               param_grid={\"C\": [1e-1, 1e0],\n",
    "                                           \"epsilon\": [0.05, 0.1],\n",
    "                                           \"gamma\": [-1, 1]})\n",
    "\n",
    "\n",
    "opt_clf_svr.fit(X, y, groups = train_df.UnitNumber)"
   ]
  },
  {
   "cell_type": "code",
   "execution_count": null,
   "metadata": {
    "colab": {},
    "colab_type": "code",
    "id": "NO7kNAaP3K6I"
   },
   "outputs": [],
   "source": [
    "y_test_pred = opt_clf_svr.predict(X_test)\n",
    "print(\"[Test] Optimized GB Mean Squared Error: \", mean_squared_error(y_test, y_test_pred))\n",
    "print(\"[Test] Optimized GB Mean Absolute Error: \", mean_absolute_error(y_test, y_test_pred))\n",
    "print(\"[Test] Optimized GB r-squared: \", r2_score(y_test, y_test_pred))"
   ]
  },
  {
   "cell_type": "markdown",
   "metadata": {
    "colab_type": "text",
    "id": "B5i7htmj3K6L"
   },
   "source": [
    "### Recurrent Neural Network Model for Regression\n",
    "\n",
    "All the previous machine learning model can only take tabular data, i.e.\n",
    "features at a given timestep $t$. Information about the previous time\n",
    "step can only be include by means of clever feature engineering.\n",
    "\n",
    "Deep Neural Networks, in particular Recurrent architectures such\n",
    "as LSTM [[6,7]](#References), can be used\n",
    "to automatically learn feature transformation on sequence data\n",
    "for a given task.\n",
    "\n",
    "Here, a basic example of training a LSTM based model for\n",
    "predicting the RUL is provided, based on\n",
    "the Keras-based implementation from [[2]](#References)."
   ]
  },
  {
   "cell_type": "code",
   "execution_count": 50,
   "metadata": {
    "colab": {},
    "colab_type": "code",
    "id": "w7jVEB1Y3K6M"
   },
   "outputs": [
    {
     "name": "stderr",
     "output_type": "stream",
     "text": [
      "UsageError: Line magic function `%tensorflow_version` not found.\n"
     ]
    }
   ],
   "source": [
    "# this is for Collab\n",
    "%tensorflow_version 1.x"
   ]
  },
  {
   "cell_type": "code",
   "execution_count": 51,
   "metadata": {
    "colab": {},
    "colab_type": "code",
    "id": "6A1fVqo43K6O"
   },
   "outputs": [],
   "source": [
    "from tensorflow import keras\n",
    "from tensorflow.keras.models import Sequential,load_model\n",
    "from tensorflow.keras.layers import Dense, Dropout, LSTM, Activation\n",
    "\n",
    "# define path to save model\n",
    "model_path = 'regression_model.h5'"
   ]
  },
  {
   "cell_type": "code",
   "execution_count": 52,
   "metadata": {
    "colab": {
     "base_uri": "https://localhost:8080/",
     "height": 34
    },
    "colab_type": "code",
    "executionInfo": {
     "elapsed": 618,
     "status": "ok",
     "timestamp": 1585245600301,
     "user": {
      "displayName": "Nicolò Trevisani",
      "photoUrl": "https://lh3.googleusercontent.com/a-/AOh14GiJ9pkFZdHQ4Zthp07GOkrYQq29m1orzwKSoxs2Cg=s64",
      "userId": "16681236576994002363"
     },
     "user_tz": -60
    },
    "id": "SrdM6f4L3K6R",
    "outputId": "5b588f8a-ba3e-4e89-ba7c-7d37562b1901"
   },
   "outputs": [
    {
     "name": "stdout",
     "output_type": "stream",
     "text": [
      "142\n"
     ]
    }
   ],
   "source": [
    "# pick a large window size of 50 cycles\n",
    "seq_length = 50\n",
    "\n",
    "# generator to reshape features into (samples, time steps, features) \n",
    "def gen_sequence(unit_number_df, seq_length = seq_length, seq_cols = features):\n",
    "    \"\"\" Only sequences that meet the window-length are considered, no padding is used. This means for testing\n",
    "    we need to drop those which are below the window-length. An alternative would be to pad sequences so that\n",
    "    we can use shorter ones \"\"\"\n",
    "    # for one unit number I put all the rows in a single matrix\n",
    "    data_matrix = unit_number_df[seq_cols].values\n",
    "    num_elements = data_matrix.shape[0]\n",
    "    # Iterate over two lists in parallel.\n",
    "    # For example UnitNumber 1 have 192 rows and sequence_length is equal to 50\n",
    "    # so zip iterate over two following list of numbers\n",
    "    # 0 50 -> from row 0 to row 50\n",
    "    # 1 51 -> from row 1 to row 51\n",
    "    # 2 52 -> from row 2 to row 52\n",
    "    # ...\n",
    "    # 111 191 -> from row 111 to 191\n",
    "    for start, stop in zip(range(0, num_elements-seq_length), range(seq_length, num_elements)):\n",
    "        yield data_matrix[start:stop, :]\n",
    "\n",
    "# test, it has to be 142 (192-seq_length)\n",
    "val=list(gen_sequence(X[train_df['UnitNumber']==1]))\n",
    "print(len(val))\n"
   ]
  },
  {
   "cell_type": "code",
   "execution_count": 53,
   "metadata": {
    "colab": {
     "base_uri": "https://localhost:8080/",
     "height": 34
    },
    "colab_type": "code",
    "executionInfo": {
     "elapsed": 936,
     "status": "ok",
     "timestamp": 1585245618877,
     "user": {
      "displayName": "Nicolò Trevisani",
      "photoUrl": "https://lh3.googleusercontent.com/a-/AOh14GiJ9pkFZdHQ4Zthp07GOkrYQq29m1orzwKSoxs2Cg=s64",
      "userId": "16681236576994002363"
     },
     "user_tz": -60
    },
    "id": "3fuss32Z3K6T",
    "outputId": "4659f2fc-afa7-4d77-9350-ba276861d414"
   },
   "outputs": [
    {
     "name": "stdout",
     "output_type": "stream",
     "text": [
      "(15631, 50, 25)\n"
     ]
    }
   ],
   "source": [
    "# generator for the sequences\n",
    "# transform each UnitNumber\n",
    "# of the train dataset in a sequence\n",
    "seq_gen = (list(gen_sequence(X[train_df['UnitNumber']== un])) \n",
    "           for un in train_df['UnitNumber'].unique())\n",
    "\n",
    "# convert sequences and convert to numpy array\n",
    "seq_array = np.concatenate(list(seq_gen)).astype(np.float32)\n",
    "print(seq_array.shape)"
   ]
  },
  {
   "cell_type": "code",
   "execution_count": 54,
   "metadata": {
    "colab": {
     "base_uri": "https://localhost:8080/",
     "height": 34
    },
    "colab_type": "code",
    "executionInfo": {
     "elapsed": 587,
     "status": "ok",
     "timestamp": 1585245716366,
     "user": {
      "displayName": "Nicolò Trevisani",
      "photoUrl": "https://lh3.googleusercontent.com/a-/AOh14GiJ9pkFZdHQ4Zthp07GOkrYQq29m1orzwKSoxs2Cg=s64",
      "userId": "16681236576994002363"
     },
     "user_tz": -60
    },
    "id": "cmdRnL863K6X",
    "outputId": "27c3e4b3-1c09-412f-b363-d1486dedc4c9"
   },
   "outputs": [
    {
     "data": {
      "text/plain": [
       "(15631, 1)"
      ]
     },
     "execution_count": 54,
     "metadata": {},
     "output_type": "execute_result"
    }
   ],
   "source": [
    "# function to generate labels\n",
    "def gen_labels(unit_number_df, seq_length = seq_length,\n",
    "               label = [\"target_RUL\"]):\n",
    "    \"\"\" Only sequences that meet the window-length are considered, no padding is used. This means for testing\n",
    "    we need to drop those which are below the window-length. An alternative would be to pad sequences so that\n",
    "    we can use shorter ones \"\"\"\n",
    "    # For one id I put all the labels in a single matrix.\n",
    "    # For example:\n",
    "    # [[1]\n",
    "    # [4]\n",
    "    # [1]\n",
    "    # [5]\n",
    "    # [9]\n",
    "    # ...\n",
    "    # [200]] \n",
    "    data_matrix = unit_number_df[label].values\n",
    "    num_elements = data_matrix.shape[0]\n",
    "    # I have to remove the first seq_length labels\n",
    "    # because for one id the first sequence of seq_length size have as target\n",
    "    # the last label (the previus ones are discarded).\n",
    "    # All the next id's sequences will have associated step by step one label as target.\n",
    "    return data_matrix[seq_length:num_elements, :]\n",
    "\n",
    "# generate labels\n",
    "label_gen = [gen_labels(train_df[train_df['UnitNumber'] == un]) \n",
    "             for un in train_df['UnitNumber'].unique()]\n",
    "\n",
    "label_array = np.concatenate(label_gen).astype(np.float32)\n",
    "label_array.shape"
   ]
  },
  {
   "cell_type": "code",
   "execution_count": 55,
   "metadata": {
    "colab": {
     "base_uri": "https://localhost:8080/",
     "height": 445
    },
    "colab_type": "code",
    "executionInfo": {
     "elapsed": 844,
     "status": "ok",
     "timestamp": 1585245726840,
     "user": {
      "displayName": "Nicolò Trevisani",
      "photoUrl": "https://lh3.googleusercontent.com/a-/AOh14GiJ9pkFZdHQ4Zthp07GOkrYQq29m1orzwKSoxs2Cg=s64",
      "userId": "16681236576994002363"
     },
     "user_tz": -60
    },
    "id": "61lcJQMv3K6a",
    "outputId": "69ac1716-3ac8-40cb-ce9c-1653bc9c37cf"
   },
   "outputs": [
    {
     "name": "stdout",
     "output_type": "stream",
     "text": [
      "Model: \"sequential\"\n",
      "_________________________________________________________________\n",
      "Layer (type)                 Output Shape              Param #   \n",
      "=================================================================\n",
      "lstm (LSTM)                  (None, 50, 100)           50400     \n",
      "_________________________________________________________________\n",
      "dropout (Dropout)            (None, 50, 100)           0         \n",
      "_________________________________________________________________\n",
      "lstm_1 (LSTM)                (None, 50)                30200     \n",
      "_________________________________________________________________\n",
      "dropout_1 (Dropout)          (None, 50)                0         \n",
      "_________________________________________________________________\n",
      "dense (Dense)                (None, 1)                 51        \n",
      "_________________________________________________________________\n",
      "activation (Activation)      (None, 1)                 0         \n",
      "=================================================================\n",
      "Total params: 80,651\n",
      "Trainable params: 80,651\n",
      "Non-trainable params: 0\n",
      "_________________________________________________________________\n",
      "None\n"
     ]
    }
   ],
   "source": [
    "# Next, we build a deep network. \n",
    "# The first layer is an LSTM layer with 100 units followed by another LSTM layer with 50 units. \n",
    "# Dropout is also applied after each LSTM layer to control overfitting. \n",
    "# Final layer is a Dense output layer with single unit and linear activation since this is a regression problem.\n",
    "nb_features = seq_array.shape[2]\n",
    "nb_out = label_array.shape[1]\n",
    "\n",
    "model = Sequential()\n",
    "model.add(LSTM(\n",
    "         input_shape=(seq_length, nb_features),\n",
    "         units=100,\n",
    "         return_sequences=True))\n",
    "model.add(Dropout(0.5))\n",
    "model.add(LSTM(\n",
    "          units=50,\n",
    "          return_sequences=False))\n",
    "model.add(Dropout(0.5))\n",
    "model.add(Dense(units=nb_out))\n",
    "model.add(Activation(\"linear\"))\n",
    "\n",
    "# feel free to change the learning rate and experiment\n",
    "optimizer = keras.optimizers.RMSprop(learning_rate=0.01, rho=0.9)\n",
    "\n",
    "model.compile(loss='mean_squared_error', optimizer=optimizer,metrics=['mae'])\n",
    "\n",
    "print(model.summary())"
   ]
  },
  {
   "cell_type": "code",
   "execution_count": 56,
   "metadata": {
    "colab": {
     "base_uri": "https://localhost:8080/",
     "height": 731
    },
    "colab_type": "code",
    "executionInfo": {
     "elapsed": 420268,
     "status": "ok",
     "timestamp": 1585246248191,
     "user": {
      "displayName": "Nicolò Trevisani",
      "photoUrl": "https://lh3.googleusercontent.com/a-/AOh14GiJ9pkFZdHQ4Zthp07GOkrYQq29m1orzwKSoxs2Cg=s64",
      "userId": "16681236576994002363"
     },
     "user_tz": -60
    },
    "id": "BE3tOtPU3K6e",
    "outputId": "34f87737-8bdd-4f52-a13f-50350340397b"
   },
   "outputs": [
    {
     "name": "stdout",
     "output_type": "stream",
     "text": [
      "Train on 14849 samples, validate on 782 samples\n",
      "Epoch 1/50\n",
      "14849/14849 - 17s - loss: 6448.2266 - mae: 60.6849 - val_loss: 4284.3527 - val_mae: 46.3665\n",
      "Epoch 2/50\n",
      "14849/14849 - 16s - loss: 3299.1324 - mae: 38.8035 - val_loss: 2093.1356 - val_mae: 29.2488\n",
      "Epoch 3/50\n",
      "14849/14849 - 14s - loss: 1805.4851 - mae: 27.1888 - val_loss: 1313.2623 - val_mae: 25.5289\n",
      "Epoch 4/50\n",
      "14849/14849 - 15s - loss: 1247.6028 - mae: 23.0279 - val_loss: 962.9313 - val_mae: 21.0282\n",
      "Epoch 5/50\n",
      "14849/14849 - 15s - loss: 1060.2597 - mae: 21.4661 - val_loss: 941.7334 - val_mae: 21.2655\n",
      "Epoch 6/50\n",
      "14849/14849 - 15s - loss: 933.6717 - mae: 19.9667 - val_loss: 927.1820 - val_mae: 20.1832\n",
      "Epoch 7/50\n",
      "14849/14849 - 13s - loss: 841.0942 - mae: 19.2442 - val_loss: 1109.0466 - val_mae: 22.8563\n",
      "Epoch 8/50\n",
      "14849/14849 - 16s - loss: 793.6867 - mae: 18.6374 - val_loss: 1553.6949 - val_mae: 27.9047\n",
      "Epoch 9/50\n",
      "14849/14849 - 12s - loss: 755.9968 - mae: 18.1902 - val_loss: 1141.9522 - val_mae: 22.2362\n",
      "Epoch 10/50\n",
      "14849/14849 - 15s - loss: 709.5780 - mae: 17.4904 - val_loss: 1255.3050 - val_mae: 23.3202\n",
      "Epoch 11/50\n",
      "14849/14849 - 13s - loss: 632.6517 - mae: 16.5454 - val_loss: 1313.2909 - val_mae: 23.3598\n",
      "Epoch 12/50\n",
      "14849/14849 - 11s - loss: 563.7494 - mae: 15.7989 - val_loss: 1220.2521 - val_mae: 24.5896\n",
      "Epoch 13/50\n",
      "14849/14849 - 15s - loss: 543.7607 - mae: 15.5505 - val_loss: 1835.9966 - val_mae: 28.9616\n",
      "Epoch 14/50\n",
      "14849/14849 - 12s - loss: 492.8708 - mae: 15.0270 - val_loss: 2596.3621 - val_mae: 32.0889\n",
      "Epoch 15/50\n",
      "14849/14849 - 15s - loss: 484.3258 - mae: 14.7711 - val_loss: 1254.1147 - val_mae: 24.3518\n",
      "Epoch 16/50\n",
      "14849/14849 - 11s - loss: 462.0680 - mae: 14.2977 - val_loss: 1971.2158 - val_mae: 29.6531\n"
     ]
    }
   ],
   "source": [
    "# fit the network\n",
    "history = model.fit(seq_array, label_array,epochs=50, batch_size=200, validation_split=0.05, verbose=2,\n",
    "          callbacks = [keras.callbacks.EarlyStopping(monitor='val_loss', min_delta=0, patience=10, verbose=0, mode='min'),\n",
    "                       keras.callbacks.ModelCheckpoint(model_path,monitor='val_loss', save_best_only=True, mode='min', verbose=0)]\n",
    ")"
   ]
  },
  {
   "cell_type": "code",
   "execution_count": 60,
   "metadata": {
    "colab": {
     "base_uri": "https://localhost:8080/",
     "height": 689
    },
    "colab_type": "code",
    "executionInfo": {
     "elapsed": 6867,
     "status": "ok",
     "timestamp": 1585246255075,
     "user": {
      "displayName": "Nicolò Trevisani",
      "photoUrl": "https://lh3.googleusercontent.com/a-/AOh14GiJ9pkFZdHQ4Zthp07GOkrYQq29m1orzwKSoxs2Cg=s64",
      "userId": "16681236576994002363"
     },
     "user_tz": -60
    },
    "id": "UGW-Gkjm3K6g",
    "outputId": "093e0d5b-5dc5-4c7c-a627-480308b9a843"
   },
   "outputs": [
    {
     "name": "stdout",
     "output_type": "stream",
     "text": [
      "15631/15631 [==============================] - 7s 464us/sample\n",
      "[Train] LSTM Regression Mean Squared Error:  273.6711\n",
      "[Train] LSTM Regression Mean Absolute Error:  10.828753\n",
      "[Train] LSTM Regression r-squared:  0.9161859303751542\n"
     ]
    },
    {
     "data": {
      "image/png": "[encoded data removed]",
      "text/plain": [
       "<Figure size 720x720 with 2 Axes>"
      ]
     },
     "metadata": {
      "needs_background": "light"
     },
     "output_type": "display_data"
    }
   ],
   "source": [
    "fig, axs = plt.subplots(2,1, figsize=(10,10))\n",
    "\n",
    "#axs[0].plot(history.history['mean_absolute_error'])\n",
    "#axs[0].plot(history.history['val_mean_absolute_error'])\n",
    "axs[0].set_title('model MAE')\n",
    "axs[0].legend(['train', 'test'], loc='upper right')\n",
    "axs[0].set_xlabel('epoch')\n",
    "\n",
    "\n",
    "axs[1].plot(history.history['loss'])\n",
    "axs[1].plot(history.history['val_loss'])\n",
    "axs[1].set_title('model MSE (loss)')\n",
    "axs[1].legend(['train', 'test'], loc='upper right')\n",
    "axs[1].set_xlabel('epoch')\n",
    "\n",
    "y_pred = model.predict(seq_array,verbose=1, batch_size=200)\n",
    "y = label_array\n",
    "print(\"[Train] LSTM Regression Mean Squared Error: \", mean_squared_error(y, y_pred))\n",
    "print(\"[Train] LSTM Regression Mean Absolute Error: \", mean_absolute_error(y, y_pred))\n",
    "print(\"[Train] LSTM Regression r-squared: \", r2_score(y, y_pred))"
   ]
  },
  {
   "cell_type": "markdown",
   "metadata": {
    "colab_type": "text",
    "id": "SMkjg1Md3K6i"
   },
   "source": [
    "#### Test Set Evaluation\n",
    "\n",
    "The real world performance is hard to estimate, but better evaluate over the set\n",
    "of data that has not been used for training."
   ]
  },
  {
   "cell_type": "code",
   "execution_count": 61,
   "metadata": {
    "colab": {
     "base_uri": "https://localhost:8080/",
     "height": 51
    },
    "colab_type": "code",
    "executionInfo": {
     "elapsed": 1383,
     "status": "ok",
     "timestamp": 1585246437668,
     "user": {
      "displayName": "Nicolò Trevisani",
      "photoUrl": "https://lh3.googleusercontent.com/a-/AOh14GiJ9pkFZdHQ4Zthp07GOkrYQq29m1orzwKSoxs2Cg=s64",
      "userId": "16681236576994002363"
     },
     "user_tz": -60
    },
    "id": "nfBWA_Gd3K6j",
    "outputId": "99728242-ea30-4b22-d1b6-073d58e0531a"
   },
   "outputs": [
    {
     "name": "stdout",
     "output_type": "stream",
     "text": [
      "(93, 50, 25)\n",
      "(93, 1)\n"
     ]
    }
   ],
   "source": [
    "# pick the last sequence for each id in the test data\n",
    "sequence_cols = features\n",
    "seq_array_test_last = [X_test[test_df['UnitNumber']==un][sequence_cols].values[-seq_length:] \n",
    "                       for un in test_df['UnitNumber'].unique() if len(test_df[test_df['UnitNumber']== un]) >= seq_length]\n",
    "\n",
    "seq_array_test_last = np.asarray(seq_array_test_last).astype(np.float32)\n",
    "\n",
    "# similarly, we pick the labels\n",
    "y_mask = [len(test_df[test_df['UnitNumber']==un]) >= seq_length for un in test_df['UnitNumber'].unique()]\n",
    "label_array_test_last = test_df.groupby('UnitNumber')['target_RUL'].nth(-1)[y_mask].values\n",
    "label_array_test_last = label_array_test_last.reshape(label_array_test_last.shape[0],1).astype(np.float32)\n",
    "\n",
    "print(seq_array_test_last.shape)\n",
    "print(label_array_test_last.shape)"
   ]
  },
  {
   "cell_type": "code",
   "execution_count": 62,
   "metadata": {
    "colab": {},
    "colab_type": "code",
    "id": "Elby0SbK3K6m"
   },
   "outputs": [],
   "source": [
    "import os\n",
    "# if best iteration's model was saved then load and use it\n",
    "if os.path.isfile(model_path):\n",
    "    estimator = load_model(model_path)\n",
    "\n",
    "    y_pred_test = estimator.predict(seq_array_test_last, batch_size=200)\n",
    "    y_true_test = label_array_test_last"
   ]
  },
  {
   "cell_type": "code",
   "execution_count": 63,
   "metadata": {
    "colab": {
     "base_uri": "https://localhost:8080/",
     "height": 68
    },
    "colab_type": "code",
    "executionInfo": {
     "elapsed": 5150,
     "status": "ok",
     "timestamp": 1585246441474,
     "user": {
      "displayName": "Nicolò Trevisani",
      "photoUrl": "https://lh3.googleusercontent.com/a-/AOh14GiJ9pkFZdHQ4Zthp07GOkrYQq29m1orzwKSoxs2Cg=s64",
      "userId": "16681236576994002363"
     },
     "user_tz": -60
    },
    "id": "i-ji57m53K6s",
    "outputId": "c4b027db-f200-4c93-9fc1-c2fe665ada0b"
   },
   "outputs": [
    {
     "name": "stdout",
     "output_type": "stream",
     "text": [
      "[Test] LSTM Regression Mean Squared Error:  408.06763\n",
      "[Test] LSTM Regression Mean Absolute Error:  14.559148\n",
      "[Test] LSTM Regression r-squared:  0.7575887378709607\n"
     ]
    }
   ],
   "source": [
    "print(\"[Test] LSTM Regression Mean Squared Error: \", mean_squared_error(y_true_test, y_pred_test))\n",
    "print(\"[Test] LSTM Regression Mean Absolute Error: \", mean_absolute_error(y_true_test, y_pred_test))\n",
    "print(\"[Test] LSTM Regression r-squared: \", r2_score(y_true_test, y_pred_test))"
   ]
  },
  {
   "cell_type": "code",
   "execution_count": 64,
   "metadata": {
    "colab": {
     "base_uri": "https://localhost:8080/",
     "height": 367
    },
    "colab_type": "code",
    "executionInfo": {
     "elapsed": 5132,
     "status": "ok",
     "timestamp": 1585246441476,
     "user": {
      "displayName": "Nicolò Trevisani",
      "photoUrl": "https://lh3.googleusercontent.com/a-/AOh14GiJ9pkFZdHQ4Zthp07GOkrYQq29m1orzwKSoxs2Cg=s64",
      "userId": "16681236576994002363"
     },
     "user_tz": -60
    },
    "id": "DlzES-P43K6u",
    "outputId": "08d67d54-f56a-4f88-f695-cc3702e1f61f"
   },
   "outputs": [
    {
     "data": {
      "text/plain": [
       "<matplotlib.legend.Legend at 0x7f8220096e90>"
      ]
     },
     "execution_count": 64,
     "metadata": {},
     "output_type": "execute_result"
    },
    {
     "data": {
      "image/png": "[encoded data removed]",
      "text/plain": [
       "<Figure size 720x360 with 1 Axes>"
      ]
     },
     "metadata": {
      "needs_background": "light"
     },
     "output_type": "display_data"
    }
   ],
   "source": [
    "# Plot in blue color the predicted data and in green color the\n",
    "# actual data to verify visually the accuracy of the model.\n",
    "fig, ax = plt.subplots(figsize=(10, 5))\n",
    "ax.plot(y_pred_test, color=\"blue\")\n",
    "ax.plot(y_true_test, color=\"green\")\n",
    "ax.set_title('prediction on unseen data')\n",
    "ax.set_ylabel('RUL value')\n",
    "ax.set_xlabel('row')\n",
    "ax.legend(['predicted', 'actual data'], loc='lower left')"
   ]
  },
  {
   "cell_type": "markdown",
   "metadata": {
    "colab_type": "text",
    "id": "XBIB4NH83K6w"
   },
   "source": [
    "### Predict Failures using Classification\n",
    "\n",
    "**Will the unit fail within a certain time-frame (i.e. number of cycles)?**\n",
    "\n",
    "This can be though of a classification problem,\n",
    "where the boolean target is whether the unit will fail\n",
    "within the next $n$ timesteps (e.g. 15 cycles).\n",
    "\n",
    "The goal in a (soft) classification problem is to find a function\n",
    "$f_C(\\boldsymbol{x})$ that approximates probabilities of belonging\n",
    "to a set of classes or categories $y$. The\n",
    "target in this problem will be the whether the engine\n",
    "will fail in the next 15 timesteps, while $\\boldsymbol{x}$\n",
    "will be the input features (e.g. sensor readings).\n",
    "\n",
    "To measure the goodness of our classification function, we need\n",
    "to define and score function, which will be also the loss\n",
    "function for the machine learning techniques considered.\n",
    "We will be considering the binary cross entropy:\n",
    "$$ \\textrm{BCE} = \\sum_{i=1}^{n} (y \\log \\left(f_C(\\boldsymbol{x})\\right) - (1-y) y \\log \\left(1-f_C(\\boldsymbol{x}) \\right )$$\n",
    "which is one of the most common losses used for binary\n",
    "classification, and could be extended also to the \n",
    "multiclass/multilabel problem.\n"
   ]
  },
  {
   "cell_type": "code",
   "execution_count": 65,
   "metadata": {
    "colab": {
     "base_uri": "https://localhost:8080/",
     "height": 224
    },
    "colab_type": "code",
    "executionInfo": {
     "elapsed": 561,
     "status": "ok",
     "timestamp": 1585246277848,
     "user": {
      "displayName": "Nicolò Trevisani",
      "photoUrl": "https://lh3.googleusercontent.com/a-/AOh14GiJ9pkFZdHQ4Zthp07GOkrYQq29m1orzwKSoxs2Cg=s64",
      "userId": "16681236576994002363"
     },
     "user_tz": -60
    },
    "id": "YTHO3HbR3K6x",
    "outputId": "b18042bd-a025-4503-c97c-94b0272fee62"
   },
   "outputs": [
    {
     "data": {
      "text/html": [
       "<div>\n",
       "<style scoped>\n",
       "    .dataframe tbody tr th:only-of-type {\n",
       "        vertical-align: middle;\n",
       "    }\n",
       "\n",
       "    .dataframe tbody tr th {\n",
       "        vertical-align: top;\n",
       "    }\n",
       "\n",
       "    .dataframe thead th {\n",
       "        text-align: right;\n",
       "    }\n",
       "</style>\n",
       "<table border=\"1\" class=\"dataframe\">\n",
       "  <thead>\n",
       "    <tr style=\"text-align: right;\">\n",
       "      <th></th>\n",
       "      <th>UnitNumber</th>\n",
       "      <th>Cycle</th>\n",
       "      <th>Op_Setting_1</th>\n",
       "      <th>Op_Setting_2</th>\n",
       "      <th>Op_Setting_3</th>\n",
       "      <th>Sensor_1</th>\n",
       "      <th>Sensor_2</th>\n",
       "      <th>Sensor_3</th>\n",
       "      <th>Sensor_4</th>\n",
       "      <th>Sensor_5</th>\n",
       "      <th>...</th>\n",
       "      <th>Sensor_14</th>\n",
       "      <th>Sensor_15</th>\n",
       "      <th>Sensor_16</th>\n",
       "      <th>Sensor_17</th>\n",
       "      <th>Sensor_18</th>\n",
       "      <th>Sensor_19</th>\n",
       "      <th>Sensor_20</th>\n",
       "      <th>Sensor_21</th>\n",
       "      <th>target_RUL</th>\n",
       "      <th>Target_15_Cycles</th>\n",
       "    </tr>\n",
       "  </thead>\n",
       "  <tbody>\n",
       "    <tr>\n",
       "      <th>20626</th>\n",
       "      <td>100</td>\n",
       "      <td>196</td>\n",
       "      <td>-0.0004</td>\n",
       "      <td>-0.0003</td>\n",
       "      <td>100.0</td>\n",
       "      <td>518.67</td>\n",
       "      <td>643.49</td>\n",
       "      <td>1597.98</td>\n",
       "      <td>1428.63</td>\n",
       "      <td>14.62</td>\n",
       "      <td>...</td>\n",
       "      <td>8137.60</td>\n",
       "      <td>8.4956</td>\n",
       "      <td>0.03</td>\n",
       "      <td>397</td>\n",
       "      <td>2388</td>\n",
       "      <td>100.0</td>\n",
       "      <td>38.49</td>\n",
       "      <td>22.9735</td>\n",
       "      <td>4</td>\n",
       "      <td>1</td>\n",
       "    </tr>\n",
       "    <tr>\n",
       "      <th>20627</th>\n",
       "      <td>100</td>\n",
       "      <td>197</td>\n",
       "      <td>-0.0016</td>\n",
       "      <td>-0.0005</td>\n",
       "      <td>100.0</td>\n",
       "      <td>518.67</td>\n",
       "      <td>643.54</td>\n",
       "      <td>1604.50</td>\n",
       "      <td>1433.58</td>\n",
       "      <td>14.62</td>\n",
       "      <td>...</td>\n",
       "      <td>8136.50</td>\n",
       "      <td>8.5139</td>\n",
       "      <td>0.03</td>\n",
       "      <td>395</td>\n",
       "      <td>2388</td>\n",
       "      <td>100.0</td>\n",
       "      <td>38.30</td>\n",
       "      <td>23.1594</td>\n",
       "      <td>3</td>\n",
       "      <td>1</td>\n",
       "    </tr>\n",
       "    <tr>\n",
       "      <th>20628</th>\n",
       "      <td>100</td>\n",
       "      <td>198</td>\n",
       "      <td>0.0004</td>\n",
       "      <td>0.0000</td>\n",
       "      <td>100.0</td>\n",
       "      <td>518.67</td>\n",
       "      <td>643.42</td>\n",
       "      <td>1602.46</td>\n",
       "      <td>1428.18</td>\n",
       "      <td>14.62</td>\n",
       "      <td>...</td>\n",
       "      <td>8141.05</td>\n",
       "      <td>8.5646</td>\n",
       "      <td>0.03</td>\n",
       "      <td>398</td>\n",
       "      <td>2388</td>\n",
       "      <td>100.0</td>\n",
       "      <td>38.44</td>\n",
       "      <td>22.9333</td>\n",
       "      <td>2</td>\n",
       "      <td>1</td>\n",
       "    </tr>\n",
       "    <tr>\n",
       "      <th>20629</th>\n",
       "      <td>100</td>\n",
       "      <td>199</td>\n",
       "      <td>-0.0011</td>\n",
       "      <td>0.0003</td>\n",
       "      <td>100.0</td>\n",
       "      <td>518.67</td>\n",
       "      <td>643.23</td>\n",
       "      <td>1605.26</td>\n",
       "      <td>1426.53</td>\n",
       "      <td>14.62</td>\n",
       "      <td>...</td>\n",
       "      <td>8139.29</td>\n",
       "      <td>8.5389</td>\n",
       "      <td>0.03</td>\n",
       "      <td>395</td>\n",
       "      <td>2388</td>\n",
       "      <td>100.0</td>\n",
       "      <td>38.29</td>\n",
       "      <td>23.0640</td>\n",
       "      <td>1</td>\n",
       "      <td>1</td>\n",
       "    </tr>\n",
       "    <tr>\n",
       "      <th>20630</th>\n",
       "      <td>100</td>\n",
       "      <td>200</td>\n",
       "      <td>-0.0032</td>\n",
       "      <td>-0.0005</td>\n",
       "      <td>100.0</td>\n",
       "      <td>518.67</td>\n",
       "      <td>643.85</td>\n",
       "      <td>1600.38</td>\n",
       "      <td>1432.14</td>\n",
       "      <td>14.62</td>\n",
       "      <td>...</td>\n",
       "      <td>8137.33</td>\n",
       "      <td>8.5036</td>\n",
       "      <td>0.03</td>\n",
       "      <td>396</td>\n",
       "      <td>2388</td>\n",
       "      <td>100.0</td>\n",
       "      <td>38.37</td>\n",
       "      <td>23.0522</td>\n",
       "      <td>0</td>\n",
       "      <td>1</td>\n",
       "    </tr>\n",
       "  </tbody>\n",
       "</table>\n",
       "<p>5 rows × 28 columns</p>\n",
       "</div>"
      ],
      "text/plain": [
       "       UnitNumber  Cycle  Op_Setting_1  Op_Setting_2  Op_Setting_3  Sensor_1  \\\n",
       "20626         100    196       -0.0004       -0.0003         100.0    518.67   \n",
       "20627         100    197       -0.0016       -0.0005         100.0    518.67   \n",
       "20628         100    198        0.0004        0.0000         100.0    518.67   \n",
       "20629         100    199       -0.0011        0.0003         100.0    518.67   \n",
       "20630         100    200       -0.0032       -0.0005         100.0    518.67   \n",
       "\n",
       "       Sensor_2  Sensor_3  Sensor_4  Sensor_5  ...  Sensor_14  Sensor_15  \\\n",
       "20626    643.49   1597.98   1428.63     14.62  ...    8137.60     8.4956   \n",
       "20627    643.54   1604.50   1433.58     14.62  ...    8136.50     8.5139   \n",
       "20628    643.42   1602.46   1428.18     14.62  ...    8141.05     8.5646   \n",
       "20629    643.23   1605.26   1426.53     14.62  ...    8139.29     8.5389   \n",
       "20630    643.85   1600.38   1432.14     14.62  ...    8137.33     8.5036   \n",
       "\n",
       "       Sensor_16  Sensor_17  Sensor_18  Sensor_19  Sensor_20  Sensor_21  \\\n",
       "20626       0.03        397       2388      100.0      38.49    22.9735   \n",
       "20627       0.03        395       2388      100.0      38.30    23.1594   \n",
       "20628       0.03        398       2388      100.0      38.44    22.9333   \n",
       "20629       0.03        395       2388      100.0      38.29    23.0640   \n",
       "20630       0.03        396       2388      100.0      38.37    23.0522   \n",
       "\n",
       "       target_RUL  Target_15_Cycles  \n",
       "20626           4                 1  \n",
       "20627           3                 1  \n",
       "20628           2                 1  \n",
       "20629           1                 1  \n",
       "20630           0                 1  \n",
       "\n",
       "[5 rows x 28 columns]"
      ]
     },
     "execution_count": 65,
     "metadata": {},
     "output_type": "execute_result"
    }
   ],
   "source": [
    "from sklearn.model_selection import train_test_split\n",
    "\n",
    "# we can keep the same input features, we have only to compute the\n",
    "# new target (we will only use the train set for classification)\n",
    "cycles = 15\n",
    "train_df['Target_15_Cycles'] = np.where(train_df['target_RUL'] <= cycles, 1, 0 )\n",
    "\n",
    "y_clf = train_df[\"Target_15_Cycles\"]\n",
    "\n",
    "X_clf_train, X_clf_test, y_clf_train, y_clf_test = train_test_split(X, y_clf, test_size=0.2, random_state=1234)\n",
    "\n",
    "train_df.tail()"
   ]
  },
  {
   "cell_type": "markdown",
   "metadata": {
    "colab_type": "text",
    "id": "8UC4ms0w3K60"
   },
   "source": [
    "#### Gradient Boosting for Classification\n",
    "\n",
    "Similarly to what was done for the regression problem and given\n",
    "the good performance observed for the Gradient Boosting model,\n",
    "we will train a gradient boosted model for classification.\n"
   ]
  },
  {
   "cell_type": "code",
   "execution_count": 66,
   "metadata": {
    "colab": {
     "base_uri": "https://localhost:8080/",
     "height": 493
    },
    "colab_type": "code",
    "executionInfo": {
     "elapsed": 155663,
     "status": "ok",
     "timestamp": 1585246436235,
     "user": {
      "displayName": "Nicolò Trevisani",
      "photoUrl": "https://lh3.googleusercontent.com/a-/AOh14GiJ9pkFZdHQ4Zthp07GOkrYQq29m1orzwKSoxs2Cg=s64",
      "userId": "16681236576994002363"
     },
     "user_tz": -60
    },
    "id": "m5GxPyxw3K60",
    "outputId": "314169d4-0745-4dc2-c0c1-2add16fdcf01"
   },
   "outputs": [
    {
     "name": "stdout",
     "output_type": "stream",
     "text": [
      "Fitting 3 folds for each of 1 candidates, totalling 3 fits\n"
     ]
    },
    {
     "name": "stderr",
     "output_type": "stream",
     "text": [
      "[Parallel(n_jobs=-1)]: Using backend LokyBackend with 8 concurrent workers.\n",
      "[Parallel(n_jobs=-1)]: Done   3 out of   3 | elapsed:   33.0s finished\n"
     ]
    },
    {
     "data": {
      "text/plain": [
       "GridSearchCV(cv=KFold(n_splits=3, random_state=None, shuffle=False),\n",
       "             error_score=nan,\n",
       "             estimator=GradientBoostingClassifier(ccp_alpha=0.0,\n",
       "                                                  criterion='friedman_mse',\n",
       "                                                  init=None, learning_rate=0.1,\n",
       "                                                  loss='deviance', max_depth=3,\n",
       "                                                  max_features=None,\n",
       "                                                  max_leaf_nodes=None,\n",
       "                                                  min_impurity_decrease=0.0,\n",
       "                                                  min_impurity_split=None,\n",
       "                                                  min_samples_leaf=1,\n",
       "                                                  min_samples_split=2,\n",
       "                                                  min_weigh...on_leaf=0.0,\n",
       "                                                  n_estimators=100,\n",
       "                                                  n_iter_no_change=None,\n",
       "                                                  presort='deprecated',\n",
       "                                                  random_state=None,\n",
       "                                                  subsample=1.0, tol=0.0001,\n",
       "                                                  validation_fraction=0.1,\n",
       "                                                  verbose=0, warm_start=False),\n",
       "             iid='deprecated', n_jobs=-1,\n",
       "             param_grid={'learning_rate': [0.01], 'max_depth': [6],\n",
       "                         'n_estimators': [500]},\n",
       "             pre_dispatch='2*n_jobs', refit=True, return_train_score=False,\n",
       "             scoring=None, verbose=1)"
      ]
     },
     "execution_count": 66,
     "metadata": {},
     "output_type": "execute_result"
    }
   ],
   "source": [
    "from sklearn.model_selection import KFold, GridSearchCV\n",
    "from sklearn.ensemble import GradientBoostingClassifier\n",
    "\n",
    "gb_clf = GradientBoostingClassifier()\n",
    "\n",
    "# to avoid having same UnitNumber in both sets\n",
    "cv = KFold(3)\n",
    "\n",
    "param_grid = { \"n_estimators\" : [500],\n",
    "               \"learning_rate\" :  [.01],\n",
    "                \"max_depth\" : [6]\n",
    "             }\n",
    "\n",
    "optimized_gb_clf = GridSearchCV(estimator=gb_clf,\n",
    "                            cv = cv,\n",
    "                            param_grid=param_grid,\n",
    "                            verbose = 1,\n",
    "                            n_jobs = -1)\n",
    "\n",
    "optimized_gb_clf.fit(X_clf_train, y_clf_train)"
   ]
  },
  {
   "cell_type": "code",
   "execution_count": 67,
   "metadata": {
    "colab": {
     "base_uri": "https://localhost:8080/",
     "height": 289
    },
    "colab_type": "code",
    "executionInfo": {
     "elapsed": 760,
     "status": "ok",
     "timestamp": 1585246436998,
     "user": {
      "displayName": "Nicolò Trevisani",
      "photoUrl": "https://lh3.googleusercontent.com/a-/AOh14GiJ9pkFZdHQ4Zthp07GOkrYQq29m1orzwKSoxs2Cg=s64",
      "userId": "16681236576994002363"
     },
     "user_tz": -60
    },
    "id": "0LcoilQM3K62",
    "outputId": "393751d4-01e6-42c6-f13a-df97a2edffb9"
   },
   "outputs": [
    {
     "name": "stdout",
     "output_type": "stream",
     "text": [
      "Confusion Matrix:\n",
      "[[3787   55]\n",
      " [  31  254]]\n",
      "Gradient Boosting Classifier Accuracy: 97.9%\n",
      "Gradient Boosting Classifier Precision: 82.2%\n",
      "Gradient Boosting Classifier Recall: 89.1%\n",
      "Classification Report:\n",
      "              precision    recall  f1-score   support\n",
      "\n",
      "           0       0.99      0.99      0.99      3842\n",
      "           1       0.82      0.89      0.86       285\n",
      "\n",
      "    accuracy                           0.98      4127\n",
      "   macro avg       0.91      0.94      0.92      4127\n",
      "weighted avg       0.98      0.98      0.98      4127\n",
      "\n"
     ]
    }
   ],
   "source": [
    "from sklearn.metrics import roc_auc_score, accuracy_score, precision_score, recall_score, confusion_matrix\n",
    "from sklearn.metrics import classification_report\n",
    "\n",
    "y_test_clf_proba = optimized_gb_clf.predict_proba(X_clf_test)[:, 1]\n",
    "y_test_clf_pred = optimized_gb_clf.predict(X_clf_test)\n",
    "\n",
    "print(\"Confusion Matrix:\")\n",
    "print(confusion_matrix(y_clf_test,y_test_clf_pred))\n",
    "print(\"Gradient Boosting Classifier Accuracy: \"+\"{:.1%}\".format(accuracy_score(y_clf_test,y_test_clf_pred)));\n",
    "print(\"Gradient Boosting Classifier Precision: \"+\"{:.1%}\".format(precision_score(y_clf_test,y_test_clf_pred)));\n",
    "print(\"Gradient Boosting Classifier Recall: \"+\"{:.1%}\".format(recall_score(y_clf_test,y_test_clf_pred)));\n",
    "print(\"Classification Report:\")\n",
    "print(classification_report(y_clf_test,y_test_clf_pred))\n"
   ]
  },
  {
   "cell_type": "code",
   "execution_count": 68,
   "metadata": {
    "colab": {
     "base_uri": "https://localhost:8080/",
     "height": 312
    },
    "colab_type": "code",
    "executionInfo": {
     "elapsed": 1150,
     "status": "ok",
     "timestamp": 1585246437411,
     "user": {
      "displayName": "Nicolò Trevisani",
      "photoUrl": "https://lh3.googleusercontent.com/a-/AOh14GiJ9pkFZdHQ4Zthp07GOkrYQq29m1orzwKSoxs2Cg=s64",
      "userId": "16681236576994002363"
     },
     "user_tz": -60
    },
    "id": "A5RSohhH3K66",
    "outputId": "5f48f82a-234f-4883-db71-5e7568eb1968"
   },
   "outputs": [
    {
     "data": {
      "text/plain": [
       "Text(0.5, 0, 'False Positive Rate')"
      ]
     },
     "execution_count": 68,
     "metadata": {},
     "output_type": "execute_result"
    },
    {
     "data": {
      "image/png": "[encoded data removed]",
      "text/plain": [
       "<Figure size 432x288 with 1 Axes>"
      ]
     },
     "metadata": {
      "needs_background": "light"
     },
     "output_type": "display_data"
    }
   ],
   "source": [
    "from sklearn import metrics\n",
    "\n",
    "fpr, tpr, threshold = metrics.roc_curve(y_clf_test,y_test_clf_proba)\n",
    "roc_auc = metrics.auc(fpr, tpr)\n",
    "\n",
    "fig, ax = plt.subplots()\n",
    "\n",
    "ax.set_title('Receiver Operating Characteristic Curve')\n",
    "ax.plot(fpr, tpr, 'b', label = 'AUC = %0.2f' % roc_auc)\n",
    "ax.legend(loc = 'lower right')\n",
    "ax.plot([0, 1], [0, 1],'r--')\n",
    "ax.set_xlim([0, 1])\n",
    "ax.set_ylim([0, 1])\n",
    "ax.set_ylabel('True Positive Rate')\n",
    "ax.set_xlabel('False Positive Rate')\n"
   ]
  },
  {
   "cell_type": "markdown",
   "metadata": {
    "colab_type": "text",
    "id": "3tRHSwji3K68"
   },
   "source": [
    "#### Advanced Exercise: Recurrent Neural Network Model for Classification\n",
    "\n",
    "Based on the previous regression example and the classification\n",
    "target, train and evaluate a model for predictive\n",
    "maintenance classification using a LSTM."
   ]
  },
  {
   "cell_type": "code",
   "execution_count": null,
   "metadata": {
    "colab": {},
    "colab_type": "code",
    "id": "I4ViwGSV3K6-"
   },
   "outputs": [],
   "source": [
    "# space for the exercise solution\n",
    "\n",
    "from tensorflow import keras\n",
    "from tensorflow.keras.models import Sequential,load_model\n",
    "from tensorflow.keras.layers import Dense, Dropout, LSTM, Activation\n",
    "\n",
    "# define path to save model\n",
    "model_path_2 = 'classfication_model.h5'"
   ]
  },
  {
   "cell_type": "code",
   "execution_count": null,
   "metadata": {
    "colab": {},
    "colab_type": "code",
    "id": "I4ViwGSV3K6-"
   },
   "outputs": [],
   "source": [
    "# pick a large window size of 50 cycles\n",
    "seq_length = 50\n",
    "\n",
    "# generator to reshape features into (samples, time steps, features) \n",
    "def gen_sequence(unit_number_df, seq_length = seq_length, seq_cols = features):\n",
    "    \"\"\" Only sequences that meet the window-length are considered, no padding is used. This means for testing\n",
    "    we need to drop those which are below the window-length. An alternative would be to pad sequences so that\n",
    "    we can use shorter ones \"\"\"\n",
    "    # for one unit number I put all the rows in a single matrix\n",
    "    data_matrix = unit_number_df[seq_cols].values\n",
    "    num_elements = data_matrix.shape[0]\n",
    "    # Iterate over two lists in parallel.\n",
    "    # For example UnitNumber 1 have 192 rows and sequence_length is equal to 50\n",
    "    # so zip iterate over two following list of numbers\n",
    "    # 0 50 -> from row 0 to row 50\n",
    "    # 1 51 -> from row 1 to row 51\n",
    "    # 2 52 -> from row 2 to row 52\n",
    "    # ...\n",
    "    # 111 191 -> from row 111 to 191\n",
    "    for start, stop in zip(range(0, num_elements-seq_length), range(seq_length, num_elements)):\n",
    "        yield data_matrix[start:stop, :]\n",
    "\n",
    "# test, it has to be 142 (192-seq_length)\n",
    "val=list(gen_sequence(X[train_df['UnitNumber']==1]))\n",
    "print(len(val))"
   ]
  },
  {
   "cell_type": "code",
   "execution_count": 76,
   "metadata": {
    "colab": {},
    "colab_type": "code",
    "id": "I4ViwGSV3K6-"
   },
   "outputs": [
    {
     "name": "stdout",
     "output_type": "stream",
     "text": [
      "(15631, 50, 25)\n"
     ]
    },
    {
     "data": {
      "text/plain": [
       "array([[[-1.5651702 , -0.3159797 , -1.3729532 , ...,  1.1211406 ,\n",
       "         -0.5163384 , -0.8628133 ],\n",
       "        [-1.550652  ,  0.8727219 , -1.0317204 , ...,  0.43193018,\n",
       "         -0.798093  , -0.9588176 ],\n",
       "        [-1.5361339 , -1.9618742 ,  1.0156767 , ...,  1.0081552 ,\n",
       "         -0.23458381, -0.5571393 ],\n",
       "        ...,\n",
       "        [-0.8828174 ,  0.8727219 ,  0.33321103, ...,  0.7369905 ,\n",
       "         -0.23458381, -0.9049284 ],\n",
       "        [-0.86829925, -0.6360147 ,  1.6981424 , ...,  0.9742597 ,\n",
       "         -0.3754611 , -0.6612949 ],\n",
       "        [-0.8537811 , -1.458962  , -0.34925467, ...,  0.6240052 ,\n",
       "         -0.5163384 , -0.75367635]],\n",
       "\n",
       "       [[-1.550652  ,  0.8727219 , -1.0317204 , ...,  0.43193018,\n",
       "         -0.798093  , -0.9588176 ],\n",
       "        [-1.5361339 , -1.9618742 ,  1.0156767 , ...,  1.0081552 ,\n",
       "         -0.23458381, -0.5571393 ],\n",
       "        [-1.5216157 ,  0.32409042, -0.00802181, ...,  1.2228273 ,\n",
       "          0.18804808, -0.7138255 ],\n",
       "        ...,\n",
       "        [-0.86829925, -0.6360147 ,  1.6981424 , ...,  0.9742597 ,\n",
       "         -0.3754611 , -0.6612949 ],\n",
       "        [-0.8537811 , -1.458962  , -0.34925467, ...,  0.6240052 ,\n",
       "         -0.5163384 , -0.75367635],\n",
       "        [-0.83926296, -0.45313755,  1.0156767 , ...,  0.4093331 ,\n",
       "         -1.0798476 , -0.8220568 ]],\n",
       "\n",
       "       [[-1.5361339 , -1.9618742 ,  1.0156767 , ...,  1.0081552 ,\n",
       "         -0.23458381, -0.5571393 ],\n",
       "        [-1.5216157 ,  0.32409042, -0.00802181, ...,  1.2228273 ,\n",
       "          0.18804808, -0.7138255 ],\n",
       "        [-1.5070976 , -0.8646112 , -0.6904875 , ...,  0.71439344,\n",
       "         -0.5163384 , -0.4570593 ],\n",
       "        ...,\n",
       "        [-0.8537811 , -1.458962  , -0.34925467, ...,  0.6240052 ,\n",
       "         -0.5163384 , -0.75367635],\n",
       "        [-0.83926296, -0.45313755,  1.0156767 , ...,  0.4093331 ,\n",
       "         -1.0798476 , -0.8220568 ],\n",
       "        [-0.8247448 ,  0.82700264, -0.34925467, ..., -0.37026554,\n",
       "         -0.798093  , -0.41811416]],\n",
       "\n",
       "       ...,\n",
       "\n",
       "       [[ 0.56899714,  0.7812833 ,  1.0156767 , ..., -0.37026554,\n",
       "          0.32892537, -0.0757592 ],\n",
       "        [ 0.5835153 ,  1.2841955 , -0.34925467, ..., -0.46065378,\n",
       "          1.3150665 ,  0.25663304],\n",
       "        [ 0.5980334 , -0.04166392, -1.0317204 , ..., -0.4380567 ,\n",
       "         -0.09370652,  0.07096435],\n",
       "        ...,\n",
       "        [ 1.25135   , -0.08738322, -0.34925467, ..., -2.2006276 ,\n",
       "          1.8785757 ,  0.20138529],\n",
       "        [ 1.2658682 , -0.1788218 , -1.0317204 , ..., -2.1893291 ,\n",
       "          1.3150665 ,  0.01254664],\n",
       "        [ 1.2803863 , -0.7274533 , -1.7141861 , ..., -2.8333454 ,\n",
       "          1.8785757 , -0.00602023]],\n",
       "\n",
       "       [[ 0.5835153 ,  1.2841955 , -0.34925467, ..., -0.46065378,\n",
       "          1.3150665 ,  0.25663304],\n",
       "        [ 0.5980334 , -0.04166392, -1.0317204 , ..., -0.4380567 ,\n",
       "         -0.09370652,  0.07096435],\n",
       "        [ 0.61255157,  2.0614235 ,  1.0156767 , ..., -0.551042  ,\n",
       "          1.0333118 ,  0.07322861],\n",
       "        ...,\n",
       "        [ 1.2658682 , -0.1788218 , -1.0317204 , ..., -2.1893291 ,\n",
       "          1.3150665 ,  0.01254664],\n",
       "        [ 1.2803863 , -0.7274533 , -1.7141861 , ..., -2.8333454 ,\n",
       "          1.8785757 , -0.00602023],\n",
       "        [ 1.2949045 ,  0.18693253, -0.00802181, ..., -2.742957  ,\n",
       "          2.019453  ,  0.02975496]],\n",
       "\n",
       "       [[ 0.5980334 , -0.04166392, -1.0317204 , ..., -0.4380567 ,\n",
       "         -0.09370652,  0.07096435],\n",
       "        [ 0.61255157,  2.0614235 ,  1.0156767 , ..., -0.551042  ,\n",
       "          1.0333118 ,  0.07322861],\n",
       "        [ 0.6270698 , -0.45313755, -0.6904875 , ..., -0.7883112 ,\n",
       "          0.32892537,  0.43867892],\n",
       "        ...,\n",
       "        [ 1.2803863 , -0.7274533 , -1.7141861 , ..., -2.8333454 ,\n",
       "          1.8785757 , -0.00602023],\n",
       "        [ 1.2949045 ,  0.18693253, -0.00802181, ..., -2.742957  ,\n",
       "          2.019453  ,  0.02975496],\n",
       "        [ 1.3094226 , -0.49885684,  1.0156767 , ..., -3.0367188 ,\n",
       "          2.1603303 ,  0.383884  ]]], dtype=float32)"
      ]
     },
     "execution_count": 76,
     "metadata": {},
     "output_type": "execute_result"
    }
   ],
   "source": [
    "# generator for the sequences\n",
    "# transform each UnitNumber\n",
    "# of the train dataset in a sequence\n",
    "seq_gen = (list(gen_sequence(X[train_df['UnitNumber']== un])) \n",
    "           for un in train_df['UnitNumber'].unique())\n",
    "\n",
    "# convert sequences and convert to numpy array\n",
    "seq_array = np.concatenate(list(seq_gen)).astype(np.float32)\n",
    "print(seq_array.shape)\n",
    "\n",
    "seq_array"
   ]
  },
  {
   "cell_type": "code",
   "execution_count": 84,
   "metadata": {
    "colab": {},
    "colab_type": "code",
    "id": "I4ViwGSV3K6-"
   },
   "outputs": [
    {
     "data": {
      "text/plain": [
       "array([[1.],\n",
       "       [1.],\n",
       "       [1.],\n",
       "       ...,\n",
       "       [0.],\n",
       "       [0.],\n",
       "       [0.]], dtype=float32)"
      ]
     },
     "execution_count": 84,
     "metadata": {},
     "output_type": "execute_result"
    }
   ],
   "source": [
    "# function to generate labels\n",
    "def gen_labels(unit_number_df, seq_length = seq_length,\n",
    "               label = [\"target_RUL\"]):\n",
    "    \"\"\" Only sequences that meet the window-length are considered, no padding is used. This means for testing\n",
    "    we need to drop those which are below the window-length. An alternative would be to pad sequences so that\n",
    "    we can use shorter ones \"\"\"\n",
    "    # For one id I put all the labels in a single matrix.\n",
    "    # For example:\n",
    "    # [[1]\n",
    "    # [4]\n",
    "    # [1]\n",
    "    # [5]\n",
    "    # [9]\n",
    "    # ...\n",
    "    # [200]] \n",
    "    data_matrix = unit_number_df[label].values\n",
    "    num_elements = data_matrix.shape[0]\n",
    "    # I have to remove the first seq_length labels\n",
    "    # because for one id the first sequence of seq_length size have as target\n",
    "    # the last label (the previus ones are discarded).\n",
    "    # All the next id's sequences will have associated step by step one label as target.\n",
    "    return data_matrix[seq_length:num_elements, :]\n",
    "\n",
    "# generate labels\n",
    "label_gen_class = [gen_labels(train_df[train_df['UnitNumber'] == un]) \n",
    "             for un in train_df['UnitNumber'].unique()]\n",
    "\n",
    "label_array = np.concatenate(label_gen).astype(np.float32)\n",
    "label_array.shape\n",
    "\n",
    "label_array_class = label_array\n",
    "label_array_class[label_array_class < 15] = 0\n",
    "label_array_class[label_array_class > 15] = 1\n",
    "\n",
    "label_array_class"
   ]
  },
  {
   "cell_type": "code",
   "execution_count": 93,
   "metadata": {
    "colab": {},
    "colab_type": "code",
    "id": "I4ViwGSV3K6-"
   },
   "outputs": [
    {
     "name": "stdout",
     "output_type": "stream",
     "text": [
      "Model: \"sequential_2\"\n",
      "_________________________________________________________________\n",
      "Layer (type)                 Output Shape              Param #   \n",
      "=================================================================\n",
      "lstm_4 (LSTM)                (None, 50, 100)           50400     \n",
      "_________________________________________________________________\n",
      "dropout_4 (Dropout)          (None, 50, 100)           0         \n",
      "_________________________________________________________________\n",
      "lstm_5 (LSTM)                (None, 50)                30200     \n",
      "_________________________________________________________________\n",
      "dropout_5 (Dropout)          (None, 50)                0         \n",
      "_________________________________________________________________\n",
      "dense_2 (Dense)              (None, 1)                 51        \n",
      "_________________________________________________________________\n",
      "activation_2 (Activation)    (None, 1)                 0         \n",
      "=================================================================\n",
      "Total params: 80,651\n",
      "Trainable params: 80,651\n",
      "Non-trainable params: 0\n",
      "_________________________________________________________________\n",
      "None\n"
     ]
    }
   ],
   "source": [
    "# Next, we build a deep network. \n",
    "# The first layer is an LSTM layer with 100 units followed by another LSTM layer with 50 units. \n",
    "# Dropout is also applied after each LSTM layer to control overfitting. \n",
    "# Final layer is a Dense output layer with single unit and linear activation since this is a regression problem.\n",
    "nb_features = seq_array.shape[2]\n",
    "nb_out = label_array.shape[1]\n",
    "\n",
    "model = Sequential()\n",
    "model.add(LSTM(\n",
    "         input_shape=(seq_length, nb_features),\n",
    "         units=100,\n",
    "         return_sequences=True))\n",
    "model.add(Dropout(0.5))\n",
    "model.add(LSTM(\n",
    "          units=50,\n",
    "          return_sequences=False))\n",
    "model.add(Dropout(0.5))\n",
    "model.add(Dense(units=1))\n",
    "model.add(Activation(\"sigmoid\"))\n",
    "\n",
    "# feel free to change the learning rate and experiment\n",
    "optimizer = keras.optimizers.RMSprop(learning_rate=0.01, rho=0.9)\n",
    "\n",
    "model.compile(loss='binary_crossentropy', \n",
    "              optimizer=optimizer,\n",
    "              metrics=['acc'])\n",
    "\n",
    "print(model.summary())"
   ]
  },
  {
   "cell_type": "code",
   "execution_count": 94,
   "metadata": {
    "colab": {},
    "colab_type": "code",
    "id": "I4ViwGSV3K6-"
   },
   "outputs": [
    {
     "name": "stdout",
     "output_type": "stream",
     "text": [
      "Train on 14849 samples, validate on 782 samples\n",
      "Epoch 1/50\n",
      "14849/14849 - 11s - loss: 0.0590 - acc: 0.8900 - val_loss: -9.4936e-02 - val_acc: 0.8977\n",
      "Epoch 2/50\n",
      "14849/14849 - 8s - loss: -3.9681e-02 - acc: 0.9139 - val_loss: 0.0757 - val_acc: 0.9322\n",
      "Epoch 3/50\n",
      "14849/14849 - 7s - loss: -1.5579e-01 - acc: 0.9247 - val_loss: -3.5589e-01 - val_acc: 0.9182\n",
      "Epoch 4/50\n",
      "14849/14849 - 7s - loss: -3.1651e-01 - acc: 0.9352 - val_loss: -3.9433e-01 - val_acc: 0.9706\n",
      "Epoch 5/50\n",
      "14849/14849 - 7s - loss: -3.1855e-01 - acc: 0.9312 - val_loss: -2.6044e-01 - val_acc: 0.9578\n",
      "Epoch 6/50\n",
      "14849/14849 - 7s - loss: -4.2945e-01 - acc: 0.9328 - val_loss: -5.3757e-01 - val_acc: 0.9591\n",
      "Epoch 7/50\n",
      "14849/14849 - 7s - loss: -4.5390e-01 - acc: 0.9404 - val_loss: -5.1321e-01 - val_acc: 0.9450\n",
      "Epoch 8/50\n",
      "14849/14849 - 8s - loss: -7.3019e-01 - acc: 0.9373 - val_loss: -1.8657e-01 - val_acc: 0.9015\n",
      "Epoch 9/50\n",
      "14849/14849 - 8s - loss: -5.7027e-01 - acc: 0.9358 - val_loss: -8.8586e-01 - val_acc: 0.9412\n",
      "Epoch 10/50\n",
      "14849/14849 - 8s - loss: -8.5060e-01 - acc: 0.9354 - val_loss: -1.3061e+00 - val_acc: 0.9322\n",
      "Epoch 11/50\n",
      "14849/14849 - 8s - loss: -9.5679e-01 - acc: 0.9425 - val_loss: -2.9753e-03 - val_acc: 0.9003\n",
      "Epoch 12/50\n",
      "14849/14849 - 8s - loss: -6.2615e-01 - acc: 0.9341 - val_loss: -1.0852e+00 - val_acc: 0.9437\n",
      "Epoch 13/50\n",
      "14849/14849 - 8s - loss: -7.3539e-01 - acc: 0.9360 - val_loss: -1.6561e+00 - val_acc: 0.9322\n",
      "Epoch 14/50\n",
      "14849/14849 - 8s - loss: -1.0440e+00 - acc: 0.9384 - val_loss: -1.7238e+00 - val_acc: 0.9348\n",
      "Epoch 15/50\n",
      "14849/14849 - 7s - loss: -1.3072e+00 - acc: 0.9370 - val_loss: -1.6714e+00 - val_acc: 0.9437\n",
      "Epoch 16/50\n",
      "14849/14849 - 8s - loss: -1.5035e+00 - acc: 0.9355 - val_loss: -6.9791e-01 - val_acc: 0.9668\n",
      "Epoch 17/50\n",
      "14849/14849 - 8s - loss: -2.4168e+00 - acc: 0.9399 - val_loss: -1.7326e+00 - val_acc: 0.9642\n",
      "Epoch 18/50\n",
      "14849/14849 - 8s - loss: -2.0030e+00 - acc: 0.9444 - val_loss: -2.0553e+00 - val_acc: 0.9118\n",
      "Epoch 19/50\n",
      "14849/14849 - 8s - loss: -1.8358e+00 - acc: 0.9356 - val_loss: -2.8748e+00 - val_acc: 0.9309\n",
      "Epoch 20/50\n",
      "14849/14849 - 8s - loss: -1.9849e+00 - acc: 0.9417 - val_loss: -2.5444e+00 - val_acc: 0.9680\n",
      "Epoch 21/50\n",
      "14849/14849 - 8s - loss: -3.0059e+00 - acc: 0.9426 - val_loss: -2.8893e+00 - val_acc: 0.9642\n",
      "Epoch 22/50\n",
      "14849/14849 - 8s - loss: -2.3317e+00 - acc: 0.9418 - val_loss: -2.6606e+00 - val_acc: 0.9425\n",
      "Epoch 23/50\n",
      "14849/14849 - 7s - loss: -2.6748e+00 - acc: 0.9442 - val_loss: -2.5025e+00 - val_acc: 0.9616\n",
      "Epoch 24/50\n",
      "14849/14849 - 8s - loss: -3.0370e+00 - acc: 0.9409 - val_loss: -1.0893e+00 - val_acc: 0.9105\n",
      "Epoch 25/50\n",
      "14849/14849 - 7s - loss: -3.0274e+00 - acc: 0.9419 - val_loss: -2.5845e+00 - val_acc: 0.9194\n",
      "Epoch 26/50\n",
      "14849/14849 - 7s - loss: -2.0034e+00 - acc: 0.9432 - val_loss: -2.9448e+00 - val_acc: 0.9425\n",
      "Epoch 27/50\n",
      "14849/14849 - 8s - loss: -3.5730e+00 - acc: 0.9460 - val_loss: -3.6262e+00 - val_acc: 0.9450\n",
      "Epoch 28/50\n",
      "14849/14849 - 8s - loss: -1.5618e+00 - acc: 0.9392 - val_loss: -1.7376e+00 - val_acc: 0.9130\n",
      "Epoch 29/50\n",
      "14849/14849 - 8s - loss: -2.1048e+00 - acc: 0.9460 - val_loss: -3.1571e+00 - val_acc: 0.9450\n",
      "Epoch 30/50\n",
      "14849/14849 - 7s - loss: -2.7707e+00 - acc: 0.9467 - val_loss: -3.5112e+00 - val_acc: 0.9335\n",
      "Epoch 31/50\n",
      "14849/14849 - 7s - loss: -2.4749e+00 - acc: 0.9400 - val_loss: -6.0268e-01 - val_acc: 0.9182\n",
      "Epoch 32/50\n",
      "14849/14849 - 8s - loss: -4.3457e+00 - acc: 0.9499 - val_loss: -6.4488e+00 - val_acc: 0.9450\n",
      "Epoch 33/50\n",
      "14849/14849 - 8s - loss: -4.7608e+00 - acc: 0.9494 - val_loss: -4.5893e+00 - val_acc: 0.9668\n",
      "Epoch 34/50\n",
      "14849/14849 - 8s - loss: -2.6461e+00 - acc: 0.9488 - val_loss: -4.7412e+00 - val_acc: 0.9565\n",
      "Epoch 35/50\n",
      "14849/14849 - 7s - loss: -4.8768e+00 - acc: 0.9507 - val_loss: -5.0271e+00 - val_acc: 0.9437\n",
      "Epoch 36/50\n",
      "14849/14849 - 7s - loss: -4.0704e+00 - acc: 0.9477 - val_loss: -4.2314e+00 - val_acc: 0.9425\n",
      "Epoch 37/50\n",
      "14849/14849 - 7s - loss: -3.3097e+00 - acc: 0.9413 - val_loss: -1.9508e+00 - val_acc: 0.9284\n",
      "Epoch 38/50\n",
      "14849/14849 - 7s - loss: -3.1892e+00 - acc: 0.9432 - val_loss: -5.6075e+00 - val_acc: 0.9233\n",
      "Epoch 39/50\n",
      "14849/14849 - 7s - loss: -6.0720e+00 - acc: 0.9452 - val_loss: -4.4797e+00 - val_acc: 0.9693\n",
      "Epoch 40/50\n",
      "14849/14849 - 8s - loss: -5.6240e+00 - acc: 0.9499 - val_loss: -4.6853e+00 - val_acc: 0.9092\n",
      "Epoch 41/50\n",
      "14849/14849 - 7s - loss: -5.4139e+00 - acc: 0.9471 - val_loss: -8.6507e+00 - val_acc: 0.9373\n",
      "Epoch 42/50\n",
      "14849/14849 - 8s - loss: -5.5618e+00 - acc: 0.9475 - val_loss: -4.9695e+00 - val_acc: 0.9476\n",
      "Epoch 43/50\n",
      "14849/14849 - 7s - loss: -4.8811e+00 - acc: 0.9466 - val_loss: -7.4936e+00 - val_acc: 0.9373\n",
      "Epoch 44/50\n",
      "14849/14849 - 8s - loss: -8.1338e+00 - acc: 0.9429 - val_loss: -1.0588e+01 - val_acc: 0.9284\n",
      "Epoch 45/50\n",
      "14849/14849 - 8s - loss: -9.2119e+00 - acc: 0.9489 - val_loss: -7.5896e+00 - val_acc: 0.9450\n",
      "Epoch 46/50\n",
      "14849/14849 - 7s - loss: -6.1424e+00 - acc: 0.9405 - val_loss: -5.7896e+00 - val_acc: 0.9616\n",
      "Epoch 47/50\n",
      "14849/14849 - 7s - loss: -6.5439e+00 - acc: 0.9518 - val_loss: -6.9991e+00 - val_acc: 0.9719\n",
      "Epoch 48/50\n",
      "14849/14849 - 8s - loss: -7.6289e+00 - acc: 0.9426 - val_loss: -5.8430e+00 - val_acc: 0.9207\n",
      "Epoch 49/50\n",
      "14849/14849 - 8s - loss: -1.0145e+01 - acc: 0.9517 - val_loss: -7.6214e+00 - val_acc: 0.9373\n",
      "Epoch 50/50\n",
      "14849/14849 - 8s - loss: -8.2850e+00 - acc: 0.9487 - val_loss: -9.7461e+00 - val_acc: 0.9476\n"
     ]
    }
   ],
   "source": [
    "# fit the network\n",
    "history = model.fit(seq_array, label_array_class,epochs=50, batch_size=200, validation_split=0.05, verbose=2,\n",
    "          callbacks = [keras.callbacks.EarlyStopping(monitor='val_loss', min_delta=0, patience=10, verbose=0, mode='min'),\n",
    "                       keras.callbacks.ModelCheckpoint(model_path,monitor='val_loss', save_best_only=True, mode='min', verbose=0)]\n",
    ")"
   ]
  },
  {
   "cell_type": "code",
   "execution_count": 96,
   "metadata": {
    "colab": {},
    "colab_type": "code",
    "id": "xda2o_4U3K7C"
   },
   "outputs": [
    {
     "name": "stdout",
     "output_type": "stream",
     "text": [
      "15631/15631 [==============================] - 3s 208us/sample\n"
     ]
    },
    {
     "ename": "ValueError",
     "evalue": "Classification metrics can't handle a mix of multiclass and continuous targets",
     "output_type": "error",
     "traceback": [
      "\u001b[0;31m---------------------------------------------------------------------------\u001b[0m",
      "\u001b[0;31mValueError\u001b[0m                                Traceback (most recent call last)",
      "\u001b[0;32m<ipython-input-96-6fba04fd4a30>\u001b[0m in \u001b[0;36m<module>\u001b[0;34m\u001b[0m\n\u001b[1;32m     15\u001b[0m \u001b[0my_pred\u001b[0m \u001b[0;34m=\u001b[0m \u001b[0mmodel\u001b[0m\u001b[0;34m.\u001b[0m\u001b[0mpredict\u001b[0m\u001b[0;34m(\u001b[0m\u001b[0mseq_array\u001b[0m\u001b[0;34m,\u001b[0m\u001b[0mverbose\u001b[0m\u001b[0;34m=\u001b[0m\u001b[0;36m1\u001b[0m\u001b[0;34m,\u001b[0m \u001b[0mbatch_size\u001b[0m\u001b[0;34m=\u001b[0m\u001b[0;36m200\u001b[0m\u001b[0;34m)\u001b[0m\u001b[0;34m\u001b[0m\u001b[0;34m\u001b[0m\u001b[0m\n\u001b[1;32m     16\u001b[0m \u001b[0my\u001b[0m \u001b[0;34m=\u001b[0m \u001b[0mlabel_array_class\u001b[0m\u001b[0;34m\u001b[0m\u001b[0;34m\u001b[0m\u001b[0m\n\u001b[0;32m---> 17\u001b[0;31m \u001b[0mprint\u001b[0m\u001b[0;34m(\u001b[0m\u001b[0;34m\"[Train] LSTM Regression Mean Squared Error: \"\u001b[0m\u001b[0;34m,\u001b[0m \u001b[0maccuracy_score\u001b[0m\u001b[0;34m(\u001b[0m\u001b[0my\u001b[0m\u001b[0;34m,\u001b[0m \u001b[0my_pred\u001b[0m\u001b[0;34m)\u001b[0m\u001b[0;34m)\u001b[0m\u001b[0;34m\u001b[0m\u001b[0;34m\u001b[0m\u001b[0m\n\u001b[0m\u001b[1;32m     18\u001b[0m \u001b[0mprint\u001b[0m\u001b[0;34m(\u001b[0m\u001b[0;34m\"[Train] LSTM Regression Mean Absolute Error: \"\u001b[0m\u001b[0;34m,\u001b[0m \u001b[0mprecision_score\u001b[0m\u001b[0;34m(\u001b[0m\u001b[0my\u001b[0m\u001b[0;34m,\u001b[0m \u001b[0my_pred\u001b[0m\u001b[0;34m)\u001b[0m\u001b[0;34m)\u001b[0m\u001b[0;34m\u001b[0m\u001b[0;34m\u001b[0m\u001b[0m\n\u001b[1;32m     19\u001b[0m \u001b[0mprint\u001b[0m\u001b[0;34m(\u001b[0m\u001b[0;34m\"Gradient Boosting Classifier Recall: \"\u001b[0m\u001b[0;34m+\u001b[0m\u001b[0;34m\"{:.1%}\"\u001b[0m\u001b[0;34m.\u001b[0m\u001b[0mformat\u001b[0m\u001b[0;34m(\u001b[0m\u001b[0mrecall_score\u001b[0m\u001b[0;34m(\u001b[0m\u001b[0my_clf_test\u001b[0m\u001b[0;34m,\u001b[0m\u001b[0my_test_clf_pred\u001b[0m\u001b[0;34m)\u001b[0m\u001b[0;34m)\u001b[0m\u001b[0;34m)\u001b[0m\u001b[0;34m;\u001b[0m\u001b[0;34m\u001b[0m\u001b[0;34m\u001b[0m\u001b[0m\n",
      "\u001b[0;32m~/miniconda3/lib/python3.7/site-packages/sklearn/metrics/_classification.py\u001b[0m in \u001b[0;36maccuracy_score\u001b[0;34m(y_true, y_pred, normalize, sample_weight)\u001b[0m\n\u001b[1;32m    183\u001b[0m \u001b[0;34m\u001b[0m\u001b[0m\n\u001b[1;32m    184\u001b[0m     \u001b[0;31m# Compute accuracy for each possible representation\u001b[0m\u001b[0;34m\u001b[0m\u001b[0;34m\u001b[0m\u001b[0;34m\u001b[0m\u001b[0m\n\u001b[0;32m--> 185\u001b[0;31m     \u001b[0my_type\u001b[0m\u001b[0;34m,\u001b[0m \u001b[0my_true\u001b[0m\u001b[0;34m,\u001b[0m \u001b[0my_pred\u001b[0m \u001b[0;34m=\u001b[0m \u001b[0m_check_targets\u001b[0m\u001b[0;34m(\u001b[0m\u001b[0my_true\u001b[0m\u001b[0;34m,\u001b[0m \u001b[0my_pred\u001b[0m\u001b[0;34m)\u001b[0m\u001b[0;34m\u001b[0m\u001b[0;34m\u001b[0m\u001b[0m\n\u001b[0m\u001b[1;32m    186\u001b[0m     \u001b[0mcheck_consistent_length\u001b[0m\u001b[0;34m(\u001b[0m\u001b[0my_true\u001b[0m\u001b[0;34m,\u001b[0m \u001b[0my_pred\u001b[0m\u001b[0;34m,\u001b[0m \u001b[0msample_weight\u001b[0m\u001b[0;34m)\u001b[0m\u001b[0;34m\u001b[0m\u001b[0;34m\u001b[0m\u001b[0m\n\u001b[1;32m    187\u001b[0m     \u001b[0;32mif\u001b[0m \u001b[0my_type\u001b[0m\u001b[0;34m.\u001b[0m\u001b[0mstartswith\u001b[0m\u001b[0;34m(\u001b[0m\u001b[0;34m'multilabel'\u001b[0m\u001b[0;34m)\u001b[0m\u001b[0;34m:\u001b[0m\u001b[0;34m\u001b[0m\u001b[0;34m\u001b[0m\u001b[0m\n",
      "\u001b[0;32m~/miniconda3/lib/python3.7/site-packages/sklearn/metrics/_classification.py\u001b[0m in \u001b[0;36m_check_targets\u001b[0;34m(y_true, y_pred)\u001b[0m\n\u001b[1;32m     88\u001b[0m     \u001b[0;32mif\u001b[0m \u001b[0mlen\u001b[0m\u001b[0;34m(\u001b[0m\u001b[0my_type\u001b[0m\u001b[0;34m)\u001b[0m \u001b[0;34m>\u001b[0m \u001b[0;36m1\u001b[0m\u001b[0;34m:\u001b[0m\u001b[0;34m\u001b[0m\u001b[0;34m\u001b[0m\u001b[0m\n\u001b[1;32m     89\u001b[0m         raise ValueError(\"Classification metrics can't handle a mix of {0} \"\n\u001b[0;32m---> 90\u001b[0;31m                          \"and {1} targets\".format(type_true, type_pred))\n\u001b[0m\u001b[1;32m     91\u001b[0m \u001b[0;34m\u001b[0m\u001b[0m\n\u001b[1;32m     92\u001b[0m     \u001b[0;31m# We can't have more than one value on y_type => The set is no more needed\u001b[0m\u001b[0;34m\u001b[0m\u001b[0;34m\u001b[0m\u001b[0;34m\u001b[0m\u001b[0m\n",
      "\u001b[0;31mValueError\u001b[0m: Classification metrics can't handle a mix of multiclass and continuous targets"
     ]
    },
    {
     "data": {
      "image/png": "[encoded data removed]",
      "text/plain": [
       "<Figure size 720x720 with 2 Axes>"
      ]
     },
     "metadata": {
      "needs_background": "light"
     },
     "output_type": "display_data"
    }
   ],
   "source": [
    "fig, axs = plt.subplots(2,1, figsize=(10,10))\n",
    "\n",
    "#axs[0].plot(history.history['mean_absolute_error'])\n",
    "#axs[0].plot(history.history['val_mean_absolute_error'])\n",
    "axs[0].set_title('model acc')\n",
    "axs[0].legend(['train', 'test'], loc='upper right')\n",
    "axs[0].set_xlabel('epoch')\n",
    "\n",
    "axs[1].plot(history.history['loss'])\n",
    "axs[1].plot(history.history['val_loss'])\n",
    "axs[1].set_title('model acc (loss)')\n",
    "axs[1].legend(['train', 'test'], loc='upper right')\n",
    "axs[1].set_xlabel('epoch')\n",
    "\n",
    "y_pred = model.predict(seq_array,verbose=1, batch_size=200)\n",
    "y = label_array_class\n",
    "print(\"[Train] LSTM Regression Mean Squared Error: \", accuracy_score(y, y_pred))\n",
    "print(\"[Train] LSTM Regression Mean Absolute Error: \", precision_score(y, y_pred))\n",
    "print(\"Gradient Boosting Classifier Recall: \"+\"{:.1%}\".format(recall_score(y_clf_test,y_test_clf_pred)));\n"
   ]
  },
  {
   "cell_type": "markdown",
   "metadata": {
    "colab_type": "text",
    "id": "_Inpi7Lm3K7F"
   },
   "source": [
    "## References\n",
    "\n",
    "This notebook is heavily based on these resources on the topic:\n",
    "\n",
    "- [1] [*Predictive Maintenance Template*](https://gallery.azure.ai/Collection/Predictive-Maintenance-Template-3)  by Microsoft Azure ML Team \n",
    "- [2] [*Predictive Maintenance using LSTM*](https://github.com/umbertogriffo/Predictive-Maintenance-using-LSTM) by Umberto Griffo\n",
    "- [3] [*Predictive Maintenance ML (IIOT)*](https://www.kaggle.com/billstuart/predictive-maintenance-ml-iiot) by Bill Stuart\n",
    "\n",
    "The dataset used was provided by NASA:\n",
    "\n",
    "- [4] A. Saxena and K. Goebel (2008). [*Turbofan Engine Degradation Simulation Data Set*](https://ti.arc.nasa.gov/tech/dash/groups/pcoe/prognostic-data-repository/#turbofan), NASA Ames Prognostics Data Repository, NASA Ames Research Center, Moffett Field, CA\n",
    "\n",
    "\n",
    "Other resources and tutorials on Predictive Maintenance:\n",
    "\n",
    "- [5] [*Predictive Maintenance Modelling Guide*](https://gallery.azure.ai/Collection/Predictive-Maintenance-Implementation-Guide-1) by Fidan Boyly Uz\n",
    "\n",
    "Two good really good posts on the concept and usefulness of Recurrent Neural Networks for sequence data:\n",
    "\n",
    "- [6] [*The Unreasonable Effectiveness of Recurrent Neural Networks*](http://karpathy.github.io/2015/05/21/rnn-effectiveness/) by Andrej Karpathy\n",
    "\n",
    "- [7] [*Understanding LSTM Networks*](https://colah.github.io/posts/2015-08-Understanding-LSTMs/) by Christopher Olah"
   ]
  },
  {
   "cell_type": "markdown",
   "metadata": {
    "colab_type": "text",
    "id": "rUey4He93K7F"
   },
   "source": [
    "This recent papers (with code) use this dataset in combination\n",
    "with more advanced Deep Learning architectures and data augmentation\n",
    "to achieve state of the art (SOTA):\n",
    "\n",
    "- [8] S. Theng et al. [*Long short-term\n",
    "memory network for remaining useful life estimation*](https://ieeexplore.ieee.org/document/7998311) in Proc. IEEE International Conference on Prognostics and Health\n",
    "\n",
    "- [9] L. Jayasinghe et al. [*Temporal Convolutional Memory Networks for\n",
    "Remaining Useful Life Estimation of Industrial Machinery*](https://github.com/LahiruJayasinghe/RUL-Net) in IEEE International Conference on Industrial Technology (ICIT2019)\n",
    "\n",
    "Not many books on this topic, there is a book on ML for IOT (free 1 month subscription online), yet the\n",
    "advanced ML chapter do not include specific IoT applications:\n",
    "\n",
    "- [10] [Hands-On Artificial Intelligence for IoT](https://www.packtpub.com/big-data-and-business-intelligence/hands-artificial-intelligence-iot?utm_source=github&utm_medium=repository&utm_campaign=9781788836067) by Amita Kapoor (2019)"
   ]
  }
 ],
 "metadata": {
  "celltoolbar": "Slideshow",
  "colab": {
   "collapsed_sections": [
    "6jkvSjl-3K5_",
    "6OWHzQtc3K6H"
   ],
   "name": "Copy of predictive_maintenance.ipynb",
   "provenance": [
    {
     "file_id": "https://github.com/pablodecm/datalab_ml_iot/blob/master/01_predictive_mainteinance/predictive_maintenance.ipynb",
     "timestamp": 1585243275881
    }
   ]
  },
  "kernelspec": {
   "display_name": "Python 3",
   "language": "python",
   "name": "python3"
  },
  "language_info": {
   "codemirror_mode": {
    "name": "ipython",
    "version": 3
   },
   "file_extension": ".py",
   "mimetype": "text/x-python",
   "name": "python",
   "nbconvert_exporter": "python",
   "pygments_lexer": "ipython3",
   "version": "3.7.4"
  }
 },
 "nbformat": 4,
 "nbformat_minor": 1
}
