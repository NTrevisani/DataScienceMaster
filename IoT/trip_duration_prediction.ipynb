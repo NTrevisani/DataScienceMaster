{
 "cells": [
  {
   "cell_type": "markdown",
   "metadata": {
    "colab_type": "text",
    "id": "IKc9XIUuj9i0"
   },
   "source": [
    "# Trip Duration Prediction\n",
    "\n",
    "This notebook is part of [*Practical Data Science for IOT*](https://github.com/pablodecm/datalab_ml_iot) tutorial by Pablo de Castro"
   ]
  },
  {
   "cell_type": "markdown",
   "metadata": {
    "colab_type": "text",
    "id": "QF-5TWD3j9i2"
   },
   "source": [
    "## Tools\n",
    "\n",
    "This notebook will use the following Python 3\n",
    "libraries for data analytics and machine learning:\n",
    "- pandas\n",
    "- numpy\n",
    "- matplotlib/seaborn\n",
    "- scikit-learn\n",
    "- xgboost\n",
    "- leaflet/folium"
   ]
  },
  {
   "cell_type": "code",
   "execution_count": 1,
   "metadata": {
    "colab": {
     "base_uri": "https://localhost:8080/",
     "height": 272
    },
    "colab_type": "code",
    "executionInfo": {
     "elapsed": 7104,
     "status": "ok",
     "timestamp": 1585247394654,
     "user": {
      "displayName": "Nicolò Trevisani",
      "photoUrl": "https://lh3.googleusercontent.com/a-/AOh14GiJ9pkFZdHQ4Zthp07GOkrYQq29m1orzwKSoxs2Cg=s64",
      "userId": "16681236576994002363"
     },
     "user_tz": -60
    },
    "id": "DvYQWWzmj9i3",
    "outputId": "dbc6326b-a1f4-4ce6-f3af-23a893e1b198"
   },
   "outputs": [
    {
     "name": "stdout",
     "output_type": "stream",
     "text": [
      "Requirement already satisfied: seaborn in /home/nicolo/miniconda3/lib/python3.7/site-packages (0.10.0)\n",
      "Requirement already satisfied: numpy>=1.13.3 in /home/nicolo/miniconda3/lib/python3.7/site-packages (from seaborn) (1.18.1)\n",
      "Requirement already satisfied: matplotlib>=2.1.2 in /home/nicolo/miniconda3/lib/python3.7/site-packages (from seaborn) (3.1.3)\n",
      "Requirement already satisfied: scipy>=1.0.1 in /home/nicolo/miniconda3/lib/python3.7/site-packages (from seaborn) (1.4.1)\n",
      "Requirement already satisfied: pandas>=0.22.0 in /home/nicolo/miniconda3/lib/python3.7/site-packages (from seaborn) (1.0.0)\n",
      "Requirement already satisfied: python-dateutil>=2.1 in /home/nicolo/miniconda3/lib/python3.7/site-packages (from matplotlib>=2.1.2->seaborn) (2.8.1)\n",
      "Requirement already satisfied: cycler>=0.10 in /home/nicolo/miniconda3/lib/python3.7/site-packages (from matplotlib>=2.1.2->seaborn) (0.10.0)\n",
      "Requirement already satisfied: pyparsing!=2.0.4,!=2.1.2,!=2.1.6,>=2.0.1 in /home/nicolo/miniconda3/lib/python3.7/site-packages (from matplotlib>=2.1.2->seaborn) (2.4.6)\n",
      "Requirement already satisfied: kiwisolver>=1.0.1 in /home/nicolo/miniconda3/lib/python3.7/site-packages (from matplotlib>=2.1.2->seaborn) (1.1.0)\n",
      "Requirement already satisfied: pytz>=2017.2 in /home/nicolo/miniconda3/lib/python3.7/site-packages (from pandas>=0.22.0->seaborn) (2019.3)\n",
      "Requirement already satisfied: six>=1.5 in /home/nicolo/miniconda3/lib/python3.7/site-packages (from python-dateutil>=2.1->matplotlib>=2.1.2->seaborn) (1.12.0)\n",
      "Requirement already satisfied: setuptools in /home/nicolo/miniconda3/lib/python3.7/site-packages (from kiwisolver>=1.0.1->matplotlib>=2.1.2->seaborn) (41.4.0)\n",
      "Requirement already satisfied: xgboost in /home/nicolo/miniconda3/lib/python3.7/site-packages (1.0.2)\n",
      "Requirement already satisfied: numpy in /home/nicolo/miniconda3/lib/python3.7/site-packages (from xgboost) (1.18.1)\n",
      "Requirement already satisfied: scipy in /home/nicolo/miniconda3/lib/python3.7/site-packages (from xgboost) (1.4.1)\n"
     ]
    }
   ],
   "source": [
    "!pip install seaborn\n",
    "!pip install xgboost\n",
    "import pandas as pd\n",
    "import numpy as np\n",
    "import matplotlib.pyplot as plt\n",
    "import seaborn as sns\n",
    "import xgboost as xgb"
   ]
  },
  {
   "cell_type": "markdown",
   "metadata": {
    "colab_type": "text",
    "id": "f7hmb27Dj9i8"
   },
   "source": [
    "## Dataset\n",
    "\n",
    "In this notebook, we are gonna be using a large dataset from\n",
    "the [Kaggle New York City Taxi Trip Duration](https://www.kaggle.com/c/nyc-taxi-trip-duration)\n",
    "challenge, which corresponds to real taxi trips data in the city\n",
    "of New York within the year 2016.\n",
    "\n",
    "The main task is the prediction of the trip duration given the features, but it\n",
    "is a really good dataset for exploratory data analysis and applying some\n",
    "tricks for dealing with location and temporal data in cities.\n",
    "\n",
    "<div align=\"center\">\n",
    "  <img src=\"https://github.com/pablodecm/datalab_ml_iot/blob/master/02_trip_duration_prediction/images/kaggle_trip_duration.png?raw=1\" height=\"50%\" style=\"max-width: 50%\">\n",
    "</div>"
   ]
  },
  {
   "cell_type": "markdown",
   "metadata": {
    "colab_type": "text",
    "id": "lfhAAwYrj9i9"
   },
   "source": [
    "### Data fields\n",
    "\n",
    "Here is a list and description of all the provided items for each trip:\n",
    "- **id** - a unique identifier for each trip\n",
    "- **vendor_id** - a code indicating the provider associated with the trip record\n",
    "- **pickup_datetime** - date and time when the meter was engaged\n",
    "- **dropoff_datetime** - date and time when the meter was disengaged\n",
    "- **passenger_count** - the number of passengers in the vehicle (driver entered value)\n",
    "- **pickup_longitude** - the longitude where the meter was engaged\n",
    "- **pickup_latitude** - the latitude where the meter was engaged\n",
    "- **dropoff_longitude** - the longitude where the meter was disengaged\n",
    "- **dropoff_latitude** - the latitude where the meter was disengaged\n",
    "- **store_and_fwd_flag** - This flag indicates whether the trip record was held in vehicle memory before sending to the vendor because the vehicle did not have a connection to the server -  Y=store and forward; N=not a store and forward trip\n",
    "- **trip_duration** - duration of the trip in seconds\n"
   ]
  },
  {
   "cell_type": "markdown",
   "metadata": {
    "colab_type": "text",
    "id": "JAq1nRx2j9i-"
   },
   "source": [
    "### Download from Kaggle\n",
    "\n",
    "In order to download datasets from Kaggle with can use the\n",
    "official CLI interface, but it requires you to have an account\n",
    "and to get an API key."
   ]
  },
  {
   "cell_type": "code",
   "execution_count": 2,
   "metadata": {
    "colab": {
     "base_uri": "https://localhost:8080/",
     "height": 221
    },
    "colab_type": "code",
    "executionInfo": {
     "elapsed": 7044,
     "status": "ok",
     "timestamp": 1585247399893,
     "user": {
      "displayName": "Nicolò Trevisani",
      "photoUrl": "https://lh3.googleusercontent.com/a-/AOh14GiJ9pkFZdHQ4Zthp07GOkrYQq29m1orzwKSoxs2Cg=s64",
      "userId": "16681236576994002363"
     },
     "user_tz": -60
    },
    "id": "ooid2_kzj9i_",
    "outputId": "5d972c01-da6e-4ec3-8f96-9ac171917d74"
   },
   "outputs": [
    {
     "name": "stdout",
     "output_type": "stream",
     "text": [
      "Requirement already satisfied: kaggle in /home/nicolo/miniconda3/lib/python3.7/site-packages (1.5.6)\n",
      "Requirement already satisfied: certifi in /home/nicolo/miniconda3/lib/python3.7/site-packages (from kaggle) (2019.11.28)\n",
      "Requirement already satisfied: six>=1.10 in /home/nicolo/miniconda3/lib/python3.7/site-packages (from kaggle) (1.12.0)\n",
      "Requirement already satisfied: urllib3<1.25,>=1.21.1 in /home/nicolo/miniconda3/lib/python3.7/site-packages (from kaggle) (1.24.2)\n",
      "Requirement already satisfied: python-slugify in /home/nicolo/miniconda3/lib/python3.7/site-packages (from kaggle) (4.0.0)\n",
      "Requirement already satisfied: tqdm in /home/nicolo/miniconda3/lib/python3.7/site-packages (from kaggle) (4.36.1)\n",
      "Requirement already satisfied: python-dateutil in /home/nicolo/miniconda3/lib/python3.7/site-packages (from kaggle) (2.8.1)\n",
      "Requirement already satisfied: requests in /home/nicolo/miniconda3/lib/python3.7/site-packages (from kaggle) (2.22.0)\n",
      "Requirement already satisfied: text-unidecode>=1.3 in /home/nicolo/miniconda3/lib/python3.7/site-packages (from python-slugify->kaggle) (1.3)\n",
      "Requirement already satisfied: idna<2.9,>=2.5 in /home/nicolo/miniconda3/lib/python3.7/site-packages (from requests->kaggle) (2.8)\n",
      "Requirement already satisfied: chardet<3.1.0,>=3.0.2 in /home/nicolo/miniconda3/lib/python3.7/site-packages (from requests->kaggle) (3.0.4)\n",
      "mkdir: cannot create directory ‘/home/nicolo/.kaggle’: File exists\n"
     ]
    }
   ],
   "source": [
    "!pip install kaggle\n",
    "!mkdir $HOME/.kaggle"
   ]
  },
  {
   "cell_type": "code",
   "execution_count": 3,
   "metadata": {
    "colab": {
     "base_uri": "https://localhost:8080/",
     "height": 391
    },
    "colab_type": "code",
    "executionInfo": {
     "elapsed": 3232,
     "status": "ok",
     "timestamp": 1585247685993,
     "user": {
      "displayName": "Nicolò Trevisani",
      "photoUrl": "https://lh3.googleusercontent.com/a-/AOh14GiJ9pkFZdHQ4Zthp07GOkrYQq29m1orzwKSoxs2Cg=s64",
      "userId": "16681236576994002363"
     },
     "user_tz": -60
    },
    "id": "KQkD6aCjj9jC",
    "outputId": "ca3425bb-fb79-4607-85b4-ccfb2f8cf936"
   },
   "outputs": [
    {
     "name": "stdout",
     "output_type": "stream",
     "text": [
      "ref                                                            title                                                size  lastUpdated          downloadCount  voteCount  usabilityRating  \r\n",
      "-------------------------------------------------------------  --------------------------------------------------  -----  -------------------  -------------  ---------  ---------------  \r\n",
      "unanimad/dataisbeautiful                                       Reddit - Data is Beautiful                           11MB  2020-03-21 22:28:28           1079        106  1.0              \r\n",
      "allen-institute-for-ai/CORD-19-research-challenge              COVID-19 Open Research Dataset Challenge (CORD-19)  646MB  2020-03-20 23:31:34          32703       4117  0.88235295       \r\n",
      "rubenssjr/brasilian-houses-to-rent                             brazilian_houses_to_rent                            282KB  2020-03-25 22:51:17           1016         49  1.0              \r\n",
      "clmentbisaillon/fake-and-real-news-dataset                     Fake and real news dataset                           41MB  2020-03-26 18:51:15             78          9  1.0              \r\n",
      "charlieharper/spatial-data-for-cord19-covid19-ordc             Spatial Data for CORD-19 (COVID-19 ORDC)            136MB  2020-03-24 20:17:09             76         13  0.88235295       \r\n",
      "paultimothymooney/covid19-containment-and-mitigation-measures  COVID-19 containment and mitigation measures         91KB  2020-03-27 13:52:04            240         24  1.0              \r\n",
      "skylord/coronawhy                                              CoronaWhy                                           588MB  2020-03-27 16:42:16             18          5  0.9117647        \r\n",
      "sudalairajkumar/novel-corona-virus-2019-dataset                Novel Corona Virus 2019 Dataset                     390KB  2020-03-27 04:56:38          87289       3208  0.9705882        \r\n",
      "kimjihoo/coronavirusdataset                                    Data Science for COVID-19 (DS4C)                      3MB  2020-03-22 04:17:54          21651        843  1.0              \r\n",
      "jessemostipak/hotel-booking-demand                             Hotel booking demand                                  1MB  2020-02-13 01:27:20          10966        451  1.0              \r\n",
      "shivamb/real-or-fake-fake-jobposting-prediction                [Real or Fake] Fake JobPosting Prediction            16MB  2020-02-29 08:23:34           2271        147  1.0              \r\n",
      "brunotly/foreign-exchange-rates-per-dollar-20002019            Foreign Exchange Rates 2000-2019                      1MB  2020-03-03 17:43:07           1825         80  1.0              \r\n",
      "timoboz/data-science-cheat-sheets                              Data Science Cheat Sheets                           596MB  2020-02-04 19:42:27           6796        425  0.875            \r\n",
      "imdevskp/sars-outbreak-2003-complete-dataset                   SARS 2003 Outbreak Complete Dataset                  10KB  2020-02-26 10:25:22           2249         83  1.0              \r\n",
      "imdevskp/ebola-outbreak-20142016-complete-dataset              Ebola 2014-2016 Outbreak Complete Dataset           101KB  2020-02-26 14:36:31           2069         88  1.0              \r\n",
      "tunguz/big-five-personality-test                               Big Five Personality Test                           159MB  2020-02-17 15:59:37           3334        239  0.9705882        \r\n",
      "paultimothymooney/coronavirus-genome-sequence                  Coronavirus Genome Sequence                           9MB  2020-02-29 00:25:13            675         51  1.0              \r\n",
      "arindam235/startup-investments-crunchbase                      StartUp Investments (Crunchbase)                      3MB  2020-02-17 21:54:42           2321        136  0.88235295       \r\n",
      "timoboz/tesla-stock-data-from-2010-to-2020                     Tesla stock data from 2010 to 2020                   46KB  2020-02-04 17:15:32           3191        131  1.0              \r\n",
      "timoboz/python-data-science-handbook                           Python Data Science Handbook                         15MB  2020-02-04 18:27:14           1556        207  0.88235295       \r\n"
     ]
    }
   ],
   "source": [
    "# run if in Google Colab to setup your Kaggle API Key\n",
    "import json\n",
    "import getpass\n",
    "import os\n",
    "\n",
    "kaggle_json_path = \"$HOME/.kaggle/kaggle.json\"\n",
    "if not os.path.isfile(os.path.expandvars(kaggle_json_path)):\n",
    "  username = getpass.getpass('username')\n",
    "  api_key = getpass.getpass('Kaggle API key')\n",
    "\n",
    "  token = {\"username\": username,\"key\":api_key}\n",
    "  with open('kaggle.json', 'w') as file:\n",
    "      json.dump(token, file)\n",
    "    \n",
    "  # jupyter/ipython bash magic (!) works within an if\n",
    "  !mv kaggle.json $HOME/.kaggle/kaggle.json\n",
    "  !chmod 600 $HOME/.kaggle/kaggle.json\n",
    "\n",
    "!kaggle datasets list"
   ]
  },
  {
   "cell_type": "code",
   "execution_count": 4,
   "metadata": {
    "colab": {
     "base_uri": "https://localhost:8080/",
     "height": 204
    },
    "colab_type": "code",
    "executionInfo": {
     "elapsed": 12764,
     "status": "ok",
     "timestamp": 1585247701029,
     "user": {
      "displayName": "Nicolò Trevisani",
      "photoUrl": "https://lh3.googleusercontent.com/a-/AOh14GiJ9pkFZdHQ4Zthp07GOkrYQq29m1orzwKSoxs2Cg=s64",
      "userId": "16681236576994002363"
     },
     "user_tz": -60
    },
    "id": "Sbt_rZoCj9jJ",
    "outputId": "686c6829-15d5-4527-9561-02e4ff4bce73"
   },
   "outputs": [
    {
     "name": "stdout",
     "output_type": "stream",
     "text": [
      "nyc-taxi-trip-duration.zip: Skipping, found more recently modified local copy (use --force to force download)\n",
      "Archive:  nyc-taxi-trip-duration.zip\n",
      "  inflating: sample_submission.zip   \n",
      "  inflating: test.zip                \n",
      "  inflating: train.zip               \n",
      "Archive:  train.zip\n",
      "  inflating: train.csv               \n",
      "Archive:  test.zip\n",
      "  inflating: test.csv                \n"
     ]
    }
   ],
   "source": [
    "!mkdir -p data\n",
    "!cd data; kaggle competitions download -c nyc-taxi-trip-duration; cd ..\n",
    "!cd data; unzip -o nyc-taxi-trip-duration.zip; unzip -o train.zip; unzip -o test.zip; cd .."
   ]
  },
  {
   "cell_type": "code",
   "execution_count": 5,
   "metadata": {
    "colab": {
     "base_uri": "https://localhost:8080/",
     "height": 34
    },
    "colab_type": "code",
    "executionInfo": {
     "elapsed": 6203,
     "status": "ok",
     "timestamp": 1585247815770,
     "user": {
      "displayName": "Nicolò Trevisani",
      "photoUrl": "https://lh3.googleusercontent.com/a-/AOh14GiJ9pkFZdHQ4Zthp07GOkrYQq29m1orzwKSoxs2Cg=s64",
      "userId": "16681236576994002363"
     },
     "user_tz": -60
    },
    "id": "fZ7SpuCWj9jS",
    "outputId": "e94197b4-d3da-4ec0-d0b4-398d4ca7e83f"
   },
   "outputs": [
    {
     "name": "stdout",
     "output_type": "stream",
     "text": [
      "train shape:  (1458644, 11) test shape:  (625134, 9)\n"
     ]
    }
   ],
   "source": [
    "train_df = pd.read_csv('data/train.csv')\n",
    "test_df = pd.read_csv('data/test.csv')\n",
    "print(\"train shape: \", train_df.shape, \"test shape: \", test_df.shape)"
   ]
  },
  {
   "cell_type": "code",
   "execution_count": 6,
   "metadata": {
    "colab": {
     "base_uri": "https://localhost:8080/",
     "height": 142
    },
    "colab_type": "code",
    "executionInfo": {
     "elapsed": 954,
     "status": "ok",
     "timestamp": 1585247838558,
     "user": {
      "displayName": "Nicolò Trevisani",
      "photoUrl": "https://lh3.googleusercontent.com/a-/AOh14GiJ9pkFZdHQ4Zthp07GOkrYQq29m1orzwKSoxs2Cg=s64",
      "userId": "16681236576994002363"
     },
     "user_tz": -60
    },
    "id": "IsHpe4pej9jg",
    "outputId": "0ba0e700-6229-4cf6-c002-896c850c46c8"
   },
   "outputs": [
    {
     "data": {
      "text/html": [
       "<div>\n",
       "<style scoped>\n",
       "    .dataframe tbody tr th:only-of-type {\n",
       "        vertical-align: middle;\n",
       "    }\n",
       "\n",
       "    .dataframe tbody tr th {\n",
       "        vertical-align: top;\n",
       "    }\n",
       "\n",
       "    .dataframe thead th {\n",
       "        text-align: right;\n",
       "    }\n",
       "</style>\n",
       "<table border=\"1\" class=\"dataframe\">\n",
       "  <thead>\n",
       "    <tr style=\"text-align: right;\">\n",
       "      <th></th>\n",
       "      <th>id</th>\n",
       "      <th>vendor_id</th>\n",
       "      <th>pickup_datetime</th>\n",
       "      <th>dropoff_datetime</th>\n",
       "      <th>passenger_count</th>\n",
       "      <th>pickup_longitude</th>\n",
       "      <th>pickup_latitude</th>\n",
       "      <th>dropoff_longitude</th>\n",
       "      <th>dropoff_latitude</th>\n",
       "      <th>store_and_fwd_flag</th>\n",
       "      <th>trip_duration</th>\n",
       "    </tr>\n",
       "  </thead>\n",
       "  <tbody>\n",
       "    <tr>\n",
       "      <th>0</th>\n",
       "      <td>id2875421</td>\n",
       "      <td>2</td>\n",
       "      <td>2016-03-14 17:24:55</td>\n",
       "      <td>2016-03-14 17:32:30</td>\n",
       "      <td>1</td>\n",
       "      <td>-73.982155</td>\n",
       "      <td>40.767937</td>\n",
       "      <td>-73.964630</td>\n",
       "      <td>40.765602</td>\n",
       "      <td>N</td>\n",
       "      <td>455</td>\n",
       "    </tr>\n",
       "    <tr>\n",
       "      <th>1</th>\n",
       "      <td>id2377394</td>\n",
       "      <td>1</td>\n",
       "      <td>2016-06-12 00:43:35</td>\n",
       "      <td>2016-06-12 00:54:38</td>\n",
       "      <td>1</td>\n",
       "      <td>-73.980415</td>\n",
       "      <td>40.738564</td>\n",
       "      <td>-73.999481</td>\n",
       "      <td>40.731152</td>\n",
       "      <td>N</td>\n",
       "      <td>663</td>\n",
       "    </tr>\n",
       "    <tr>\n",
       "      <th>2</th>\n",
       "      <td>id3858529</td>\n",
       "      <td>2</td>\n",
       "      <td>2016-01-19 11:35:24</td>\n",
       "      <td>2016-01-19 12:10:48</td>\n",
       "      <td>1</td>\n",
       "      <td>-73.979027</td>\n",
       "      <td>40.763939</td>\n",
       "      <td>-74.005333</td>\n",
       "      <td>40.710087</td>\n",
       "      <td>N</td>\n",
       "      <td>2124</td>\n",
       "    </tr>\n",
       "  </tbody>\n",
       "</table>\n",
       "</div>"
      ],
      "text/plain": [
       "          id  vendor_id      pickup_datetime     dropoff_datetime  \\\n",
       "0  id2875421          2  2016-03-14 17:24:55  2016-03-14 17:32:30   \n",
       "1  id2377394          1  2016-06-12 00:43:35  2016-06-12 00:54:38   \n",
       "2  id3858529          2  2016-01-19 11:35:24  2016-01-19 12:10:48   \n",
       "\n",
       "   passenger_count  pickup_longitude  pickup_latitude  dropoff_longitude  \\\n",
       "0                1        -73.982155        40.767937         -73.964630   \n",
       "1                1        -73.980415        40.738564         -73.999481   \n",
       "2                1        -73.979027        40.763939         -74.005333   \n",
       "\n",
       "   dropoff_latitude store_and_fwd_flag  trip_duration  \n",
       "0         40.765602                  N            455  \n",
       "1         40.731152                  N            663  \n",
       "2         40.710087                  N           2124  "
      ]
     },
     "execution_count": 6,
     "metadata": {},
     "output_type": "execute_result"
    }
   ],
   "source": [
    "train_df.head(3)"
   ]
  },
  {
   "cell_type": "code",
   "execution_count": 7,
   "metadata": {
    "colab": {
     "base_uri": "https://localhost:8080/",
     "height": 142
    },
    "colab_type": "code",
    "executionInfo": {
     "elapsed": 605,
     "status": "ok",
     "timestamp": 1585247839804,
     "user": {
      "displayName": "Nicolò Trevisani",
      "photoUrl": "https://lh3.googleusercontent.com/a-/AOh14GiJ9pkFZdHQ4Zthp07GOkrYQq29m1orzwKSoxs2Cg=s64",
      "userId": "16681236576994002363"
     },
     "user_tz": -60
    },
    "id": "MgufJvSAj9jk",
    "outputId": "4d6b5cde-7f07-4587-f6b0-0f5f4791912c"
   },
   "outputs": [
    {
     "data": {
      "text/html": [
       "<div>\n",
       "<style scoped>\n",
       "    .dataframe tbody tr th:only-of-type {\n",
       "        vertical-align: middle;\n",
       "    }\n",
       "\n",
       "    .dataframe tbody tr th {\n",
       "        vertical-align: top;\n",
       "    }\n",
       "\n",
       "    .dataframe thead th {\n",
       "        text-align: right;\n",
       "    }\n",
       "</style>\n",
       "<table border=\"1\" class=\"dataframe\">\n",
       "  <thead>\n",
       "    <tr style=\"text-align: right;\">\n",
       "      <th></th>\n",
       "      <th>id</th>\n",
       "      <th>vendor_id</th>\n",
       "      <th>pickup_datetime</th>\n",
       "      <th>passenger_count</th>\n",
       "      <th>pickup_longitude</th>\n",
       "      <th>pickup_latitude</th>\n",
       "      <th>dropoff_longitude</th>\n",
       "      <th>dropoff_latitude</th>\n",
       "      <th>store_and_fwd_flag</th>\n",
       "    </tr>\n",
       "  </thead>\n",
       "  <tbody>\n",
       "    <tr>\n",
       "      <th>0</th>\n",
       "      <td>id3004672</td>\n",
       "      <td>1</td>\n",
       "      <td>2016-06-30 23:59:58</td>\n",
       "      <td>1</td>\n",
       "      <td>-73.988129</td>\n",
       "      <td>40.732029</td>\n",
       "      <td>-73.990173</td>\n",
       "      <td>40.756680</td>\n",
       "      <td>N</td>\n",
       "    </tr>\n",
       "    <tr>\n",
       "      <th>1</th>\n",
       "      <td>id3505355</td>\n",
       "      <td>1</td>\n",
       "      <td>2016-06-30 23:59:53</td>\n",
       "      <td>1</td>\n",
       "      <td>-73.964203</td>\n",
       "      <td>40.679993</td>\n",
       "      <td>-73.959808</td>\n",
       "      <td>40.655403</td>\n",
       "      <td>N</td>\n",
       "    </tr>\n",
       "    <tr>\n",
       "      <th>2</th>\n",
       "      <td>id1217141</td>\n",
       "      <td>1</td>\n",
       "      <td>2016-06-30 23:59:47</td>\n",
       "      <td>1</td>\n",
       "      <td>-73.997437</td>\n",
       "      <td>40.737583</td>\n",
       "      <td>-73.986160</td>\n",
       "      <td>40.729523</td>\n",
       "      <td>N</td>\n",
       "    </tr>\n",
       "  </tbody>\n",
       "</table>\n",
       "</div>"
      ],
      "text/plain": [
       "          id  vendor_id      pickup_datetime  passenger_count  \\\n",
       "0  id3004672          1  2016-06-30 23:59:58                1   \n",
       "1  id3505355          1  2016-06-30 23:59:53                1   \n",
       "2  id1217141          1  2016-06-30 23:59:47                1   \n",
       "\n",
       "   pickup_longitude  pickup_latitude  dropoff_longitude  dropoff_latitude  \\\n",
       "0        -73.988129        40.732029         -73.990173         40.756680   \n",
       "1        -73.964203        40.679993         -73.959808         40.655403   \n",
       "2        -73.997437        40.737583         -73.986160         40.729523   \n",
       "\n",
       "  store_and_fwd_flag  \n",
       "0                  N  \n",
       "1                  N  \n",
       "2                  N  "
      ]
     },
     "execution_count": 7,
     "metadata": {},
     "output_type": "execute_result"
    }
   ],
   "source": [
    "test_df.head(3)"
   ]
  },
  {
   "cell_type": "markdown",
   "metadata": {
    "colab_type": "text",
    "id": "YGQLYm-Ej9jn"
   },
   "source": [
    "#### Warming up Exercise\n",
    "\n",
    "Check that id is unique and train and test set are distinct.\n",
    "\n",
    "*Hint: Look up `DataFrame.nunique` and `np.intersect1d` in their respective documentations.*"
   ]
  },
  {
   "cell_type": "code",
   "execution_count": null,
   "metadata": {
    "colab": {
     "base_uri": "https://localhost:8080/",
     "height": 221
    },
    "colab_type": "code",
    "executionInfo": {
     "elapsed": 894849,
     "status": "ok",
     "timestamp": 1585248788030,
     "user": {
      "displayName": "Nicolò Trevisani",
      "photoUrl": "https://lh3.googleusercontent.com/a-/AOh14GiJ9pkFZdHQ4Zthp07GOkrYQq29m1orzwKSoxs2Cg=s64",
      "userId": "16681236576994002363"
     },
     "user_tz": -60
    },
    "id": "tGUsxzz4j9jo",
    "outputId": "e4621c2c-089f-41e5-806d-c79c3e8e4eb4"
   },
   "outputs": [],
   "source": [
    "# write here the exercise\n",
    "\n",
    "# train_df.nunique()"
   ]
  },
  {
   "cell_type": "markdown",
   "metadata": {
    "colab_type": "text",
    "id": "JlBW3Me_j9jq"
   },
   "source": [
    "### Additional Datasets\n",
    "\n",
    "In real-world scenarios, there is often something to gain\n",
    "by combining data from different sources that might be informative\n",
    "for the task.\n",
    "\n",
    "In the case of car trip durations, traffic routes and weather\n",
    "are quite relevant and were allowed in the competition.\n",
    "Participants have\n",
    "curated two datasets that might be of use here:\n",
    "- Traffic route details using the [Open Source Routing Machine OSRM tool](http://project-osrm.org/)\n",
    "- Weather during the period considered\n",
    "Part of the information of the former will be used while\n",
    "the use of the later if left for future extensions."
   ]
  },
  {
   "cell_type": "code",
   "execution_count": 8,
   "metadata": {
    "colab": {},
    "colab_type": "code",
    "id": "QVEttXakj9jq"
   },
   "outputs": [
    {
     "name": "stdout",
     "output_type": "stream",
     "text": [
      "Downloading new-york-city-taxi-with-osrm.zip to /home/nicolo/DataScienceMaster/IoT/data\n",
      "100%|███████████████████████████████████████▊| 513M/515M [00:22<00:00, 33.1MB/s]\n",
      "100%|████████████████████████████████████████| 515M/515M [00:22<00:00, 23.6MB/s]\n",
      "Archive:  data/new-york-city-taxi-with-osrm.zip\n",
      "  inflating: data/osrm/accidents_2016.csv  \n",
      "  inflating: data/osrm/fastest_routes_test.csv  \n",
      "  inflating: data/osrm/fastest_routes_train_part_1.csv  \n",
      "  inflating: data/osrm/fastest_routes_train_part_2.csv  \n",
      "  inflating: data/osrm/second_fastest_routes_test.csv  \n",
      "  inflating: data/osrm/second_fastest_routes_train.csv  \n",
      "  inflating: data/osrm/test.csv      \n",
      "  inflating: data/osrm/train.csv     \n"
     ]
    }
   ],
   "source": [
    "# traffic route from OSRM\n",
    "!cd data; kaggle datasets download oscarleo/new-york-city-taxi-with-osrm; cd ..\n",
    "!mkdir data/osrm\n",
    "!unzip -o data/new-york-city-taxi-with-osrm.zip -d data/osrm"
   ]
  },
  {
   "cell_type": "code",
   "execution_count": 9,
   "metadata": {
    "colab": {},
    "colab_type": "code",
    "id": "lTI_6Gslj9jt"
   },
   "outputs": [
    {
     "name": "stdout",
     "output_type": "stream",
     "text": [
      "Downloading weather-data-in-new-york-city-2016.zip to /home/nicolo/DataScienceMaster/IoT/data\n",
      "  0%|                                               | 0.00/3.11k [00:00<?, ?B/s]\n",
      "100%|██████████████████████████████████████| 3.11k/3.11k [00:00<00:00, 3.51MB/s]\n",
      "Archive:  data/weather-data-in-new-york-city-2016.zip\n",
      "  inflating: data/weather/weather_data_nyc_centralpark_2016(1).csv  \n"
     ]
    }
   ],
   "source": [
    "# weather data\n",
    "!cd data; kaggle datasets download mathijs/weather-data-in-new-york-city-2016; cd ..\n",
    "!mkdir data/weather\n",
    "!unzip -o data/weather-data-in-new-york-city-2016.zip -d data/weather\n"
   ]
  },
  {
   "cell_type": "code",
   "execution_count": 10,
   "metadata": {
    "colab": {},
    "colab_type": "code",
    "id": "o6Wi7olDj9jv"
   },
   "outputs": [
    {
     "data": {
      "text/html": [
       "<div>\n",
       "<style scoped>\n",
       "    .dataframe tbody tr th:only-of-type {\n",
       "        vertical-align: middle;\n",
       "    }\n",
       "\n",
       "    .dataframe tbody tr th {\n",
       "        vertical-align: top;\n",
       "    }\n",
       "\n",
       "    .dataframe thead th {\n",
       "        text-align: right;\n",
       "    }\n",
       "</style>\n",
       "<table border=\"1\" class=\"dataframe\">\n",
       "  <thead>\n",
       "    <tr style=\"text-align: right;\">\n",
       "      <th></th>\n",
       "      <th>id</th>\n",
       "      <th>vendor_id</th>\n",
       "      <th>pickup_datetime</th>\n",
       "      <th>dropoff_datetime</th>\n",
       "      <th>passenger_count</th>\n",
       "      <th>pickup_longitude</th>\n",
       "      <th>pickup_latitude</th>\n",
       "      <th>dropoff_longitude</th>\n",
       "      <th>dropoff_latitude</th>\n",
       "      <th>store_and_fwd_flag</th>\n",
       "      <th>trip_duration</th>\n",
       "      <th>total_distance</th>\n",
       "      <th>total_travel_time</th>\n",
       "      <th>number_of_steps</th>\n",
       "    </tr>\n",
       "  </thead>\n",
       "  <tbody>\n",
       "    <tr>\n",
       "      <th>0</th>\n",
       "      <td>id2875421</td>\n",
       "      <td>2</td>\n",
       "      <td>2016-03-14 17:24:55</td>\n",
       "      <td>2016-03-14 17:32:30</td>\n",
       "      <td>1</td>\n",
       "      <td>-73.982155</td>\n",
       "      <td>40.767937</td>\n",
       "      <td>-73.964630</td>\n",
       "      <td>40.765602</td>\n",
       "      <td>N</td>\n",
       "      <td>455</td>\n",
       "      <td>2009.1</td>\n",
       "      <td>164.9</td>\n",
       "      <td>5.0</td>\n",
       "    </tr>\n",
       "    <tr>\n",
       "      <th>1</th>\n",
       "      <td>id2377394</td>\n",
       "      <td>1</td>\n",
       "      <td>2016-06-12 00:43:35</td>\n",
       "      <td>2016-06-12 00:54:38</td>\n",
       "      <td>1</td>\n",
       "      <td>-73.980415</td>\n",
       "      <td>40.738564</td>\n",
       "      <td>-73.999481</td>\n",
       "      <td>40.731152</td>\n",
       "      <td>N</td>\n",
       "      <td>663</td>\n",
       "      <td>2513.2</td>\n",
       "      <td>332.0</td>\n",
       "      <td>6.0</td>\n",
       "    </tr>\n",
       "    <tr>\n",
       "      <th>2</th>\n",
       "      <td>id3858529</td>\n",
       "      <td>2</td>\n",
       "      <td>2016-01-19 11:35:24</td>\n",
       "      <td>2016-01-19 12:10:48</td>\n",
       "      <td>1</td>\n",
       "      <td>-73.979027</td>\n",
       "      <td>40.763939</td>\n",
       "      <td>-74.005333</td>\n",
       "      <td>40.710087</td>\n",
       "      <td>N</td>\n",
       "      <td>2124</td>\n",
       "      <td>11060.8</td>\n",
       "      <td>767.6</td>\n",
       "      <td>16.0</td>\n",
       "    </tr>\n",
       "    <tr>\n",
       "      <th>3</th>\n",
       "      <td>id3504673</td>\n",
       "      <td>2</td>\n",
       "      <td>2016-04-06 19:32:31</td>\n",
       "      <td>2016-04-06 19:39:40</td>\n",
       "      <td>1</td>\n",
       "      <td>-74.010040</td>\n",
       "      <td>40.719971</td>\n",
       "      <td>-74.012268</td>\n",
       "      <td>40.706718</td>\n",
       "      <td>N</td>\n",
       "      <td>429</td>\n",
       "      <td>1779.4</td>\n",
       "      <td>235.8</td>\n",
       "      <td>4.0</td>\n",
       "    </tr>\n",
       "    <tr>\n",
       "      <th>4</th>\n",
       "      <td>id2181028</td>\n",
       "      <td>2</td>\n",
       "      <td>2016-03-26 13:30:55</td>\n",
       "      <td>2016-03-26 13:38:10</td>\n",
       "      <td>1</td>\n",
       "      <td>-73.973053</td>\n",
       "      <td>40.793209</td>\n",
       "      <td>-73.972923</td>\n",
       "      <td>40.782520</td>\n",
       "      <td>N</td>\n",
       "      <td>435</td>\n",
       "      <td>1614.9</td>\n",
       "      <td>140.1</td>\n",
       "      <td>5.0</td>\n",
       "    </tr>\n",
       "  </tbody>\n",
       "</table>\n",
       "</div>"
      ],
      "text/plain": [
       "          id  vendor_id      pickup_datetime     dropoff_datetime  \\\n",
       "0  id2875421          2  2016-03-14 17:24:55  2016-03-14 17:32:30   \n",
       "1  id2377394          1  2016-06-12 00:43:35  2016-06-12 00:54:38   \n",
       "2  id3858529          2  2016-01-19 11:35:24  2016-01-19 12:10:48   \n",
       "3  id3504673          2  2016-04-06 19:32:31  2016-04-06 19:39:40   \n",
       "4  id2181028          2  2016-03-26 13:30:55  2016-03-26 13:38:10   \n",
       "\n",
       "   passenger_count  pickup_longitude  pickup_latitude  dropoff_longitude  \\\n",
       "0                1        -73.982155        40.767937         -73.964630   \n",
       "1                1        -73.980415        40.738564         -73.999481   \n",
       "2                1        -73.979027        40.763939         -74.005333   \n",
       "3                1        -74.010040        40.719971         -74.012268   \n",
       "4                1        -73.973053        40.793209         -73.972923   \n",
       "\n",
       "   dropoff_latitude store_and_fwd_flag  trip_duration  total_distance  \\\n",
       "0         40.765602                  N            455          2009.1   \n",
       "1         40.731152                  N            663          2513.2   \n",
       "2         40.710087                  N           2124         11060.8   \n",
       "3         40.706718                  N            429          1779.4   \n",
       "4         40.782520                  N            435          1614.9   \n",
       "\n",
       "   total_travel_time  number_of_steps  \n",
       "0              164.9              5.0  \n",
       "1              332.0              6.0  \n",
       "2              767.6             16.0  \n",
       "3              235.8              4.0  \n",
       "4              140.1              5.0  "
      ]
     },
     "execution_count": 10,
     "metadata": {},
     "output_type": "execute_result"
    }
   ],
   "source": [
    "# add some columns to the train and test data\n",
    "cols_osrm = ['id', 'total_distance', 'total_travel_time',  'number_of_steps']\n",
    "fr1 = pd.read_csv('data/osrm/fastest_routes_train_part_1.csv', usecols=cols_osrm)\n",
    "fr2 = pd.read_csv('data/osrm/fastest_routes_train_part_2.csv', usecols=cols_osrm)\n",
    "test_street_info = pd.read_csv('data/osrm/fastest_routes_test.csv',\n",
    "                               usecols=cols_osrm)\n",
    "train_street_info = pd.concat((fr1, fr2))\n",
    "train_df = train_df.merge(train_street_info, how='left', on='id')\n",
    "test_df = test_df.merge(test_street_info, how='left', on='id')\n",
    "\n",
    "train_df.head(5)"
   ]
  },
  {
   "cell_type": "markdown",
   "metadata": {
    "cell_style": "center",
    "colab_type": "text",
    "id": "-zqK6KdKj9jz"
   },
   "source": [
    "## Exploratory Data Analysis (EDA)\n",
    "\n",
    "It is good to get used to the properties data in an interactive\n",
    "manner before carrying out any model building, which is often done\n",
    "by some basic visualization and summary descriptions."
   ]
  },
  {
   "cell_type": "code",
   "execution_count": 11,
   "metadata": {
    "colab": {},
    "colab_type": "code",
    "id": "ztHGKI8Lj9j0"
   },
   "outputs": [
    {
     "data": {
      "text/html": [
       "<div>\n",
       "<style scoped>\n",
       "    .dataframe tbody tr th:only-of-type {\n",
       "        vertical-align: middle;\n",
       "    }\n",
       "\n",
       "    .dataframe tbody tr th {\n",
       "        vertical-align: top;\n",
       "    }\n",
       "\n",
       "    .dataframe thead th {\n",
       "        text-align: right;\n",
       "    }\n",
       "</style>\n",
       "<table border=\"1\" class=\"dataframe\">\n",
       "  <thead>\n",
       "    <tr style=\"text-align: right;\">\n",
       "      <th></th>\n",
       "      <th>vendor_id</th>\n",
       "      <th>passenger_count</th>\n",
       "      <th>pickup_longitude</th>\n",
       "      <th>pickup_latitude</th>\n",
       "      <th>dropoff_longitude</th>\n",
       "      <th>dropoff_latitude</th>\n",
       "      <th>trip_duration</th>\n",
       "      <th>total_distance</th>\n",
       "      <th>total_travel_time</th>\n",
       "      <th>number_of_steps</th>\n",
       "    </tr>\n",
       "  </thead>\n",
       "  <tbody>\n",
       "    <tr>\n",
       "      <th>count</th>\n",
       "      <td>1.458644e+06</td>\n",
       "      <td>1.458644e+06</td>\n",
       "      <td>1.458644e+06</td>\n",
       "      <td>1.458644e+06</td>\n",
       "      <td>1.458644e+06</td>\n",
       "      <td>1.458644e+06</td>\n",
       "      <td>1.458644e+06</td>\n",
       "      <td>1.458643e+06</td>\n",
       "      <td>1.458643e+06</td>\n",
       "      <td>1.458643e+06</td>\n",
       "    </tr>\n",
       "    <tr>\n",
       "      <th>mean</th>\n",
       "      <td>1.534950e+00</td>\n",
       "      <td>1.664530e+00</td>\n",
       "      <td>-7.397349e+01</td>\n",
       "      <td>4.075092e+01</td>\n",
       "      <td>-7.397342e+01</td>\n",
       "      <td>4.075180e+01</td>\n",
       "      <td>9.594923e+02</td>\n",
       "      <td>4.626383e+03</td>\n",
       "      <td>3.893719e+02</td>\n",
       "      <td>7.547126e+00</td>\n",
       "    </tr>\n",
       "    <tr>\n",
       "      <th>std</th>\n",
       "      <td>4.987772e-01</td>\n",
       "      <td>1.314242e+00</td>\n",
       "      <td>7.090186e-02</td>\n",
       "      <td>3.288119e-02</td>\n",
       "      <td>7.064327e-02</td>\n",
       "      <td>3.589056e-02</td>\n",
       "      <td>5.237432e+03</td>\n",
       "      <td>5.303878e+03</td>\n",
       "      <td>3.144679e+02</td>\n",
       "      <td>4.432504e+00</td>\n",
       "    </tr>\n",
       "    <tr>\n",
       "      <th>min</th>\n",
       "      <td>1.000000e+00</td>\n",
       "      <td>0.000000e+00</td>\n",
       "      <td>-1.219333e+02</td>\n",
       "      <td>3.435970e+01</td>\n",
       "      <td>-1.219333e+02</td>\n",
       "      <td>3.218114e+01</td>\n",
       "      <td>1.000000e+00</td>\n",
       "      <td>0.000000e+00</td>\n",
       "      <td>0.000000e+00</td>\n",
       "      <td>2.000000e+00</td>\n",
       "    </tr>\n",
       "    <tr>\n",
       "      <th>25%</th>\n",
       "      <td>1.000000e+00</td>\n",
       "      <td>1.000000e+00</td>\n",
       "      <td>-7.399187e+01</td>\n",
       "      <td>4.073735e+01</td>\n",
       "      <td>-7.399133e+01</td>\n",
       "      <td>4.073588e+01</td>\n",
       "      <td>3.970000e+02</td>\n",
       "      <td>1.666100e+03</td>\n",
       "      <td>1.815000e+02</td>\n",
       "      <td>5.000000e+00</td>\n",
       "    </tr>\n",
       "    <tr>\n",
       "      <th>50%</th>\n",
       "      <td>2.000000e+00</td>\n",
       "      <td>1.000000e+00</td>\n",
       "      <td>-7.398174e+01</td>\n",
       "      <td>4.075410e+01</td>\n",
       "      <td>-7.397975e+01</td>\n",
       "      <td>4.075452e+01</td>\n",
       "      <td>6.620000e+02</td>\n",
       "      <td>2.755100e+03</td>\n",
       "      <td>2.895000e+02</td>\n",
       "      <td>6.000000e+00</td>\n",
       "    </tr>\n",
       "    <tr>\n",
       "      <th>75%</th>\n",
       "      <td>2.000000e+00</td>\n",
       "      <td>2.000000e+00</td>\n",
       "      <td>-7.396733e+01</td>\n",
       "      <td>4.076836e+01</td>\n",
       "      <td>-7.396301e+01</td>\n",
       "      <td>4.076981e+01</td>\n",
       "      <td>1.075000e+03</td>\n",
       "      <td>5.113800e+03</td>\n",
       "      <td>4.907000e+02</td>\n",
       "      <td>9.000000e+00</td>\n",
       "    </tr>\n",
       "    <tr>\n",
       "      <th>max</th>\n",
       "      <td>2.000000e+00</td>\n",
       "      <td>9.000000e+00</td>\n",
       "      <td>-6.133553e+01</td>\n",
       "      <td>5.188108e+01</td>\n",
       "      <td>-6.133553e+01</td>\n",
       "      <td>4.392103e+01</td>\n",
       "      <td>3.526282e+06</td>\n",
       "      <td>9.420420e+04</td>\n",
       "      <td>5.135400e+03</td>\n",
       "      <td>4.600000e+01</td>\n",
       "    </tr>\n",
       "  </tbody>\n",
       "</table>\n",
       "</div>"
      ],
      "text/plain": [
       "          vendor_id  passenger_count  pickup_longitude  pickup_latitude  \\\n",
       "count  1.458644e+06     1.458644e+06      1.458644e+06     1.458644e+06   \n",
       "mean   1.534950e+00     1.664530e+00     -7.397349e+01     4.075092e+01   \n",
       "std    4.987772e-01     1.314242e+00      7.090186e-02     3.288119e-02   \n",
       "min    1.000000e+00     0.000000e+00     -1.219333e+02     3.435970e+01   \n",
       "25%    1.000000e+00     1.000000e+00     -7.399187e+01     4.073735e+01   \n",
       "50%    2.000000e+00     1.000000e+00     -7.398174e+01     4.075410e+01   \n",
       "75%    2.000000e+00     2.000000e+00     -7.396733e+01     4.076836e+01   \n",
       "max    2.000000e+00     9.000000e+00     -6.133553e+01     5.188108e+01   \n",
       "\n",
       "       dropoff_longitude  dropoff_latitude  trip_duration  total_distance  \\\n",
       "count       1.458644e+06      1.458644e+06   1.458644e+06    1.458643e+06   \n",
       "mean       -7.397342e+01      4.075180e+01   9.594923e+02    4.626383e+03   \n",
       "std         7.064327e-02      3.589056e-02   5.237432e+03    5.303878e+03   \n",
       "min        -1.219333e+02      3.218114e+01   1.000000e+00    0.000000e+00   \n",
       "25%        -7.399133e+01      4.073588e+01   3.970000e+02    1.666100e+03   \n",
       "50%        -7.397975e+01      4.075452e+01   6.620000e+02    2.755100e+03   \n",
       "75%        -7.396301e+01      4.076981e+01   1.075000e+03    5.113800e+03   \n",
       "max        -6.133553e+01      4.392103e+01   3.526282e+06    9.420420e+04   \n",
       "\n",
       "       total_travel_time  number_of_steps  \n",
       "count       1.458643e+06     1.458643e+06  \n",
       "mean        3.893719e+02     7.547126e+00  \n",
       "std         3.144679e+02     4.432504e+00  \n",
       "min         0.000000e+00     2.000000e+00  \n",
       "25%         1.815000e+02     5.000000e+00  \n",
       "50%         2.895000e+02     6.000000e+00  \n",
       "75%         4.907000e+02     9.000000e+00  \n",
       "max         5.135400e+03     4.600000e+01  "
      ]
     },
     "execution_count": 11,
     "metadata": {},
     "output_type": "execute_result"
    }
   ],
   "source": [
    "train_df.describe()"
   ]
  },
  {
   "cell_type": "code",
   "execution_count": 12,
   "metadata": {
    "colab": {},
    "colab_type": "code",
    "id": "rfCggpayj9j3"
   },
   "outputs": [
    {
     "data": {
      "text/plain": [
       "979.5227777777778"
      ]
     },
     "execution_count": 12,
     "metadata": {},
     "output_type": "execute_result"
    }
   ],
   "source": [
    "# really long trips present\n",
    "3.526282e+06/3600"
   ]
  },
  {
   "cell_type": "markdown",
   "metadata": {
    "colab_type": "text",
    "id": "oUX6FmHhj9j6"
   },
   "source": [
    "We can remove outliers to simplify the analysis and make it\n",
    "more robust, e.g. we can safely remove trips with a duration\n",
    "further away from the mean than 3 standard deviations."
   ]
  },
  {
   "cell_type": "code",
   "execution_count": 13,
   "metadata": {
    "colab": {},
    "colab_type": "code",
    "id": "N9nAhN0Pj9j7"
   },
   "outputs": [
    {
     "data": {
      "text/plain": [
       "2073"
      ]
     },
     "execution_count": 13,
     "metadata": {},
     "output_type": "execute_result"
    }
   ],
   "source": [
    "m = np.mean(train_df['trip_duration'])\n",
    "s = np.std(train_df['trip_duration'])\n",
    "# filter \n",
    "filter_duration = ((train_df['trip_duration'] <= m + 3*s) &\n",
    "                   (train_df['trip_duration'] >= m - 3*s))\n",
    "(~filter_duration).sum()"
   ]
  },
  {
   "cell_type": "markdown",
   "metadata": {
    "colab_type": "text",
    "id": "okjdyEmgj9j-"
   },
   "source": [
    "Similarly, the bounding box limits of the city of New York can\n",
    "be easily checked and used for limiting the exploration of data\n",
    "to trips which were started or finished within the city."
   ]
  },
  {
   "cell_type": "code",
   "execution_count": 14,
   "metadata": {
    "colab": {},
    "colab_type": "code",
    "id": "jRTnxJGnj9j_"
   },
   "outputs": [
    {
     "data": {
      "text/plain": [
       "19461"
      ]
     },
     "execution_count": 14,
     "metadata": {},
     "output_type": "execute_result"
    }
   ],
   "source": [
    "city_long_border = (-74.03, -73.75)\n",
    "city_lat_border = (40.63, 40.85)\n",
    "filter_location = ((train_df['pickup_longitude'] <= city_long_border[1]) &\n",
    "                   (train_df['pickup_longitude'] >= city_long_border[0]) &\n",
    "                   (train_df['pickup_latitude'] <= city_lat_border[1]) &\n",
    "                   (train_df['pickup_latitude'] >= city_lat_border[0]) &\n",
    "                   (train_df['dropoff_longitude'] <= city_long_border[1]) &\n",
    "                   (train_df['dropoff_longitude'] >= city_long_border[0]) &\n",
    "                   (train_df['dropoff_latitude'] <= city_lat_border[1]) &\n",
    "                   (train_df['dropoff_latitude'] >= city_lat_border[0]))\n",
    "                                 \n",
    "(~filter_location).sum()"
   ]
  },
  {
   "cell_type": "code",
   "execution_count": 15,
   "metadata": {
    "colab": {},
    "colab_type": "code",
    "id": "Wh6D15njj9kC"
   },
   "outputs": [
    {
     "name": "stdout",
     "output_type": "stream",
     "text": [
      "<class 'pandas.core.frame.DataFrame'>\n",
      "Int64Index: 1458644 entries, 0 to 1458643\n",
      "Data columns (total 14 columns):\n",
      " #   Column              Non-Null Count    Dtype  \n",
      "---  ------              --------------    -----  \n",
      " 0   id                  1458644 non-null  object \n",
      " 1   vendor_id           1458644 non-null  int64  \n",
      " 2   pickup_datetime     1458644 non-null  object \n",
      " 3   dropoff_datetime    1458644 non-null  object \n",
      " 4   passenger_count     1458644 non-null  int64  \n",
      " 5   pickup_longitude    1458644 non-null  float64\n",
      " 6   pickup_latitude     1458644 non-null  float64\n",
      " 7   dropoff_longitude   1458644 non-null  float64\n",
      " 8   dropoff_latitude    1458644 non-null  float64\n",
      " 9   store_and_fwd_flag  1458644 non-null  object \n",
      " 10  trip_duration       1458644 non-null  int64  \n",
      " 11  total_distance      1458643 non-null  float64\n",
      " 12  total_travel_time   1458643 non-null  float64\n",
      " 13  number_of_steps     1458643 non-null  float64\n",
      "dtypes: float64(7), int64(3), object(4)\n",
      "memory usage: 166.9+ MB\n"
     ]
    }
   ],
   "source": [
    "# in case you have not heard of it\n",
    "# this is a very useful DataFrame function\n",
    "train_df.info()"
   ]
  },
  {
   "cell_type": "markdown",
   "metadata": {
    "colab_type": "text",
    "id": "UKh-1Myfj9kF"
   },
   "source": [
    "### Data Preparation"
   ]
  },
  {
   "cell_type": "code",
   "execution_count": 16,
   "metadata": {
    "colab": {},
    "colab_type": "code",
    "id": "xteWNBTkj9kF"
   },
   "outputs": [
    {
     "data": {
      "image/png": "[encoded data removed]",
      "text/plain": [
       "<Figure size 432x288 with 1 Axes>"
      ]
     },
     "metadata": {
      "needs_background": "light"
     },
     "output_type": "display_data"
    }
   ],
   "source": [
    "fig, ax = plt.subplots()\n",
    "\n",
    "ax.hist(train_df.loc[filter_duration,'trip_duration'].values, bins=100)\n",
    "ax.set_xlabel('trip_duration (seconds)')\n",
    "ax.set_ylabel('number of train records');"
   ]
  },
  {
   "cell_type": "code",
   "execution_count": 17,
   "metadata": {
    "colab": {},
    "colab_type": "code",
    "id": "0MuzxnH8j9kI"
   },
   "outputs": [
    {
     "data": {
      "text/plain": [
       "Text(0, 0.5, 'number of train records')"
      ]
     },
     "execution_count": 17,
     "metadata": {},
     "output_type": "execute_result"
    },
    {
     "data": {
      "image/png": "[encoded data removed]",
      "text/plain": [
       "<Figure size 432x288 with 1 Axes>"
      ]
     },
     "metadata": {
      "needs_background": "light"
     },
     "output_type": "display_data"
    }
   ],
   "source": [
    "train_df['log_trip_duration'] = np.log(train_df['trip_duration'].values + 1)\n",
    "\n",
    "fig, ax = plt.subplots()\n",
    "\n",
    "ax.hist(train_df['log_trip_duration'].values, bins=100)\n",
    "ax.set_xlabel('log(trip_duration)')\n",
    "ax.set_ylabel('number of train records')"
   ]
  },
  {
   "cell_type": "code",
   "execution_count": 18,
   "metadata": {
    "colab": {},
    "colab_type": "code",
    "id": "HO7Bmn1lj9kK"
   },
   "outputs": [
    {
     "data": {
      "text/plain": [
       "<matplotlib.axes._subplots.AxesSubplot at 0x7fc49f738110>"
      ]
     },
     "execution_count": 18,
     "metadata": {},
     "output_type": "execute_result"
    },
    {
     "data": {
      "image/png": "[encoded data removed]",
      "text/plain": [
       "<Figure size 432x288 with 1 Axes>"
      ]
     },
     "metadata": {
      "needs_background": "light"
     },
     "output_type": "display_data"
    }
   ],
   "source": [
    "pc = train_df[filter_duration].groupby('passenger_count')['trip_duration'].mean()\n",
    "\n",
    "fig, ax = plt.subplots()\n",
    "ax.set_ylim(ymin=0)\n",
    "ax.set_ylim(ymax=1100)\n",
    "plt.title('passenger count')\n",
    "plt.ylabel('Time in Seconds')\n",
    "sns.barplot(pc.index,pc.values)"
   ]
  },
  {
   "cell_type": "code",
   "execution_count": 19,
   "metadata": {
    "colab": {},
    "colab_type": "code",
    "id": "i8o5haK9j9kN"
   },
   "outputs": [],
   "source": [
    "train_df['pickup_datetime'] = pd.to_datetime(train_df.pickup_datetime)\n",
    "test_df['pickup_datetime'] = pd.to_datetime(test_df.pickup_datetime)\n",
    "train_df.loc[:, 'pickup_date'] = train_df['pickup_datetime'].dt.date\n",
    "test_df.loc[:, 'pickup_date'] = test_df['pickup_datetime'].dt.date\n",
    "train_df['dropoff_datetime'] = pd.to_datetime(train_df.dropoff_datetime)"
   ]
  },
  {
   "cell_type": "code",
   "execution_count": 20,
   "metadata": {
    "colab": {},
    "colab_type": "code",
    "id": "UYBLZO1sj9kP"
   },
   "outputs": [
    {
     "data": {
      "image/png": "[encoded data removed]",
      "text/plain": [
       "<Figure size 432x288 with 1 Axes>"
      ]
     },
     "metadata": {
      "needs_background": "light"
     },
     "output_type": "display_data"
    }
   ],
   "source": [
    "\n",
    "fig, ax = plt.subplots()\n",
    "ax.plot(train_df.groupby('pickup_date').count()[['id']],\n",
    "         'o-', label='train')\n",
    "ax.plot(test_df.groupby('pickup_date').count()[['id']],\n",
    "         'o-', label='test_df')\n",
    "ax.set_title('Trips over Time.')\n",
    "ax.legend(loc=0);"
   ]
  },
  {
   "cell_type": "code",
   "execution_count": 21,
   "metadata": {
    "colab": {},
    "colab_type": "code",
    "id": "oOftsdCuj9kS"
   },
   "outputs": [
    {
     "data": {
      "text/plain": [
       "(-74.03, -73.75)"
      ]
     },
     "execution_count": 21,
     "metadata": {},
     "output_type": "execute_result"
    },
    {
     "data": {
      "image/png": "[encoded data removed]",
      "text/plain": [
       "<Figure size 432x288 with 2 Axes>"
      ]
     },
     "metadata": {
      "needs_background": "light"
     },
     "output_type": "display_data"
    }
   ],
   "source": [
    "city_long_border = (-74.03, -73.75)\n",
    "city_lat_border = (40.63, 40.85)\n",
    "fig, ax = plt.subplots(ncols=2, sharex=True, sharey=True)\n",
    "ax[0].scatter(train_df['pickup_longitude'].values[:100000], train_df['pickup_latitude'].values[:100000],\n",
    "              color='blue', s=1, label='train', alpha=0.1)\n",
    "ax[1].scatter(test_df['pickup_longitude'].values[:100000], test_df['pickup_latitude'].values[:100000],\n",
    "              color='green', s=1, label='test_df', alpha=0.1)\n",
    "fig.suptitle('Train and test area complete overlap.')\n",
    "ax[0].legend(loc=0)\n",
    "ax[0].set_ylabel('latitude')\n",
    "ax[0].set_xlabel('longitude')\n",
    "ax[1].set_xlabel('longitude')\n",
    "ax[1].legend(loc=0)\n",
    "plt.ylim(city_lat_border)\n",
    "plt.xlim(city_long_border)"
   ]
  },
  {
   "cell_type": "markdown",
   "metadata": {
    "colab_type": "text",
    "id": "YjSn2nvJj9kW"
   },
   "source": [
    "### Folium: Interactive Maps in the Jupyter Notebook\n",
    "\n",
    "\n",
    "Folium is a flexible Python library that can be used to work with interactive Leaflet.js maps."
   ]
  },
  {
   "cell_type": "code",
   "execution_count": 22,
   "metadata": {
    "colab": {},
    "colab_type": "code",
    "id": "mrwCNlvij9kX"
   },
   "outputs": [
    {
     "name": "stdout",
     "output_type": "stream",
     "text": [
      "Collecting folium\n",
      "\u001b[?25l  Downloading https://files.pythonhosted.org/packages/fd/a0/ccb3094026649cda4acd55bf2c3822bb8c277eb11446d13d384e5be35257/folium-0.10.1-py2.py3-none-any.whl (91kB)\n",
      "\u001b[K     |████████████████████████████████| 92kB 2.5MB/s eta 0:00:011\n",
      "\u001b[?25hRequirement already satisfied: requests in /home/nicolo/miniconda3/lib/python3.7/site-packages (from folium) (2.22.0)\n",
      "Collecting branca>=0.3.0\n",
      "  Downloading https://files.pythonhosted.org/packages/81/6d/31c83485189a2521a75b4130f1fee5364f772a0375f81afff619004e5237/branca-0.4.0-py3-none-any.whl\n",
      "Requirement already satisfied: jinja2>=2.9 in /home/nicolo/miniconda3/lib/python3.7/site-packages (from folium) (2.10.3)\n",
      "Requirement already satisfied: numpy in /home/nicolo/miniconda3/lib/python3.7/site-packages (from folium) (1.18.1)\n",
      "Requirement already satisfied: urllib3!=1.25.0,!=1.25.1,<1.26,>=1.21.1 in /home/nicolo/miniconda3/lib/python3.7/site-packages (from requests->folium) (1.24.2)\n",
      "Requirement already satisfied: chardet<3.1.0,>=3.0.2 in /home/nicolo/miniconda3/lib/python3.7/site-packages (from requests->folium) (3.0.4)\n",
      "Requirement already satisfied: certifi>=2017.4.17 in /home/nicolo/miniconda3/lib/python3.7/site-packages (from requests->folium) (2019.11.28)\n",
      "Requirement already satisfied: idna<2.9,>=2.5 in /home/nicolo/miniconda3/lib/python3.7/site-packages (from requests->folium) (2.8)\n",
      "Requirement already satisfied: six in /home/nicolo/miniconda3/lib/python3.7/site-packages (from branca>=0.3.0->folium) (1.12.0)\n",
      "Requirement already satisfied: MarkupSafe>=0.23 in /home/nicolo/miniconda3/lib/python3.7/site-packages (from jinja2>=2.9->folium) (1.1.1)\n",
      "Installing collected packages: branca, folium\n",
      "Successfully installed branca-0.4.0 folium-0.10.1\n"
     ]
    }
   ],
   "source": [
    "!pip install folium\n",
    "import folium"
   ]
  },
  {
   "cell_type": "code",
   "execution_count": 23,
   "metadata": {
    "colab": {},
    "colab_type": "code",
    "id": "6T0ajELzj9ka"
   },
   "outputs": [
    {
     "data": {
      "text/html": [
       "<div style=\"width:100%;\"><div style=\"position:relative;width:100%;height:0;padding-bottom:60%;\"><iframe src=\"about:blank\" style=\"position:absolute;width:100%;height:100%;left:0;top:0;border:none !important;\" data-html=PCFET0NUWVBFIGh0bWw+CjxoZWFkPiAgICAKICAgIDxtZXRhIGh0dHAtZXF1aXY9ImNvbnRlbnQtdHlwZSIgY29udGVudD0idGV4dC9odG1sOyBjaGFyc2V0PVVURi04IiAvPgogICAgCiAgICAgICAgPHNjcmlwdD4KICAgICAgICAgICAgTF9OT19UT1VDSCA9IGZhbHNlOwogICAgICAgICAgICBMX0RJU0FCTEVfM0QgPSBmYWxzZTsKICAgICAgICA8L3NjcmlwdD4KICAgIAogICAgPHNjcmlwdCBzcmM9Imh0dHBzOi8vY2RuLmpzZGVsaXZyLm5ldC9ucG0vbGVhZmxldEAxLjUuMS9kaXN0L2xlYWZsZXQuanMiPjwvc2NyaXB0PgogICAgPHNjcmlwdCBzcmM9Imh0dHBzOi8vY29kZS5qcXVlcnkuY29tL2pxdWVyeS0xLjEyLjQubWluLmpzIj48L3NjcmlwdD4KICAgIDxzY3JpcHQgc3JjPSJodHRwczovL21heGNkbi5ib290c3RyYXBjZG4uY29tL2Jvb3RzdHJhcC8zLjIuMC9qcy9ib290c3RyYXAubWluLmpzIj48L3NjcmlwdD4KICAgIDxzY3JpcHQgc3JjPSJodHRwczovL2NkbmpzLmNsb3VkZmxhcmUuY29tL2FqYXgvbGlicy9MZWFmbGV0LmF3ZXNvbWUtbWFya2Vycy8yLjAuMi9sZWFmbGV0LmF3ZXNvbWUtbWFya2Vycy5qcyI+PC9zY3JpcHQ+CiAgICA8bGluayByZWw9InN0eWxlc2hlZXQiIGhyZWY9Imh0dHBzOi8vY2RuLmpzZGVsaXZyLm5ldC9ucG0vbGVhZmxldEAxLjUuMS9kaXN0L2xlYWZsZXQuY3NzIi8+CiAgICA8bGluayByZWw9InN0eWxlc2hlZXQiIGhyZWY9Imh0dHBzOi8vbWF4Y2RuLmJvb3RzdHJhcGNkbi5jb20vYm9vdHN0cmFwLzMuMi4wL2Nzcy9ib290c3RyYXAubWluLmNzcyIvPgogICAgPGxpbmsgcmVsPSJzdHlsZXNoZWV0IiBocmVmPSJodHRwczovL21heGNkbi5ib290c3RyYXBjZG4uY29tL2Jvb3RzdHJhcC8zLjIuMC9jc3MvYm9vdHN0cmFwLXRoZW1lLm1pbi5jc3MiLz4KICAgIDxsaW5rIHJlbD0ic3R5bGVzaGVldCIgaHJlZj0iaHR0cHM6Ly9tYXhjZG4uYm9vdHN0cmFwY2RuLmNvbS9mb250LWF3ZXNvbWUvNC42LjMvY3NzL2ZvbnQtYXdlc29tZS5taW4uY3NzIi8+CiAgICA8bGluayByZWw9InN0eWxlc2hlZXQiIGhyZWY9Imh0dHBzOi8vY2RuanMuY2xvdWRmbGFyZS5jb20vYWpheC9saWJzL0xlYWZsZXQuYXdlc29tZS1tYXJrZXJzLzIuMC4yL2xlYWZsZXQuYXdlc29tZS1tYXJrZXJzLmNzcyIvPgogICAgPGxpbmsgcmVsPSJzdHlsZXNoZWV0IiBocmVmPSJodHRwczovL3Jhd2Nkbi5naXRoYWNrLmNvbS9weXRob24tdmlzdWFsaXphdGlvbi9mb2xpdW0vbWFzdGVyL2ZvbGl1bS90ZW1wbGF0ZXMvbGVhZmxldC5hd2Vzb21lLnJvdGF0ZS5jc3MiLz4KICAgIDxzdHlsZT5odG1sLCBib2R5IHt3aWR0aDogMTAwJTtoZWlnaHQ6IDEwMCU7bWFyZ2luOiAwO3BhZGRpbmc6IDA7fTwvc3R5bGU+CiAgICA8c3R5bGU+I21hcCB7cG9zaXRpb246YWJzb2x1dGU7dG9wOjA7Ym90dG9tOjA7cmlnaHQ6MDtsZWZ0OjA7fTwvc3R5bGU+CiAgICAKICAgICAgICAgICAgPG1ldGEgbmFtZT0idmlld3BvcnQiIGNvbnRlbnQ9IndpZHRoPWRldmljZS13aWR0aCwKICAgICAgICAgICAgICAgIGluaXRpYWwtc2NhbGU9MS4wLCBtYXhpbXVtLXNjYWxlPTEuMCwgdXNlci1zY2FsYWJsZT1ubyIgLz4KICAgICAgICAgICAgPHN0eWxlPgogICAgICAgICAgICAgICAgI21hcF85NTNiOTBiMTAzNjE0Mjk1YTZmNjQ1Zjk3MzA2MWQyYyB7CiAgICAgICAgICAgICAgICAgICAgcG9zaXRpb246IHJlbGF0aXZlOwogICAgICAgICAgICAgICAgICAgIHdpZHRoOiAxMDAuMCU7CiAgICAgICAgICAgICAgICAgICAgaGVpZ2h0OiAxMDAuMCU7CiAgICAgICAgICAgICAgICAgICAgbGVmdDogMC4wJTsKICAgICAgICAgICAgICAgICAgICB0b3A6IDAuMCU7CiAgICAgICAgICAgICAgICB9CiAgICAgICAgICAgIDwvc3R5bGU+CiAgICAgICAgCjwvaGVhZD4KPGJvZHk+ICAgIAogICAgCiAgICAgICAgICAgIDxkaXYgY2xhc3M9ImZvbGl1bS1tYXAiIGlkPSJtYXBfOTUzYjkwYjEwMzYxNDI5NWE2ZjY0NWY5NzMwNjFkMmMiID48L2Rpdj4KICAgICAgICAKPC9ib2R5Pgo8c2NyaXB0PiAgICAKICAgIAogICAgICAgICAgICB2YXIgbWFwXzk1M2I5MGIxMDM2MTQyOTVhNmY2NDVmOTczMDYxZDJjID0gTC5tYXAoCiAgICAgICAgICAgICAgICAibWFwXzk1M2I5MGIxMDM2MTQyOTVhNmY2NDVmOTczMDYxZDJjIiwKICAgICAgICAgICAgICAgIHsKICAgICAgICAgICAgICAgICAgICBjZW50ZXI6IFs0My40NzExOTgsIC0zLjgwMTM2Ml0sCiAgICAgICAgICAgICAgICAgICAgY3JzOiBMLkNSUy5FUFNHMzg1NywKICAgICAgICAgICAgICAgICAgICB6b29tOiAxMywKICAgICAgICAgICAgICAgICAgICB6b29tQ29udHJvbDogdHJ1ZSwKICAgICAgICAgICAgICAgICAgICBwcmVmZXJDYW52YXM6IGZhbHNlLAogICAgICAgICAgICAgICAgfQogICAgICAgICAgICApOwoKICAgICAgICAgICAgCgogICAgICAgIAogICAgCiAgICAgICAgICAgIHZhciB0aWxlX2xheWVyX2U1ZGZkZTk3MWFhMTQzMzA4ZWI4MDQwNmQ5OWI4NGE5ID0gTC50aWxlTGF5ZXIoCiAgICAgICAgICAgICAgICAiaHR0cHM6Ly97c30udGlsZS5vcGVuc3RyZWV0bWFwLm9yZy97en0ve3h9L3t5fS5wbmciLAogICAgICAgICAgICAgICAgeyJhdHRyaWJ1dGlvbiI6ICJEYXRhIGJ5IFx1MDAyNmNvcHk7IFx1MDAzY2EgaHJlZj1cImh0dHA6Ly9vcGVuc3RyZWV0bWFwLm9yZ1wiXHUwMDNlT3BlblN0cmVldE1hcFx1MDAzYy9hXHUwMDNlLCB1bmRlciBcdTAwM2NhIGhyZWY9XCJodHRwOi8vd3d3Lm9wZW5zdHJlZXRtYXAub3JnL2NvcHlyaWdodFwiXHUwMDNlT0RiTFx1MDAzYy9hXHUwMDNlLiIsICJkZXRlY3RSZXRpbmEiOiBmYWxzZSwgIm1heE5hdGl2ZVpvb20iOiAxOCwgIm1heFpvb20iOiAxOCwgIm1pblpvb20iOiAwLCAibm9XcmFwIjogZmFsc2UsICJvcGFjaXR5IjogMSwgInN1YmRvbWFpbnMiOiAiYWJjIiwgInRtcyI6IGZhbHNlfQogICAgICAgICAgICApLmFkZFRvKG1hcF85NTNiOTBiMTAzNjE0Mjk1YTZmNjQ1Zjk3MzA2MWQyYyk7CiAgICAgICAgCiAgICAKICAgICAgICAgICAgdmFyIG1hcmtlcl9mNmU4M2Y3MzE5N2I0NTNmYmMwYjUzZWEwNmEzZTUwYiA9IEwubWFya2VyKAogICAgICAgICAgICAgICAgWzQzLjQ3MTE5OCwgLTMuODAxMzYyXSwKICAgICAgICAgICAgICAgIHt9CiAgICAgICAgICAgICkuYWRkVG8obWFwXzk1M2I5MGIxMDM2MTQyOTVhNmY2NDVmOTczMDYxZDJjKTsKICAgICAgICAKICAgIAogICAgICAgIHZhciBwb3B1cF82OTdiMTNlZDhjYTQ0MDJlOTExMWU3OWFlYjFkNDJmYiA9IEwucG9wdXAoeyJtYXhXaWR0aCI6ICIxMDAlIn0pOwoKICAgICAgICAKICAgICAgICAgICAgdmFyIGh0bWxfMjRkMTEwZDc2YzkwNDM2M2JiYWU5NjYxZmY5ZjQ5YWQgPSAkKGA8ZGl2IGlkPSJodG1sXzI0ZDExMGQ3NmM5MDQzNjNiYmFlOTY2MWZmOWY0OWFkIiBzdHlsZT0id2lkdGg6IDEwMC4wJTsgaGVpZ2h0OiAxMDAuMCU7Ij48Yj5VcyE8L2I+PC9kaXY+YClbMF07CiAgICAgICAgICAgIHBvcHVwXzY5N2IxM2VkOGNhNDQwMmU5MTExZTc5YWViMWQ0MmZiLnNldENvbnRlbnQoaHRtbF8yNGQxMTBkNzZjOTA0MzYzYmJhZTk2NjFmZjlmNDlhZCk7CiAgICAgICAgCgogICAgICAgIG1hcmtlcl9mNmU4M2Y3MzE5N2I0NTNmYmMwYjUzZWEwNmEzZTUwYi5iaW5kUG9wdXAocG9wdXBfNjk3YjEzZWQ4Y2E0NDAyZTkxMTFlNzlhZWIxZDQyZmIpCiAgICAgICAgOwoKICAgICAgICAKICAgIAo8L3NjcmlwdD4= onload=\"this.contentDocument.open();this.contentDocument.write(atob(this.getAttribute('data-html')));this.contentDocument.close();\" allowfullscreen webkitallowfullscreen mozallowfullscreen></iframe></div></div>"
      ],
      "text/plain": [
       "<folium.folium.Map at 0x7fc48f753550>"
      ]
     },
     "execution_count": 23,
     "metadata": {},
     "output_type": "execute_result"
    }
   ],
   "source": [
    "location = (43.471198, -3.801362)\n",
    "m = folium.Map(location=location,\n",
    "               zoom_start=13)\n",
    "\n",
    "popup = '<b>Us!</b>'\n",
    "folium.Marker(location, popup=popup).add_to(m)\n",
    "\n",
    "m"
   ]
  },
  {
   "cell_type": "markdown",
   "metadata": {
    "colab_type": "text",
    "id": "oi89ZK_2j9kc"
   },
   "source": [
    "#### Folium Exercise\n",
    "\n",
    "In addition of New York State, where else where New York\n",
    "taxis picked up? Represent some of far the location outliers\n",
    "(remember the `~filter_location` variable) in a Folium map.\n"
   ]
  },
  {
   "cell_type": "code",
   "execution_count": 32,
   "metadata": {
    "colab": {},
    "colab_type": "code",
    "id": "Usk0W7tdj9ke"
   },
   "outputs": [
    {
     "data": {
      "text/html": [
       "<div style=\"width:100%;\"><div style=\"position:relative;width:100%;height:0;padding-bottom:60%;\"><iframe src=\"about:blank\" style=\"position:absolute;width:100%;height:100%;left:0;top:0;border:none !important;\" data-html=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 onload=\"this.contentDocument.open();this.contentDocument.write(atob(this.getAttribute('data-html')));this.contentDocument.close();\" allowfullscreen webkitallowfullscreen mozallowfullscreen></iframe></div></div>"
      ],
      "text/plain": [
       "<folium.folium.Map at 0x7fc48a1ea310>"
      ]
     },
     "execution_count": 32,
     "metadata": {},
     "output_type": "execute_result"
    }
   ],
   "source": [
    "# write here the solution of the exercise\n",
    "\n",
    "idx = 784\n",
    "\n",
    "location = (train_df.loc[~filter_location].iloc[idx].dropoff_latitude,\n",
    "            train_df.loc[~filter_location].iloc[idx].dropoff_longitude)\n",
    "\n",
    "n = folium.Map(location=location,\n",
    "               zoom_start=13)\n",
    "\n",
    "popup = '<b>Us!</b>'\n",
    "folium.Marker(location, popup=popup).add_to(n)\n",
    "\n",
    "n"
   ]
  },
  {
   "cell_type": "markdown",
   "metadata": {
    "colab_type": "text",
    "id": "bMbvPcSTj9kf"
   },
   "source": [
    "## More Advanced Feature Engineering\n",
    "\n",
    "### Principal Component Analysis (PCA)\n",
    "\n",
    "In some cases, PCA over some of the features can be used to\n",
    "obtain transformed features that can be used more efficiently\n",
    "for model training.\n"
   ]
  },
  {
   "cell_type": "code",
   "execution_count": 34,
   "metadata": {
    "colab": {},
    "colab_type": "code",
    "id": "jEXw4RGyj9kg"
   },
   "outputs": [
    {
     "data": {
      "text/html": [
       "<div>\n",
       "<style scoped>\n",
       "    .dataframe tbody tr th:only-of-type {\n",
       "        vertical-align: middle;\n",
       "    }\n",
       "\n",
       "    .dataframe tbody tr th {\n",
       "        vertical-align: top;\n",
       "    }\n",
       "\n",
       "    .dataframe thead th {\n",
       "        text-align: right;\n",
       "    }\n",
       "</style>\n",
       "<table border=\"1\" class=\"dataframe\">\n",
       "  <thead>\n",
       "    <tr style=\"text-align: right;\">\n",
       "      <th></th>\n",
       "      <th>id</th>\n",
       "      <th>vendor_id</th>\n",
       "      <th>pickup_datetime</th>\n",
       "      <th>dropoff_datetime</th>\n",
       "      <th>passenger_count</th>\n",
       "      <th>pickup_longitude</th>\n",
       "      <th>pickup_latitude</th>\n",
       "      <th>dropoff_longitude</th>\n",
       "      <th>dropoff_latitude</th>\n",
       "      <th>store_and_fwd_flag</th>\n",
       "      <th>trip_duration</th>\n",
       "      <th>total_distance</th>\n",
       "      <th>total_travel_time</th>\n",
       "      <th>number_of_steps</th>\n",
       "      <th>log_trip_duration</th>\n",
       "      <th>pickup_date</th>\n",
       "      <th>pickup_pca0</th>\n",
       "      <th>pickup_pca1</th>\n",
       "      <th>dropoff_pca0</th>\n",
       "      <th>dropoff_pca1</th>\n",
       "    </tr>\n",
       "  </thead>\n",
       "  <tbody>\n",
       "    <tr>\n",
       "      <th>0</th>\n",
       "      <td>id2875421</td>\n",
       "      <td>2</td>\n",
       "      <td>2016-03-14 17:24:55</td>\n",
       "      <td>2016-03-14 17:32:30</td>\n",
       "      <td>1</td>\n",
       "      <td>-73.982155</td>\n",
       "      <td>40.767937</td>\n",
       "      <td>-73.964630</td>\n",
       "      <td>40.765602</td>\n",
       "      <td>N</td>\n",
       "      <td>455</td>\n",
       "      <td>2009.1</td>\n",
       "      <td>164.9</td>\n",
       "      <td>5.0</td>\n",
       "      <td>6.122493</td>\n",
       "      <td>2016-03-14</td>\n",
       "      <td>0.007691</td>\n",
       "      <td>0.017053</td>\n",
       "      <td>-0.009666</td>\n",
       "      <td>0.013695</td>\n",
       "    </tr>\n",
       "    <tr>\n",
       "      <th>1</th>\n",
       "      <td>id2377394</td>\n",
       "      <td>1</td>\n",
       "      <td>2016-06-12 00:43:35</td>\n",
       "      <td>2016-06-12 00:54:38</td>\n",
       "      <td>1</td>\n",
       "      <td>-73.980415</td>\n",
       "      <td>40.738564</td>\n",
       "      <td>-73.999481</td>\n",
       "      <td>40.731152</td>\n",
       "      <td>N</td>\n",
       "      <td>663</td>\n",
       "      <td>2513.2</td>\n",
       "      <td>332.0</td>\n",
       "      <td>6.0</td>\n",
       "      <td>6.498282</td>\n",
       "      <td>2016-06-12</td>\n",
       "      <td>0.007677</td>\n",
       "      <td>-0.012371</td>\n",
       "      <td>0.027145</td>\n",
       "      <td>-0.018652</td>\n",
       "    </tr>\n",
       "    <tr>\n",
       "      <th>2</th>\n",
       "      <td>id3858529</td>\n",
       "      <td>2</td>\n",
       "      <td>2016-01-19 11:35:24</td>\n",
       "      <td>2016-01-19 12:10:48</td>\n",
       "      <td>1</td>\n",
       "      <td>-73.979027</td>\n",
       "      <td>40.763939</td>\n",
       "      <td>-74.005333</td>\n",
       "      <td>40.710087</td>\n",
       "      <td>N</td>\n",
       "      <td>2124</td>\n",
       "      <td>11060.8</td>\n",
       "      <td>767.6</td>\n",
       "      <td>16.0</td>\n",
       "      <td>7.661527</td>\n",
       "      <td>2016-01-19</td>\n",
       "      <td>0.004803</td>\n",
       "      <td>0.012879</td>\n",
       "      <td>0.034222</td>\n",
       "      <td>-0.039337</td>\n",
       "    </tr>\n",
       "    <tr>\n",
       "      <th>3</th>\n",
       "      <td>id3504673</td>\n",
       "      <td>2</td>\n",
       "      <td>2016-04-06 19:32:31</td>\n",
       "      <td>2016-04-06 19:39:40</td>\n",
       "      <td>1</td>\n",
       "      <td>-74.010040</td>\n",
       "      <td>40.719971</td>\n",
       "      <td>-74.012268</td>\n",
       "      <td>40.706718</td>\n",
       "      <td>N</td>\n",
       "      <td>429</td>\n",
       "      <td>1779.4</td>\n",
       "      <td>235.8</td>\n",
       "      <td>4.0</td>\n",
       "      <td>6.063785</td>\n",
       "      <td>2016-04-06</td>\n",
       "      <td>0.038342</td>\n",
       "      <td>-0.029194</td>\n",
       "      <td>0.041343</td>\n",
       "      <td>-0.042293</td>\n",
       "    </tr>\n",
       "    <tr>\n",
       "      <th>4</th>\n",
       "      <td>id2181028</td>\n",
       "      <td>2</td>\n",
       "      <td>2016-03-26 13:30:55</td>\n",
       "      <td>2016-03-26 13:38:10</td>\n",
       "      <td>1</td>\n",
       "      <td>-73.973053</td>\n",
       "      <td>40.793209</td>\n",
       "      <td>-73.972923</td>\n",
       "      <td>40.782520</td>\n",
       "      <td>N</td>\n",
       "      <td>435</td>\n",
       "      <td>1614.9</td>\n",
       "      <td>140.1</td>\n",
       "      <td>5.0</td>\n",
       "      <td>6.077642</td>\n",
       "      <td>2016-03-26</td>\n",
       "      <td>-0.002877</td>\n",
       "      <td>0.041749</td>\n",
       "      <td>-0.002380</td>\n",
       "      <td>0.031071</td>\n",
       "    </tr>\n",
       "  </tbody>\n",
       "</table>\n",
       "</div>"
      ],
      "text/plain": [
       "          id  vendor_id     pickup_datetime    dropoff_datetime  \\\n",
       "0  id2875421          2 2016-03-14 17:24:55 2016-03-14 17:32:30   \n",
       "1  id2377394          1 2016-06-12 00:43:35 2016-06-12 00:54:38   \n",
       "2  id3858529          2 2016-01-19 11:35:24 2016-01-19 12:10:48   \n",
       "3  id3504673          2 2016-04-06 19:32:31 2016-04-06 19:39:40   \n",
       "4  id2181028          2 2016-03-26 13:30:55 2016-03-26 13:38:10   \n",
       "\n",
       "   passenger_count  pickup_longitude  pickup_latitude  dropoff_longitude  \\\n",
       "0                1        -73.982155        40.767937         -73.964630   \n",
       "1                1        -73.980415        40.738564         -73.999481   \n",
       "2                1        -73.979027        40.763939         -74.005333   \n",
       "3                1        -74.010040        40.719971         -74.012268   \n",
       "4                1        -73.973053        40.793209         -73.972923   \n",
       "\n",
       "   dropoff_latitude store_and_fwd_flag  trip_duration  total_distance  \\\n",
       "0         40.765602                  N            455          2009.1   \n",
       "1         40.731152                  N            663          2513.2   \n",
       "2         40.710087                  N           2124         11060.8   \n",
       "3         40.706718                  N            429          1779.4   \n",
       "4         40.782520                  N            435          1614.9   \n",
       "\n",
       "   total_travel_time  number_of_steps  log_trip_duration pickup_date  \\\n",
       "0              164.9              5.0           6.122493  2016-03-14   \n",
       "1              332.0              6.0           6.498282  2016-06-12   \n",
       "2              767.6             16.0           7.661527  2016-01-19   \n",
       "3              235.8              4.0           6.063785  2016-04-06   \n",
       "4              140.1              5.0           6.077642  2016-03-26   \n",
       "\n",
       "   pickup_pca0  pickup_pca1  dropoff_pca0  dropoff_pca1  \n",
       "0     0.007691     0.017053     -0.009666      0.013695  \n",
       "1     0.007677    -0.012371      0.027145     -0.018652  \n",
       "2     0.004803     0.012879      0.034222     -0.039337  \n",
       "3     0.038342    -0.029194      0.041343     -0.042293  \n",
       "4    -0.002877     0.041749     -0.002380      0.031071  "
      ]
     },
     "execution_count": 34,
     "metadata": {},
     "output_type": "execute_result"
    }
   ],
   "source": [
    "from sklearn.decomposition import PCA\n",
    "# fit PCA\n",
    "coords = np.vstack((train_df[['pickup_latitude',\n",
    "                           'pickup_longitude']].values,\n",
    "                    train_df[['dropoff_latitude',\n",
    "                           'dropoff_longitude']].values,\n",
    "                    test_df[['pickup_latitude',\n",
    "                          'pickup_longitude']].values,\n",
    "                    test_df[['dropoff_latitude',\n",
    "                          'dropoff_longitude']].values))\n",
    "\n",
    "pca = PCA().fit(coords)\n",
    "\n",
    "# add as new features\n",
    "train_df['pickup_pca0'] = pca.transform(train_df[['pickup_latitude', 'pickup_longitude']])[:, 0]\n",
    "train_df['pickup_pca1'] = pca.transform(train_df[['pickup_latitude', 'pickup_longitude']])[:, 1]\n",
    "train_df['dropoff_pca0'] = pca.transform(train_df[['dropoff_latitude', 'dropoff_longitude']])[:, 0]\n",
    "train_df['dropoff_pca1'] = pca.transform(train_df[['dropoff_latitude', 'dropoff_longitude']])[:, 1]\n",
    "test_df['pickup_pca0'] = pca.transform(test_df[['pickup_latitude', 'pickup_longitude']])[:, 0]\n",
    "test_df['pickup_pca1'] = pca.transform(test_df[['pickup_latitude', 'pickup_longitude']])[:, 1]\n",
    "test_df['dropoff_pca0'] = pca.transform(test_df[['dropoff_latitude', 'dropoff_longitude']])[:, 0]\n",
    "test_df['dropoff_pca1'] = pca.transform(test_df[['dropoff_latitude', 'dropoff_longitude']])[:, 1]\n",
    "\n",
    "train_df.head(5)"
   ]
  },
  {
   "cell_type": "markdown",
   "metadata": {
    "colab_type": "text",
    "id": "biGe8U1Tj9kj"
   },
   "source": [
    "### Date extraction\n",
    "\n",
    "Get hour of the day, day of the week, day of the month\n",
    "and month number to better encode the date. These will\n",
    "much better represent the periodicity of the traffic."
   ]
  },
  {
   "cell_type": "code",
   "execution_count": 35,
   "metadata": {
    "colab": {},
    "colab_type": "code",
    "id": "2EV2sjboj9kj"
   },
   "outputs": [
    {
     "data": {
      "text/html": [
       "<div>\n",
       "<style scoped>\n",
       "    .dataframe tbody tr th:only-of-type {\n",
       "        vertical-align: middle;\n",
       "    }\n",
       "\n",
       "    .dataframe tbody tr th {\n",
       "        vertical-align: top;\n",
       "    }\n",
       "\n",
       "    .dataframe thead th {\n",
       "        text-align: right;\n",
       "    }\n",
       "</style>\n",
       "<table border=\"1\" class=\"dataframe\">\n",
       "  <thead>\n",
       "    <tr style=\"text-align: right;\">\n",
       "      <th></th>\n",
       "      <th>id</th>\n",
       "      <th>vendor_id</th>\n",
       "      <th>pickup_datetime</th>\n",
       "      <th>dropoff_datetime</th>\n",
       "      <th>passenger_count</th>\n",
       "      <th>pickup_longitude</th>\n",
       "      <th>pickup_latitude</th>\n",
       "      <th>dropoff_longitude</th>\n",
       "      <th>dropoff_latitude</th>\n",
       "      <th>store_and_fwd_flag</th>\n",
       "      <th>...</th>\n",
       "      <th>log_trip_duration</th>\n",
       "      <th>pickup_date</th>\n",
       "      <th>pickup_pca0</th>\n",
       "      <th>pickup_pca1</th>\n",
       "      <th>dropoff_pca0</th>\n",
       "      <th>dropoff_pca1</th>\n",
       "      <th>Month</th>\n",
       "      <th>DayofMonth</th>\n",
       "      <th>Hour</th>\n",
       "      <th>dayofweek</th>\n",
       "    </tr>\n",
       "  </thead>\n",
       "  <tbody>\n",
       "    <tr>\n",
       "      <th>0</th>\n",
       "      <td>id2875421</td>\n",
       "      <td>2</td>\n",
       "      <td>2016-03-14 17:24:55</td>\n",
       "      <td>2016-03-14 17:32:30</td>\n",
       "      <td>1</td>\n",
       "      <td>-73.982155</td>\n",
       "      <td>40.767937</td>\n",
       "      <td>-73.964630</td>\n",
       "      <td>40.765602</td>\n",
       "      <td>N</td>\n",
       "      <td>...</td>\n",
       "      <td>6.122493</td>\n",
       "      <td>2016-03-14</td>\n",
       "      <td>0.007691</td>\n",
       "      <td>0.017053</td>\n",
       "      <td>-0.009666</td>\n",
       "      <td>0.013695</td>\n",
       "      <td>3</td>\n",
       "      <td>14</td>\n",
       "      <td>17</td>\n",
       "      <td>0</td>\n",
       "    </tr>\n",
       "    <tr>\n",
       "      <th>1</th>\n",
       "      <td>id2377394</td>\n",
       "      <td>1</td>\n",
       "      <td>2016-06-12 00:43:35</td>\n",
       "      <td>2016-06-12 00:54:38</td>\n",
       "      <td>1</td>\n",
       "      <td>-73.980415</td>\n",
       "      <td>40.738564</td>\n",
       "      <td>-73.999481</td>\n",
       "      <td>40.731152</td>\n",
       "      <td>N</td>\n",
       "      <td>...</td>\n",
       "      <td>6.498282</td>\n",
       "      <td>2016-06-12</td>\n",
       "      <td>0.007677</td>\n",
       "      <td>-0.012371</td>\n",
       "      <td>0.027145</td>\n",
       "      <td>-0.018652</td>\n",
       "      <td>6</td>\n",
       "      <td>12</td>\n",
       "      <td>0</td>\n",
       "      <td>6</td>\n",
       "    </tr>\n",
       "    <tr>\n",
       "      <th>2</th>\n",
       "      <td>id3858529</td>\n",
       "      <td>2</td>\n",
       "      <td>2016-01-19 11:35:24</td>\n",
       "      <td>2016-01-19 12:10:48</td>\n",
       "      <td>1</td>\n",
       "      <td>-73.979027</td>\n",
       "      <td>40.763939</td>\n",
       "      <td>-74.005333</td>\n",
       "      <td>40.710087</td>\n",
       "      <td>N</td>\n",
       "      <td>...</td>\n",
       "      <td>7.661527</td>\n",
       "      <td>2016-01-19</td>\n",
       "      <td>0.004803</td>\n",
       "      <td>0.012879</td>\n",
       "      <td>0.034222</td>\n",
       "      <td>-0.039337</td>\n",
       "      <td>1</td>\n",
       "      <td>19</td>\n",
       "      <td>11</td>\n",
       "      <td>1</td>\n",
       "    </tr>\n",
       "    <tr>\n",
       "      <th>3</th>\n",
       "      <td>id3504673</td>\n",
       "      <td>2</td>\n",
       "      <td>2016-04-06 19:32:31</td>\n",
       "      <td>2016-04-06 19:39:40</td>\n",
       "      <td>1</td>\n",
       "      <td>-74.010040</td>\n",
       "      <td>40.719971</td>\n",
       "      <td>-74.012268</td>\n",
       "      <td>40.706718</td>\n",
       "      <td>N</td>\n",
       "      <td>...</td>\n",
       "      <td>6.063785</td>\n",
       "      <td>2016-04-06</td>\n",
       "      <td>0.038342</td>\n",
       "      <td>-0.029194</td>\n",
       "      <td>0.041343</td>\n",
       "      <td>-0.042293</td>\n",
       "      <td>4</td>\n",
       "      <td>6</td>\n",
       "      <td>19</td>\n",
       "      <td>2</td>\n",
       "    </tr>\n",
       "    <tr>\n",
       "      <th>4</th>\n",
       "      <td>id2181028</td>\n",
       "      <td>2</td>\n",
       "      <td>2016-03-26 13:30:55</td>\n",
       "      <td>2016-03-26 13:38:10</td>\n",
       "      <td>1</td>\n",
       "      <td>-73.973053</td>\n",
       "      <td>40.793209</td>\n",
       "      <td>-73.972923</td>\n",
       "      <td>40.782520</td>\n",
       "      <td>N</td>\n",
       "      <td>...</td>\n",
       "      <td>6.077642</td>\n",
       "      <td>2016-03-26</td>\n",
       "      <td>-0.002877</td>\n",
       "      <td>0.041749</td>\n",
       "      <td>-0.002380</td>\n",
       "      <td>0.031071</td>\n",
       "      <td>3</td>\n",
       "      <td>26</td>\n",
       "      <td>13</td>\n",
       "      <td>5</td>\n",
       "    </tr>\n",
       "  </tbody>\n",
       "</table>\n",
       "<p>5 rows × 24 columns</p>\n",
       "</div>"
      ],
      "text/plain": [
       "          id  vendor_id     pickup_datetime    dropoff_datetime  \\\n",
       "0  id2875421          2 2016-03-14 17:24:55 2016-03-14 17:32:30   \n",
       "1  id2377394          1 2016-06-12 00:43:35 2016-06-12 00:54:38   \n",
       "2  id3858529          2 2016-01-19 11:35:24 2016-01-19 12:10:48   \n",
       "3  id3504673          2 2016-04-06 19:32:31 2016-04-06 19:39:40   \n",
       "4  id2181028          2 2016-03-26 13:30:55 2016-03-26 13:38:10   \n",
       "\n",
       "   passenger_count  pickup_longitude  pickup_latitude  dropoff_longitude  \\\n",
       "0                1        -73.982155        40.767937         -73.964630   \n",
       "1                1        -73.980415        40.738564         -73.999481   \n",
       "2                1        -73.979027        40.763939         -74.005333   \n",
       "3                1        -74.010040        40.719971         -74.012268   \n",
       "4                1        -73.973053        40.793209         -73.972923   \n",
       "\n",
       "   dropoff_latitude store_and_fwd_flag  ...  log_trip_duration  pickup_date  \\\n",
       "0         40.765602                  N  ...           6.122493   2016-03-14   \n",
       "1         40.731152                  N  ...           6.498282   2016-06-12   \n",
       "2         40.710087                  N  ...           7.661527   2016-01-19   \n",
       "3         40.706718                  N  ...           6.063785   2016-04-06   \n",
       "4         40.782520                  N  ...           6.077642   2016-03-26   \n",
       "\n",
       "   pickup_pca0  pickup_pca1  dropoff_pca0 dropoff_pca1  Month  DayofMonth  \\\n",
       "0     0.007691     0.017053     -0.009666     0.013695      3          14   \n",
       "1     0.007677    -0.012371      0.027145    -0.018652      6          12   \n",
       "2     0.004803     0.012879      0.034222    -0.039337      1          19   \n",
       "3     0.038342    -0.029194      0.041343    -0.042293      4           6   \n",
       "4    -0.002877     0.041749     -0.002380     0.031071      3          26   \n",
       "\n",
       "   Hour  dayofweek  \n",
       "0    17          0  \n",
       "1     0          6  \n",
       "2    11          1  \n",
       "3    19          2  \n",
       "4    13          5  \n",
       "\n",
       "[5 rows x 24 columns]"
      ]
     },
     "execution_count": 35,
     "metadata": {},
     "output_type": "execute_result"
    }
   ],
   "source": [
    "train_df['Month'] = train_df['pickup_datetime'].dt.month\n",
    "test_df['Month'] = test_df['pickup_datetime'].dt.month\n",
    "train_df['DayofMonth'] = train_df['pickup_datetime'].dt.day\n",
    "test_df['DayofMonth'] = test_df['pickup_datetime'].dt.day\n",
    "train_df['Hour'] = train_df['pickup_datetime'].dt.hour\n",
    "test_df['Hour'] = test_df['pickup_datetime'].dt.hour\n",
    "train_df['dayofweek'] = train_df['pickup_datetime'].dt.dayofweek\n",
    "test_df['dayofweek'] = test_df['pickup_datetime'].dt.dayofweek\n",
    "train_df.head(5)"
   ]
  },
  {
   "cell_type": "markdown",
   "metadata": {
    "colab_type": "text",
    "id": "9mNc9tTHj9kl"
   },
   "source": [
    "### Indicator Variables\n",
    "\n",
    "Categorical data should cannot be used as is within most machine\n",
    "learning techniques. The `pd.get_dummies` function can facilitate\n",
    "the transformation to dummy/indicator variables (also referred as\n",
    "one-hot encoding)."
   ]
  },
  {
   "cell_type": "code",
   "execution_count": 36,
   "metadata": {
    "colab": {},
    "colab_type": "code",
    "id": "IFAPHpyUj9kl"
   },
   "outputs": [],
   "source": [
    "# for example this is the case for the vendor id\n",
    "vendor_train = pd.get_dummies(train_df['vendor_id'], prefix='vi', prefix_sep='_')\n",
    "vendor_test = pd.get_dummies(test_df['vendor_id'], prefix='vi', prefix_sep='_')\n",
    "# store_and_fwd_flag\n",
    "store_and_fwd_flag_train = pd.get_dummies(train_df['store_and_fwd_flag'], prefix='sf', prefix_sep='_')\n",
    "store_and_fwd_flag_test = pd.get_dummies(test_df['store_and_fwd_flag'], prefix='sf', prefix_sep='_')\n",
    "# and passenger_count\n",
    "passenger_count_train = pd.get_dummies(train_df['passenger_count'], prefix='pc', prefix_sep='_')\n",
    "passenger_count_test = pd.get_dummies(test_df['passenger_count'], prefix='pc', prefix_sep='_')\n",
    "# remove some columns so train and test have same shape\n",
    "passenger_count_train.drop([\"pc_7\",\"pc_8\",\"pc_9\"],axis=1,inplace=True)\n",
    "passenger_count_test.drop([\"pc_9\"],axis=1,inplace=True)\n"
   ]
  },
  {
   "cell_type": "code",
   "execution_count": 37,
   "metadata": {
    "colab": {},
    "colab_type": "code",
    "id": "EwDU3hz-j9kn"
   },
   "outputs": [],
   "source": [
    "# we can do the same for the  time categoricals\n",
    "month_train = pd.get_dummies(train_df['Month'], prefix='m', prefix_sep='_')\n",
    "month_test = pd.get_dummies(test_df['Month'], prefix='m', prefix_sep='_')\n",
    "dom_train = pd.get_dummies(train_df['DayofMonth'], prefix='dom', prefix_sep='_')\n",
    "dom_test = pd.get_dummies(test_df['DayofMonth'], prefix='dom', prefix_sep='_')\n",
    "hour_train = pd.get_dummies(train_df['Hour'], prefix='h', prefix_sep='_')\n",
    "hour_test = pd.get_dummies(test_df['Hour'], prefix='h', prefix_sep='_')\n",
    "dow_train = pd.get_dummies(train_df['dayofweek'], prefix='dow', prefix_sep='_')\n",
    "dow_test = pd.get_dummies(test_df['dayofweek'], prefix='dow', prefix_sep='_')"
   ]
  },
  {
   "cell_type": "code",
   "execution_count": 38,
   "metadata": {
    "colab": {},
    "colab_type": "code",
    "id": "U5PGLFOTj9kp"
   },
   "outputs": [],
   "source": [
    "# remove features that will not be available for test\n",
    "# or for which the indicator function has been computed\n",
    "remove_cols = ['id','vendor_id','passenger_count','store_and_fwd_flag',\n",
    "               'Month','DayofMonth','Hour','dayofweek',\n",
    "                'pickup_datetime','pickup_date',\n",
    "               'pickup_longitude','pickup_latitude','dropoff_longitude','dropoff_latitude']\n",
    "train_fea = train_df.drop(remove_cols,axis=1)\n",
    "train_fea = train_fea.drop([\"dropoff_datetime\",\"trip_duration\"], axis=1)\n",
    "test_fea = test_df.drop(remove_cols,axis=1)"
   ]
  },
  {
   "cell_type": "code",
   "execution_count": 39,
   "metadata": {
    "colab": {},
    "colab_type": "code",
    "id": "TRPWdyFGj9ks"
   },
   "outputs": [
    {
     "name": "stdout",
     "output_type": "stream",
     "text": [
      "(1458644, 87) (625134, 86)\n"
     ]
    }
   ],
   "source": [
    "train_all_fea = pd.concat([train_fea,\n",
    "                          vendor_train,\n",
    "                          passenger_count_train,\n",
    "                          store_and_fwd_flag_train,\n",
    "                          month_train,\n",
    "                          dom_train,\n",
    "                          hour_train,\n",
    "                          dow_train], axis=1)\n",
    "test_all_fea = pd.concat([test_fea, \n",
    "                         vendor_test,\n",
    "                         passenger_count_test,\n",
    "                         store_and_fwd_flag_test,\n",
    "                         month_test,\n",
    "                         dom_test,\n",
    "                         hour_test,\n",
    "                         dow_test], axis=1)\n",
    "print(train_all_fea.shape, test_all_fea.shape)"
   ]
  },
  {
   "cell_type": "markdown",
   "metadata": {
    "colab_type": "text",
    "id": "d6DtTKvqj9kw"
   },
   "source": [
    "## XGBoost Training\n",
    "\n",
    "Now that we have preprocess and engineer the model features\n",
    "we can train a Gradient Boosting regression model to predict\n",
    "the trip duration."
   ]
  },
  {
   "cell_type": "code",
   "execution_count": 40,
   "metadata": {
    "colab": {},
    "colab_type": "code",
    "id": "SWBdDeCtj9ky"
   },
   "outputs": [],
   "source": [
    "from sklearn.model_selection import train_test_split\n",
    "# we will only consider 100000 examples to speed up training\n",
    "n_samples = 100000\n",
    "train, valid = train_test_split(train_all_fea[0:n_samples], test_size = 0.2) "
   ]
  },
  {
   "cell_type": "code",
   "execution_count": 41,
   "metadata": {
    "colab": {},
    "colab_type": "code",
    "id": "4aVYrh2rj9k0"
   },
   "outputs": [],
   "source": [
    "X_train = train.drop(['log_trip_duration'], axis=1)\n",
    "y_train = train[\"log_trip_duration\"]\n",
    "X_valid = valid.drop(['log_trip_duration'], axis=1)\n",
    "y_valid = valid[\"log_trip_duration\"]\n",
    "\n",
    "y_valid = y_valid.reset_index().drop('index',axis = 1)\n",
    "y_train = y_train.reset_index().drop('index',axis = 1)"
   ]
  },
  {
   "cell_type": "code",
   "execution_count": 42,
   "metadata": {
    "colab": {},
    "colab_type": "code",
    "id": "hdy1eKj3j9k2"
   },
   "outputs": [],
   "source": [
    "dtrain = xgb.DMatrix(X_train, label=y_train)\n",
    "dvalid = xgb.DMatrix(X_valid, label=y_valid)\n",
    "watchlist = [(dtrain, 'train'), (dvalid, 'valid')]"
   ]
  },
  {
   "cell_type": "code",
   "execution_count": 43,
   "metadata": {
    "colab": {},
    "colab_type": "code",
    "id": "cQwZiqDDj9k4"
   },
   "outputs": [
    {
     "name": "stdout",
     "output_type": "stream",
     "text": [
      "[0]\ttrain-rmse:3.03719\tvalid-rmse:3.03610\n",
      "Multiple eval metrics have been passed: 'valid-rmse' will be used for early stopping.\n",
      "\n",
      "Will train until valid-rmse hasn't improved in 2 rounds.\n",
      "[1]\ttrain-rmse:1.57128\tvalid-rmse:1.57149\n",
      "[2]\ttrain-rmse:0.87919\tvalid-rmse:0.88094\n",
      "[3]\ttrain-rmse:0.58581\tvalid-rmse:0.59203\n",
      "[4]\ttrain-rmse:0.48115\tvalid-rmse:0.49096\n",
      "[5]\ttrain-rmse:0.44709\tvalid-rmse:0.46042\n",
      "[6]\ttrain-rmse:0.43372\tvalid-rmse:0.45033\n",
      "[7]\ttrain-rmse:0.42679\tvalid-rmse:0.44494\n",
      "[8]\ttrain-rmse:0.42101\tvalid-rmse:0.44087\n",
      "[9]\ttrain-rmse:0.41678\tvalid-rmse:0.43884\n",
      "Modeling RMSE 0.43884\n"
     ]
    }
   ],
   "source": [
    "xgb_pars = {'min_child_weight': 1, 'eta': 0.5,\n",
    "            'colsample_bytree': 0.9,  'max_depth': 6,\n",
    "            'subsample': 0.9, 'lambda': 1., 'nthread': -1, 'booster' : 'gbtree', 'silent': 1,\n",
    "            'eval_metric': 'rmse', 'objective': 'reg:linear'}\n",
    "\n",
    "model = xgb.train(xgb_pars, dtrain, 10, watchlist, early_stopping_rounds=2,\n",
    "      maximize=False, verbose_eval=1)\n",
    "print('Modeling RMSE %.5f' % model.best_score)"
   ]
  },
  {
   "cell_type": "markdown",
   "metadata": {
    "colab_type": "text",
    "id": "RpVwARUoj9k6"
   },
   "source": [
    "### Feature Importances\n",
    "\n",
    "XGBoost also provides a tool to obtain feature importance."
   ]
  },
  {
   "cell_type": "code",
   "execution_count": 44,
   "metadata": {
    "colab": {},
    "colab_type": "code",
    "id": "B2NY92m5j9k7"
   },
   "outputs": [
    {
     "data": {
      "text/plain": [
       "<matplotlib.axes._subplots.AxesSubplot at 0x7fc489f42610>"
      ]
     },
     "execution_count": 44,
     "metadata": {},
     "output_type": "execute_result"
    },
    {
     "data": {
      "image/png": "[encoded data removed]",
      "text/plain": [
       "<Figure size 432x288 with 1 Axes>"
      ]
     },
     "metadata": {
      "needs_background": "light"
     },
     "output_type": "display_data"
    }
   ],
   "source": [
    "xgb.plot_importance(model, max_num_features=28, height=0.7)"
   ]
  },
  {
   "cell_type": "markdown",
   "metadata": {
    "colab_type": "text",
    "id": "bpo-V_Osj9k_"
   },
   "source": [
    "### Exercise: Design a Better Model\n",
    "\n",
    "Use XGBoost GridScan or manually change some of the hyper-parameters\n",
    "in order to obtain better RMSE."
   ]
  },
  {
   "cell_type": "code",
   "execution_count": 0,
   "metadata": {
    "colab": {},
    "colab_type": "code",
    "id": "Yn-1D-_4j9lA"
   },
   "outputs": [],
   "source": [
    "# train another model here"
   ]
  },
  {
   "cell_type": "markdown",
   "metadata": {
    "colab_type": "text",
    "id": "TRS3ZHxfj9lG"
   },
   "source": [
    "## References\n",
    "\n",
    "The [top Kaggle Kernels](https://www.kaggle.com/c/nyc-taxi-trip-duration/kernels) (executable environments to similar to Google Collab but aimed for competitions) of the New York City Taxi Trip Duration Playground competition are really good. In particular,\n",
    "this notebook is heavily based on:\n",
    "- [1] [Strength of visualization-python visuals tutorial](https://www.kaggle.com/maheshdadhich/strength-of-visualization-python-visuals-tutorial) by BuryBuryZymon\n",
    "- [2] [From EDA to the Top (LB 0.367)](https://www.kaggle.com/gaborfodor/from-eda-to-the-top-lb-0-367) by beluga\n",
    "- [3] [NYCT - from A to Z with XGBoost (Tutorial)](https://www.kaggle.com/karelrv/nyct-from-a-to-z-with-xgboost-tutorial) by KarelVerhoeven\n"
   ]
  }
 ],
 "metadata": {
  "colab": {
   "collapsed_sections": [],
   "name": "Copy of trip_duration_prediction.ipynb",
   "provenance": [
    {
     "file_id": "https://github.com/pablodecm/datalab_ml_iot/blob/master/02_trip_duration_prediction/trip_duration_prediction.ipynb",
     "timestamp": 1585246656241
    }
   ]
  },
  "kernelspec": {
   "display_name": "Python 3",
   "language": "python",
   "name": "python3"
  },
  "language_info": {
   "codemirror_mode": {
    "name": "ipython",
    "version": 3
   },
   "file_extension": ".py",
   "mimetype": "text/x-python",
   "name": "python",
   "nbconvert_exporter": "python",
   "pygments_lexer": "ipython3",
   "version": "3.7.4"
  }
 },
 "nbformat": 4,
 "nbformat_minor": 1
}
