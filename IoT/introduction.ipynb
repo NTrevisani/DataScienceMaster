{
 "cells": [
  {
   "cell_type": "markdown",
   "metadata": {
    "colab_type": "text",
    "id": "9wk5mGad1flS"
   },
   "source": [
    " <div style=\"text-align:center\">\n",
    "\n",
    "# Practical Data Science for IoT\n",
    "<hr style=\"height:4px\">\n",
    "\n",
    "<b/> \n",
    "## 27-28 and 30 March 2020\n",
    "## Data Science Master (UC-UIMP-CSIC)\n",
    "</div>\n",
    "<b/> \n",
    "\n",
    "<br>\n",
    "\n",
    "## *Pablo de Castro (pablodecm@gmail.com)*\n",
    "\n",
    "<i class=\"fa fa-twitter\"></i> [@pablodecm](https://twitter.com/pablodecm)\n",
    "&nbsp; <i class=\"fa fa-linkedin\"></i> [pablodecm](https://www.linkedin.com/in/pablodecm)\n",
    "&nbsp; <i class=\"fa fa-github\"></i> [pablodecm](https://github.com/pablodecm)\n",
    "&nbsp; [pablodecm.com](https://pablodecm.com)\n"
   ]
  },
  {
   "cell_type": "markdown",
   "metadata": {
    "colab_type": "text",
    "id": "IerDpeOT1flV"
   },
   "source": [
    " <div style=\"text-align:center\">\n",
    "\n",
    "## Welcome to this DataLab\n",
    "    \n",
    "</div>\n",
    "\n",
    "<div align=\"center\">\n",
    "<img width=\"35%\" src=\"https://github.com/pablodecm/datalab_ml_iot/blob/master/00_introduction/images/welcome_gif.gif?raw=1\"/>\n",
    "</div>\n"
   ]
  },
  {
   "cell_type": "markdown",
   "metadata": {
    "cell_style": "center",
    "colab_type": "text",
    "id": "lojPnLMg1flW"
   },
   "source": [
    "\n",
    "<img style=\"float:right;border-radius: 50%\" width=\"20%\" src=\"https://github.com/pablodecm/datalab_ml_iot/blob/master/00_introduction/images/instructor_photo.jpg?raw=1\"/>\n",
    "<div>\n",
    "    \n",
    "## Instructor Bio\n",
    "\n",
    "*I am Pablo and I enjoy working with data*. 🙂\n",
    "\n",
    "*Bachelor's and Master's degree (in Physics) @ UNICAN*.\n",
    "\n",
    "*Physics PhD at the University of Padua*, focused on:\n",
    "  - Development of new ML techniques for the LHC.\n",
    "  - Improving statistical analysis at scientific experiments.\n",
    "\n",
    "*Currenly working as a Data Scientist at [Treelogic](https://www.treelogic.com/en/index.html)*.\n",
    "   - Working on R&D projects and products that heavily rely on **Machine Learning** and **Computer Vision**.\n",
    "</div>\n"
   ]
  },
  {
   "cell_type": "markdown",
   "metadata": {
    "colab_type": "text",
    "id": "9toQxd6G1flX"
   },
   "source": [
    "## ... and now it is your turn"
   ]
  },
  {
   "cell_type": "markdown",
   "metadata": {
    "colab_type": "text",
    "id": "fn6S4GY21flY"
   },
   "source": [
    "## Objectives\n",
    "\n",
    "Understand some of the roles of data science for Internet of Things (IoT) scenarios.\n",
    "\n",
    "Explore using practical examples with several IoT data scenarios.\n",
    "\n",
    "Highlight the main data challenges in real-word IoT applications.\n"
   ]
  },
  {
   "cell_type": "markdown",
   "metadata": {
    "colab_type": "text",
    "id": "cDrjV1zs1flZ"
   },
   "source": [
    "## Limitations\n",
    "\n",
    "The number of possible applications of data science in IoT is very large (and growing).\n",
    "  - Here we we will only cover a small subset\n",
    "\n",
    "Will assume familiarity with data science and ML techniques.\n",
    "  - Will be focussing more in applications\n",
    " "
   ]
  },
  {
   "cell_type": "markdown",
   "metadata": {
    "colab_type": "text",
    "id": "GMlcBF-c1flb"
   },
   "source": [
    "##  Materials and Communication\n",
    "\n",
    "All the material in this tutorial is available online at the following\n",
    "  GitHub repository:\n",
    "\n",
    "<p style=\"text-align: center; font-size: 150%\">\n",
    "<a href=\"https://github.com/pablodecm/datalab_ml_iot\">https://github.com/pablodecm/datalab_ml_iot</a>\n",
    "</p>\n",
    "\n",
    "For communication regarding this class or related matters please use this\n",
    "Gitter chat room (is public by default):\n",
    "\n",
    "<p style=\"text-align: center; font-size: 150%\">\n",
    "<a href=\"https://gitter.im/datalab_ml_iot/master_2020_unican\">https://gitter.im/datalab_ml_iot/master_2020_unican</a>\n",
    "</p>\n"
   ]
  },
  {
   "cell_type": "markdown",
   "metadata": {
    "colab_type": "text",
    "id": "NSozTmGW1flc"
   },
   "source": [
    "## Working with Jupyter Notebooks\n",
    "\n",
    "For most of the use cases, we will be working with Jupyter Notebooks.\n",
    "\n",
    "You can optionally use [Google Colaboratory](https://colab.research.google.com/) to simplify the environment setup and ensure that everyone has *powerful enough computing resources*."
   ]
  },
  {
   "cell_type": "markdown",
   "metadata": {
    "colab_type": "text",
    "id": "if5UJBg41fld"
   },
   "source": [
    "## Other Requirements\n",
    "\n",
    "For the tomorrow onwards we will be needing:\n",
    " - Docker (19.03 recommended)\n",
    " - Docker Compose\n",
    " - A good development editor (I recommend VSCode)\n",
    "\n",
    "\n",
    "Please follow the online instructions to install them in your machine."
   ]
  },
  {
   "cell_type": "markdown",
   "metadata": {
    "colab_type": "text",
    "id": "2OKOiD9z1fle"
   },
   "source": [
    "## Jupyter and Google Colaboratory Basics\n",
    "\n",
    "In case you are not familiar, you can find a tutorial and introduction at:\n",
    "\n",
    "- https://colab.research.google.com/notebooks/welcome.ipynb\n",
    "\n",
    "I recommend logging in with you Google account and copying the notebook you are working\n",
    "on if you want to save your results.\n",
    "\n",
    "<p>\n",
    "For example, load (and then save using File->Save a Copy as) this notebook by clicking\n",
    "on the following badge:\n",
    "<a href=\"https://colab.research.google.com/github/pablodecm/datalab_ml_iot/blob/master/00_introduction/introduction.ipynb\">\n",
    "  <img src=\"https://colab.research.google.com/assets/colab-badge.svg\" alt=\"Open In Colab\" style=\"display: inline\"/>\n",
    "</a>\n",
    "</p>"
   ]
  },
  {
   "cell_type": "code",
   "execution_count": 1,
   "metadata": {
    "colab": {
     "base_uri": "https://localhost:8080/",
     "height": 34
    },
    "colab_type": "code",
    "executionInfo": {
     "elapsed": 2505,
     "status": "ok",
     "timestamp": 1585305969020,
     "user": {
      "displayName": "Nicolò Trevisani",
      "photoUrl": "https://lh3.googleusercontent.com/a-/AOh14GiJ9pkFZdHQ4Zthp07GOkrYQq29m1orzwKSoxs2Cg=s64",
      "userId": "16681236576994002363"
     },
     "user_tz": -60
    },
    "id": "bMlefxCt1flf",
    "outputId": "b97da2ee-1fce-42c8-f95e-5f8dae051ed4"
   },
   "outputs": [
    {
     "name": "stdout",
     "output_type": "stream",
     "text": [
      "Hello World!\n"
     ]
    }
   ],
   "source": [
    "# we will be using Python3 extensively\n",
    "\n",
    "# remember print is a function (with parenthesis)\n",
    "print(\"Hello World!\") "
   ]
  },
  {
   "cell_type": "code",
   "execution_count": 3,
   "metadata": {
    "colab": {
     "base_uri": "https://localhost:8080/",
     "height": 1000
    },
    "colab_type": "code",
    "executionInfo": {
     "elapsed": 12782,
     "status": "ok",
     "timestamp": 1585305979310,
     "user": {
      "displayName": "Nicolò Trevisani",
      "photoUrl": "https://lh3.googleusercontent.com/a-/AOh14GiJ9pkFZdHQ4Zthp07GOkrYQq29m1orzwKSoxs2Cg=s64",
      "userId": "16681236576994002363"
     },
     "user_tz": -60
    },
    "id": "YQ9VB4Ub1flj",
    "outputId": "86a827aa-52fc-4184-e9c7-31d68c9a98a2"
   },
   "outputs": [
    {
     "name": "stdout",
     "output_type": "stream",
     "text": [
      "/bin/sh: 1: nvidia-smi: not found\r\n"
     ]
    }
   ],
   "source": [
    "# also linux commands within the notebook\n",
    "\n",
    "# e.g. this check the GPU model and memory\n",
    "!nvidia-smi"
   ]
  },
  {
   "cell_type": "code",
   "execution_count": 4,
   "metadata": {
    "colab": {
     "base_uri": "https://localhost:8080/",
     "height": 1000
    },
    "colab_type": "code",
    "executionInfo": {
     "elapsed": 12782,
     "status": "ok",
     "timestamp": 1585305979310,
     "user": {
      "displayName": "Nicolò Trevisani",
      "photoUrl": "https://lh3.googleusercontent.com/a-/AOh14GiJ9pkFZdHQ4Zthp07GOkrYQq29m1orzwKSoxs2Cg=s64",
      "userId": "16681236576994002363"
     },
     "user_tz": -60
    },
    "id": "YQ9VB4Ub1flj",
    "outputId": "86a827aa-52fc-4184-e9c7-31d68c9a98a2"
   },
   "outputs": [
    {
     "name": "stdout",
     "output_type": "stream",
     "text": [
      "Architecture:        x86_64\r\n",
      "CPU op-mode(s):      32-bit, 64-bit\r\n",
      "Byte Order:          Little Endian\r\n",
      "CPU(s):              8\r\n",
      "On-line CPU(s) list: 0-7\r\n",
      "Thread(s) per core:  2\r\n",
      "Core(s) per socket:  4\r\n",
      "Socket(s):           1\r\n",
      "NUMA node(s):        1\r\n",
      "Vendor ID:           GenuineIntel\r\n",
      "CPU family:          6\r\n",
      "Model:               142\r\n",
      "Model name:          Intel(R) Core(TM) i5-8265U CPU @ 1.60GHz\r\n",
      "Stepping:            12\r\n",
      "CPU MHz:             3700.030\r\n",
      "CPU max MHz:         3900,0000\r\n",
      "CPU min MHz:         400,0000\r\n",
      "BogoMIPS:            3600.00\r\n",
      "Virtualization:      VT-x\r\n",
      "L1d cache:           32K\r\n",
      "L1i cache:           32K\r\n",
      "L2 cache:            256K\r\n",
      "L3 cache:            6144K\r\n",
      "NUMA node0 CPU(s):   0-7\r\n",
      "Flags:               fpu vme de pse tsc msr pae mce cx8 apic sep mtrr pge mca cmov pat pse36 clflush dts acpi mmx fxsr sse sse2 ss ht tm pbe syscall nx pdpe1gb rdtscp lm constant_tsc art arch_perfmon pebs bts rep_good nopl xtopology nonstop_tsc cpuid aperfmperf pni pclmulqdq dtes64 monitor ds_cpl vmx est tm2 ssse3 sdbg fma cx16 xtpr pdcm pcid sse4_1 sse4_2 x2apic movbe popcnt tsc_deadline_timer aes xsave avx f16c rdrand lahf_lm abm 3dnowprefetch cpuid_fault epb invpcid_single ssbd ibrs ibpb stibp ibrs_enhanced tpr_shadow vnmi flexpriority ept vpid ept_ad fsgsbase tsc_adjust bmi1 avx2 smep bmi2 erms invpcid mpx rdseed adx smap clflushopt intel_pt xsaveopt xsavec xgetbv1 xsaves dtherm ida arat pln pts hwp hwp_notify hwp_act_window hwp_epp md_clear flush_l1d arch_capabilities\r\n"
     ]
    }
   ],
   "source": [
    "# this the CPU\n",
    "!lscpu"
   ]
  },
  {
   "cell_type": "code",
   "execution_count": 5,
   "metadata": {
    "colab": {
     "base_uri": "https://localhost:8080/",
     "height": 1000
    },
    "colab_type": "code",
    "executionInfo": {
     "elapsed": 12782,
     "status": "ok",
     "timestamp": 1585305979310,
     "user": {
      "displayName": "Nicolò Trevisani",
      "photoUrl": "https://lh3.googleusercontent.com/a-/AOh14GiJ9pkFZdHQ4Zthp07GOkrYQq29m1orzwKSoxs2Cg=s64",
      "userId": "16681236576994002363"
     },
     "user_tz": -60
    },
    "id": "YQ9VB4Ub1flj",
    "outputId": "86a827aa-52fc-4184-e9c7-31d68c9a98a2"
   },
   "outputs": [
    {
     "name": "stdout",
     "output_type": "stream",
     "text": [
      "MemTotal:        7962300 kB\r\n",
      "MemFree:         2031812 kB\r\n",
      "MemAvailable:    4297088 kB\r\n",
      "Buffers:          272340 kB\r\n",
      "Cached:          2595644 kB\r\n",
      "SwapCached:            0 kB\r\n",
      "Active:          3482028 kB\r\n",
      "Inactive:        1659212 kB\r\n",
      "Active(anon):    2520728 kB\r\n",
      "Inactive(anon):   302544 kB\r\n",
      "Active(file):     961300 kB\r\n",
      "Inactive(file):  1356668 kB\r\n",
      "Unevictable:      246380 kB\r\n",
      "Mlocked:              16 kB\r\n",
      "SwapTotal:       2097148 kB\r\n",
      "SwapFree:        2097148 kB\r\n",
      "Dirty:               928 kB\r\n",
      "Writeback:             0 kB\r\n",
      "AnonPages:       2519432 kB\r\n",
      "Mapped:           844416 kB\r\n",
      "Shmem:            551824 kB\r\n",
      "KReclaimable:     255012 kB\r\n",
      "Slab:             363292 kB\r\n",
      "SReclaimable:     255012 kB\r\n",
      "SUnreclaim:       108280 kB\r\n",
      "KernelStack:       18144 kB\r\n",
      "PageTables:        60264 kB\r\n",
      "NFS_Unstable:          0 kB\r\n",
      "Bounce:                0 kB\r\n",
      "WritebackTmp:          0 kB\r\n",
      "CommitLimit:     6078296 kB\r\n",
      "Committed_AS:    8606072 kB\r\n",
      "VmallocTotal:   34359738367 kB\r\n",
      "VmallocUsed:       37428 kB\r\n",
      "VmallocChunk:          0 kB\r\n",
      "Percpu:             5952 kB\r\n",
      "HardwareCorrupted:     0 kB\r\n",
      "AnonHugePages:         0 kB\r\n",
      "ShmemHugePages:        0 kB\r\n",
      "ShmemPmdMapped:        0 kB\r\n",
      "CmaTotal:              0 kB\r\n",
      "CmaFree:               0 kB\r\n",
      "HugePages_Total:       0\r\n",
      "HugePages_Free:        0\r\n",
      "HugePages_Rsvd:        0\r\n",
      "HugePages_Surp:        0\r\n",
      "Hugepagesize:       2048 kB\r\n",
      "Hugetlb:               0 kB\r\n",
      "DirectMap4k:      277364 kB\r\n",
      "DirectMap2M:     6873088 kB\r\n",
      "DirectMap1G:     2097152 kB\r\n"
     ]
    }
   ],
   "source": [
    "# this the memory\n",
    "!cat /proc/meminfo"
   ]
  },
  {
   "cell_type": "code",
   "execution_count": 6,
   "metadata": {
    "colab": {
     "base_uri": "https://localhost:8080/",
     "height": 1000
    },
    "colab_type": "code",
    "executionInfo": {
     "elapsed": 12782,
     "status": "ok",
     "timestamp": 1585305979310,
     "user": {
      "displayName": "Nicolò Trevisani",
      "photoUrl": "https://lh3.googleusercontent.com/a-/AOh14GiJ9pkFZdHQ4Zthp07GOkrYQq29m1orzwKSoxs2Cg=s64",
      "userId": "16681236576994002363"
     },
     "user_tz": -60
    },
    "id": "YQ9VB4Ub1flj",
    "outputId": "86a827aa-52fc-4184-e9c7-31d68c9a98a2"
   },
   "outputs": [
    {
     "name": "stdout",
     "output_type": "stream",
     "text": [
      "Filesystem      Size  Used Avail Use% Mounted on\r\n",
      "udev            3,8G     0  3,8G   0% /dev\r\n",
      "tmpfs           778M  2,1M  776M   1% /run\r\n",
      "/dev/nvme0n1p5  123G   35G   82G  31% /\r\n",
      "tmpfs           3,8G  107M  3,7G   3% /dev/shm\r\n",
      "tmpfs           5,0M  4,0K  5,0M   1% /run/lock\r\n",
      "tmpfs           3,8G     0  3,8G   0% /sys/fs/cgroup\r\n",
      "/dev/loop1       55M   55M     0 100% /snap/core18/1668\r\n",
      "/dev/loop2      2,4M  2,4M     0 100% /snap/gnome-chess/31\r\n",
      "/dev/loop4       55M   55M     0 100% /snap/core18/1705\r\n",
      "/dev/loop3      4,4M  4,4M     0 100% /snap/gnome-calculator/704\r\n",
      "/dev/loop5       74M   74M     0 100% /snap/wine-platform-3-stable/6\r\n",
      "/dev/nvme0n1p1  256M   32M  225M  13% /boot/efi\r\n",
      "/dev/loop7      150M  150M     0 100% /snap/gnome-3-28-1804/67\r\n",
      "/dev/loop6       15M   15M     0 100% /snap/gnome-characters/495\r\n",
      "/dev/loop8      161M  161M     0 100% /snap/gnome-3-28-1804/116\r\n",
      "/dev/loop0       87M   87M     0 100% /snap/shotcut/61\r\n",
      "/dev/loop9       15M   15M     0 100% /snap/gnome-characters/399\r\n",
      "/dev/loop11      92M   92M     0 100% /snap/core/8592\r\n",
      "/dev/loop10     175M  175M     0 100% /snap/skype/118\r\n",
      "/dev/loop12      45M   45M     0 100% /snap/gtk-common-themes/1440\r\n",
      "/dev/loop13     225M  225M     0 100% /snap/wine-platform-runtime/94\r\n",
      "/dev/loop15     164M  164M     0 100% /snap/spotify/41\r\n",
      "/dev/loop14      92M   92M     0 100% /snap/core/8689\r\n",
      "/dev/loop16     3,8M  3,8M     0 100% /snap/gnome-system-monitor/127\r\n",
      "/dev/loop17     3,8M  3,8M     0 100% /snap/gnome-system-monitor/135\r\n",
      "/dev/loop19     1,0M  1,0M     0 100% /snap/gnome-logs/81\r\n",
      "/dev/loop18     4,3M  4,3M     0 100% /snap/gnome-calculator/544\r\n",
      "/dev/loop20     1,0M  1,0M     0 100% /snap/gnome-logs/93\r\n",
      "/dev/loop21     227M  227M     0 100% /snap/wine-platform-runtime/104\r\n",
      "/dev/loop22     203M  203M     0 100% /snap/vlc/1397\r\n",
      "/dev/loop23      49M   49M     0 100% /snap/gtk-common-themes/1474\r\n",
      "tmpfs           778M   16K  778M   1% /run/user/121\r\n",
      "tmpfs           778M   56K  778M   1% /run/user/1000\r\n"
     ]
    }
   ],
   "source": [
    "# this the disk\n",
    "!df -h\n",
    "\n",
    "# if Collab this virtual machine will be turn-off and erased\n",
    "# in about 12 hours, so save your notebooks to Google Drive"
   ]
  },
  {
   "cell_type": "markdown",
   "metadata": {
    "colab_type": "text",
    "id": "D5tLFlmV1flm"
   },
   "source": [
    "## Motivation for Data Science in IoT\n",
    "\n",
    "<div align=\"center\">\n",
    "<img width=\"35%\" src=\"https://github.com/pablodecm/datalab_ml_iot/blob/master/00_introduction/images/iot_hype.png?raw=1\"/>\n",
    "</div>\n",
    "\n",
    "The amount and diversity of data generated by IoT devices grows every year,\n",
    "yet complex applications often require:\n",
    "   - understanding and value extraction from explorative data analysis and visualization.\n",
    "   - prediction and modelling capabilities by using machine learning techniques.\n",
    "\n",
    "*Image source*: [towardsdatascience.com](https://towardsdatascience.com/iot-machine-learning-is-going-to-change-the-world-7c4e0cd7ac32)\n"
   ]
  },
  {
   "cell_type": "markdown",
   "metadata": {
    "colab_type": "text",
    "id": "6F36Fxn11fln"
   },
   "source": [
    "## Practical Use Cases Overview\n",
    "\n",
    "We will be covering a few applications of Data Science\n",
    "for the Internet of Things, in particular:\n",
    "\n",
    "1. **Predictive Maintenance** (*today*): predict when an turbofan plane engine will break based on\n",
    "    reading of the integrated sensors so costly maintenance tasks can be scheduled smartly. <a href=\"../01_predictive_mainteinance/predictive_maintenance.ipynb\">\n",
    "<img src=\"https://img.shields.io/badge/Open-Notebook-orange\" alt=\"Open In Notebook\" style=\"display: inline\"/></a>\n",
    "<a href=\"https://colab.research.google.com/github/pablodecm/datalab_ml_iot/blob/master/01_predictive_mainteinance/predictive_maintenance.ipynb\"><img src=\"https://colab.research.google.com/assets/colab-badge.svg\" alt=\"Open In Collab\" style=\"display: inline\"/></a>\n",
    "\n",
    "2. **Trip Duration Prediction** (*today*): based real-world Taxi data from New York city in 2016, predict\n",
    "   the duration of a taxi trip based on the pickup/drop-off coordinates, taxi information and\n",
    "   additional datasets. <a href=\"../02_trip_duration_prediction/trip_duration_prediction.ipynb\">\n",
    "<img src=\"https://img.shields.io/badge/Open-Notebook-orange\" alt=\"Open In Notebook\" style=\"display: inline\"/></a> <a href=\"https://colab.research.google.com/github/pablodecm/datalab_ml_iot/blob/master/02_trip_duration_prediction/trip_duration_prediction.ipynb\">\n",
    "  <img src=\"https://colab.research.google.com/assets/colab-badge.svg\" alt=\"Open In Collab\" style=\"display: inline\"/>\n",
    "</a>\n",
    "\n",
    "3. **IOT for Pandemics** (today and tomorrow): brainstorm the viability and data aspects of some IOT-based solutions or systems that could help us with the current and future pandemics. Example of contact tracing using your own Google Location history. <a href=\"../03_iot_for_pandemics/iot_for_pandemics.ipynb\">\n",
    "<img src=\"https://img.shields.io/badge/Open-Notebook-orange\" alt=\"Open In Noteboook\" style=\"display: inline\"/></a> <a href=\"https://colab.research.google.com/github/pablodecm/datalab_ml_iot/blob/master/03_iot_for_pandemics/iot_for_pandemics.ipynb\">\n",
    "  <img src=\"https://colab.research.google.com/assets/colab-badge.svg\" alt=\"Open In Collab\" style=\"display: inline\"/>\n",
    "</a>\n",
    "\n",
    "4. **Internet of (Magic) Wands** (*tomorrow and on Monday*): using our smartphone as a magic wand, we will collect data of labelled magic spells and then train a spell recognition model based on our own sensor data. <a href=\"../04_internet_of_wands/internet_of_wands.ipynb\">\n",
    "<img src=\"https://img.shields.io/badge/Open-Notebook-orange\" alt=\"Open In Notebook\" style=\"display: inline\"/></a> <a href=\"https://colab.research.google.com/github/pablodecm/datalab_ml_iot/blob/master/04_internet_of_wands/internet_of_wands.ipynb\">\n",
    "  <img src=\"https://colab.research.google.com/assets/colab-badge.svg\" alt=\"Open In Colab\" style=\"display: inline\"/>\n",
    "</a>\n",
    "5. **Computer Vision for IOT** (*maybe on Monday*): we will use pre-trained\n",
    "   computer vision models that could run on the edge to identify and analyse objects in video camera footage. <a href=\"../05_computer_vision_for_iot/computer_vision_for_iot.ipynb\">\n",
    "<img src=\"https://img.shields.io/badge/Open-Notebook-orange\" alt=\"Open In Notebook\" style=\"display: inline\"/></a> <a href=\"https://colab.research.google.com/github/pablodecm/datalab_ml_iot/blob/master/05_computer_vision_for_iot/computer_vision_for_iot.ipynb\">\n",
    "  <img src=\"https://colab.research.google.com/assets/colab-badge.svg\" alt=\"Open In Colab\" style=\"display: inline\"/>\n",
    "</a>\n",
    " "
   ]
  },
  {
   "cell_type": "markdown",
   "metadata": {
    "colab_type": "text",
    "id": "6zNv3geO1flo"
   },
   "source": [
    "## Let's get started!\n",
    "\n",
    "By opening the notebook for the first part (i.e. Predictive Maintenance).\n",
    "\n",
    "<br>\n",
    "<a href=\"../01_predictive_mainteinance/predictive_maintenance.ipynb\">\n",
    "<img src=\"https://img.shields.io/badge/Open-Notebook-orange\" alt=\"Open In Notebook\" width=\"13%\"/></a>\n",
    "<br>\n",
    "<a href=\"https://colab.research.google.com/github/pablodecm/datalab_ml_iot/blob/master/01_predictive_mainteinance/predictive_maintenance.ipynb\">\n",
    "  <img src=\"https://colab.research.google.com/assets/colab-badge.svg\" width=\"15%\" alt=\"Open In Colab\"/>\n",
    "</a>"
   ]
  }
 ],
 "metadata": {
  "celltoolbar": "Slideshow",
  "colab": {
   "collapsed_sections": [],
   "name": "Copy of introduction.ipynb",
   "provenance": [
    {
     "file_id": "https://github.com/pablodecm/datalab_ml_iot/blob/master/00_introduction/introduction.ipynb",
     "timestamp": 1585242836371
    }
   ]
  },
  "kernelspec": {
   "display_name": "Python 3",
   "language": "python",
   "name": "python3"
  },
  "language_info": {
   "codemirror_mode": {
    "name": "ipython",
    "version": 3
   },
   "file_extension": ".py",
   "mimetype": "text/x-python",
   "name": "python",
   "nbconvert_exporter": "python",
   "pygments_lexer": "ipython3",
   "version": "3.7.4"
  },
  "rise": {
   "theme": "black"
  }
 },
 "nbformat": 4,
 "nbformat_minor": 1
}
