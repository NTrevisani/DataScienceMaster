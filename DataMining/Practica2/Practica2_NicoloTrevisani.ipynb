{
 "cells": [
  {
   "cell_type": "markdown",
   "metadata": {
    "button": false,
    "new_sheet": false,
    "run_control": {
     "read_only": false
    }
   },
   "source": [
    "## Minería de Datos (Master en Data Science, UIMP-UC) \n",
    "## Tarea 2. Problemas de Clasificación - Reducción de la Dimensión\n",
    "### [Profesores: Steven Van Vaerenbergh, Rodrigo G. Manzanas, Joaquín Bedia y Sixto Herrera]\n",
    "\n",
    "### Estudiante: Nicolò Trevisani\n",
    "\n",
    "En la presente tarea consideraremos el dataset `meteo.csv`, que podéis descargaros en el GitHub dedicado a este Máster ([meteo.csv](https://github.com/SantanderMetGroup/Master-Data-Science/blob/master/Data_mining/datasets/meteo.csv.)) y que ha sido utilizado en diferentes sesiones prácticas. Dicho dataset contiene en la primera columna el valor de precipitación observado en Lisboa en el periodo 1979-2008 mientras que en las restantes contiene los valores observados de diferentes variables atmosféricas en 40 puntos que cubren aproximadamente la Península Ibérica. Dichas variables serán los `predictores` del modelo mientras que la precipitación será nuestra variable objetivo. En particular los predictores son:\n",
    "\n",
    "* Altura geopotencial en 500 hPa (columnas 2:41),\n",
    "* Temperatura del aire en 850 hPa (columnas 42:81), 700 hPa (columnas 82:121) y 500 hPa (columnas 122:161), \n",
    "* Temperatura del aire en superficie (columnas 162:201),\n",
    "* Humedad específica del aire en 850 hPa (columnas 202:241) y 500 hPa (columnas 242:281) y \n",
    "* Presión al nivel del mar (columnas 282:321)\n",
    "\n",
    "Para establecer el problema de clasificación consideraremos dos umbrales de discretización, 1 mm y 20 mm, que definen la ocurrencia de precipitación (Wet days) y de precipitaciones intensas (Very heavy precipitation days), respectivamente. Puedes consultar más detalles de la definición en la web de [ECA&D](https://www.ecad.eu//indicesextremes/indicesdictionary.php).\n",
    "\n",
    "Para el desarrollo de la tarea se permitirá el uso de todo el material incluido en el Moodle de las asignatura así como el desarrollado por el alumno durante la realización de las prácticas.\n",
    "\n",
    "La entrega consisitirá de un notebook de Jupyter ó un R-MarkDown, junto con el archivo html que éste genera. Ambos ficheros se entregarán a través del Moodle de la asignatura en la tarea correspondiente."
   ]
  },
  {
   "cell_type": "markdown",
   "metadata": {
    "button": false,
    "new_sheet": false,
    "run_control": {
     "read_only": false
    }
   },
   "source": [
    "### Punto 1 (3 puntos):\n",
    "\n",
    "En esta primera parte de la tarea trataremos de ilustrar parte de los problemas reflejados en las sesiones teórico-prácticas planteando diferentes experimentos con el dataset `meteo.csv`.\n",
    "En primer lugar, considerar el dataset completo incluyendo tanto las variables predictoras como la variable objetivo. Por un lado, calculad las componentes principales con y sin estandarización (`Nota:` consultar la ayuda de la función scale -> `? scale`):\n",
    "\n",
    "* ¿Cómo contribuye en cada caso la variable objetivo a la primera componente principal?\n",
    "* ¿A qué componente principal contribuye principalmente la variable objetivo? ¿qué porcentaje de varianza se explica hasta dicha componente?\n",
    "* En base a los puntos anteriores, ¿puede considerarse en alguno de los casos que la variable objetivo se \"eliminaría\" del modelo debido a su contribución a cada una de las componentes principales?\n",
    "* ¿Cómo se distribuye la contribución de las diferentes variables del espacio original a la primera componente principal? En caso de no estandarizar, ¿puede inferirse alguna relación entre el rango de las variables y su contribución a la primera componente principal?\n",
    "\n",
    "`Nota 1:` en principio es posible trabajar con el dataset completo sin seleccionar un subconjunto pero si surge algún problema de memoria podéis considerar únicamente los primeros 10 años (~3650 filas).\n",
    "\n",
    "`Nota 2:` usad las herramientas gráficas vistas durante la práctica para ilustrar los resultados y las conclusiones obtenidas."
   ]
  },
  {
   "cell_type": "markdown",
   "metadata": {},
   "source": [
    "## Desarrollo Punto 1"
   ]
  },
  {
   "cell_type": "code",
   "execution_count": 11,
   "metadata": {},
   "outputs": [],
   "source": [
    "meteo <- read.csv(\"meteo.csv\", row.name = 1)"
   ]
  },
  {
   "cell_type": "code",
   "execution_count": 12,
   "metadata": {},
   "outputs": [
    {
     "data": {
      "text/html": [
       "<table>\n",
       "<caption>A data.frame: 6 × 321</caption>\n",
       "<thead>\n",
       "\t<tr><th></th><th scope=col>y</th><th scope=col>X1</th><th scope=col>X2</th><th scope=col>X3</th><th scope=col>X4</th><th scope=col>X5</th><th scope=col>X6</th><th scope=col>X7</th><th scope=col>X8</th><th scope=col>X9</th><th scope=col>⋯</th><th scope=col>X311</th><th scope=col>X312</th><th scope=col>X313</th><th scope=col>X314</th><th scope=col>X315</th><th scope=col>X316</th><th scope=col>X317</th><th scope=col>X318</th><th scope=col>X319</th><th scope=col>X320</th></tr>\n",
       "\t<tr><th></th><th scope=col>&lt;dbl&gt;</th><th scope=col>&lt;dbl&gt;</th><th scope=col>&lt;dbl&gt;</th><th scope=col>&lt;dbl&gt;</th><th scope=col>&lt;dbl&gt;</th><th scope=col>&lt;dbl&gt;</th><th scope=col>&lt;dbl&gt;</th><th scope=col>&lt;dbl&gt;</th><th scope=col>&lt;dbl&gt;</th><th scope=col>&lt;dbl&gt;</th><th scope=col>⋯</th><th scope=col>&lt;dbl&gt;</th><th scope=col>&lt;dbl&gt;</th><th scope=col>&lt;dbl&gt;</th><th scope=col>&lt;dbl&gt;</th><th scope=col>&lt;dbl&gt;</th><th scope=col>&lt;dbl&gt;</th><th scope=col>&lt;dbl&gt;</th><th scope=col>&lt;dbl&gt;</th><th scope=col>&lt;dbl&gt;</th><th scope=col>&lt;dbl&gt;</th></tr>\n",
       "</thead>\n",
       "<tbody>\n",
       "\t<tr><th scope=row>1</th><td>10.9</td><td>57042.96</td><td>56534.84</td><td>55884.40</td><td>55175.59</td><td>54458.21</td><td>56980.27</td><td>56460.59</td><td>55800.02</td><td>55051.15</td><td>⋯</td><td>101985.9</td><td>101627.3</td><td>101357.2</td><td>101110.7</td><td>101291.0</td><td>101814.9</td><td>101479.4</td><td>101164.5</td><td>100970.7</td><td>100905.3</td></tr>\n",
       "\t<tr><th scope=row>2</th><td> 0.6</td><td>56963.20</td><td>56493.45</td><td>55930.82</td><td>55340.20</td><td>54768.63</td><td>56856.57</td><td>56361.95</td><td>55776.76</td><td>55164.26</td><td>⋯</td><td>102048.1</td><td>102069.7</td><td>102204.5</td><td>102480.3</td><td>102858.8</td><td>101973.3</td><td>102033.3</td><td>102165.5</td><td>102323.9</td><td>102534.2</td></tr>\n",
       "\t<tr><th scope=row>3</th><td>13.0</td><td>56522.59</td><td>55971.40</td><td>55304.34</td><td>54498.03</td><td>53725.15</td><td>56514.84</td><td>55977.71</td><td>55327.28</td><td>54569.78</td><td>⋯</td><td>102399.1</td><td>102448.4</td><td>102438.3</td><td>102434.3</td><td>102339.8</td><td>102669.7</td><td>102565.5</td><td>102530.3</td><td>102453.6</td><td>102487.1</td></tr>\n",
       "\t<tr><th scope=row>4</th><td> 0.0</td><td>54627.98</td><td>53979.80</td><td>53494.05</td><td>53072.98</td><td>52616.36</td><td>54776.17</td><td>54089.05</td><td>53516.98</td><td>53012.86</td><td>⋯</td><td>100970.0</td><td>100672.8</td><td>100360.7</td><td>100133.7</td><td>100028.4</td><td>101126.2</td><td>100700.0</td><td>100381.3</td><td>100118.3</td><td>100319.8</td></tr>\n",
       "\t<tr><th scope=row>5</th><td> 0.0</td><td>53584.38</td><td>53391.01</td><td>53310.38</td><td>53292.82</td><td>53340.13</td><td>53781.70</td><td>53498.13</td><td>53306.82</td><td>53213.26</td><td>⋯</td><td>100652.7</td><td>100663.5</td><td>100747.7</td><td>100934.0</td><td>101015.8</td><td>100801.6</td><td>100685.3</td><td>100777.5</td><td>100909.4</td><td>101164.7</td></tr>\n",
       "\t<tr><th scope=row>6</th><td> 1.2</td><td>54221.86</td><td>54220.24</td><td>54328.55</td><td>54772.49</td><td>55251.11</td><td>54391.11</td><td>54345.93</td><td>54284.05</td><td>54525.99</td><td>⋯</td><td>101358.6</td><td>101511.5</td><td>101798.9</td><td>102142.2</td><td>102368.5</td><td>101438.7</td><td>101440.9</td><td>101685.3</td><td>102030.7</td><td>102311.9</td></tr>\n",
       "</tbody>\n",
       "</table>\n"
      ],
      "text/latex": [
       "A data.frame: 6 × 321\n",
       "\\begin{tabular}{r|lllllllllllllllllllll}\n",
       "  & y & X1 & X2 & X3 & X4 & X5 & X6 & X7 & X8 & X9 & ⋯ & X311 & X312 & X313 & X314 & X315 & X316 & X317 & X318 & X319 & X320\\\\\n",
       "  & <dbl> & <dbl> & <dbl> & <dbl> & <dbl> & <dbl> & <dbl> & <dbl> & <dbl> & <dbl> & ⋯ & <dbl> & <dbl> & <dbl> & <dbl> & <dbl> & <dbl> & <dbl> & <dbl> & <dbl> & <dbl>\\\\\n",
       "\\hline\n",
       "\t1 & 10.9 & 57042.96 & 56534.84 & 55884.40 & 55175.59 & 54458.21 & 56980.27 & 56460.59 & 55800.02 & 55051.15 & ⋯ & 101985.9 & 101627.3 & 101357.2 & 101110.7 & 101291.0 & 101814.9 & 101479.4 & 101164.5 & 100970.7 & 100905.3\\\\\n",
       "\t2 &  0.6 & 56963.20 & 56493.45 & 55930.82 & 55340.20 & 54768.63 & 56856.57 & 56361.95 & 55776.76 & 55164.26 & ⋯ & 102048.1 & 102069.7 & 102204.5 & 102480.3 & 102858.8 & 101973.3 & 102033.3 & 102165.5 & 102323.9 & 102534.2\\\\\n",
       "\t3 & 13.0 & 56522.59 & 55971.40 & 55304.34 & 54498.03 & 53725.15 & 56514.84 & 55977.71 & 55327.28 & 54569.78 & ⋯ & 102399.1 & 102448.4 & 102438.3 & 102434.3 & 102339.8 & 102669.7 & 102565.5 & 102530.3 & 102453.6 & 102487.1\\\\\n",
       "\t4 &  0.0 & 54627.98 & 53979.80 & 53494.05 & 53072.98 & 52616.36 & 54776.17 & 54089.05 & 53516.98 & 53012.86 & ⋯ & 100970.0 & 100672.8 & 100360.7 & 100133.7 & 100028.4 & 101126.2 & 100700.0 & 100381.3 & 100118.3 & 100319.8\\\\\n",
       "\t5 &  0.0 & 53584.38 & 53391.01 & 53310.38 & 53292.82 & 53340.13 & 53781.70 & 53498.13 & 53306.82 & 53213.26 & ⋯ & 100652.7 & 100663.5 & 100747.7 & 100934.0 & 101015.8 & 100801.6 & 100685.3 & 100777.5 & 100909.4 & 101164.7\\\\\n",
       "\t6 &  1.2 & 54221.86 & 54220.24 & 54328.55 & 54772.49 & 55251.11 & 54391.11 & 54345.93 & 54284.05 & 54525.99 & ⋯ & 101358.6 & 101511.5 & 101798.9 & 102142.2 & 102368.5 & 101438.7 & 101440.9 & 101685.3 & 102030.7 & 102311.9\\\\\n",
       "\\end{tabular}\n"
      ],
      "text/markdown": [
       "\n",
       "A data.frame: 6 × 321\n",
       "\n",
       "| <!--/--> | y &lt;dbl&gt; | X1 &lt;dbl&gt; | X2 &lt;dbl&gt; | X3 &lt;dbl&gt; | X4 &lt;dbl&gt; | X5 &lt;dbl&gt; | X6 &lt;dbl&gt; | X7 &lt;dbl&gt; | X8 &lt;dbl&gt; | X9 &lt;dbl&gt; | ⋯ ⋯ | X311 &lt;dbl&gt; | X312 &lt;dbl&gt; | X313 &lt;dbl&gt; | X314 &lt;dbl&gt; | X315 &lt;dbl&gt; | X316 &lt;dbl&gt; | X317 &lt;dbl&gt; | X318 &lt;dbl&gt; | X319 &lt;dbl&gt; | X320 &lt;dbl&gt; |\n",
       "|---|---|---|---|---|---|---|---|---|---|---|---|---|---|---|---|---|---|---|---|---|---|\n",
       "| 1 | 10.9 | 57042.96 | 56534.84 | 55884.40 | 55175.59 | 54458.21 | 56980.27 | 56460.59 | 55800.02 | 55051.15 | ⋯ | 101985.9 | 101627.3 | 101357.2 | 101110.7 | 101291.0 | 101814.9 | 101479.4 | 101164.5 | 100970.7 | 100905.3 |\n",
       "| 2 |  0.6 | 56963.20 | 56493.45 | 55930.82 | 55340.20 | 54768.63 | 56856.57 | 56361.95 | 55776.76 | 55164.26 | ⋯ | 102048.1 | 102069.7 | 102204.5 | 102480.3 | 102858.8 | 101973.3 | 102033.3 | 102165.5 | 102323.9 | 102534.2 |\n",
       "| 3 | 13.0 | 56522.59 | 55971.40 | 55304.34 | 54498.03 | 53725.15 | 56514.84 | 55977.71 | 55327.28 | 54569.78 | ⋯ | 102399.1 | 102448.4 | 102438.3 | 102434.3 | 102339.8 | 102669.7 | 102565.5 | 102530.3 | 102453.6 | 102487.1 |\n",
       "| 4 |  0.0 | 54627.98 | 53979.80 | 53494.05 | 53072.98 | 52616.36 | 54776.17 | 54089.05 | 53516.98 | 53012.86 | ⋯ | 100970.0 | 100672.8 | 100360.7 | 100133.7 | 100028.4 | 101126.2 | 100700.0 | 100381.3 | 100118.3 | 100319.8 |\n",
       "| 5 |  0.0 | 53584.38 | 53391.01 | 53310.38 | 53292.82 | 53340.13 | 53781.70 | 53498.13 | 53306.82 | 53213.26 | ⋯ | 100652.7 | 100663.5 | 100747.7 | 100934.0 | 101015.8 | 100801.6 | 100685.3 | 100777.5 | 100909.4 | 101164.7 |\n",
       "| 6 |  1.2 | 54221.86 | 54220.24 | 54328.55 | 54772.49 | 55251.11 | 54391.11 | 54345.93 | 54284.05 | 54525.99 | ⋯ | 101358.6 | 101511.5 | 101798.9 | 102142.2 | 102368.5 | 101438.7 | 101440.9 | 101685.3 | 102030.7 | 102311.9 |\n",
       "\n"
      ],
      "text/plain": [
       "  y    X1       X2       X3       X4       X5       X6       X7       X8      \n",
       "1 10.9 57042.96 56534.84 55884.40 55175.59 54458.21 56980.27 56460.59 55800.02\n",
       "2  0.6 56963.20 56493.45 55930.82 55340.20 54768.63 56856.57 56361.95 55776.76\n",
       "3 13.0 56522.59 55971.40 55304.34 54498.03 53725.15 56514.84 55977.71 55327.28\n",
       "4  0.0 54627.98 53979.80 53494.05 53072.98 52616.36 54776.17 54089.05 53516.98\n",
       "5  0.0 53584.38 53391.01 53310.38 53292.82 53340.13 53781.70 53498.13 53306.82\n",
       "6  1.2 54221.86 54220.24 54328.55 54772.49 55251.11 54391.11 54345.93 54284.05\n",
       "  X9       ⋯ X311     X312     X313     X314     X315     X316     X317    \n",
       "1 55051.15 ⋯ 101985.9 101627.3 101357.2 101110.7 101291.0 101814.9 101479.4\n",
       "2 55164.26 ⋯ 102048.1 102069.7 102204.5 102480.3 102858.8 101973.3 102033.3\n",
       "3 54569.78 ⋯ 102399.1 102448.4 102438.3 102434.3 102339.8 102669.7 102565.5\n",
       "4 53012.86 ⋯ 100970.0 100672.8 100360.7 100133.7 100028.4 101126.2 100700.0\n",
       "5 53213.26 ⋯ 100652.7 100663.5 100747.7 100934.0 101015.8 100801.6 100685.3\n",
       "6 54525.99 ⋯ 101358.6 101511.5 101798.9 102142.2 102368.5 101438.7 101440.9\n",
       "  X318     X319     X320    \n",
       "1 101164.5 100970.7 100905.3\n",
       "2 102165.5 102323.9 102534.2\n",
       "3 102530.3 102453.6 102487.1\n",
       "4 100381.3 100118.3 100319.8\n",
       "5 100777.5 100909.4 101164.7\n",
       "6 101685.3 102030.7 102311.9"
      ]
     },
     "metadata": {},
     "output_type": "display_data"
    }
   ],
   "source": [
    "head(meteo)"
   ]
  },
  {
   "cell_type": "markdown",
   "metadata": {},
   "source": [
    "Cargo las librerias necesarias para hacer una *principal component analysis*"
   ]
  },
  {
   "cell_type": "code",
   "execution_count": 52,
   "metadata": {},
   "outputs": [],
   "source": [
    "# Load the libraries for PCA\n",
    "library(\"FactoMineR\")\n",
    "library(\"factoextra\")"
   ]
  },
  {
   "cell_type": "markdown",
   "metadata": {},
   "source": [
    "### Saco las componentes principales, sin escalar las variables e incluiendo la variable objetivo"
   ]
  },
  {
   "cell_type": "code",
   "execution_count": 23,
   "metadata": {},
   "outputs": [],
   "source": [
    "meteo.pca <- PCA(meteo,  graph = FALSE)"
   ]
  },
  {
   "cell_type": "code",
   "execution_count": 24,
   "metadata": {},
   "outputs": [
    {
     "data": {
      "text/html": [
       "<table>\n",
       "<caption>A matrix: 321 × 3 of type dbl</caption>\n",
       "<thead>\n",
       "\t<tr><th></th><th scope=col>eigenvalue</th><th scope=col>variance.percent</th><th scope=col>cumulative.variance.percent</th></tr>\n",
       "</thead>\n",
       "<tbody>\n",
       "\t<tr><th scope=row>Dim.1</th><td>186,3477415</td><td>58,0522559</td><td>58,05226</td></tr>\n",
       "\t<tr><th scope=row>Dim.2</th><td> 50,8560817</td><td>15,8430161</td><td>73,89527</td></tr>\n",
       "\t<tr><th scope=row>Dim.3</th><td> 12,5584062</td><td> 3,9122761</td><td>77,80755</td></tr>\n",
       "\t<tr><th scope=row>Dim.4</th><td>  8,9703826</td><td> 2,7945117</td><td>80,60206</td></tr>\n",
       "\t<tr><th scope=row>Dim.5</th><td>  7,7530408</td><td> 2,4152775</td><td>83,01734</td></tr>\n",
       "\t<tr><th scope=row>Dim.6</th><td>  7,0236376</td><td> 2,1880491</td><td>85,20539</td></tr>\n",
       "\t<tr><th scope=row>Dim.7</th><td>  5,4831912</td><td> 1,7081592</td><td>86,91355</td></tr>\n",
       "\t<tr><th scope=row>Dim.8</th><td>  4,6532328</td><td> 1,4496052</td><td>88,36315</td></tr>\n",
       "\t<tr><th scope=row>Dim.9</th><td>  3,2313884</td><td> 1,0066630</td><td>89,36981</td></tr>\n",
       "\t<tr><th scope=row>Dim.10</th><td>  2,7745512</td><td> 0,8643462</td><td>90,23416</td></tr>\n",
       "\t<tr><th scope=row>Dim.11</th><td>  2,4049501</td><td> 0,7492056</td><td>90,98337</td></tr>\n",
       "\t<tr><th scope=row>Dim.12</th><td>  2,1483495</td><td> 0,6692677</td><td>91,65263</td></tr>\n",
       "\t<tr><th scope=row>Dim.13</th><td>  1,6496215</td><td> 0,5139008</td><td>92,16653</td></tr>\n",
       "\t<tr><th scope=row>Dim.14</th><td>  1,5827453</td><td> 0,4930671</td><td>92,65960</td></tr>\n",
       "\t<tr><th scope=row>Dim.15</th><td>  1,4301892</td><td> 0,4455418</td><td>93,10514</td></tr>\n",
       "\t<tr><th scope=row>Dim.16</th><td>  1,3648870</td><td> 0,4251985</td><td>93,53034</td></tr>\n",
       "\t<tr><th scope=row>Dim.17</th><td>  1,2911643</td><td> 0,4022319</td><td>93,93257</td></tr>\n",
       "\t<tr><th scope=row>Dim.18</th><td>  1,1013591</td><td> 0,3431025</td><td>94,27568</td></tr>\n",
       "\t<tr><th scope=row>Dim.19</th><td>  1,0168499</td><td> 0,3167757</td><td>94,59245</td></tr>\n",
       "\t<tr><th scope=row>Dim.20</th><td>  0,9704370</td><td> 0,3023168</td><td>94,89477</td></tr>\n",
       "\t<tr><th scope=row>Dim.21</th><td>  0,8623168</td><td> 0,2686345</td><td>95,16340</td></tr>\n",
       "\t<tr><th scope=row>Dim.22</th><td>  0,7821400</td><td> 0,2436573</td><td>95,40706</td></tr>\n",
       "\t<tr><th scope=row>Dim.23</th><td>  0,6998633</td><td> 0,2180259</td><td>95,62509</td></tr>\n",
       "\t<tr><th scope=row>Dim.24</th><td>  0,6626952</td><td> 0,2064471</td><td>95,83153</td></tr>\n",
       "\t<tr><th scope=row>Dim.25</th><td>  0,6426983</td><td> 0,2002175</td><td>96,03175</td></tr>\n",
       "\t<tr><th scope=row>Dim.26</th><td>  0,5730939</td><td> 0,1785339</td><td>96,21028</td></tr>\n",
       "\t<tr><th scope=row>Dim.27</th><td>  0,5398584</td><td> 0,1681802</td><td>96,37847</td></tr>\n",
       "\t<tr><th scope=row>Dim.28</th><td>  0,4905066</td><td> 0,1528058</td><td>96,53127</td></tr>\n",
       "\t<tr><th scope=row>Dim.29</th><td>  0,4752742</td><td> 0,1480605</td><td>96,67933</td></tr>\n",
       "\t<tr><th scope=row>Dim.30</th><td>  0,4463484</td><td> 0,1390494</td><td>96,81838</td></tr>\n",
       "\t<tr><th scope=row>⋮</th><td>⋮</td><td>⋮</td><td>⋮</td></tr>\n",
       "\t<tr><th scope=row>Dim.292</th><td>6,133738e-05</td><td>1,910822e-05</td><td> 99,99982</td></tr>\n",
       "\t<tr><th scope=row>Dim.293</th><td>5,677249e-05</td><td>1,768614e-05</td><td> 99,99983</td></tr>\n",
       "\t<tr><th scope=row>Dim.294</th><td>5,386548e-05</td><td>1,678052e-05</td><td> 99,99985</td></tr>\n",
       "\t<tr><th scope=row>Dim.295</th><td>5,240237e-05</td><td>1,632473e-05</td><td> 99,99987</td></tr>\n",
       "\t<tr><th scope=row>Dim.296</th><td>4,308425e-05</td><td>1,342188e-05</td><td> 99,99988</td></tr>\n",
       "\t<tr><th scope=row>Dim.297</th><td>4,119609e-05</td><td>1,283367e-05</td><td> 99,99989</td></tr>\n",
       "\t<tr><th scope=row>Dim.298</th><td>3,643802e-05</td><td>1,135141e-05</td><td> 99,99990</td></tr>\n",
       "\t<tr><th scope=row>Dim.299</th><td>3,473753e-05</td><td>1,082166e-05</td><td> 99,99992</td></tr>\n",
       "\t<tr><th scope=row>Dim.300</th><td>3,282604e-05</td><td>1,022618e-05</td><td> 99,99993</td></tr>\n",
       "\t<tr><th scope=row>Dim.301</th><td>3,126464e-05</td><td>9,739763e-06</td><td> 99,99994</td></tr>\n",
       "\t<tr><th scope=row>Dim.302</th><td>3,055471e-05</td><td>9,518601e-06</td><td> 99,99994</td></tr>\n",
       "\t<tr><th scope=row>Dim.303</th><td>2,858930e-05</td><td>8,906323e-06</td><td> 99,99995</td></tr>\n",
       "\t<tr><th scope=row>Dim.304</th><td>2,083659e-05</td><td>6,491148e-06</td><td> 99,99996</td></tr>\n",
       "\t<tr><th scope=row>Dim.305</th><td>1,981227e-05</td><td>6,172045e-06</td><td> 99,99997</td></tr>\n",
       "\t<tr><th scope=row>Dim.306</th><td>1,858020e-05</td><td>5,788224e-06</td><td> 99,99997</td></tr>\n",
       "\t<tr><th scope=row>Dim.307</th><td>1,608921e-05</td><td>5,012215e-06</td><td> 99,99998</td></tr>\n",
       "\t<tr><th scope=row>Dim.308</th><td>1,498523e-05</td><td>4,668296e-06</td><td> 99,99998</td></tr>\n",
       "\t<tr><th scope=row>Dim.309</th><td>1,183384e-05</td><td>3,686555e-06</td><td> 99,99999</td></tr>\n",
       "\t<tr><th scope=row>Dim.310</th><td>1,105349e-05</td><td>3,443454e-06</td><td> 99,99999</td></tr>\n",
       "\t<tr><th scope=row>Dim.311</th><td>7,485221e-06</td><td>2,331845e-06</td><td> 99,99999</td></tr>\n",
       "\t<tr><th scope=row>Dim.312</th><td>5,767566e-06</td><td>1,796750e-06</td><td> 99,99999</td></tr>\n",
       "\t<tr><th scope=row>Dim.313</th><td>5,508767e-06</td><td>1,716127e-06</td><td> 99,99999</td></tr>\n",
       "\t<tr><th scope=row>Dim.314</th><td>4,648980e-06</td><td>1,448280e-06</td><td>100,00000</td></tr>\n",
       "\t<tr><th scope=row>Dim.315</th><td>4,215450e-06</td><td>1,313224e-06</td><td>100,00000</td></tr>\n",
       "\t<tr><th scope=row>Dim.316</th><td>2,587881e-06</td><td>8,061936e-07</td><td>100,00000</td></tr>\n",
       "\t<tr><th scope=row>Dim.317</th><td>2,054803e-06</td><td>6,401256e-07</td><td>100,00000</td></tr>\n",
       "\t<tr><th scope=row>Dim.318</th><td>1,711433e-06</td><td>5,331568e-07</td><td>100,00000</td></tr>\n",
       "\t<tr><th scope=row>Dim.319</th><td>1,031944e-06</td><td>3,214780e-07</td><td>100,00000</td></tr>\n",
       "\t<tr><th scope=row>Dim.320</th><td>5,644741e-07</td><td>1,758486e-07</td><td>100,00000</td></tr>\n",
       "\t<tr><th scope=row>Dim.321</th><td>8,857016e-08</td><td>2,759195e-08</td><td>100,00000</td></tr>\n",
       "</tbody>\n",
       "</table>\n"
      ],
      "text/latex": [
       "A matrix: 321 × 3 of type dbl\n",
       "\\begin{tabular}{r|lll}\n",
       "  & eigenvalue & variance.percent & cumulative.variance.percent\\\\\n",
       "\\hline\n",
       "\tDim.1 & 186,3477415 & 58,0522559 & 58,05226\\\\\n",
       "\tDim.2 &  50,8560817 & 15,8430161 & 73,89527\\\\\n",
       "\tDim.3 &  12,5584062 &  3,9122761 & 77,80755\\\\\n",
       "\tDim.4 &   8,9703826 &  2,7945117 & 80,60206\\\\\n",
       "\tDim.5 &   7,7530408 &  2,4152775 & 83,01734\\\\\n",
       "\tDim.6 &   7,0236376 &  2,1880491 & 85,20539\\\\\n",
       "\tDim.7 &   5,4831912 &  1,7081592 & 86,91355\\\\\n",
       "\tDim.8 &   4,6532328 &  1,4496052 & 88,36315\\\\\n",
       "\tDim.9 &   3,2313884 &  1,0066630 & 89,36981\\\\\n",
       "\tDim.10 &   2,7745512 &  0,8643462 & 90,23416\\\\\n",
       "\tDim.11 &   2,4049501 &  0,7492056 & 90,98337\\\\\n",
       "\tDim.12 &   2,1483495 &  0,6692677 & 91,65263\\\\\n",
       "\tDim.13 &   1,6496215 &  0,5139008 & 92,16653\\\\\n",
       "\tDim.14 &   1,5827453 &  0,4930671 & 92,65960\\\\\n",
       "\tDim.15 &   1,4301892 &  0,4455418 & 93,10514\\\\\n",
       "\tDim.16 &   1,3648870 &  0,4251985 & 93,53034\\\\\n",
       "\tDim.17 &   1,2911643 &  0,4022319 & 93,93257\\\\\n",
       "\tDim.18 &   1,1013591 &  0,3431025 & 94,27568\\\\\n",
       "\tDim.19 &   1,0168499 &  0,3167757 & 94,59245\\\\\n",
       "\tDim.20 &   0,9704370 &  0,3023168 & 94,89477\\\\\n",
       "\tDim.21 &   0,8623168 &  0,2686345 & 95,16340\\\\\n",
       "\tDim.22 &   0,7821400 &  0,2436573 & 95,40706\\\\\n",
       "\tDim.23 &   0,6998633 &  0,2180259 & 95,62509\\\\\n",
       "\tDim.24 &   0,6626952 &  0,2064471 & 95,83153\\\\\n",
       "\tDim.25 &   0,6426983 &  0,2002175 & 96,03175\\\\\n",
       "\tDim.26 &   0,5730939 &  0,1785339 & 96,21028\\\\\n",
       "\tDim.27 &   0,5398584 &  0,1681802 & 96,37847\\\\\n",
       "\tDim.28 &   0,4905066 &  0,1528058 & 96,53127\\\\\n",
       "\tDim.29 &   0,4752742 &  0,1480605 & 96,67933\\\\\n",
       "\tDim.30 &   0,4463484 &  0,1390494 & 96,81838\\\\\n",
       "\t⋮ & ⋮ & ⋮ & ⋮\\\\\n",
       "\tDim.292 & 6,133738e-05 & 1,910822e-05 &  99,99982\\\\\n",
       "\tDim.293 & 5,677249e-05 & 1,768614e-05 &  99,99983\\\\\n",
       "\tDim.294 & 5,386548e-05 & 1,678052e-05 &  99,99985\\\\\n",
       "\tDim.295 & 5,240237e-05 & 1,632473e-05 &  99,99987\\\\\n",
       "\tDim.296 & 4,308425e-05 & 1,342188e-05 &  99,99988\\\\\n",
       "\tDim.297 & 4,119609e-05 & 1,283367e-05 &  99,99989\\\\\n",
       "\tDim.298 & 3,643802e-05 & 1,135141e-05 &  99,99990\\\\\n",
       "\tDim.299 & 3,473753e-05 & 1,082166e-05 &  99,99992\\\\\n",
       "\tDim.300 & 3,282604e-05 & 1,022618e-05 &  99,99993\\\\\n",
       "\tDim.301 & 3,126464e-05 & 9,739763e-06 &  99,99994\\\\\n",
       "\tDim.302 & 3,055471e-05 & 9,518601e-06 &  99,99994\\\\\n",
       "\tDim.303 & 2,858930e-05 & 8,906323e-06 &  99,99995\\\\\n",
       "\tDim.304 & 2,083659e-05 & 6,491148e-06 &  99,99996\\\\\n",
       "\tDim.305 & 1,981227e-05 & 6,172045e-06 &  99,99997\\\\\n",
       "\tDim.306 & 1,858020e-05 & 5,788224e-06 &  99,99997\\\\\n",
       "\tDim.307 & 1,608921e-05 & 5,012215e-06 &  99,99998\\\\\n",
       "\tDim.308 & 1,498523e-05 & 4,668296e-06 &  99,99998\\\\\n",
       "\tDim.309 & 1,183384e-05 & 3,686555e-06 &  99,99999\\\\\n",
       "\tDim.310 & 1,105349e-05 & 3,443454e-06 &  99,99999\\\\\n",
       "\tDim.311 & 7,485221e-06 & 2,331845e-06 &  99,99999\\\\\n",
       "\tDim.312 & 5,767566e-06 & 1,796750e-06 &  99,99999\\\\\n",
       "\tDim.313 & 5,508767e-06 & 1,716127e-06 &  99,99999\\\\\n",
       "\tDim.314 & 4,648980e-06 & 1,448280e-06 & 100,00000\\\\\n",
       "\tDim.315 & 4,215450e-06 & 1,313224e-06 & 100,00000\\\\\n",
       "\tDim.316 & 2,587881e-06 & 8,061936e-07 & 100,00000\\\\\n",
       "\tDim.317 & 2,054803e-06 & 6,401256e-07 & 100,00000\\\\\n",
       "\tDim.318 & 1,711433e-06 & 5,331568e-07 & 100,00000\\\\\n",
       "\tDim.319 & 1,031944e-06 & 3,214780e-07 & 100,00000\\\\\n",
       "\tDim.320 & 5,644741e-07 & 1,758486e-07 & 100,00000\\\\\n",
       "\tDim.321 & 8,857016e-08 & 2,759195e-08 & 100,00000\\\\\n",
       "\\end{tabular}\n"
      ],
      "text/markdown": [
       "\n",
       "A matrix: 321 × 3 of type dbl\n",
       "\n",
       "| <!--/--> | eigenvalue | variance.percent | cumulative.variance.percent |\n",
       "|---|---|---|---|\n",
       "| Dim.1 | 186,3477415 | 58,0522559 | 58,05226 |\n",
       "| Dim.2 |  50,8560817 | 15,8430161 | 73,89527 |\n",
       "| Dim.3 |  12,5584062 |  3,9122761 | 77,80755 |\n",
       "| Dim.4 |   8,9703826 |  2,7945117 | 80,60206 |\n",
       "| Dim.5 |   7,7530408 |  2,4152775 | 83,01734 |\n",
       "| Dim.6 |   7,0236376 |  2,1880491 | 85,20539 |\n",
       "| Dim.7 |   5,4831912 |  1,7081592 | 86,91355 |\n",
       "| Dim.8 |   4,6532328 |  1,4496052 | 88,36315 |\n",
       "| Dim.9 |   3,2313884 |  1,0066630 | 89,36981 |\n",
       "| Dim.10 |   2,7745512 |  0,8643462 | 90,23416 |\n",
       "| Dim.11 |   2,4049501 |  0,7492056 | 90,98337 |\n",
       "| Dim.12 |   2,1483495 |  0,6692677 | 91,65263 |\n",
       "| Dim.13 |   1,6496215 |  0,5139008 | 92,16653 |\n",
       "| Dim.14 |   1,5827453 |  0,4930671 | 92,65960 |\n",
       "| Dim.15 |   1,4301892 |  0,4455418 | 93,10514 |\n",
       "| Dim.16 |   1,3648870 |  0,4251985 | 93,53034 |\n",
       "| Dim.17 |   1,2911643 |  0,4022319 | 93,93257 |\n",
       "| Dim.18 |   1,1013591 |  0,3431025 | 94,27568 |\n",
       "| Dim.19 |   1,0168499 |  0,3167757 | 94,59245 |\n",
       "| Dim.20 |   0,9704370 |  0,3023168 | 94,89477 |\n",
       "| Dim.21 |   0,8623168 |  0,2686345 | 95,16340 |\n",
       "| Dim.22 |   0,7821400 |  0,2436573 | 95,40706 |\n",
       "| Dim.23 |   0,6998633 |  0,2180259 | 95,62509 |\n",
       "| Dim.24 |   0,6626952 |  0,2064471 | 95,83153 |\n",
       "| Dim.25 |   0,6426983 |  0,2002175 | 96,03175 |\n",
       "| Dim.26 |   0,5730939 |  0,1785339 | 96,21028 |\n",
       "| Dim.27 |   0,5398584 |  0,1681802 | 96,37847 |\n",
       "| Dim.28 |   0,4905066 |  0,1528058 | 96,53127 |\n",
       "| Dim.29 |   0,4752742 |  0,1480605 | 96,67933 |\n",
       "| Dim.30 |   0,4463484 |  0,1390494 | 96,81838 |\n",
       "| ⋮ | ⋮ | ⋮ | ⋮ |\n",
       "| Dim.292 | 6,133738e-05 | 1,910822e-05 |  99,99982 |\n",
       "| Dim.293 | 5,677249e-05 | 1,768614e-05 |  99,99983 |\n",
       "| Dim.294 | 5,386548e-05 | 1,678052e-05 |  99,99985 |\n",
       "| Dim.295 | 5,240237e-05 | 1,632473e-05 |  99,99987 |\n",
       "| Dim.296 | 4,308425e-05 | 1,342188e-05 |  99,99988 |\n",
       "| Dim.297 | 4,119609e-05 | 1,283367e-05 |  99,99989 |\n",
       "| Dim.298 | 3,643802e-05 | 1,135141e-05 |  99,99990 |\n",
       "| Dim.299 | 3,473753e-05 | 1,082166e-05 |  99,99992 |\n",
       "| Dim.300 | 3,282604e-05 | 1,022618e-05 |  99,99993 |\n",
       "| Dim.301 | 3,126464e-05 | 9,739763e-06 |  99,99994 |\n",
       "| Dim.302 | 3,055471e-05 | 9,518601e-06 |  99,99994 |\n",
       "| Dim.303 | 2,858930e-05 | 8,906323e-06 |  99,99995 |\n",
       "| Dim.304 | 2,083659e-05 | 6,491148e-06 |  99,99996 |\n",
       "| Dim.305 | 1,981227e-05 | 6,172045e-06 |  99,99997 |\n",
       "| Dim.306 | 1,858020e-05 | 5,788224e-06 |  99,99997 |\n",
       "| Dim.307 | 1,608921e-05 | 5,012215e-06 |  99,99998 |\n",
       "| Dim.308 | 1,498523e-05 | 4,668296e-06 |  99,99998 |\n",
       "| Dim.309 | 1,183384e-05 | 3,686555e-06 |  99,99999 |\n",
       "| Dim.310 | 1,105349e-05 | 3,443454e-06 |  99,99999 |\n",
       "| Dim.311 | 7,485221e-06 | 2,331845e-06 |  99,99999 |\n",
       "| Dim.312 | 5,767566e-06 | 1,796750e-06 |  99,99999 |\n",
       "| Dim.313 | 5,508767e-06 | 1,716127e-06 |  99,99999 |\n",
       "| Dim.314 | 4,648980e-06 | 1,448280e-06 | 100,00000 |\n",
       "| Dim.315 | 4,215450e-06 | 1,313224e-06 | 100,00000 |\n",
       "| Dim.316 | 2,587881e-06 | 8,061936e-07 | 100,00000 |\n",
       "| Dim.317 | 2,054803e-06 | 6,401256e-07 | 100,00000 |\n",
       "| Dim.318 | 1,711433e-06 | 5,331568e-07 | 100,00000 |\n",
       "| Dim.319 | 1,031944e-06 | 3,214780e-07 | 100,00000 |\n",
       "| Dim.320 | 5,644741e-07 | 1,758486e-07 | 100,00000 |\n",
       "| Dim.321 | 8,857016e-08 | 2,759195e-08 | 100,00000 |\n",
       "\n"
      ],
      "text/plain": [
       "        eigenvalue   variance.percent cumulative.variance.percent\n",
       "Dim.1   186,3477415  58,0522559       58,05226                   \n",
       "Dim.2    50,8560817  15,8430161       73,89527                   \n",
       "Dim.3    12,5584062   3,9122761       77,80755                   \n",
       "Dim.4     8,9703826   2,7945117       80,60206                   \n",
       "Dim.5     7,7530408   2,4152775       83,01734                   \n",
       "Dim.6     7,0236376   2,1880491       85,20539                   \n",
       "Dim.7     5,4831912   1,7081592       86,91355                   \n",
       "Dim.8     4,6532328   1,4496052       88,36315                   \n",
       "Dim.9     3,2313884   1,0066630       89,36981                   \n",
       "Dim.10    2,7745512   0,8643462       90,23416                   \n",
       "Dim.11    2,4049501   0,7492056       90,98337                   \n",
       "Dim.12    2,1483495   0,6692677       91,65263                   \n",
       "Dim.13    1,6496215   0,5139008       92,16653                   \n",
       "Dim.14    1,5827453   0,4930671       92,65960                   \n",
       "Dim.15    1,4301892   0,4455418       93,10514                   \n",
       "Dim.16    1,3648870   0,4251985       93,53034                   \n",
       "Dim.17    1,2911643   0,4022319       93,93257                   \n",
       "Dim.18    1,1013591   0,3431025       94,27568                   \n",
       "Dim.19    1,0168499   0,3167757       94,59245                   \n",
       "Dim.20    0,9704370   0,3023168       94,89477                   \n",
       "Dim.21    0,8623168   0,2686345       95,16340                   \n",
       "Dim.22    0,7821400   0,2436573       95,40706                   \n",
       "Dim.23    0,6998633   0,2180259       95,62509                   \n",
       "Dim.24    0,6626952   0,2064471       95,83153                   \n",
       "Dim.25    0,6426983   0,2002175       96,03175                   \n",
       "Dim.26    0,5730939   0,1785339       96,21028                   \n",
       "Dim.27    0,5398584   0,1681802       96,37847                   \n",
       "Dim.28    0,4905066   0,1528058       96,53127                   \n",
       "Dim.29    0,4752742   0,1480605       96,67933                   \n",
       "Dim.30    0,4463484   0,1390494       96,81838                   \n",
       "⋮       ⋮            ⋮                ⋮                          \n",
       "Dim.292 6,133738e-05 1,910822e-05      99,99982                  \n",
       "Dim.293 5,677249e-05 1,768614e-05      99,99983                  \n",
       "Dim.294 5,386548e-05 1,678052e-05      99,99985                  \n",
       "Dim.295 5,240237e-05 1,632473e-05      99,99987                  \n",
       "Dim.296 4,308425e-05 1,342188e-05      99,99988                  \n",
       "Dim.297 4,119609e-05 1,283367e-05      99,99989                  \n",
       "Dim.298 3,643802e-05 1,135141e-05      99,99990                  \n",
       "Dim.299 3,473753e-05 1,082166e-05      99,99992                  \n",
       "Dim.300 3,282604e-05 1,022618e-05      99,99993                  \n",
       "Dim.301 3,126464e-05 9,739763e-06      99,99994                  \n",
       "Dim.302 3,055471e-05 9,518601e-06      99,99994                  \n",
       "Dim.303 2,858930e-05 8,906323e-06      99,99995                  \n",
       "Dim.304 2,083659e-05 6,491148e-06      99,99996                  \n",
       "Dim.305 1,981227e-05 6,172045e-06      99,99997                  \n",
       "Dim.306 1,858020e-05 5,788224e-06      99,99997                  \n",
       "Dim.307 1,608921e-05 5,012215e-06      99,99998                  \n",
       "Dim.308 1,498523e-05 4,668296e-06      99,99998                  \n",
       "Dim.309 1,183384e-05 3,686555e-06      99,99999                  \n",
       "Dim.310 1,105349e-05 3,443454e-06      99,99999                  \n",
       "Dim.311 7,485221e-06 2,331845e-06      99,99999                  \n",
       "Dim.312 5,767566e-06 1,796750e-06      99,99999                  \n",
       "Dim.313 5,508767e-06 1,716127e-06      99,99999                  \n",
       "Dim.314 4,648980e-06 1,448280e-06     100,00000                  \n",
       "Dim.315 4,215450e-06 1,313224e-06     100,00000                  \n",
       "Dim.316 2,587881e-06 8,061936e-07     100,00000                  \n",
       "Dim.317 2,054803e-06 6,401256e-07     100,00000                  \n",
       "Dim.318 1,711433e-06 5,331568e-07     100,00000                  \n",
       "Dim.319 1,031944e-06 3,214780e-07     100,00000                  \n",
       "Dim.320 5,644741e-07 1,758486e-07     100,00000                  \n",
       "Dim.321 8,857016e-08 2,759195e-08     100,00000                  "
      ]
     },
     "metadata": {},
     "output_type": "display_data"
    }
   ],
   "source": [
    "get_eig(meteo.pca)"
   ]
  },
  {
   "cell_type": "code",
   "execution_count": 51,
   "metadata": {},
   "outputs": [
    {
     "data": {
      "text/html": [
       "<table>\n",
       "<caption>A matrix: 6 × 5 of type dbl</caption>\n",
       "<thead>\n",
       "\t<tr><th></th><th scope=col>Dim.1</th><th scope=col>Dim.2</th><th scope=col>Dim.3</th><th scope=col>Dim.4</th><th scope=col>Dim.5</th></tr>\n",
       "</thead>\n",
       "<tbody>\n",
       "\t<tr><th scope=row>y</th><td>0,01068821</td><td>0,1481743</td><td>0,409296737</td><td>0,05626072</td><td>0,01623840</td></tr>\n",
       "\t<tr><th scope=row>X1</th><td>0,32967378</td><td>0,3751500</td><td>0,003521151</td><td>1,08009249</td><td>0,18075169</td></tr>\n",
       "\t<tr><th scope=row>X2</th><td>0,30982013</td><td>0,5400883</td><td>0,013331685</td><td>1,09103897</td><td>0,03021082</td></tr>\n",
       "\t<tr><th scope=row>X3</th><td>0,28721888</td><td>0,6817707</td><td>0,037136982</td><td>0,90123571</td><td>0,02682396</td></tr>\n",
       "\t<tr><th scope=row>X4</th><td>0,25893709</td><td>0,7623370</td><td>0,083838768</td><td>0,59147460</td><td>0,29705941</td></tr>\n",
       "\t<tr><th scope=row>X5</th><td>0,22439603</td><td>0,7564979</td><td>0,158458134</td><td>0,29112473</td><td>0,84317813</td></tr>\n",
       "</tbody>\n",
       "</table>\n"
      ],
      "text/latex": [
       "A matrix: 6 × 5 of type dbl\n",
       "\\begin{tabular}{r|lllll}\n",
       "  & Dim.1 & Dim.2 & Dim.3 & Dim.4 & Dim.5\\\\\n",
       "\\hline\n",
       "\ty & 0,01068821 & 0,1481743 & 0,409296737 & 0,05626072 & 0,01623840\\\\\n",
       "\tX1 & 0,32967378 & 0,3751500 & 0,003521151 & 1,08009249 & 0,18075169\\\\\n",
       "\tX2 & 0,30982013 & 0,5400883 & 0,013331685 & 1,09103897 & 0,03021082\\\\\n",
       "\tX3 & 0,28721888 & 0,6817707 & 0,037136982 & 0,90123571 & 0,02682396\\\\\n",
       "\tX4 & 0,25893709 & 0,7623370 & 0,083838768 & 0,59147460 & 0,29705941\\\\\n",
       "\tX5 & 0,22439603 & 0,7564979 & 0,158458134 & 0,29112473 & 0,84317813\\\\\n",
       "\\end{tabular}\n"
      ],
      "text/markdown": [
       "\n",
       "A matrix: 6 × 5 of type dbl\n",
       "\n",
       "| <!--/--> | Dim.1 | Dim.2 | Dim.3 | Dim.4 | Dim.5 |\n",
       "|---|---|---|---|---|---|\n",
       "| y | 0,01068821 | 0,1481743 | 0,409296737 | 0,05626072 | 0,01623840 |\n",
       "| X1 | 0,32967378 | 0,3751500 | 0,003521151 | 1,08009249 | 0,18075169 |\n",
       "| X2 | 0,30982013 | 0,5400883 | 0,013331685 | 1,09103897 | 0,03021082 |\n",
       "| X3 | 0,28721888 | 0,6817707 | 0,037136982 | 0,90123571 | 0,02682396 |\n",
       "| X4 | 0,25893709 | 0,7623370 | 0,083838768 | 0,59147460 | 0,29705941 |\n",
       "| X5 | 0,22439603 | 0,7564979 | 0,158458134 | 0,29112473 | 0,84317813 |\n",
       "\n"
      ],
      "text/plain": [
       "   Dim.1      Dim.2     Dim.3       Dim.4      Dim.5     \n",
       "y  0,01068821 0,1481743 0,409296737 0,05626072 0,01623840\n",
       "X1 0,32967378 0,3751500 0,003521151 1,08009249 0,18075169\n",
       "X2 0,30982013 0,5400883 0,013331685 1,09103897 0,03021082\n",
       "X3 0,28721888 0,6817707 0,037136982 0,90123571 0,02682396\n",
       "X4 0,25893709 0,7623370 0,083838768 0,59147460 0,29705941\n",
       "X5 0,22439603 0,7564979 0,158458134 0,29112473 0,84317813"
      ]
     },
     "metadata": {},
     "output_type": "display_data"
    }
   ],
   "source": [
    "meteo.var <- get_pca_var(meteo.pca)\n",
    "head(meteo.var$contrib)"
   ]
  },
  {
   "cell_type": "code",
   "execution_count": 50,
   "metadata": {},
   "outputs": [
    {
     "name": "stdout",
     "output_type": "stream",
     "text": [
      "[1] \"La constribución de la variable objetivo a la primera componente principal es: 1,0688 %\"\n"
     ]
    }
   ],
   "source": [
    "print(paste(\"La constribución de la variable objetivo a la primera componente principal es:\",\n",
    "            format(round(meteo.var$contrib[1,1]*100,4), nsmall = 4),\"%\"))"
   ]
  },
  {
   "cell_type": "code",
   "execution_count": 16,
   "metadata": {},
   "outputs": [],
   "source": [
    "?scale"
   ]
  },
  {
   "cell_type": "markdown",
   "metadata": {
    "button": false,
    "new_sheet": false,
    "run_control": {
     "read_only": false
    }
   },
   "source": [
    "### Punto 2 (3 puntos):\n",
    "\n",
    "A continuación, consideraremos la serie de precipitación discretizada a partir del valor 1 mm, que es el estándar definido para establecer los días en que ha llovido. El objetivo de este apartado es predecir la ocurrencia de precipitación en Lisboa a partir de los predictores antes definidos. Para ello consideraremos, por un lado, las componentes principales obtenidas estandarizando los datos originales y, por otro lado, el método `KNN`. Dividir la muestra en dos subconjuntos, el primero (20 primeros años) lo utilizaremos para calibrar el modelo y obtener su configuración óptima, mientras que el segundo (10 últimos años) lo utilizaremos como test independiente de cara a comparar diferentes métodos.\n",
    "\n",
    "* Considerad diferentes umbrales de varianza explicada y el número de PCs asociado (p.e. 40%, 60%, 80% y 90%) y obtend el valor óptimo de `K` en cada caso rastreando valores entre 1 y 15, ¿cómo cambia el valor óptimo? En base a los resultados obtenidos, ¿cuantas PCs considerarías para entrenar el modelo? (`Nota:` ver práctica de `KNN`)\n",
    "* Para la configuración óptima calibrada con el conjunto de entrenamiento realizad la predicción sobre el conjunto de test y estimad los errores cometidos sobre este conjunto.\n",
    "\n",
    "### Punto 3 (2 puntos):\n",
    "\n",
    "Repetid el experimento anterior considerando la precipitación discretizada a partir del valor 20 mm, que es el estándar definido para establecer los días en que ha llovido de forma intensa.\n",
    "\n",
    "* ¿Cómo cambian los valores óptimos de `K` y de número de PCs? \n",
    "* ¿Cómo cambian los errores sobre el conjunto de test en este caso?\n",
    "* En caso de existir diferentes significativas en ambos casos, ¿a qué crees que puede ser debido? ¿La frecuencia en la muestra del evento a predecir puede influir en la calidad de la predicción?\n",
    "\n",
    "### Punto 4 (2 puntos):\n",
    "\n",
    "Considerando el número de PCs óptimo obtenido en el apartado anterior, predecid el conjunto de test utilizando en este caso la regresión logística como método de clasificación (`Nota:` ver `Práctica Clasificacion Lineal` en el Moodle de la asignatura de Estadística o en la de Minería de Datos). \n",
    "\n",
    "* Comparad los resultados obtenidos utilizando ambos métodos para la predicción de la ocurrencia de precipitación y de precipitación intensa (`Nota:` considerar, por ejemplo, la curva ROC para la comparación), ¿alguno de los métodos se comporta mejor que el otro de forma sistemática?"
   ]
  }
 ],
 "metadata": {
  "kernelspec": {
   "display_name": "R",
   "language": "R",
   "name": "ir"
  },
  "language_info": {
   "codemirror_mode": "r",
   "file_extension": ".r",
   "mimetype": "text/x-r-source",
   "name": "R",
   "pygments_lexer": "r",
   "version": "3.6.1"
  }
 },
 "nbformat": 4,
 "nbformat_minor": 2
}
