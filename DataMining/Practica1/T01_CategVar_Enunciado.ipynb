{
 "cells": [
  {
   "cell_type": "markdown",
   "metadata": {
    "button": false,
    "new_sheet": false,
    "run_control": {
     "read_only": false
    }
   },
   "source": [
    "## Minería de Datos (Master en Data Science, UIMP-UC) \n",
    "## Tarea 1. Variables Categóricas: Reglas de Asociación y Árboles de Clasificación\n",
    "### [Profesores: Sixto Herrera y Rodrigo García]\n",
    "\n",
    "En la presente tarea consideraremos el dataset `Mushroom`, incluido tanto en la La librería [arulesViz](https://cran.r-project.org/web/packages/arulesViz/arulesViz.pdf) como en las diferentes plataformas descritas en el marco de la asignatura y en el GitHub dedicado a este Máster ([Mushroom](https://github.com/SantanderMetGroup/Master-Data-Science/blob/master/Data_mining/datasets/mushrooms.csv.)), para aplicar las diferentes técnicas vistas en el curso para variables categóricas: Reglas de Asociación y Árboles de Clasificación.\n",
    "\n",
    "Para el desarrollo de la tarea se permitirá el uso de todo el material incluido en el Moodle de las asignatura así como el desarrollado por el alumno durante la realización de las prácticas.\n",
    "\n",
    "La entrega consisitirá de un notebook de Jupyter ó un R-MarkDown, junto con el archivo html que éste genera. Ambos ficheros se entregarán a través del Moodle de la asignatura en la tarea correspondiente.\n",
    "\n",
    "### Punto 1 (3 puntos):\n",
    "\n",
    "Considerar uno de los algoritmos de asociación vistos en clase y obtener las reglas representativas del dataset fijando los parámetros de aprendizaje (soporte, confianza, etc...). Analizar los resultados en términos generales:\n",
    "* ¿Cuantas reglas se han generado?\n",
    "* ¿Existe alguna regla redundante?, ¿Cuántas?\n",
    "* ¿Existe alguna regla que incluya la variable objetivo: `Class=edible` ó `Class=poisonous`?, ¿Cuantas?\n",
    "* De cara a ser utilizada como modelo predictivo es adecuado que la variable objetivo se encuentre en el consecuente de la regla de asociación, ¿se da esta propiedad en alguna regla?\n",
    "* Considerar los subconjuntos de reglas con ambas clases como consecuente e ilustrar las variables implicadas en cada caso. Considerar alguno de los grafos vistos para apoyar las conclusiones obtenidas.\n",
    "\n",
    "NOTA: Usar soportes superiores a 0.1 para evitar problemas de memoria."
   ]
  },
  {
   "cell_type": "markdown",
   "metadata": {},
   "source": [
    "## Desarrollo Punto 1"
   ]
  },
  {
   "cell_type": "markdown",
   "metadata": {},
   "source": [
    "Cargo las librerias necesarias y el dataset"
   ]
  },
  {
   "cell_type": "code",
   "execution_count": 3,
   "metadata": {},
   "outputs": [
    {
     "name": "stdout",
     "output_type": "stream",
     "text": [
      "Formal class 'transactions' [package \"arules\"] with 3 slots\n",
      "  ..@ data       :Formal class 'ngCMatrix' [package \"Matrix\"] with 5 slots\n",
      "  .. .. ..@ i       : int [1:178360] 1 7 10 16 23 30 34 35 38 43 ...\n",
      "  .. .. ..@ p       : int [1:8125] 0 22 45 68 90 112 135 158 180 202 ...\n",
      "  .. .. ..@ Dim     : int [1:2] 114 8124\n",
      "  .. .. ..@ Dimnames:List of 2\n",
      "  .. .. .. ..$ : NULL\n",
      "  .. .. .. ..$ : NULL\n",
      "  .. .. ..@ factors : list()\n",
      "  ..@ itemInfo   :'data.frame':\t114 obs. of  3 variables:\n",
      "  .. ..$ labels   : chr [1:114] \"Class=edible\" \"Class=poisonous\" \"CapShape=bell\" \"CapShape=conical\" ...\n",
      "  .. ..$ variables: Factor w/ 23 levels \"Bruises\",\"CapColor\",..: 5 5 3 3 3 3 3 3 4 4 ...\n",
      "  .. ..$ levels   : Factor w/ 63 levels \"almond\",\"anise\",..: 19 47 4 15 26 33 56 16 23 32 ...\n",
      "  ..@ itemsetInfo:'data.frame':\t8124 obs. of  0 variables\n"
     ]
    },
    {
     "data": {
      "text/html": [
       "<table>\n",
       "<caption>A data.frame: 6 × 3</caption>\n",
       "<thead>\n",
       "\t<tr><th scope=col>labels</th><th scope=col>variables</th><th scope=col>levels</th></tr>\n",
       "\t<tr><th scope=col>&lt;chr&gt;</th><th scope=col>&lt;fct&gt;</th><th scope=col>&lt;fct&gt;</th></tr>\n",
       "</thead>\n",
       "<tbody>\n",
       "\t<tr><td>Class=edible    </td><td>Class   </td><td>edible   </td></tr>\n",
       "\t<tr><td>Class=poisonous </td><td>Class   </td><td>poisonous</td></tr>\n",
       "\t<tr><td>CapShape=bell   </td><td>CapShape</td><td>bell     </td></tr>\n",
       "\t<tr><td>CapShape=conical</td><td>CapShape</td><td>conical  </td></tr>\n",
       "\t<tr><td>CapShape=flat   </td><td>CapShape</td><td>flat     </td></tr>\n",
       "\t<tr><td>CapShape=knobbed</td><td>CapShape</td><td>knobbed  </td></tr>\n",
       "</tbody>\n",
       "</table>\n"
      ],
      "text/latex": [
       "A data.frame: 6 × 3\n",
       "\\begin{tabular}{r|lll}\n",
       " labels & variables & levels\\\\\n",
       " <chr> & <fct> & <fct>\\\\\n",
       "\\hline\n",
       "\t Class=edible     & Class    & edible   \\\\\n",
       "\t Class=poisonous  & Class    & poisonous\\\\\n",
       "\t CapShape=bell    & CapShape & bell     \\\\\n",
       "\t CapShape=conical & CapShape & conical  \\\\\n",
       "\t CapShape=flat    & CapShape & flat     \\\\\n",
       "\t CapShape=knobbed & CapShape & knobbed  \\\\\n",
       "\\end{tabular}\n"
      ],
      "text/markdown": [
       "\n",
       "A data.frame: 6 × 3\n",
       "\n",
       "| labels &lt;chr&gt; | variables &lt;fct&gt; | levels &lt;fct&gt; |\n",
       "|---|---|---|\n",
       "| Class=edible     | Class    | edible    |\n",
       "| Class=poisonous  | Class    | poisonous |\n",
       "| CapShape=bell    | CapShape | bell      |\n",
       "| CapShape=conical | CapShape | conical   |\n",
       "| CapShape=flat    | CapShape | flat      |\n",
       "| CapShape=knobbed | CapShape | knobbed   |\n",
       "\n"
      ],
      "text/plain": [
       "  labels           variables levels   \n",
       "1 Class=edible     Class     edible   \n",
       "2 Class=poisonous  Class     poisonous\n",
       "3 CapShape=bell    CapShape  bell     \n",
       "4 CapShape=conical CapShape  conical  \n",
       "5 CapShape=flat    CapShape  flat     \n",
       "6 CapShape=knobbed CapShape  knobbed  "
      ]
     },
     "metadata": {},
     "output_type": "display_data"
    }
   ],
   "source": [
    "library(arulesViz)\n",
    "library(arules)\n",
    "#library(tidyverse)\n",
    "\n",
    "data(Mushroom)\n",
    "str(Mushroom)\n",
    "\n",
    "head(Mushroom@itemInfo)"
   ]
  },
  {
   "cell_type": "markdown",
   "metadata": {},
   "source": [
    "Imprimo un pequeño resumen de las variables disponibles y de sus posibles valores."
   ]
  },
  {
   "cell_type": "code",
   "execution_count": 4,
   "metadata": {},
   "outputs": [
    {
     "name": "stdout",
     "output_type": "stream",
     "text": [
      "[1] \"Bruises\"\n",
      "[1] \"     bruises\"\n",
      "[1] \"     no\"\n",
      "[1] \"CapColor\"\n",
      "[1] \"     brown\"\n",
      "[1] \"     buff\"\n",
      "[1] \"     cinnamon\"\n",
      "[1] \"     gray\"\n",
      "[1] \"     green\"\n",
      "[1] \"     pink\"\n",
      "[1] \"     purple\"\n",
      "[1] \"     red\"\n",
      "[1] \"     white\"\n",
      "[1] \"     yellow\"\n",
      "[1] \"CapShape\"\n",
      "[1] \"     bell\"\n",
      "[1] \"     conical\"\n",
      "[1] \"     convex\"\n",
      "[1] \"     flat\"\n",
      "[1] \"     knobbed\"\n",
      "[1] \"     no\"\n",
      "[1] \"     sunken\"\n",
      "[1] \"CapSurf\"\n",
      "[1] \"     fibrous\"\n",
      "[1] \"     grooves\"\n",
      "[1] \"     scaly\"\n",
      "[1] \"     smooth\"\n",
      "[1] \"Class\"\n",
      "[1] \"     edible\"\n",
      "[1] \"     no\"\n",
      "[1] \"     poisonous\"\n",
      "[1] \"ColorAboveRing\"\n",
      "[1] \"     brown\"\n",
      "[1] \"     buff\"\n",
      "[1] \"     cinnamon\"\n",
      "[1] \"     gray\"\n",
      "[1] \"     orange\"\n",
      "[1] \"     pink\"\n",
      "[1] \"     red\"\n",
      "[1] \"     white\"\n",
      "[1] \"     yellow\"\n",
      "[1] \"ColorBelowRing\"\n",
      "[1] \"     brown\"\n",
      "[1] \"     buff\"\n",
      "[1] \"     cinnamon\"\n",
      "[1] \"     gray\"\n",
      "[1] \"     orange\"\n",
      "[1] \"     pink\"\n",
      "[1] \"     red\"\n",
      "[1] \"     white\"\n",
      "[1] \"     yellow\"\n",
      "[1] \"GillAttached\"\n",
      "[1] \"     attached\"\n",
      "[1] \"     free\"\n",
      "[1] \"GillColor\"\n",
      "[1] \"     black\"\n",
      "[1] \"     brown\"\n",
      "[1] \"     buff\"\n",
      "[1] \"     chocolate\"\n",
      "[1] \"     gray\"\n",
      "[1] \"     green\"\n",
      "[1] \"     orange\"\n",
      "[1] \"     pink\"\n",
      "[1] \"     purple\"\n",
      "[1] \"     red\"\n",
      "[1] \"     white\"\n",
      "[1] \"     yellow\"\n",
      "[1] \"GillSize\"\n",
      "[1] \"     broad\"\n",
      "[1] \"     narrow\"\n",
      "[1] \"GillSpace\"\n",
      "[1] \"     close\"\n",
      "[1] \"     crowded\"\n",
      "[1] \"Habitat\"\n",
      "[1] \"     grasses\"\n",
      "[1] \"     leaves\"\n",
      "[1] \"     meadows\"\n",
      "[1] \"     paths\"\n",
      "[1] \"     urban\"\n",
      "[1] \"     waste\"\n",
      "[1] \"     woods\"\n",
      "[1] \"Odor\"\n",
      "[1] \"     almond\"\n",
      "[1] \"     anise\"\n",
      "[1] \"     creosote\"\n",
      "[1] \"     fishy\"\n",
      "[1] \"     foul\"\n",
      "[1] \"     musty\"\n",
      "[1] \"     no\"\n",
      "[1] \"     none\"\n",
      "[1] \"     one\"\n",
      "[1] \"     pungent\"\n",
      "[1] \"     spicy\"\n",
      "[1] \"Population\"\n",
      "[1] \"     brown\"\n",
      "[1] \"     yellow\"\n",
      "[1] \"RingNumber\"\n",
      "[1] \"     no\"\n",
      "[1] \"     none\"\n",
      "[1] \"     one\"\n",
      "[1] \"     one\"\n",
      "[1] \"     two\"\n",
      "[1] \"RingType\"\n",
      "[1] \"     evanescent\"\n",
      "[1] \"     flaring\"\n",
      "[1] \"     large\"\n",
      "[1] \"     no\"\n",
      "[1] \"     none\"\n",
      "[1] \"     one\"\n",
      "[1] \"     pendant\"\n",
      "[1] \"Spore\"\n",
      "[1] \"     black\"\n",
      "[1] \"     brown\"\n",
      "[1] \"     buff\"\n",
      "[1] \"     chocolate\"\n",
      "[1] \"     green\"\n",
      "[1] \"     orange\"\n",
      "[1] \"     purple\"\n",
      "[1] \"     white\"\n",
      "[1] \"     yellow\"\n",
      "[1] \"StalkRoot\"\n",
      "[1] \"     bulbous\"\n",
      "[1] \"     club\"\n",
      "[1] \"     equal\"\n",
      "[1] \"     rooted\"\n",
      "[1] \"StalkShape\"\n",
      "[1] \"     enlarging\"\n",
      "[1] \"     tapering\"\n",
      "[1] \"SurfaceAboveRing\"\n",
      "[1] \"     fibrous\"\n",
      "[1] \"     scaly\"\n",
      "[1] \"     silky\"\n",
      "[1] \"     smooth\"\n",
      "[1] \"SurfaceBelowRing\"\n",
      "[1] \"     fibrous\"\n",
      "[1] \"     scaly\"\n",
      "[1] \"     silky\"\n",
      "[1] \"     smooth\"\n",
      "[1] \"VeilColor\"\n",
      "[1] \"     brown\"\n",
      "[1] \"     orange\"\n",
      "[1] \"     white\"\n",
      "[1] \"     yellow\"\n",
      "[1] \"VeilType\"\n",
      "[1] \"     partial\"\n"
     ]
    }
   ],
   "source": [
    "for (variable in levels(Mushroom@itemInfo$variables)){\n",
    "    print(variable)\n",
    "    for (level in levels(Mushroom@itemInfo$levels)){\n",
    "        for (label in Mushroom@itemInfo$labels){\n",
    "            if (grepl(variable, label) & grepl(level, label))\n",
    "            print(paste(\"    \",level))\n",
    "        }\n",
    "    }\n",
    "}"
   ]
  },
  {
   "cell_type": "code",
   "execution_count": 5,
   "metadata": {},
   "outputs": [
    {
     "data": {
      "text/plain": [
       "transactions in sparse format with\n",
       " 6 transactions (rows) and\n",
       " 114 items (columns)"
      ]
     },
     "metadata": {},
     "output_type": "display_data"
    },
    {
     "name": "stdout",
     "output_type": "stream",
     "text": [
      "[1] \"----------------------\"\n"
     ]
    }
   ],
   "source": [
    "head(Mushroom)\n",
    "print(\"----------------------\")"
   ]
  },
  {
   "cell_type": "markdown",
   "metadata": {},
   "source": [
    "Transformo el dataset en un objeto *transactions* de arules"
   ]
  },
  {
   "cell_type": "code",
   "execution_count": 6,
   "metadata": {},
   "outputs": [
    {
     "data": {
      "text/plain": [
       "transactions in sparse format with\n",
       " 8124 transactions (rows) and\n",
       " 114 items (columns)"
      ]
     },
     "metadata": {},
     "output_type": "display_data"
    },
    {
     "name": "stdout",
     "output_type": "stream",
     "text": [
      "[1] \"----------------------\"\n"
     ]
    }
   ],
   "source": [
    "transactions <- as(Mushroom, \"transactions\")\n",
    "transactions\n",
    "print(\"----------------------\")"
   ]
  },
  {
   "cell_type": "markdown",
   "metadata": {},
   "source": [
    "Creo las reglas de asociación utilizando el metodo apriori, como implementado en la libreria arules.\n",
    "\n",
    "Uso las siguientes restricciones para las reglas generadas:\n",
    "- soporte (relativo) mínimo: 0.1;\n",
    "- longitud mínima: 2;\n",
    "- longitud máxima: 20."
   ]
  },
  {
   "cell_type": "code",
   "execution_count": 7,
   "metadata": {},
   "outputs": [
    {
     "name": "stdout",
     "output_type": "stream",
     "text": [
      "Apriori\n",
      "\n",
      "Parameter specification:\n",
      " confidence minval smax arem  aval originalSupport maxtime support minlen\n",
      "        0.8    0.1    1 none FALSE            TRUE       5     0.1      2\n",
      " maxlen target   ext\n",
      "     20  rules FALSE\n",
      "\n",
      "Algorithmic control:\n",
      " filter tree heap memopt load sort verbose\n",
      "    0.1 TRUE TRUE  FALSE TRUE    2    TRUE\n",
      "\n",
      "Absolute minimum support count: 812 \n",
      "\n",
      "set item appearances ...[0 item(s)] done [0.00s].\n",
      "set transactions ...[114 item(s), 8124 transaction(s)] done [0.01s].\n",
      "sorting and recoding items ... [53 item(s)] done [0.01s].\n",
      "creating transaction tree ... done [0.00s].\n",
      "checking subsets of size 1 2 3 4 5 6 7 8 9 10 11 12 13 14 15 16 done [2.66s].\n",
      "writing ... [2560630 rule(s)] done [0.63s].\n",
      "creating S4 object  ... done [1.50s].\n",
      "[1] \"----------------------\"\n"
     ]
    }
   ],
   "source": [
    "rApriori <- apriori(transactions, parameter = list(support = 0.1, minlen = 2, maxlen = 20))\n",
    "print(\"----------------------\")"
   ]
  },
  {
   "cell_type": "code",
   "execution_count": 8,
   "metadata": {},
   "outputs": [
    {
     "name": "stdout",
     "output_type": "stream",
     "text": [
      "Eclat\n",
      "\n",
      "parameter specification:\n",
      " tidLists support minlen maxlen            target   ext\n",
      "    FALSE     0.1      2     20 frequent itemsets FALSE\n",
      "\n",
      "algorithmic control:\n",
      " sparse sort verbose\n",
      "      7   -2    TRUE\n",
      "\n",
      "Absolute minimum support count: 812 \n",
      "\n",
      "create itemset ... \n",
      "set transactions ...[114 item(s), 8124 transaction(s)] done [0.00s].\n",
      "sorting and recoding items ... [53 item(s)] done [0.00s].\n",
      "creating bit matrix ... [53 row(s), 8124 column(s)] done [0.00s].\n",
      "writing  ... [379492 set(s)] done [0.18s].\n",
      "Creating S4 object  ... done [0.16s].\n"
     ]
    }
   ],
   "source": [
    "iEclat <- eclat(transactions, parameter = list(support = 0.1, minlen = 2, maxlen = 20))\n",
    "rEclat <- ruleInduction(iEclat, transactions, confidence = 0)"
   ]
  },
  {
   "cell_type": "markdown",
   "metadata": {},
   "source": [
    "Mirando al resumen del objeto rApriori, donde se guardan todas las reglas de acociación generadas, se observa que estas son:\n",
    "- 2560630 en el caso apriori;\n",
    "- 2995184 en el caso apriori;"
   ]
  },
  {
   "cell_type": "code",
   "execution_count": 9,
   "metadata": {
    "scrolled": false
   },
   "outputs": [
    {
     "data": {
      "text/plain": [
       "set of 2560630 rules\n",
       "\n",
       "rule length distribution (lhs + rhs):sizes\n",
       "     2      3      4      5      6      7      8      9     10     11     12 \n",
       "   331   4862  29136  99724 228717 384061 495449 501329 399135 247755 117473 \n",
       "    13     14     15     16 \n",
       " 41078   9975   1500    105 \n",
       "\n",
       "   Min. 1st Qu.  Median    Mean 3rd Qu.    Max. \n",
       "  2.000   7.000   9.000   8.588  10.000  16.000 \n",
       "\n",
       "summary of quality measures:\n",
       "    support         confidence          lift            count     \n",
       " Min.   :0.1002   Min.   :0.8000   Min.   :0.8266   Min.   : 814  \n",
       " 1st Qu.:0.1064   1st Qu.:1.0000   1st Qu.:1.0849   1st Qu.: 864  \n",
       " Median :0.1064   Median :1.0000   Median :1.6459   Median : 864  \n",
       " Mean   :0.1262   Mean   :0.9897   Mean   :1.7505   Mean   :1025  \n",
       " 3rd Qu.:0.1231   3rd Qu.:1.0000   3rd Qu.:2.1515   3rd Qu.:1000  \n",
       " Max.   :0.9754   Max.   :1.0000   Max.   :6.8718   Max.   :7924  \n",
       "\n",
       "mining info:\n",
       "         data ntransactions support confidence\n",
       " transactions          8124     0.1        0.8"
      ]
     },
     "metadata": {},
     "output_type": "display_data"
    },
    {
     "name": "stdout",
     "output_type": "stream",
     "text": [
      "[1] \"----------------------\"\n"
     ]
    },
    {
     "data": {
      "text/plain": [
       "set of 2995184 rules\n",
       "\n",
       "rule length distribution (lhs + rhs):sizes\n",
       "     2      3      4      5      6      7      8      9     10     11     12 \n",
       "  1376  11835  52436 147540 297354 460873 568128 560862 440150 270556 127356 \n",
       "    13     14     15     16 \n",
       " 44291  10710   1605    112 \n",
       "\n",
       "   Min. 1st Qu.  Median    Mean 3rd Qu.    Max. \n",
       "  2.000   7.000   8.000   8.429  10.000  16.000 \n",
       "\n",
       "summary of quality measures:\n",
       "    support         confidence          lift           itemset      \n",
       " Min.   :0.1002   Min.   :0.1019   Min.   :0.3794   Min.   :     1  \n",
       " 1st Qu.:0.1064   1st Qu.:0.9818   1st Qu.:1.0849   1st Qu.: 96553  \n",
       " Median :0.1064   Median :1.0000   Median :1.6014   Median :189540  \n",
       " Mean   :0.1253   Mean   :0.9238   Mean   :1.7232   Mean   :188140  \n",
       " 3rd Qu.:0.1182   3rd Qu.:1.0000   3rd Qu.:2.0746   3rd Qu.:280433  \n",
       " Max.   :0.9754   Max.   :1.0000   Max.   :6.8718   Max.   :379492  \n",
       "\n",
       "mining info:\n",
       "         data ntransactions support confidence\n",
       " transactions          8124     0.1          0"
      ]
     },
     "metadata": {},
     "output_type": "display_data"
    },
    {
     "name": "stdout",
     "output_type": "stream",
     "text": [
      "[1] \"----------------------\"\n"
     ]
    }
   ],
   "source": [
    "summary(rApriori)\n",
    "print(\"----------------------\")\n",
    "\n",
    "summary(rEclat)\n",
    "print(\"----------------------\")"
   ]
  },
  {
   "cell_type": "markdown",
   "metadata": {},
   "source": [
    "Dos reglas se dicen redundantes (entre si) cuando aportan la misma información.\n",
    "\n",
    "Más en detalle, dos reglas se consideran redundantes si:\n",
    "- involucran los mismos items, que pero aparecen con distintos roles (antecedente y consecuente);\n",
    "- tienen la misma confianza y el mismo lift.\n",
    "\n",
    "Podemos encontrar las reglas redundantes con el comando *is.redundant* de r."
   ]
  },
  {
   "cell_type": "code",
   "execution_count": 10,
   "metadata": {},
   "outputs": [
    {
     "data": {
      "text/html": [
       "2552650"
      ],
      "text/latex": [
       "2552650"
      ],
      "text/markdown": [
       "2552650"
      ],
      "text/plain": [
       "[1] 2552650"
      ]
     },
     "metadata": {},
     "output_type": "display_data"
    },
    {
     "data": {
      "text/html": [
       "0.996883579431624"
      ],
      "text/latex": [
       "0.996883579431624"
      ],
      "text/markdown": [
       "0.996883579431624"
      ],
      "text/plain": [
       "[1] 0.9968836"
      ]
     },
     "metadata": {},
     "output_type": "display_data"
    },
    {
     "data": {
      "text/html": [
       "7980"
      ],
      "text/latex": [
       "7980"
      ],
      "text/markdown": [
       "7980"
      ],
      "text/plain": [
       "[1] 7980"
      ]
     },
     "metadata": {},
     "output_type": "display_data"
    },
    {
     "data": {
      "text/html": [
       "2977548"
      ],
      "text/latex": [
       "2977548"
      ],
      "text/markdown": [
       "2977548"
      ],
      "text/plain": [
       "[1] 2977548"
      ]
     },
     "metadata": {},
     "output_type": "display_data"
    },
    {
     "data": {
      "text/html": [
       "0.994111880939535"
      ],
      "text/latex": [
       "0.994111880939535"
      ],
      "text/markdown": [
       "0.994111880939535"
      ],
      "text/plain": [
       "[1] 0.9941119"
      ]
     },
     "metadata": {},
     "output_type": "display_data"
    },
    {
     "data": {
      "text/html": [
       "17636"
      ],
      "text/latex": [
       "17636"
      ],
      "text/markdown": [
       "17636"
      ],
      "text/plain": [
       "[1] 17636"
      ]
     },
     "metadata": {},
     "output_type": "display_data"
    }
   ],
   "source": [
    "# Algoritmo apriori\n",
    "indRedundant.apriori <- which(is.redundant(rApriori))\n",
    "length(indRedundant.apriori)\n",
    "length(indRedundant.apriori) / length(rApriori) #2560630\n",
    "length(rApriori) - length(indRedundant.apriori)\n",
    "\n",
    "# Algoritmo eclat\n",
    "indRedundant.eclat <- which(is.redundant(rEclat))\n",
    "length(indRedundant.eclat)\n",
    "length(indRedundant.eclat) / length(rEclat) #2995184\n",
    "length(rEclat) - length(indRedundant.eclat)"
   ]
  },
  {
   "cell_type": "markdown",
   "metadata": {},
   "source": [
    "La casi totalidad de la reglas de asociación resulta ser redundante:\n",
    "- 2552650 de 2560630 (99.7 %) en el caso apriori;\n",
    "- 2977548 de 2995184 (99.4 %) en el caso eclat."
   ]
  },
  {
   "cell_type": "markdown",
   "metadata": {},
   "source": [
    "Podemos quedarnos con la pequeña fracción de reglas no redundantes:\n",
    "- 7980 en el caso apriori;\n",
    "- 17636 en el caso eclat."
   ]
  },
  {
   "cell_type": "code",
   "execution_count": 11,
   "metadata": {},
   "outputs": [
    {
     "data": {
      "text/plain": [
       "set of 7980 rules "
      ]
     },
     "metadata": {},
     "output_type": "display_data"
    },
    {
     "data": {
      "text/plain": [
       "set of 17636 rules "
      ]
     },
     "metadata": {},
     "output_type": "display_data"
    }
   ],
   "source": [
    "rAprioriFiltered <- rApriori[!is.redundant(rApriori)]\n",
    "rAprioriFiltered\n",
    "\n",
    "rEclatFiltered <- rEclat[!is.redundant(rEclat)]\n",
    "rEclatFiltered"
   ]
  },
  {
   "cell_type": "markdown",
   "metadata": {},
   "source": [
    "De esas, las que involucran la variable \"Class=poisonus\", son:\n",
    "- 183 para el metodo apriori como consecuente;\n",
    "- 577 para el metodo apriori como antecedente;\n",
    "- 299 para el metodo eclat como consecuente;\n",
    "- 1297 para el metodo eclat como antecedente;"
   ]
  },
  {
   "cell_type": "code",
   "execution_count": 12,
   "metadata": {},
   "outputs": [
    {
     "data": {
      "text/html": [
       "183"
      ],
      "text/latex": [
       "183"
      ],
      "text/markdown": [
       "183"
      ],
      "text/plain": [
       "[1] 183"
      ]
     },
     "metadata": {},
     "output_type": "display_data"
    }
   ],
   "source": [
    "rhs.poisonous.apriori <- subset(rAprioriFiltered, subset = rhs %in% c(\"Class=poisonous\"))\n",
    "length(subset(rAprioriFiltered, subset = rhs %in% c(\"Class=poisonous\")))"
   ]
  },
  {
   "cell_type": "code",
   "execution_count": 13,
   "metadata": {},
   "outputs": [
    {
     "data": {
      "text/html": [
       "577"
      ],
      "text/latex": [
       "577"
      ],
      "text/markdown": [
       "577"
      ],
      "text/plain": [
       "[1] 577"
      ]
     },
     "metadata": {},
     "output_type": "display_data"
    }
   ],
   "source": [
    "length(subset(rAprioriFiltered, subset = lhs %in% c(\"Class=poisonous\")))"
   ]
  },
  {
   "cell_type": "code",
   "execution_count": 14,
   "metadata": {},
   "outputs": [
    {
     "data": {
      "text/html": [
       "299"
      ],
      "text/latex": [
       "299"
      ],
      "text/markdown": [
       "299"
      ],
      "text/plain": [
       "[1] 299"
      ]
     },
     "metadata": {},
     "output_type": "display_data"
    }
   ],
   "source": [
    "rhs.poisonous.eclat <- subset(rEclatFiltered, subset = rhs %in% c(\"Class=poisonous\"))\n",
    "length(subset(rEclatFiltered, subset = rhs %in% c(\"Class=poisonous\")))"
   ]
  },
  {
   "cell_type": "code",
   "execution_count": 15,
   "metadata": {
    "scrolled": true
   },
   "outputs": [
    {
     "data": {
      "text/html": [
       "1297"
      ],
      "text/latex": [
       "1297"
      ],
      "text/markdown": [
       "1297"
      ],
      "text/plain": [
       "[1] 1297"
      ]
     },
     "metadata": {},
     "output_type": "display_data"
    }
   ],
   "source": [
    "length(subset(rEclatFiltered, subset = lhs %in% c(\"Class=poisonous\")))"
   ]
  },
  {
   "cell_type": "markdown",
   "metadata": {},
   "source": [
    "De esas, las que involucran la variable \"Class=edible\", son:\n",
    "- 353 para el metodo apriori como consecuente;\n",
    "- 1355 para el metodo apriori como antecedente;\n",
    "- 458 para el metodo eclat como consecuente;\n",
    "- 3013 para el metodo eclat como antecedente;"
   ]
  },
  {
   "cell_type": "code",
   "execution_count": 16,
   "metadata": {
    "scrolled": true
   },
   "outputs": [
    {
     "data": {
      "text/html": [
       "353"
      ],
      "text/latex": [
       "353"
      ],
      "text/markdown": [
       "353"
      ],
      "text/plain": [
       "[1] 353"
      ]
     },
     "metadata": {},
     "output_type": "display_data"
    }
   ],
   "source": [
    "rhs.edible.apriori <- subset(rAprioriFiltered, subset = rhs %in% c(\"Class=edible\"))\n",
    "length(subset(rAprioriFiltered, subset = rhs %in% c(\"Class=edible\")))"
   ]
  },
  {
   "cell_type": "code",
   "execution_count": 17,
   "metadata": {},
   "outputs": [
    {
     "data": {
      "text/html": [
       "1355"
      ],
      "text/latex": [
       "1355"
      ],
      "text/markdown": [
       "1355"
      ],
      "text/plain": [
       "[1] 1355"
      ]
     },
     "metadata": {},
     "output_type": "display_data"
    }
   ],
   "source": [
    "length(subset(rAprioriFiltered, subset = lhs %in% c(\"Class=edible\")))"
   ]
  },
  {
   "cell_type": "code",
   "execution_count": 18,
   "metadata": {},
   "outputs": [
    {
     "data": {
      "text/html": [
       "458"
      ],
      "text/latex": [
       "458"
      ],
      "text/markdown": [
       "458"
      ],
      "text/plain": [
       "[1] 458"
      ]
     },
     "metadata": {},
     "output_type": "display_data"
    }
   ],
   "source": [
    "rhs.edible.eclat <- subset(rEclatFiltered, subset = rhs %in% c(\"Class=edible\"))\n",
    "length(subset(rEclatFiltered, subset = rhs %in% c(\"Class=edible\")))"
   ]
  },
  {
   "cell_type": "code",
   "execution_count": 19,
   "metadata": {},
   "outputs": [
    {
     "data": {
      "text/html": [
       "3013"
      ],
      "text/latex": [
       "3013"
      ],
      "text/markdown": [
       "3013"
      ],
      "text/plain": [
       "[1] 3013"
      ]
     },
     "metadata": {},
     "output_type": "display_data"
    }
   ],
   "source": [
    "length(subset(rEclatFiltered, subset = lhs %in% c(\"Class=edible\")))"
   ]
  },
  {
   "cell_type": "markdown",
   "metadata": {},
   "source": [
    "Inspeccionamos ahora más en detalle los subconjuntos de reglas que tengan las dos clases objetivo como consecuente:\n",
    "- Class=edible;\n",
    "- Class=poisonous."
   ]
  },
  {
   "cell_type": "code",
   "execution_count": 20,
   "metadata": {},
   "outputs": [
    {
     "name": "stdout",
     "output_type": "stream",
     "text": [
      "     lhs                      rhs              support confidence     lift count\n",
      "[1]  {GillSize=broad,                                                           \n",
      "      GillColor=brown}     => {Class=edible} 0.1083210          1 1.930608   880\n",
      "[2]  {Odor=none,                                                                \n",
      "      StalkRoot=equal}     => {Class=edible} 0.1063516          1 1.930608   864\n",
      "[3]  {Bruises=no,                                                               \n",
      "      StalkRoot=equal}     => {Class=edible} 0.1063516          1 1.930608   864\n",
      "[4]  {GillSpace=crowded,                                                        \n",
      "      Habitat=grasses}     => {Class=edible} 0.1299852          1 1.930608  1056\n",
      "[5]  {GillSpace=crowded,                                                        \n",
      "      StalkShape=tapering} => {Class=edible} 0.1063516          1 1.930608   864\n",
      "[6]  {GillSpace=crowded,                                                        \n",
      "      GillSize=broad}      => {Class=edible} 0.1299852          1 1.930608  1056\n",
      "[7]  {Bruises=bruises,                                                          \n",
      "      Population=yellow}   => {Class=edible} 0.1201379          1 1.930608   976\n",
      "[8]  {Odor=none,                                                                \n",
      "      Population=yellow}   => {Class=edible} 0.1191531          1 1.930608   968\n",
      "[9]  {RingType=pendant,                                                         \n",
      "      Population=yellow}   => {Class=edible} 0.1280158          1 1.930608  1040\n",
      "[10] {StalkShape=tapering,                                                      \n",
      "      Population=yellow}   => {Class=edible} 0.1063516          1 1.930608   864\n"
     ]
    }
   ],
   "source": [
    "inspect(head(sort(rhs.edible.apriori, by =\"lift\"),10))"
   ]
  },
  {
   "cell_type": "code",
   "execution_count": 21,
   "metadata": {},
   "outputs": [
    {
     "name": "stdout",
     "output_type": "stream",
     "text": [
      "     lhs                         rhs                 support confidence     lift count\n",
      "[1]  {RingType=large}         => {Class=poisonous} 0.1595273          1 2.074566  1296\n",
      "[2]  {GillColor=buff}         => {Class=poisonous} 0.2127031          1 2.074566  1728\n",
      "[3]  {Odor=foul}              => {Class=poisonous} 0.2658789          1 2.074566  2160\n",
      "[4]  {CapColor=red,                                                                   \n",
      "      GillSize=narrow}        => {Class=poisonous} 0.1063516          1 2.074566   864\n",
      "[5]  {CapColor=red,                                                                   \n",
      "      Bruises=no}             => {Class=poisonous} 0.1078287          1 2.074566   876\n",
      "[6]  {SurfaceBelowRing=silky,                                                         \n",
      "      Spore=chocolate}        => {Class=poisonous} 0.1595273          1 2.074566  1296\n",
      "[7]  {SurfaceAboveRing=silky,                                                         \n",
      "      Spore=chocolate}        => {Class=poisonous} 0.1595273          1 2.074566  1296\n",
      "[8]  {StalkRoot=bulbous,                                                              \n",
      "      Spore=chocolate}        => {Class=poisonous} 0.1949778          1 2.074566  1584\n",
      "[9]  {GillSize=broad,                                                                 \n",
      "      Spore=chocolate}        => {Class=poisonous} 0.1949778          1 2.074566  1584\n",
      "[10] {SurfaceBelowRing=silky,                                                         \n",
      "      ColorAboveRing=pink}    => {Class=poisonous} 0.1063516          1 2.074566   864\n"
     ]
    }
   ],
   "source": [
    "inspect(head(sort(rhs.poisonous.apriori, by =\"lift\"),10))"
   ]
  },
  {
   "cell_type": "markdown",
   "metadata": {},
   "source": [
    "Mirando a los plots de confianza, soporte y lift, parece que confianza y lift, en este caso, son correlacionados (alta confianza ~ alto lift).\n",
    "\n",
    "Nos podemos quedar entonces con as reglas de asociación más interesante requierendo que la confianza sea alta. \n",
    "\n",
    "De esta manera, va a ser posible dibujar grafos con flechas que enseñen cuales son las variables más importantes para identificar si una seta es comestible o venenosa, sin que estos sean demasiado cargados de información."
   ]
  },
  {
   "cell_type": "code",
   "execution_count": 22,
   "metadata": {},
   "outputs": [
    {
     "data": {
      "image/png": "[encoded data removed]",
      "text/plain": [
       "plot without title"
      ]
     },
     "metadata": {},
     "output_type": "display_data"
    },
    {
     "data": {
      "image/png": "[encoded data removed]",
      "text/plain": [
       "plot without title"
      ]
     },
     "metadata": {},
     "output_type": "display_data"
    }
   ],
   "source": [
    "par(mfrow=c(1,2)) \n",
    "\n",
    "plot.1 <- plot(rhs.poisonous.apriori, jitter = 0)\n",
    "plot.2 <- plot(rhs.edible.apriori, jitter = 0)"
   ]
  },
  {
   "cell_type": "markdown",
   "metadata": {},
   "source": [
    "Seleccionando solo las reglas con alta confianza y subiendo ligeramente el soporte minimo, logramos obtener las reglas más fiables para distinguir setas:\n",
    "- rojo más fuerte: seta venenosa;\n",
    "- rojo más suave: seta comestible.\n",
    "\n",
    "Se puede observar en el grafo de abajo que las reglas que apuntan a clases distintas, tipicamente no tienen variables en común, como hay que esperar si las reglas son fiables.\n",
    "\n",
    "Además, cuando las mismas variables (e.g. SurfaceAboveRing) aparecen en reglas para seleccionar setas venenosas o comestibles, lo hacen con valores distintos:\n",
    "- SurfaceAboveRing = silky --> venenoso;\n",
    "- SurfaceAboveRing = smooth --> comestible."
   ]
  },
  {
   "cell_type": "code",
   "execution_count": 23,
   "metadata": {},
   "outputs": [
    {
     "data": {
      "image/png": "[encoded data removed]",
      "text/plain": [
       "plot without title"
      ]
     },
     "metadata": {},
     "output_type": "display_data"
    }
   ],
   "source": [
    "rAprioriClasses <- subset(rAprioriFiltered, subset = rhs %in% c(\"Class=edible\") | rhs %in% c(\"Class=poisonous\"))\n",
    "\n",
    "rApriori.high.conf <- subset(rAprioriClasses, subset = confidence > 0.98 & support > 0.2)\n",
    "plot(rApriori.high.conf, method=\"paracoord\")"
   ]
  },
  {
   "cell_type": "markdown",
   "metadata": {
    "button": false,
    "new_sheet": false,
    "run_control": {
     "read_only": false
    }
   },
   "source": [
    "### Punto 2 (4 puntos):\n",
    "\n",
    "En este apartado aplicaremos árboles de clasificación para obtener un modelo que permita clasificar una nueva entrada. Para ello, vamos a utilizaremos el paquete `CaReT`. Este paquete (y los demás que hemos visto para trabajar con árboles en `R`) no aceptan objetos del tipo `transactions` como los del apartado anterior. Por tanto, hemos preparado un fichero *csv* con el dataset *Mushrooms*; puedes descargarlo desde esta aquí:\n",
    "https://github.com/SantanderMetGroup/Master-Data-Science/tree/master/Data_mining/datasets. Lee el dataset con la función `read.csv`.  \n",
    "Ahora ya tenemos un data.frame con el que podemos empezar a trabajar. En primer lugar tendremos que eliminar la columna 17 (`veil.type`), ya que contiene un único nivel y daría errores en `CaReT`(esta columna podría eliminarse también en el caso de las reglas de asociación ya que no aporta información al dataset).  \n",
    "Nuestro objetivo será encontrar la configuración (profundidad) óptima del árbol. Para ello, partiremos el dataset en dos subconjuntos indpendedientes de train y test (75% y 25% del total, respectivamente). Sobre el dataset de train, aplicaremos una cross-validación con 3 folds y la repetiremos 50 veces (recuerda que los árboles son sensibles a la partición train/test que se considere). \n",
    "\n",
    "* ¿Cuál es la configuración óptima del árbol? ¿Hay alguna diferencia entre el árbol *completo* y el óptimo? ¿Por qué crees que ocurre esto?\n",
    "* ¿Cuáles son las dos variables que mayor peso tienen a la hora de clasificar? Entrena un nuevo árbol considerando como predictores únicamente esas dos variables. ¿Qué resultados obtienes? \n",
    "* Entrena un nuevo árbol considerando como predictores cualesquiera otras dos variables que no sean las utilizadas en la pregunta anterior. ¿Cuál es el error de test de este árbol?"
   ]
  },
  {
   "cell_type": "markdown",
   "metadata": {},
   "source": [
    "## Desarrollo Punto 2"
   ]
  },
  {
   "cell_type": "markdown",
   "metadata": {},
   "source": [
    "Cargo la libreria CaReT y el dataset en formato csv."
   ]
  },
  {
   "cell_type": "code",
   "execution_count": 4,
   "metadata": {},
   "outputs": [
    {
     "name": "stdout",
     "output_type": "stream",
     "text": [
      "'data.frame':\t8124 obs. of  22 variables:\n",
      " $ class                   : Factor w/ 2 levels \"e\",\"p\": 2 1 1 2 1 1 1 1 2 1 ...\n",
      " $ cap.shape               : Factor w/ 6 levels \"b\",\"c\",\"f\",\"k\",..: 6 6 1 6 6 6 1 1 6 1 ...\n",
      " $ cap.surface             : Factor w/ 4 levels \"f\",\"g\",\"s\",\"y\": 3 3 3 4 3 4 3 4 4 3 ...\n",
      " $ cap.color               : Factor w/ 10 levels \"b\",\"c\",\"e\",\"g\",..: 5 10 9 9 4 10 9 9 9 10 ...\n",
      " $ bruises                 : Factor w/ 2 levels \"f\",\"t\": 2 2 2 2 1 2 2 2 2 2 ...\n",
      " $ odor                    : Factor w/ 9 levels \"a\",\"c\",\"f\",\"l\",..: 7 1 4 7 6 1 1 4 7 1 ...\n",
      " $ gill.attachment         : Factor w/ 2 levels \"a\",\"f\": 2 2 2 2 2 2 2 2 2 2 ...\n",
      " $ gill.spacing            : Factor w/ 2 levels \"c\",\"w\": 1 1 1 1 2 1 1 1 1 1 ...\n",
      " $ gill.size               : Factor w/ 2 levels \"b\",\"n\": 2 1 1 2 1 1 1 1 2 1 ...\n",
      " $ gill.color              : Factor w/ 12 levels \"b\",\"e\",\"g\",\"h\",..: 5 5 6 6 5 6 3 6 8 3 ...\n",
      " $ stalk.shape             : Factor w/ 2 levels \"e\",\"t\": 1 1 1 1 2 1 1 1 1 1 ...\n",
      " $ stalk.root              : Factor w/ 5 levels \"?\",\"b\",\"c\",\"e\",..: 4 3 3 4 4 3 3 3 4 3 ...\n",
      " $ stalk.surface.above.ring: Factor w/ 4 levels \"f\",\"k\",\"s\",\"y\": 3 3 3 3 3 3 3 3 3 3 ...\n",
      " $ stalk.surface.below.ring: Factor w/ 4 levels \"f\",\"k\",\"s\",\"y\": 3 3 3 3 3 3 3 3 3 3 ...\n",
      " $ stalk.color.above.ring  : Factor w/ 9 levels \"b\",\"c\",\"e\",\"g\",..: 8 8 8 8 8 8 8 8 8 8 ...\n",
      " $ stalk.color.below.ring  : Factor w/ 9 levels \"b\",\"c\",\"e\",\"g\",..: 8 8 8 8 8 8 8 8 8 8 ...\n",
      " $ veil.color              : Factor w/ 4 levels \"n\",\"o\",\"w\",\"y\": 3 3 3 3 3 3 3 3 3 3 ...\n",
      " $ ring.number             : Factor w/ 3 levels \"n\",\"o\",\"t\": 2 2 2 2 2 2 2 2 2 2 ...\n",
      " $ ring.type               : Factor w/ 5 levels \"e\",\"f\",\"l\",\"n\",..: 5 5 5 5 1 5 5 5 5 5 ...\n",
      " $ spore.print.color       : Factor w/ 9 levels \"b\",\"h\",\"k\",\"n\",..: 3 4 4 3 4 3 3 4 3 3 ...\n",
      " $ population              : Factor w/ 6 levels \"a\",\"c\",\"n\",\"s\",..: 4 3 3 4 1 3 3 4 5 4 ...\n",
      " $ habitat                 : Factor w/ 7 levels \"d\",\"g\",\"l\",\"m\",..: 6 2 4 6 2 2 4 4 2 4 ...\n"
     ]
    },
    {
     "data": {
      "text/html": [
       "8124"
      ],
      "text/latex": [
       "8124"
      ],
      "text/markdown": [
       "8124"
      ],
      "text/plain": [
       "[1] 8124"
      ]
     },
     "metadata": {},
     "output_type": "display_data"
    }
   ],
   "source": [
    "library(caret)\n",
    "\n",
    "mushrooms <- read.csv(\"mushrooms.csv\")\n",
    "\n",
    "# Elimino la columna 17 (veil.type)\n",
    "mushrooms <- mushrooms[,-17]\n",
    "str(mushrooms)\n",
    "\n",
    "nrow(mushrooms)"
   ]
  },
  {
   "cell_type": "markdown",
   "metadata": {},
   "source": [
    "Separo el dataset en dos partes:\n",
    "- Train (75%);\n",
    "- Test (25%)."
   ]
  },
  {
   "cell_type": "code",
   "execution_count": 5,
   "metadata": {},
   "outputs": [
    {
     "data": {
      "text/html": [
       "8124"
      ],
      "text/latex": [
       "8124"
      ],
      "text/markdown": [
       "8124"
      ],
      "text/plain": [
       "[1] 8124"
      ]
     },
     "metadata": {},
     "output_type": "display_data"
    },
    {
     "data": {
      "text/html": [
       "6093"
      ],
      "text/latex": [
       "6093"
      ],
      "text/markdown": [
       "6093"
      ],
      "text/plain": [
       "[1] 6093"
      ]
     },
     "metadata": {},
     "output_type": "display_data"
    },
    {
     "data": {
      "text/html": [
       "2031"
      ],
      "text/latex": [
       "2031"
      ],
      "text/markdown": [
       "2031"
      ],
      "text/plain": [
       "[1] 2031"
      ]
     },
     "metadata": {},
     "output_type": "display_data"
    }
   ],
   "source": [
    "n = nrow(mushrooms)\n",
    "n\n",
    "\n",
    "indtrain = sample(1:n, 0.75*n)\n",
    "\n",
    "mushrooms.train = mushrooms[indtrain, ]\n",
    "mushrooms.test = mushrooms[-indtrain, ]\n",
    "\n",
    "nrow(mushrooms.train)\n",
    "nrow(mushrooms.test)"
   ]
  },
  {
   "cell_type": "markdown",
   "metadata": {},
   "source": [
    "Preparo el entrenamiento con validación cruzada:\n",
    "- la muestra de entrenamiento se separa en 3 sub-muestras utilizadas para una validación 3-fold;\n",
    "- la validación 3-fold se ejecuta 50 veces, extrayendo cada vez 3 sub-muestras distintas;\n",
    "- se deja variar la profundidad del arbol entre 1 y 15, para encontrar la configuración optima.\n",
    "\n",
    "Los resultados enseñan que a partir de una profundidad de 6, la *accuracy* del arbol no mejora, llegando a saturar a $\\sim$ 0.98.\n",
    "\n",
    "Se nota además que la accuracy medida en la muestra de entrenamiento y la medida en la muestra de test tienen valores muy parecidos."
   ]
  },
  {
   "cell_type": "code",
   "execution_count": 18,
   "metadata": {},
   "outputs": [
    {
     "name": "stdout",
     "output_type": "stream",
     "text": [
      "note: only 11 possible values of the max tree depth from the initial fit.\n",
      " Truncating the grid to 11 .\n",
      "\n"
     ]
    },
    {
     "data": {
      "image/png": "[encoded data removed]",
      "text/plain": [
       "plot without title"
      ]
     },
     "metadata": {},
     "output_type": "display_data"
    }
   ],
   "source": [
    "trainCV <- trainControl(method = \"repeatedcv\",\n",
    "                        ## 3-fold CV\n",
    "                        number = 3,\n",
    "                        ## repeated 50 times\n",
    "                        repeats = 50)\n",
    "\n",
    "my.train <- train(class ~ ., data = mushrooms.train, \n",
    "                 method = \"rpart2\", \n",
    "                 trControl = trainCV,\n",
    "                 # test tree depth in 1:15\n",
    "                 tuneLength = 15)\n",
    "\n",
    "\n",
    "plot(my.train)"
   ]
  },
  {
   "cell_type": "code",
   "execution_count": 19,
   "metadata": {},
   "outputs": [
    {
     "name": "stdout",
     "output_type": "stream",
     "text": [
      "[1] \"Accuracy medida en la muestra de entrenamiento:\"\n"
     ]
    },
    {
     "data": {
      "text/html": [
       "0,984900705727884"
      ],
      "text/latex": [
       "0,984900705727884"
      ],
      "text/markdown": [
       "0,984900705727884"
      ],
      "text/plain": [
       "[1] 0,9849007"
      ]
     },
     "metadata": {},
     "output_type": "display_data"
    },
    {
     "name": "stdout",
     "output_type": "stream",
     "text": [
      "[1] \"Accuracy medida en la muestra de test:\"\n"
     ]
    },
    {
     "data": {
      "text/html": [
       "0,980305268340719"
      ],
      "text/latex": [
       "0,980305268340719"
      ],
      "text/markdown": [
       "0,980305268340719"
      ],
      "text/plain": [
       "[1] 0,9803053"
      ]
     },
     "metadata": {},
     "output_type": "display_data"
    }
   ],
   "source": [
    "pred.train = predict(my.train, newdata = mushrooms.train)\n",
    "print(\"Accuracy medida en la muestra de entrenamiento:\")\n",
    "sum(diag(table(pred.train, mushrooms.train$class))) / dim(mushrooms.train)[1]\n",
    "\n",
    "pred = predict(my.train, newdata = mushrooms.test)\n",
    "print(\"Accuracy medida en la muestra de test:\")\n",
    "sum(diag(table(pred, mushrooms.test$class))) / dim(mushrooms.test)[1]"
   ]
  },
  {
   "cell_type": "markdown",
   "metadata": {},
   "source": [
    "Entreno un arbol sin poner limites a su profundidad.\n",
    "\n",
    "En los dos casos considerados (entrenando con *rpart* y con *tree*) parece evidente que las variables principales para discriminar son:\n",
    "- odor;\n",
    "- spore.print.color.\n",
    "\n",
    "En este caso particular, dejar crecer el arbol parece no tener un efecto significativo sobre su generalización.\n",
    "Un particular, se observa que la *accuracy*, tanto cuando se mide en la muestra de entrenamiento, cuanto en la muestra de test, sigue dando valores muy altos ($\\sim$ 99%).\n",
    "\n",
    "Esto parece ser debido al hecho que las dos variables principales son capaces de distinguir de manera muy efectiva entre las dos categorias de setas (comestible y venenosa), como se observa en las representaciones gráficas de los arboles (tanto en el que se ha entrenado usando *tree* como en el que se ha entrenado usando *rpart*).\n",
    "\n",
    "Dicho de otra forma, las reglas para distinguir setas comestible y setas venenosas se basan en dos variables: añadiendo más información los resultados cambian muy poco, y esto nos \"protege\" del sobreajuste."
   ]
  },
  {
   "cell_type": "code",
   "execution_count": 13,
   "metadata": {},
   "outputs": [
    {
     "name": "stdout",
     "output_type": "stream",
     "text": [
      "[1] \"Accuracy medida en la muestra de entrenamiento:\"\n"
     ]
    },
    {
     "data": {
      "text/html": [
       "0,994255703266043"
      ],
      "text/latex": [
       "0,994255703266043"
      ],
      "text/markdown": [
       "0,994255703266043"
      ],
      "text/plain": [
       "[1] 0,9942557"
      ]
     },
     "metadata": {},
     "output_type": "display_data"
    },
    {
     "name": "stdout",
     "output_type": "stream",
     "text": [
      "[1] \"Accuracy medida en la muestra de test:\"\n"
     ]
    },
    {
     "data": {
      "text/html": [
       "0,993599212210734"
      ],
      "text/latex": [
       "0,993599212210734"
      ],
      "text/markdown": [
       "0,993599212210734"
      ],
      "text/plain": [
       "[1] 0,9935992"
      ]
     },
     "metadata": {},
     "output_type": "display_data"
    },
    {
     "data": {
      "image/png": "[encoded data removed]",
      "text/plain": [
       "plot without title"
      ]
     },
     "metadata": {},
     "output_type": "display_data"
    }
   ],
   "source": [
    "library(ISLR)\n",
    "library(rpart)\n",
    "library(rpart.plot)\n",
    "\n",
    "t.rpart = rpart(formula = class ~ ., data = mushrooms.train, maxdepth = 10)\n",
    "rpart.plot(t.rpart)\n",
    "\n",
    "pred.rpart.train = predict(t.rpart,  newdata = mushrooms.train, type = \"class\")\n",
    "print(\"Accuracy medida en la muestra de entrenamiento:\")\n",
    "sum(diag(table(pred.rpart.train, mushrooms.train$class))) / dim(mushrooms.train)[1]\n",
    "\n",
    "pred.rpart.test = predict(t.rpart,  newdata = mushrooms.test, type = \"class\")\n",
    "print(\"Accuracy medida en la muestra de test:\")\n",
    "sum(diag(table(pred.rpart.test, mushrooms.test$class))) / dim(mushrooms.test)[1]"
   ]
  },
  {
   "cell_type": "code",
   "execution_count": 17,
   "metadata": {},
   "outputs": [
    {
     "name": "stdout",
     "output_type": "stream",
     "text": [
      "[1] \"Accuracy medida en la muestra de entrenamiento:\"\n"
     ]
    },
    {
     "data": {
      "text/html": [
       "0,998687017889381"
      ],
      "text/latex": [
       "0,998687017889381"
      ],
      "text/markdown": [
       "0,998687017889381"
      ],
      "text/plain": [
       "[1] 0,998687"
      ]
     },
     "metadata": {},
     "output_type": "display_data"
    },
    {
     "name": "stdout",
     "output_type": "stream",
     "text": [
      "[1] \"Accuracy medida en la muestra de test:\"\n"
     ]
    },
    {
     "data": {
      "text/html": [
       "1"
      ],
      "text/latex": [
       "1"
      ],
      "text/markdown": [
       "1"
      ],
      "text/plain": [
       "[1] 1"
      ]
     },
     "metadata": {},
     "output_type": "display_data"
    },
    {
     "data": {
      "image/png": "[encoded data removed]",
      "text/plain": [
       "plot without title"
      ]
     },
     "metadata": {},
     "output_type": "display_data"
    }
   ],
   "source": [
    "library(tree)\n",
    "\n",
    "t.tree = tree(formula = class~.,data = mushrooms.train, minsize = 1)\n",
    "plot(t.tree)\n",
    "text(t.tree, pretty = F)\n",
    "\n",
    "pred.tree.train = predict(t.tree,  newdata = mushrooms.train, type = \"class\")\n",
    "print(\"Accuracy medida en la muestra de entrenamiento:\")\n",
    "sum(diag(table(pred.tree.train, mushrooms.train$class))) / dim(mushrooms.train)[1]\n",
    "\n",
    "pred.tree.test = predict(t.tree,  newdata = mushrooms.test, type = \"class\")\n",
    "print(\"Accuracy medida en la muestra de test:\")\n",
    "sum(diag(table(pred.tree.test, mushrooms.test$class))) / dim(mushrooms.test)[1]"
   ]
  },
  {
   "cell_type": "markdown",
   "metadata": {},
   "source": [
    "Cuanto dicho se confirma aún más cuando los arboles se entrenan usando exclusivamente las dos variables con más poder de discriminación:\n",
    "- odor;\n",
    "- spore.print.color.\n",
    "\n",
    "Se observa que quitar todas las demás variables tiene un efecto despreciable sobre el resultado final:\n",
    "- la accuracy sigue siendo muy próxima a 1;\n",
    "- no se observa sobreajuste (o, en otras palabras, una diferencia en la accuracy en la muestra de test y en la muestra de entrenamiento)."
   ]
  },
  {
   "cell_type": "code",
   "execution_count": 132,
   "metadata": {},
   "outputs": [
    {
     "data": {
      "text/html": [
       "0.99261447562777"
      ],
      "text/latex": [
       "0.99261447562777"
      ],
      "text/markdown": [
       "0.99261447562777"
      ],
      "text/plain": [
       "[1] 0.9926145"
      ]
     },
     "metadata": {},
     "output_type": "display_data"
    },
    {
     "data": {
      "text/html": [
       "0.994583948793698"
      ],
      "text/latex": [
       "0.994583948793698"
      ],
      "text/markdown": [
       "0.994583948793698"
      ],
      "text/plain": [
       "[1] 0.9945839"
      ]
     },
     "metadata": {},
     "output_type": "display_data"
    },
    {
     "data": {
      "image/png": "[encoded data removed]",
      "text/plain": [
       "plot without title"
      ]
     },
     "metadata": {},
     "output_type": "display_data"
    }
   ],
   "source": [
    "t.rpart.2.var <- rpart(formula = class ~ odor + spore.print.color, data = mushrooms.train, minsplit = 1, minbucket = 1 )\n",
    "rpart.plot(t.rpart.2.var)\n",
    "\n",
    "pred.rpart.2.var.test = predict(t.rpart.2.var,  newdata = mushrooms.test, type = \"class\")\n",
    "print(\"Accuracy medida en la muestra de test:\")\n",
    "sum(diag(table(pred.rpart.2.var.test, mushrooms.test$class))) / dim(mushrooms.test)[1]\n",
    "\n",
    "pred.rpart.2.var.train = predict(t.rpart.2.var,  newdata = mushrooms.train, type = \"class\")\n",
    "print(\"Accuracy medida en la muestra de entrenamiento:\")\n",
    "sum(diag(table(pred.rpart.2.var.train, mushrooms.train$class))) / dim(mushrooms.train)[1]"
   ]
  },
  {
   "cell_type": "code",
   "execution_count": 26,
   "metadata": {},
   "outputs": [
    {
     "name": "stdout",
     "output_type": "stream",
     "text": [
      "[1] \"Accuracy medida en la muestra de test:\"\n"
     ]
    },
    {
     "data": {
      "text/html": [
       "0,993599212210734"
      ],
      "text/latex": [
       "0,993599212210734"
      ],
      "text/markdown": [
       "0,993599212210734"
      ],
      "text/plain": [
       "[1] 0,9935992"
      ]
     },
     "metadata": {},
     "output_type": "display_data"
    },
    {
     "name": "stdout",
     "output_type": "stream",
     "text": [
      "[1] \"Accuracy medida en la muestra de entrenamiento:\"\n"
     ]
    },
    {
     "data": {
      "text/html": [
       "0,994255703266043"
      ],
      "text/latex": [
       "0,994255703266043"
      ],
      "text/markdown": [
       "0,994255703266043"
      ],
      "text/plain": [
       "[1] 0,9942557"
      ]
     },
     "metadata": {},
     "output_type": "display_data"
    },
    {
     "data": {
      "image/png": "[encoded data removed]",
      "text/plain": [
       "plot without title"
      ]
     },
     "metadata": {},
     "output_type": "display_data"
    }
   ],
   "source": [
    "t.tree.2.var = tree(formula = class~ odor + spore.print.color,data = mushrooms.train, minsize = 1)\n",
    "plot(t.tree.2.var)\n",
    "text(t.tree.2.var, pretty = F)\n",
    "\n",
    "pred.tree.2.var.test = predict(t.tree.2.var,  newdata = mushrooms.test, type = \"class\")\n",
    "print(\"Accuracy medida en la muestra de test:\")\n",
    "sum(diag(table(pred.tree.2.var.test, mushrooms.test$class))) / dim(mushrooms.test)[1]\n",
    "\n",
    "pred.tree.2.var.train = predict(t.tree.2.var,  newdata = mushrooms.train, type = \"class\")\n",
    "print(\"Accuracy medida en la muestra de entrenamiento:\")\n",
    "sum(diag(table(pred.tree.2.var.train, mushrooms.train$class))) / dim(mushrooms.train)[1]"
   ]
  },
  {
   "cell_type": "markdown",
   "metadata": {},
   "source": [
    "Las cosas cambian si intentamos quitar las dos variables principales del entrenamiento, obligando los arboles a intentar separar las dos categorias con otras caracteristicas de las setas. En este caso:\n",
    "- gill.size;\n",
    "- bruises.\n",
    "\n",
    "Se observa como la accuracy baje hacia $\\sim$ 75%, basicamente haciendo que sea mucho más peligroso comer una seta clasificada como comestible.\n",
    "\n",
    "Esto se refleja en la matriz de confusión, que presenta ahora terminos fuera de la diagonal de tamaño comparable al de los elementos de la diagonal. En particular, estos elementos de la matriz de confusión representan las setas mal clasificadas:\n",
    "- setas edibles clasificadas como venenosas (estamos tirando setas que podriamos comer);\n",
    "- setas venenosas clasificadas como comestibles (estamos comiendo setas venenosas!).\n",
    "\n",
    "Como última observación, seguimos viendo que no hay problemas de sobreajuste, ya que usando solo dos variables para el entrenamiento de los arboles, pueden crecer hasta una profundidad pequeña, y por lo tanto no hay un aprendizaje excesivo de la muestra de entrenamiento."
   ]
  },
  {
   "cell_type": "code",
   "execution_count": 24,
   "metadata": {},
   "outputs": [
    {
     "name": "stdout",
     "output_type": "stream",
     "text": [
      "[1] \"Accuracy medida en la muestra de entrenamiento:\"\n"
     ]
    },
    {
     "data": {
      "text/html": [
       "0,766945675365173"
      ],
      "text/latex": [
       "0,766945675365173"
      ],
      "text/markdown": [
       "0,766945675365173"
      ],
      "text/plain": [
       "[1] 0,7669457"
      ]
     },
     "metadata": {},
     "output_type": "display_data"
    },
    {
     "name": "stdout",
     "output_type": "stream",
     "text": [
      "[1] \"Accuracy medida en la muestra de test:\"\n"
     ]
    },
    {
     "data": {
      "text/html": [
       "0,757754800590842"
      ],
      "text/latex": [
       "0,757754800590842"
      ],
      "text/markdown": [
       "0,757754800590842"
      ],
      "text/plain": [
       "[1] 0,7577548"
      ]
     },
     "metadata": {},
     "output_type": "display_data"
    },
    {
     "data": {
      "text/plain": [
       "                            \n",
       "pred.rpart.2.other.var.train    e    p\n",
       "                           e 1969  271\n",
       "                           p 1149 2704"
      ]
     },
     "metadata": {},
     "output_type": "display_data"
    },
    {
     "data": {
      "image/png": "[encoded data removed]",
      "text/plain": [
       "plot without title"
      ]
     },
     "metadata": {},
     "output_type": "display_data"
    }
   ],
   "source": [
    "t.rpart.2.other.var <- rpart(formula = class ~ gill.size + bruises, data = mushrooms.train, minsplit = 1, minbucket = 1 )\n",
    "rpart.plot(t.rpart.2.other.var)\n",
    "\n",
    "pred.rpart.2.other.var.train = predict(t.rpart.2.other.var,  newdata = mushrooms.train, type = \"class\")\n",
    "print(\"Accuracy medida en la muestra de entrenamiento:\")\n",
    "sum(diag(table(pred.rpart.2.other.var.train, mushrooms.train$class))) / dim(mushrooms.train)[1]\n",
    "\n",
    "pred.rpart.2.other.var.test = predict(t.rpart.2.other.var,  newdata = mushrooms.test, type = \"class\")\n",
    "print(\"Accuracy medida en la muestra de test:\")\n",
    "sum(diag(table(pred.rpart.2.other.var.test, mushrooms.test$class))) / dim(mushrooms.test)[1]\n",
    "\n",
    "table(pred.rpart.2.other.var.train, mushrooms.train$class)"
   ]
  },
  {
   "cell_type": "code",
   "execution_count": 27,
   "metadata": {},
   "outputs": [
    {
     "name": "stdout",
     "output_type": "stream",
     "text": [
      "[1] \"Accuracy medida en la muestra de entrenamiento:\"\n"
     ]
    },
    {
     "data": {
      "text/html": [
       "0,766945675365173"
      ],
      "text/latex": [
       "0,766945675365173"
      ],
      "text/markdown": [
       "0,766945675365173"
      ],
      "text/plain": [
       "[1] 0,7669457"
      ]
     },
     "metadata": {},
     "output_type": "display_data"
    },
    {
     "name": "stdout",
     "output_type": "stream",
     "text": [
      "[1] \"Accuracy medida en la muestra de test:\"\n"
     ]
    },
    {
     "data": {
      "text/html": [
       "0,757754800590842"
      ],
      "text/latex": [
       "0,757754800590842"
      ],
      "text/markdown": [
       "0,757754800590842"
      ],
      "text/plain": [
       "[1] 0,7577548"
      ]
     },
     "metadata": {},
     "output_type": "display_data"
    },
    {
     "data": {
      "text/plain": [
       "                           \n",
       "pred.tree.2.other.var.train    e    p\n",
       "                          e 1969  271\n",
       "                          p 1149 2704"
      ]
     },
     "metadata": {},
     "output_type": "display_data"
    },
    {
     "data": {
      "image/png": "[encoded data removed]",
      "text/plain": [
       "plot without title"
      ]
     },
     "metadata": {},
     "output_type": "display_data"
    }
   ],
   "source": [
    "t.tree.2.other.var = tree(formula = class~ gill.size + bruises, data = mushrooms.train, minsize = 1)\n",
    "plot(t.tree.2.other.var)\n",
    "text(t.tree.2.other.var, pretty = F)\n",
    "\n",
    "pred.tree.2.other.var.train = predict(t.tree.2.other.var,  newdata = mushrooms.train, type = \"class\")\n",
    "print(\"Accuracy medida en la muestra de entrenamiento:\")\n",
    "sum(diag(table(pred.tree.2.other.var.train, mushrooms.train$class))) / dim(mushrooms.train)[1]\n",
    "\n",
    "pred.tree.2.other.var.test = predict(t.tree.2.other.var,  newdata = mushrooms.test, type = \"class\")\n",
    "print(\"Accuracy medida en la muestra de test:\")\n",
    "sum(diag(table(pred.tree.2.other.var.test, mushrooms.test$class))) / dim(mushrooms.test)[1]\n",
    "\n",
    "table(pred.tree.2.other.var.train, mushrooms.train$class)"
   ]
  },
  {
   "cell_type": "markdown",
   "metadata": {
    "button": false,
    "new_sheet": false,
    "run_control": {
     "read_only": false
    }
   },
   "source": [
    "### Punto 3 (3 puntos):\n",
    "\n",
    "Por un lado, las ramas del árbol pueden ser interpretadas como reglas de forma similar a las obtenidas por el algoritmo de reglas aplicado. Por ejemplo, en el caso del árbol obtenido con el dataset `Play Tennis` puede obtenerse las siguientes `reglas`: SI Outlook = Overcast -> Play Tennis = Yes ó SI (Outlook = Sunny) AND (Humidity = Normal) -> Play Tennis = Yes, cuya confianza asociada viene dada por la frecuencia relativa de cada caso en esa rama del árbol. Por otro lado, considerando las reglas que implican a nuestra variable objetivo tendríamos un `modelo` similar al dado por el árbol. Considerar y comparar ambas aproximaciones (p.e. ¿coinciden los antecedentes de las reglas? ¿alguna de las variables más frecuentes como antecedente en las reglas se corresponde con alguna de las variables con mayor capacidad de discriminación? etc.). "
   ]
  },
  {
   "cell_type": "code",
   "execution_count": null,
   "metadata": {},
   "outputs": [],
   "source": []
  }
 ],
 "metadata": {
  "kernelspec": {
   "display_name": "R",
   "language": "R",
   "name": "ir"
  },
  "language_info": {
   "codemirror_mode": "r",
   "file_extension": ".r",
   "mimetype": "text/x-r-source",
   "name": "R",
   "pygments_lexer": "r",
   "version": "3.6.1"
  }
 },
 "nbformat": 4,
 "nbformat_minor": 2
}
