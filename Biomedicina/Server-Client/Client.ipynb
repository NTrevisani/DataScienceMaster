{
 "cells": [
  {
   "cell_type": "markdown",
   "metadata": {},
   "source": [
    "## Client"
   ]
  },
  {
   "cell_type": "markdown",
   "metadata": {},
   "source": [
    "Intento conectarme al servidor que he creado en el otro notebook"
   ]
  },
  {
   "cell_type": "code",
   "execution_count": 29,
   "metadata": {},
   "outputs": [],
   "source": [
    "from pynetdicom import AE\n",
    "from pynetdicom.sop_class import VerificationSOPClass\n",
    "\n",
    "# Initialise the Application Entity\n",
    "ae = AE()\n",
    "\n",
    "# Add a requested presentation context\n",
    "ae.add_requested_context(VerificationSOPClass)\n",
    "\n",
    "#assoc = ae.associate('http://localhost:11112/', 11112)\n",
    "assoc = ae.associate('127.0.0.1', 11112)"
   ]
  },
  {
   "cell_type": "code",
   "execution_count": 30,
   "metadata": {},
   "outputs": [
    {
     "data": {
      "text/plain": [
       "<Association(RequestorThread@20200417104551, started daemon 140598618674944)>"
      ]
     },
     "execution_count": 30,
     "metadata": {},
     "output_type": "execute_result"
    }
   ],
   "source": [
    "assoc"
   ]
  },
  {
   "cell_type": "code",
   "execution_count": 31,
   "metadata": {},
   "outputs": [
    {
     "name": "stdout",
     "output_type": "stream",
     "text": [
      "C-ECHO request status: 0x0000\n"
     ]
    }
   ],
   "source": [
    "if assoc.is_established:\n",
    "    # Use the C-ECHO service to send the request\n",
    "    # returns the response status a pydicom Dataset\n",
    "    status = assoc.send_c_echo()\n",
    "\n",
    "    # Check the status of the verification request\n",
    "    if status:\n",
    "        # If the verification request succeeded this will be 0x0000\n",
    "        print('C-ECHO request status: 0x{0:04x}'.format(status.Status))\n",
    "    else:\n",
    "        print('Connection timed out, was aborted or received invalid response')\n",
    "\n",
    "    # Release the association\n",
    "    assoc.release()\n",
    "else:\n",
    "    print('Association rejected, aborted or never connected')"
   ]
  }
 ],
 "metadata": {
  "kernelspec": {
   "display_name": "Python 3",
   "language": "python",
   "name": "python3"
  },
  "language_info": {
   "codemirror_mode": {
    "name": "ipython",
    "version": 3
   },
   "file_extension": ".py",
   "mimetype": "text/x-python",
   "name": "python",
   "nbconvert_exporter": "python",
   "pygments_lexer": "ipython3",
   "version": "3.7.4"
  }
 },
 "nbformat": 4,
 "nbformat_minor": 4
}
