{
 "cells": [
  {
   "cell_type": "markdown",
   "metadata": {},
   "source": [
    "# Práctica Individual Datalab Biomedicina\n",
    "\n",
    "## Ejercicio 3: \n",
    "\n",
    "#### Identificar los genes que muestran expresión diferencial en células de cáncer de pulmón al inactivar el gen ARID2. \n",
    "#### Para ello se han realizado 4 réplicas biológicas de las células modificadas (ARID2_1:4) y 4 réplicas biológicas de células control. \n",
    "#### Se aportan los datos de las secuencias alineadas en formato BAM."
   ]
  },
  {
   "cell_type": "markdown",
   "metadata": {},
   "source": [
    "# Desarrollo\n",
    "\n",
    "En esta práctica, queremos saber qué efecto tiene la inactivación del gen ARID2 en celulas de cancer de pulmón.\n",
    "\n",
    "En particular, queremos saber como esto afecta la producción de determinadas proteinas. Para eso, vamos a recolectar los fragmentos de RNA producido por celulas del cáncer y por celulas de control.\n",
    "\n",
    "Sucesivamente, a través de la reacción de la transcriptasa reversa, los fragmentos se replican en sus correspondientes fragmentos de DNA, para que se pueda identificar a qué gen corresponden (haciendo una comparación con un genoma de referencia) y se contan.\n",
    "\n",
    "El efecto de la inactivación del gen ARID2 se refleja en diferencias estadisticamente significativas en la producción de fragmentos de RNA correspondientes a unos cuantos genes entre células *inactivadas* y células de control, que es lo que queremos descubrir. "
   ]
  },
  {
   "cell_type": "markdown",
   "metadata": {},
   "source": [
    "## 1. Generación de lecturas crudas\n",
    "\n",
    "Al tener ya ficheros de secuencias de DNA en formato binario (.bam), nuestro primer paso consiste en contar cuantos de los fragmentos que hemos producido corresponden a un determinado gen.\n",
    "\n",
    "Para eso, hacemos una comparación con un genoma de referencia, que usamos para identificar a qué gen corresponde cada uno de los fragmentos de DNA.\n",
    "\n",
    "La comparación se hace tanto para células del tumor cuyo gen ARID2 ha sido inactivado, como para células de control.\n",
    "\n",
    "Como hemos visto, la principal fuente de incertidumbre en las medidas de expresión diferencial es la varibilidad en la tasa de trancripción de DNA a partir de RNA en la reacción de la transcriptasa reversa. Para ser menos sensibles a este efecto, usamos cuatro distintas muestras por cada tipo de celulas, de manera que la tasa de transcripción global que observamos sea un promedio de las tasas individuales y sea más uniforme.\n",
    "\n",
    "Para ejecutar este paso, usamos el paquete HTSeq, a través del siguiente comando:\n",
    "\n",
    "    python -m HTSeq.scripts.count -s no -f bam Archivo.bam Genes.gtf > Archivo.counts"
   ]
  },
  {
   "cell_type": "code",
   "execution_count": 9,
   "metadata": {},
   "outputs": [
    {
     "data": {
      "text/html": [],
      "text/latex": [],
      "text/markdown": [],
      "text/plain": [
       "character(0)"
      ]
     },
     "metadata": {},
     "output_type": "display_data"
    }
   ],
   "source": [
    "# Uso esta sintaxis porque con \"!\" no me funciona\n",
    "\n",
    "# Primer archivo de celulas tumorales\n",
    "system(\"python -m HTSeq.scripts.count -s no -f bam ARID2_1.filtered.bam Reduced_genes.gtf > ARID2_1.counts\", \n",
    "       intern=TRUE)"
   ]
  },
  {
   "cell_type": "code",
   "execution_count": 11,
   "metadata": {},
   "outputs": [
    {
     "data": {
      "text/html": [],
      "text/latex": [],
      "text/markdown": [],
      "text/plain": [
       "character(0)"
      ]
     },
     "metadata": {},
     "output_type": "display_data"
    }
   ],
   "source": [
    "# Segundo archivo de celulas tumorales\n",
    "system(\"python -m HTSeq.scripts.count -s no -f bam ARID2_2.filtered.bam Reduced_genes.gtf > ARID2_2.counts\", \n",
    "       intern=TRUE)"
   ]
  },
  {
   "cell_type": "code",
   "execution_count": 12,
   "metadata": {},
   "outputs": [
    {
     "data": {
      "text/html": [],
      "text/latex": [],
      "text/markdown": [],
      "text/plain": [
       "character(0)"
      ]
     },
     "metadata": {},
     "output_type": "display_data"
    }
   ],
   "source": [
    "# Tercer archivo de celulas tumorales\n",
    "system(\"python -m HTSeq.scripts.count -s no -f bam ARID2_3.filtered.bam Reduced_genes.gtf > ARID2_3.counts\", \n",
    "       intern=TRUE)"
   ]
  },
  {
   "cell_type": "code",
   "execution_count": 13,
   "metadata": {},
   "outputs": [
    {
     "data": {
      "text/html": [],
      "text/latex": [],
      "text/markdown": [],
      "text/plain": [
       "character(0)"
      ]
     },
     "metadata": {},
     "output_type": "display_data"
    }
   ],
   "source": [
    "# Cuarto archivo de celulas tumorales\n",
    "system(\"python -m HTSeq.scripts.count -s no -f bam ARID2_4.filtered.bam Reduced_genes.gtf > ARID2_4.counts\", \n",
    "       intern=TRUE)"
   ]
  },
  {
   "cell_type": "code",
   "execution_count": 14,
   "metadata": {},
   "outputs": [
    {
     "data": {
      "text/html": [],
      "text/latex": [],
      "text/markdown": [],
      "text/plain": [
       "character(0)"
      ]
     },
     "metadata": {},
     "output_type": "display_data"
    }
   ],
   "source": [
    "# Primer archivo de celulas de tejido sano de control\n",
    "system(\"python -m HTSeq.scripts.count -s no -f bam Control_1.filtered.bam Reduced_genes.gtf > Control_1.counts\", \n",
    "       intern=TRUE)"
   ]
  },
  {
   "cell_type": "code",
   "execution_count": 15,
   "metadata": {},
   "outputs": [
    {
     "data": {
      "text/html": [],
      "text/latex": [],
      "text/markdown": [],
      "text/plain": [
       "character(0)"
      ]
     },
     "metadata": {},
     "output_type": "display_data"
    }
   ],
   "source": [
    "# Segundo archivo de celulas de tejido sano de control\n",
    "system(\"python -m HTSeq.scripts.count -s no -f bam Control_2.filtered.bam Reduced_genes.gtf > Control_2.counts\", \n",
    "       intern=TRUE)"
   ]
  },
  {
   "cell_type": "code",
   "execution_count": 16,
   "metadata": {},
   "outputs": [
    {
     "data": {
      "text/html": [],
      "text/latex": [],
      "text/markdown": [],
      "text/plain": [
       "character(0)"
      ]
     },
     "metadata": {},
     "output_type": "display_data"
    }
   ],
   "source": [
    "# Tercer archivo de celulas de tejido sano de control\n",
    "system(\"python -m HTSeq.scripts.count -s no -f bam Control_3.filtered.bam Reduced_genes.gtf > Control_3.counts\", \n",
    "       intern=TRUE)"
   ]
  },
  {
   "cell_type": "code",
   "execution_count": 17,
   "metadata": {},
   "outputs": [
    {
     "data": {
      "text/html": [],
      "text/latex": [],
      "text/markdown": [],
      "text/plain": [
       "character(0)"
      ]
     },
     "metadata": {},
     "output_type": "display_data"
    }
   ],
   "source": [
    "# Cuarto archivo de celulas de tejido sano de control\n",
    "system(\"python -m HTSeq.scripts.count -s no -f bam Control_4.filtered.bam Reduced_genes.gtf > Control_4.counts\", \n",
    "       intern=TRUE)"
   ]
  },
  {
   "cell_type": "code",
   "execution_count": 18,
   "metadata": {},
   "outputs": [
    {
     "data": {
      "text/html": [
       "<style>\n",
       ".list-inline {list-style: none; margin:0; padding: 0}\n",
       ".list-inline>li {display: inline-block}\n",
       ".list-inline>li:not(:last-child)::after {content: \"\\00b7\"; padding: 0 .5ex}\n",
       "</style>\n",
       "<ol class=list-inline><li>'total 1229736'</li><li><span style=white-space:pre-wrap>'-rw-r--r-- 1 nicolo nicolo 154085877 may  2 14:02 ARID2_1.filtered.bam'</span></li><li><span style=white-space:pre-wrap>'-rw-r--r-- 1 nicolo nicolo 178178603 may  2 14:02 ARID2_2.filtered.bam'</span></li><li><span style=white-space:pre-wrap>'-rw-r--r-- 1 nicolo nicolo 214363664 may  2 14:02 ARID2_3.filtered.bam'</span></li><li><span style=white-space:pre-wrap>'-rw-r--r-- 1 nicolo nicolo 100095632 may  2 14:02 ARID2_4.filtered.bam'</span></li><li><span style=white-space:pre-wrap>'-rw-r--r-- 1 nicolo nicolo 173103372 may  2 14:02 Control_1.filtered.bam'</span></li><li><span style=white-space:pre-wrap>'-rw-r--r-- 1 nicolo nicolo 144441229 may  2 14:02 Control_2.filtered.bam'</span></li><li><span style=white-space:pre-wrap>'-rw-r--r-- 1 nicolo nicolo 141895492 may  2 14:02 Control_3.filtered.bam'</span></li><li><span style=white-space:pre-wrap>'-rw-r--r-- 1 nicolo nicolo 145382659 may  2 14:02 Control_4.filtered.bam'</span></li><li><span style=white-space:pre-wrap>'-rw-r--r-- 1 nicolo nicolo      7105 may  2 14:02 Reduced_gene_id.txt'</span></li><li><span style=white-space:pre-wrap>'-rw-r--r-- 1 nicolo nicolo   7312004 may  2 14:02 Reduced_genes.gtf'</span></li><li><span style=white-space:pre-wrap>'-rw-r--r-- 1 nicolo nicolo         0 may  2 16:04 Archivo.counts'</span></li><li><span style=white-space:pre-wrap>'-rw-r--r-- 1 nicolo nicolo      6139 may  2 16:09 ARID2_1.counts'</span></li><li><span style=white-space:pre-wrap>'-rw-r--r-- 1 nicolo nicolo      6159 may  2 16:13 ARID2_2.counts'</span></li><li><span style=white-space:pre-wrap>'-rw-r--r-- 1 nicolo nicolo      6182 may  2 16:18 ARID2_3.counts'</span></li><li><span style=white-space:pre-wrap>'-rw-r--r-- 1 nicolo nicolo      6047 may  2 16:20 ARID2_4.counts'</span></li><li><span style=white-space:pre-wrap>'-rw-r--r-- 1 nicolo nicolo      6190 may  2 16:24 Control_1.counts'</span></li><li><span style=white-space:pre-wrap>'-rw-r--r-- 1 nicolo nicolo      6156 may  2 16:27 Control_2.counts'</span></li><li><span style=white-space:pre-wrap>'-rw-r--r-- 1 nicolo nicolo      6156 may  2 16:30 Control_3.counts'</span></li><li><span style=white-space:pre-wrap>'-rw-r--r-- 1 nicolo nicolo      6766 may  2 16:31 Practica_Individual_Nicolo_Trevisani.ipynb'</span></li><li><span style=white-space:pre-wrap>'-rw-r--r-- 1 nicolo nicolo      1543 may  2 16:31 Practica_Individual_Nicolo_Trevisani.r'</span></li><li><span style=white-space:pre-wrap>'-rw-r--r-- 1 nicolo nicolo    282727 may  2 16:31 Practica_Individual_Nicolo_Trevisani.html'</span></li><li><span style=white-space:pre-wrap>'-rw-r--r-- 1 nicolo nicolo      6110 may  2 16:32 Control_4.counts'</span></li></ol>\n"
      ],
      "text/latex": [
       "\\begin{enumerate*}\n",
       "\\item 'total 1229736'\n",
       "\\item '-rw-r--r-- 1 nicolo nicolo 154085877 may  2 14:02 ARID2\\_1.filtered.bam'\n",
       "\\item '-rw-r--r-- 1 nicolo nicolo 178178603 may  2 14:02 ARID2\\_2.filtered.bam'\n",
       "\\item '-rw-r--r-- 1 nicolo nicolo 214363664 may  2 14:02 ARID2\\_3.filtered.bam'\n",
       "\\item '-rw-r--r-- 1 nicolo nicolo 100095632 may  2 14:02 ARID2\\_4.filtered.bam'\n",
       "\\item '-rw-r--r-- 1 nicolo nicolo 173103372 may  2 14:02 Control\\_1.filtered.bam'\n",
       "\\item '-rw-r--r-- 1 nicolo nicolo 144441229 may  2 14:02 Control\\_2.filtered.bam'\n",
       "\\item '-rw-r--r-- 1 nicolo nicolo 141895492 may  2 14:02 Control\\_3.filtered.bam'\n",
       "\\item '-rw-r--r-- 1 nicolo nicolo 145382659 may  2 14:02 Control\\_4.filtered.bam'\n",
       "\\item '-rw-r--r-- 1 nicolo nicolo      7105 may  2 14:02 Reduced\\_gene\\_id.txt'\n",
       "\\item '-rw-r--r-- 1 nicolo nicolo   7312004 may  2 14:02 Reduced\\_genes.gtf'\n",
       "\\item '-rw-r--r-- 1 nicolo nicolo         0 may  2 16:04 Archivo.counts'\n",
       "\\item '-rw-r--r-- 1 nicolo nicolo      6139 may  2 16:09 ARID2\\_1.counts'\n",
       "\\item '-rw-r--r-- 1 nicolo nicolo      6159 may  2 16:13 ARID2\\_2.counts'\n",
       "\\item '-rw-r--r-- 1 nicolo nicolo      6182 may  2 16:18 ARID2\\_3.counts'\n",
       "\\item '-rw-r--r-- 1 nicolo nicolo      6047 may  2 16:20 ARID2\\_4.counts'\n",
       "\\item '-rw-r--r-- 1 nicolo nicolo      6190 may  2 16:24 Control\\_1.counts'\n",
       "\\item '-rw-r--r-- 1 nicolo nicolo      6156 may  2 16:27 Control\\_2.counts'\n",
       "\\item '-rw-r--r-- 1 nicolo nicolo      6156 may  2 16:30 Control\\_3.counts'\n",
       "\\item '-rw-r--r-- 1 nicolo nicolo      6766 may  2 16:31 Practica\\_Individual\\_Nicolo\\_Trevisani.ipynb'\n",
       "\\item '-rw-r--r-- 1 nicolo nicolo      1543 may  2 16:31 Practica\\_Individual\\_Nicolo\\_Trevisani.r'\n",
       "\\item '-rw-r--r-- 1 nicolo nicolo    282727 may  2 16:31 Practica\\_Individual\\_Nicolo\\_Trevisani.html'\n",
       "\\item '-rw-r--r-- 1 nicolo nicolo      6110 may  2 16:32 Control\\_4.counts'\n",
       "\\end{enumerate*}\n"
      ],
      "text/markdown": [
       "1. 'total 1229736'\n",
       "2. <span style=white-space:pre-wrap>'-rw-r--r-- 1 nicolo nicolo 154085877 may  2 14:02 ARID2_1.filtered.bam'</span>\n",
       "3. <span style=white-space:pre-wrap>'-rw-r--r-- 1 nicolo nicolo 178178603 may  2 14:02 ARID2_2.filtered.bam'</span>\n",
       "4. <span style=white-space:pre-wrap>'-rw-r--r-- 1 nicolo nicolo 214363664 may  2 14:02 ARID2_3.filtered.bam'</span>\n",
       "5. <span style=white-space:pre-wrap>'-rw-r--r-- 1 nicolo nicolo 100095632 may  2 14:02 ARID2_4.filtered.bam'</span>\n",
       "6. <span style=white-space:pre-wrap>'-rw-r--r-- 1 nicolo nicolo 173103372 may  2 14:02 Control_1.filtered.bam'</span>\n",
       "7. <span style=white-space:pre-wrap>'-rw-r--r-- 1 nicolo nicolo 144441229 may  2 14:02 Control_2.filtered.bam'</span>\n",
       "8. <span style=white-space:pre-wrap>'-rw-r--r-- 1 nicolo nicolo 141895492 may  2 14:02 Control_3.filtered.bam'</span>\n",
       "9. <span style=white-space:pre-wrap>'-rw-r--r-- 1 nicolo nicolo 145382659 may  2 14:02 Control_4.filtered.bam'</span>\n",
       "10. <span style=white-space:pre-wrap>'-rw-r--r-- 1 nicolo nicolo      7105 may  2 14:02 Reduced_gene_id.txt'</span>\n",
       "11. <span style=white-space:pre-wrap>'-rw-r--r-- 1 nicolo nicolo   7312004 may  2 14:02 Reduced_genes.gtf'</span>\n",
       "12. <span style=white-space:pre-wrap>'-rw-r--r-- 1 nicolo nicolo         0 may  2 16:04 Archivo.counts'</span>\n",
       "13. <span style=white-space:pre-wrap>'-rw-r--r-- 1 nicolo nicolo      6139 may  2 16:09 ARID2_1.counts'</span>\n",
       "14. <span style=white-space:pre-wrap>'-rw-r--r-- 1 nicolo nicolo      6159 may  2 16:13 ARID2_2.counts'</span>\n",
       "15. <span style=white-space:pre-wrap>'-rw-r--r-- 1 nicolo nicolo      6182 may  2 16:18 ARID2_3.counts'</span>\n",
       "16. <span style=white-space:pre-wrap>'-rw-r--r-- 1 nicolo nicolo      6047 may  2 16:20 ARID2_4.counts'</span>\n",
       "17. <span style=white-space:pre-wrap>'-rw-r--r-- 1 nicolo nicolo      6190 may  2 16:24 Control_1.counts'</span>\n",
       "18. <span style=white-space:pre-wrap>'-rw-r--r-- 1 nicolo nicolo      6156 may  2 16:27 Control_2.counts'</span>\n",
       "19. <span style=white-space:pre-wrap>'-rw-r--r-- 1 nicolo nicolo      6156 may  2 16:30 Control_3.counts'</span>\n",
       "20. <span style=white-space:pre-wrap>'-rw-r--r-- 1 nicolo nicolo      6766 may  2 16:31 Practica_Individual_Nicolo_Trevisani.ipynb'</span>\n",
       "21. <span style=white-space:pre-wrap>'-rw-r--r-- 1 nicolo nicolo      1543 may  2 16:31 Practica_Individual_Nicolo_Trevisani.r'</span>\n",
       "22. <span style=white-space:pre-wrap>'-rw-r--r-- 1 nicolo nicolo    282727 may  2 16:31 Practica_Individual_Nicolo_Trevisani.html'</span>\n",
       "23. <span style=white-space:pre-wrap>'-rw-r--r-- 1 nicolo nicolo      6110 may  2 16:32 Control_4.counts'</span>\n",
       "\n",
       "\n"
      ],
      "text/plain": [
       " [1] \"total 1229736\"                                                                               \n",
       " [2] \"-rw-r--r-- 1 nicolo nicolo 154085877 may  2 14:02 ARID2_1.filtered.bam\"                      \n",
       " [3] \"-rw-r--r-- 1 nicolo nicolo 178178603 may  2 14:02 ARID2_2.filtered.bam\"                      \n",
       " [4] \"-rw-r--r-- 1 nicolo nicolo 214363664 may  2 14:02 ARID2_3.filtered.bam\"                      \n",
       " [5] \"-rw-r--r-- 1 nicolo nicolo 100095632 may  2 14:02 ARID2_4.filtered.bam\"                      \n",
       " [6] \"-rw-r--r-- 1 nicolo nicolo 173103372 may  2 14:02 Control_1.filtered.bam\"                    \n",
       " [7] \"-rw-r--r-- 1 nicolo nicolo 144441229 may  2 14:02 Control_2.filtered.bam\"                    \n",
       " [8] \"-rw-r--r-- 1 nicolo nicolo 141895492 may  2 14:02 Control_3.filtered.bam\"                    \n",
       " [9] \"-rw-r--r-- 1 nicolo nicolo 145382659 may  2 14:02 Control_4.filtered.bam\"                    \n",
       "[10] \"-rw-r--r-- 1 nicolo nicolo      7105 may  2 14:02 Reduced_gene_id.txt\"                       \n",
       "[11] \"-rw-r--r-- 1 nicolo nicolo   7312004 may  2 14:02 Reduced_genes.gtf\"                         \n",
       "[12] \"-rw-r--r-- 1 nicolo nicolo         0 may  2 16:04 Archivo.counts\"                            \n",
       "[13] \"-rw-r--r-- 1 nicolo nicolo      6139 may  2 16:09 ARID2_1.counts\"                            \n",
       "[14] \"-rw-r--r-- 1 nicolo nicolo      6159 may  2 16:13 ARID2_2.counts\"                            \n",
       "[15] \"-rw-r--r-- 1 nicolo nicolo      6182 may  2 16:18 ARID2_3.counts\"                            \n",
       "[16] \"-rw-r--r-- 1 nicolo nicolo      6047 may  2 16:20 ARID2_4.counts\"                            \n",
       "[17] \"-rw-r--r-- 1 nicolo nicolo      6190 may  2 16:24 Control_1.counts\"                          \n",
       "[18] \"-rw-r--r-- 1 nicolo nicolo      6156 may  2 16:27 Control_2.counts\"                          \n",
       "[19] \"-rw-r--r-- 1 nicolo nicolo      6156 may  2 16:30 Control_3.counts\"                          \n",
       "[20] \"-rw-r--r-- 1 nicolo nicolo      6766 may  2 16:31 Practica_Individual_Nicolo_Trevisani.ipynb\"\n",
       "[21] \"-rw-r--r-- 1 nicolo nicolo      1543 may  2 16:31 Practica_Individual_Nicolo_Trevisani.r\"    \n",
       "[22] \"-rw-r--r-- 1 nicolo nicolo    282727 may  2 16:31 Practica_Individual_Nicolo_Trevisani.html\" \n",
       "[23] \"-rw-r--r-- 1 nicolo nicolo      6110 may  2 16:32 Control_4.counts\"                          "
      ]
     },
     "metadata": {},
     "output_type": "display_data"
    }
   ],
   "source": [
    "# Verifico si está todo\n",
    "system(\"ls -lrt\", intern=TRUE)"
   ]
  },
  {
   "cell_type": "markdown",
   "metadata": {},
   "source": [
    "## 2. Generación de tabla de expresión\n",
    "\n",
    "Ahora que sabemos qué gen corresponde cada fragmento de DNA que hemos secuenciado, vamos a ordenar los datos en un data frame, para que sea más sencillo analizarlos.\n",
    "\n",
    "Vamos a preparar una tabla de expresión, donde:\n",
    "- cada columna, representa una de las muestras;\n",
    "- cada linea, representa un gen;\n",
    "- cada celda representa el número de genes que se han contado en la muestra correspondiente."
   ]
  },
  {
   "cell_type": "code",
   "execution_count": 20,
   "metadata": {},
   "outputs": [
    {
     "data": {
      "text/html": [
       "<style>\n",
       ".list-inline {list-style: none; margin:0; padding: 0}\n",
       ".list-inline>li {display: inline-block}\n",
       ".list-inline>li:not(:last-child)::after {content: \"\\00b7\"; padding: 0 .5ex}\n",
       "</style>\n",
       "<ol class=list-inline><li>'ARID2_1'</li><li>'ARID2_2'</li><li>'ARID2_3'</li><li>'ARID2_4'</li><li>'Control_1'</li><li>'Control_2'</li><li>'Control_3'</li><li>'Control_4'</li></ol>\n"
      ],
      "text/latex": [
       "\\begin{enumerate*}\n",
       "\\item 'ARID2\\_1'\n",
       "\\item 'ARID2\\_2'\n",
       "\\item 'ARID2\\_3'\n",
       "\\item 'ARID2\\_4'\n",
       "\\item 'Control\\_1'\n",
       "\\item 'Control\\_2'\n",
       "\\item 'Control\\_3'\n",
       "\\item 'Control\\_4'\n",
       "\\end{enumerate*}\n"
      ],
      "text/markdown": [
       "1. 'ARID2_1'\n",
       "2. 'ARID2_2'\n",
       "3. 'ARID2_3'\n",
       "4. 'ARID2_4'\n",
       "5. 'Control_1'\n",
       "6. 'Control_2'\n",
       "7. 'Control_3'\n",
       "8. 'Control_4'\n",
       "\n",
       "\n"
      ],
      "text/plain": [
       "[1] \"ARID2_1\"   \"ARID2_2\"   \"ARID2_3\"   \"ARID2_4\"   \"Control_1\" \"Control_2\"\n",
       "[7] \"Control_3\" \"Control_4\""
      ]
     },
     "metadata": {},
     "output_type": "display_data"
    }
   ],
   "source": [
    "# Preparo una variable con los nombres de los ficheros .counts que hemos preparado en el paso anterior\n",
    "samples<- c(paste0(\"ARID2_\",1:4),paste0(\"Control_\",1:4))\n",
    "samples"
   ]
  },
  {
   "cell_type": "code",
   "execution_count": 22,
   "metadata": {},
   "outputs": [
    {
     "data": {
      "text/html": [
       "<table>\n",
       "<caption>A data.frame: 6 × 1</caption>\n",
       "<thead>\n",
       "\t<tr><th></th><th scope=col>V2</th></tr>\n",
       "\t<tr><th></th><th scope=col>&lt;int&gt;</th></tr>\n",
       "</thead>\n",
       "<tbody>\n",
       "\t<tr><th scope=row>ENSG00000005884</th><td>58137</td></tr>\n",
       "\t<tr><th scope=row>ENSG00000007237</th><td>   71</td></tr>\n",
       "\t<tr><th scope=row>ENSG00000012124</th><td>  408</td></tr>\n",
       "\t<tr><th scope=row>ENSG00000015413</th><td>   23</td></tr>\n",
       "\t<tr><th scope=row>ENSG00000023839</th><td>31709</td></tr>\n",
       "\t<tr><th scope=row>ENSG00000044459</th><td> 3543</td></tr>\n",
       "</tbody>\n",
       "</table>\n"
      ],
      "text/latex": [
       "A data.frame: 6 × 1\n",
       "\\begin{tabular}{r|l}\n",
       "  & V2\\\\\n",
       "  & <int>\\\\\n",
       "\\hline\n",
       "\tENSG00000005884 & 58137\\\\\n",
       "\tENSG00000007237 &    71\\\\\n",
       "\tENSG00000012124 &   408\\\\\n",
       "\tENSG00000015413 &    23\\\\\n",
       "\tENSG00000023839 & 31709\\\\\n",
       "\tENSG00000044459 &  3543\\\\\n",
       "\\end{tabular}\n"
      ],
      "text/markdown": [
       "\n",
       "A data.frame: 6 × 1\n",
       "\n",
       "| <!--/--> | V2 &lt;int&gt; |\n",
       "|---|---|\n",
       "| ENSG00000005884 | 58137 |\n",
       "| ENSG00000007237 |    71 |\n",
       "| ENSG00000012124 |   408 |\n",
       "| ENSG00000015413 |    23 |\n",
       "| ENSG00000023839 | 31709 |\n",
       "| ENSG00000044459 |  3543 |\n",
       "\n"
      ],
      "text/plain": [
       "                V2   \n",
       "ENSG00000005884 58137\n",
       "ENSG00000007237    71\n",
       "ENSG00000012124   408\n",
       "ENSG00000015413    23\n",
       "ENSG00000023839 31709\n",
       "ENSG00000044459  3543"
      ]
     },
     "metadata": {},
     "output_type": "display_data"
    }
   ],
   "source": [
    "# Preparo la primera columna de la tabla, con los números de la primera muestra\n",
    "# y los indices, que representan los genes\n",
    "first_sample <- read.delim(paste0(samples[1],\".counts\"),header=F,row.names=1)\n",
    "head(first_sample)"
   ]
  },
  {
   "cell_type": "code",
   "execution_count": 25,
   "metadata": {},
   "outputs": [
    {
     "data": {
      "text/html": [
       "<table>\n",
       "<caption>A data.frame: 6 × 8</caption>\n",
       "<thead>\n",
       "\t<tr><th></th><th scope=col>ARID2_1</th><th scope=col>ARID2_2</th><th scope=col>ARID2_3</th><th scope=col>ARID2_4</th><th scope=col>Control_1</th><th scope=col>Control_2</th><th scope=col>Control_3</th><th scope=col>Control_4</th></tr>\n",
       "\t<tr><th></th><th scope=col>&lt;int&gt;</th><th scope=col>&lt;int&gt;</th><th scope=col>&lt;int&gt;</th><th scope=col>&lt;int&gt;</th><th scope=col>&lt;int&gt;</th><th scope=col>&lt;int&gt;</th><th scope=col>&lt;int&gt;</th><th scope=col>&lt;int&gt;</th></tr>\n",
       "</thead>\n",
       "<tbody>\n",
       "\t<tr><th scope=row>ENSG00000005884</th><td>58137</td><td>68097</td><td>80771</td><td>21907</td><td>63319</td><td>51881</td><td>50270</td><td>33641</td></tr>\n",
       "\t<tr><th scope=row>ENSG00000007237</th><td>   71</td><td>  108</td><td>  145</td><td>   38</td><td>  158</td><td>  112</td><td>   98</td><td>   57</td></tr>\n",
       "\t<tr><th scope=row>ENSG00000012124</th><td>  408</td><td>  522</td><td>  558</td><td>  222</td><td>  189</td><td>  203</td><td>  232</td><td>  435</td></tr>\n",
       "\t<tr><th scope=row>ENSG00000015413</th><td>   23</td><td>   34</td><td>   42</td><td>   12</td><td>   36</td><td>   28</td><td>   21</td><td>   28</td></tr>\n",
       "\t<tr><th scope=row>ENSG00000023839</th><td>31709</td><td>45375</td><td>59169</td><td>21676</td><td>51163</td><td>39691</td><td>39409</td><td>34892</td></tr>\n",
       "\t<tr><th scope=row>ENSG00000044459</th><td> 3543</td><td> 4280</td><td> 5049</td><td> 1271</td><td> 3949</td><td> 3046</td><td> 3159</td><td> 1256</td></tr>\n",
       "</tbody>\n",
       "</table>\n"
      ],
      "text/latex": [
       "A data.frame: 6 × 8\n",
       "\\begin{tabular}{r|llllllll}\n",
       "  & ARID2\\_1 & ARID2\\_2 & ARID2\\_3 & ARID2\\_4 & Control\\_1 & Control\\_2 & Control\\_3 & Control\\_4\\\\\n",
       "  & <int> & <int> & <int> & <int> & <int> & <int> & <int> & <int>\\\\\n",
       "\\hline\n",
       "\tENSG00000005884 & 58137 & 68097 & 80771 & 21907 & 63319 & 51881 & 50270 & 33641\\\\\n",
       "\tENSG00000007237 &    71 &   108 &   145 &    38 &   158 &   112 &    98 &    57\\\\\n",
       "\tENSG00000012124 &   408 &   522 &   558 &   222 &   189 &   203 &   232 &   435\\\\\n",
       "\tENSG00000015413 &    23 &    34 &    42 &    12 &    36 &    28 &    21 &    28\\\\\n",
       "\tENSG00000023839 & 31709 & 45375 & 59169 & 21676 & 51163 & 39691 & 39409 & 34892\\\\\n",
       "\tENSG00000044459 &  3543 &  4280 &  5049 &  1271 &  3949 &  3046 &  3159 &  1256\\\\\n",
       "\\end{tabular}\n"
      ],
      "text/markdown": [
       "\n",
       "A data.frame: 6 × 8\n",
       "\n",
       "| <!--/--> | ARID2_1 &lt;int&gt; | ARID2_2 &lt;int&gt; | ARID2_3 &lt;int&gt; | ARID2_4 &lt;int&gt; | Control_1 &lt;int&gt; | Control_2 &lt;int&gt; | Control_3 &lt;int&gt; | Control_4 &lt;int&gt; |\n",
       "|---|---|---|---|---|---|---|---|---|\n",
       "| ENSG00000005884 | 58137 | 68097 | 80771 | 21907 | 63319 | 51881 | 50270 | 33641 |\n",
       "| ENSG00000007237 |    71 |   108 |   145 |    38 |   158 |   112 |    98 |    57 |\n",
       "| ENSG00000012124 |   408 |   522 |   558 |   222 |   189 |   203 |   232 |   435 |\n",
       "| ENSG00000015413 |    23 |    34 |    42 |    12 |    36 |    28 |    21 |    28 |\n",
       "| ENSG00000023839 | 31709 | 45375 | 59169 | 21676 | 51163 | 39691 | 39409 | 34892 |\n",
       "| ENSG00000044459 |  3543 |  4280 |  5049 |  1271 |  3949 |  3046 |  3159 |  1256 |\n",
       "\n"
      ],
      "text/plain": [
       "                ARID2_1 ARID2_2 ARID2_3 ARID2_4 Control_1 Control_2 Control_3\n",
       "ENSG00000005884 58137   68097   80771   21907   63319     51881     50270    \n",
       "ENSG00000007237    71     108     145      38     158       112        98    \n",
       "ENSG00000012124   408     522     558     222     189       203       232    \n",
       "ENSG00000015413    23      34      42      12      36        28        21    \n",
       "ENSG00000023839 31709   45375   59169   21676   51163     39691     39409    \n",
       "ENSG00000044459  3543    4280    5049    1271    3949      3046      3159    \n",
       "                Control_4\n",
       "ENSG00000005884 33641    \n",
       "ENSG00000007237    57    \n",
       "ENSG00000012124   435    \n",
       "ENSG00000015413    28    \n",
       "ENSG00000023839 34892    \n",
       "ENSG00000044459  1256    "
      ]
     },
     "metadata": {},
     "output_type": "display_data"
    }
   ],
   "source": [
    "# Transformo la columna en un data frame\n",
    "dataframe <- data.frame(first_sample)\n",
    "\n",
    "# Añado las demás columnas\n",
    "for (s in samples[2:length(samples)]){ \n",
    "    file <- paste0(s,\".counts\")\n",
    "    column <- read.delim(file,header=F,row.names=1)\n",
    "    dataframe <- cbind(dataframe,s=column) \n",
    "}\n",
    "\n",
    "# Cambio los nombre de las columnas del data frame usando la variable 'samples' que he creado antes    \n",
    "colnames(dataframe) <- samples\n",
    "\n",
    "head(dataframe)"
   ]
  },
  {
   "cell_type": "markdown",
   "metadata": {},
   "source": [
    "## 3. Generación de una matriz con las condiciones\n",
    "\n",
    "Este paso es necesario para crear un objeto de tipo DESeq2."
   ]
  },
  {
   "cell_type": "code",
   "execution_count": 29,
   "metadata": {},
   "outputs": [
    {
     "data": {
      "text/html": [
       "<style>\n",
       ".list-inline {list-style: none; margin:0; padding: 0}\n",
       ".list-inline>li {display: inline-block}\n",
       ".list-inline>li:not(:last-child)::after {content: \"\\00b7\"; padding: 0 .5ex}\n",
       "</style>\n",
       "<ol class=list-inline><li>'ARID2'</li><li>'ARID2'</li><li>'ARID2'</li><li>'ARID2'</li><li>'Control'</li><li>'Control'</li><li>'Control'</li><li>'Control'</li></ol>\n"
      ],
      "text/latex": [
       "\\begin{enumerate*}\n",
       "\\item 'ARID2'\n",
       "\\item 'ARID2'\n",
       "\\item 'ARID2'\n",
       "\\item 'ARID2'\n",
       "\\item 'Control'\n",
       "\\item 'Control'\n",
       "\\item 'Control'\n",
       "\\item 'Control'\n",
       "\\end{enumerate*}\n"
      ],
      "text/markdown": [
       "1. 'ARID2'\n",
       "2. 'ARID2'\n",
       "3. 'ARID2'\n",
       "4. 'ARID2'\n",
       "5. 'Control'\n",
       "6. 'Control'\n",
       "7. 'Control'\n",
       "8. 'Control'\n",
       "\n",
       "\n"
      ],
      "text/plain": [
       "[1] \"ARID2\"   \"ARID2\"   \"ARID2\"   \"ARID2\"   \"Control\" \"Control\" \"Control\"\n",
       "[8] \"Control\""
      ]
     },
     "metadata": {},
     "output_type": "display_data"
    },
    {
     "data": {
      "text/html": [
       "<table>\n",
       "<caption>A data.frame: 8 × 1</caption>\n",
       "<thead>\n",
       "\t<tr><th></th><th scope=col>sample_Type</th></tr>\n",
       "\t<tr><th></th><th scope=col>&lt;fct&gt;</th></tr>\n",
       "</thead>\n",
       "<tbody>\n",
       "\t<tr><th scope=row>ARID2_1</th><td>ARID2  </td></tr>\n",
       "\t<tr><th scope=row>ARID2_2</th><td>ARID2  </td></tr>\n",
       "\t<tr><th scope=row>ARID2_3</th><td>ARID2  </td></tr>\n",
       "\t<tr><th scope=row>ARID2_4</th><td>ARID2  </td></tr>\n",
       "\t<tr><th scope=row>Control_1</th><td>Control</td></tr>\n",
       "\t<tr><th scope=row>Control_2</th><td>Control</td></tr>\n",
       "\t<tr><th scope=row>Control_3</th><td>Control</td></tr>\n",
       "\t<tr><th scope=row>Control_4</th><td>Control</td></tr>\n",
       "</tbody>\n",
       "</table>\n"
      ],
      "text/latex": [
       "A data.frame: 8 × 1\n",
       "\\begin{tabular}{r|l}\n",
       "  & sample\\_Type\\\\\n",
       "  & <fct>\\\\\n",
       "\\hline\n",
       "\tARID2\\_1 & ARID2  \\\\\n",
       "\tARID2\\_2 & ARID2  \\\\\n",
       "\tARID2\\_3 & ARID2  \\\\\n",
       "\tARID2\\_4 & ARID2  \\\\\n",
       "\tControl\\_1 & Control\\\\\n",
       "\tControl\\_2 & Control\\\\\n",
       "\tControl\\_3 & Control\\\\\n",
       "\tControl\\_4 & Control\\\\\n",
       "\\end{tabular}\n"
      ],
      "text/markdown": [
       "\n",
       "A data.frame: 8 × 1\n",
       "\n",
       "| <!--/--> | sample_Type &lt;fct&gt; |\n",
       "|---|---|\n",
       "| ARID2_1 | ARID2   |\n",
       "| ARID2_2 | ARID2   |\n",
       "| ARID2_3 | ARID2   |\n",
       "| ARID2_4 | ARID2   |\n",
       "| Control_1 | Control |\n",
       "| Control_2 | Control |\n",
       "| Control_3 | Control |\n",
       "| Control_4 | Control |\n",
       "\n"
      ],
      "text/plain": [
       "          sample_Type\n",
       "ARID2_1   ARID2      \n",
       "ARID2_2   ARID2      \n",
       "ARID2_3   ARID2      \n",
       "ARID2_4   ARID2      \n",
       "Control_1 Control    \n",
       "Control_2 Control    \n",
       "Control_3 Control    \n",
       "Control_4 Control    "
      ]
     },
     "metadata": {},
     "output_type": "display_data"
    }
   ],
   "source": [
    "grp <- c(rep(\"ARID2\",4),rep(\"Control\",4))\n",
    "\n",
    "cData <- data.frame(sample_Type=as.factor(grp))\n",
    "\n",
    "rownames(cData) <- colnames(dataframe)\n",
    "\n",
    "grp\n",
    "cData"
   ]
  },
  {
   "cell_type": "markdown",
   "metadata": {},
   "source": [
    "## 4. Creación del objeto de DESeq2\n",
    "\n",
    "Ahora queremos saber cuales de los genes se han visto afectados por la inactivación del gen ARID2.\n",
    "\n",
    "Para eso, usamos la librería DESeq2, que hace una comparación estadistica de las muestras *ARID2* con las muestras *Control* y verifica para qué genes hay diferencias significativas."
   ]
  },
  {
   "cell_type": "code",
   "execution_count": 40,
   "metadata": {},
   "outputs": [],
   "source": [
    "library(\"DESeq2\")"
   ]
  },
  {
   "cell_type": "code",
   "execution_count": 41,
   "metadata": {},
   "outputs": [
    {
     "name": "stderr",
     "output_type": "stream",
     "text": [
      "  it appears that the last variable in the design formula, 'sample_Type',\n",
      "  has a factor level, 'Control', which is not the reference level. we recommend\n",
      "  to use factor(...,levels=...) or relevel() to set this as the reference level\n",
      "  before proceeding. for more information, please see the 'Note on factor levels'\n",
      "  in vignette('DESeq2').\n",
      "\n"
     ]
    },
    {
     "data": {
      "text/plain": [
       "class: DESeqDataSet \n",
       "dim: 306 8 \n",
       "metadata(1): version\n",
       "assays(1): counts\n",
       "rownames(306): ENSG00000005884 ENSG00000007237 ... __not_aligned\n",
       "  __alignment_not_unique\n",
       "rowData names(0):\n",
       "colnames(8): ARID2_1 ARID2_2 ... Control_3 Control_4\n",
       "colData names(1): sample_Type"
      ]
     },
     "metadata": {},
     "output_type": "display_data"
    }
   ],
   "source": [
    "d.deseq <- DESeqDataSetFromMatrix(countData=dataframe,colData=cData,design=~sample_Type)\n",
    "d.deseq"
   ]
  },
  {
   "cell_type": "markdown",
   "metadata": {},
   "source": [
    "Como sale un aviso de que tenemos que indicar cual es el nivel de referencia frente al que comparar, utilizamos la función relevel()"
   ]
  },
  {
   "cell_type": "code",
   "execution_count": 42,
   "metadata": {},
   "outputs": [],
   "source": [
    "d.deseq$sample_Type <-relevel(d.deseq$sample_Type, ref=\"Control\")"
   ]
  },
  {
   "cell_type": "markdown",
   "metadata": {},
   "source": [
    "Ahora le decidmos que calcule la expresión diferencial"
   ]
  },
  {
   "cell_type": "code",
   "execution_count": 43,
   "metadata": {},
   "outputs": [
    {
     "name": "stderr",
     "output_type": "stream",
     "text": [
      "estimating size factors\n",
      "\n",
      "estimating dispersions\n",
      "\n",
      "gene-wise dispersion estimates\n",
      "\n",
      "mean-dispersion relationship\n",
      "\n",
      "final dispersion estimates\n",
      "\n",
      "fitting model and testing\n",
      "\n"
     ]
    },
    {
     "data": {
      "text/plain": [
       "class: DESeqDataSet \n",
       "dim: 306 8 \n",
       "metadata(1): version\n",
       "assays(4): counts mu H cooks\n",
       "rownames(306): ENSG00000005884 ENSG00000007237 ... __not_aligned\n",
       "  __alignment_not_unique\n",
       "rowData names(22): baseMean baseVar ... deviance maxCooks\n",
       "colnames(8): ARID2_1 ARID2_2 ... Control_3 Control_4\n",
       "colData names(2): sample_Type sizeFactor"
      ]
     },
     "metadata": {},
     "output_type": "display_data"
    }
   ],
   "source": [
    "ARID2_DESeq <- DESeq(d.deseq)\n",
    "ARID2_DESeq"
   ]
  },
  {
   "cell_type": "markdown",
   "metadata": {},
   "source": [
    "Finalmente, generamos los resultados de la comparación."
   ]
  },
  {
   "cell_type": "code",
   "execution_count": 44,
   "metadata": {},
   "outputs": [
    {
     "data": {
      "text/plain": [
       "log2 fold change (MLE): sample Type Control vs ARID2 \n",
       "Wald test p-value: sample Type Control vs ARID2 \n",
       "DataFrame with 306 rows and 6 columns\n",
       "                               baseMean      log2FoldChange              lfcSE\n",
       "                              <numeric>           <numeric>          <numeric>\n",
       "ENSG00000005884        49895.6710282927  -0.225151044508738 0.0816289927181222\n",
       "ENSG00000007237        90.0138757327097   0.174324247138879  0.196675945403852\n",
       "ENSG00000012124        351.610628134537  -0.584727587468222  0.441249870395526\n",
       "ENSG00000015413        26.6710351978954  0.0142883161501132  0.302555045250692\n",
       "ENSG00000023839        38928.2712366822 0.00932411243548802  0.166981770068066\n",
       "...                                 ...                 ...                ...\n",
       "__no_feature           95448.6396444429  -0.138531711561081  0.124262044430074\n",
       "__ambiguous                           0                  NA                 NA\n",
       "__too_low_aQual                       0                  NA                 NA\n",
       "__not_aligned                         0                  NA                 NA\n",
       "__alignment_not_unique 318063.291356064    -0.2416529112921  0.171730371776265\n",
       "                                     stat              pvalue\n",
       "                                <numeric>           <numeric>\n",
       "ENSG00000005884         -2.75822397179663 0.00581163638237018\n",
       "ENSG00000007237         0.886352658841546   0.375427521226327\n",
       "ENSG00000012124         -1.32516206054426   0.185117405876332\n",
       "ENSG00000015413        0.0472255094548966   0.962333496595324\n",
       "ENSG00000023839        0.0558391040631996   0.955469982987122\n",
       "...                                   ...                 ...\n",
       "__no_feature            -1.11483528374617   0.264921013406331\n",
       "__ambiguous                            NA                  NA\n",
       "__too_low_aQual                        NA                  NA\n",
       "__not_aligned                          NA                  NA\n",
       "__alignment_not_unique  -1.40716466628822   0.159378566374862\n",
       "                                     padj\n",
       "                                <numeric>\n",
       "ENSG00000005884        0.0155834143704262\n",
       "ENSG00000007237          0.62502493918449\n",
       "ENSG00000012124         0.337895023979087\n",
       "ENSG00000015413         0.999590581734975\n",
       "ENSG00000023839         0.999590581734975\n",
       "...                                   ...\n",
       "__no_feature            0.453508853458296\n",
       "__ambiguous                            NA\n",
       "__too_low_aQual                        NA\n",
       "__not_aligned                          NA\n",
       "__alignment_not_unique  0.299948482059524"
      ]
     },
     "metadata": {},
     "output_type": "display_data"
    }
   ],
   "source": [
    "res <- results(ARID1A_DESeq)\n",
    "res"
   ]
  },
  {
   "cell_type": "markdown",
   "metadata": {},
   "source": [
    "## 5. Representación de los resultados\n",
    "\n",
    "Representamos ahora los resultados graficamente, para que sea más facil la interpretación.\n",
    "\n",
    "El grafico que vamos a producir presenta:\n",
    "- en el eje x el número de fragmentos de DNA asociados a un dado gen;\n",
    "- en el eje y cuanto los números de fragmento de DNA en células con mutaciones son estadisticamente incompatibles con los de células sin mutaciones.\n",
    "- en rojo, los genes que han visto afectada su expresión debido a la mutación, en negro los que presentan una frecuencia de expresión compatible en células con o sin mutación.\n",
    "\n",
    "Es interesante observar que para genes poco representados, tanto en las muestras de control como en las muestras objetivo, es más difícil decir si los cambios en la frecuencia de expresión se pueden atribuir a las mutaciones.\n",
    "De alguna manera, ahí los resultados siguen siendo afectados por la varibilidad en el número de copias de DNA producidas por cada fragmento de RNA."
   ]
  },
  {
   "cell_type": "code",
   "execution_count": 45,
   "metadata": {},
   "outputs": [
    {
     "data": {
      "image/png": "[encoded data removed]",
      "text/plain": [
       "Plot with title “”"
      ]
     },
     "metadata": {
      "image/png": {
       "height": 420,
       "width": 420
      },
      "text/plain": {
       "height": 420,
       "width": 420
      }
     },
     "output_type": "display_data"
    }
   ],
   "source": [
    "plotMA(res)"
   ]
  },
  {
   "cell_type": "markdown",
   "metadata": {},
   "source": [
    "## 6. Impresión de los resultados en un archivo de texto\n",
    "\n",
    "Imprimimos el resultado de los tests estadísticos en un archivo de texto"
   ]
  },
  {
   "cell_type": "code",
   "execution_count": 46,
   "metadata": {},
   "outputs": [],
   "source": [
    "write.table(res,\"ARID1A_results.txt\",sep=\"\\t\", col.names=NA)"
   ]
  },
  {
   "cell_type": "markdown",
   "metadata": {},
   "source": [
    "También resulta útil muchas veces generar una tabla de expresión normalizada entre las muestras."
   ]
  },
  {
   "cell_type": "code",
   "execution_count": 47,
   "metadata": {},
   "outputs": [],
   "source": [
    "Norm_ARID1A <- estimateSizeFactors(ARID1A_DESeq)\n",
    "\n",
    "c <- counts(Norm_ARID1A,normalized=TRUE)\n",
    "\n",
    "write.table(c,\"ARID1A_expresion_normalizada.txt\",sep=\"\\t\",col.names=NA)"
   ]
  }
 ],
 "metadata": {
  "kernelspec": {
   "display_name": "R",
   "language": "R",
   "name": "ir"
  },
  "language_info": {
   "codemirror_mode": "r",
   "file_extension": ".r",
   "mimetype": "text/x-r-source",
   "name": "R",
   "pygments_lexer": "r",
   "version": "3.6.1"
  }
 },
 "nbformat": 4,
 "nbformat_minor": 4
}
