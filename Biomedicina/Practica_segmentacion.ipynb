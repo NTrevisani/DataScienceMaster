{
  "nbformat": 4,
  "nbformat_minor": 0,
  "metadata": {
    "accelerator": "GPU",
    "colab": {
      "name": "Practica_segmentacion.ipynb",
      "provenance": [],
      "collapsed_sections": [],
      "toc_visible": true,
      "include_colab_link": true
    },
    "kernelspec": {
      "display_name": "Python 3",
      "language": "python",
      "name": "python3"
    },
    "language_info": {
      "codemirror_mode": {
        "name": "ipython",
        "version": 3
      },
      "file_extension": ".py",
      "mimetype": "text/x-python",
      "name": "python",
      "nbconvert_exporter": "python",
      "pygments_lexer": "ipython3",
      "version": "3.7.4"
    }
  },
  "cells": [
    {
      "cell_type": "markdown",
      "metadata": {
        "id": "view-in-github",
        "colab_type": "text"
      },
      "source": [
        "<a href=\"https://colab.research.google.com/github/NTrevisani/DataScienceMaster/blob/master/Biomedicina/Practica_segmentacion.ipynb\" target=\"_parent\"><img src=\"https://colab.research.google.com/assets/colab-badge.svg\" alt=\"Open In Colab\"/></a>"
      ]
    },
    {
      "cell_type": "markdown",
      "metadata": {
        "colab_type": "text",
        "id": "6h1d5l89MlP8"
      },
      "source": [
        "**SEGMENTACIÓN AUTOMÁTICA DE NUCLEOS USANDO UNA U-NET**"
      ]
    },
    {
      "cell_type": "markdown",
      "metadata": {
        "colab_type": "text",
        "id": "Hdnk-92JK2a0"
      },
      "source": [
        "La segmentación automática de imágenes de microscopía es una tarea importante en el procesamiento y análisis de imágenes médicas. La detección de núcleos es uno de los ejemplos más relevantes: Si se pudiera realizar de forma totalmente automatizada, se aceleraría la investigación de casi todas las enfermedades, desde el cáncer de pulmón y las enfermedades cardíacas hasta los trastornos raros. Usaremos un dataset de kaggle. Usaremos solo una pequeña muestra que podeis descargar [aqui](https://api.cloud.ifca.es:8080/swift/v1/datalabbio/datos_segmentacion.zip), pero el dataset completo está en kaggle y lo podéis descargar [aqui](https://api.cloud.ifca.es:8080/swift/v1/datalabbio/datos_segmentacion.zip)."
      ]
    },
    {
      "cell_type": "markdown",
      "metadata": {
        "_cell_guid": "88c8f888-4eb5-438e-8428-0d6f9280aa70",
        "_uuid": "3cf23599bb2587214d3f8b50d3b512bb025159f1",
        "colab_type": "text",
        "id": "ZE-Az6Xic3Qp"
      },
      "source": [
        "Vamos a utilizar una u-net para realizar segmentación semántica. Os recomiendo que leais [este artículo](https://towardsdatascience.com/understanding-semantic-segmentation-with-unet-6be4f42d4b47). Además, encontraréis en él referencias al artículo orignal de la u-net por si hay alguien interesado :-). La u-net tiene una parte de codificación y otra de decodificación, que es la que le confiera esa forma de U que da lugar a su nombre.\n",
        "![texto alternativo](https://miro.medium.com/max/1400/1*OkUrpDD6I0FpugA_bbYBJQ.png)"
      ]
    },
    {
      "cell_type": "markdown",
      "metadata": {
        "colab_type": "text",
        "id": "7h2RLl3Dd4HU"
      },
      "source": [
        "Vemos ahora un ejemplo de lo que queremos conseguir exactamente. Vemos una imagen de microscopio y debajo las imagenes de sus máscaras. Cuando la red esté entrenada, deberiamos poder meterle una imagen de microscopio nueva y que nos devuelva su máscara de capa donde en este caso habrá dos categorías: nucleo y no nucleo. Esta clasificación se hará pixel a pixel, y esto es justamente lo que se conoce como segmentación semántica. Esto nos permitiría contar núcleos de manera automática.\n",
        "\n",
        "![texto alternativo](https://dl.acm.org/cms/attachment/3e2d2318-76a6-420b-b428-fc84e7ef9dc0/tomm1601-12-f01.jpg)\n",
        "\n",
        "Como para esta práctica no vamos a tener acceso a todos los datos, solo me interesa que seais capaces de correr una u-net, que veais como se definen sus capas y entendais su arquitectura. No nos vamos a preocupar del resultado final porque para ello necesitariamos muchos más datos. \n",
        "\n",
        "Como métrica,para entrenar, vamos a utilizar la IoU media. Vimos lo que era la IoU (Intersection over Union) durante la clase de Machine Learning I, pero veamos aqui un pequeño recordatorio gráfico:\n",
        "![texto alternativo](https://pyimagesearch.com/wp-content/uploads/2016/09/iou_equation.png)\n",
        "\n",
        "Esto quiere decir que si lo hacemos perfecto, IoU sería igual a 1. La media de IoU es la media de la IoU para todas las imágenes del dataset. En esta práctica, y con las muestras que tenéis, aspiramos solo a tener un mean IoU entorno a 0.4."
      ]
    },
    {
      "cell_type": "code",
      "metadata": {
        "colab_type": "code",
        "id": "0kYKQvaEdpUL",
        "outputId": "6a5e36fc-32d4-4d7b-8f5f-b4d75ab0349d",
        "colab": {
          "base_uri": "https://localhost:8080/",
          "height": 34
        }
      },
      "source": [
        "from google.colab import drive\n",
        "drive.mount('/content/drive')"
      ],
      "execution_count": 21,
      "outputs": [
        {
          "output_type": "stream",
          "text": [
            "Drive already mounted at /content/drive; to attempt to forcibly remount, call drive.mount(\"/content/drive\", force_remount=True).\n"
          ],
          "name": "stdout"
        }
      ]
    },
    {
      "cell_type": "code",
      "metadata": {
        "_cell_guid": "6b324c96-b92c-4c71-835a-cc6adb1c7a0c",
        "_uuid": "9d65868c23446ed123810c4187c0e598ce01c652",
        "colab_type": "code",
        "id": "9OdqZWGJc3Qr",
        "colab": {}
      },
      "source": [
        "import os\n",
        "import sys\n",
        "import random\n",
        "import warnings\n",
        "\n",
        "import numpy as np\n",
        "import pandas as pd\n",
        "\n",
        "import matplotlib.pyplot as plt\n",
        "\n",
        "from tqdm import tqdm\n",
        "from itertools import chain\n",
        "from skimage.io import imread, imshow,imread_collection, concatenate_images\n",
        "from skimage.transform import resize\n",
        "from skimage.morphology import label\n",
        "\n",
        "from keras.models import Model, load_model\n",
        "from keras.layers import Input\n",
        "from keras.layers.core import Dropout, Lambda\n",
        "from keras.layers.convolutional import Conv2D, Conv2DTranspose\n",
        "from keras.layers.pooling import MaxPooling2D\n",
        "from keras.layers.merge import concatenate\n",
        "from keras.callbacks import EarlyStopping, ModelCheckpoint\n",
        "from keras import backend as K\n",
        "\n",
        "import tensorflow as tf\n",
        "\n",
        "# Vamos a definir algunos parámetros\n",
        "BATCH_SIZE = 1 \n",
        "IMG_WIDTH = 128 \n",
        "IMG_HEIGHT = 128 \n",
        "IMG_CHANNELS = 3\n",
        "\n",
        "#Pon el path a tu carpeta de drive donde están los datos\n",
        "TRAIN_PATH = 'drive/My Drive/Colab Notebooks/datos-segmentacion/'\n"
      ],
      "execution_count": 0,
      "outputs": []
    },
    {
      "cell_type": "markdown",
      "metadata": {
        "_cell_guid": "b2464b8e-77ba-44b1-8c78-06b1e690910d",
        "_uuid": "a3c37b92fa214f1be75ac3630927555ff40674b2",
        "colab_type": "text",
        "id": "oME2bPO1c3Qx"
      },
      "source": [
        "### *Preparando los datos*\n",
        "\n"
      ]
    },
    {
      "cell_type": "code",
      "metadata": {
        "_cell_guid": "bb7da2b8-5921-4769-9bee-afab2135472d",
        "_uuid": "2ff390c2a99e276c65e34d9ed61208347cacafe2",
        "colab_type": "code",
        "id": "gX-tC-IxNEvb",
        "colab": {
          "base_uri": "https://localhost:8080/",
          "height": 451
        },
        "outputId": "86653567-383b-43fa-e5d6-40b26d593104"
      },
      "source": [
        "# Aqui obtenemos una lista con los nombres de los directorios donde se encuentran los datos\n",
        "train_ids = next(os.walk(TRAIN_PATH))[1]\n",
        "train_ids\n"
      ],
      "execution_count": 33,
      "outputs": [
        {
          "output_type": "execute_result",
          "data": {
            "text/plain": [
              "['0bf33d3db4282d918ec3da7112d0bf0427d4eafe74b3ee0bb419770eefe8d7d6',\n",
              " '0bda515e370294ed94efd36bd53782288acacb040c171df2ed97fd691fc9d8fe',\n",
              " '0c6507d493bf79b2ba248c5cca3d14df8b67328b89efa5f4a32f97a06a88c92c',\n",
              " '0b0d577159f0d6c266f360f7b8dfde46e16fa665138bf577ec3c6f9c70c0cd1e',\n",
              " '0b2e702f90aee4fff2bc6e4326308d50cf04701082e718d4f831c8959fbcda93',\n",
              " '1b6044e4858a9b7cee9b0028d8e54fbc8fb72e6c4424ab5b9f3859bfc72b33c5',\n",
              " '1b2bf5933b0fb82918d278983bee66e9532b53807c3638efd9af66d20a2bae88',\n",
              " '1b44d22643830cd4f23c9deadb0bd499fb392fb2cd9526d81547d93077d983df',\n",
              " '1b518cd2ea84a389c267662840f3d902d0129fab27696215db2488de6d4316c5',\n",
              " '0d3640c1f1b80f24e94cc9a5f3e1d9e8db7bf6af7d4aba920265f46cadc25e37',\n",
              " '0a7d30b252359a10fd298b638b90cb9ada3acced4e0c0e5a3692013f432ee4e9',\n",
              " '0e21d7b3eea8cdbbed60d51d72f4f8c1974c5d76a8a3893a7d5835c85284132e',\n",
              " '01d44a26f6680c42ba94c9bc6339228579a95d0e2695b149b7cc0c9592b21baf',\n",
              " '00ae65c1c6631ae6f2be1a449902976e6eb8483bf6b0740d00530220832c6d3e',\n",
              " '0e5edb072788c7b1da8829b02a49ba25668b09f7201cf2b70b111fc3b853d14f',\n",
              " '0acd2c223d300ea55d0546797713851e818e5c697d073b7f4091b96ce0f3d2fe',\n",
              " '0e4c2e2780de7ec4312f0efcd86b07c3738d21df30bb4643659962b4da5505a3',\n",
              " '1a11552569160f0b1ea10bedbd628ce6c14f29edec5092034c2309c556df833e',\n",
              " '1a75e9f15481d11084fe66bc2a5afac6dc5bec20ed56a7351a6d65ef0fe8762b',\n",
              " '0ea221716cf13710214dcd331a61cea48308c3940df1d28cfc7fd817c83714e1',\n",
              " '0bf4b144167694b6846d584cf52c458f34f28fcae75328a2a096c8214e01c0d0',\n",
              " '0ddd8deaf1696db68b00c600601c6a74a0502caaf274222c8367bdc31458ae7e',\n",
              " '0d2bf916cc8de90d02f4cd4c23ea79b227dbc45d845b4124ffea380c92d34c8c',\n",
              " '0c2550a23b8a0f29a7575de8c61690d3c31bc897dd5ba66caec201d201a278c2',\n",
              " '1a75de9e11303142864efed27e69ea1960dbd82ca910de221a777ed2caf35a6b']"
            ]
          },
          "metadata": {
            "tags": []
          },
          "execution_count": 33
        }
      ]
    },
    {
      "cell_type": "code",
      "metadata": {
        "_cell_guid": "c6db52ac-98df-4e0f-bab2-b83565c0fde2",
        "_uuid": "ef50f72d80920e9b53c73919994199c0c9a8c955",
        "colab_type": "code",
        "id": "H_he3pnbc3Q2",
        "colab": {
          "base_uri": "https://localhost:8080/",
          "height": 69
        },
        "outputId": "7101e129-1785-4b42-f6b1-ad4c9c4d7036"
      },
      "source": [
        "# Obtener las imagenes y las máscaras de capa\n",
        "X_train = np.zeros((len(train_ids), IMG_HEIGHT, IMG_WIDTH, IMG_CHANNELS), dtype=np.uint8)\n",
        "Y_train = np.zeros((len(train_ids), IMG_HEIGHT, IMG_WIDTH, 1), dtype=np.bool)\n",
        "\n",
        "print('Obteniendo y cambiando el tamaño de las imagenes y las máscaras de capa (etiquetas) ... ')\n",
        "sys.stdout.flush()\n",
        "#Fijaos en lo útil que es la función tqdm que nos permite tener una barra de estado para ir viendo la evolución\n",
        "for n, id_ in tqdm(enumerate(train_ids), total=len(train_ids)):\n",
        "    path = TRAIN_PATH + id_\n",
        "    img = imread(path + '/images/' + id_ + '.png')[:,:,:IMG_CHANNELS]\n",
        "    img = resize(img, (IMG_HEIGHT, IMG_WIDTH), mode='constant', preserve_range=True)\n",
        "    X_train[n] = img\n",
        "    mask = np.zeros((IMG_HEIGHT, IMG_WIDTH, 1), dtype=np.bool)\n",
        "    for mask_file in next(os.walk(path + '/masks/'))[2]:\n",
        "        mask_ = imread(path + '/masks/' + mask_file)\n",
        "        mask_ = np.expand_dims(resize(mask_, (IMG_HEIGHT, IMG_WIDTH), mode='constant', \n",
        "                                      preserve_range=True), axis=-1)\n",
        "        mask = np.maximum(mask, mask_)\n",
        "    Y_train[n] = mask\n",
        "\n",
        "\n",
        "print('Done!')"
      ],
      "execution_count": 34,
      "outputs": [
        {
          "output_type": "stream",
          "text": [
            "Obteniendo y cambiando el tamaño de las imagenes y las máscaras de capa (etiquetas) ... \n"
          ],
          "name": "stdout"
        },
        {
          "output_type": "stream",
          "text": [
            "100%|██████████| 25/25 [08:23<00:00, 20.14s/it]"
          ],
          "name": "stderr"
        },
        {
          "output_type": "stream",
          "text": [
            "Done!\n"
          ],
          "name": "stdout"
        },
        {
          "output_type": "stream",
          "text": [
            "\n"
          ],
          "name": "stderr"
        }
      ]
    },
    {
      "cell_type": "markdown",
      "metadata": {
        "_cell_guid": "5f70481c-7b7b-4f60-8d11-e0e36030697c",
        "_uuid": "1593b0eb0503758424ce1ec5ded8d59557d4d1df",
        "colab_type": "text",
        "id": "I5d-weO5c3Q6"
      },
      "source": [
        "### *Data augmentation*"
      ]
    },
    {
      "cell_type": "code",
      "metadata": {
        "_cell_guid": "0e78cfea-5120-4c18-80a0-fd09964e024d",
        "_uuid": "7448169cf1949461f30735a89f96b4c4003dccea",
        "colab_type": "code",
        "id": "xZwty2oqc3Q7",
        "colab": {
          "base_uri": "https://localhost:8080/",
          "height": 34
        },
        "outputId": "72310caa-30d1-46df-be5b-eddc9194b63a"
      },
      "source": [
        "from keras.preprocessing import image\n",
        "\n",
        "#Crea los generadores y aplica data augmentation. \n",
        "#Mete modificaciones (rotaciones, reflejo especular, etc...) \n",
        "#que tengan sentido en el caso de imagenes de microscopio. \n",
        "#Elige 4 o 5.\n",
        "\n",
        "# fijo el seed para que las transformaciones sean las mismas\n",
        "seed = 1\n",
        "\n",
        "image_datagen = image.ImageDataGenerator(horizontal_flip=True,\n",
        "                                        vertical_flip=True,\n",
        "                                        rotation_range=90,\n",
        "                                        zoom_range=[0.5,1.0])\n",
        "\n",
        "mask_datagen = image.ImageDataGenerator(horizontal_flip=True,\n",
        "                                      vertical_flip=True,\n",
        "                                      rotation_range=90,\n",
        "                                      zoom_range=[0.5,1.0])\n",
        "\n",
        "# Aqui cogemos el 80% de la muestra para training\n",
        "\n",
        "image_datagen.fit(X_train[:int(X_train.shape[0]*0.8)], \n",
        "                  augment=True, \n",
        "                  seed = seed)\n",
        "mask_datagen.fit(Y_train[:int(Y_train.shape[0]*0.8)], \n",
        "                 augment=True, \n",
        "                 seed = seed)\n",
        "\n",
        "x = image_datagen.flow(X_train[:int(X_train.shape[0]*0.8)],\n",
        "                     batch_size=BATCH_SIZE,\n",
        "                     shuffle=True, \n",
        "                     seed = seed)\n",
        "\n",
        "y = mask_datagen.flow(Y_train[:int(Y_train.shape[0]*0.8)],\n",
        "                    batch_size=BATCH_SIZE,\n",
        "                    shuffle=True, \n",
        "                    seed = seed)\n",
        "\n",
        "\n",
        "# Para validación vamos a hacer lo mismo, ahora nos quedaremos con el 20% **restante**\n",
        "image_datagen_val = image.ImageDataGenerator(horizontal_flip=True,\n",
        "                                        vertical_flip=True,\n",
        "                                        rotation_range=90,\n",
        "                                        zoom_range=[0.5,1.0])\n",
        "\n",
        "mask_datagen_val = image.ImageDataGenerator(horizontal_flip=True,\n",
        "                                      vertical_flip=True,\n",
        "                                      rotation_range=90,\n",
        "                                      zoom_range=[0.5,1.0])\n",
        "\n",
        "image_datagen_val.fit(X_train[int(X_train.shape[0]*0.8):], \n",
        "                      augment=True, \n",
        "                      seed = seed)\n",
        "\n",
        "mask_datagen_val.fit(Y_train[int(Y_train.shape[0]*0.8):], \n",
        "                     augment=True, \n",
        "                     seed = seed)\n",
        "\n",
        "x_val=image_datagen_val.flow(X_train[int(X_train.shape[0]*0.8):],\n",
        "                             batch_size=BATCH_SIZE,\n",
        "                             shuffle=True, \n",
        "                             seed = seed)\n",
        "\n",
        "y_val=mask_datagen_val.flow(Y_train[int(Y_train.shape[0]*0.8):],\n",
        "                            batch_size=BATCH_SIZE,\n",
        "                            shuffle=True, \n",
        "                            seed = seed)"
      ],
      "execution_count": 89,
      "outputs": [
        {
          "output_type": "execute_result",
          "data": {
            "text/plain": [
              "<keras.preprocessing.image.ImageDataGenerator at 0x7f4b49222710>"
            ]
          },
          "metadata": {
            "tags": []
          },
          "execution_count": 89
        }
      ]
    },
    {
      "cell_type": "markdown",
      "metadata": {
        "colab_type": "text",
        "id": "sIQFpXg4rD_d"
      },
      "source": [
        "Visualicemos las imágenes y las máscaras de capa"
      ]
    },
    {
      "cell_type": "code",
      "metadata": {
        "_cell_guid": "a6a85b26-695e-4975-b22f-80a79209c370",
        "_uuid": "22785cbdcdf3e7712ba2423a90869e44bd74e28c",
        "colab_type": "code",
        "id": "FF4u4cHCc3Q_",
        "colab": {
          "base_uri": "https://localhost:8080/",
          "height": 1000
        },
        "outputId": "13ecee0d-a476-4c98-a5e6-31915ac7f112"
      },
      "source": [
        "from matplotlib import pyplot as plt\n",
        "%matplotlib inline\n",
        "\n",
        "imshow(x.next()[0].astype(np.uint8))\n",
        "plt.show()\n",
        "imshow(np.squeeze(y.next()[0].astype(np.uint8)))\n",
        "plt.show()\n",
        "\n",
        "imshow(x_val.next()[0].astype(np.uint8))\n",
        "plt.show()\n",
        "imshow(np.squeeze(y_val.next()[0].astype(np.uint8)))\n",
        "plt.show()"
      ],
      "execution_count": 42,
      "outputs": [
        {
          "output_type": "stream",
          "text": [
            "/usr/local/lib/python3.6/dist-packages/skimage/io/_plugins/matplotlib_plugin.py:150: UserWarning: Low image data range; displaying image with stretched contrast.\n",
            "  lo, hi, cmap = _get_display_range(image)\n"
          ],
          "name": "stderr"
        },
        {
          "output_type": "display_data",
          "data": {
            "image/png": "[encoded data removed]",
            "text/plain": [
              "<Figure size 432x288 with 2 Axes>"
            ]
          },
          "metadata": {
            "tags": [],
            "needs_background": "light"
          }
        },
        {
          "output_type": "display_data",
          "data": {
            "image/png": "[encoded data removed]",
            "text/plain": [
              "<Figure size 432x288 with 2 Axes>"
            ]
          },
          "metadata": {
            "tags": [],
            "needs_background": "light"
          }
        },
        {
          "output_type": "display_data",
          "data": {
            "image/png": "[encoded data removed]",
            "text/plain": [
              "<Figure size 432x288 with 2 Axes>"
            ]
          },
          "metadata": {
            "tags": [],
            "needs_background": "light"
          }
        },
        {
          "output_type": "display_data",
          "data": {
            "image/png": "[encoded data removed]",
            "text/plain": [
              "<Figure size 432x288 with 2 Axes>"
            ]
          },
          "metadata": {
            "tags": [],
            "needs_background": "light"
          }
        }
      ]
    },
    {
      "cell_type": "code",
      "metadata": {
        "_cell_guid": "54ec711a-1380-426f-8223-b03a62c659a2",
        "_uuid": "a23269d50bba3f2521202ff835fd5a4d34c785e9",
        "colab_type": "code",
        "id": "cV2wviTuc3RC",
        "colab": {}
      },
      "source": [
        "#Creamos un generador de train y de val que nos genere las imágenes y las máscaras\n",
        "train_generator = zip(x, y)\n",
        "val_generator = zip(x_val, y_val)"
      ],
      "execution_count": 0,
      "outputs": []
    },
    {
      "cell_type": "markdown",
      "metadata": {
        "_cell_guid": "ae011253-08b8-44db-8be9-c1092e171553",
        "_uuid": "17f9af12f2fc93a2e57c3cfdc3c122f97f1fa7e4",
        "colab_type": "text",
        "id": "p3RhL6y8c3RF"
      },
      "source": [
        "### *Construyendo el modelo u-net.*"
      ]
    },
    {
      "cell_type": "markdown",
      "metadata": {
        "colab_type": "text",
        "id": "UCtsQA3TZDAD"
      },
      "source": [
        " La estructura es distinta a como lo solemos hacer, fijaos en que a cada capa se le va diciendo explícitamente cual es la capa de input que tiene que coger. Esto se hace así porque si os fijais, en una U-net, la parte de decodificación necesita concatenar como input varias capas (fijaos en el gráfico de arriba donde se muestra la u-net). Atención a la nueva manera de normalizar el input según va entrando en la red. Usaremos de función de activación la función elu (exponential linear unit). Más información sobre esta función de activación [aqui](https://medium.com/@krishnakalyan3/introduction-to-exponential-linear-unit-d3e2904b366c)."
      ]
    },
    {
      "cell_type": "code",
      "metadata": {
        "_cell_guid": "0f97a2d9-a9a0-4399-bbca-198cdda087b6",
        "_uuid": "ab499cefbbe8dc514c6347fe203d87eb7974adf0",
        "colab_type": "code",
        "id": "CRtpI8Tqc3RJ",
        "colab": {
          "base_uri": "https://localhost:8080/",
          "height": 1000
        },
        "outputId": "43bca29b-395d-4675-a15a-8160e53df2ed"
      },
      "source": [
        "\n",
        "inputs = Input((IMG_HEIGHT, IMG_WIDTH, IMG_CHANNELS))\n",
        "s = Lambda(lambda x: x / 255) (inputs)\n",
        "\n",
        "c1 = Conv2D(16, (3, 3), activation='elu', kernel_initializer='he_normal', padding='same') (s)\n",
        "c1 = Dropout(0.1) (c1)\n",
        "c1 = Conv2D(16, (3, 3), activation='elu', kernel_initializer='he_normal', padding='same') (c1)\n",
        "p1 = MaxPooling2D((2, 2)) (c1)\n",
        "\n",
        "c2 = Conv2D(32, (3, 3), activation='elu', kernel_initializer='he_normal', padding='same') (p1)\n",
        "c2 = Dropout(0.1) (c2)\n",
        "c2 = Conv2D(32, (3, 3), activation='elu', kernel_initializer='he_normal', padding='same') (c2)\n",
        "p2 = MaxPooling2D((2, 2)) (c2)\n",
        "\n",
        "c3 = Conv2D(64, (3, 3), activation='elu', kernel_initializer='he_normal', padding='same') (p2)\n",
        "c3 = Dropout(0.2) (c3)\n",
        "c3 = Conv2D(64, (3, 3), activation='elu', kernel_initializer='he_normal', padding='same') (c3)\n",
        "p3 = MaxPooling2D((2, 2)) (c3)\n",
        "\n",
        "c4 = Conv2D(128, (3, 3), activation='elu', kernel_initializer='he_normal', padding='same') (p3)\n",
        "c4 = Dropout(0.2) (c4)\n",
        "c4 = Conv2D(128, (3, 3), activation='elu', kernel_initializer='he_normal', padding='same') (c4)\n",
        "p4 = MaxPooling2D(pool_size=(2, 2)) (c4)\n",
        "\n",
        "c5 = Conv2D(256, (3, 3), activation='elu', kernel_initializer='he_normal', padding='same') (p4)\n",
        "c5 = Dropout(0.3) (c5)\n",
        "c5 = Conv2D(256, (3, 3), activation='elu', kernel_initializer='he_normal', padding='same') (c5)\n",
        "\n",
        "u6 = Conv2DTranspose(128, (2, 2), strides=(2, 2), padding='same') (c5)\n",
        "u6 = concatenate([u6, c4])\n",
        "c6 = Conv2D(128, (3, 3), activation='elu', kernel_initializer='he_normal', padding='same') (u6)\n",
        "c6 = Dropout(0.2) (c6)\n",
        "c6 = Conv2D(128, (3, 3), activation='elu', kernel_initializer='he_normal', padding='same') (c6)\n",
        "\n",
        "u7 = Conv2DTranspose(64, (2, 2), strides=(2, 2), padding='same') (c6)\n",
        "u7 = concatenate([u7, c3])\n",
        "c7 = Conv2D(64, (3, 3), activation='elu', kernel_initializer='he_normal', padding='same') (u7)\n",
        "c7 = Dropout(0.2) (c7)\n",
        "c7 = Conv2D(64, (3, 3), activation='elu', kernel_initializer='he_normal', padding='same') (c7)\n",
        "\n",
        "u8 = Conv2DTranspose(32, (2, 2), strides=(2, 2), padding='same') (c7)\n",
        "u8 = concatenate([u8, c2])\n",
        "c8 = Conv2D(32, (3, 3), activation='elu', kernel_initializer='he_normal', padding='same') (u8)\n",
        "c8 = Dropout(0.1) (c8)\n",
        "c8 = Conv2D(32, (3, 3), activation='elu', kernel_initializer='he_normal', padding='same') (c8)\n",
        "\n",
        "u9 = Conv2DTranspose(16, (2, 2), strides=(2, 2), padding='same') (c8)\n",
        "u9 = concatenate([u9, c1], axis=3)\n",
        "c9 = Conv2D(16, (3, 3), activation='elu', kernel_initializer='he_normal', padding='same') (u9)\n",
        "c9 = Dropout(0.1) (c9)\n",
        "c9 = Conv2D(16, (3, 3), activation='elu', kernel_initializer='he_normal', padding='same') (c9)\n",
        "\n",
        "outputs = Conv2D(1, (1, 1), activation='sigmoid') (c9)\n",
        " \n",
        "#Utiliza como metrica la IoU media (MeanIoU en Keras), y optimizador adam, y como función de pérdida ¿Qué función tiene sentido poner?\n",
        "model = Model(inputs=[inputs], outputs=[outputs])\n",
        "\n",
        "model.summary()"
      ],
      "execution_count": 53,
      "outputs": [
        {
          "output_type": "stream",
          "text": [
            "Model: \"model_10\"\n",
            "__________________________________________________________________________________________________\n",
            "Layer (type)                    Output Shape         Param #     Connected to                     \n",
            "==================================================================================================\n",
            "input_10 (InputLayer)           (None, 128, 128, 3)  0                                            \n",
            "__________________________________________________________________________________________________\n",
            "lambda_10 (Lambda)              (None, 128, 128, 3)  0           input_10[0][0]                   \n",
            "__________________________________________________________________________________________________\n",
            "conv2d_172 (Conv2D)             (None, 128, 128, 16) 448         lambda_10[0][0]                  \n",
            "__________________________________________________________________________________________________\n",
            "dropout_82 (Dropout)            (None, 128, 128, 16) 0           conv2d_172[0][0]                 \n",
            "__________________________________________________________________________________________________\n",
            "conv2d_173 (Conv2D)             (None, 128, 128, 16) 2320        dropout_82[0][0]                 \n",
            "__________________________________________________________________________________________________\n",
            "max_pooling2d_37 (MaxPooling2D) (None, 64, 64, 16)   0           conv2d_173[0][0]                 \n",
            "__________________________________________________________________________________________________\n",
            "conv2d_174 (Conv2D)             (None, 64, 64, 32)   4640        max_pooling2d_37[0][0]           \n",
            "__________________________________________________________________________________________________\n",
            "dropout_83 (Dropout)            (None, 64, 64, 32)   0           conv2d_174[0][0]                 \n",
            "__________________________________________________________________________________________________\n",
            "conv2d_175 (Conv2D)             (None, 64, 64, 32)   9248        dropout_83[0][0]                 \n",
            "__________________________________________________________________________________________________\n",
            "max_pooling2d_38 (MaxPooling2D) (None, 32, 32, 32)   0           conv2d_175[0][0]                 \n",
            "__________________________________________________________________________________________________\n",
            "conv2d_176 (Conv2D)             (None, 32, 32, 64)   18496       max_pooling2d_38[0][0]           \n",
            "__________________________________________________________________________________________________\n",
            "dropout_84 (Dropout)            (None, 32, 32, 64)   0           conv2d_176[0][0]                 \n",
            "__________________________________________________________________________________________________\n",
            "conv2d_177 (Conv2D)             (None, 32, 32, 64)   36928       dropout_84[0][0]                 \n",
            "__________________________________________________________________________________________________\n",
            "max_pooling2d_39 (MaxPooling2D) (None, 16, 16, 64)   0           conv2d_177[0][0]                 \n",
            "__________________________________________________________________________________________________\n",
            "conv2d_178 (Conv2D)             (None, 16, 16, 128)  73856       max_pooling2d_39[0][0]           \n",
            "__________________________________________________________________________________________________\n",
            "dropout_85 (Dropout)            (None, 16, 16, 128)  0           conv2d_178[0][0]                 \n",
            "__________________________________________________________________________________________________\n",
            "conv2d_179 (Conv2D)             (None, 16, 16, 128)  147584      dropout_85[0][0]                 \n",
            "__________________________________________________________________________________________________\n",
            "max_pooling2d_40 (MaxPooling2D) (None, 8, 8, 128)    0           conv2d_179[0][0]                 \n",
            "__________________________________________________________________________________________________\n",
            "conv2d_180 (Conv2D)             (None, 8, 8, 256)    295168      max_pooling2d_40[0][0]           \n",
            "__________________________________________________________________________________________________\n",
            "dropout_86 (Dropout)            (None, 8, 8, 256)    0           conv2d_180[0][0]                 \n",
            "__________________________________________________________________________________________________\n",
            "conv2d_181 (Conv2D)             (None, 8, 8, 256)    590080      dropout_86[0][0]                 \n",
            "__________________________________________________________________________________________________\n",
            "conv2d_transpose_37 (Conv2DTran (None, 16, 16, 128)  131200      conv2d_181[0][0]                 \n",
            "__________________________________________________________________________________________________\n",
            "concatenate_37 (Concatenate)    (None, 16, 16, 256)  0           conv2d_transpose_37[0][0]        \n",
            "                                                                 conv2d_179[0][0]                 \n",
            "__________________________________________________________________________________________________\n",
            "conv2d_182 (Conv2D)             (None, 16, 16, 128)  295040      concatenate_37[0][0]             \n",
            "__________________________________________________________________________________________________\n",
            "dropout_87 (Dropout)            (None, 16, 16, 128)  0           conv2d_182[0][0]                 \n",
            "__________________________________________________________________________________________________\n",
            "conv2d_183 (Conv2D)             (None, 16, 16, 128)  147584      dropout_87[0][0]                 \n",
            "__________________________________________________________________________________________________\n",
            "conv2d_transpose_38 (Conv2DTran (None, 32, 32, 64)   32832       conv2d_183[0][0]                 \n",
            "__________________________________________________________________________________________________\n",
            "concatenate_38 (Concatenate)    (None, 32, 32, 128)  0           conv2d_transpose_38[0][0]        \n",
            "                                                                 conv2d_177[0][0]                 \n",
            "__________________________________________________________________________________________________\n",
            "conv2d_184 (Conv2D)             (None, 32, 32, 64)   73792       concatenate_38[0][0]             \n",
            "__________________________________________________________________________________________________\n",
            "dropout_88 (Dropout)            (None, 32, 32, 64)   0           conv2d_184[0][0]                 \n",
            "__________________________________________________________________________________________________\n",
            "conv2d_185 (Conv2D)             (None, 32, 32, 64)   36928       dropout_88[0][0]                 \n",
            "__________________________________________________________________________________________________\n",
            "conv2d_transpose_39 (Conv2DTran (None, 64, 64, 32)   8224        conv2d_185[0][0]                 \n",
            "__________________________________________________________________________________________________\n",
            "concatenate_39 (Concatenate)    (None, 64, 64, 64)   0           conv2d_transpose_39[0][0]        \n",
            "                                                                 conv2d_175[0][0]                 \n",
            "__________________________________________________________________________________________________\n",
            "conv2d_186 (Conv2D)             (None, 64, 64, 32)   18464       concatenate_39[0][0]             \n",
            "__________________________________________________________________________________________________\n",
            "dropout_89 (Dropout)            (None, 64, 64, 32)   0           conv2d_186[0][0]                 \n",
            "__________________________________________________________________________________________________\n",
            "conv2d_187 (Conv2D)             (None, 64, 64, 32)   9248        dropout_89[0][0]                 \n",
            "__________________________________________________________________________________________________\n",
            "conv2d_transpose_40 (Conv2DTran (None, 128, 128, 16) 2064        conv2d_187[0][0]                 \n",
            "__________________________________________________________________________________________________\n",
            "concatenate_40 (Concatenate)    (None, 128, 128, 32) 0           conv2d_transpose_40[0][0]        \n",
            "                                                                 conv2d_173[0][0]                 \n",
            "__________________________________________________________________________________________________\n",
            "conv2d_188 (Conv2D)             (None, 128, 128, 16) 4624        concatenate_40[0][0]             \n",
            "__________________________________________________________________________________________________\n",
            "dropout_90 (Dropout)            (None, 128, 128, 16) 0           conv2d_188[0][0]                 \n",
            "__________________________________________________________________________________________________\n",
            "conv2d_189 (Conv2D)             (None, 128, 128, 16) 2320        dropout_90[0][0]                 \n",
            "__________________________________________________________________________________________________\n",
            "conv2d_190 (Conv2D)             (None, 128, 128, 1)  17          conv2d_189[0][0]                 \n",
            "==================================================================================================\n",
            "Total params: 1,941,105\n",
            "Trainable params: 1,941,105\n",
            "Non-trainable params: 0\n",
            "__________________________________________________________________________________________________\n"
          ],
          "name": "stdout"
        }
      ]
    },
    {
      "cell_type": "code",
      "metadata": {
        "id": "SJ0Z3d7EIZWR",
        "colab_type": "code",
        "colab": {}
      },
      "source": [
        "from keras import optimizers\n",
        "\n",
        "adam = optimizers.adam(lr=5e-4)\n",
        "\n",
        "# Uso como función de perdida la binary cross-entropy porque:\n",
        "# - tengo dos clases: nucleo y no-nucleo\n",
        "# - si la predicción funciona bien, la IoU es parecida a 1\n",
        "# - si la predicción funciona malm la IoU es parecida a 0\n",
        "\n",
        "model.compile(optimizer=adam, \n",
        "              loss='binary_crossentropy', \n",
        "              metrics=[tf.keras.metrics.MeanIoU(num_classes=2)])"
      ],
      "execution_count": 0,
      "outputs": []
    },
    {
      "cell_type": "markdown",
      "metadata": {
        "_cell_guid": "5d17d35a-753d-47c5-b1d7-7effa1af04a7",
        "_uuid": "a9378262b0194c0aa54df3e2ea5696b447f8ef83",
        "colab_type": "text",
        "id": "Z9fH_YBQc3RM"
      },
      "source": [
        "### *Entrenando*"
      ]
    },
    {
      "cell_type": "code",
      "metadata": {
        "_cell_guid": "2cc45263-7607-4d9d-b0e0-88b3135ba60b",
        "_uuid": "440055f1d1feb25fe08f942d15257e2454d2022b",
        "colab_type": "code",
        "id": "UAlJZh7Hc3RM",
        "colab": {
          "base_uri": "https://localhost:8080/",
          "height": 419
        },
        "outputId": "1c6eb0ec-7edc-4295-e269-da0c87cd8486"
      },
      "source": [
        "# Mete early stopping y entrena durante 10 épocas. Recuerda meter también el generador de validación.\n",
        "\n",
        "from keras.callbacks import EarlyStopping\n",
        "\n",
        "es = EarlyStopping(monitor='val_acc', \n",
        "                   mode='max', \n",
        "                   patience = 5,\n",
        "                   restore_best_weights = True)\n",
        "\n",
        "results = model.fit_generator(train_generator,\n",
        "                              epochs = 10,\n",
        "                              validation_data = val_generator,\n",
        "                              callbacks = [es],\n",
        "                              steps_per_epoch = len(x) / BATCH_SIZE,\n",
        "                              validation_steps = len(x_val) / BATCH_SIZE)"
      ],
      "execution_count": 96,
      "outputs": [
        {
          "output_type": "stream",
          "text": [
            "Epoch 1/10\n",
            "20/20 [==============================] - 2s 113ms/step - loss: 0.6012 - mean_io_u_3: 0.4297 - val_loss: 0.7437 - val_mean_io_u_3: 0.4035\n",
            "Epoch 2/10\n",
            " 5/20 [======>.......................] - ETA: 0s - loss: 0.4050 - mean_io_u_3: 0.4046"
          ],
          "name": "stdout"
        },
        {
          "output_type": "stream",
          "text": [
            "/usr/local/lib/python3.6/dist-packages/keras/callbacks/callbacks.py:846: RuntimeWarning: Early stopping conditioned on metric `val_acc` which is not available. Available metrics are: val_loss,val_mean_io_u_3,loss,mean_io_u_3\n",
            "  (self.monitor, ','.join(list(logs.keys()))), RuntimeWarning\n"
          ],
          "name": "stderr"
        },
        {
          "output_type": "stream",
          "text": [
            "20/20 [==============================] - 1s 32ms/step - loss: 0.4618 - mean_io_u_3: 0.4088 - val_loss: 0.6352 - val_mean_io_u_3: 0.4133\n",
            "Epoch 3/10\n",
            "20/20 [==============================] - 1s 33ms/step - loss: 0.5314 - mean_io_u_3: 0.4110 - val_loss: 0.6320 - val_mean_io_u_3: 0.4098\n",
            "Epoch 4/10\n",
            "20/20 [==============================] - 1s 32ms/step - loss: 0.4695 - mean_io_u_3: 0.4112 - val_loss: 0.6484 - val_mean_io_u_3: 0.4114\n",
            "Epoch 5/10\n",
            "20/20 [==============================] - 1s 33ms/step - loss: 0.4850 - mean_io_u_3: 0.4124 - val_loss: 0.5225 - val_mean_io_u_3: 0.4121\n",
            "Epoch 6/10\n",
            "20/20 [==============================] - 1s 32ms/step - loss: 0.5131 - mean_io_u_3: 0.4112 - val_loss: 0.4445 - val_mean_io_u_3: 0.4114\n",
            "Epoch 7/10\n",
            "20/20 [==============================] - 1s 31ms/step - loss: 0.5267 - mean_io_u_3: 0.4117 - val_loss: 0.5773 - val_mean_io_u_3: 0.4102\n",
            "Epoch 8/10\n",
            "20/20 [==============================] - 1s 32ms/step - loss: 0.3932 - mean_io_u_3: 0.4119 - val_loss: 0.8463 - val_mean_io_u_3: 0.4128\n",
            "Epoch 9/10\n",
            "20/20 [==============================] - 1s 31ms/step - loss: 0.5316 - mean_io_u_3: 0.4114 - val_loss: 0.7062 - val_mean_io_u_3: 0.4119\n",
            "Epoch 10/10\n",
            "20/20 [==============================] - 1s 31ms/step - loss: 0.5132 - mean_io_u_3: 0.4112 - val_loss: 0.4501 - val_mean_io_u_3: 0.4115\n"
          ],
          "name": "stdout"
        }
      ]
    },
    {
      "cell_type": "markdown",
      "metadata": {
        "_cell_guid": "6e12a9f1-279f-4031-b8c5-4f825f84cc13",
        "_uuid": "168a4d55c79c92cd17a398cff13876fb0b32cdbf",
        "colab_type": "text",
        "id": "yVL4QV9wc3RP"
      },
      "source": [
        "### *Prediciendo*"
      ]
    },
    {
      "cell_type": "markdown",
      "metadata": {
        "colab_type": "text",
        "id": "jpf_BlKwq-K-"
      },
      "source": [
        "Vamos a ver como quedarían algunas de las muestras de validación. Para ello repite lo que has hecho arriba y coge el 20% final de X_train."
      ]
    },
    {
      "cell_type": "code",
      "metadata": {
        "_cell_guid": "ef72a295-7187-41d6-9ecf-c5ee201f000d",
        "_uuid": "f9b92b3ce2079288fe8a2ed75f3c8679ee93113f",
        "colab_type": "code",
        "id": "E4VmqxX2c3RP",
        "colab": {
          "base_uri": "https://localhost:8080/",
          "height": 909
        },
        "outputId": "14b9f621-458a-4583-ce4e-e5e54e33af2e"
      },
      "source": [
        "# Predecir en train y en validación\n",
        "\n",
        "# 1) creo la predicción\n",
        "preds_val = model.predict(X_train[int(X_train.shape[0]*0.8):], verbose=1)\n",
        "ix = random.randint(0, len(preds_val))\n",
        "\n",
        "# 2) Pinto una de las imagenes originales sobre las que he\n",
        "#    hecho la precicción  \n",
        "imshow(X_train[int(X_train.shape[0]*0.8):][ix])\n",
        "plt.show()\n",
        "\n",
        "# 3) Pinto la mascara original\n",
        "imshow(np.squeeze(Y_train[int(Y_train.shape[0]*0.8):][ix]))\n",
        "plt.show()\n",
        "\n",
        "# 4) Pinto la mascara que he predicho\n",
        "#    (Intento hacer que se parezca a la mascara original:\n",
        "#     - normalizo su valor, para que el máximo valor de cada pixel sea 1\n",
        "#     - los pixeles con valor mayor a 0.5 son blancos\n",
        "#     - los pixeles con valor menor a 0.5 son negros)\n",
        "\n",
        "imshow(np.squeeze(preds_val[ix]) / np.squeeze(preds_val[ix]).max() < 0.5)\n",
        "plt.show()"
      ],
      "execution_count": 118,
      "outputs": [
        {
          "output_type": "stream",
          "text": [
            "\r5/5 [==============================] - 0s 3ms/step\n"
          ],
          "name": "stdout"
        },
        {
          "output_type": "stream",
          "text": [
            "/usr/local/lib/python3.6/dist-packages/skimage/io/_plugins/matplotlib_plugin.py:150: UserWarning: Low image data range; displaying image with stretched contrast.\n",
            "  lo, hi, cmap = _get_display_range(image)\n"
          ],
          "name": "stderr"
        },
        {
          "output_type": "display_data",
          "data": {
            "image/png": "[encoded data removed]",
            "text/plain": [
              "<Figure size 432x288 with 2 Axes>"
            ]
          },
          "metadata": {
            "tags": [],
            "needs_background": "light"
          }
        },
        {
          "output_type": "display_data",
          "data": {
            "image/png": "[encoded data removed]",
            "text/plain": [
              "<Figure size 432x288 with 1 Axes>"
            ]
          },
          "metadata": {
            "tags": [],
            "needs_background": "light"
          }
        },
        {
          "output_type": "display_data",
          "data": {
            "image/png": "[encoded data removed]",
            "text/plain": [
              "<Figure size 432x288 with 1 Axes>"
            ]
          },
          "metadata": {
            "tags": [],
            "needs_background": "light"
          }
        }
      ]
    }
  ]
}