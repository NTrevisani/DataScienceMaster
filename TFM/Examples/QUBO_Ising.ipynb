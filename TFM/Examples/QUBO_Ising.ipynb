{
 "cells": [
  {
   "cell_type": "markdown",
   "metadata": {},
   "source": [
    "$\\newcommand{\\ket}[1]{\\left|#1\\right>}$\n",
    "\n",
    "$\\newcommand{\\bra}[1]{\\left<#1\\right|}$\n",
    "\n",
    "$\\newcommand{\\braket}[2]{\\left<#1 | #2\\right>}$"
   ]
  },
  {
   "cell_type": "markdown",
   "metadata": {},
   "source": [
    "# From QUBO Problems to Ising Hamiltonian\n",
    "\n",
    "QUBO stands for Quadratic Unconstrained Binary Optimization and are a class of problems that may get important benefits from quantum computation.\n",
    "\n",
    "Let's see how they are defined and how to wirte them in a form that is particularly suitable for quantum computers. Everything through an example."
   ]
  },
  {
   "cell_type": "markdown",
   "metadata": {},
   "source": [
    "## A QUBO problem example\n",
    "\n",
    "QUBO problems have this particular name since they are:\n",
    "- quadratic, in the sense that the solution appear at second order;\n",
    "- binary, since each term of the solution can get value 0 or 1.\n",
    "\n",
    "Let's consider the following example: we want to optimize the performance of a team of three individuals, deciding which of them have to stay in the same office in order to get the best possible results.\n",
    "Our main characters are:\n",
    "- a professor;\n",
    "- his student;\n",
    "- the professor's cat.\n",
    "\n",
    "The presence fo each of them gives a contribution to the final result, which we can quantify with a number. <br>\n",
    "So, the professor is very expert at his job and his presence add 10 points to the final result. His student is smart, but not as expert as him, so his presence in the office gives just 5 points. As we can imagine, the cat contribute with 0 points.\n",
    "\n",
    "But we also observe that when the professor and the student are in the office together, they talk about work, enhancing the score by 4 points. We also see that the professor is very happy the see his cat in the office, so that its contribution increses by 2 points when they are together. Unluckily, the student is allergic to cats, so that the presence of the cat and the student together at the same time reduces the efficiency of the team (-12 points).\n",
    "\n",
    "We can summarize the relationship among our characters through the following graph."
   ]
  },
  {
   "cell_type": "markdown",
   "metadata": {},
   "source": [
    "<img src='DAG.png'>"
   ]
  },
  {
   "cell_type": "markdown",
   "metadata": {},
   "source": [
    "Assuming that our solution x has the form:\n",
    "\n",
    "$$ x = \\{ Professor, Student, Cat\\}$$\n",
    "\n",
    "we can write the function associated to the score as:\n",
    "\n",
    "$$ F(x) = 10 x_1 + 5 x_2 + 0 x_3 + 4 x_1 x_2 + 2 x_1 x_3 - 12 x_2 x_3$$\n",
    "\n",
    "where:\n",
    "- $ x_1 \\in \\{ 0,1 \\} $\n",
    "- $ x_2 \\in \\{ 0,1 \\} $\n",
    "- $ x_3 \\in \\{ 0,1 \\} $\n",
    "\n",
    "If we now want to put the problem in a more formal shape, we can introduce the formalism of QUBO problems:\n",
    "\n",
    "$$ F(x) = \\sum_{i,j = 1}^{n} x_i Q_{ij} x_j $$\n",
    "\n",
    "$$ x \\in \\{ 0,1 \\}^n $$\n",
    "\n",
    "where n indicates the number of nodes of the graph (in our case, n = 3) and when $x_i = 0$, the corresponding node is *turned off*, while if $x_i = 1$ it is *turned on*. In this example, a node is turned on/off if the corresponding character is present/absent.\n",
    "\n",
    "$Q$ is the matrix that contains the information about the nodes and arcs of the graph and for our problem, it can be written as:\n",
    "\n",
    "$$ Q = \n",
    "\\begin{bmatrix}\n",
    "    10 &  2 &  1   \\\\\n",
    "     2 &  5 & -6 \\\\\n",
    "     1 & -6 &  0\n",
    "\\end{bmatrix}$$\n",
    "\n",
    "Here, the off-diagonal terms are half the original value, since otherwise we would be counted them twice. This is due to the fact that we consider both the term (i,j) and the term (j,i) of the matrix when we do the actual calculations, as can be easily verified."
   ]
  },
  {
   "cell_type": "markdown",
   "metadata": {},
   "source": [
    "Since this is a small and easy problem, we can find the optimal solution by calculating all the possible global scores and keep the configuration that gives the highest value."
   ]
  },
  {
   "cell_type": "code",
   "execution_count": 1,
   "metadata": {},
   "outputs": [
    {
     "name": "stdout",
     "output_type": "stream",
     "text": [
      "case = [0, 0, 0] score = 0\n",
      "case = [1, 0, 0] score = 10\n",
      "case = [0, 1, 0] score = 5\n",
      "case = [1, 1, 0] score = 19\n",
      "case = [0, 0, 1] score = 0\n",
      "case = [1, 0, 1] score = 12\n",
      "case = [0, 1, 1] score = -7\n",
      "case = [1, 1, 1] score = 9\n",
      "\n",
      "Best solution = [1, 1, 0] cost = 19\n"
     ]
    },
    {
     "data": {
      "image/png": "[encoded data removed]",
      "text/plain": [
       "<Figure size 432x288 with 1 Axes>"
      ]
     },
     "metadata": {},
     "output_type": "display_data"
    }
   ],
   "source": [
    "import numpy as np\n",
    "import networkx as nx\n",
    "\n",
    "# number of characters\n",
    "n = 3\n",
    "\n",
    "# Q matrix definition\n",
    "Q = np.array([[10,  2,  1],\n",
    "              [ 2,  5, -6],\n",
    "              [ 1, -6,  0]])\n",
    "\n",
    "best_cost_brute = 0\n",
    "\n",
    "# computing all possible combinations\n",
    "for b in range(2**n):\n",
    "    x = [int(t) for t in reversed(list(bin(b)[2:].zfill(n)))]\n",
    "    cost = 0\n",
    "    for i in range(n):\n",
    "        for j in range(n):\n",
    "            cost = cost + Q[i,j]*x[i]*x[j]\n",
    "    if best_cost_brute < cost:\n",
    "        best_cost_brute = cost\n",
    "        xbest_brute = x \n",
    "    print('case = ' + str(x)+ ' score = ' + str(cost))\n",
    "\n",
    "# Showing results    \n",
    "colors = ['r' if xbest_brute[i] == 0 else 'b' for i in range(n)]\n",
    "G = nx.gnm_random_graph(n = n,m = n, seed = 1)\n",
    "nx.draw_networkx(G, node_color=colors)\n",
    "print('\\nBest solution = ' + str(xbest_brute) + ' cost = ' + str(best_cost_brute))  "
   ]
  },
  {
   "cell_type": "markdown",
   "metadata": {},
   "source": [
    "So we see that the cat should be excluded from the office :("
   ]
  },
  {
   "cell_type": "markdown",
   "metadata": {},
   "source": [
    "## The Ising Formalism"
   ]
  },
  {
   "cell_type": "markdown",
   "metadata": {},
   "source": [
    "The former approach to solve our QUBO problem fits examples with small n. \n",
    "In general, due to the huge computational resources needed to find the best configuration, we would like to find a more efficient algorithm.\n",
    "Additionally, the formalism used so far is well designed if we work with a classical computer, where bits can get values 0 or 1.\n",
    "\n",
    "If we want to exploit the potential of quantum computing, we have to re-write the problem such that it can be efficiently encoded in terms of qbits, which can be in any state like:\n",
    "\n",
    "$\\ket{\\psi} = \\alpha \\ket{0} + \\beta \\ket{1}$\n",
    "\n",
    "where $\\alpha$ and $\\beta$ are complex coefficients that satisfy the relation:\n",
    "\n",
    "$ |\\alpha|^2 + |\\beta|^2 = 1 $"
   ]
  },
  {
   "cell_type": "markdown",
   "metadata": {},
   "source": [
    "We state that the Ising formalism allows to get the same solution as the QUBO formalism, but fullfulling our goal of having a qbit-friendly way of writing our problem.\n",
    "\n",
    "To get our problem written in the Ising formalism, we can follow a series of steps:\n",
    "- take the orignal score function: $ F(x) = 10 x_1 + 5 x_2 + 0 x_3 + 4 x_1 x_2 + 2 x_1 x_3 - 12 x_2 x_3$\n",
    "- replace the $x_i$ with:\n",
    "    $x_i \\rightarrow \n",
    "    \\dfrac{1}{2}\n",
    "    \\left[\n",
    "    \\mathbb{1} + \n",
    "    \\begin{bmatrix}\n",
    "    1 &  0 \\\\\n",
    "    0 & -1\n",
    "    \\end{bmatrix}\n",
    "    \\right] = \n",
    "    \\begin{bmatrix}\n",
    "    1 & 0 \\\\\n",
    "    0 & 0\n",
    "    \\end{bmatrix}\n",
    "    $ <br>\n",
    "    where the operator acts only on the corresponding states and has the following properties:\n",
    "    - $ \\begin{bmatrix}\n",
    "        1 & 0 \\\\\n",
    "        0 & 0\n",
    "        \\end{bmatrix}\n",
    "        \\begin{bmatrix}\n",
    "        1 \\\\\n",
    "        0\n",
    "        \\end{bmatrix} = \n",
    "        1 \\cdot\n",
    "        \\begin{bmatrix}\n",
    "        1 \\\\\n",
    "        0\n",
    "        \\end{bmatrix}$.\n",
    "        This means that $x_i = 1 \\rightarrow         \n",
    "        \\begin{bmatrix}\n",
    "        1 \\\\\n",
    "        0\n",
    "        \\end{bmatrix} = \\ket{1}$\n",
    "    - $ \\begin{bmatrix}\n",
    "        1 & 0 \\\\\n",
    "        0 & 0\n",
    "        \\end{bmatrix}\n",
    "        \\begin{bmatrix}\n",
    "        0 \\\\\n",
    "        1\n",
    "        \\end{bmatrix} = \n",
    "        0 \\cdot\n",
    "        \\begin{bmatrix}\n",
    "        0 \\\\\n",
    "        1\n",
    "        \\end{bmatrix}$.\n",
    "        This means that $x_i = 0 \\rightarrow         \n",
    "        \\begin{bmatrix}\n",
    "        0 \\\\\n",
    "        1\n",
    "        \\end{bmatrix} = \\ket{0}$\n",
    "- to check that the two approaches are equivalent, compute the Hamiltonian expectation value for all the possible combination of states of the qbits involved.    "
   ]
  },
  {
   "cell_type": "markdown",
   "metadata": {},
   "source": [
    "### Verify with our example\n",
    "\n",
    "To check that our statement is correct, let's try and find the Ising Hamiltonian for our problem.\n",
    "Following the steps we listed above:\n",
    "\n",
    "$$ F(x) = 10 x_1 + 5 x_2 + 0 x_3 + 4 x_1 x_2 + 2 x_1 x_3 - 12 x_2 x_3 $$\n",
    "\n",
    "is equivalent to:\n",
    "\n",
    "$$ H_f = 10 \\cdot \\begin{bmatrix}\n",
    "                  1 & 0 \\\\\n",
    "                  0 & 0\n",
    "                  \\end{bmatrix}_1 + \n",
    "          5 \\cdot \\begin{bmatrix}\n",
    "                  1 & 0 \\\\\n",
    "                  0 & 0\n",
    "                  \\end{bmatrix}_2 + \n",
    "          0 \\cdot \\begin{bmatrix}\n",
    "                  1 & 0 \\\\\n",
    "                  0 & 0\n",
    "                  \\end{bmatrix}_3 + \n",
    "          4 \\cdot \\begin{bmatrix}\n",
    "                  1 & 0 \\\\\n",
    "                  0 & 0\n",
    "                  \\end{bmatrix}_1\n",
    "                  \\begin{bmatrix}\n",
    "                  1 & 0 \\\\\n",
    "                  0 & 0\n",
    "                  \\end{bmatrix}_2 + \n",
    "          2 \\cdot \\begin{bmatrix}\n",
    "                  1 & 0 \\\\\n",
    "                  0 & 0\n",
    "                  \\end{bmatrix}_1\n",
    "                  \\begin{bmatrix}\n",
    "                  1 & 0 \\\\\n",
    "                  0 & 0\n",
    "                  \\end{bmatrix}_3 + \\\\ -\n",
    "         12 \\cdot \\begin{bmatrix}\n",
    "                  1 & 0 \\\\\n",
    "                  0 & 0\n",
    "                  \\end{bmatrix}_2\n",
    "                  \\begin{bmatrix}\n",
    "                  1 & 0 \\\\\n",
    "                  0 & 0\n",
    "                  \\end{bmatrix}_3 $$"
   ]
  },
  {
   "cell_type": "markdown",
   "metadata": {},
   "source": [
    "where the subscript under each matrix indicates on which qbit it acts on.\n",
    "\n",
    "Now, to check if this expression is equivalent to the one defined above, we compute all the expected values. "
   ]
  },
  {
   "cell_type": "markdown",
   "metadata": {},
   "source": [
    "$\\bra{000} H_f \\ket{000} = 10 \\cdot 0 + 5 \\cdot 0 + 0 \\cdot 0 + 4 \\cdot 0 \\cdot 0 + 2 \\cdot 0 \\cdot 0 -12 \\cdot 0 \\cdot 0 = 0$\n",
    "\n",
    "$\\bra{001} H_f \\ket{001} = 10 \\cdot 0 + 5 \\cdot 0 + 0 \\cdot 1 + 4 \\cdot 0 \\cdot 0 + 2 \\cdot 0 \\cdot 1 -12 \\cdot 0 \\cdot 1 = 0$\n",
    "\n",
    "$\\bra{010} H_f \\ket{010} = 10 \\cdot 0 + 5 \\cdot 1 + 0 \\cdot 0 + 4 \\cdot 0 \\cdot 1 + 2 \\cdot 0 \\cdot 0 -12 \\cdot 1 \\cdot 0 = 5$\n",
    "\n",
    "$\\bra{011} H_f \\ket{011} = 10 \\cdot 0 + 5 \\cdot 1 + 0 \\cdot 1 + 4 \\cdot 0 \\cdot 1 + 2 \\cdot 0 \\cdot 1 -12 \\cdot 1 \\cdot 0 = -7$\n",
    "\n",
    "$\\bra{100} H_f \\ket{100} = 10 \\cdot 1 + 5 \\cdot 0 + 0 \\cdot 0 + 4 \\cdot 1 \\cdot 0 + 2 \\cdot 1 \\cdot 0 -12 \\cdot 0 \\cdot 0 = 10$\n",
    "\n",
    "$\\bra{101} H_f \\ket{101} = 10 \\cdot 1 + 5 \\cdot 0 + 1 \\cdot 0 + 4 \\cdot 1 \\cdot 0 + 2 \\cdot 1 \\cdot 1 -12 \\cdot 0 \\cdot 1 = 12$\n",
    "\n",
    "$\\bra{110} H_f \\ket{110} = 10 \\cdot 1 + 5 \\cdot 1 + 0 \\cdot 0 + 4 \\cdot 1 \\cdot 1 + 2 \\cdot 1 \\cdot 0 -12 \\cdot 1 \\cdot 0 = 19$\n",
    "\n",
    "$\\bra{111} H_f \\ket{111} = 10 \\cdot 1 + 5 \\cdot 1 + 0 \\cdot 1 + 4 \\cdot 1 \\cdot 1 + 2 \\cdot 1 \\cdot 1 -12 \\cdot 1 \\cdot 1 = 9$\n"
   ]
  },
  {
   "cell_type": "markdown",
   "metadata": {},
   "source": [
    "## VQE\n",
    "\n",
    "We can use the Ising formulation to solve the problem through a quantum computer, for example by applying the VQE algorithm."
   ]
  },
  {
   "cell_type": "code",
   "execution_count": 9,
   "metadata": {},
   "outputs": [],
   "source": [
    "from qiskit import BasicAer\n",
    "from qiskit.aqua.algorithms import QAOA, NumPyMinimumEigensolver, VQE\n",
    "from qiskit.optimization.algorithms import MinimumEigenOptimizer, RecursiveMinimumEigenOptimizer\n",
    "from qiskit.optimization import QuadraticProgram\n",
    "from qiskit.optimization.converters import QuadraticProgramToIsing"
   ]
  },
  {
   "cell_type": "code",
   "execution_count": 3,
   "metadata": {},
   "outputs": [
    {
     "name": "stdout",
     "output_type": "stream",
     "text": [
      "\\ This file has been generated by DOcplex\n",
      "\\ ENCODING=ISO-8859-1\n",
      "\\Problem name: CPLEX\n",
      "\n",
      "Minimize\n",
      " obj: 10 prof + 5 student + [ 8 prof*student + 4 prof*cat - 24 student*cat ]/2\n",
      "Subject To\n",
      "\n",
      "Bounds\n",
      " 0 <= prof <= 1\n",
      " 0 <= student <= 1\n",
      " 0 <= cat <= 1\n",
      "\n",
      "Binaries\n",
      " prof student cat\n",
      "End\n",
      "\n"
     ]
    }
   ],
   "source": [
    "# create a QUBO\n",
    "qubo = QuadraticProgram()\n",
    "qubo.binary_var('prof')\n",
    "qubo.binary_var('student')\n",
    "qubo.binary_var('cat')\n",
    "qubo.minimize(linear=[10,5,0], quadratic={('prof', 'student'): 4, ('prof', 'cat'): 2, ('student', 'cat'): -12})\n",
    "print(qubo.export_as_lp_string())"
   ]
  },
  {
   "cell_type": "code",
   "execution_count": 4,
   "metadata": {},
   "outputs": [
    {
     "name": "stdout",
     "output_type": "stream",
     "text": [
      "offset: 6.0\n",
      "operator:\n",
      "IIZ\t(-6.5+0j)\n",
      "IZI\t(-0.5+0j)\n",
      "IZZ\t(1+0j)\n",
      "ZIZ\t(0.5+0j)\n",
      "ZII\t(2.5+0j)\n",
      "ZZI\t(-3+0j)\n",
      "\n"
     ]
    }
   ],
   "source": [
    "qp2op = QuadraticProgramToIsing()\n",
    "op, offset = qp2op.encode(qubo)\n",
    "print('offset: {}'.format(offset))\n",
    "print('operator:')\n",
    "print(op.print_details())"
   ]
  },
  {
   "cell_type": "code",
   "execution_count": 10,
   "metadata": {},
   "outputs": [
    {
     "ename": "NameError",
     "evalue": "name 'COBYLA' is not defined",
     "output_type": "error",
     "traceback": [
      "\u001b[0;31m---------------------------------------------------------------------------\u001b[0m",
      "\u001b[0;31mNameError\u001b[0m                                 Traceback (most recent call last)",
      "\u001b[0;32m<ipython-input-10-94c90af904c6>\u001b[0m in \u001b[0;36m<module>\u001b[0;34m\u001b[0m\n\u001b[1;32m      5\u001b[0m vqe_mes = VQE(quantum_instance = BasicAer.get_backend('statevector_simulator'),\n\u001b[1;32m      6\u001b[0m               \u001b[0mvar_form\u001b[0m \u001b[0;34m=\u001b[0m \u001b[0mRealAmplitudes\u001b[0m\u001b[0;34m(\u001b[0m\u001b[0;36m3\u001b[0m\u001b[0;34m,\u001b[0m \u001b[0mreps\u001b[0m\u001b[0;34m=\u001b[0m\u001b[0;36m2\u001b[0m\u001b[0;34m)\u001b[0m\u001b[0;34m,\u001b[0m \u001b[0;31m# parametrized circuit to use\u001b[0m\u001b[0;34m\u001b[0m\u001b[0;34m\u001b[0m\u001b[0m\n\u001b[0;32m----> 7\u001b[0;31m               optimizer = COBYLA(maxiter=200))      # classical optimizer\n\u001b[0m\u001b[1;32m      8\u001b[0m \u001b[0;34m\u001b[0m\u001b[0m\n\u001b[1;32m      9\u001b[0m \u001b[0mexact_mes\u001b[0m \u001b[0;34m=\u001b[0m \u001b[0mNumPyMinimumEigensolver\u001b[0m\u001b[0;34m(\u001b[0m\u001b[0;34m)\u001b[0m\u001b[0;34m\u001b[0m\u001b[0;34m\u001b[0m\u001b[0m\n",
      "\u001b[0;31mNameError\u001b[0m: name 'COBYLA' is not defined"
     ]
    }
   ],
   "source": [
    "from qiskit.circuit.library import RealAmplitudes\n",
    "\n",
    "qaoa_mes = QAOA(quantum_instance = BasicAer.get_backend('statevector_simulator'))\n",
    "\n",
    "vqe_mes = VQE(quantum_instance = BasicAer.get_backend('statevector_simulator'),\n",
    "              var_form = RealAmplitudes(3, reps=2), # parametrized circuit to use \n",
    "              optimizer = COBYLA(maxiter=200))      # classical optimizer\n",
    "\n",
    "exact_mes = NumPyMinimumEigensolver()"
   ]
  },
  {
   "cell_type": "code",
   "execution_count": 7,
   "metadata": {},
   "outputs": [
    {
     "ename": "NameError",
     "evalue": "name 'vqe_mes' is not defined",
     "output_type": "error",
     "traceback": [
      "\u001b[0;31m---------------------------------------------------------------------------\u001b[0m",
      "\u001b[0;31mNameError\u001b[0m                                 Traceback (most recent call last)",
      "\u001b[0;32m<ipython-input-7-671534b6f58a>\u001b[0m in \u001b[0;36m<module>\u001b[0;34m\u001b[0m\n\u001b[1;32m      1\u001b[0m \u001b[0mqaoa\u001b[0m \u001b[0;34m=\u001b[0m \u001b[0mMinimumEigenOptimizer\u001b[0m\u001b[0;34m(\u001b[0m\u001b[0mqaoa_mes\u001b[0m\u001b[0;34m)\u001b[0m   \u001b[0;31m# using QAOA\u001b[0m\u001b[0;34m\u001b[0m\u001b[0;34m\u001b[0m\u001b[0m\n\u001b[0;32m----> 2\u001b[0;31m \u001b[0mvqe\u001b[0m \u001b[0;34m=\u001b[0m \u001b[0mMinimumEigenOptimizer\u001b[0m\u001b[0;34m(\u001b[0m\u001b[0mvqe_mes\u001b[0m\u001b[0;34m)\u001b[0m   \u001b[0;31m# using VQE\u001b[0m\u001b[0;34m\u001b[0m\u001b[0;34m\u001b[0m\u001b[0m\n\u001b[0m\u001b[1;32m      3\u001b[0m \u001b[0mexact\u001b[0m \u001b[0;34m=\u001b[0m \u001b[0mMinimumEigenOptimizer\u001b[0m\u001b[0;34m(\u001b[0m\u001b[0mexact_mes\u001b[0m\u001b[0;34m)\u001b[0m  \u001b[0;31m# using the exact classical numpy minimum eigen solver\u001b[0m\u001b[0;34m\u001b[0m\u001b[0;34m\u001b[0m\u001b[0m\n",
      "\u001b[0;31mNameError\u001b[0m: name 'vqe_mes' is not defined"
     ]
    }
   ],
   "source": [
    "qaoa = MinimumEigenOptimizer(qaoa_mes)   # using QAOA\n",
    "vqe = MinimumEigenOptimizer(vqe_mes)   # using VQE\n",
    "exact = MinimumEigenOptimizer(exact_mes)  # using the exact classical numpy minimum eigen solver"
   ]
  },
  {
   "cell_type": "code",
   "execution_count": 8,
   "metadata": {},
   "outputs": [
    {
     "ename": "NameError",
     "evalue": "name 'exact' is not defined",
     "output_type": "error",
     "traceback": [
      "\u001b[0;31m---------------------------------------------------------------------------\u001b[0m",
      "\u001b[0;31mNameError\u001b[0m                                 Traceback (most recent call last)",
      "\u001b[0;32m<ipython-input-8-65885f9e028a>\u001b[0m in \u001b[0;36m<module>\u001b[0;34m\u001b[0m\n\u001b[0;32m----> 1\u001b[0;31m \u001b[0mexact_result\u001b[0m \u001b[0;34m=\u001b[0m \u001b[0mexact\u001b[0m\u001b[0;34m.\u001b[0m\u001b[0msolve\u001b[0m\u001b[0;34m(\u001b[0m\u001b[0mqubo\u001b[0m\u001b[0;34m)\u001b[0m\u001b[0;34m\u001b[0m\u001b[0;34m\u001b[0m\u001b[0m\n\u001b[0m\u001b[1;32m      2\u001b[0m \u001b[0mprint\u001b[0m\u001b[0;34m(\u001b[0m\u001b[0mexact_result\u001b[0m\u001b[0;34m)\u001b[0m\u001b[0;34m\u001b[0m\u001b[0;34m\u001b[0m\u001b[0m\n",
      "\u001b[0;31mNameError\u001b[0m: name 'exact' is not defined"
     ]
    }
   ],
   "source": [
    "exact_result = exact.solve(qubo)\n",
    "print(exact_result)"
   ]
  },
  {
   "cell_type": "code",
   "execution_count": null,
   "metadata": {},
   "outputs": [],
   "source": [
    "qaoa_result = qaoa.solve(qubo)\n",
    "print(qaoa_result)"
   ]
  },
  {
   "cell_type": "code",
   "execution_count": 6,
   "metadata": {},
   "outputs": [
    {
     "ename": "NameError",
     "evalue": "name 'vqe' is not defined",
     "output_type": "error",
     "traceback": [
      "\u001b[0;31m---------------------------------------------------------------------------\u001b[0m",
      "\u001b[0;31mNameError\u001b[0m                                 Traceback (most recent call last)",
      "\u001b[0;32m<ipython-input-6-a5ea445b4440>\u001b[0m in \u001b[0;36m<module>\u001b[0;34m\u001b[0m\n\u001b[0;32m----> 1\u001b[0;31m \u001b[0mvqe_result\u001b[0m \u001b[0;34m=\u001b[0m \u001b[0mvqe\u001b[0m\u001b[0;34m.\u001b[0m\u001b[0msolve\u001b[0m\u001b[0;34m(\u001b[0m\u001b[0mqubo\u001b[0m\u001b[0;34m)\u001b[0m\u001b[0;34m\u001b[0m\u001b[0;34m\u001b[0m\u001b[0m\n\u001b[0m\u001b[1;32m      2\u001b[0m \u001b[0mprint\u001b[0m\u001b[0;34m(\u001b[0m\u001b[0mvqe_result\u001b[0m\u001b[0;34m)\u001b[0m\u001b[0;34m\u001b[0m\u001b[0;34m\u001b[0m\u001b[0m\n",
      "\u001b[0;31mNameError\u001b[0m: name 'vqe' is not defined"
     ]
    }
   ],
   "source": [
    "vqe_result = vqe.solve(qubo)\n",
    "print(vqe_result)"
   ]
  },
  {
   "cell_type": "code",
   "execution_count": null,
   "metadata": {},
   "outputs": [],
   "source": []
  },
  {
   "cell_type": "code",
   "execution_count": null,
   "metadata": {},
   "outputs": [],
   "source": []
  },
  {
   "cell_type": "code",
   "execution_count": null,
   "metadata": {},
   "outputs": [],
   "source": []
  }
 ],
 "metadata": {
  "kernelspec": {
   "display_name": "Python 2",
   "language": "python",
   "name": "python2"
  },
  "language_info": {
   "codemirror_mode": {
    "name": "ipython",
    "version": 3
   },
   "file_extension": ".py",
   "mimetype": "text/x-python",
   "name": "python",
   "nbconvert_exporter": "python",
   "pygments_lexer": "ipython3",
   "version": "3.8.1"
  }
 },
 "nbformat": 4,
 "nbformat_minor": 4
}
