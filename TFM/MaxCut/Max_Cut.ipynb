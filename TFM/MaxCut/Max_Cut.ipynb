{
 "cells": [
  {
   "cell_type": "markdown",
   "metadata": {},
   "source": [
    "$\\newcommand{\\ket}[1]{\\left|#1\\right>}$\n",
    "\n",
    "$\\newcommand{\\bra}[1]{\\left<#1\\right|}$\n",
    "\n",
    "$\\newcommand{\\braket}[2]{\\left<#1 | #2\\right>}$\n",
    "\n",
    "$\\newcommand{\\expectation}[1]{\\left<#1\\right>}$"
   ]
  },
  {
   "cell_type": "markdown",
   "metadata": {},
   "source": [
    "# The Max Cut Problem\n",
    "\n",
    "#### References\n",
    "Qiskit Max Cut tutorial: https://qiskit.org/textbook/ch-applications/qaoa.html <br>\n",
    "Qiskit VQE tutorial: https://qiskit.org/textbook/ch-applications/vqe-molecules.html <br>\n",
    "Wikipedia: https://en.wikipedia.org/wiki/Maximum_cut\n"
   ]
  },
  {
   "cell_type": "code",
   "execution_count": 1,
   "metadata": {},
   "outputs": [],
   "source": [
    "# To import all the functions defined in the notebook\n",
    "from  Functions import *"
   ]
  },
  {
   "cell_type": "markdown",
   "metadata": {},
   "source": [
    "## Problem Definition\n",
    "\n",
    "Let's consider a non-directed graph with $n$ vertices and $m$ edges.\n",
    "\n",
    "The Max Cut problems aim to find the two complementary subsets of vertices such that the number of edges connecting vertices of different subsets is maximal.\n",
    "\n",
    "This can be more easily visualized through an example, so that we can consider a graph G(V,E) with:\n",
    "- n = 5 vertices: $V = \\{V_1, V_2, V_3, V_4, V_5\\}$;\n",
    "- m = 6 edges: $E = \\{(0,1),(0,2),(1,2),(3,2),(3,4),(4,2)\\}$;\n",
    "- as we can see below, the graph is organized so that it recalls the shape of a butterfly.\n",
    "\n",
    "We can use a small piece of code to formalize the graph and show it."
   ]
  },
  {
   "cell_type": "code",
   "execution_count": 1,
   "metadata": {},
   "outputs": [
    {
     "data": {
      "image/png": "[encoded data removed]",
      "text/plain": [
       "<Figure size 432x288 with 1 Axes>"
      ]
     },
     "metadata": {},
     "output_type": "display_data"
    }
   ],
   "source": [
    "# Tools to handle general graphs\n",
    "import networkx as nx\n",
    "\n",
    "import numpy as np\n",
    "import matplotlib.pyplot as plt \n",
    "\n",
    "# Graph parameters \n",
    "n = 5\n",
    "V = np.arange(0,n,1)\n",
    "#   (v1,v2, weight)\n",
    "E = [(0, 1, 1.0),\n",
    "     (0, 2, 1.0),\n",
    "     (1, 2, 1.0),\n",
    "     (3, 2, 1.0),\n",
    "     (3, 4, 1.0),\n",
    "     (4, 2, 1.0)] \n",
    "\n",
    "# Generating the butterfly graph with 5 nodes\n",
    "G = nx.Graph()\n",
    "G.add_nodes_from(V)\n",
    "G.add_weighted_edges_from(E)\n",
    "\n",
    "# Plot the graph\n",
    "colors       = ['r' for node in G.nodes()]\n",
    "default_axes = plt.axes(frameon=True)\n",
    "pos          = nx.spring_layout(G)\n",
    "\n",
    "nx.draw_networkx(G, \n",
    "                 node_color = colors, \n",
    "                 node_size  = 600, \n",
    "                 alpha      = 1, \n",
    "                 ax         = default_axes, \n",
    "                 pos        = pos)"
   ]
  },
  {
   "cell_type": "markdown",
   "metadata": {},
   "source": [
    "This is clearly a combinatorial optimization problem, since in principle we should try all the possible compositions of subsets and count the number of edges connecting vertices of different subsets.\n",
    "\n",
    "We can formalize our problem as a quadratic unconstrained binary optimization problem (QUBO), if we define the two subsets as $V1$ and $V2$ so that:\n",
    "- the vertices in $V1$ get are assigned a value 0: $x_i = 0 ~\\forall~ V_i \\in V1$;\n",
    "- the vertices in $V2$ get are assigned a value 0: $x_i = 1 ~\\forall~ V_i \\in V2$.\n",
    "\n",
    "Additionally, we introduce a weight matrix $w_{ij}$ with:\n",
    "- $w_{ii} = 0$ (a vertex is never connected to itself);\n",
    "- $w_{ij} = 1$ for existing edges;\n",
    "- $w_{ij} = 0$ for if vertex $V_i$ and vertex $V_j$ are not connected by any edge;\n",
    "- $w_{ij} = w_{ji}$.\n",
    "\n",
    "Thanks to this, we can defined a cost function that we would like to maximize:\n",
    "\n",
    "$$ C(\\textbf{x}) = \\sum_{i,j = 1}^n w_{ij} x_i (1 - x_j)$$\n",
    "\n",
    "where we can see that if two vertices belong to the same subset, the contribution to the cost function is 0 (at least one of the two terms $x_i$ or $(1 - x_j)$ is 0), while for vertices belonging to complementary subsets, the contribution is 1. The fact that $x_i$ must be 1 and $x_j$ must be 0, avoids counting twice the same edge.\n",
    "\n",
    "A more general approach may introduce different weights for different edges, so that $w_{ij} \\neq 1$, but always keeping $w_{ij} > 0$."
   ]
  },
  {
   "cell_type": "markdown",
   "metadata": {},
   "source": [
    "## Problem Resolution: Brute Force Approach\n",
    "\n",
    "Independently on the values of the weights, the problem is $NP$, since testing all the possible combinations of subsets $V1$ and $V2$ requires $2^n - 2$ (all the element in $V1$ or all the element in $V2$ are not valid solutions) evaluations of the cost function.\n",
    "This approach is called *brute force* and is strongly inefficient, so that it cannot be used even for not-so-large values of n.\n",
    "\n",
    "We can try and implement such approach in this case and use the results as a cross-check to test alternative ways of solving the problem.\n",
    "\n",
    "In particular, in order to have just one possible solution, we are going to give all the edges weight 1, but the edges connecting to vertes $V_2$, which will have weight 2."
   ]
  },
  {
   "cell_type": "code",
   "execution_count": 2,
   "metadata": {},
   "outputs": [
    {
     "name": "stdout",
     "output_type": "stream",
     "text": [
      "case = [0, 0, 0, 0, 0] score = 0\n",
      "case = [1, 0, 0, 0, 0] score = 3\n",
      "case = [0, 1, 0, 0, 0] score = 3\n",
      "case = [1, 1, 0, 0, 0] score = 4\n",
      "case = [0, 0, 1, 0, 0] score = 8\n",
      "case = [1, 0, 1, 0, 0] score = 7\n",
      "case = [0, 1, 1, 0, 0] score = 7\n",
      "case = [1, 1, 1, 0, 0] score = 4\n",
      "case = [0, 0, 0, 1, 0] score = 3\n",
      "case = [1, 0, 0, 1, 0] score = 6\n",
      "case = [0, 1, 0, 1, 0] score = 6\n",
      "case = [1, 1, 0, 1, 0] score = 7\n",
      "case = [0, 0, 1, 1, 0] score = 7\n",
      "case = [1, 0, 1, 1, 0] score = 6\n",
      "case = [0, 1, 1, 1, 0] score = 6\n",
      "case = [1, 1, 1, 1, 0] score = 3\n",
      "case = [0, 0, 0, 0, 1] score = 3\n",
      "case = [1, 0, 0, 0, 1] score = 6\n",
      "case = [0, 1, 0, 0, 1] score = 6\n",
      "case = [1, 1, 0, 0, 1] score = 7\n",
      "case = [0, 0, 1, 0, 1] score = 7\n",
      "case = [1, 0, 1, 0, 1] score = 6\n",
      "case = [0, 1, 1, 0, 1] score = 6\n",
      "case = [1, 1, 1, 0, 1] score = 3\n",
      "case = [0, 0, 0, 1, 1] score = 4\n",
      "case = [1, 0, 0, 1, 1] score = 7\n",
      "case = [0, 1, 0, 1, 1] score = 7\n",
      "case = [1, 1, 0, 1, 1] score = 8\n",
      "case = [0, 0, 1, 1, 1] score = 4\n",
      "case = [1, 0, 1, 1, 1] score = 3\n",
      "case = [0, 1, 1, 1, 1] score = 3\n",
      "case = [1, 1, 1, 1, 1] score = 0\n",
      "\n",
      "Best solution = [0, 0, 1, 0, 0] cost = 8\n"
     ]
    },
    {
     "data": {
      "image/png": "[encoded data removed]",
      "text/plain": [
       "<Figure size 432x288 with 1 Axes>"
      ]
     },
     "metadata": {},
     "output_type": "display_data"
    }
   ],
   "source": [
    "import numpy as np\n",
    "import networkx as nx\n",
    "\n",
    "# number of characters\n",
    "n = 5\n",
    "\n",
    "# W matrix definition\n",
    "W = np.array([[0, 1, 2, 0, 0],\n",
    "              [1, 0, 2, 0, 0],\n",
    "              [2, 2, 0, 2, 2],\n",
    "              [0, 0, 2, 0, 1],\n",
    "              [0, 0, 2, 1, 0]])\n",
    "\n",
    "best_cost_brute = 0\n",
    "\n",
    "# computing all possible combinations\n",
    "for b in range(2**n):\n",
    "    # x stores all the 2^n possible combinations of 0 and 1\n",
    "    # for a vector of length n \n",
    "    x = [int(t) for t in reversed(list(bin(b)[2:].zfill(n)))]\n",
    "\n",
    "    # initialize cost function value\n",
    "    cost = 0\n",
    "    # scan all possible costs and keep the highest one\n",
    "    # (now we want to maximize our score!)\n",
    "    for i in range(n):\n",
    "        for j in range(n):\n",
    "            cost = cost + W[i,j]*x[i]*(1 - x[j])\n",
    "    if best_cost_brute < cost:\n",
    "        best_cost_brute = cost\n",
    "        xbest_brute = x \n",
    "    print('case = ' + str(x)+ ' score = ' + str(cost))\n",
    "\n",
    "# Showing results    \n",
    "colors = ['r' if xbest_brute[i] == 0 else 'b' for i in range(n)]\n",
    "nx.draw_networkx(G, node_color=colors)\n",
    "print('\\nBest solution = ' + str(xbest_brute) + ' cost = ' + str(best_cost_brute)) "
   ]
  },
  {
   "cell_type": "markdown",
   "metadata": {},
   "source": [
    "As expected by the way we constructed the problem, the highest score is obtained when $V_2$ is alone in one of the two subsets of $V$."
   ]
  },
  {
   "cell_type": "markdown",
   "metadata": {},
   "source": [
    "## Problem Resolution: Ising Hamiltonian\n",
    "\n",
    "If we want to try and solve the problem more efficiently using a quantum computer, the first step consists in transforming it from a QUBO problem to a Ising Hamiltonian. To get the solution of the problem, we will have to find the fundamental state of the Hamiltonian.\n",
    "\n",
    "The result is the same (even if we are now going to look for a minimum, instead of a maximum), but this new formalism better adapts to the dual state that a qbit can assume:\n",
    "\n",
    "$\\ket{\\psi} = \\alpha \\ket{0} + \\beta \\ket{1}$\n",
    "\n",
    "where $\\alpha$ and $\\beta$ are complex coefficients that satisfy the relation:\n",
    "\n",
    "$ |\\alpha|^2 + |\\beta|^2 = 1 $\n"
   ]
  },
  {
   "cell_type": "markdown",
   "metadata": {},
   "source": [
    "To do so, we have to perform some transformations to the original formulation of the problem:\n",
    "- $x_i \\rightarrow \n",
    "    \\dfrac{1}{2}\n",
    "    (\\mathbb{1} + \\sigma_z)_i = \n",
    "    \\dfrac{1}{2}\n",
    "    \\left[\n",
    "    \\mathbb{1} + \n",
    "    \\begin{bmatrix}\n",
    "    1 &  0 \\\\\n",
    "    0 & -1\n",
    "    \\end{bmatrix}\n",
    "    \\right]_i = \n",
    "    \\begin{bmatrix}\n",
    "    1 & 0 \\\\\n",
    "    0 & 0\n",
    "    \\end{bmatrix}_i\n",
    "    $<br>\n",
    "    where the operator acts only on the corresponding states and has the following properties:\n",
    "    - $ \\begin{bmatrix}\n",
    "        1 & 0 \\\\\n",
    "        0 & 0\n",
    "        \\end{bmatrix}\n",
    "        \\begin{bmatrix}\n",
    "        1 \\\\\n",
    "        0\n",
    "        \\end{bmatrix} = \n",
    "        1 \\cdot\n",
    "        \\begin{bmatrix}\n",
    "        1 \\\\\n",
    "        0\n",
    "        \\end{bmatrix}$ <br>\n",
    "        $\\begin{bmatrix}\n",
    "        1 \\\\\n",
    "        0\n",
    "        \\end{bmatrix}$ is eigenvector of \n",
    "        $\\begin{bmatrix}\n",
    "        1 & 0 \\\\\n",
    "        0 & 0\n",
    "        \\end{bmatrix}$\n",
    "        with eigenvalue 1. <br>\n",
    "        This means that $x_i = 1 \\rightarrow         \n",
    "        \\begin{bmatrix}\n",
    "        1 \\\\\n",
    "        0\n",
    "        \\end{bmatrix} = \\ket{1}$\n",
    "    - $ \\begin{bmatrix}\n",
    "        1 & 0 \\\\\n",
    "        0 & 0\n",
    "        \\end{bmatrix}\n",
    "        \\begin{bmatrix}\n",
    "        0 \\\\\n",
    "        1\n",
    "        \\end{bmatrix} = \n",
    "        0 \\cdot\n",
    "        \\begin{bmatrix}\n",
    "        0 \\\\\n",
    "        1\n",
    "        \\end{bmatrix}$ <br>\n",
    "        $\\begin{bmatrix}\n",
    "        0 \\\\\n",
    "        1\n",
    "        \\end{bmatrix}$ is eigenvector of \n",
    "        $\\begin{bmatrix}\n",
    "        1 & 0 \\\\\n",
    "        0 & 0\n",
    "        \\end{bmatrix}$\n",
    "        with eigenvalue 0. <br>\n",
    "        This means that $x_i = 0 \\rightarrow         \n",
    "        \\begin{bmatrix}\n",
    "        0 \\\\\n",
    "        1\n",
    "        \\end{bmatrix} = \\ket{0}$"
   ]
  },
  {
   "cell_type": "markdown",
   "metadata": {},
   "source": [
    "- consequently, we will replace:\n",
    "$(1 - x_i) \\rightarrow \n",
    "    \\left[\n",
    "    \\mathbb{1} -     \n",
    "    \\begin{bmatrix}\n",
    "    1 & 0 \\\\\n",
    "    0 & 0\n",
    "    \\end{bmatrix}\n",
    "    \\right]_i = \n",
    "    \\begin{bmatrix}\n",
    "    0 & 0 \\\\\n",
    "    0 & 1\n",
    "    \\end{bmatrix}_i$"
   ]
  },
  {
   "cell_type": "markdown",
   "metadata": {},
   "source": [
    "- for every entry of the original $n x n$ QUBO matrix, take the entry $(i,j)$ and multiply it by the tensor product from $1$ to $n$ of $2 x 2$ identities, with the excpetion of the $i$-th and $j$-th terms of the product, which are the $2 x 2$ matrices corresponding to $x_i$ and $(1 - x_j)$. The sum of all these products is a diagonal $2^n x 2^n$ matrix, whose entries are the expectation values obtained with the *brute force* algorithm and corresponds to the Ising Hamiltonian associated to the problem. "
   ]
  },
  {
   "cell_type": "markdown",
   "metadata": {},
   "source": [
    "Since the process of converting a QUBO problem is not straightforward, let's make it clearer by doing it for the current problem, using a simple function."
   ]
  },
  {
   "cell_type": "code",
   "execution_count": 3,
   "metadata": {},
   "outputs": [],
   "source": [
    "# Define the 2x2 matrices we need\n",
    "\n",
    "# (1 + pauli_z)/2\n",
    "sigma_z = np.array([[1, 0], [0, 0]])\n",
    "\n",
    "# (1 - sigma_z)\n",
    "minus_z = np.array([[0, 0], [0, 1]])\n",
    "\n",
    "# Identity\n",
    "id_matrix = np.array([[1, 0], [0, 1]])"
   ]
  },
  {
   "cell_type": "code",
   "execution_count": 4,
   "metadata": {},
   "outputs": [],
   "source": [
    "# The actual function\n",
    "def qubo_to_ising(input_Q):\n",
    "    n = len(input_Q)\n",
    "    print(\"input:\")\n",
    "    print(input_Q)\n",
    "    print(\"\")\n",
    "    \n",
    "    # initialize H\n",
    "    H = 0\n",
    "\n",
    "    # compute the contribution of the i,j term to the Hamiltonian\n",
    "    # i = left-side term = x_i (corresponds to sigma_z)\n",
    "    for i in range(n):\n",
    "        # j = right-side term = (1 - x_j) (corresponds to minus_z)\n",
    "        for j in range(n):            \n",
    "            # first term\n",
    "            matrix_ij = 0\n",
    "            if i == 0:\n",
    "                matrix_ij = sigma_z\n",
    "            elif j == 0:\n",
    "                matrix_ij = minus_z\n",
    "            else:\n",
    "                matrix_ij = id_matrix\n",
    "            \n",
    "            # tensor product n times\n",
    "            for k in range(1,n):\n",
    "                if i == k:\n",
    "                    new_term = sigma_z\n",
    "                elif j == k:\n",
    "                    new_term = minus_z\n",
    "                else:\n",
    "                    new_term = id_matrix                \n",
    "                matrix_ij = np.kron(matrix_ij, new_term)\n",
    "\n",
    "            # multiply by the i,j term of input_Q \n",
    "            matrix_ij = matrix_ij * input_Q[i,j]\n",
    "            \n",
    "            # sum\n",
    "            H = H + matrix_ij\n",
    "    \n",
    "    return(-H) "
   ]
  },
  {
   "cell_type": "code",
   "execution_count": 5,
   "metadata": {},
   "outputs": [
    {
     "name": "stdout",
     "output_type": "stream",
     "text": [
      "input:\n",
      "[[0 1 2 0 0]\n",
      " [1 0 2 0 0]\n",
      " [2 2 0 2 2]\n",
      " [0 0 2 0 1]\n",
      " [0 0 2 1 0]]\n",
      "\n",
      "Ising Hamiltonian dimensions:(32, 32)\n",
      "\n",
      "Ising eigenvalues:\n",
      "[0, -3, -3, -4, -8, -7, -7, -4, -3, -6, -6, -7, -7, -6, -6, -3, -3, -6, -6, -7, -7, -6, -6, -3, -4, -7, -7, -8, -4, -3, -3, 0]\n"
     ]
    }
   ],
   "source": [
    "# Translate our QUBO matrix to a Ising Hamiltonian\n",
    "H = qubo_to_ising(W)\n",
    "\n",
    "print('Ising Hamiltonian dimensions:' + str(H.shape))\n",
    "print(\"\")\n",
    "\n",
    "# Check eigenvalues\n",
    "print(\"Ising eigenvalues:\")\n",
    "eigenvalues = []\n",
    "for i in range(len(H)):\n",
    "    eigenvalues.append(H[i,i])\n",
    "print(eigenvalues)    "
   ]
  },
  {
   "cell_type": "markdown",
   "metadata": {},
   "source": [
    "## Problem Resolution: Variational Quantum Eigensolver (VQE)\n",
    "\n",
    "We have seen that the Ising formulation is equivalent to the standard QUBO formulation of optimization problem and we state that it is more suited the resolution on a quantum computer. On the other hand, we still need $2^n$ evaluations of the Hamiltonian if we want to find the optimal solution.\n",
    "\n",
    "One possible way to exploit quantum computers to try and solve optimization problems more efficiently is through the so-called Variational Quantum Eigensolver (VQE) algorithm.\n",
    "\n",
    "It exploits the rapidity of a quantum computer in evaluating the cost function for a given quantum state $\\ket{\\psi}$ and associates it with a classical optimizer that helps in finding the optimal one."
   ]
  },
  {
   "cell_type": "markdown",
   "metadata": {},
   "source": [
    "### VQE: basic concepts\n",
    "\n",
    "To uderstand the idea behind VQE, we start by introducing the concepts of eigenvalue and eigenvector (or eigenstate), defined through the following relation:\n",
    "\n",
    "$$ H \\ket{\\psi_i} = \\lambda_i \\ket{\\psi_i}$$\n",
    "\n",
    "where $H$ is the matrix describing the Hamiltonian, $\\lambda_i$ is a eigenvalue and $\\ket{\\psi_i}$ is a eigenvector.\n",
    "In our case, the Hamiltonian $H$ is described by a diagonal matrix and the eigenvalues correspond to its diagonal entries and the eigenstates are the vectors:\n",
    "\n",
    "$$ \\ket{\\psi_i} = \\{ \\ket{00000}, \\ket{00001}, \\ket{00010}, \\ket{00011}, ...\\} $$\n",
    "\n",
    "This follows from the fact that in quantum mechanics, the outcome of a measurement can give only a discrete set of results. In particular, this set of results corresponds to the eigenvalues of the Hamiltonian $H$ describing the quantum system that we are measuring and each eigenvalue is associated to one eigenvector, or eigenstate of the system. \n",
    "\n",
    "The eigenvectors represent a basis of the space of the possible states of the quantum system, so that a general state $\\psi$ can be written as:\n",
    "\n",
    "$$ \\ket{\\psi} = \\sum_i^N \\alpha_i \\ket{\\psi_i}$$\n",
    "\n",
    "where in our case $N = 2^n$ is the number of eigenvalues and $\\alpha_i$ is the projection of $\\ket{\\psi}$ on the eigenvector $\\ket{\\psi_i}$:\n",
    "\n",
    "$$ \\alpha_i = \\braket{\\psi_i}{\\psi} $$\n",
    "\n",
    "And the Hamiltonian can be expressed as:\n",
    "\n",
    "$$ H = \\sum_i^{N} \\lambda_i \\ket{\\psi_i} \\bra{\\psi_i}$$\n",
    "\n",
    "The solution of our problem is the eigenvector associated to the smallest eigenvalue (let's call them $\\lambda_{min}$ and $\\ket{\\psi_{min}}$). \n",
    "In general, the outcome of a measurement (or expectation value) is always larger than the one obtained when the system is in the *fundamental state* $\\ket{\\psi_{min}}$:\n",
    "\n",
    "$$ \\lambda_{min} = \\expectation{\\psi_{min}|H|\\psi_{min}} \\leq\n",
    "\\expectation{\\psi|H|\\psi} = \n",
    "\\bra{\\psi} \\left( \\sum_i^{N} \\lambda_i \\ket{\\psi_i} \\bra{\\psi_i} \\right) \\ket{\\psi} = \n",
    "\\sum_i^{N} \\lambda_i \\braket{\\psi}{\\psi_i} \\braket{\\psi_i}{\\psi} = \n",
    "\\sum_i^{N} \\lambda_i |\\braket{\\psi_i}{\\psi}|^2 $$\n",
    "\n",
    "In other words, a large projection of the current state on the fundamental state, which is our solution, will produce a small expected value.\n",
    "\n",
    "The idea of VQE is to start with a reasonable ansatz for $\\ket{\\psi}$ (which for example is a superposition of all the possible eigenstates) and iteratively changing its eigenstate composition, typically through a series of rotations (we call this *optimization*), until we find the optimal solution or until we are satisfied with how close we are to it."
   ]
  },
  {
   "cell_type": "markdown",
   "metadata": {},
   "source": [
    "### On the expected value\n",
    "\n",
    "It is important at this point make that a single measurement gives only one of the possible results allowed.\n",
    "\n",
    "For example, in our case, if we prepare our state $\\ket{\\psi}$ such that it corresponds to the case (0, 0, 1, 0, 0), we will get, for every measurement, the result $\\lambda_{min} = -8$.\n",
    "In general, keeping in mind the probabilistic nature of quantum mechanics, a state:\n",
    "\n",
    "$$ \\ket{\\psi} = \\sum_i^N \\alpha_i \\ket{\\psi_i} $$\n",
    "\n",
    "will return as result the eigenvalue $\\lambda_i$ with probability $| \\alpha_i|^2$.\n",
    "\n",
    "This means that, for every state $\\ket{\\psi}$ that we consider, several measurements have to be performed in order to have an idea of how *large* or *small* the expected value is.\n",
    "\n",
    "Moreover, in our simple case we know all the eigenvalues of the Hamiltonian, while in general they may be so many that it is not convenient to explicitly get them, since it would correspond to solve the problem by *brute force*, making the optimization algorithm role even more delicate."
   ]
  },
  {
   "cell_type": "markdown",
   "metadata": {},
   "source": [
    "### VQE: Ansatz\n",
    "\n",
    "First of all, when preparing the ansatz for our solution, we have to consider that we will need one qbit for every vertex of our graph. In our case, we will need $n = 5$ qbits.\n",
    "\n",
    "Then, we want our ansatz:\n",
    "- to be able to cover the largest possible number of states $\\rightarrow$ more parameters;\n",
    "- to have a small number of gates: many gates may introduce errors and may make more difficult to converge towards a sensible solution $\\rightarrow$ less parameters.\n",
    "\n",
    "The choice will have to be a trade-off between these two opposite requirements.\n",
    "\n",
    "Among many possible possibilities, the so-called RY ansatz is quite popular and consists of:\n",
    "1. put every qbit in the $\\ket{+} = \\dfrac{\\ket{0} + \\ket{1}}{\\sqrt{2}}$ state through a rotation of $\\frac{\\pi}{2}$ around the y-axis of its Bloch sphere;\n",
    "- connect (or introduce entanglement among) different qbits, for example between pair of qbits;\n",
    "- introduce for each qbit a rotation around the y-axis of its Bloch sphere (RY-gate). The rotation angles are the parameters to be adjusted during the optimization process;\n",
    "- repeat step 2. and 3. for a chosen number of times, keeping in mind that more RY-gates means more parameters for the optimizer.\n",
    "\n",
    "The entanglement between two qbits can be obtained by applying a controlled gate, a gate that applies a transformation on a target qbit only if the control qbit is in the $\\ket{1}$ state.\n",
    "In our case, we will apply controlled z-gates.\n",
    "\n",
    "The RY ansatz is particularly popular since it allows to span a large number of states without introducing any complex phase, thanks to the fact that all the rotations are performed around the y- axis of the Bloch sphere.\n",
    "\n",
    "Let's try and prepare the ansatz for our problem using qiskit."
   ]
  },
  {
   "cell_type": "code",
   "execution_count": 6,
   "metadata": {},
   "outputs": [
    {
     "data": {
      "image/png": "[encoded data removed]",
      "text/plain": [
       "<Figure size 1332.83x385.28 with 1 Axes>"
      ]
     },
     "execution_count": 6,
     "metadata": {},
     "output_type": "execute_result"
    }
   ],
   "source": [
    "from qiskit import QuantumCircuit, QuantumRegister, ClassicalRegister, execute, Aer\n",
    "\n",
    "PI = np.pi\n",
    "\n",
    "# Number of qbits\n",
    "n = 5\n",
    "\n",
    "# Define the Quantum and Classical Registers\n",
    "q = QuantumRegister(n)\n",
    "c = ClassicalRegister(n)\n",
    "\n",
    "# Build the circuit for the ansatz\n",
    "circuit = QuantumCircuit(q, c)\n",
    "\n",
    "# Put all the qbits in the |+> state\n",
    "theta_hadamard = [PI/2,PI/2,PI/2,PI/2,PI/2]\n",
    "for i in range(n):\n",
    "    circuit.ry(theta_hadamard[i],q[i])\n",
    "circuit.barrier()\n",
    "\n",
    "# Apply controlled-z gates (first layer)\n",
    "for i in range(n-1):\n",
    "    circuit.cz(q[i], q[i+1])\n",
    "\n",
    "# Introduce RY-gates (first layer)\n",
    "theta_0 = [0.,0.,0.,0.,0.]\n",
    "for j in range(n):\n",
    "    circuit.ry(theta_0[j],q[j])\n",
    "circuit.barrier()\n",
    "\n",
    "# Apply controlled-z gates (second layer)\n",
    "for i in range(n-1):\n",
    "    circuit.cz(q[i], q[i+1])\n",
    "    \n",
    "# Introduce RY-gates (second layer)\n",
    "theta_1 = [0.,0.,0.,0.,0.]\n",
    "for j in range(n):\n",
    "    circuit.ry(theta_1[j],q[j])\n",
    "circuit.barrier()\n",
    "\n",
    "# Close the circuit with qbits measurements\n",
    "circuit.measure(q, c)\n",
    "\n",
    "# Draw the circuit    \n",
    "circuit.draw(output='mpl')"
   ]
  },
  {
   "cell_type": "code",
   "execution_count": 7,
   "metadata": {},
   "outputs": [
    {
     "name": "stdout",
     "output_type": "stream",
     "text": [
      "{'01010': 38, '10101': 46, '00110': 31, '01110': 29, '00000': 29, '11000': 34, '11001': 36, '11010': 34, '00100': 33, '10011': 21, '10111': 25, '00011': 22, '11100': 31, '10010': 38, '11101': 31, '11111': 41, '00111': 40, '01011': 36, '10001': 33, '10000': 27, '01101': 35, '01111': 33, '00101': 29, '01000': 30, '10110': 31, '11110': 34, '00010': 25, '01001': 28, '00001': 31, '01100': 28, '10100': 30, '11011': 35}\n"
     ]
    }
   ],
   "source": [
    "# Execute the circuit on a simulator\n",
    "job = execute(circuit, \n",
    "              backend = Aer.get_backend('qasm_simulator'), \n",
    "              shots   = 1024)\n",
    "\n",
    "result = job.result()\n",
    "\n",
    "# Print the result\n",
    "print(result.get_counts(circuit))"
   ]
  },
  {
   "cell_type": "code",
   "execution_count": 47,
   "metadata": {},
   "outputs": [
    {
     "data": {
      "image/png": "[encoded data removed]",
      "text/plain": [
       "<Figure size 504x360 with 1 Axes>"
      ]
     },
     "execution_count": 47,
     "metadata": {},
     "output_type": "execute_result"
    }
   ],
   "source": [
    "# Plot the result\n",
    "from qiskit.visualization import plot_histogram\n",
    "\n",
    "plot_histogram(result.get_counts(circuit))"
   ]
  },
  {
   "cell_type": "markdown",
   "metadata": {},
   "source": [
    "### Cost function evaluation\n",
    "\n",
    "So we have been able to prepare a circuit for the ansatz of our optimal solution and we have evaluated it 1024 times, observing that all the possible outcomes are represented almost uniformly.\n",
    "\n",
    "However, if we want to optimize the 15 rotation angles we introduced to obtain the optimal solution, this is not enough: to decide if our current solution is good enough or we need more iterations to tune its paramters, we need to evaluate its cost function.\n",
    "\n",
    "Since we are evaluating many times (1024 in our case) the cost function, we will have many values to deal with and we can choose among different figures of merit to extract a quantitative evaluation of the goodness of the current solution.\n",
    "The more intuitive and naive is the mean value, which we implement here.\n",
    "\n",
    "Using this figure of merit, our best solution will be the one giving the smallest cost function value."
   ]
  },
  {
   "cell_type": "code",
   "execution_count": 48,
   "metadata": {},
   "outputs": [],
   "source": [
    "# Compute the value of the cost function\n",
    "\n",
    "# results: the results dictionary in the outcome of the circuit measurement\n",
    "# weights: the original QUBO matrix\n",
    "def cost_function_C(results, weights):\n",
    "    \n",
    "    # the eigenstates obtained by the evaluation of the circuit\n",
    "    eigenstates = list(results.keys())\n",
    "    \n",
    "    # how many times each eigenstate has been sampled\n",
    "    abundancies = list(results.values())\n",
    "    \n",
    "    # number of shots \n",
    "    shots = sum(results.values())\n",
    "    \n",
    "    # initialize the cost function\n",
    "    cost = 0\n",
    "    \n",
    "    for k in range(len(eigenstates)):\n",
    "        # ndarray of the digits extracted from the eigenstate string \n",
    "        x = np.array([int(num) for num in eigenstates[k]])\n",
    "        # Cost function due to the k-th eigenstate\n",
    "        cost = cost + x.dot(W.dot(1-x)) * abundancies[k]\n",
    "    \n",
    "    return -cost / shots"
   ]
  },
  {
   "cell_type": "code",
   "execution_count": 49,
   "metadata": {},
   "outputs": [
    {
     "name": "stdout",
     "output_type": "stream",
     "text": [
      "-5.0224609375\n"
     ]
    }
   ],
   "source": [
    "# The cost function given by the ansatz \n",
    "ansatz_cost = cost_function_C(result.get_counts(), W)\n",
    "print(ansatz_cost)"
   ]
  },
  {
   "cell_type": "markdown",
   "metadata": {},
   "source": [
    "### Optimizer\n",
    "\n",
    "Now that we have an ansatz and we have defined our cost function, we want to use a classical optimizer to find the rotation angles that we need to obtain the solution of our problem.\n",
    "\n",
    "To do so, we have to define the ansatz as a parametric circuit, where the rotation angles of the RY gates are not given as numbers, but appear only as parameters that can be passed to the function that generates the circuit. \n",
    "\n",
    "This is not the only technical detail we have to consider, since in order to use the classical optimizer as it is defined in scipy libraries (https://docs.scipy.org/doc/scipy/reference/optimize.minimize-cobyla.html), it is a good idea to include the creation and execution of the circuit inside the function that evaluates its cost.\n",
    "\n",
    "Once also this change to the cost function definition is implemented, we can finally call the optimizer to get the angles that rotates our ansatz into the solution of the problem.\n",
    "\n",
    "For this problem, we are using the Constrained optimization by linear approximation (COBYLA), a derivative-free, numerical optimization method used for constrained problem (https://en.wikipedia.org/wiki/COBYLA)."
   ]
  },
  {
   "cell_type": "code",
   "execution_count": 11,
   "metadata": {},
   "outputs": [],
   "source": [
    "# Write the circuit as a parametric function\n",
    "from qiskit import QuantumCircuit, QuantumRegister, ClassicalRegister, execute, Aer\n",
    "\n",
    "def VQE_circuit(theta, n, depth): \n",
    "    \"\"\"Creates a variational-form RY ansatz.\n",
    "    \n",
    "    theta: (depth+1 x n) matrix of rotation angles,\n",
    "    n: number of qbits,\n",
    "    depth: number of layers.\n",
    "    \"\"\"\n",
    "        \n",
    "    if len(theta.ravel()) != ((depth+1) * n):        \n",
    "        raise ValueError(\"Theta cannot be reshaped as a (depth+1 x n) matrix\")\n",
    "\n",
    "    theta.shape = (depth + 1, n)\n",
    "\n",
    "    # Define the Quantum and Classical Registers\n",
    "    q = QuantumRegister(n)\n",
    "    c = ClassicalRegister(n)\n",
    "\n",
    "    # Build the circuit for the ansatz\n",
    "    circuit = QuantumCircuit(q, c)\n",
    "\n",
    "    # Put all the qbits in the |+> state\n",
    "    for i in range(n):\n",
    "        circuit.ry(theta[0,i],q[i])\n",
    "    circuit.barrier()\n",
    "    \n",
    "    # Now introduce the z-gates and RY-gates 'depth' times\n",
    "    for j in range(depth):\n",
    "        # Apply controlled-z gates\n",
    "        for i in range(n-1):\n",
    "            circuit.cz(q[i], q[i+1])\n",
    "\n",
    "        # Introduce RY-gates\n",
    "        for i in range(n):\n",
    "            circuit.ry(theta[j+1,i],q[i])\n",
    "        circuit.barrier()\n",
    "    \n",
    "    # Close the circuit with qbits measurements\n",
    "    circuit.measure(q, c)\n",
    "    \n",
    "    return circuit    "
   ]
  },
  {
   "cell_type": "code",
   "execution_count": 12,
   "metadata": {},
   "outputs": [
    {
     "data": {
      "image/png": "[encoded data removed]",
      "text/plain": [
       "<Figure size 1332.83x385.28 with 1 Axes>"
      ]
     },
     "execution_count": 12,
     "metadata": {},
     "output_type": "execute_result"
    }
   ],
   "source": [
    "# Draw an example circuit\n",
    "theta = np.array([[PI/2,PI/2,PI/2,PI/2,PI/2],\n",
    "                  [0.,0.,0.,0.,0.,],\n",
    "                  [0.,0.,0.,0.,0.,]])\n",
    "\n",
    "n_qbits = 5 \n",
    "depth   = 2\n",
    "\n",
    "VQE_circuit(theta, 5, 2).draw(output = 'mpl')"
   ]
  },
  {
   "cell_type": "code",
   "execution_count": 13,
   "metadata": {},
   "outputs": [],
   "source": [
    "# Include the creation and execution of the circuit inside the function\n",
    "# that computes the value of its cost\n",
    "\n",
    "# In case you want to use a real quantum device as backend\n",
    "from qiskit import IBMQ\n",
    "\n",
    "def cost_function_cobyla(params, \n",
    "                         weights,   # = W, \n",
    "                         n_qbits,   # = 5, \n",
    "                         depth,     # = 2,\n",
    "                         shots,     # = 1024\n",
    "                         backend_name = 'qasm_simulator',\n",
    "                         verbosity    = False):\n",
    "    \"\"\"Creates a circuit, executes it and computes the cost function.\n",
    "    \n",
    "    params: ndarray with the values of the parameters to be optimized,\n",
    "    weights: the original QUBO matrix of the problem,\n",
    "    n_qbits: number of qbits of the circuit,\n",
    "    depth: number of layers of the ciruit,\n",
    "    shots: number of evaluations of the circuit state,\n",
    "    verbosity: activate/desactivate some control printouts.\n",
    "    \n",
    "    The function calls 'VQE_circuit' to create the circuit, then\n",
    "    evaluates it and compute the cost function.\n",
    "    \"\"\"\n",
    "    \n",
    "    if (verbosity == True):\n",
    "        print(\"Arguments:\")\n",
    "        print(\"params  = \\n\", params)\n",
    "        print(\"weights = \\n\", weights)\n",
    "        print(\"qbits   = \", n_qbits)\n",
    "        print(\"depth   = \", depth)\n",
    "        print(\"shots   = \", shots)\n",
    "        print(\"backend = \", backend_name)\n",
    "    \n",
    "    circuit = VQE_circuit(params, n_qbits, depth)\n",
    "    circuit.draw(output = \"mpl\")\n",
    "    \n",
    "    if backend_name == 'qasm_simulator':\n",
    "        backend = Aer.get_backend('qasm_simulator')\n",
    "    else:\n",
    "        provider = IBMQ.load_account()\n",
    "        backend = provider.get_backend(backend_name)\n",
    "    \n",
    "    # Execute the circuit on a simulator\n",
    "    job = execute(circuit, \n",
    "                  backend = backend, \n",
    "                  shots   = shots)\n",
    "    results = job.result()\n",
    "    \n",
    "    # the eigenstates obtained by the evaluation of the circuit\n",
    "    eigenstates = list(results.get_counts().keys())\n",
    "    \n",
    "    # how many times each eigenstate has been sampled\n",
    "    abundancies = list(results.get_counts().values())\n",
    "    \n",
    "    # number of shots \n",
    "    shots = sum(result.get_counts().values())\n",
    "    \n",
    "    # initialize the cost function\n",
    "    cost = 0\n",
    "    \n",
    "    for k in range(len(eigenstates)):\n",
    "        # ndarray of the digits extracted from the eigenstate string \n",
    "        x = np.array([int(num) for num in eigenstates[k]])\n",
    "        # Cost function due to the k-th eigenstate\n",
    "        cost = cost + x.dot(W.dot(1-x)) * abundancies[k]\n",
    "    \n",
    "    if (verbosity == True):\n",
    "        print(\"cost = \", -cost/shots)\n",
    "\n",
    "    job     = None\n",
    "    results = None\n",
    "    circuit = None\n",
    "    \n",
    "    return -cost / shots"
   ]
  },
  {
   "cell_type": "code",
   "execution_count": 14,
   "metadata": {},
   "outputs": [],
   "source": [
    "# Scipy implementation of the COBYLA optimizer\n",
    "\n",
    "from scipy.optimize import minimize\n",
    "\n",
    "# Initial rotation angles of the RY ansatz\n",
    "theta = np.array([[PI/2,PI/2,PI/2,PI/2,PI/2],\n",
    "                  [0.,0.,0.,0.,0.,],\n",
    "                  [0.,0.,0.,0.,0.,]])\n",
    "\n",
    "WEIGHTS = W\n",
    "N_QBITS = 5\n",
    "DEPTH   = 2\n",
    "SHOTS   = 1024\n",
    "BACKEND = 'qasm_simulator'\n",
    "\n",
    "# Classical optimizer tuning\n",
    "res = minimize(fun     = cost_function_cobyla, \n",
    "               x0      = theta.ravel(),     # the 'params' argument of 'cost_function_cobyla'\n",
    "               method  = 'COBYLA',          # we want to use the COBYLA optimization algorithm\n",
    "               options = {'maxiter': 500},  # maximum number of iterations\n",
    "               tol     = 0.0001,            # tolerance or final accuracy in the optimization \n",
    "               args    = (WEIGHTS, \n",
    "                          N_QBITS, \n",
    "                          DEPTH, \n",
    "                          SHOTS,\n",
    "                          BACKEND))         # the arguments of 'cost_function_cobyla', except 'params'"
   ]
  },
  {
   "cell_type": "code",
   "execution_count": 15,
   "metadata": {},
   "outputs": [
    {
     "name": "stdout",
     "output_type": "stream",
     "text": [
      "Optimal rotation angles:\n",
      " [[ 1.94850402  1.837819    1.91758058  1.75065645  0.74734513]\n",
      " [ 1.67376743 -1.59201151 -0.06955016  1.55112847  1.39545158]\n",
      " [ 0.70590762  1.16762973  0.02030831 -0.8564053  -1.23312691]]\n",
      "\n",
      "Cost function with the optimal angles (according to scipy): -7.7900390625\n",
      "Cost function with the optimal angles (actual evaluation): -7.8076171875\n"
     ]
    }
   ],
   "source": [
    "# Obtain the output distribution using the final parameters\n",
    "optimal_circuit = VQE_circuit(res.x, \n",
    "                              N_QBITS, \n",
    "                              DEPTH)\n",
    "\n",
    "backend = Aer.get_backend(BACKEND)\n",
    "\n",
    "counts = execute(optimal_circuit, \n",
    "                 backend, \n",
    "                 shots = SHOTS).result().get_counts(optimal_circuit)\n",
    "\n",
    "print(\"Optimal rotation angles:\\n\", res.x)\n",
    "print()\n",
    "\n",
    "# To trust the optimizer is fine, but it is better to check ;) \n",
    "print(\"Cost function with the optimal angles (according to scipy):\", res.fun)\n",
    "print(\"Cost function with the optimal angles (actual evaluation):\",  cost_function_cobyla(res.x, \n",
    "                                                                                          WEIGHTS, \n",
    "                                                                                          N_QBITS, \n",
    "                                                                                          DEPTH, \n",
    "                                                                                          SHOTS))"
   ]
  },
  {
   "cell_type": "code",
   "execution_count": 16,
   "metadata": {},
   "outputs": [
    {
     "data": {
      "image/png": "[encoded data removed]",
      "text/plain": [
       "<Figure size 504x360 with 1 Axes>"
      ]
     },
     "execution_count": 16,
     "metadata": {},
     "output_type": "execute_result"
    }
   ],
   "source": [
    "# Plot the result\n",
    "from qiskit.visualization import plot_histogram\n",
    "\n",
    "plot_histogram(counts)"
   ]
  },
  {
   "cell_type": "markdown",
   "metadata": {},
   "source": [
    "### Study of the Number of Shots \n",
    "\n",
    "We have seen that the VQE algorithm is able to find the solution of a QUBO problem, at least with the simple max-cut example that we used as benchmark.\n",
    "\n",
    "But the real challenge for quantum computers is managing to provide reliable solutions to such problems faster than classical computers can do with traditional algorithms.\n",
    "\n",
    "As we mentioned, one feature of quantum computers is that, in order to have a consistent estimation of the cost function associated to a particular configuration of a circuit and its parameters (rotation angles, in our case), its state has to be evaluated several times. The act of evaluating the state of a circuit is usually defined *shot*.\n",
    "\n",
    "Here, two opposite forces are acting:\n",
    "- More shots mean a more detailed and accurate knowledge of the circuit eigenstate composition;\n",
    "- But more shots mean also more time to reach the optimal solution.\n",
    "\n",
    "We would like now to perform a systematic study on how the number of shots affects both the convergence to the optimal solution and the time needed to obtain it.\n",
    "\n",
    "For this, we introduce three quantities:\n",
    "- To measure the convergence to the optimal solution, we define the overlap of the solution returned by the optimization process with the solution we found using the *brute force* approach, which is Sol = {[00100],[11011]};\n",
    "- To measure how much it takes to get the solution, we use two quantities:\n",
    "    - The time taken by the algorithm to carry out the optimization process, in seconds;\n",
    "    - The number of evaluations of the cost function times the number of shots. We think this should be a more robust estimator of the computational efficiency, since it corresponds to the number of execution of the ansatz circuit."
   ]
  },
  {
   "cell_type": "code",
   "execution_count": 17,
   "metadata": {},
   "outputs": [],
   "source": [
    "# In case you want to use a real quantum device as backend\n",
    "from qiskit import IBMQ\n",
    "\n",
    "# Is time a good figure of merit?\n",
    "# https://stackoverflow.com/questions/27728483/understanding-the-output-of-scipy-optimize-basinhopping\n",
    "\n",
    "import time\n",
    "from scipy.optimize import minimize\n",
    "\n",
    "def time_vs_shots(shots,\n",
    "                  weights,\n",
    "                  n_qbits,\n",
    "                  depth,\n",
    "                  backend_name,\n",
    "                  final_eval_shots,\n",
    "                  verbosity = False):\n",
    "    \"\"\"Returns the time taken to solve a VQE problem\n",
    "    as a function of the shots.    \n",
    "    \n",
    "    Input parameters:\n",
    "    shots: number of evaluations of the circuit state,\n",
    "    weights: the original QUBO matrix of the problem,\n",
    "    n_qbits: number of qbits of the circuit,\n",
    "    depth: number of layers of the ciruit,\n",
    "    backend_name: the name of the device where the optimization will be performed,\n",
    "    final_eval_shots: number of shots for the evaluation of the optimized circuit,\n",
    "    verbosity: activate/desactivate some control printouts.\n",
    "    \n",
    "    Output:\n",
    "    elapsed_time: time taken for the optimization (in seconds)\n",
    "    counts: the results of the optimization\n",
    "    shots: the 'shots' input parameter (it may be useful for analysis)\n",
    "    \"\"\"\n",
    "    \n",
    "    # Create the rotation angles for the ansatz\n",
    "    theta_0       = np.repeat(PI/2, n_qbits)\n",
    "    theta_0.shape = (1, n_qbits)\n",
    "    theta_1       = np.zeros((depth, n_qbits))\n",
    "    theta         = np.concatenate((theta_0, theta_1), axis = 0) \n",
    "    \n",
    "    # Time starts with the optimization\n",
    "    start_time = time.time()\n",
    "\n",
    "    # Classical optimizer tuning\n",
    "    res = minimize(fun     = cost_function_cobyla, \n",
    "                   x0      = theta.ravel(),     # the 'params' argument of 'cost_function_cobyla'\n",
    "                   method  = 'COBYLA',          # we want to use the COBYLA optimization algorithm\n",
    "                   options = {'maxiter': 500},  # maximum number of iterations\n",
    "                   tol     = 0.0001,            # tolerance or final accuracy in the optimization \n",
    "                   args    = (weights, \n",
    "                              n_qbits, \n",
    "                              depth, \n",
    "                              shots,\n",
    "                              backend_name))    # the arguments of 'cost_function_cobyla', except 'params'\n",
    "\n",
    "    # Time stops when the optimization stops\n",
    "    end_time = time.time()\n",
    "    \n",
    "    # Total time taken for the optimization\n",
    "    elapsed_time = end_time - start_time \n",
    "\n",
    "    # Number of cost function evaluations during the optimization\n",
    "    n_func_evaluations = res.nfev\n",
    "\n",
    "    # Obtain the output distribution using the final parameters\n",
    "    optimal_circuit = VQE_circuit(res.x, \n",
    "                                  n_qbits, \n",
    "                                  depth)\n",
    "\n",
    "    # Define the backend for the evaluation of the optimal circuit\n",
    "    # - in case it is a simulator\n",
    "    if backend_name == 'qasm_simulator':\n",
    "        backend = Aer.get_backend('qasm_simulator')\n",
    "    # - in case it is a real quantum device\n",
    "    else:\n",
    "        provider = IBMQ.load_account()\n",
    "        backend = provider.get_backend(backend_name)\n",
    "\n",
    "    # Get the results from the circuit with the optimized parameters    \n",
    "    counts = execute(optimal_circuit, \n",
    "                     backend, \n",
    "                     shots = final_eval_shots).result().get_counts(optimal_circuit)\n",
    "    \n",
    "    # Freeing memory???\n",
    "    res             = None    \n",
    "    optimal_circuit = None\n",
    "    theta_0         = None\n",
    "    theta_1         = None\n",
    "    theta           = None\n",
    "    \n",
    "    return elapsed_time, counts, shots, n_func_evaluations, final_eval_shots"
   ]
  },
  {
   "cell_type": "code",
   "execution_count": 22,
   "metadata": {},
   "outputs": [],
   "source": [
    "# Test once\n",
    "\n",
    "# Variables declaration\n",
    "WEIGHTS    = W\n",
    "N_QBITS    = 5\n",
    "DEPTH      = 2\n",
    "SHOTS      = 512\n",
    "BACKEND    = 'qasm_simulator'\n",
    "FINAL_EVAL = 8192"
   ]
  },
  {
   "cell_type": "code",
   "execution_count": 52,
   "metadata": {},
   "outputs": [
    {
     "data": {
      "text/plain": [
       "(41.090174198150635,\n",
       " {'01110': 52,\n",
       "  '00100': 6559,\n",
       "  '10111': 1,\n",
       "  '11010': 4,\n",
       "  '00101': 9,\n",
       "  '01100': 342,\n",
       "  '00010': 4,\n",
       "  '01101': 1,\n",
       "  '00011': 1,\n",
       "  '01010': 92,\n",
       "  '00111': 6,\n",
       "  '00000': 40,\n",
       "  '10100': 253,\n",
       "  '10110': 29,\n",
       "  '11011': 1,\n",
       "  '00110': 793,\n",
       "  '11100': 4,\n",
       "  '10000': 1},\n",
       " 512,\n",
       " 167,\n",
       " 8192)"
      ]
     },
     "execution_count": 52,
     "metadata": {},
     "output_type": "execute_result"
    }
   ],
   "source": [
    "# Execute\n",
    "test_once = time_vs_shots(SHOTS,\n",
    "                  WEIGHTS,\n",
    "                  N_QBITS,\n",
    "                  DEPTH,\n",
    "                  BACKEND,\n",
    "                  FINAL_EVAL) \n",
    "\n",
    "# Output object structure:\n",
    "# a[0]: elapsed time\n",
    "# a[1]: dictionary with {'eigenstate': frequency}\n",
    "# a[2]: number of shots\n",
    "# a[3]: number of cost function evaluation\n",
    "# a[4]: shots used in the evaluation of the optimal circuit\n",
    "test_once"
   ]
  },
  {
   "cell_type": "code",
   "execution_count": 53,
   "metadata": {},
   "outputs": [],
   "source": [
    "# A small scan, just for testing\n",
    "import gc\n",
    "\n",
    "scan_results = []\n",
    "\n",
    "shots_list = [128, 256, 512, 1024, 2048, 3072, 4096]\n",
    "\n",
    "for shot in shots_list:\n",
    "    output = time_vs_shots(shot,\n",
    "                           WEIGHTS,\n",
    "                           N_QBITS,\n",
    "                           DEPTH,\n",
    "                           BACKEND,\n",
    "                           FINAL_EVAL) \n",
    "\n",
    "    scan_results.append(output)\n",
    "    del output\n",
    "    gc.collect()\n",
    "    \n",
    "# Normalize results for plotting\n",
    "for res in scan_results:\n",
    "    for key, value in res[1].items():\n",
    "        res[1][key] = res[1][key] / res[4]"
   ]
  },
  {
   "cell_type": "code",
   "execution_count": 54,
   "metadata": {
    "scrolled": false
   },
   "outputs": [
    {
     "data": {
      "image/png": "[encoded data removed]",
      "text/plain": [
       "<Figure size 432x288 with 1 Axes>"
      ]
     },
     "metadata": {
      "needs_background": "light"
     },
     "output_type": "display_data"
    },
    {
     "data": {
      "image/png": "[encoded data removed]",
      "text/plain": [
       "<Figure size 432x288 with 1 Axes>"
      ]
     },
     "metadata": {
      "needs_background": "light"
     },
     "output_type": "display_data"
    },
    {
     "data": {
      "image/png": "[encoded data removed]",
      "text/plain": [
       "<Figure size 432x288 with 1 Axes>"
      ]
     },
     "metadata": {
      "needs_background": "light"
     },
     "output_type": "display_data"
    },
    {
     "data": {
      "image/png": "[encoded data removed]",
      "text/plain": [
       "<Figure size 432x288 with 1 Axes>"
      ]
     },
     "metadata": {
      "needs_background": "light"
     },
     "output_type": "display_data"
    },
    {
     "data": {
      "image/png": "[encoded data removed]",
      "text/plain": [
       "<Figure size 432x288 with 1 Axes>"
      ]
     },
     "metadata": {
      "needs_background": "light"
     },
     "output_type": "display_data"
    },
    {
     "data": {
      "image/png": "[encoded data removed]",
      "text/plain": [
       "<Figure size 432x288 with 1 Axes>"
      ]
     },
     "metadata": {
      "needs_background": "light"
     },
     "output_type": "display_data"
    },
    {
     "data": {
      "image/png": "[encoded data removed]",
      "text/plain": [
       "<Figure size 432x288 with 1 Axes>"
      ]
     },
     "metadata": {
      "needs_background": "light"
     },
     "output_type": "display_data"
    }
   ],
   "source": [
    "# Plot results\n",
    "for i in range(len(scan_results)):\n",
    "\n",
    "    # Compute overlap with correct solution\n",
    "    # Correct solution = {'11011', '00100'}\n",
    "    overlap = 0\n",
    "    for key, value in scan_results[i][1].items():\n",
    "        if key == '11011' or key == '00100':\n",
    "            overlap += value\n",
    " \n",
    "    # Start plotting\n",
    "    fig, ax = plt.subplots()\n",
    "    barplot = ax.bar(list(scan_results[i][1].keys()), \n",
    "                     scan_results[i][1].values(), \n",
    "                     color = 'lightblue')\n",
    "\n",
    "    # Cosmetics\n",
    "    ax.set_ylim(0.0, 1.2)\n",
    "    ax.set_ylabel('Probabilities')\n",
    "    ax.set_xticklabels(list(scan_results[i][1].keys()), rotation='65')\n",
    "\n",
    "    # Plot information\n",
    "    time_str    = str(np.around(scan_results[i][0],2))\n",
    "    shots       = str(scan_results[i][2]) \n",
    "    overlap_str = str(np.around(overlap,2))\n",
    "    n_eval      = str(scan_results[i][3])# * results[i][2])\n",
    "    \n",
    "    # Title\n",
    "    title = \"Shots: \" + shots\n",
    "    ax.set_title(title)\n",
    "\n",
    "    # Result details printed on the plot\n",
    "    textstr = \"Time elapsed: \" + time_str + \"s - Overlap: \" + overlap_str + \" - N eval: \" + n_eval   \n",
    "    ax.text(0.05, 0.94, textstr, \n",
    "            transform = ax.transAxes, \n",
    "            fontsize  = 12,\n",
    "            verticalalignment='top')    \n",
    "    \n",
    "    # Horizontal lines grid\n",
    "    ax.yaxis.grid()\n",
    "    \n",
    "    # Do not cut labels when save as png or pdf\n",
    "    plt.tight_layout()\n",
    "\n",
    "    # Save as png and pdf\n",
    "    filename = \"Shots_\" + shots\n",
    "    plt.savefig(filename + '.png')\n",
    "    plt.savefig(filename + '.pdf')"
   ]
  },
  {
   "cell_type": "markdown",
   "metadata": {},
   "source": [
    "### Results Interpretation"
   ]
  },
  {
   "cell_type": "markdown",
   "metadata": {},
   "source": [
    "To try and interpret the results obtained, we can plot some distributions we think can be of interest:\n",
    "1. Number of cost function evaluation versus shots;\n",
    "- Time taken to get the solution versus shots;\n",
    "- Time taken to get the solution versus number of cost function evaluations;\n",
    "- Time taken to get the solution versus (number of cost function evaluations times shots).\n",
    "- Time taken to get the solution versus log$_2$(shots);\n",
    "\n",
    "As we can see in the following plots:\n",
    "1. The number of cost function evaluations is quite flat versus the number of shots. Considering that the cost function, as we defined it, includes the execution of the circuit for *numberof shots* times, we can conclude that the number of shots does not significantly affect the capability of the optimization algorithm to find a valid solution.\n",
    "- Taking the previous observation into account, we would expect that increasing the number of shots would require more time to get the solution, since each evaluation of the cost function requires running the ansatz circuit *number of shots* times. However, this is not the case, at least if we look at the second plot, where the time taken to get to the solution is mainly flat versus the number of shots. We can interpret this thinking that the circuit evaluation takes a negligible time with respect to other operations performed by the classical optimizer. On the other hand, we have to take into account that the current results are obtained using a quantum device simulator that runs directly in the laptop used to execute the code. A more proper measure would involve running the whole process using a real quantum device. In that case, however it would be important to take into account in the time estimation, the time spent in the queue (if any) and other possible effects that may inflate our measurements. \n",
    "- We observe a direct dependency between time taken to get to the solution and number of evaluations of the cost function. This suggests, again, that the number of evaluations of the cost function is a valid estimator of the rapidity of the algorithm. Also in this case, a proper measurement using a real quantum device seems to be needed to confirm this impression.\n",
    "- Being the number of cost function evaluations flat versus the number of shots, plotting the elapsed time versus the product of the two quantities is basically the same as plotting the time taken versus the number of shots alone.\n",
    "- Plotting the elapsed time versus log$_2$(shots) seems to indicate a logaritmic dependence of the time versus the number of shots. This may be checked by running many times the optimization for each number of shots and considering the average. "
   ]
  },
  {
   "cell_type": "code",
   "execution_count": 69,
   "metadata": {},
   "outputs": [],
   "source": [
    "# Plot function definition\n",
    "def scatter_plot(x, y, \n",
    "                 title = \"\", xlabel = \"\", ylabel = \"\", save_as = \"\", \n",
    "                 ylim = (-9999, -9999)):\n",
    "    # Plot declaration\n",
    "    fig, ax = plt.subplots()\n",
    "    local_plot = ax.scatter(x = x,\n",
    "                            y = y)\n",
    "\n",
    "    # Title\n",
    "    ax.set_title(title)\n",
    "\n",
    "    # Cosmetics\n",
    "    if ylim == (-9999, -9999):\n",
    "        ax.set_ylim(0.0, 1.5*np.max(y))\n",
    "    else:    \n",
    "        ax.set_ylim(ylim)\n",
    "    ax.set_xlim(0.0, 1.1*np.max(x))\n",
    "    ax.set_xlabel(xlabel)\n",
    "    ax.set_ylabel(ylabel)\n",
    "    \n",
    "    # Save as png and pdf\n",
    "    if save_as != \"\":\n",
    "        plt.savefig(save_as + '.png')\n",
    "        plt.savefig(save_as + '.pdf')"
   ]
  },
  {
   "cell_type": "code",
   "execution_count": 70,
   "metadata": {},
   "outputs": [
    {
     "ename": "NameError",
     "evalue": "name 'scan_results' is not defined",
     "output_type": "error",
     "traceback": [
      "\u001b[0;31m---------------------------------------------------------------------------\u001b[0m",
      "\u001b[0;31mNameError\u001b[0m                                 Traceback (most recent call last)",
      "\u001b[0;32m<ipython-input-70-21e9f140300b>\u001b[0m in \u001b[0;36m<module>\u001b[0;34m\u001b[0m\n\u001b[1;32m      3\u001b[0m \u001b[0;31m# Create list of times\u001b[0m\u001b[0;34m\u001b[0m\u001b[0;34m\u001b[0m\u001b[0;34m\u001b[0m\u001b[0m\n\u001b[1;32m      4\u001b[0m \u001b[0mntimes\u001b[0m \u001b[0;34m=\u001b[0m \u001b[0mnp\u001b[0m\u001b[0;34m.\u001b[0m\u001b[0marray\u001b[0m\u001b[0;34m(\u001b[0m\u001b[0;34m[\u001b[0m\u001b[0;34m]\u001b[0m\u001b[0;34m)\u001b[0m\u001b[0;34m\u001b[0m\u001b[0;34m\u001b[0m\u001b[0m\n\u001b[0;32m----> 5\u001b[0;31m \u001b[0;32mfor\u001b[0m \u001b[0mi\u001b[0m \u001b[0;32min\u001b[0m \u001b[0mrange\u001b[0m\u001b[0;34m(\u001b[0m\u001b[0mlen\u001b[0m\u001b[0;34m(\u001b[0m\u001b[0mscan_results\u001b[0m\u001b[0;34m)\u001b[0m\u001b[0;34m)\u001b[0m\u001b[0;34m:\u001b[0m\u001b[0;34m\u001b[0m\u001b[0;34m\u001b[0m\u001b[0m\n\u001b[0m\u001b[1;32m      6\u001b[0m     \u001b[0mntimes\u001b[0m \u001b[0;34m=\u001b[0m \u001b[0mnp\u001b[0m\u001b[0;34m.\u001b[0m\u001b[0mappend\u001b[0m\u001b[0;34m(\u001b[0m\u001b[0mntimes\u001b[0m\u001b[0;34m,\u001b[0m \u001b[0mscan_results\u001b[0m\u001b[0;34m[\u001b[0m\u001b[0mi\u001b[0m\u001b[0;34m]\u001b[0m\u001b[0;34m[\u001b[0m\u001b[0;36m0\u001b[0m\u001b[0;34m]\u001b[0m\u001b[0;34m)\u001b[0m\u001b[0;34m\u001b[0m\u001b[0;34m\u001b[0m\u001b[0m\n\u001b[1;32m      7\u001b[0m \u001b[0mprint\u001b[0m\u001b[0;34m(\u001b[0m\u001b[0mntimes\u001b[0m\u001b[0;34m)\u001b[0m\u001b[0;34m\u001b[0m\u001b[0;34m\u001b[0m\u001b[0m\n",
      "\u001b[0;31mNameError\u001b[0m: name 'scan_results' is not defined"
     ]
    }
   ],
   "source": [
    "# Prepare the results so that it is easier to plot them\n",
    "\n",
    "# Create list of times\n",
    "ntimes = np.array([])\n",
    "for i in range(len(scan_results)):\n",
    "    ntimes = np.append(ntimes, scan_results[i][0])\n",
    "print(ntimes)\n",
    "\n",
    "# Create list of nfev\n",
    "nfevs = np.array([])\n",
    "for i in range(len(scan_results)):\n",
    "    nfevs = np.append(nfevs, scan_results[i][3])\n",
    "print(nfevs)\n",
    "\n",
    "# Create list of shots\n",
    "nshots = np.array([])\n",
    "for i in range(len(scan_results)):\n",
    "    nshots = np.append(nshots, scan_results[i][2])\n",
    "print(nshots)"
   ]
  },
  {
   "cell_type": "code",
   "execution_count": 71,
   "metadata": {},
   "outputs": [
    {
     "data": {
      "image/png": "[encoded data removed]",
      "text/plain": [
       "<Figure size 432x288 with 1 Axes>"
      ]
     },
     "metadata": {
      "needs_background": "light"
     },
     "output_type": "display_data"
    }
   ],
   "source": [
    "# Cost function evaluations vs shots\n",
    "scatter_plot(x       = nshots,\n",
    "             y       = nfevs,\n",
    "             title   = \"Number of cost function evaluations vs shots\",\n",
    "             xlabel  = \"Shots\",\n",
    "             ylabel  = \"Cost function evaluations\",\n",
    "             save_as = \"nfev_vs_shots\")"
   ]
  },
  {
   "cell_type": "code",
   "execution_count": 72,
   "metadata": {},
   "outputs": [
    {
     "ename": "ValueError",
     "evalue": "x and y must be the same size",
     "output_type": "error",
     "traceback": [
      "\u001b[0;31m---------------------------------------------------------------------------\u001b[0m",
      "\u001b[0;31mValueError\u001b[0m                                Traceback (most recent call last)",
      "\u001b[0;32m<ipython-input-72-ca9f288006d2>\u001b[0m in \u001b[0;36m<module>\u001b[0;34m\u001b[0m\n\u001b[1;32m      5\u001b[0m              \u001b[0mxlabel\u001b[0m  \u001b[0;34m=\u001b[0m \u001b[0;34m\"Shots\"\u001b[0m\u001b[0;34m,\u001b[0m\u001b[0;34m\u001b[0m\u001b[0;34m\u001b[0m\u001b[0m\n\u001b[1;32m      6\u001b[0m              \u001b[0mylabel\u001b[0m  \u001b[0;34m=\u001b[0m \u001b[0;34m\"Elapsed time [s]\"\u001b[0m\u001b[0;34m,\u001b[0m\u001b[0;34m\u001b[0m\u001b[0;34m\u001b[0m\u001b[0m\n\u001b[0;32m----> 7\u001b[0;31m              save_as = \"time_vs_shots\")\n\u001b[0m",
      "\u001b[0;32m<ipython-input-69-38782b769c64>\u001b[0m in \u001b[0;36mscatter_plot\u001b[0;34m(x, y, title, xlabel, ylabel, save_as, ylim)\u001b[0m\n\u001b[1;32m      6\u001b[0m     \u001b[0mfig\u001b[0m\u001b[0;34m,\u001b[0m \u001b[0max\u001b[0m \u001b[0;34m=\u001b[0m \u001b[0mplt\u001b[0m\u001b[0;34m.\u001b[0m\u001b[0msubplots\u001b[0m\u001b[0;34m(\u001b[0m\u001b[0;34m)\u001b[0m\u001b[0;34m\u001b[0m\u001b[0;34m\u001b[0m\u001b[0m\n\u001b[1;32m      7\u001b[0m     local_plot = ax.scatter(x = x,\n\u001b[0;32m----> 8\u001b[0;31m                             y = y)\n\u001b[0m\u001b[1;32m      9\u001b[0m \u001b[0;34m\u001b[0m\u001b[0m\n\u001b[1;32m     10\u001b[0m     \u001b[0;31m# Title\u001b[0m\u001b[0;34m\u001b[0m\u001b[0;34m\u001b[0m\u001b[0;34m\u001b[0m\u001b[0m\n",
      "\u001b[0;32m~/miniconda3/lib/python3.7/site-packages/matplotlib/__init__.py\u001b[0m in \u001b[0;36minner\u001b[0;34m(ax, data, *args, **kwargs)\u001b[0m\n\u001b[1;32m   1597\u001b[0m     \u001b[0;32mdef\u001b[0m \u001b[0minner\u001b[0m\u001b[0;34m(\u001b[0m\u001b[0max\u001b[0m\u001b[0;34m,\u001b[0m \u001b[0;34m*\u001b[0m\u001b[0margs\u001b[0m\u001b[0;34m,\u001b[0m \u001b[0mdata\u001b[0m\u001b[0;34m=\u001b[0m\u001b[0;32mNone\u001b[0m\u001b[0;34m,\u001b[0m \u001b[0;34m**\u001b[0m\u001b[0mkwargs\u001b[0m\u001b[0;34m)\u001b[0m\u001b[0;34m:\u001b[0m\u001b[0;34m\u001b[0m\u001b[0;34m\u001b[0m\u001b[0m\n\u001b[1;32m   1598\u001b[0m         \u001b[0;32mif\u001b[0m \u001b[0mdata\u001b[0m \u001b[0;32mis\u001b[0m \u001b[0;32mNone\u001b[0m\u001b[0;34m:\u001b[0m\u001b[0;34m\u001b[0m\u001b[0;34m\u001b[0m\u001b[0m\n\u001b[0;32m-> 1599\u001b[0;31m             \u001b[0;32mreturn\u001b[0m \u001b[0mfunc\u001b[0m\u001b[0;34m(\u001b[0m\u001b[0max\u001b[0m\u001b[0;34m,\u001b[0m \u001b[0;34m*\u001b[0m\u001b[0mmap\u001b[0m\u001b[0;34m(\u001b[0m\u001b[0msanitize_sequence\u001b[0m\u001b[0;34m,\u001b[0m \u001b[0margs\u001b[0m\u001b[0;34m)\u001b[0m\u001b[0;34m,\u001b[0m \u001b[0;34m**\u001b[0m\u001b[0mkwargs\u001b[0m\u001b[0;34m)\u001b[0m\u001b[0;34m\u001b[0m\u001b[0;34m\u001b[0m\u001b[0m\n\u001b[0m\u001b[1;32m   1600\u001b[0m \u001b[0;34m\u001b[0m\u001b[0m\n\u001b[1;32m   1601\u001b[0m         \u001b[0mbound\u001b[0m \u001b[0;34m=\u001b[0m \u001b[0mnew_sig\u001b[0m\u001b[0;34m.\u001b[0m\u001b[0mbind\u001b[0m\u001b[0;34m(\u001b[0m\u001b[0max\u001b[0m\u001b[0;34m,\u001b[0m \u001b[0;34m*\u001b[0m\u001b[0margs\u001b[0m\u001b[0;34m,\u001b[0m \u001b[0;34m**\u001b[0m\u001b[0mkwargs\u001b[0m\u001b[0;34m)\u001b[0m\u001b[0;34m\u001b[0m\u001b[0;34m\u001b[0m\u001b[0m\n",
      "\u001b[0;32m~/miniconda3/lib/python3.7/site-packages/matplotlib/axes/_axes.py\u001b[0m in \u001b[0;36mscatter\u001b[0;34m(self, x, y, s, c, marker, cmap, norm, vmin, vmax, alpha, linewidths, verts, edgecolors, plotnonfinite, **kwargs)\u001b[0m\n\u001b[1;32m   4441\u001b[0m         \u001b[0my\u001b[0m \u001b[0;34m=\u001b[0m \u001b[0mnp\u001b[0m\u001b[0;34m.\u001b[0m\u001b[0mma\u001b[0m\u001b[0;34m.\u001b[0m\u001b[0mravel\u001b[0m\u001b[0;34m(\u001b[0m\u001b[0my\u001b[0m\u001b[0;34m)\u001b[0m\u001b[0;34m\u001b[0m\u001b[0;34m\u001b[0m\u001b[0m\n\u001b[1;32m   4442\u001b[0m         \u001b[0;32mif\u001b[0m \u001b[0mx\u001b[0m\u001b[0;34m.\u001b[0m\u001b[0msize\u001b[0m \u001b[0;34m!=\u001b[0m \u001b[0my\u001b[0m\u001b[0;34m.\u001b[0m\u001b[0msize\u001b[0m\u001b[0;34m:\u001b[0m\u001b[0;34m\u001b[0m\u001b[0;34m\u001b[0m\u001b[0m\n\u001b[0;32m-> 4443\u001b[0;31m             \u001b[0;32mraise\u001b[0m \u001b[0mValueError\u001b[0m\u001b[0;34m(\u001b[0m\u001b[0;34m\"x and y must be the same size\"\u001b[0m\u001b[0;34m)\u001b[0m\u001b[0;34m\u001b[0m\u001b[0;34m\u001b[0m\u001b[0m\n\u001b[0m\u001b[1;32m   4444\u001b[0m \u001b[0;34m\u001b[0m\u001b[0m\n\u001b[1;32m   4445\u001b[0m         \u001b[0;32mif\u001b[0m \u001b[0ms\u001b[0m \u001b[0;32mis\u001b[0m \u001b[0;32mNone\u001b[0m\u001b[0;34m:\u001b[0m\u001b[0;34m\u001b[0m\u001b[0;34m\u001b[0m\u001b[0m\n",
      "\u001b[0;31mValueError\u001b[0m: x and y must be the same size"
     ]
    },
    {
     "data": {
      "image/png": "[encoded data removed]",
      "text/plain": [
       "<Figure size 432x288 with 1 Axes>"
      ]
     },
     "metadata": {
      "needs_background": "light"
     },
     "output_type": "display_data"
    }
   ],
   "source": [
    "# Elapsed time vs shots\n",
    "scatter_plot(x       = nshots,\n",
    "             y       = ntimes,\n",
    "             title   = \"Elapsed time vs shots\",\n",
    "             xlabel  = \"Shots\",\n",
    "             ylabel  = \"Elapsed time [s]\",\n",
    "             save_as = \"time_vs_shots\")"
   ]
  },
  {
   "cell_type": "code",
   "execution_count": 59,
   "metadata": {},
   "outputs": [
    {
     "data": {
      "image/png": "[encoded data removed]",
      "text/plain": [
       "<Figure size 432x288 with 1 Axes>"
      ]
     },
     "metadata": {
      "needs_background": "light"
     },
     "output_type": "display_data"
    }
   ],
   "source": [
    "# Elapsed time vs cost function evaluations\n",
    "scatter_plot(x       = nfevs,\n",
    "             y       = ntimes,\n",
    "             title   = \"Elapsed time vs number of cost function evaluations\",\n",
    "             xlabel  = \"Cost function evaluations\",\n",
    "             ylabel  = \"Elapsed time [s]\",\n",
    "             save_as = \"time_vs_nfev\")"
   ]
  },
  {
   "cell_type": "code",
   "execution_count": 60,
   "metadata": {},
   "outputs": [
    {
     "data": {
      "image/png": "[encoded data removed]",
      "text/plain": [
       "<Figure size 432x288 with 1 Axes>"
      ]
     },
     "metadata": {
      "needs_background": "light"
     },
     "output_type": "display_data"
    }
   ],
   "source": [
    "# Elapsed time vs (cost function evaluations x shots)\n",
    "scatter_plot(x       = nshots*nfevs,\n",
    "             y       = ntimes,\n",
    "             title   = \"Elapsed time vs number of cost function evaluations x shots\",\n",
    "             xlabel  = \"(Cost function evaluations) x (shots)\",\n",
    "             ylabel  = \"Elapsed time [s]\",\n",
    "             save_as = \"time_vs_nfev_x_shots\")"
   ]
  },
  {
   "cell_type": "code",
   "execution_count": 61,
   "metadata": {},
   "outputs": [
    {
     "data": {
      "image/png": "[encoded data removed]",
      "text/plain": [
       "<Figure size 432x288 with 1 Axes>"
      ]
     },
     "metadata": {
      "needs_background": "light"
     },
     "output_type": "display_data"
    }
   ],
   "source": [
    "# Elapsed time vs log2(shots)\n",
    "scatter_plot(x       = np.log2(nshots),\n",
    "             y       = ntimes,\n",
    "             title   = \"Elapsed time vs log2(shots)\",\n",
    "             xlabel  = \"log2(shots)\",\n",
    "             ylabel  = \"Elapsed time [s]\",\n",
    "             save_as = \"time_vs_log2shots\")"
   ]
  },
  {
   "cell_type": "markdown",
   "metadata": {},
   "source": [
    "### Repeating the Optimization Several Times\n",
    "\n",
    "Even if the previous results give us a *qualitative* idea of how moving some parameters of the VQE algorithm can affect its rapidity and the goodness of the solution returned, if we want to have some really *quantitative* results, we need to systematically repeat the optimization several times for each value of *shots* that we decide to study.\n",
    "\n",
    "Additionally, it allows to introduce a different estimator of the goodness of the solution, maybe less intuitive with respect to the overlap, but more suited to the VQE algorithm: given a solution, we compute the cost function associated to each of the (hopefully few) eigenstates contributing to it and taking the one giving the smallest value as the *best candidate* to be considered as the optimal solution.\n",
    "If we repeat the optimization $N_{rep}$ times and we see that the *best candidate* is actually the optimal solution $N_{b-c}$ times, we can define the fraction of times (let's call it $F_{opt}$) in which we managed to extract from our solution the optimal solution of the problem:\n",
    "\n",
    "$$ F_{opt} = \\dfrac{N_{b-c}}{N_{rep}}$$\n",
    "\n",
    "This quantity gives us an idea of how many times we should repeat the optimization process if we want to be reasonably sure that at least one of our *best candidates* is also the optimal solution of the problem."
   ]
  },
  {
   "cell_type": "code",
   "execution_count": 25,
   "metadata": {},
   "outputs": [],
   "source": [
    "# Compute the value of the cost function of each eigenstate in a solution\n",
    "# and returns to 'best candidate' eigenstate\n",
    "\n",
    "# results_dict: the eigenstate-freq dictionary returned by 'time_vs_shots'\n",
    "# weights: the original QUBO matrix\n",
    "def best_candidate_finder(results_dict, \n",
    "                          weights):\n",
    "        \n",
    "    # the eigenstates obtained by the evaluation of the circuit\n",
    "    eigenstates = list(results_dict.keys())\n",
    "        \n",
    "    # initialize the cost function\n",
    "    min_cost = 0\n",
    "    best_candidate = 0\n",
    "    \n",
    "    for k in range(len(eigenstates)):\n",
    "        # ndarray of the digits extracted from the eigenstate string \n",
    "        x = np.array([int(num) for num in eigenstates[k]])\n",
    "        # Cost function of to the k-th eigenstate\n",
    "        cost = x.dot(W.dot(1-x))\n",
    "        if cost > min_cost:\n",
    "            min_cost = cost\n",
    "            best_candidate = eigenstates[k]\n",
    "    \n",
    "    return best_candidate"
   ]
  },
  {
   "cell_type": "code",
   "execution_count": 26,
   "metadata": {},
   "outputs": [],
   "source": [
    "# Function to compute F_opt\n",
    "def F_opt_finder(results_obj,\n",
    "                 n_shots,\n",
    "                 W,\n",
    "                 opt_sol,\n",
    "                 n_eigenstates = 1000):\n",
    "    \"\"\"Returns the fraction of optimal solutions.\n",
    "    \n",
    "    Given the object returned by 'time_vs_shots',\n",
    "    computes the fraction of best_candidates solutions\n",
    "    which are optimal solutions.\n",
    "    \n",
    "    Inputs:\n",
    "    results_obj: the object returned by 'time_vs_shots',\n",
    "    n_shots: the 'number of shots' to investigate,\n",
    "    W: the original QUBO matrix,\n",
    "    opt_sol: list of the optimal solutions to the problem,\n",
    "    n_eigenstates: maximum number of eigenstates in a solution.\n",
    "    \"\"\"\n",
    "    # Initialize the counter of repetitions for the\n",
    "    # selected number of shots\n",
    "    N_rep = 0\n",
    "    # Initialize the counter of best candidates which \n",
    "    # are optimal solutions    \n",
    "    N_bc  = 0\n",
    "    # Scan all the entries of the object\n",
    "    for res in results_obj:\n",
    "        # Select only the entries corresponding to \n",
    "        # the selected number of shots\n",
    "        if res[2] == n_shots:\n",
    "            # If the number of shots is the one we want to check,\n",
    "            # sum 1 to the number of repetitions\n",
    "            N_rep += 1\n",
    "            # Find best candidate\n",
    "            bc = best_candidate_finder(res[1], W)\n",
    "            # best candidate must contain the optimal solution\n",
    "            if bc in opt_sol:\n",
    "                # best candidate must have less than 'n_eigenstates' eigenstates\n",
    "                if len(res[1]) < n_eigenstates:\n",
    "                    N_bc += 1\n",
    "    # Initialize output value\n",
    "    F_opt = 0\n",
    "    # If N_rep is not 0, return the fraction of best candidates\n",
    "    # which are also optimal solutions\n",
    "    if N_rep != 0:\n",
    "        F_opt = N_bc / N_rep\n",
    "    else:\n",
    "        print(\"The number of shots selected is not present\")\n",
    "    return F_opt    "
   ]
  },
  {
   "cell_type": "code",
   "execution_count": 27,
   "metadata": {},
   "outputs": [],
   "source": [
    "# We can save the results to produce them once and analyze them later\n",
    "#https://stackoverflow.com/questions/4529815/saving-an-object-data-persistence\n",
    "    \n",
    "import pickle\n",
    "\n",
    "def save_object(obj, filename):\n",
    "    with open(filename, 'wb') as output:  \n",
    "        # Overwrites any existing file.\n",
    "        pickle.dump(obj, output, pickle.HIGHEST_PROTOCOL)   \n",
    "        print(\"Object saved as\", filename)"
   ]
  },
  {
   "cell_type": "code",
   "execution_count": 6,
   "metadata": {},
   "outputs": [],
   "source": [
    "# This function is useful to check the memory usage\n",
    "# https://stackoverflow.com/a/1094933/1870254\n",
    "\n",
    "import sys\n",
    "def sizeof_fmt(num, suffix='B'):\n",
    "    ''' by Fred Cirera,  https://stackoverflow.com/a/1094933/1870254, modified'''\n",
    "    for unit in ['','Ki','Mi','Gi','Ti','Pi','Ei','Zi']:\n",
    "        if abs(num) < 1024.0:\n",
    "            return \"%3.1f %s%s\" % (num, unit, suffix)\n",
    "        num /= 1024.0\n",
    "    return \"%.1f %s%s\" % (num, 'Yi', suffix)"
   ]
  },
  {
   "cell_type": "code",
   "execution_count": 28,
   "metadata": {
    "scrolled": false
   },
   "outputs": [
    {
     "name": "stdout",
     "output_type": "stream",
     "text": [
      "Done with 64 shots, repetition 0\n",
      "Done with 64 shots, repetition 1\n",
      "Done with 64 shots, repetition 2\n",
      "Done with 64 shots, repetition 3\n",
      "Done with 64 shots, repetition 4\n",
      "Done with 64 shots, repetition 5\n",
      "Done with 64 shots, repetition 6\n",
      "Done with 64 shots, repetition 7\n",
      "Done with 64 shots, repetition 8\n",
      "Done with 64 shots, repetition 9\n",
      "Object saved as Scan_64.pkl\n"
     ]
    }
   ],
   "source": [
    "# A small scan, but we can get some results\n",
    "\n",
    "from sys import getsizeof\n",
    "import gc\n",
    "\n",
    "N_repetitions = 10\n",
    "shots_list = [64] # [128, 256, 512, 1024, 2048, 3072, 4096]\n",
    "\n",
    "for shot in shots_list:\n",
    "    results_current = []\n",
    "    output = 0\n",
    "    file_name = \"Scan_\" + str(shot) + \".pkl\"\n",
    "    for rep in range(N_repetitions): \n",
    "        output = time_vs_shots(shot,\n",
    "                               WEIGHTS,\n",
    "                               N_QBITS,\n",
    "                               DEPTH,\n",
    "                               BACKEND,\n",
    "                               FINAL_EVAL) \n",
    "        \n",
    "        print(\"Done with\", str(shot), \"shots, repetition\", rep)\n",
    "        results_current.append(output)\n",
    "        del output\n",
    "        gc.collect()\n",
    "\n",
    "#        # Check which variables are filling all the memory\n",
    "#        print(\"locals\")\n",
    "#        for name, size in sorted(((name, sys.getsizeof(value)) for name, value in locals().items()),\n",
    "#                         key= lambda x: -x[1])[:5]:\n",
    "#            print(\"{:>30}: {:>8}\".format(name, sizeof_fmt(size)))\n",
    "#            \n",
    "#        print(\"globals\")\n",
    "#        for name, size in sorted(((name, sys.getsizeof(value)) for name, value in globals().items()),\n",
    "#                         key= lambda x: -x[1])[:5]:\n",
    "#            print(\"{:>30}: {:>8}\".format(name, sizeof_fmt(size)))\n",
    "#\n",
    "#        print(\"dir\")\n",
    "#        for name, size in sorted(((name, sys.getsizeof(name)) for name in dir()),\n",
    "#                         key= lambda x: -x[1])[:5]:\n",
    "#            print(\"{:>30}: {:>8}\".format(name, sizeof_fmt(size)))\n",
    "                       \n",
    "    save_object(results_current, file_name) \n",
    "    results_current = None"
   ]
  },
  {
   "cell_type": "code",
   "execution_count": 2,
   "metadata": {},
   "outputs": [],
   "source": [
    "# Load results\n",
    "import pickle\n",
    "\n",
    "load_shots_list = [64, 128, 256, 512, 1024, 2048, 3072, 4096]\n",
    "\n",
    "scan = []\n",
    "\n",
    "for shot in load_shots_list:\n",
    "    load_file_name = \"Scan_\" + str(shot) + \".pkl\"\n",
    "    with open(load_file_name, 'rb') as input:\n",
    "        for pick in pickle.load(input): \n",
    "            scan.append(pick)\n",
    "\n",
    "# Normalize results for plotting\n",
    "for res in scan:\n",
    "    for key, value in res[1].items():\n",
    "        res[1][key] = res[1][key] / res[4]"
   ]
  },
  {
   "cell_type": "code",
   "execution_count": 3,
   "metadata": {},
   "outputs": [
    {
     "name": "stdout",
     "output_type": "stream",
     "text": [
      "Percentage of solutions containing the optimal solution:\n",
      "\n",
      "Case 64 shots: 100.0%\n",
      "Case 128 shots: 100.0%\n",
      "Case 256 shots: 100.0%\n",
      "Case 512 shots: 100.0%\n",
      "Case 1024 shots: 100.0%\n",
      "Case 2048 shots: 100.0%\n",
      "Case 3072 shots: 100.0%\n",
      "Case 4096 shots: 100.0%\n"
     ]
    }
   ],
   "source": [
    "print(\"Percentage of solutions containing the optimal solution:\")\n",
    "print()\n",
    "for shot in load_shots_list:\n",
    "    frac = F_opt_finder(scan, shot, W, ['00100', '11011'])\n",
    "    print(\"Case {0} shots: {1}%\".format(shot,frac*100))"
   ]
  },
  {
   "cell_type": "markdown",
   "metadata": {},
   "source": [
    "The results of the study suggest that for the simple problem we are considering, all the optimizations in which the circuit is measured at least 64 times per iteration, provide a solution containing the optimal solution. "
   ]
  },
  {
   "cell_type": "markdown",
   "metadata": {},
   "source": [
    "### Results Interpretation with Several Optimizations\n",
    "\n",
    "Now that we have produced 10 optimization for each choice of the number of shots, we can repeat the plots of the *Results Interpretation* section, in this case considering the average of the different quantities, to see if we observe some significant differences."
   ]
  },
  {
   "cell_type": "code",
   "execution_count": 4,
   "metadata": {},
   "outputs": [],
   "source": [
    "# Prepare the results so that it is easier to plot them\n",
    "\n",
    "# Create list of times\n",
    "ntimes = np.array([])\n",
    "for i in range(len(scan)):\n",
    "    ntimes = np.append(ntimes, scan[i][0])\n",
    "#print(ntimes)\n",
    "\n",
    "# Create list of nfev\n",
    "nfevs = np.array([])\n",
    "for i in range(len(scan)):\n",
    "    nfevs = np.append(nfevs, scan[i][3])\n",
    "#print(nfevs)\n",
    "\n",
    "# Create list of shots\n",
    "nshots = np.array([])\n",
    "for i in range(len(scan)):\n",
    "    nshots = np.append(nshots, scan[i][2])\n",
    "#print(nshots)\n",
    "\n",
    "# Create list of number of eigenstates in the solution\n",
    "neigenst = np.array([])\n",
    "for i in range(len(scan)):\n",
    "    neigenst = np.append(neigenst, len(scan[i][1]))\n",
    "#print(neigenst)\n",
    "\n",
    "# Create list of cost function values\n",
    "ncost = np.array([])\n",
    "for i in range(len(scan)):\n",
    "    ncost = np.append(ncost, cost_function_C(scan[i][1], W))\n",
    "#print(ncost)"
   ]
  },
  {
   "cell_type": "code",
   "execution_count": 5,
   "metadata": {},
   "outputs": [
    {
     "data": {
      "text/html": [
       "<div>\n",
       "<style scoped>\n",
       "    .dataframe tbody tr th:only-of-type {\n",
       "        vertical-align: middle;\n",
       "    }\n",
       "\n",
       "    .dataframe tbody tr th {\n",
       "        vertical-align: top;\n",
       "    }\n",
       "\n",
       "    .dataframe thead th {\n",
       "        text-align: right;\n",
       "    }\n",
       "</style>\n",
       "<table border=\"1\" class=\"dataframe\">\n",
       "  <thead>\n",
       "    <tr style=\"text-align: right;\">\n",
       "      <th></th>\n",
       "      <th>time</th>\n",
       "      <th>nfevs</th>\n",
       "      <th>shots</th>\n",
       "      <th>eigenstates</th>\n",
       "      <th>cost_func</th>\n",
       "    </tr>\n",
       "  </thead>\n",
       "  <tbody>\n",
       "    <tr>\n",
       "      <th>0</th>\n",
       "      <td>24.862608</td>\n",
       "      <td>175.0</td>\n",
       "      <td>64.0</td>\n",
       "      <td>30.0</td>\n",
       "      <td>-6.427490</td>\n",
       "    </tr>\n",
       "    <tr>\n",
       "      <th>1</th>\n",
       "      <td>18.060896</td>\n",
       "      <td>142.0</td>\n",
       "      <td>64.0</td>\n",
       "      <td>31.0</td>\n",
       "      <td>-6.261475</td>\n",
       "    </tr>\n",
       "    <tr>\n",
       "      <th>2</th>\n",
       "      <td>16.167479</td>\n",
       "      <td>130.0</td>\n",
       "      <td>64.0</td>\n",
       "      <td>30.0</td>\n",
       "      <td>-5.983398</td>\n",
       "    </tr>\n",
       "    <tr>\n",
       "      <th>3</th>\n",
       "      <td>17.568885</td>\n",
       "      <td>133.0</td>\n",
       "      <td>64.0</td>\n",
       "      <td>30.0</td>\n",
       "      <td>-5.528564</td>\n",
       "    </tr>\n",
       "    <tr>\n",
       "      <th>4</th>\n",
       "      <td>19.139624</td>\n",
       "      <td>139.0</td>\n",
       "      <td>64.0</td>\n",
       "      <td>29.0</td>\n",
       "      <td>-5.931274</td>\n",
       "    </tr>\n",
       "  </tbody>\n",
       "</table>\n",
       "</div>"
      ],
      "text/plain": [
       "        time  nfevs  shots  eigenstates  cost_func\n",
       "0  24.862608  175.0   64.0         30.0  -6.427490\n",
       "1  18.060896  142.0   64.0         31.0  -6.261475\n",
       "2  16.167479  130.0   64.0         30.0  -5.983398\n",
       "3  17.568885  133.0   64.0         30.0  -5.528564\n",
       "4  19.139624  139.0   64.0         29.0  -5.931274"
      ]
     },
     "execution_count": 5,
     "metadata": {},
     "output_type": "execute_result"
    }
   ],
   "source": [
    "# Put the lists in a dataframe\n",
    "import pandas as pd\n",
    "\n",
    "df = pd.DataFrame(list(zip(ntimes, nfevs, nshots, neigenst, ncost)), \n",
    "               columns =['time', 'nfevs', 'shots', 'eigenstates', 'cost_func'])\n",
    "\n",
    "df.head(5)"
   ]
  },
  {
   "cell_type": "code",
   "execution_count": 6,
   "metadata": {},
   "outputs": [
    {
     "data": {
      "text/html": [
       "<div>\n",
       "<style scoped>\n",
       "    .dataframe tbody tr th:only-of-type {\n",
       "        vertical-align: middle;\n",
       "    }\n",
       "\n",
       "    .dataframe tbody tr th {\n",
       "        vertical-align: top;\n",
       "    }\n",
       "\n",
       "    .dataframe thead th {\n",
       "        text-align: right;\n",
       "    }\n",
       "</style>\n",
       "<table border=\"1\" class=\"dataframe\">\n",
       "  <thead>\n",
       "    <tr style=\"text-align: right;\">\n",
       "      <th></th>\n",
       "      <th>shots</th>\n",
       "      <th>time</th>\n",
       "      <th>nfevs</th>\n",
       "      <th>eigenstates</th>\n",
       "      <th>cost_func</th>\n",
       "    </tr>\n",
       "  </thead>\n",
       "  <tbody>\n",
       "    <tr>\n",
       "      <th>0</th>\n",
       "      <td>64.0</td>\n",
       "      <td>17.725865</td>\n",
       "      <td>140.1</td>\n",
       "      <td>29.5</td>\n",
       "      <td>-6.052307</td>\n",
       "    </tr>\n",
       "    <tr>\n",
       "      <th>1</th>\n",
       "      <td>128.0</td>\n",
       "      <td>22.009169</td>\n",
       "      <td>147.1</td>\n",
       "      <td>26.7</td>\n",
       "      <td>-6.531226</td>\n",
       "    </tr>\n",
       "    <tr>\n",
       "      <th>2</th>\n",
       "      <td>256.0</td>\n",
       "      <td>24.298621</td>\n",
       "      <td>157.2</td>\n",
       "      <td>25.0</td>\n",
       "      <td>-6.967700</td>\n",
       "    </tr>\n",
       "    <tr>\n",
       "      <th>3</th>\n",
       "      <td>512.0</td>\n",
       "      <td>26.420003</td>\n",
       "      <td>170.6</td>\n",
       "      <td>21.6</td>\n",
       "      <td>-7.316638</td>\n",
       "    </tr>\n",
       "    <tr>\n",
       "      <th>4</th>\n",
       "      <td>1024.0</td>\n",
       "      <td>29.930701</td>\n",
       "      <td>193.9</td>\n",
       "      <td>18.1</td>\n",
       "      <td>-7.359229</td>\n",
       "    </tr>\n",
       "    <tr>\n",
       "      <th>5</th>\n",
       "      <td>2048.0</td>\n",
       "      <td>29.868217</td>\n",
       "      <td>186.9</td>\n",
       "      <td>15.3</td>\n",
       "      <td>-7.717566</td>\n",
       "    </tr>\n",
       "    <tr>\n",
       "      <th>6</th>\n",
       "      <td>3072.0</td>\n",
       "      <td>31.629773</td>\n",
       "      <td>203.9</td>\n",
       "      <td>13.4</td>\n",
       "      <td>-7.829980</td>\n",
       "    </tr>\n",
       "    <tr>\n",
       "      <th>7</th>\n",
       "      <td>4096.0</td>\n",
       "      <td>35.715563</td>\n",
       "      <td>223.4</td>\n",
       "      <td>8.5</td>\n",
       "      <td>-7.980127</td>\n",
       "    </tr>\n",
       "  </tbody>\n",
       "</table>\n",
       "</div>"
      ],
      "text/plain": [
       "    shots       time  nfevs  eigenstates  cost_func\n",
       "0    64.0  17.725865  140.1         29.5  -6.052307\n",
       "1   128.0  22.009169  147.1         26.7  -6.531226\n",
       "2   256.0  24.298621  157.2         25.0  -6.967700\n",
       "3   512.0  26.420003  170.6         21.6  -7.316638\n",
       "4  1024.0  29.930701  193.9         18.1  -7.359229\n",
       "5  2048.0  29.868217  186.9         15.3  -7.717566\n",
       "6  3072.0  31.629773  203.9         13.4  -7.829980\n",
       "7  4096.0  35.715563  223.4          8.5  -7.980127"
      ]
     },
     "execution_count": 6,
     "metadata": {},
     "output_type": "execute_result"
    }
   ],
   "source": [
    "# Group by shots and average\n",
    "df_plot = df.groupby(['shots']).mean()\n",
    "df_plot.reset_index(level=0, inplace=True)\n",
    "df_plot"
   ]
  },
  {
   "cell_type": "code",
   "execution_count": 7,
   "metadata": {},
   "outputs": [
    {
     "data": {
      "image/png": "[encoded data removed]",
      "text/plain": [
       "<Figure size 432x288 with 1 Axes>"
      ]
     },
     "metadata": {
      "needs_background": "light"
     },
     "output_type": "display_data"
    }
   ],
   "source": [
    "# Cost function evaluations vs shots\n",
    "scatter_plot(x       = df_plot.shots,\n",
    "             y       = df_plot.nfevs,\n",
    "             title   = \"Number of cost function evaluations vs shots\",\n",
    "             xlabel  = \"Shots\",\n",
    "             ylabel  = \"Cost function evaluations\",\n",
    "             save_as = \"nfev_vs_shots_avg10\")"
   ]
  },
  {
   "cell_type": "code",
   "execution_count": 8,
   "metadata": {},
   "outputs": [
    {
     "data": {
      "image/png": "[encoded data removed]",
      "text/plain": [
       "<Figure size 432x288 with 1 Axes>"
      ]
     },
     "metadata": {
      "needs_background": "light"
     },
     "output_type": "display_data"
    }
   ],
   "source": [
    "# Elapsed time vs shots\n",
    "scatter_plot(x       = df_plot.shots,\n",
    "             y       = df_plot.time,\n",
    "             title   = \"Elapsed time vs shots\",\n",
    "             xlabel  = \"Shots\",\n",
    "             ylabel  = \"Elapsed time [s]\",\n",
    "             save_as = \"time_vs_shots_avg10\")"
   ]
  },
  {
   "cell_type": "code",
   "execution_count": 9,
   "metadata": {},
   "outputs": [
    {
     "data": {
      "image/png": "[encoded data removed]",
      "text/plain": [
       "<Figure size 432x288 with 1 Axes>"
      ]
     },
     "metadata": {
      "needs_background": "light"
     },
     "output_type": "display_data"
    }
   ],
   "source": [
    "# Elapsed time vs cost function evaluations\n",
    "scatter_plot(x       = df_plot.nfevs,\n",
    "             y       = df_plot.time,\n",
    "             title   = \"Elapsed time vs number of cost function evaluations\",\n",
    "             xlabel  = \"Cost function evaluations\",\n",
    "             ylabel  = \"Elapsed time [s]\",\n",
    "             save_as = \"time_vs_nfev_avg10\")"
   ]
  },
  {
   "cell_type": "code",
   "execution_count": 10,
   "metadata": {},
   "outputs": [
    {
     "data": {
      "image/png": "[encoded data removed]",
      "text/plain": [
       "<Figure size 432x288 with 1 Axes>"
      ]
     },
     "metadata": {
      "needs_background": "light"
     },
     "output_type": "display_data"
    }
   ],
   "source": [
    "# Elapsed time vs (cost function evaluations x shots)\n",
    "scatter_plot(x       = df_plot.shots*df_plot.nfevs,\n",
    "             y       = df_plot.time,\n",
    "             title   = \"Elapsed time vs number of cost function evaluations x shots\",\n",
    "             xlabel  = \"(Cost function evaluations) x (shots)\",\n",
    "             ylabel  = \"Elapsed time [s]\",\n",
    "             save_as = \"time_vs_nfev_x_shots_avg10\")"
   ]
  },
  {
   "cell_type": "code",
   "execution_count": 11,
   "metadata": {},
   "outputs": [
    {
     "data": {
      "image/png": "[encoded data removed]",
      "text/plain": [
       "<Figure size 432x288 with 1 Axes>"
      ]
     },
     "metadata": {
      "needs_background": "light"
     },
     "output_type": "display_data"
    }
   ],
   "source": [
    "# Elapsed time vs log2(shots)\n",
    "scatter_plot(x       = np.log2(df_plot.shots),\n",
    "             y       = df_plot.time,\n",
    "             title   = \"Elapsed time vs log2(shots)\",\n",
    "             xlabel  = \"log2(shots)\",\n",
    "             ylabel  = \"Elapsed time [s]\",\n",
    "             save_as = \"time_vs_log2shots_avg10\")"
   ]
  },
  {
   "cell_type": "markdown",
   "metadata": {},
   "source": [
    "### How many eigenstates in the solution?\n",
    "\n",
    "One additional quantity that we can measure is the number of eigenstates present in the solution. \n",
    "\n",
    "In fact, if we want to solve our problem through a *brute force* approach, we have to evaluate all the 32 possible eigenstates to get the corresponding eigenvalue (or cost function). While in this simple case this is not a problem at all, in general this is not a viable choice and this is the reason why VQE could be an interesting algorithm to solve combinatorial problems.\n",
    "\n",
    "But if the solution provided by VQE is itself nothing more than a superposition of all possible eigenstates, we are gaining nothing.\n",
    "\n",
    "For this reason, checking the number of eigenstates in the final solution can give significant hints on the quality of the solution returned by the optimization process."
   ]
  },
  {
   "cell_type": "code",
   "execution_count": 12,
   "metadata": {},
   "outputs": [
    {
     "data": {
      "image/png": "[encoded data removed]",
      "text/plain": [
       "<Figure size 432x288 with 1 Axes>"
      ]
     },
     "metadata": {
      "needs_background": "light"
     },
     "output_type": "display_data"
    }
   ],
   "source": [
    "# Number of eigenstates in solution vs shots\n",
    "scatter_plot(x       = df_plot.shots,\n",
    "             y       = df_plot.eigenstates,\n",
    "             title   = \"Number of eigenstates in solution vs shots\",\n",
    "             xlabel  = \"Shots\",\n",
    "             ylabel  = \"Eigenstates\",\n",
    "             save_as = \"eigenst_vs_shots_avg10\")"
   ]
  },
  {
   "cell_type": "markdown",
   "metadata": {},
   "source": [
    "Considering this, we can repeat the study on the fraction of valid solutions, but including now the number of eigenstates to decide whether we want to keep the solution or not."
   ]
  },
  {
   "cell_type": "code",
   "execution_count": 13,
   "metadata": {},
   "outputs": [
    {
     "name": "stdout",
     "output_type": "stream",
     "text": [
      "Percentage of solutions containing the optimal solution,  \n",
      "without any limits on the number of eigenstates:\n",
      "\n",
      "Case 64 shots: 100.0%\n",
      "Case 128 shots: 100.0%\n",
      "Case 256 shots: 100.0%\n",
      "Case 512 shots: 100.0%\n",
      "Case 1024 shots: 100.0%\n",
      "Case 2048 shots: 100.0%\n",
      "Case 3072 shots: 100.0%\n",
      "Case 4096 shots: 100.0%\n"
     ]
    },
    {
     "data": {
      "image/png": "[encoded data removed]",
      "text/plain": [
       "<Figure size 432x288 with 1 Axes>"
      ]
     },
     "metadata": {
      "needs_background": "light"
     },
     "output_type": "display_data"
    }
   ],
   "source": [
    "print(\"\"\"Percentage of solutions containing the optimal solution,  \n",
    "without any limits on the number of eigenstates:\"\"\")\n",
    "print()\n",
    "fracs = []\n",
    "for shot in load_shots_list:\n",
    "    frac = F_opt_finder(scan, shot, W, ['00100', '11011'], 100)\n",
    "    print(\"Case {0} shots: {1}%\".format(shot,frac*100))\n",
    "    fracs.append(frac)\n",
    "    \n",
    "scatter_plot(x       = load_shots_list,\n",
    "             y       = fracs,\n",
    "             title   = \"Fraction of valid solutions\",\n",
    "             xlabel  = \"Shots\",\n",
    "             ylabel  = \"F_opt\",\n",
    "             save_as = \"valid_sol_32\",\n",
    "             ylim    = (0, 1.2))"
   ]
  },
  {
   "cell_type": "code",
   "execution_count": 14,
   "metadata": {},
   "outputs": [
    {
     "name": "stdout",
     "output_type": "stream",
     "text": [
      "Percentage of solutions containing the optimal solution and \n",
      "having less than 16 eigenstates:\n",
      "\n",
      "Case 64 shots: 0.0%\n",
      "Case 128 shots: 10.0%\n",
      "Case 256 shots: 0.0%\n",
      "Case 512 shots: 10.0%\n",
      "Case 1024 shots: 40.0%\n",
      "Case 2048 shots: 70.0%\n",
      "Case 3072 shots: 80.0%\n",
      "Case 4096 shots: 100.0%\n"
     ]
    },
    {
     "data": {
      "image/png": "[encoded data removed]",
      "text/plain": [
       "<Figure size 432x288 with 1 Axes>"
      ]
     },
     "metadata": {
      "needs_background": "light"
     },
     "output_type": "display_data"
    }
   ],
   "source": [
    "print(\"\"\"Percentage of solutions containing the optimal solution and \n",
    "having less than 16 eigenstates:\"\"\")\n",
    "print()\n",
    "fracs = []\n",
    "for shot in load_shots_list:\n",
    "    frac = F_opt_finder(scan, shot, W, ['00100', '11011'], 16)\n",
    "    print(\"Case {0} shots: {1}%\".format(shot,frac*100))\n",
    "    fracs.append(frac)\n",
    "    \n",
    "scatter_plot(x       = load_shots_list,\n",
    "             y       = fracs,\n",
    "             title   = \"Fraction of valid solutions\",\n",
    "             xlabel  = \"Shots\",\n",
    "             ylabel  = \"F_opt\",\n",
    "             save_as = \"valid_sol_16\",\n",
    "             ylim    = (0, 1.2))"
   ]
  },
  {
   "cell_type": "code",
   "execution_count": 15,
   "metadata": {},
   "outputs": [
    {
     "name": "stdout",
     "output_type": "stream",
     "text": [
      "Percentage of solutions containing the optimal solution and \n",
      "having less than 12 eigenstates:\n",
      "\n",
      "Case 64 shots: 0.0%\n",
      "Case 128 shots: 0.0%\n",
      "Case 256 shots: 0.0%\n",
      "Case 512 shots: 0.0%\n",
      "Case 1024 shots: 20.0%\n",
      "Case 2048 shots: 30.0%\n",
      "Case 3072 shots: 50.0%\n",
      "Case 4096 shots: 80.0%\n"
     ]
    },
    {
     "data": {
      "image/png": "[encoded data removed]",
      "text/plain": [
       "<Figure size 432x288 with 1 Axes>"
      ]
     },
     "metadata": {
      "needs_background": "light"
     },
     "output_type": "display_data"
    }
   ],
   "source": [
    "print(\"\"\"Percentage of solutions containing the optimal solution and \n",
    "having less than 12 eigenstates:\"\"\")\n",
    "print()\n",
    "fracs = []\n",
    "for shot in load_shots_list:\n",
    "    frac = F_opt_finder(scan, shot, W, ['00100', '11011'], 12)\n",
    "    print(\"Case {0} shots: {1}%\".format(shot,frac*100))\n",
    "    fracs.append(frac)\n",
    "    \n",
    "scatter_plot(x       = load_shots_list,\n",
    "             y       = fracs,\n",
    "             title   = \"Fraction of valid solutions\",\n",
    "             xlabel  = \"Shots\",\n",
    "             ylabel  = \"F_opt\",\n",
    "             save_as = \"valid_sol_12\",\n",
    "             ylim    = (0, 1.2))"
   ]
  },
  {
   "cell_type": "code",
   "execution_count": 16,
   "metadata": {},
   "outputs": [
    {
     "name": "stdout",
     "output_type": "stream",
     "text": [
      "Percentage of solutions containing the optimal solution and \n",
      "having less than 8 eigenstates:\n",
      "\n",
      "Case 64 shots: 0.0%\n",
      "Case 128 shots: 0.0%\n",
      "Case 256 shots: 0.0%\n",
      "Case 512 shots: 0.0%\n",
      "Case 1024 shots: 0.0%\n",
      "Case 2048 shots: 0.0%\n",
      "Case 3072 shots: 0.0%\n",
      "Case 4096 shots: 40.0%\n"
     ]
    },
    {
     "data": {
      "image/png": "[encoded data removed]",
      "text/plain": [
       "<Figure size 432x288 with 1 Axes>"
      ]
     },
     "metadata": {
      "needs_background": "light"
     },
     "output_type": "display_data"
    }
   ],
   "source": [
    "print(\"\"\"Percentage of solutions containing the optimal solution and \n",
    "having less than 8 eigenstates:\"\"\")\n",
    "print()\n",
    "fracs = []\n",
    "for shot in load_shots_list:\n",
    "    frac = F_opt_finder(scan, shot, W, ['00100', '11011'], 8)\n",
    "    print(\"Case {0} shots: {1}%\".format(shot,frac*100))\n",
    "    fracs.append(frac)\n",
    "    \n",
    "scatter_plot(x       = load_shots_list,\n",
    "             y       = fracs,\n",
    "             title   = \"Fraction of valid solutions\",\n",
    "             xlabel  = \"Shots\",\n",
    "             ylabel  = \"F_opt\",\n",
    "             save_as = \"valid_sol_8\",\n",
    "             ylim    = (0, 1.2))    "
   ]
  },
  {
   "cell_type": "markdown",
   "metadata": {},
   "source": [
    "### Best Solution Selection"
   ]
  },
  {
   "cell_type": "code",
   "execution_count": 17,
   "metadata": {},
   "outputs": [
    {
     "data": {
      "image/png": "[encoded data removed]",
      "text/plain": [
       "<Figure size 432x288 with 1 Axes>"
      ]
     },
     "metadata": {
      "needs_background": "light"
     },
     "output_type": "display_data"
    }
   ],
   "source": [
    "# Average solution cost function vs shots\n",
    "scatter_plot(x       = df_plot.shots,\n",
    "             y       = df_plot.cost_func,\n",
    "             title   = \"Average solution cost function vs shots\",\n",
    "             xlabel  = \"Shots\",\n",
    "             ylabel  = \"Average solution cost function\",\n",
    "             save_as = \"cost_vs_shots_avg10\",\n",
    "             ylim    = (-8, -5))"
   ]
  },
  {
   "cell_type": "code",
   "execution_count": 18,
   "metadata": {},
   "outputs": [
    {
     "data": {
      "image/png": "[encoded data removed]",
      "text/plain": [
       "<Figure size 432x288 with 1 Axes>"
      ]
     },
     "metadata": {
      "needs_background": "light"
     },
     "output_type": "display_data"
    }
   ],
   "source": [
    "# Average solution cost function vs number of eigenstates in solution\n",
    "scatter_plot(x       = df_plot.eigenstates,\n",
    "             y       = df_plot.cost_func,\n",
    "             title   = \"Average cost function vs eigenstates number\",\n",
    "             xlabel  = \"Number of eigenstates\",\n",
    "             ylabel  = \"Average solution cost function\",\n",
    "             save_as = \"cost_vs_eigenst_avg10\",\n",
    "             ylim    = (-8, -5))"
   ]
  },
  {
   "cell_type": "code",
   "execution_count": 35,
   "metadata": {},
   "outputs": [
    {
     "data": {
      "text/html": [
       "<div>\n",
       "<style scoped>\n",
       "    .dataframe tbody tr th:only-of-type {\n",
       "        vertical-align: middle;\n",
       "    }\n",
       "\n",
       "    .dataframe tbody tr th {\n",
       "        vertical-align: top;\n",
       "    }\n",
       "\n",
       "    .dataframe thead th {\n",
       "        text-align: right;\n",
       "    }\n",
       "</style>\n",
       "<table border=\"1\" class=\"dataframe\">\n",
       "  <thead>\n",
       "    <tr style=\"text-align: right;\">\n",
       "      <th></th>\n",
       "      <th>time</th>\n",
       "      <th>nfevs</th>\n",
       "      <th>shots</th>\n",
       "      <th>eigenstates</th>\n",
       "      <th>cost_func</th>\n",
       "      <th>cost_min</th>\n",
       "      <th>eig_mean</th>\n",
       "      <th>eig_min</th>\n",
       "    </tr>\n",
       "  </thead>\n",
       "  <tbody>\n",
       "    <tr>\n",
       "      <th>5</th>\n",
       "      <td>16.529243</td>\n",
       "      <td>154.0</td>\n",
       "      <td>64.0</td>\n",
       "      <td>22.0</td>\n",
       "      <td>-7.656128</td>\n",
       "      <td>-7.656128</td>\n",
       "      <td>29.5</td>\n",
       "      <td>22.0</td>\n",
       "    </tr>\n",
       "    <tr>\n",
       "      <th>14</th>\n",
       "      <td>24.974285</td>\n",
       "      <td>171.0</td>\n",
       "      <td>128.0</td>\n",
       "      <td>13.0</td>\n",
       "      <td>-7.895386</td>\n",
       "      <td>-7.895386</td>\n",
       "      <td>26.7</td>\n",
       "      <td>13.0</td>\n",
       "    </tr>\n",
       "    <tr>\n",
       "      <th>27</th>\n",
       "      <td>26.455978</td>\n",
       "      <td>164.0</td>\n",
       "      <td>256.0</td>\n",
       "      <td>22.0</td>\n",
       "      <td>-7.761475</td>\n",
       "      <td>-7.761475</td>\n",
       "      <td>25.0</td>\n",
       "      <td>21.0</td>\n",
       "    </tr>\n",
       "    <tr>\n",
       "      <th>35</th>\n",
       "      <td>28.359070</td>\n",
       "      <td>187.0</td>\n",
       "      <td>512.0</td>\n",
       "      <td>16.0</td>\n",
       "      <td>-7.944336</td>\n",
       "      <td>-7.944336</td>\n",
       "      <td>21.6</td>\n",
       "      <td>12.0</td>\n",
       "    </tr>\n",
       "    <tr>\n",
       "      <th>41</th>\n",
       "      <td>31.399109</td>\n",
       "      <td>218.0</td>\n",
       "      <td>1024.0</td>\n",
       "      <td>9.0</td>\n",
       "      <td>-7.959229</td>\n",
       "      <td>-7.959229</td>\n",
       "      <td>18.1</td>\n",
       "      <td>9.0</td>\n",
       "    </tr>\n",
       "    <tr>\n",
       "      <th>50</th>\n",
       "      <td>47.372343</td>\n",
       "      <td>221.0</td>\n",
       "      <td>2048.0</td>\n",
       "      <td>10.0</td>\n",
       "      <td>-7.979370</td>\n",
       "      <td>-7.979370</td>\n",
       "      <td>15.3</td>\n",
       "      <td>9.0</td>\n",
       "    </tr>\n",
       "    <tr>\n",
       "      <th>69</th>\n",
       "      <td>38.459379</td>\n",
       "      <td>205.0</td>\n",
       "      <td>3072.0</td>\n",
       "      <td>10.0</td>\n",
       "      <td>-7.983154</td>\n",
       "      <td>-7.983154</td>\n",
       "      <td>13.4</td>\n",
       "      <td>10.0</td>\n",
       "    </tr>\n",
       "    <tr>\n",
       "      <th>79</th>\n",
       "      <td>37.402647</td>\n",
       "      <td>203.0</td>\n",
       "      <td>4096.0</td>\n",
       "      <td>3.0</td>\n",
       "      <td>-7.998535</td>\n",
       "      <td>-7.998535</td>\n",
       "      <td>8.5</td>\n",
       "      <td>3.0</td>\n",
       "    </tr>\n",
       "  </tbody>\n",
       "</table>\n",
       "</div>"
      ],
      "text/plain": [
       "         time  nfevs   shots  eigenstates  cost_func  cost_min  eig_mean  \\\n",
       "5   16.529243  154.0    64.0         22.0  -7.656128 -7.656128      29.5   \n",
       "14  24.974285  171.0   128.0         13.0  -7.895386 -7.895386      26.7   \n",
       "27  26.455978  164.0   256.0         22.0  -7.761475 -7.761475      25.0   \n",
       "35  28.359070  187.0   512.0         16.0  -7.944336 -7.944336      21.6   \n",
       "41  31.399109  218.0  1024.0          9.0  -7.959229 -7.959229      18.1   \n",
       "50  47.372343  221.0  2048.0         10.0  -7.979370 -7.979370      15.3   \n",
       "69  38.459379  205.0  3072.0         10.0  -7.983154 -7.983154      13.4   \n",
       "79  37.402647  203.0  4096.0          3.0  -7.998535 -7.998535       8.5   \n",
       "\n",
       "    eig_min  \n",
       "5      22.0  \n",
       "14     13.0  \n",
       "27     21.0  \n",
       "35     12.0  \n",
       "41      9.0  \n",
       "50      9.0  \n",
       "69     10.0  \n",
       "79      3.0  "
      ]
     },
     "execution_count": 35,
     "metadata": {},
     "output_type": "execute_result"
    }
   ],
   "source": [
    "# For each number of shots, get the solution giving\n",
    "# the lowest value of the cost function\n",
    "df_cost = df.groupby(['shots'])['cost_func']\n",
    "df_cost_plot = df.copy()\n",
    "\n",
    "# Group by shots and get the average number of eigenstates\n",
    "df_eig = df.groupby(['shots'])['eigenstates']\n",
    "df_eig_plot = df.copy()\n",
    "\n",
    "df_cost_plot = df_cost_plot.assign(cost_min = df_cost.transform(min),\n",
    "                                   eig_mean = df_eig.transform(np.mean),\n",
    "                                   eig_min  = df_eig.transform(np.min))\n",
    "\n",
    "df_cost_plot = df_cost_plot[df_cost_plot['cost_func'] == df_cost_plot['cost_min']]\n",
    "\n",
    "df_cost_plot"
   ]
  },
  {
   "cell_type": "code",
   "execution_count": 38,
   "metadata": {},
   "outputs": [
    {
     "data": {
      "image/png": "[encoded data removed]",
      "text/plain": [
       "<Figure size 432x288 with 1 Axes>"
      ]
     },
     "metadata": {
      "needs_background": "light"
     },
     "output_type": "display_data"
    }
   ],
   "source": [
    "# Plot the number of eigenstates in the solution:\n",
    "# - mean value (blue)\n",
    "# - when minimum cost function is selected (green)\n",
    "# - minimum value (orange)\n",
    "fig, ax = plt.subplots()\n",
    "\n",
    "y1 = df_cost_plot.eig_mean\n",
    "y2 = df_cost_plot.eigenstates\n",
    "y3 = df_cost_plot.eig_min\n",
    "\n",
    "avg_plot = ax.scatter(x     = df_cost_plot.shots,\n",
    "                      y     = y1,\n",
    "                      label = \"average eigenstate number\")\n",
    "\n",
    "min_eig  = ax.scatter(x = df_cost_plot.shots,\n",
    "                      y = y3,\n",
    "                      label = \"minimum amount of eigenstates\")\n",
    "\n",
    "min_plot = ax.scatter(x = df_cost_plot.shots,\n",
    "                      y = y2,\n",
    "                      label = \"eigenstate number for min\\n cost function value\")\n",
    "\n",
    "ax.set_title(\"Eigenstates in solutions vs shots\")\n",
    "ax.set_xlabel(\"Shots\")\n",
    "ax.set_ylabel(\"Eigenstates in solution\")\n",
    "ax.legend(loc = \"upper right\")\n",
    "\n",
    "plot_name = \"eig_in_sol\"\n",
    "plt.savefig(plot_name + '.png')\n",
    "plt.savefig(plot_name + '.pdf')\n"
   ]
  },
  {
   "cell_type": "markdown",
   "metadata": {},
   "source": [
    "# A more complex problem? (Work in progress)"
   ]
  },
  {
   "cell_type": "markdown",
   "metadata": {},
   "source": [
    "### Best Solution Selection\n",
    "\n",
    "The results of the previous study suggest that for the simple problem we are considering, all the optimizations in which at every iteration the circuit is measured at least 64 times, provide a solution containing the optimal solution. \n",
    "\n",
    "In general, we may expect that for more complex problems, just a fraction of the optimizations fulfills this goal.\n",
    "In that case, we would like to find a way to select a solution that with large probability contains the optimal solution.\n",
    "\n",
    "For this, we can try building a more complex problem, so that solving it is not as trivial as in the previous case."
   ]
  },
  {
   "cell_type": "code",
   "execution_count": 118,
   "metadata": {},
   "outputs": [
    {
     "data": {
      "image/png": "[encoded data removed]",
      "text/plain": [
       "<Figure size 432x288 with 1 Axes>"
      ]
     },
     "metadata": {},
     "output_type": "display_data"
    }
   ],
   "source": [
    "# Tools to handle general graphs\n",
    "import networkx as nx\n",
    "\n",
    "import numpy as np\n",
    "import matplotlib.pyplot as plt \n",
    "\n",
    "# Graph parameters \n",
    "n2 = 8\n",
    "V2 = np.arange(0, n, 1)\n",
    "E2 = [(0, 1, 2.0),\n",
    "      (0, 2, 1.0),\n",
    "      (3, 2, 3.0),\n",
    "      (0, 4, 3.0),\n",
    "      (4, 2, 1.0),\n",
    "      (7, 6, 1.0),\n",
    "      (6, 5, 1.0),\n",
    "      (5, 4, 6.0),\n",
    "      (5, 1, 1.0),\n",
    "      (0, 3, 1.0),\n",
    "      (6, 2, 1.0),\n",
    "      (4, 1, 5.0),\n",
    "      (5, 7, 2.0),\n",
    "      (4, 6, 1.0)] \n",
    "\n",
    "# Generating the graph with 8 nodes\n",
    "G2 = nx.Graph()\n",
    "G2.add_nodes_from(V2)\n",
    "G2.add_weighted_edges_from(E)\n",
    "\n",
    "# Plot the graph\n",
    "colors       = ['r' for node in G2.nodes()]\n",
    "default_axes = plt.axes(frameon=True)\n",
    "pos          = nx.spring_layout(G2)\n",
    "\n",
    "nx.draw_networkx(G2, \n",
    "                 node_color = colors, \n",
    "                 node_size  = 600, \n",
    "                 alpha      = 1, \n",
    "                 ax         = default_axes, \n",
    "                 pos        = pos)"
   ]
  },
  {
   "cell_type": "code",
   "execution_count": 119,
   "metadata": {
    "scrolled": false
   },
   "outputs": [
    {
     "name": "stdout",
     "output_type": "stream",
     "text": [
      "\n",
      "Best solution = [1, 0, 0, 1, 0, 1, 1, 0] cost = 0\n"
     ]
    },
    {
     "data": {
      "image/png": "[encoded data removed]",
      "text/plain": [
       "<Figure size 432x288 with 1 Axes>"
      ]
     },
     "metadata": {},
     "output_type": "display_data"
    }
   ],
   "source": [
    "import numpy as np\n",
    "import networkx as nx\n",
    "\n",
    "# number of characters\n",
    "n2 = 8\n",
    "\n",
    "# W matrix definition\n",
    "W2 = np.zeros((8,8))\n",
    "\n",
    "for i in range(len(E2)):\n",
    "    W[E[i][0]][E[i][1]] = E[i][2] \n",
    "\n",
    "best_cost_brute = 0\n",
    "\n",
    "# computing all possible combinations\n",
    "for b in range(2**n2):\n",
    "    # x stores all the 2^n possible combinations of 0 and 1\n",
    "    # for a vector of length n \n",
    "    x = [int(t) for t in reversed(list(bin(b)[2:].zfill(n2)))]\n",
    "\n",
    "    # initialize cost function value\n",
    "    cost = 0\n",
    "    # scan all possible costs and keep the highest one\n",
    "    # (now we want to maximize our score!)\n",
    "    for i in range(n2):\n",
    "        for j in range(n2):\n",
    "            cost = cost + W2[i,j]*x[i]*(1 - x[j])\n",
    "    if best_cost_brute < cost:\n",
    "        best_cost_brute = cost\n",
    "        xbest_brute = x \n",
    "    #print('case = ' + str(x)+ ' score = ' + str(cost))\n",
    "\n",
    "# Showing results    \n",
    "colors = ['r' if xbest_brute[i] == 0 else 'b' for i in range(n2)]\n",
    "nx.draw_networkx(G2, node_color=colors)\n",
    "print('\\nBest solution = ' + str(xbest_brute) + ' cost = ' + str(best_cost_brute)) "
   ]
  },
  {
   "cell_type": "code",
   "execution_count": 99,
   "metadata": {},
   "outputs": [],
   "source": [
    "# Test once\n",
    "\n",
    "# Variables declaration\n",
    "WEIGHTS2    = W2\n",
    "N_QBITS2    = 8\n",
    "DEPTH2      = 2\n",
    "SHOTS2      = 512\n",
    "BACKEND2    = 'qasm_simulator'\n",
    "FINAL_EVAL2 = 8192"
   ]
  },
  {
   "cell_type": "code",
   "execution_count": null,
   "metadata": {},
   "outputs": [
    {
     "name": "stdout",
     "output_type": "stream",
     "text": [
      "Done with 64 shots, repetition 0\n",
      "Done with 64 shots, repetition 1\n",
      "Done with 64 shots, repetition 2\n",
      "Done with 64 shots, repetition 3\n",
      "Done with 64 shots, repetition 4\n",
      "Done with 64 shots, repetition 5\n",
      "Done with 64 shots, repetition 6\n"
     ]
    }
   ],
   "source": [
    "# A small scan, but we can get some results\n",
    "\n",
    "from sys import getsizeof\n",
    "import gc\n",
    "\n",
    "N_repetitions = 10\n",
    "shots_list = [64] # [128, 256, 512, 1024, 2048, 3072, 4096]\n",
    "\n",
    "for shot in shots_list:\n",
    "    results_current = []\n",
    "    output = 0\n",
    "    file_name = \"Scan_8qbits_\" + str(shot) + \".pkl\"\n",
    "    for rep in range(N_repetitions): \n",
    "        output = time_vs_shots(shot,\n",
    "                               WEIGHTS,\n",
    "                               N_QBITS,\n",
    "                               DEPTH,\n",
    "                               BACKEND,\n",
    "                               FINAL_EVAL) \n",
    "        \n",
    "        print(\"Done with\", str(shot), \"shots, repetition\", rep)\n",
    "        results_current.append(output)\n",
    "        del output\n",
    "        gc.collect()\n",
    "    save_object(results_current, file_name) \n",
    "    results_current = None"
   ]
  },
  {
   "cell_type": "code",
   "execution_count": 100,
   "metadata": {},
   "outputs": [],
   "source": [
    "# A small scan, just for testing\n",
    "import gc\n",
    "\n",
    "scan_results = []\n",
    "\n",
    "shots_list = [128]#, 256, 512, 1024, 2048, 3072, 4096]\n",
    "\n",
    "for shot in shots_list:\n",
    "    output = time_vs_shots(shot,\n",
    "                           WEIGHTS2,\n",
    "                           N_QBITS2,\n",
    "                           DEPTH2,\n",
    "                           BACKEND2,\n",
    "                           FINAL_EVAL2) \n",
    "\n",
    "    scan_results.append(output)\n",
    "    del output\n",
    "    gc.collect()\n",
    "    \n",
    "# Normalize results for plotting\n",
    "for res in scan_results:\n",
    "    for key, value in res[1].items():\n",
    "        res[1][key] = res[1][key] / res[4]"
   ]
  },
  {
   "cell_type": "code",
   "execution_count": 120,
   "metadata": {},
   "outputs": [
    {
     "name": "stdout",
     "output_type": "stream",
     "text": [
      "Percentage of solutions containing the optimal solution:\n",
      "\n"
     ]
    },
    {
     "data": {
      "text/plain": [
       "1.0"
      ]
     },
     "execution_count": 120,
     "metadata": {},
     "output_type": "execute_result"
    }
   ],
   "source": [
    "print(\"Percentage of solutions containing the optimal solution:\")\n",
    "print()\n",
    "frac = F_opt_finder(scan_results, 128, W2, ['10010110','01101001'])\n",
    "frac"
   ]
  }
 ],
 "metadata": {
  "kernelspec": {
   "display_name": "Python 3",
   "language": "python",
   "name": "python3"
  },
  "language_info": {
   "codemirror_mode": {
    "name": "ipython",
    "version": 3
   },
   "file_extension": ".py",
   "mimetype": "text/x-python",
   "name": "python",
   "nbconvert_exporter": "python",
   "pygments_lexer": "ipython3",
   "version": "3.7.4"
  }
 },
 "nbformat": 4,
 "nbformat_minor": 4
}
