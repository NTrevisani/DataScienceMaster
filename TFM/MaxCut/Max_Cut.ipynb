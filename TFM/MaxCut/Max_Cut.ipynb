{
 "cells": [
  {
   "cell_type": "markdown",
   "metadata": {},
   "source": [
    "$\\newcommand{\\ket}[1]{\\left|#1\\right>}$\n",
    "\n",
    "$\\newcommand{\\bra}[1]{\\left<#1\\right|}$\n",
    "\n",
    "$\\newcommand{\\braket}[2]{\\left<#1 | #2\\right>}$\n",
    "\n",
    "$\\newcommand{\\expectation}[1]{\\left<#1\\right>}$"
   ]
  },
  {
   "cell_type": "markdown",
   "metadata": {},
   "source": [
    "# The Max Cut Problem\n",
    "\n",
    "#### References\n",
    "Qiskit Max Cut tutorial: https://qiskit.org/textbook/ch-applications/qaoa.html <br>\n",
    "Qiskit VQE tutorial: https://qiskit.org/textbook/ch-applications/vqe-molecules.html <br>\n",
    "Wikipedia: https://en.wikipedia.org/wiki/Maximum_cut\n"
   ]
  },
  {
   "cell_type": "markdown",
   "metadata": {},
   "source": [
    "## Problem Definition\n",
    "\n",
    "Let's consider a non-directed graph with $n$ vertices and $m$ edges.\n",
    "\n",
    "The Max Cut problems aim to find the two complementary subsets of vertices such that the number of edges connecting vertices of different subsets is maximal.\n",
    "\n",
    "This can be more easily visualized through an example, so that we can consider a graph G(V,E) with:\n",
    "- n = 5 vertices: $V = \\{V_1, V_2, V_3, V_4, V_5\\}$;\n",
    "- m = 6 edges: $E = \\{(0,1),(0,2),(1,2),(3,2),(3,4),(4,2)\\}$;\n",
    "- as we can see below, the graph is organized so that it recalls the shape of a butterfly.\n",
    "\n",
    "We can use a small piece of code to formalize the graph and show it."
   ]
  },
  {
   "cell_type": "code",
   "execution_count": 1,
   "metadata": {},
   "outputs": [
    {
     "data": {
      "image/png": "[encoded data removed]",
      "text/plain": [
       "<Figure size 432x288 with 1 Axes>"
      ]
     },
     "metadata": {},
     "output_type": "display_data"
    }
   ],
   "source": [
    "# Tools to handle general graphs\n",
    "import networkx as nx\n",
    "\n",
    "import numpy as np\n",
    "import matplotlib.pyplot as plt \n",
    "\n",
    "# Graph parameters \n",
    "n = 5\n",
    "V = np.arange(0,n,1)\n",
    "E = [(0,1,1.0),(0,2,1.0),(1,2,1.0),(3,2,1.0),(3,4,1.0),(4,2,1.0)] \n",
    "\n",
    "# Generating the butterfly graph with 5 nodes\n",
    "G = nx.Graph()\n",
    "G.add_nodes_from(V)\n",
    "G.add_weighted_edges_from(E)\n",
    "\n",
    "# Plot the graph\n",
    "colors       = ['r' for node in G.nodes()]\n",
    "default_axes = plt.axes(frameon=True)\n",
    "pos          = nx.spring_layout(G)\n",
    "\n",
    "nx.draw_networkx(G, \n",
    "                 node_color = colors, \n",
    "                 node_size  = 600, \n",
    "                 alpha      = 1, \n",
    "                 ax         = default_axes, \n",
    "                 pos        = pos)"
   ]
  },
  {
   "cell_type": "markdown",
   "metadata": {},
   "source": [
    "This is clearly a combinatorial optimization problem, since in principle we should try all the possible compositions of subsets and count the number of edges connecting vertices of different subsets.\n",
    "\n",
    "We can formalize our problem as a quadratic unconstrained binary optimization problem (QUBO), if we define the two subsets as $V1$ and $V2$ so that:\n",
    "- the vertices in $V1$ get are assigned a value 0: $x_i = 0 ~\\forall~ V_i \\in V1$;\n",
    "- the vertices in $V2$ get are assigned a value 0: $x_i = 1 ~\\forall~ V_i \\in V2$.\n",
    "\n",
    "Additionally, we introduce a weight matrix $w_{ij}$ with:\n",
    "- $w_{ii} = 0$ (a vertex is never connected to itself);\n",
    "- $w_{ij} = 1$ for existing edges;\n",
    "- $w_{ij} = 0$ for if vertex $V_i$ and vertex $V_j$ are not connected by any edge;\n",
    "- $w_{ij} = w_{ji}$.\n",
    "\n",
    "Thanks to this, we can defined a cost function that we would like to maximize:\n",
    "\n",
    "$$ C(\\textbf{x}) = \\sum_{i,j = 1}^n w_{ij} x_i (1 - x_j)$$\n",
    "\n",
    "where we can see that if two vertices belong to the same subset, the contribution to the cost function is 0 (at least one of the two terms $x_i$ or $(1 - x_j)$ is 0), while for vertices belonging to complementary subsets, the contribution is 1. The fact that $x_i$ must be 1 and $x_j$ must be 0, avoids counting twice the same edge.\n",
    "\n",
    "A more general approach may introduce different weights for different edges, so that $w_{ij} \\neq 1$, but always keeping $w_{ij} > 0$."
   ]
  },
  {
   "cell_type": "markdown",
   "metadata": {},
   "source": [
    "## Problem Resolution: Brute Force Approach\n",
    "\n",
    "Independently on the values of the weights, the problem is $NP$, since testing all the possible combinations of subsets $V1$ and $V2$ requires $2^n - 2$ (all the element in $V1$ or all the element in $V2$ are not valid solutions) evaluations of the cost function.\n",
    "This approach is called *brute force* and is strongly inefficient, so that it cannot be used even for not-so-large values of n.\n",
    "\n",
    "We can try and implement such approach in this case and use the results as a cross-check to test alternative ways of solving the problem.\n",
    "\n",
    "In particular, in order to have just one possible solution, we are going to give all the edges weight 1, but the edges connecting to vertes $V_2$, which will have weight 2."
   ]
  },
  {
   "cell_type": "code",
   "execution_count": 2,
   "metadata": {},
   "outputs": [
    {
     "name": "stdout",
     "output_type": "stream",
     "text": [
      "case = [0, 0, 0, 0, 0] score = 0\n",
      "case = [1, 0, 0, 0, 0] score = 3\n",
      "case = [0, 1, 0, 0, 0] score = 3\n",
      "case = [1, 1, 0, 0, 0] score = 4\n",
      "case = [0, 0, 1, 0, 0] score = 8\n",
      "case = [1, 0, 1, 0, 0] score = 7\n",
      "case = [0, 1, 1, 0, 0] score = 7\n",
      "case = [1, 1, 1, 0, 0] score = 4\n",
      "case = [0, 0, 0, 1, 0] score = 3\n",
      "case = [1, 0, 0, 1, 0] score = 6\n",
      "case = [0, 1, 0, 1, 0] score = 6\n",
      "case = [1, 1, 0, 1, 0] score = 7\n",
      "case = [0, 0, 1, 1, 0] score = 7\n",
      "case = [1, 0, 1, 1, 0] score = 6\n",
      "case = [0, 1, 1, 1, 0] score = 6\n",
      "case = [1, 1, 1, 1, 0] score = 3\n",
      "case = [0, 0, 0, 0, 1] score = 3\n",
      "case = [1, 0, 0, 0, 1] score = 6\n",
      "case = [0, 1, 0, 0, 1] score = 6\n",
      "case = [1, 1, 0, 0, 1] score = 7\n",
      "case = [0, 0, 1, 0, 1] score = 7\n",
      "case = [1, 0, 1, 0, 1] score = 6\n",
      "case = [0, 1, 1, 0, 1] score = 6\n",
      "case = [1, 1, 1, 0, 1] score = 3\n",
      "case = [0, 0, 0, 1, 1] score = 4\n",
      "case = [1, 0, 0, 1, 1] score = 7\n",
      "case = [0, 1, 0, 1, 1] score = 7\n",
      "case = [1, 1, 0, 1, 1] score = 8\n",
      "case = [0, 0, 1, 1, 1] score = 4\n",
      "case = [1, 0, 1, 1, 1] score = 3\n",
      "case = [0, 1, 1, 1, 1] score = 3\n",
      "case = [1, 1, 1, 1, 1] score = 0\n",
      "\n",
      "Best solution = [0, 0, 1, 0, 0] cost = 8\n"
     ]
    },
    {
     "data": {
      "image/png": "[encoded data removed]",
      "text/plain": [
       "<Figure size 432x288 with 1 Axes>"
      ]
     },
     "metadata": {},
     "output_type": "display_data"
    }
   ],
   "source": [
    "import numpy as np\n",
    "import networkx as nx\n",
    "\n",
    "# number of characters\n",
    "n = 5\n",
    "\n",
    "# W matrix definition\n",
    "W = np.array([[0, 1, 2, 0, 0],\n",
    "              [1, 0, 2, 0, 0],\n",
    "              [2, 2, 0, 2, 2],\n",
    "              [0, 0, 2, 0, 1],\n",
    "              [0, 0, 2, 1, 0]])\n",
    "\n",
    "best_cost_brute = 0\n",
    "\n",
    "# computing all possible combinations\n",
    "for b in range(2**n):\n",
    "    # x stores all the 2^n possible combinations of 0 and 1\n",
    "    # for a vector of length n \n",
    "    x = [int(t) for t in reversed(list(bin(b)[2:].zfill(n)))]\n",
    "\n",
    "    # initialize cost function value\n",
    "    cost = 0\n",
    "    # scan all possible costs and keep the highest one\n",
    "    # (now we want to maximize our score!)\n",
    "    for i in range(n):\n",
    "        for j in range(n):\n",
    "            cost = cost + W[i,j]*x[i]*(1 - x[j])\n",
    "    if best_cost_brute < cost:\n",
    "        best_cost_brute = cost\n",
    "        xbest_brute = x \n",
    "    print('case = ' + str(x)+ ' score = ' + str(cost))\n",
    "\n",
    "# Showing results    \n",
    "colors = ['r' if xbest_brute[i] == 0 else 'b' for i in range(n)]\n",
    "nx.draw_networkx(G, node_color=colors)\n",
    "print('\\nBest solution = ' + str(xbest_brute) + ' cost = ' + str(best_cost_brute)) "
   ]
  },
  {
   "cell_type": "markdown",
   "metadata": {},
   "source": [
    "As expected by the way we constructed the problem, the highest score is obtained when $V_2$ is alone in one of the two subsets of $V$."
   ]
  },
  {
   "cell_type": "markdown",
   "metadata": {},
   "source": [
    "## Problem Resolution: Ising Hamiltonian\n",
    "\n",
    "If we want to try and solve the problem more efficiently using a quantum computer, the first step consists in transforming it from a QUBO problem to a Ising Hamiltonian. To get the solution of the problem, we will have to find the fundamental state of the Hamiltonian.\n",
    "\n",
    "The result is the same (even if we are now going to look for a minimum, instead of a maximum), but this new formalism better adapts to the dual state that a qbit can assume:\n",
    "\n",
    "$\\ket{\\psi} = \\alpha \\ket{0} + \\beta \\ket{1}$\n",
    "\n",
    "where $\\alpha$ and $\\beta$ are complex coefficients that satisfy the relation:\n",
    "\n",
    "$ |\\alpha|^2 + |\\beta|^2 = 1 $\n"
   ]
  },
  {
   "cell_type": "markdown",
   "metadata": {},
   "source": [
    "To do so, we have to perform some transformations to the original formulation of the problem:\n",
    "- $x_i \\rightarrow \n",
    "    \\dfrac{1}{2}\n",
    "    (\\mathbb{1} + \\sigma_z)_i = \n",
    "    \\dfrac{1}{2}\n",
    "    \\left[\n",
    "    \\mathbb{1} + \n",
    "    \\begin{bmatrix}\n",
    "    1 &  0 \\\\\n",
    "    0 & -1\n",
    "    \\end{bmatrix}\n",
    "    \\right]_i = \n",
    "    \\begin{bmatrix}\n",
    "    1 & 0 \\\\\n",
    "    0 & 0\n",
    "    \\end{bmatrix}_i\n",
    "    $<br>\n",
    "    where the operator acts only on the corresponding states and has the following properties:\n",
    "    - $ \\begin{bmatrix}\n",
    "        1 & 0 \\\\\n",
    "        0 & 0\n",
    "        \\end{bmatrix}\n",
    "        \\begin{bmatrix}\n",
    "        1 \\\\\n",
    "        0\n",
    "        \\end{bmatrix} = \n",
    "        1 \\cdot\n",
    "        \\begin{bmatrix}\n",
    "        1 \\\\\n",
    "        0\n",
    "        \\end{bmatrix}$ <br>\n",
    "        $\\begin{bmatrix}\n",
    "        1 \\\\\n",
    "        0\n",
    "        \\end{bmatrix}$ is eigenvector of \n",
    "        $\\begin{bmatrix}\n",
    "        1 & 0 \\\\\n",
    "        0 & 0\n",
    "        \\end{bmatrix}$\n",
    "        with eigenvalue 1. <br>\n",
    "        This means that $x_i = 1 \\rightarrow         \n",
    "        \\begin{bmatrix}\n",
    "        1 \\\\\n",
    "        0\n",
    "        \\end{bmatrix} = \\ket{1}$\n",
    "    - $ \\begin{bmatrix}\n",
    "        1 & 0 \\\\\n",
    "        0 & 0\n",
    "        \\end{bmatrix}\n",
    "        \\begin{bmatrix}\n",
    "        0 \\\\\n",
    "        1\n",
    "        \\end{bmatrix} = \n",
    "        0 \\cdot\n",
    "        \\begin{bmatrix}\n",
    "        0 \\\\\n",
    "        1\n",
    "        \\end{bmatrix}$ <br>\n",
    "        $\\begin{bmatrix}\n",
    "        0 \\\\\n",
    "        1\n",
    "        \\end{bmatrix}$ is eigenvector of \n",
    "        $\\begin{bmatrix}\n",
    "        1 & 0 \\\\\n",
    "        0 & 0\n",
    "        \\end{bmatrix}$\n",
    "        with eigenvalue 0. <br>\n",
    "        This means that $x_i = 0 \\rightarrow         \n",
    "        \\begin{bmatrix}\n",
    "        0 \\\\\n",
    "        1\n",
    "        \\end{bmatrix} = \\ket{0}$"
   ]
  },
  {
   "cell_type": "markdown",
   "metadata": {},
   "source": [
    "- consequently, we will replace:\n",
    "$(1 - x_i) \\rightarrow \n",
    "    \\left[\n",
    "    \\mathbb{1} -     \n",
    "    \\begin{bmatrix}\n",
    "    1 & 0 \\\\\n",
    "    0 & 0\n",
    "    \\end{bmatrix}\n",
    "    \\right]_i = \n",
    "    \\begin{bmatrix}\n",
    "    0 & 0 \\\\\n",
    "    0 & 1\n",
    "    \\end{bmatrix}_i$"
   ]
  },
  {
   "cell_type": "markdown",
   "metadata": {},
   "source": [
    "- for every entry of the original $n x n$ QUBO matrix, take the entry $(i,j)$ and multiply it by the tensor product from $1$ to $n$ of $2 x 2$ identities, with the excpetion of the $i$-th and $j$-th terms of the product, which are the $2 x 2$ matrices corresponding to $x_i$ and $(1 - x_j)$. The sum of all these products is a diagonal $2^n x 2^n$ matrix, whose entries are the expectation values obtained with the *brute force* algorithm and corresponds to the Ising Hamiltonian associated to the problem. "
   ]
  },
  {
   "cell_type": "markdown",
   "metadata": {},
   "source": [
    "Since the process of converting a QUBO problem is not straightforward, let's make it clearer by doing it for the current problem, using a simple function."
   ]
  },
  {
   "cell_type": "code",
   "execution_count": 3,
   "metadata": {},
   "outputs": [],
   "source": [
    "# Define the 2x2 matrices we need\n",
    "\n",
    "# (1 + pauli_z)/2\n",
    "sigma_z = np.array([[1, 0], [0, 0]])\n",
    "\n",
    "# (1 - sigma_z)\n",
    "minus_z = np.array([[0, 0], [0, 1]])\n",
    "\n",
    "# Identity\n",
    "id_matrix = np.array([[1, 0], [0, 1]])"
   ]
  },
  {
   "cell_type": "code",
   "execution_count": 4,
   "metadata": {},
   "outputs": [],
   "source": [
    "# The actual function\n",
    "def qubo_to_ising(input_Q):\n",
    "    n = len(input_Q)\n",
    "    print(\"input:\")\n",
    "    print(input_Q)\n",
    "    print(\"\")\n",
    "    \n",
    "    # initialize H\n",
    "    H = 0\n",
    "\n",
    "    # compute the contribution of the i,j term to the Hamiltonian\n",
    "    # i = left-side term = x_i (corresponds to sigma_z)\n",
    "    for i in range(n):\n",
    "        # j = right-side term = (1 - x_j) (corresponds to minus_z)\n",
    "        for j in range(n):            \n",
    "            # first term\n",
    "            matrix_ij = 0\n",
    "            if i == 0:\n",
    "                matrix_ij = sigma_z\n",
    "            elif j == 0:\n",
    "                matrix_ij = minus_z\n",
    "            else:\n",
    "                matrix_ij = id_matrix\n",
    "            \n",
    "            # tensor product n times\n",
    "            for k in range(1,n):\n",
    "                if i == k:\n",
    "                    new_term = sigma_z\n",
    "                elif j == k:\n",
    "                    new_term = minus_z\n",
    "                else:\n",
    "                    new_term = id_matrix                \n",
    "                matrix_ij = np.kron(matrix_ij, new_term)\n",
    "\n",
    "            # multiply by the i,j term of input_Q \n",
    "            matrix_ij = matrix_ij * input_Q[i,j]\n",
    "            \n",
    "            # sum\n",
    "            H = H + matrix_ij\n",
    "    \n",
    "    return(-H) "
   ]
  },
  {
   "cell_type": "code",
   "execution_count": 5,
   "metadata": {},
   "outputs": [
    {
     "name": "stdout",
     "output_type": "stream",
     "text": [
      "input:\n",
      "[[0 1 2 0 0]\n",
      " [1 0 2 0 0]\n",
      " [2 2 0 2 2]\n",
      " [0 0 2 0 1]\n",
      " [0 0 2 1 0]]\n",
      "\n",
      "Ising Hamiltonian dimensions:(32, 32)\n",
      "\n",
      "Ising eigenvalues:\n",
      "[0, -3, -3, -4, -8, -7, -7, -4, -3, -6, -6, -7, -7, -6, -6, -3, -3, -6, -6, -7, -7, -6, -6, -3, -4, -7, -7, -8, -4, -3, -3, 0]\n"
     ]
    }
   ],
   "source": [
    "# Translate our QUBO matrix to a Ising Hamiltonian\n",
    "H = qubo_to_ising(W)\n",
    "\n",
    "print('Ising Hamiltonian dimensions:' + str(H.shape))\n",
    "print(\"\")\n",
    "\n",
    "# Check eigenvalues\n",
    "print(\"Ising eigenvalues:\")\n",
    "eigenvalues = []\n",
    "for i in range(len(H)):\n",
    "    eigenvalues.append(H[i,i])\n",
    "print(eigenvalues)    "
   ]
  },
  {
   "cell_type": "markdown",
   "metadata": {},
   "source": [
    "## Problem Resolution: Variational Quantum Eigensolver (VQE)\n",
    "\n",
    "We have seen that the Ising formulation is equivalent to the standard QUBO formulation of optimization problem and we state that it is more suited the resolution on a quantum computer. On the other hand, we still need $2^n$ evaluations of the Hamiltonian if we want to find the optimal solution.\n",
    "\n",
    "One possible way to exploit quantum computers to try and solve optimization problems more efficiently is through the so-called Variational Quantum Eigensolver (VQE) algorithm.\n",
    "\n",
    "It exploits the rapidity of a quantum computer in evaluating the cost function for a given quantum state $\\ket{\\psi}$ and associates it with a classical optimizer that helps in finding the optimal one."
   ]
  },
  {
   "cell_type": "markdown",
   "metadata": {},
   "source": [
    "### VQE: basic concepts\n",
    "\n",
    "To uderstand the idea behind VQE, we start by introducing the concepts of eigenvalue and eigenvector (or eigenstate), defined through the following relation:\n",
    "\n",
    "$$ H \\ket{\\psi_i} = \\lambda_i \\ket{\\psi_i}$$\n",
    "\n",
    "where $H$ is the matrix describing the Hamiltonian, $\\lambda_i$ is a eigenvalue and $\\ket{\\psi_i}$ is a eigenvector.\n",
    "In our case, the Hamiltonian $H$ is described by a diagonal matrix and the eigenvalues correspond to its diagonal entries and the eigenstates are the vectors:\n",
    "\n",
    "$$ \\ket{\\psi_i} = \\{ \\ket{00000}, \\ket{00001}, \\ket{00010}, \\ket{00011}, ...\\} $$\n",
    "\n",
    "This follows from the fact that in quantum mechanics, the outcome of a measurement can give only a discrete set of results. In particular, this set of results corresponds to the eigenvalues of the Hamiltonian $H$ describing the quantum system that we are measuring and each eigenvalue is associated to one eigenvector, or eigenstate of the system. \n",
    "\n",
    "The eigenvectors represent a basis of the space of the possible states of the quantum system, so that a general state $\\psi$ can be written as:\n",
    "\n",
    "$$ \\ket{\\psi} = \\sum_i^N \\alpha_i \\ket{\\psi_i}$$\n",
    "\n",
    "where in our case $N = 2^n$ is the number of eigenvalues and $\\alpha_i$ is the projection of $\\ket{\\psi}$ on the eigenvector $\\ket{\\psi_i}$:\n",
    "\n",
    "$$ \\alpha_i = \\braket{\\psi_i}{\\psi} $$\n",
    "\n",
    "And the Hamiltonian can be expressed as:\n",
    "\n",
    "$$ H = \\sum_i^{N} \\lambda_i \\ket{\\psi_i} \\bra{\\psi_i}$$\n",
    "\n",
    "The solution of our problem is the eigenvector associated to the smallest eigenvalue (let's call them $\\lambda_{min}$ and $\\ket{\\psi_{min}}$). \n",
    "In general, the outcome of a measurement (or expectation value) is always larger than the one obtained when the system is in the *fundamental state* $\\ket{\\psi_{min}}$:\n",
    "\n",
    "$$ \\lambda_{min} = \\expectation{\\psi_{min}|H|\\psi_{min}} \\leq\n",
    "\\expectation{\\psi|H|\\psi} = \n",
    "\\bra{\\psi} \\left( \\sum_i^{N} \\lambda_i \\ket{\\psi_i} \\bra{\\psi_i} \\right) \\ket{\\psi} = \n",
    "\\sum_i^{N} \\lambda_i \\braket{\\psi}{\\psi_i} \\braket{\\psi_i}{\\psi} = \n",
    "\\sum_i^{N} \\lambda_i |\\braket{\\psi_i}{\\psi}|^2 $$\n",
    "\n",
    "In other words, a large projection of the current state on the fundamental state, which is our solution, will produce a small expected value.\n",
    "\n",
    "The idea of VQE is to start with a reasonable ansatz for $\\ket{\\psi}$ (which for example is a superposition of all the possible eigenstates) and iteratively changing its eigenstate composition, typically through a series of rotations (we call this *optimization*), until we find the optimal solution or until we are satisfied with how close we are to it."
   ]
  },
  {
   "cell_type": "markdown",
   "metadata": {},
   "source": [
    "### On the expected value\n",
    "\n",
    "It is important at this point make that a single measurement gives only one of the possible results allowed.\n",
    "\n",
    "For example, in our case, if we prepare our state $\\ket{\\psi}$ such that it corresponds to the case (0, 0, 1, 0, 0), we will get, for every measurement, the result $\\lambda_{min} = -8$.\n",
    "In general, keeping in mind the probabilistic nature of quantum mechanics, a state:\n",
    "\n",
    "$$ \\ket{\\psi} = \\sum_i^N \\alpha_i \\ket{\\psi_i} $$\n",
    "\n",
    "will return as result the eigenvalue $\\lambda_i$ with probability $| \\alpha_i|^2$.\n",
    "\n",
    "This means that, for every state $\\ket{\\psi}$ that we consider, several measurements have to be performed in order to have an idea of how *large* or *small* the expected value is.\n",
    "\n",
    "Moreover, in our simple case we know all the eigenvalues of the Hamiltonian, while in general they may be so many that it is not convenient to explicitly get them, since it would correspond to solve the problem by *brute force*, making the optimization algorithm role even more delicate."
   ]
  },
  {
   "cell_type": "markdown",
   "metadata": {},
   "source": [
    "### VQE: Ansatz\n",
    "\n",
    "First of all, when preparing the ansatz for our solution, we have to consider that we will need one qbit for every vertex of our graph. In our case, we will need $n = 5$ qbits.\n",
    "\n",
    "Then, we want our ansatz:\n",
    "- to be able to cover the largest possible number of states $\\rightarrow$ more parameters;\n",
    "- to have a small number of gates: many gates may introduce errors and may make more difficult to converge towards a sensible solution $\\rightarrow$ less parameters.\n",
    "\n",
    "The choice will have to be a trade-off between these two opposite requirements.\n",
    "\n",
    "Among many possible possibilities, the so-called RY ansatz is quite popular and consists of:\n",
    "1. put every qbit in the $\\ket{+} = \\dfrac{\\ket{0} + \\ket{1}}{\\sqrt{2}}$ state;\n",
    "- connect (or introduce entanglement among) different qbits, for example between pair of qbits;\n",
    "- introduce for each qbit a rotation around the y-axis of its Bloch sphere (RY-gate). The rotation angles are the parameters to be adjusted during the optimization process;\n",
    "- repeat step 2. and 3. for a chosen number of times, keeping in mind that more RY-gates means more parameters for the optimizer.\n",
    "\n",
    "The entanglement between two qbits can be obtained by applying a controlled gate, a gate that applies a transformation on a target qbit only if the control qbit is in the $\\ket{1}$ state.\n",
    "In our case, we will apply controlled z-gates.\n",
    "\n",
    "The RY ansatz is particularly popular since it allows to span a large number of states without introducing any complex phase, thanks to the fact that all the rotations are performed around the y- axis of the Bloch sphere.\n",
    "\n",
    "Let's try and prepare the ansatz for our problem using qiskit."
   ]
  },
  {
   "cell_type": "code",
   "execution_count": 6,
   "metadata": {},
   "outputs": [
    {
     "data": {
      "image/png": "[encoded data removed]",
      "text/plain": [
       "<Figure size 1332.83x385.28 with 1 Axes>"
      ]
     },
     "execution_count": 6,
     "metadata": {},
     "output_type": "execute_result"
    }
   ],
   "source": [
    "from qiskit import QuantumCircuit, QuantumRegister, ClassicalRegister, execute, Aer\n",
    "\n",
    "PI = np.pi\n",
    "\n",
    "# Number of qbits\n",
    "n = 5\n",
    "\n",
    "# Define the Quantum and Classical Registers\n",
    "q = QuantumRegister(n)\n",
    "c = ClassicalRegister(n)\n",
    "\n",
    "# Build the circuit for the ansatz\n",
    "circuit = QuantumCircuit(q, c)\n",
    "\n",
    "# Put all the qbits in the |+> state\n",
    "theta_hadamard = [PI/2,PI/2,PI/2,PI/2,PI/2]\n",
    "for i in range(n):\n",
    "    circuit.ry(theta_hadamard[i],q[i])\n",
    "circuit.barrier()\n",
    "\n",
    "# Apply controlled-z gates (first layer)\n",
    "for i in range(n-1):\n",
    "    circuit.cz(q[i], q[i+1])\n",
    "\n",
    "# Introduce RY-gates (first layer)\n",
    "theta_0 = [0.,0.,0.,0.,0.]\n",
    "for j in range(n):\n",
    "    circuit.ry(theta_0[j],q[j])\n",
    "circuit.barrier()\n",
    "\n",
    "# Apply controlled-z gates (second layer)\n",
    "for i in range(n-1):\n",
    "    circuit.cz(q[i], q[i+1])\n",
    "    \n",
    "# Introduce RY-gates (second layer)\n",
    "theta_1 = [0.,0.,0.,0.,0.]\n",
    "for j in range(n):\n",
    "    circuit.ry(theta_1[j],q[j])\n",
    "circuit.barrier()\n",
    "\n",
    "# Close the circuit with qbits measurements\n",
    "circuit.measure(q, c)\n",
    "\n",
    "# Draw the circuit    \n",
    "circuit.draw(output='mpl')"
   ]
  },
  {
   "cell_type": "code",
   "execution_count": 7,
   "metadata": {},
   "outputs": [
    {
     "name": "stdout",
     "output_type": "stream",
     "text": [
      "{'01000': 38, '00001': 30, '01001': 37, '00111': 31, '01011': 40, '10000': 33, '00000': 31, '10011': 37, '00100': 24, '11100': 26, '10101': 34, '10110': 30, '01101': 18, '11110': 28, '11011': 27, '01110': 39, '11010': 36, '10010': 32, '10100': 35, '01100': 36, '01010': 33, '00011': 29, '11111': 25, '00010': 30, '10001': 28, '10111': 45, '00101': 35, '11001': 32, '11000': 26, '01111': 30, '11101': 27, '00110': 42}\n"
     ]
    }
   ],
   "source": [
    "# Execute the circuit on a simulator\n",
    "job = execute(circuit, \n",
    "              backend = Aer.get_backend('qasm_simulator'), \n",
    "              shots   = 1024)\n",
    "\n",
    "result = job.result()\n",
    "\n",
    "# Print the result\n",
    "print(result.get_counts(circuit))"
   ]
  },
  {
   "cell_type": "code",
   "execution_count": 9,
   "metadata": {},
   "outputs": [
    {
     "data": {
      "image/png": "[encoded data removed]",
      "text/plain": [
       "<Figure size 504x360 with 1 Axes>"
      ]
     },
     "execution_count": 9,
     "metadata": {},
     "output_type": "execute_result"
    }
   ],
   "source": [
    "# Plot the result\n",
    "from qiskit.visualization import plot_histogram\n",
    "\n",
    "plot_histogram(result.get_counts(circuit))"
   ]
  },
  {
   "cell_type": "markdown",
   "metadata": {},
   "source": [
    "### Cost function evaluation\n",
    "\n",
    "So we have been able to prepare a circuit for the ansatz of our optimal solution and we have evaluated it 1024 times, observing that all the possible outcomes are represented almost uniformly.\n",
    "\n",
    "However, if we want to optimize the 10 rotation angles we introduced to obtain the optimal solution, this is not enough: to decide if our current solution is good enough or we need more iterations to tune its paramters, we need to evaluate its cost function.\n",
    "\n",
    "Since we are evaluating many times (1024 in our case) the cost function, we will have many values to deal with and we can choose among different figures of merit to extract a quantitative evaluation of the goodness of the current solution.\n",
    "The more intuitive and naive is the mean value, which we implement here.\n",
    "\n",
    "Using this figure of merit, our best solution will be the one giving the smallest cost function value."
   ]
  },
  {
   "cell_type": "code",
   "execution_count": 37,
   "metadata": {},
   "outputs": [],
   "source": [
    "# Compute the value of the cost function\n",
    "\n",
    "# results: the outcome of the circuit measurement\n",
    "# weights: the original QUBO matrix\n",
    "def cost_function_C(results, weights):\n",
    "    \n",
    "    # the eigenstates obtained in the evaluation of the circuit\n",
    "    eigenstates = list(results.get_counts().keys())\n",
    "    \n",
    "    # how many times each eigenstate has been sampled\n",
    "    abundancies = list(results.get_counts().values())\n",
    "    \n",
    "    # number of shots \n",
    "    shots = sum(result.get_counts().values())\n",
    "    \n",
    "    # initialize the cost function\n",
    "    cost = 0\n",
    "    \n",
    "    for k in range(len(eigenstates)):\n",
    "        # the digits extracted from the eigenstate string\n",
    "        x = [int(num) for num in list(result.get_counts().keys())[k]]\n",
    "        # cost function due to the k-th eigenstate\n",
    "        partial_cost = 0\n",
    "        # compute cost function\n",
    "        for i in range(n):\n",
    "            for j in range(n):\n",
    "                partial_cost = partial_cost + W[i,j]*x[i]*(1 - x[j])\n",
    "        partial_cost = partial_cost * abundancies[k]\n",
    "        cost = cost + partial_cost\n",
    "    \n",
    "    return -cost / shots"
   ]
  },
  {
   "cell_type": "code",
   "execution_count": 38,
   "metadata": {},
   "outputs": [
    {
     "name": "stdout",
     "output_type": "stream",
     "text": [
      "-5.07421875\n"
     ]
    }
   ],
   "source": [
    "# The cost function given by the ansatz \n",
    "ansatz_cost = cost_function_C(result, W)\n",
    "print(ansatz_cost)"
   ]
  },
  {
   "cell_type": "markdown",
   "metadata": {},
   "source": [
    "### Optimizer\n",
    "\n",
    "Now that we have an ansatz and we have defined our cost function, we want to use a classical optimizer to find the rotation angles that we need to obtain the solution of our problem.\n",
    "\n",
    "To do so, we have to define the ansatz as a parametric circuit, where the rotation angles of the RY gates are not given as numbers, but appear only as parameters that can be passed to the function that generates the circuit. \n",
    "\n",
    "This is not the only technical detail we have to consider, since in order to use the classical optimizer as it is defined in scipy libraries (https://docs.scipy.org/doc/scipy/reference/optimize.minimize-cobyla.html), it is a good idea to include the creation and execution of the circuit inside the function that evaluates its cost.\n",
    "\n",
    "Once also this change to the cost function definition is implemented, we can finally call the optimizer to get the angles that rotates our ansatz into the solution of the problem.\n",
    "\n",
    "For this problem, we are using the Constrained optimization by linear approximation (COBYLA), a derivative-free, numerical optimization method used for constrained problem (https://en.wikipedia.org/wiki/COBYLA)."
   ]
  },
  {
   "cell_type": "code",
   "execution_count": 35,
   "metadata": {},
   "outputs": [],
   "source": [
    "# Write the circuit as a parametric function\n",
    "from qiskit import QuantumCircuit, QuantumRegister, ClassicalRegister, execute, Aer\n",
    "\n",
    "# n_qbits: integer\n",
    "# depth: integer\n",
    "def VQE_circuit(theta, n, depth): \n",
    "    \"\"\"Creates a variational-form RY ansatz.\n",
    "    \n",
    "    theta: (depth+1 x n) matrix of rotation angles,\n",
    "    n: number of qbits,\n",
    "    depth: number of layers.\n",
    "    \"\"\"\n",
    "        \n",
    "    if len(theta.ravel()) != ((depth+1) * n):        \n",
    "        raise ValueError(\"Theta cannot be reshaped as a (depth+1 x n) matrix\")\n",
    "\n",
    "    theta.shape = (depth + 1, n)\n",
    "\n",
    "    # Define the Quantum and Classical Registers\n",
    "    q = QuantumRegister(n)\n",
    "    c = ClassicalRegister(n)\n",
    "\n",
    "    # Build the circuit for the ansatz\n",
    "    circuit = QuantumCircuit(q, c)\n",
    "\n",
    "    # Put all the qbits in the |+> state\n",
    "    for i in range(n):\n",
    "        circuit.ry(theta[0,i],q[i])\n",
    "    circuit.barrier()\n",
    "    \n",
    "    # Now introduce the z-gates and RY-gates 'depth' times\n",
    "    for j in range(depth):\n",
    "        # Apply controlled-z gates\n",
    "        for i in range(n-1):\n",
    "            circuit.cz(q[i], q[i+1])\n",
    "\n",
    "        # Introduce RY-gates\n",
    "        for i in range(n):\n",
    "            circuit.ry(theta[j+1,i],q[i])\n",
    "        circuit.barrier()\n",
    "    \n",
    "    # Close the circuit with qbits measurements\n",
    "    circuit.measure(q, c)\n",
    "    \n",
    "    return circuit    "
   ]
  },
  {
   "cell_type": "code",
   "execution_count": 36,
   "metadata": {},
   "outputs": [
    {
     "data": {
      "image/png": "[encoded data removed]",
      "text/plain": [
       "<Figure size 1354.5x385.28 with 1 Axes>"
      ]
     },
     "execution_count": 36,
     "metadata": {},
     "output_type": "execute_result"
    }
   ],
   "source": [
    "# Draw an example circuit\n",
    "theta = np.array([[PI/2,PI/2,PI/2,PI/2,PI/2],\n",
    "                  [0.,0.,0.,0.,0.,],\n",
    "                  [0.,0.,0.,0.,0.,]])\n",
    "\n",
    "n_qbits = 5 \n",
    "depth   = 2\n",
    "\n",
    "VQE_circuit(theta, 5, 2).draw(output = 'mpl')"
   ]
  },
  {
   "cell_type": "code",
   "execution_count": 20,
   "metadata": {},
   "outputs": [],
   "source": [
    "# Include the creation and execution of the circuit inside the function\n",
    "# that computes the value of its cost\n",
    "\n",
    "def cost_function_cobyla(params, \n",
    "                         weights,# = W, \n",
    "                         n_qbits,# = 5, \n",
    "                         depth,  # = 2,\n",
    "                         verbosity = False):\n",
    "    \"\"\"Creates a circuit, executes it and computes the cost function.\n",
    "    \n",
    "    params: ndarray with the values of the parameters to be optimized,\n",
    "    weights: the original QUBO matrix of the problem,\n",
    "    n_qbits: number of qbits of the circuit,\n",
    "    depth: number of layers of the ciruit,\n",
    "    verbosity: activate/desactivate some control printouts.\n",
    "    \n",
    "    The function calls 'VQE_circuit' to create the circuit, then\n",
    "    evaluates it and compute the cost function.\n",
    "    \"\"\"\n",
    "    \n",
    "    if (verbosity == True):\n",
    "        print(\"Arguments:\")\n",
    "        print(\"Params = \\n\", params)\n",
    "        print(\"weights = \\n\", weights)\n",
    "        print(\"qbits = \", n_qbits)\n",
    "        print(\"depth = \", depth)\n",
    "    \n",
    "    circuit = VQE_circuit(params, n_qbits, depth)\n",
    "    circuit.draw(output = \"mpl\")\n",
    "    \n",
    "    # Execute the circuit on a simulator\n",
    "    job = execute(circuit, \n",
    "                  backend = Aer.get_backend('qasm_simulator'), \n",
    "                  shots   = 1024)\n",
    "    results = job.result()\n",
    "    \n",
    "    # the eigenstates obtained in the evaluation of the circuit\n",
    "    eigenstates = list(results.get_counts().keys())\n",
    "    \n",
    "    # how many times each eigenstate has been sampled\n",
    "    abundancies = list(results.get_counts().values())\n",
    "    \n",
    "    # number of shots \n",
    "    shots = sum(result.get_counts().values())\n",
    "    \n",
    "    # initialize the cost function\n",
    "    cost = 0\n",
    "    \n",
    "    for k in range(len(eigenstates)):\n",
    "        # the digits extracted from the eigenstate string\n",
    "        x = [int(num) for num in eigenstates[k]]\n",
    "        # cost function due to the k-th eigenstate\n",
    "        partial_cost = 0\n",
    "        # compute cost function\n",
    "        for i in range(n):\n",
    "            for j in range(n):\n",
    "                partial_cost = partial_cost + W[i,j]*x[i]*(1 - x[j])\n",
    "        partial_cost = partial_cost * abundancies[k]\n",
    "        cost = cost + partial_cost\n",
    "    \n",
    "    if (verbosity == True):\n",
    "        print(\"Cost: \", -cost/shots)\n",
    "\n",
    "    return -cost / shots"
   ]
  },
  {
   "cell_type": "code",
   "execution_count": 26,
   "metadata": {},
   "outputs": [],
   "source": [
    "# Scipy implementation of the COBYLA optimizer\n",
    "\n",
    "from scipy.optimize import minimize\n",
    "\n",
    "# Initial rotation angles of the RY ansatz\n",
    "theta = np.array([[PI/2,PI/2,PI/2,PI/2,PI/2],\n",
    "                  [0.,0.,0.,0.,0.,],\n",
    "                  [0.,0.,0.,0.,0.,]])\n",
    "\n",
    "# Classical optimizer tuning\n",
    "res = minimize(fun     = cost_function_cobyla, \n",
    "               x0      = theta.ravel(),    # the 'params' argument of 'cost_function_cobyla'\n",
    "               method  = 'COBYLA',         # we want to use the COBYLA optimization algorithm\n",
    "               options = {'maxiter': 500}, # maximum number of iterations\n",
    "               tol     = 0.0001,           # tolerance or final accuracy in the optimization \n",
    "               args    = (W, 5, 2))        # the arguments of 'cost_function_cobyla', except 'params'"
   ]
  },
  {
   "cell_type": "code",
   "execution_count": 27,
   "metadata": {},
   "outputs": [
    {
     "name": "stdout",
     "output_type": "stream",
     "text": [
      "Optimal rotation angles:\n",
      " [[ 2.19557092  3.13598903  0.94966361  2.9895272   3.77323188]\n",
      " [-0.2737785   0.11268846 -1.23346931 -0.28425722  1.25580619]\n",
      " [ 0.56703689  0.10022591  0.30197809 -0.28398456  0.41098621]]\n",
      "\n",
      "Cost function with the optimal angles (according to scipy): -7.96484375\n",
      "Cost function with the optimal angles (actual evaluation): -7.9599609375\n"
     ]
    }
   ],
   "source": [
    "# Obtain the output distribution using the final parameters\n",
    "optimal_circuit = VQE_circuit(res.x, 5, 2)\n",
    "\n",
    "backend = Aer.get_backend('qasm_simulator')\n",
    "NUM_SHOTS = 1024\n",
    "\n",
    "counts = execute(optimal_circuit, \n",
    "                 backend, \n",
    "                 shots = NUM_SHOTS).result().get_counts(optimal_circuit)\n",
    "\n",
    "print(\"Optimal rotation angles:\\n\", res.x)\n",
    "print()\n",
    "\n",
    "# To trust the optimizer is fine, but it is better to check ;) \n",
    "print(\"Cost function with the optimal angles (according to scipy):\", res.fun)\n",
    "print(\"Cost function with the optimal angles (actual evaluation):\",  cost_function_cobyla(res.x, W, 5, 2))"
   ]
  },
  {
   "cell_type": "code",
   "execution_count": 28,
   "metadata": {},
   "outputs": [
    {
     "data": {
      "image/png": "[encoded data removed]",
      "text/plain": [
       "<Figure size 504x360 with 1 Axes>"
      ]
     },
     "execution_count": 28,
     "metadata": {},
     "output_type": "execute_result"
    }
   ],
   "source": [
    "# Plot the result\n",
    "from qiskit.visualization import plot_histogram\n",
    "\n",
    "plot_histogram(counts)"
   ]
  },
  {
   "cell_type": "markdown",
   "metadata": {},
   "source": [
    "# Random stuff and work in progress"
   ]
  },
  {
   "cell_type": "code",
   "execution_count": null,
   "metadata": {},
   "outputs": [],
   "source": [
    "import math\n",
    "import numpy as np\n",
    "import networkx as nx\n",
    "\n",
    "from qiskit import BasicAer\n",
    "from qiskit.tools.visualization import plot_histogram\n",
    "from qiskit.optimization.ising import max_cut\n",
    "from qiskit.aqua.algorithms import VQE, QAOA, ExactEigensolver\n",
    "from qiskit.aqua.components.optimizers import SPSA, COBYLA\n",
    "from qiskit.aqua.components.variational_forms import RY\n",
    "from qiskit.aqua import QuantumInstance\n",
    "from qiskit.optimization.ising.common import sample_most_likely\n",
    "from qiskit.aqua.operators import MatrixOperator"
   ]
  },
  {
   "cell_type": "markdown",
   "metadata": {},
   "source": [
    "##### Simulación caso ideal"
   ]
  },
  {
   "cell_type": "code",
   "execution_count": null,
   "metadata": {},
   "outputs": [],
   "source": [
    "from qiskit.optimization.ising import max_cut\n",
    "\n",
    "H, const = max_cut.get_operator(W)"
   ]
  },
  {
   "cell_type": "code",
   "execution_count": null,
   "metadata": {},
   "outputs": [],
   "source": [
    "from qiskit.aqua.algorithms import ExactEigensolver\n",
    "from qiskit.optimization.ising.common import sample_most_likely\n",
    "\n",
    "#Comprobamos el Hamiltoniano construido mediante un algoritmo clásico\n",
    "ee = ExactEigensolver(H)\n",
    "result = ee.run()\n",
    "\n",
    "x = sample_most_likely(result['eigvecs'][0])\n",
    "print('Energy:', result['energy'])\n",
    "print('Solution:', max_cut.get_graph_solution(x))\n",
    "print('Solution objective:', max_cut.max_cut_value(x, W))\n",
    "#Nos quedamos con la solución correcta en sol \n",
    "sol=[]\n",
    "for i in range(2**n):\n",
    "    if result['eigvecs'][0][i]!=0:\n",
    "        sol.append(i)\n",
    "\n",
    "colors = ['r' if max_cut.get_graph_solution(x)[i] == 0 else 'b' for i in range(n)]\n",
    "nx.draw_networkx(G, node_color=colors)"
   ]
  },
  {
   "cell_type": "code",
   "execution_count": null,
   "metadata": {},
   "outputs": [],
   "source": [
    "from qiskit.aqua.components.optimizers import COBYLA\n",
    "from qiskit.aqua.components.variational_forms import RY\n",
    "from qiskit.aqua.algorithms import VQE\n",
    "\n",
    "seed = 10598\n",
    "\n",
    "# Optimizer\n",
    "cobyla = COBYLA() \n",
    "\n",
    "# Ansatz\n",
    "ry = RY(n, \n",
    "        depth=2, \n",
    "        entanglement='linear') \n",
    "\n",
    "# VQE algorithm\n",
    "vqe = VQE(H, ry, cobyla)"
   ]
  },
  {
   "cell_type": "code",
   "execution_count": null,
   "metadata": {},
   "outputs": [],
   "source": [
    "from qiskit import BasicAer\n",
    "from qiskit.aqua import QuantumInstance\n",
    "\n",
    "backend = BasicAer.get_backend('statevector_simulator')\n",
    "\n",
    "quantum_instance = QuantumInstance(backend=backend, \n",
    "                                   seed_simulator=seed, \n",
    "                                   seed_transpiler=seed)\n",
    "\n",
    "resultvqe = vqe.run(quantum_instance)"
   ]
  },
  {
   "cell_type": "code",
   "execution_count": null,
   "metadata": {},
   "outputs": [],
   "source": [
    "x = sample_most_likely(resultvqe['eigvecs'][0])\n",
    "\n",
    "print('Energy:',resultvqe['energy'])\n",
    "print('Time:', resultvqe['eval_time'])\n",
    "print('Function objetive:', max_cut.max_cut_value(x, W))\n",
    "\n",
    "print('Wave function solution:', [round(x,5) for x in resultvqe['eigvecs'][0]],'\\n')\n",
    "\n",
    "print('Bits solution (most likely):', max_cut.get_graph_solution(x) )\n",
    "\n",
    "print('Overlap:',np.abs(resultvqe['eigvecs'][0,sol])**2)"
   ]
  },
  {
   "cell_type": "markdown",
   "metadata": {},
   "source": [
    "##### Ejecución en dispositivo cuántico simulado"
   ]
  },
  {
   "cell_type": "code",
   "execution_count": null,
   "metadata": {},
   "outputs": [],
   "source": [
    "#Cuenta en IBMQ Experience\n",
    "\n",
    "backend = BasicAer.get_backend('qasm_simulator')\n",
    "\n",
    "quantum_instance = QuantumInstance(backend              = backend, \n",
    "                                   seed_simulator       = seed, \n",
    "                                   seed_transpiler      = seed,\n",
    "                                   skip_qobj_validation = False,\n",
    "                                   shots                = 1024)\n",
    "\n",
    "resultvqe = vqe.run(quantum_instance)"
   ]
  },
  {
   "cell_type": "code",
   "execution_count": null,
   "metadata": {},
   "outputs": [],
   "source": [
    "resultvqe[\"min_vector\"]"
   ]
  }
 ],
 "metadata": {
  "kernelspec": {
   "display_name": "Python 3",
   "language": "python",
   "name": "python3"
  },
  "language_info": {
   "codemirror_mode": {
    "name": "ipython",
    "version": 3
   },
   "file_extension": ".py",
   "mimetype": "text/x-python",
   "name": "python",
   "nbconvert_exporter": "python",
   "pygments_lexer": "ipython3",
   "version": "3.7.4"
  }
 },
 "nbformat": 4,
 "nbformat_minor": 4
}
