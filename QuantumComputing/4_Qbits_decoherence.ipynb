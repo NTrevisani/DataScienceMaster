{
 "cells": [
  {
   "cell_type": "markdown",
   "metadata": {},
   "source": [
    "$\\newcommand{\\ket}[1]{\\left|#1\\right>}$\n",
    "\n",
    "$\\newcommand{\\bra}[1]{\\left<#1\\right|}$\n",
    "\n",
    "$\\newcommand{\\braket}[2]{\\left<#1 | #2\\right>}$"
   ]
  },
  {
   "cell_type": "markdown",
   "metadata": {},
   "source": [
    "# Decoherence\n",
    "\n",
    "Everything here is taken from the IBM quantum computing User Guide and introduction to quantum computing:\n",
    "\n",
    "https://quantum-computing.ibm.com/docs/guide/wwwq/decoherence"
   ]
  },
  {
   "cell_type": "markdown",
   "metadata": {},
   "source": [
    "The presence of noise in the environment surrounding the qbit can induce a loss of information, also called $\\it{decoherence}$.\n",
    "\n",
    "This makes the $\\it{pure states}$ we described until now to become $\\it{mixed states}$.\n",
    "\n",
    "While pure states can be represented as vectors of unit length that touch the Bloch sphere surface, the mixed states are $\\it{shorter}$ and stay inside the Bloch sphere.\n",
    "\n",
    "Additionally, while pure states can be represented in density matrix form as:\n",
    "\n",
    "$\\rho =  \\ket{\\psi} \\bra{\\psi}$\n",
    "\n",
    "mixed states are expressed as linear combinations of pure states:\n",
    "\n",
    "$\\rho =  \\sum_k p_k \\ket{\\psi_k} \\bra{\\psi_k}$\n",
    "\n",
    "We are going to see two processes that can induce decoherence:\n",
    "- Energy relaxation \n",
    "- Dephasing"
   ]
  },
  {
   "cell_type": "markdown",
   "metadata": {},
   "source": [
    "## Energy Relaxation and $T_1$\n",
    "\n",
    "Qbits in the excited state $\\ket{1}$ tend to go back to the fundamental state $\\ket{0}$, with a time constant $T_1$. The largest the time constant, the more stable a qbit is.\n",
    "\n",
    "To measure $T_1$, we can create several circuits in which we put a qbit in the $\\ket{1}$ state, then one or more identity gates (which do nothing more than wait) and measure its state. An example of code to do this follows."
   ]
  },
  {
   "cell_type": "code",
   "execution_count": 4,
   "metadata": {},
   "outputs": [
    {
     "name": "stderr",
     "output_type": "stream",
     "text": [
      "Credentials are already in use. The existing account in the session will be replaced.\n"
     ]
    }
   ],
   "source": [
    "# t1.py\n",
    "import numpy as np\n",
    "import matplotlib.pyplot as plt\n",
    "\n",
    "from qiskit import QuantumCircuit, execute, IBMQ\n",
    "\n",
    "provider = IBMQ.load_account()"
   ]
  },
  {
   "cell_type": "code",
   "execution_count": null,
   "metadata": {},
   "outputs": [],
   "source": [
    "# Build the circuits\n",
    "pre = QuantumCircuit(1, 1)\n",
    "pre.x(0)\n",
    "pre.barrier()\n",
    "meas = QuantumCircuit(1, 1)\n",
    "meas.measure(0, 0)\n",
    "circuits = []\n",
    "exp_vector = range(1,51)\n",
    "for exp_index in exp_vector:\n",
    "    middle = QuantumCircuit(1, 1)\n",
    "    for i in range(45*exp_index):\n",
    "        middle.iden(0)\n",
    "    circuits.append(pre + middle + meas)\n",
    "    "
   ]
  },
  {
   "cell_type": "code",
   "execution_count": 12,
   "metadata": {},
   "outputs": [
    {
     "data": {
      "text/html": [
       "<pre style=\"word-wrap: normal;white-space: pre;background: #fff0;line-height: 1.1;font-family: &quot;Courier New&quot;,Courier,monospace\">        ┌───┐ ░ ┌────┐┌────┐┌────┐┌────┐┌────┐┌────┐┌────┐┌────┐┌────┐┌────┐»\n",
       "q_0: |0>┤ X ├─░─┤ Id ├┤ Id ├┤ Id ├┤ Id ├┤ Id ├┤ Id ├┤ Id ├┤ Id ├┤ Id ├┤ Id ├»\n",
       "        └───┘ ░ └────┘└────┘└────┘└────┘└────┘└────┘└────┘└────┘└────┘└────┘»\n",
       " c_0: 0 ════════════════════════════════════════════════════════════════════»\n",
       "                                                                            »\n",
       "«     ┌────┐┌────┐┌────┐┌────┐┌────┐┌────┐┌────┐┌────┐┌────┐┌────┐┌────┐┌────┐»\n",
       "«q_0: ┤ Id ├┤ Id ├┤ Id ├┤ Id ├┤ Id ├┤ Id ├┤ Id ├┤ Id ├┤ Id ├┤ Id ├┤ Id ├┤ Id ├»\n",
       "«     └────┘└────┘└────┘└────┘└────┘└────┘└────┘└────┘└────┘└────┘└────┘└────┘»\n",
       "«c_0: ════════════════════════════════════════════════════════════════════════»\n",
       "«                                                                             »\n",
       "«     ┌────┐┌────┐┌────┐┌────┐┌────┐┌────┐┌────┐┌────┐┌────┐┌────┐┌────┐┌────┐»\n",
       "«q_0: ┤ Id ├┤ Id ├┤ Id ├┤ Id ├┤ Id ├┤ Id ├┤ Id ├┤ Id ├┤ Id ├┤ Id ├┤ Id ├┤ Id ├»\n",
       "«     └────┘└────┘└────┘└────┘└────┘└────┘└────┘└────┘└────┘└────┘└────┘└────┘»\n",
       "«c_0: ════════════════════════════════════════════════════════════════════════»\n",
       "«                                                                             »\n",
       "«     ┌────┐┌────┐┌────┐┌────┐┌────┐┌────┐┌────┐┌────┐┌────┐┌────┐┌────┐┌─┐\n",
       "«q_0: ┤ Id ├┤ Id ├┤ Id ├┤ Id ├┤ Id ├┤ Id ├┤ Id ├┤ Id ├┤ Id ├┤ Id ├┤ Id ├┤M├\n",
       "«     └────┘└────┘└────┘└────┘└────┘└────┘└────┘└────┘└────┘└────┘└────┘└╥┘\n",
       "«c_0: ═══════════════════════════════════════════════════════════════════╩═\n",
       "«                                                                          </pre>"
      ],
      "text/plain": [
       "        ┌───┐ ░ ┌────┐┌────┐┌────┐┌────┐┌────┐┌────┐┌────┐┌────┐┌────┐┌────┐»\n",
       "q_0: |0>┤ X ├─░─┤ Id ├┤ Id ├┤ Id ├┤ Id ├┤ Id ├┤ Id ├┤ Id ├┤ Id ├┤ Id ├┤ Id ├»\n",
       "        └───┘ ░ └────┘└────┘└────┘└────┘└────┘└────┘└────┘└────┘└────┘└────┘»\n",
       " c_0: 0 ════════════════════════════════════════════════════════════════════»\n",
       "                                                                            »\n",
       "«     ┌────┐┌────┐┌────┐┌────┐┌────┐┌────┐┌────┐┌────┐┌────┐┌────┐┌────┐┌────┐»\n",
       "«q_0: ┤ Id ├┤ Id ├┤ Id ├┤ Id ├┤ Id ├┤ Id ├┤ Id ├┤ Id ├┤ Id ├┤ Id ├┤ Id ├┤ Id ├»\n",
       "«     └────┘└────┘└────┘└────┘└────┘└────┘└────┘└────┘└────┘└────┘└────┘└────┘»\n",
       "«c_0: ════════════════════════════════════════════════════════════════════════»\n",
       "«                                                                             »\n",
       "«     ┌────┐┌────┐┌────┐┌────┐┌────┐┌────┐┌────┐┌────┐┌────┐┌────┐┌────┐┌────┐»\n",
       "«q_0: ┤ Id ├┤ Id ├┤ Id ├┤ Id ├┤ Id ├┤ Id ├┤ Id ├┤ Id ├┤ Id ├┤ Id ├┤ Id ├┤ Id ├»\n",
       "«     └────┘└────┘└────┘└────┘└────┘└────┘└────┘└────┘└────┘└────┘└────┘└────┘»\n",
       "«c_0: ════════════════════════════════════════════════════════════════════════»\n",
       "«                                                                             »\n",
       "«     ┌────┐┌────┐┌────┐┌────┐┌────┐┌────┐┌────┐┌────┐┌────┐┌────┐┌────┐┌─┐\n",
       "«q_0: ┤ Id ├┤ Id ├┤ Id ├┤ Id ├┤ Id ├┤ Id ├┤ Id ├┤ Id ├┤ Id ├┤ Id ├┤ Id ├┤M├\n",
       "«     └────┘└────┘└────┘└────┘└────┘└────┘└────┘└────┘└────┘└────┘└────┘└╥┘\n",
       "«c_0: ═══════════════════════════════════════════════════════════════════╩═\n",
       "«                                                                          "
      ]
     },
     "execution_count": 12,
     "metadata": {},
     "output_type": "execute_result"
    }
   ],
   "source": [
    "# Draw the first circuit\n",
    "# this is the one with less Id gates,\n",
    "# or the one that takes less time to measure the qbit state\n",
    "circuits[0].draw()"
   ]
  },
  {
   "cell_type": "code",
   "execution_count": 8,
   "metadata": {},
   "outputs": [],
   "source": [
    "# Execute the circuits\n",
    "shots = 1024\n",
    "\n",
    "# Select the backend (in this case, the ibmq_rome quantum computer)\n",
    "# Here we are not doing a simulation, but measuring the T1 of this particular real quantum computer!\n",
    "backend = provider.get_backend('ibmq_rome')\n",
    "job = execute(circuits, backend, shots=shots)\n",
    "result = job.result()"
   ]
  },
  {
   "cell_type": "code",
   "execution_count": 9,
   "metadata": {},
   "outputs": [
    {
     "data": {
      "image/png": "[encoded data removed]",
      "text/plain": [
       "<Figure size 432x288 with 1 Axes>"
      ]
     },
     "metadata": {
      "needs_background": "light"
     },
     "output_type": "display_data"
    }
   ],
   "source": [
    "# Plot the result\n",
    "exp_data = []\n",
    "exp_error = []\n",
    "for idx, _ in enumerate(exp_vector):\n",
    "    data = result.get_counts(idx)\n",
    "    try:\n",
    "        p0 = data['0']/shots\n",
    "    except KeyError:\n",
    "        p0 = 0\n",
    "    exp_data.append(p0)\n",
    "    exp_error.append(np.sqrt(p0*(1-p0)/shots))\n",
    "\n",
    "plt.errorbar(exp_vector, exp_data, exp_error)\n",
    "plt.xlabel('time [45*gate time]')\n",
    "plt.ylabel('Pr(0)')\n",
    "plt.grid(True)"
   ]
  },
  {
   "cell_type": "markdown",
   "metadata": {},
   "source": [
    "## Dephasing and $T_2$\n",
    "\n",
    "Dephasing is a process that affects qbits in superposition status, as for example:\n",
    "\n",
    "$\\ket{+} = \\dfrac{\\ket{0} + \\ket{1}}{\\sqrt{2}}$\n",
    "\n",
    "It consists in a rotation along the Z axis (or, equivalently, in the XY plane) of the vector state, if we consider the Bloch Sphere representation.\n",
    "\n",
    "Depending on the way we measure it, its time constant goes under the name of $T_2$ or $T_2^*$.\n",
    "\n",
    "A good reference to understand the differences between $T_2$ or $T_2^*$ is: <br>\n",
    "https://quantumcomputing.stackexchange.com/questions/2432/whats-the-difference-between-t2-and-t2\n",
    "\n",
    "Let's see it with a couple of examples."
   ]
  },
  {
   "cell_type": "markdown",
   "metadata": {},
   "source": [
    "### The Ramsey Experiment: measuring $T_2^*$\n",
    "\n",
    "In this first experiment, we will put a qbit in the $\\ket{+}$ state using a H gate:\n",
    "\n",
    "$\\ket{\\psi} = \\ket{+} = \\dfrac{\\ket{0} + \\ket{1}}{\\sqrt{2}}$\n",
    "\n",
    "Then, we wait a certain time $\\Delta t$, so that the state evolves as:\n",
    "\n",
    "$\\ket{\\psi} = \\dfrac{\\ket{0} + e^{-i \\Delta t}\\ket{1}}{\\sqrt{2}}$\n",
    "\n",
    "After that, we apply again a H gate:\n",
    "\n",
    "$H \\ket{\\psi} =  \\dfrac{H \\ket{0} + e^{-i \\Delta t} H \\ket{1}}{\\sqrt{2}} = \n",
    "\\dfrac{\\ket{+} + e^{-i \\Delta t} \\ket{-}}{\\sqrt{2}} = \n",
    "\\dfrac{\\ket{0} + \\ket{1} + e^{-i \\Delta t}(\\ket{0} - \\ket{1})}{2} = \n",
    "\\dfrac{(1 + e^{-i \\Delta t})\\ket{0} + (1 - e^{-i \\Delta t})\\ket{1}}{2}$\n",
    "\n",
    "This means that the probability of measuring $\\ket{\\psi} = \\ket{0}$ is:\n",
    "\n",
    "$ |\\bra{0} \\ket{\\psi}|^2 = \\dfrac{|(1 + e^{-i \\Delta t})|^2}{4} = \n",
    "\\cos^2(\\dfrac{\\Delta t}{2}) = \\dfrac{1 + \\cos(\\Delta t)}{2}$\n",
    "\n",
    "Let's see it with an example:"
   ]
  },
  {
   "cell_type": "code",
   "execution_count": 64,
   "metadata": {},
   "outputs": [
    {
     "name": "stderr",
     "output_type": "stream",
     "text": [
      "Credentials are already in use. The existing account in the session will be replaced.\n"
     ]
    }
   ],
   "source": [
    "# t2_ramsey.py\n",
    "import numpy as np\n",
    "import matplotlib.pyplot as plt\n",
    "\n",
    "from qiskit import QuantumCircuit, execute\n",
    "\n",
    "provider = IBMQ.load_account()"
   ]
  },
  {
   "cell_type": "code",
   "execution_count": 65,
   "metadata": {},
   "outputs": [],
   "source": [
    "# Build the circuits\n",
    "pre = QuantumCircuit(1, 1)\n",
    "pre.h(0)\n",
    "pre.barrier()\n",
    "meas_x = QuantumCircuit(1, 1)\n",
    "meas_x.barrier()\n",
    "meas_x.h(0)\n",
    "meas_x.measure(0, 0)\n",
    "circuits = []\n",
    "exp_vector = range(1,51)\n",
    "phase = 0.0\n",
    "for exp_index in exp_vector:\n",
    "    middle = QuantumCircuit(1, 1)\n",
    "    #phase = phase + 6*np.pi/len(exp_vector)\n",
    "    #middle.u1(phase,0)\n",
    "    for i in range(25*exp_index):\n",
    "        middle.iden(0)\n",
    "    circuits.append(pre + middle + meas_x)"
   ]
  },
  {
   "cell_type": "code",
   "execution_count": 66,
   "metadata": {},
   "outputs": [
    {
     "data": {
      "text/html": [
       "<pre style=\"word-wrap: normal;white-space: pre;background: #fff0;line-height: 1.1;font-family: &quot;Courier New&quot;,Courier,monospace\">        ┌───┐ ░ ┌────┐┌────┐┌────┐┌────┐┌────┐┌────┐┌────┐┌────┐┌────┐┌────┐»\n",
       "q_0: |0>┤ H ├─░─┤ Id ├┤ Id ├┤ Id ├┤ Id ├┤ Id ├┤ Id ├┤ Id ├┤ Id ├┤ Id ├┤ Id ├»\n",
       "        └───┘ ░ └────┘└────┘└────┘└────┘└────┘└────┘└────┘└────┘└────┘└────┘»\n",
       " c_0: 0 ════════════════════════════════════════════════════════════════════»\n",
       "                                                                            »\n",
       "«     ┌────┐┌────┐┌────┐┌────┐┌────┐┌────┐┌────┐┌────┐┌────┐┌────┐┌────┐┌────┐»\n",
       "«q_0: ┤ Id ├┤ Id ├┤ Id ├┤ Id ├┤ Id ├┤ Id ├┤ Id ├┤ Id ├┤ Id ├┤ Id ├┤ Id ├┤ Id ├»\n",
       "«     └────┘└────┘└────┘└────┘└────┘└────┘└────┘└────┘└────┘└────┘└────┘└────┘»\n",
       "«c_0: ════════════════════════════════════════════════════════════════════════»\n",
       "«                                                                             »\n",
       "«     ┌────┐┌────┐┌────┐ ░ ┌───┐┌─┐\n",
       "«q_0: ┤ Id ├┤ Id ├┤ Id ├─░─┤ H ├┤M├\n",
       "«     └────┘└────┘└────┘ ░ └───┘└╥┘\n",
       "«c_0: ═══════════════════════════╩═\n",
       "«                                  </pre>"
      ],
      "text/plain": [
       "        ┌───┐ ░ ┌────┐┌────┐┌────┐┌────┐┌────┐┌────┐┌────┐┌────┐┌────┐┌────┐»\n",
       "q_0: |0>┤ H ├─░─┤ Id ├┤ Id ├┤ Id ├┤ Id ├┤ Id ├┤ Id ├┤ Id ├┤ Id ├┤ Id ├┤ Id ├»\n",
       "        └───┘ ░ └────┘└────┘└────┘└────┘└────┘└────┘└────┘└────┘└────┘└────┘»\n",
       " c_0: 0 ════════════════════════════════════════════════════════════════════»\n",
       "                                                                            »\n",
       "«     ┌────┐┌────┐┌────┐┌────┐┌────┐┌────┐┌────┐┌────┐┌────┐┌────┐┌────┐┌────┐»\n",
       "«q_0: ┤ Id ├┤ Id ├┤ Id ├┤ Id ├┤ Id ├┤ Id ├┤ Id ├┤ Id ├┤ Id ├┤ Id ├┤ Id ├┤ Id ├»\n",
       "«     └────┘└────┘└────┘└────┘└────┘└────┘└────┘└────┘└────┘└────┘└────┘└────┘»\n",
       "«c_0: ════════════════════════════════════════════════════════════════════════»\n",
       "«                                                                             »\n",
       "«     ┌────┐┌────┐┌────┐ ░ ┌───┐┌─┐\n",
       "«q_0: ┤ Id ├┤ Id ├┤ Id ├─░─┤ H ├┤M├\n",
       "«     └────┘└────┘└────┘ ░ └───┘└╥┘\n",
       "«c_0: ═══════════════════════════╩═\n",
       "«                                  "
      ]
     },
     "execution_count": 66,
     "metadata": {},
     "output_type": "execute_result"
    }
   ],
   "source": [
    "# Draw the first circuit\n",
    "# this is the one with less Id gates,\n",
    "# or the one that takes less time to measure the qbit state\n",
    "circuits[0].draw()"
   ]
  },
  {
   "cell_type": "code",
   "execution_count": 67,
   "metadata": {},
   "outputs": [],
   "source": [
    "# Execute the circuits\n",
    "shots = 1024\n",
    "backend = provider.get_backend('ibmqx2')\n",
    "job = execute(circuits, backend, shots=shots)\n",
    "result = job.result()"
   ]
  },
  {
   "cell_type": "code",
   "execution_count": 68,
   "metadata": {},
   "outputs": [
    {
     "data": {
      "image/png": "[encoded data removed]",
      "text/plain": [
       "<Figure size 432x288 with 1 Axes>"
      ]
     },
     "metadata": {
      "needs_background": "light"
     },
     "output_type": "display_data"
    }
   ],
   "source": [
    "# Plot the result\n",
    "exp_data = []\n",
    "exp_error = []\n",
    "for idx, _ in enumerate(exp_vector):\n",
    "    data = result.get_counts(idx)\n",
    "    try:\n",
    "        p0 = data['0']/shots\n",
    "    except KeyError:\n",
    "        p0 = 0\n",
    "    exp_data.append(p0)\n",
    "    exp_error.append(np.sqrt(p0*(1-p0)/shots))\n",
    "\n",
    "plt.errorbar(exp_vector, exp_data, exp_error)\n",
    "plt.xlabel('time [25*gate time]')\n",
    "plt.ylabel('Pr(0)')\n",
    "plt.ylim(0,1)\n",
    "plt.grid(True)"
   ]
  },
  {
   "cell_type": "markdown",
   "metadata": {},
   "source": [
    "Why do we see that the evolution is not exactly as we would expect (it does not go to 0)? Is it because the $\\ket{1}$ state not only rotate around Z, but also because it tends to go toward $\\ket{0}$ with time?\n",
    "\n",
    "Maybe the following example makes the question clearer"
   ]
  },
  {
   "cell_type": "markdown",
   "metadata": {},
   "source": [
    "Alternatively, we can measure the state in the superposition basis. The original qskit tutorial does it with a trick, by applying a variable phase to the qbit state before waiting the qbit to evolve with time: "
   ]
  },
  {
   "cell_type": "code",
   "execution_count": 81,
   "metadata": {},
   "outputs": [],
   "source": [
    "# Build the circuits\n",
    "pre = QuantumCircuit(1, 1)\n",
    "pre.h(0)\n",
    "pre.barrier()\n",
    "meas_x = QuantumCircuit(1, 1)\n",
    "meas_x.barrier()\n",
    "meas_x.h(0)\n",
    "meas_x.measure(0, 0)\n",
    "circuits = []\n",
    "exp_vector = range(1,51)\n",
    "phase = 0.0\n",
    "for exp_index in exp_vector:\n",
    "    middle = QuantumCircuit(1, 1)\n",
    "    phase = phase + 6*np.pi/len(exp_vector)\n",
    "    # That's the 'trick'!!\n",
    "    middle.u1(phase,0)\n",
    "    for i in range(5*exp_index):\n",
    "        middle.iden(0)\n",
    "    circuits.append(pre + middle + meas_x)"
   ]
  },
  {
   "cell_type": "code",
   "execution_count": 82,
   "metadata": {},
   "outputs": [
    {
     "data": {
      "text/html": [
       "<pre style=\"word-wrap: normal;white-space: pre;background: #fff0;line-height: 1.1;font-family: &quot;Courier New&quot;,Courier,monospace\">        ┌───┐ ░ ┌─────────────┐┌────┐┌────┐┌────┐┌────┐┌────┐ ░ ┌───┐┌─┐\n",
       "q_0: |0>┤ H ├─░─┤ U1(0.37699) ├┤ Id ├┤ Id ├┤ Id ├┤ Id ├┤ Id ├─░─┤ H ├┤M├\n",
       "        └───┘ ░ └─────────────┘└────┘└────┘└────┘└────┘└────┘ ░ └───┘└╥┘\n",
       " c_0: 0 ══════════════════════════════════════════════════════════════╩═\n",
       "                                                                        </pre>"
      ],
      "text/plain": [
       "        ┌───┐ ░ ┌─────────────┐┌────┐┌────┐┌────┐┌────┐┌────┐ ░ ┌───┐┌─┐\n",
       "q_0: |0>┤ H ├─░─┤ U1(0.37699) ├┤ Id ├┤ Id ├┤ Id ├┤ Id ├┤ Id ├─░─┤ H ├┤M├\n",
       "        └───┘ ░ └─────────────┘└────┘└────┘└────┘└────┘└────┘ ░ └───┘└╥┘\n",
       " c_0: 0 ══════════════════════════════════════════════════════════════╩═\n",
       "                                                                        "
      ]
     },
     "execution_count": 82,
     "metadata": {},
     "output_type": "execute_result"
    }
   ],
   "source": [
    "# Draw the first circuit\n",
    "# this is the one with less Id gates,\n",
    "# or the one that takes less time to measure the qbit state\n",
    "\n",
    "# Here we can see that we are applying a phase before \n",
    "# applying a set of Id operators!\n",
    "circuits[0].draw()"
   ]
  },
  {
   "cell_type": "code",
   "execution_count": 83,
   "metadata": {},
   "outputs": [],
   "source": [
    "# Execute the circuits\n",
    "shots = 1024\n",
    "backend = provider.get_backend('ibmqx2')\n",
    "job = execute(circuits, backend, shots=shots)\n",
    "result = job.result()"
   ]
  },
  {
   "cell_type": "code",
   "execution_count": 84,
   "metadata": {},
   "outputs": [
    {
     "data": {
      "image/png": "[encoded data removed]",
      "text/plain": [
       "<Figure size 432x288 with 1 Axes>"
      ]
     },
     "metadata": {
      "needs_background": "light"
     },
     "output_type": "display_data"
    }
   ],
   "source": [
    "# Plot the result\n",
    "exp_data = []\n",
    "exp_error = []\n",
    "for idx, _ in enumerate(exp_vector):\n",
    "    data = result.get_counts(idx)\n",
    "    try:\n",
    "        p0 = data['0']/shots\n",
    "    except KeyError:\n",
    "        p0 = 0\n",
    "    exp_data.append(p0)\n",
    "    exp_error.append(np.sqrt(p0*(1-p0)/shots))\n",
    "\n",
    "plt.errorbar(exp_vector, exp_data, exp_error)\n",
    "plt.xlabel('time [5*gate time]')\n",
    "plt.ylabel('Pr(+)')\n",
    "plt.ylim(0,1)\n",
    "plt.grid(True)"
   ]
  },
  {
   "cell_type": "markdown",
   "metadata": {},
   "source": [
    "### The Echo Experiment: measuring $T_2$"
   ]
  },
  {
   "cell_type": "code",
   "execution_count": 27,
   "metadata": {},
   "outputs": [
    {
     "name": "stderr",
     "output_type": "stream",
     "text": [
      "Credentials are already in use. The existing account in the session will be replaced.\n"
     ]
    }
   ],
   "source": [
    "# t2_echo.py\n",
    "import numpy as np\n",
    "import matplotlib.pyplot as plt\n",
    "\n",
    "from qiskit import IBMQ, QuantumCircuit, execute\n",
    "\n",
    "provider = IBMQ.load_account()"
   ]
  },
  {
   "cell_type": "code",
   "execution_count": null,
   "metadata": {},
   "outputs": [],
   "source": [
    "# Build the circuits\n",
    "pre = QuantumCircuit(1, 1)\n",
    "pre.h(0)\n",
    "pre.barrier()\n",
    "meas_x = QuantumCircuit(1, 1)\n",
    "meas_x.barrier()\n",
    "meas_x.h(0)\n",
    "meas_x.measure([0], [0])\n",
    "circuits = []\n",
    "exp_vector = range(1,51)\n",
    "for exp_index in exp_vector:\n",
    "    middle = QuantumCircuit(1, 1)\n",
    "    for i in range(15*exp_index):\n",
    "        middle.iden(0)\n",
    "    middle.x(0)\n",
    "    for i in range(15*exp_index):\n",
    "        middle.iden(0)\n",
    "    circuits.append(pre + middle + meas_x)\n",
    "    "
   ]
  },
  {
   "cell_type": "code",
   "execution_count": 31,
   "metadata": {},
   "outputs": [
    {
     "data": {
      "text/html": [
       "<pre style=\"word-wrap: normal;white-space: pre;background: #fff0;line-height: 1.1;font-family: &quot;Courier New&quot;,Courier,monospace\">        ┌───┐ ░ ┌────┐┌────┐┌────┐┌────┐┌────┐┌────┐┌────┐┌────┐┌────┐┌────┐»\n",
       "q_0: |0>┤ H ├─░─┤ Id ├┤ Id ├┤ Id ├┤ Id ├┤ Id ├┤ Id ├┤ Id ├┤ Id ├┤ Id ├┤ Id ├»\n",
       "        └───┘ ░ └────┘└────┘└────┘└────┘└────┘└────┘└────┘└────┘└────┘└────┘»\n",
       " c_0: 0 ════════════════════════════════════════════════════════════════════»\n",
       "                                                                            »\n",
       "«     ┌────┐┌────┐┌────┐┌────┐┌────┐┌───┐┌────┐┌────┐┌────┐┌────┐┌────┐┌────┐»\n",
       "«q_0: ┤ Id ├┤ Id ├┤ Id ├┤ Id ├┤ Id ├┤ X ├┤ Id ├┤ Id ├┤ Id ├┤ Id ├┤ Id ├┤ Id ├»\n",
       "«     └────┘└────┘└────┘└────┘└────┘└───┘└────┘└────┘└────┘└────┘└────┘└────┘»\n",
       "«c_0: ═══════════════════════════════════════════════════════════════════════»\n",
       "«                                                                            »\n",
       "«     ┌────┐┌────┐┌────┐┌────┐┌────┐┌────┐┌────┐┌────┐┌────┐ ░ ┌───┐┌─┐\n",
       "«q_0: ┤ Id ├┤ Id ├┤ Id ├┤ Id ├┤ Id ├┤ Id ├┤ Id ├┤ Id ├┤ Id ├─░─┤ H ├┤M├\n",
       "«     └────┘└────┘└────┘└────┘└────┘└────┘└────┘└────┘└────┘ ░ └───┘└╥┘\n",
       "«c_0: ═══════════════════════════════════════════════════════════════╩═\n",
       "«                                                                      </pre>"
      ],
      "text/plain": [
       "        ┌───┐ ░ ┌────┐┌────┐┌────┐┌────┐┌────┐┌────┐┌────┐┌────┐┌────┐┌────┐»\n",
       "q_0: |0>┤ H ├─░─┤ Id ├┤ Id ├┤ Id ├┤ Id ├┤ Id ├┤ Id ├┤ Id ├┤ Id ├┤ Id ├┤ Id ├»\n",
       "        └───┘ ░ └────┘└────┘└────┘└────┘└────┘└────┘└────┘└────┘└────┘└────┘»\n",
       " c_0: 0 ════════════════════════════════════════════════════════════════════»\n",
       "                                                                            »\n",
       "«     ┌────┐┌────┐┌────┐┌────┐┌────┐┌───┐┌────┐┌────┐┌────┐┌────┐┌────┐┌────┐»\n",
       "«q_0: ┤ Id ├┤ Id ├┤ Id ├┤ Id ├┤ Id ├┤ X ├┤ Id ├┤ Id ├┤ Id ├┤ Id ├┤ Id ├┤ Id ├»\n",
       "«     └────┘└────┘└────┘└────┘└────┘└───┘└────┘└────┘└────┘└────┘└────┘└────┘»\n",
       "«c_0: ═══════════════════════════════════════════════════════════════════════»\n",
       "«                                                                            »\n",
       "«     ┌────┐┌────┐┌────┐┌────┐┌────┐┌────┐┌────┐┌────┐┌────┐ ░ ┌───┐┌─┐\n",
       "«q_0: ┤ Id ├┤ Id ├┤ Id ├┤ Id ├┤ Id ├┤ Id ├┤ Id ├┤ Id ├┤ Id ├─░─┤ H ├┤M├\n",
       "«     └────┘└────┘└────┘└────┘└────┘└────┘└────┘└────┘└────┘ ░ └───┘└╥┘\n",
       "«c_0: ═══════════════════════════════════════════════════════════════╩═\n",
       "«                                                                      "
      ]
     },
     "execution_count": 31,
     "metadata": {},
     "output_type": "execute_result"
    }
   ],
   "source": [
    "# Draw the first circuit\n",
    "# this is the one with less Id gates,\n",
    "# or the one that takes less time to measure the qbit state\n",
    "circuits[0].draw()"
   ]
  },
  {
   "cell_type": "code",
   "execution_count": 32,
   "metadata": {},
   "outputs": [],
   "source": [
    "# Execute the circuits\n",
    "backend = provider.get_backend('ibmqx2')\n",
    "job = execute(circuits, backend)\n",
    "result = job.result()"
   ]
  },
  {
   "cell_type": "code",
   "execution_count": 33,
   "metadata": {},
   "outputs": [
    {
     "data": {
      "image/png": "[encoded data removed]",
      "text/plain": [
       "<Figure size 432x288 with 1 Axes>"
      ]
     },
     "metadata": {
      "needs_background": "light"
     },
     "output_type": "display_data"
    }
   ],
   "source": [
    "# Plot the result\n",
    "exp_data = []\n",
    "exp_error = []\n",
    "for exp_index in exp_vector:\n",
    "  data = result.get_counts(circuits[exp_index-1])\n",
    "  try:\n",
    "      p0 = data['0']/shots\n",
    "  except KeyError:\n",
    "      p0 = 0\n",
    "  exp_data.append(p0)\n",
    "  exp_error.append(np.sqrt(p0*(1-p0)/shots))\n",
    "\n",
    "plt.errorbar(exp_vector, exp_data, exp_error)\n",
    "plt.xlabel('time [31*gate time]')\n",
    "plt.ylabel('Pr(+)')\n",
    "plt.grid(True)"
   ]
  },
  {
   "cell_type": "code",
   "execution_count": null,
   "metadata": {},
   "outputs": [],
   "source": []
  }
 ],
 "metadata": {
  "kernelspec": {
   "display_name": "Python 3",
   "language": "python",
   "name": "python3"
  },
  "language_info": {
   "codemirror_mode": {
    "name": "ipython",
    "version": 3
   },
   "file_extension": ".py",
   "mimetype": "text/x-python",
   "name": "python",
   "nbconvert_exporter": "python",
   "pygments_lexer": "ipython3",
   "version": "3.7.4"
  }
 },
 "nbformat": 4,
 "nbformat_minor": 4
}
