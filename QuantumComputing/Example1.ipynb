{
 "cells": [
  {
   "cell_type": "markdown",
   "metadata": {},
   "source": [
    "## Example 1\n",
    "\n",
    "Simple q-bit measurement"
   ]
  },
  {
   "cell_type": "code",
   "execution_count": 1,
   "metadata": {},
   "outputs": [],
   "source": [
    "# single_q_measurement.py\n",
    "from qiskit import QuantumCircuit, QuantumRegister, ClassicalRegister, execute, Aer"
   ]
  },
  {
   "cell_type": "code",
   "execution_count": 2,
   "metadata": {},
   "outputs": [],
   "source": [
    "# Define the Quantum and Classical Registers\n",
    "q = QuantumRegister(1)\n",
    "c = ClassicalRegister(1)"
   ]
  },
  {
   "cell_type": "code",
   "execution_count": 3,
   "metadata": {},
   "outputs": [
    {
     "data": {
      "text/plain": [
       "<qiskit.circuit.instructionset.InstructionSet at 0x7f38fa8c5250>"
      ]
     },
     "execution_count": 3,
     "metadata": {},
     "output_type": "execute_result"
    }
   ],
   "source": [
    "# Build the circuit\n",
    "single_q_measurement = QuantumCircuit(q, c)\n",
    "single_q_measurement.measure(q, c)"
   ]
  },
  {
   "cell_type": "code",
   "execution_count": 4,
   "metadata": {},
   "outputs": [
    {
     "data": {
      "text/html": [
       "<pre style=\"word-wrap: normal;white-space: pre;background: #fff0;line-height: 1.1;font-family: &quot;Courier New&quot;,Courier,monospace\">         ┌─┐\n",
       "q0_0: |0>┤M├\n",
       "         └╥┘\n",
       " c0_0: 0 ═╩═\n",
       "            </pre>"
      ],
      "text/plain": [
       "<qiskit.visualization.text.TextDrawing at 0x7f38fa8b8790>"
      ]
     },
     "execution_count": 4,
     "metadata": {},
     "output_type": "execute_result"
    }
   ],
   "source": [
    "# Draw the circuit\n",
    "single_q_measurement.draw()"
   ]
  },
  {
   "cell_type": "code",
   "execution_count": 6,
   "metadata": {},
   "outputs": [],
   "source": [
    "# Execute the circuit\n",
    "job = execute(single_q_measurement, backend = Aer.get_backend('qasm_simulator'), shots=1024)\n",
    "result = job.result()"
   ]
  },
  {
   "cell_type": "code",
   "execution_count": 7,
   "metadata": {},
   "outputs": [
    {
     "name": "stdout",
     "output_type": "stream",
     "text": [
      "{'0': 1024}\n"
     ]
    }
   ],
   "source": [
    "# Print the result\n",
    "print(result.get_counts(single_q_measurement))"
   ]
  },
  {
   "cell_type": "markdown",
   "metadata": {},
   "source": [
    "All the results give 0 (fundamental state)."
   ]
  },
  {
   "cell_type": "markdown",
   "metadata": {},
   "source": [
    "## Example 2\n",
    "\n",
    "Q-bit flip circuit"
   ]
  },
  {
   "cell_type": "code",
   "execution_count": 8,
   "metadata": {},
   "outputs": [],
   "source": [
    "# excited_state.py\n",
    "from qiskit import QuantumCircuit, QuantumRegister, ClassicalRegister, execute, Aer"
   ]
  },
  {
   "cell_type": "code",
   "execution_count": 9,
   "metadata": {},
   "outputs": [],
   "source": [
    "# Define the Quantum and Classical Registers\n",
    "q = QuantumRegister(1)\n",
    "c = ClassicalRegister(1)"
   ]
  },
  {
   "cell_type": "code",
   "execution_count": 10,
   "metadata": {},
   "outputs": [
    {
     "data": {
      "text/plain": [
       "<qiskit.circuit.instructionset.InstructionSet at 0x7f38fa087b90>"
      ]
     },
     "execution_count": 10,
     "metadata": {},
     "output_type": "execute_result"
    }
   ],
   "source": [
    "# Build the circuit\n",
    "excited_state = QuantumCircuit(q, c)\n",
    "excited_state.x(q)\n",
    "excited_state.measure(q, c)"
   ]
  },
  {
   "cell_type": "code",
   "execution_count": 11,
   "metadata": {},
   "outputs": [
    {
     "data": {
      "text/html": [
       "<pre style=\"word-wrap: normal;white-space: pre;background: #fff0;line-height: 1.1;font-family: &quot;Courier New&quot;,Courier,monospace\">         ┌───┐┌─┐\n",
       "q1_0: |0>┤ X ├┤M├\n",
       "         └───┘└╥┘\n",
       " c1_0: 0 ══════╩═\n",
       "                 </pre>"
      ],
      "text/plain": [
       "<qiskit.visualization.text.TextDrawing at 0x7f38fa087cd0>"
      ]
     },
     "execution_count": 11,
     "metadata": {},
     "output_type": "execute_result"
    }
   ],
   "source": [
    "# Draw the circuit\n",
    "excited_state.draw()"
   ]
  },
  {
   "cell_type": "code",
   "execution_count": 12,
   "metadata": {},
   "outputs": [],
   "source": [
    "# Execute the circuit\n",
    "job = execute(excited_state, backend = Aer.get_backend('qasm_simulator'), shots=1024)\n",
    "result = job.result()"
   ]
  },
  {
   "cell_type": "code",
   "execution_count": 13,
   "metadata": {},
   "outputs": [
    {
     "name": "stdout",
     "output_type": "stream",
     "text": [
      "{'1': 1024}\n"
     ]
    }
   ],
   "source": [
    "# Print the result\n",
    "print(result.get_counts(excited_state))"
   ]
  },
  {
   "cell_type": "markdown",
   "metadata": {},
   "source": [
    "All the results give 1 (excited state)."
   ]
  },
  {
   "cell_type": "markdown",
   "metadata": {},
   "source": [
    "## Example 3\n",
    "\n",
    "Superpoistion"
   ]
  },
  {
   "cell_type": "code",
   "execution_count": 14,
   "metadata": {},
   "outputs": [],
   "source": [
    "# superposition_state.py\n",
    "from qiskit import QuantumCircuit, QuantumRegister, ClassicalRegister, execute, Aer"
   ]
  },
  {
   "cell_type": "code",
   "execution_count": 15,
   "metadata": {},
   "outputs": [],
   "source": [
    "# Define the Quantum and Classical Registers\n",
    "q = QuantumRegister(1)\n",
    "c = ClassicalRegister(1)"
   ]
  },
  {
   "cell_type": "code",
   "execution_count": 16,
   "metadata": {},
   "outputs": [
    {
     "data": {
      "text/plain": [
       "<qiskit.circuit.instructionset.InstructionSet at 0x7f38fa0a1910>"
      ]
     },
     "execution_count": 16,
     "metadata": {},
     "output_type": "execute_result"
    }
   ],
   "source": [
    "# Build the circuit\n",
    "superposition_state = QuantumCircuit(q, c)\n",
    "superposition_state.h(q)\n",
    "superposition_state.measure(q, c)"
   ]
  },
  {
   "cell_type": "code",
   "execution_count": 17,
   "metadata": {},
   "outputs": [
    {
     "data": {
      "text/html": [
       "<pre style=\"word-wrap: normal;white-space: pre;background: #fff0;line-height: 1.1;font-family: &quot;Courier New&quot;,Courier,monospace\">         ┌───┐┌─┐\n",
       "q2_0: |0>┤ H ├┤M├\n",
       "         └───┘└╥┘\n",
       " c2_0: 0 ══════╩═\n",
       "                 </pre>"
      ],
      "text/plain": [
       "<qiskit.visualization.text.TextDrawing at 0x7f38fa0a1990>"
      ]
     },
     "execution_count": 17,
     "metadata": {},
     "output_type": "execute_result"
    }
   ],
   "source": [
    "# Draw the circuit\n",
    "superposition_state.draw()"
   ]
  },
  {
   "cell_type": "markdown",
   "metadata": {},
   "source": [
    "H gate creates a superposition between fundamental state and excited state in the same q-bit:\n",
    "\n",
    "$ |+> = \\frac{| 0 > + | 1 >}{\\sqrt{2}} $ "
   ]
  },
  {
   "cell_type": "code",
   "execution_count": 18,
   "metadata": {},
   "outputs": [],
   "source": [
    "# Execute the circuit\n",
    "job = execute(superposition_state, backend = Aer.get_backend('qasm_simulator'), shots=1024)\n",
    "result = job.result()"
   ]
  },
  {
   "cell_type": "code",
   "execution_count": 19,
   "metadata": {},
   "outputs": [
    {
     "name": "stdout",
     "output_type": "stream",
     "text": [
      "{'1': 519, '0': 505}\n"
     ]
    }
   ],
   "source": [
    "# Print the result\n",
    "print(result.get_counts(superposition_state))"
   ]
  },
  {
   "cell_type": "markdown",
   "metadata": {},
   "source": [
    "Approximately half of the results are in the fundamental state and the other half in the excited state."
   ]
  },
  {
   "cell_type": "markdown",
   "metadata": {},
   "source": [
    "## Example 4\n",
    "\n",
    "Two superpoistions"
   ]
  },
  {
   "cell_type": "markdown",
   "metadata": {},
   "source": [
    "Let's try now putting two H gates one after the other."
   ]
  },
  {
   "cell_type": "code",
   "execution_count": 20,
   "metadata": {},
   "outputs": [],
   "source": [
    "# superposition_state_xbasis.py\n",
    "from qiskit import QuantumCircuit, QuantumRegister, ClassicalRegister, execute, Aer"
   ]
  },
  {
   "cell_type": "code",
   "execution_count": 21,
   "metadata": {},
   "outputs": [],
   "source": [
    "# Define the Quantum and Classical Registers\n",
    "q = QuantumRegister(1)\n",
    "c = ClassicalRegister(1)"
   ]
  },
  {
   "cell_type": "code",
   "execution_count": 22,
   "metadata": {},
   "outputs": [
    {
     "data": {
      "text/plain": [
       "<qiskit.circuit.instructionset.InstructionSet at 0x7f38fa07f090>"
      ]
     },
     "execution_count": 22,
     "metadata": {},
     "output_type": "execute_result"
    }
   ],
   "source": [
    "# Build the circuit\n",
    "superposition_state_xbasis = QuantumCircuit(q, c)\n",
    "superposition_state_xbasis.h(q)\n",
    "superposition_state_xbasis.barrier()\n",
    "superposition_state_xbasis.h(q)\n",
    "superposition_state_xbasis.measure(q, c)"
   ]
  },
  {
   "cell_type": "code",
   "execution_count": 23,
   "metadata": {},
   "outputs": [
    {
     "data": {
      "text/html": [
       "<pre style=\"word-wrap: normal;white-space: pre;background: #fff0;line-height: 1.1;font-family: &quot;Courier New&quot;,Courier,monospace\">         ┌───┐ ░ ┌───┐┌─┐\n",
       "q3_0: |0>┤ H ├─░─┤ H ├┤M├\n",
       "         └───┘ ░ └───┘└╥┘\n",
       " c3_0: 0 ══════════════╩═\n",
       "                         </pre>"
      ],
      "text/plain": [
       "<qiskit.visualization.text.TextDrawing at 0x7f38fa096b50>"
      ]
     },
     "execution_count": 23,
     "metadata": {},
     "output_type": "execute_result"
    }
   ],
   "source": [
    "# Draw the circuit\n",
    "superposition_state_xbasis.draw()"
   ]
  },
  {
   "cell_type": "code",
   "execution_count": 24,
   "metadata": {},
   "outputs": [],
   "source": [
    "# Execute the circuit\n",
    "job = execute(superposition_state_xbasis, backend = Aer.get_backend('qasm_simulator'), shots=1024)\n",
    "result = job.result()"
   ]
  },
  {
   "cell_type": "code",
   "execution_count": 25,
   "metadata": {},
   "outputs": [
    {
     "name": "stdout",
     "output_type": "stream",
     "text": [
      "{'0': 1024}\n"
     ]
    }
   ],
   "source": [
    "# Print the result\n",
    "print(result.get_counts(superposition_state_xbasis))"
   ]
  },
  {
   "cell_type": "markdown",
   "metadata": {},
   "source": [
    "## Example 5\n",
    "\n",
    "Negative superpoistion"
   ]
  },
  {
   "cell_type": "code",
   "execution_count": 26,
   "metadata": {},
   "outputs": [],
   "source": [
    "# negative_superposition_state.py\n",
    "from qiskit import QuantumCircuit, QuantumRegister, ClassicalRegister, execute, Aer"
   ]
  },
  {
   "cell_type": "code",
   "execution_count": 27,
   "metadata": {},
   "outputs": [],
   "source": [
    "# Define the Quantum and Classical Registers\n",
    "q = QuantumRegister(1)\n",
    "c = ClassicalRegister(1)"
   ]
  },
  {
   "cell_type": "code",
   "execution_count": 28,
   "metadata": {},
   "outputs": [
    {
     "data": {
      "text/plain": [
       "<qiskit.circuit.instructionset.InstructionSet at 0x7f38fa0b4590>"
      ]
     },
     "execution_count": 28,
     "metadata": {},
     "output_type": "execute_result"
    }
   ],
   "source": [
    "# Build the circuit\n",
    "negative_superposition_state = QuantumCircuit(q, c)\n",
    "negative_superposition_state.x(q)\n",
    "negative_superposition_state.h(q)\n",
    "negative_superposition_state.measure(q, c)"
   ]
  },
  {
   "cell_type": "code",
   "execution_count": 34,
   "metadata": {},
   "outputs": [
    {
     "data": {
      "text/html": [
       "<pre style=\"word-wrap: normal;white-space: pre;background: #fff0;line-height: 1.1;font-family: &quot;Courier New&quot;,Courier,monospace\">         ┌───┐┌───┐┌─┐\n",
       "q4_0: |0>┤ X ├┤ H ├┤M├\n",
       "         └───┘└───┘└╥┘\n",
       " c4_0: 0 ═══════════╩═\n",
       "                      </pre>"
      ],
      "text/plain": [
       "<qiskit.visualization.text.TextDrawing at 0x7f38fa0b44d0>"
      ]
     },
     "execution_count": 34,
     "metadata": {},
     "output_type": "execute_result"
    }
   ],
   "source": [
    "# Draw thecircuit\n",
    "negative_superposition_state.draw()"
   ]
  },
  {
   "cell_type": "markdown",
   "metadata": {},
   "source": [
    "We first excite the q-bit with the X gate and then create a superposition using the H gate:\n",
    "\n",
    "X gate creates a superposition between fundamental state and excited state in the same q-bit:\n",
    "\n",
    "$ |-> = \\frac{| 0 > - | 1 >}{\\sqrt{2}} $ "
   ]
  },
  {
   "cell_type": "code",
   "execution_count": 32,
   "metadata": {},
   "outputs": [],
   "source": [
    "# Execute the circuit\n",
    "job = execute(negative_superposition_state, backend = Aer.get_backend('qasm_simulator'), shots=1024)\n",
    "result = job.result()"
   ]
  },
  {
   "cell_type": "code",
   "execution_count": 33,
   "metadata": {},
   "outputs": [
    {
     "name": "stdout",
     "output_type": "stream",
     "text": [
      "{'1': 511, '0': 513}\n"
     ]
    }
   ],
   "source": [
    "# Print the result\n",
    "print(result.get_counts(negative_superposition_state))"
   ]
  },
  {
   "cell_type": "markdown",
   "metadata": {},
   "source": [
    "## Example 6\n",
    "\n",
    "Two negative superpoistions"
   ]
  },
  {
   "cell_type": "code",
   "execution_count": 35,
   "metadata": {},
   "outputs": [],
   "source": [
    "# negative_superposition_state_xbasis.py\n",
    "from qiskit import QuantumCircuit, QuantumRegister, ClassicalRegister, execute, Aer"
   ]
  },
  {
   "cell_type": "code",
   "execution_count": 36,
   "metadata": {},
   "outputs": [],
   "source": [
    "# Define the Quantum and Classical Registers\n",
    "q = QuantumRegister(1)\n",
    "c = ClassicalRegister(1)"
   ]
  },
  {
   "cell_type": "code",
   "execution_count": 37,
   "metadata": {},
   "outputs": [
    {
     "data": {
      "text/plain": [
       "<qiskit.circuit.instructionset.InstructionSet at 0x7f38fa039450>"
      ]
     },
     "execution_count": 37,
     "metadata": {},
     "output_type": "execute_result"
    }
   ],
   "source": [
    "# Build the circuit\n",
    "negative_superposition_state_xbasis = QuantumCircuit(q, c)\n",
    "negative_superposition_state_xbasis.x(q)\n",
    "negative_superposition_state_xbasis.h(q)\n",
    "negative_superposition_state_xbasis.barrier()\n",
    "negative_superposition_state_xbasis.h(q)\n",
    "negative_superposition_state_xbasis.measure(q, c)"
   ]
  },
  {
   "cell_type": "code",
   "execution_count": 38,
   "metadata": {},
   "outputs": [
    {
     "data": {
      "text/html": [
       "<pre style=\"word-wrap: normal;white-space: pre;background: #fff0;line-height: 1.1;font-family: &quot;Courier New&quot;,Courier,monospace\">         ┌───┐┌───┐ ░ ┌───┐┌─┐\n",
       "q5_0: |0>┤ X ├┤ H ├─░─┤ H ├┤M├\n",
       "         └───┘└───┘ ░ └───┘└╥┘\n",
       " c5_0: 0 ═══════════════════╩═\n",
       "                              </pre>"
      ],
      "text/plain": [
       "<qiskit.visualization.text.TextDrawing at 0x7f38fa8b8cd0>"
      ]
     },
     "execution_count": 38,
     "metadata": {},
     "output_type": "execute_result"
    }
   ],
   "source": [
    "# Draw thecircuit\n",
    "negative_superposition_state_xbasis.draw()"
   ]
  },
  {
   "cell_type": "code",
   "execution_count": 39,
   "metadata": {},
   "outputs": [],
   "source": [
    "# Execute the circuit\n",
    "job = execute(negative_superposition_state_xbasis, backend = Aer.get_backend('qasm_simulator'), shots=1024)\n",
    "result = job.result()"
   ]
  },
  {
   "cell_type": "code",
   "execution_count": 40,
   "metadata": {},
   "outputs": [
    {
     "name": "stdout",
     "output_type": "stream",
     "text": [
      "{'1': 1024}\n"
     ]
    }
   ],
   "source": [
    "# Print the result\n",
    "print(result.get_counts(negative_superposition_state_xbasis))"
   ]
  },
  {
   "cell_type": "code",
   "execution_count": null,
   "metadata": {},
   "outputs": [],
   "source": []
  }
 ],
 "metadata": {
  "kernelspec": {
   "display_name": "Python 3",
   "language": "python",
   "name": "python3"
  },
  "language_info": {
   "codemirror_mode": {
    "name": "ipython",
    "version": 3
   },
   "file_extension": ".py",
   "mimetype": "text/x-python",
   "name": "python",
   "nbconvert_exporter": "python",
   "pygments_lexer": "ipython3",
   "version": "3.7.4"
  }
 },
 "nbformat": 4,
 "nbformat_minor": 2
}
