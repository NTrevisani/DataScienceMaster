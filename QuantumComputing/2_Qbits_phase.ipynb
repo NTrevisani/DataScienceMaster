{
 "cells": [
  {
   "cell_type": "markdown",
   "metadata": {},
   "source": [
    "$\\newcommand{\\ket}[1]{\\left|#1\\right>}$\n",
    "\n",
    "$\\newcommand{\\bra}[1]{\\left<#1\\right|}$\n",
    "\n",
    "$\\newcommand{\\braket}[2]{\\left<#1 | #2\\right>}$"
   ]
  },
  {
   "cell_type": "markdown",
   "metadata": {},
   "source": [
    "# Qubits phases\n",
    "\n",
    "Everything here is taken from the IBM quantum computing User Guide and introduction to quantum computing:\n",
    "\n",
    "https://quantum-computing.ibm.com/docs/guide/wwwq/introducing-qubit-phase"
   ]
  },
  {
   "cell_type": "markdown",
   "metadata": {},
   "source": [
    "## Generalised superposition"
   ]
  },
  {
   "cell_type": "markdown",
   "metadata": {},
   "source": [
    "As we said, a qubit can be in every superposition state in the form:\n",
    "\n",
    "$\\ket{\\psi} = \\alpha \\ket{0} + \\beta \\ket{1}$\n",
    "\n",
    "where $\\alpha$ and $\\beta$ are complex coefficients that satisfy the relation:\n",
    "\n",
    "$ |\\alpha|^2 + |\\beta|^2 = 1 $"
   ]
  },
  {
   "cell_type": "markdown",
   "metadata": {},
   "source": [
    "In the previous notebook, we put a qubit in a couple of very specific superposition states:\n",
    "\n",
    "$ \\ket{+} = \\dfrac{\\ket{0} + \\ket{1}}{\\sqrt{2}} $ \n",
    "\n",
    "$ \\ket{-} = \\dfrac{\\ket{0} - \\ket{1}}{\\sqrt{2}} $ \n"
   ]
  },
  {
   "cell_type": "markdown",
   "metadata": {},
   "source": [
    "The coefficients, for the states $\\ket{+}$ and $\\ket{-}$ are real numbers:\n",
    "- $\\ket{+}$: $\\alpha = \\beta = \\dfrac{1}{\\sqrt{2}} $\n",
    "- $\\ket{-}$: $\\alpha = - \\beta = \\dfrac{1}{\\sqrt{2}} $"
   ]
  },
  {
   "cell_type": "markdown",
   "metadata": {},
   "source": [
    "In general, as the $\\alpha$ and $\\beta$ are complex, they have a modulus and a phase:\n",
    "\n",
    "$ \\alpha = |\\alpha| e^{i\\phi}$"
   ]
  },
  {
   "cell_type": "markdown",
   "metadata": {},
   "source": [
    "And we can write the state of a qubit as:\n",
    "\n",
    "$\\ket{\\psi} = |\\alpha| e^{i\\phi_{\\alpha}} \\ket{0} + |\\beta| e^{i\\phi_{\\beta}} \\ket{1}$"
   ]
  },
  {
   "cell_type": "markdown",
   "metadata": {},
   "source": [
    "Since the phases are not observables and the square of the coefficients is the probability of observing the qubit in a given status, we can redefine the moduli as:\n",
    "- $|\\alpha| = \\sqrt{p}$;\n",
    "- $|\\beta| = \\sqrt{1 - p}$.\n",
    "\n",
    "Additionally, we can introduce a rotation $e^{-i \\phi_{\\alpha}}$ such that the phases can be redefined as follow:\n",
    "- $\\phi_{\\alpha} \\rightarrow \\phi_{\\alpha} - \\phi_{\\alpha} = 0$;\n",
    "- $\\phi_{\\beta} \\rightarrow \\phi_{\\beta} - \\phi_{\\alpha} = \\phi$."
   ]
  },
  {
   "cell_type": "markdown",
   "metadata": {},
   "source": [
    "This allows us to rewrite the state $\\ket{\\psi}$ of the qubit using just the parameters p and $\\phi$:\n",
    "\n",
    "$\\ket{\\psi} = \\sqrt{p} \\ket{0} + e^{i\\phi} \\sqrt{1 - p} \\ket{1} = \n",
    "\\begin{bmatrix}\n",
    "    \\sqrt{p} & 0                       \\\\\n",
    "    0        & e^{i \\phi} \\sqrt{1 - p} \n",
    "\\end{bmatrix}\n",
    "$"
   ]
  },
  {
   "cell_type": "markdown",
   "metadata": {},
   "source": [
    "It is possible to modify the quantum phase $\\phi$ by using the T gate, represented by the following operator:\n",
    "\n",
    "$ T = \n",
    "\\begin{bmatrix}\n",
    "    1 & 0 \\\\\n",
    "    0 & e^{i \\pi/4} \n",
    "\\end{bmatrix}\n",
    "$"
   ]
  },
  {
   "cell_type": "markdown",
   "metadata": {},
   "source": [
    "which applies a change of the phase (e.g. a rotation) of 45$^{\\circ}$."
   ]
  },
  {
   "cell_type": "markdown",
   "metadata": {},
   "source": [
    "To understand the meaning of the quantum phase and the effect of changing it, we can look at the following examples."
   ]
  },
  {
   "cell_type": "markdown",
   "metadata": {},
   "source": [
    "### Example 1"
   ]
  },
  {
   "cell_type": "markdown",
   "metadata": {},
   "source": [
    "In this example, we will operate on a single qubit."
   ]
  },
  {
   "cell_type": "markdown",
   "metadata": {},
   "source": [
    "First of all, we will put it in a superposition state using the H gate, then we will apply a variable number of times (from n = 0 to n = 7) the T operator, rotating its state of multiples of 45$^{\\circ}$ and finally apply again the H gate before measuring its state, which can be written as:"
   ]
  },
  {
   "cell_type": "markdown",
   "metadata": {},
   "source": [
    "$\\ket{\\psi} = H T^n H \\ket{0} = H T^n \\ket{+}$"
   ]
  },
  {
   "cell_type": "markdown",
   "metadata": {},
   "source": [
    "Applying twice the operator H, allows us to measure the final state in terms of probability of being in the $\\ket{0}$ state, as:\n",
    "\n",
    "P = $| \\braket{0}{\\psi} |^2$ = $| \\bra{0} H T^n H \\ket{0} |^2 = | \\bra{+} T^n \\ket{+} |^2$"
   ]
  },
  {
   "cell_type": "code",
   "execution_count": 1,
   "metadata": {},
   "outputs": [],
   "source": [
    "# quantum_phase.py\n",
    "import numpy as np\n",
    "from qiskit import QuantumCircuit, QuantumRegister, ClassicalRegister, execute, Aer"
   ]
  },
  {
   "cell_type": "code",
   "execution_count": 2,
   "metadata": {},
   "outputs": [],
   "source": [
    "# Define the Quantum and Classical Registers\n",
    "q = QuantumRegister(1)\n",
    "c = ClassicalRegister(1)"
   ]
  },
  {
   "cell_type": "code",
   "execution_count": 3,
   "metadata": {},
   "outputs": [],
   "source": [
    "# Build the circuits\n",
    "circuits = []\n",
    "pre = QuantumCircuit(q, c)\n",
    "pre.h(q)\n",
    "pre.barrier()\n",
    "middle = QuantumCircuit(q, c)\n",
    "meas_x = QuantumCircuit(q, c)\n",
    "meas_x.barrier()\n",
    "meas_x.h(q)\n",
    "meas_x.measure(q, c)\n",
    "exp_vector = range(0,8)\n",
    "for exp_index in exp_vector:\n",
    "    circuits.append(pre + middle + meas_x)\n",
    "    middle.t(q)    "
   ]
  },
  {
   "cell_type": "code",
   "execution_count": 6,
   "metadata": {},
   "outputs": [
    {
     "data": {
      "image/png": "[encoded data removed]",
      "text/plain": [
       "<Figure size 425.012x144.48 with 1 Axes>"
      ]
     },
     "metadata": {},
     "output_type": "display_data"
    },
    {
     "data": {
      "image/png": "[encoded data removed]",
      "text/plain": [
       "<Figure size 485.212x144.48 with 1 Axes>"
      ]
     },
     "metadata": {},
     "output_type": "display_data"
    },
    {
     "data": {
      "image/png": "[encoded data removed]",
      "text/plain": [
       "<Figure size 545.412x144.48 with 1 Axes>"
      ]
     },
     "metadata": {},
     "output_type": "display_data"
    },
    {
     "data": {
      "image/png": "[encoded data removed]",
      "text/plain": [
       "<Figure size 605.612x144.48 with 1 Axes>"
      ]
     },
     "metadata": {},
     "output_type": "display_data"
    },
    {
     "data": {
      "image/png": "[encoded data removed]",
      "text/plain": [
       "<Figure size 665.812x144.48 with 1 Axes>"
      ]
     },
     "metadata": {},
     "output_type": "display_data"
    },
    {
     "data": {
      "image/png": "[encoded data removed]",
      "text/plain": [
       "<Figure size 726.012x144.48 with 1 Axes>"
      ]
     },
     "metadata": {},
     "output_type": "display_data"
    },
    {
     "data": {
      "image/png": "[encoded data removed]",
      "text/plain": [
       "<Figure size 786.212x144.48 with 1 Axes>"
      ]
     },
     "metadata": {},
     "output_type": "display_data"
    },
    {
     "data": {
      "image/png": "[encoded data removed]",
      "text/plain": [
       "<Figure size 846.412x144.48 with 1 Axes>"
      ]
     },
     "metadata": {},
     "output_type": "display_data"
    }
   ],
   "source": [
    "# We need this function to plot inside a loop in a notebook\n",
    "import matplotlib.pyplot as plt\n",
    "\n",
    "def show_figure(fig):\n",
    "    new_fig = plt.figure()\n",
    "    new_mngr = new_fig.canvas.manager\n",
    "    new_mngr.canvas.figure = fig\n",
    "    fig.set_canvas(new_mngr.canvas)\n",
    "    plt.show(fig)\n",
    "\n",
    "# Draw the circuits\n",
    "for circuit in circuits:\n",
    "    show_figure(circuit.draw(output='mpl'))"
   ]
  },
  {
   "cell_type": "code",
   "execution_count": 9,
   "metadata": {},
   "outputs": [],
   "source": [
    "# Execute the circuits\n",
    "shots = 1024\n",
    "job = execute(circuits, backend = Aer.get_backend('qasm_simulator'), shots=shots)#, seed=8)\n",
    "result = job.result()"
   ]
  },
  {
   "cell_type": "code",
   "execution_count": 10,
   "metadata": {},
   "outputs": [
    {
     "name": "stdout",
     "output_type": "stream",
     "text": [
      "exp 0: [1.0, 0] X length = 1.0\n",
      "exp 1: [0.8720703125, 0.1279296875] X length = 0.744140625\n",
      "exp 2: [0.486328125, 0.513671875] X length = -0.02734375\n",
      "exp 3: [0.13671875, 0.86328125] X length = -0.7265625\n",
      "exp 4: [0, 1.0] X length = -1.0\n",
      "exp 5: [0.1328125, 0.8671875] X length = -0.734375\n",
      "exp 6: [0.494140625, 0.505859375] X length = -0.01171875\n",
      "exp 7: [0.841796875, 0.158203125] X length = 0.68359375\n"
     ]
    }
   ],
   "source": [
    "# Print the result\n",
    "for exp_index in exp_vector:\n",
    "    data = result.get_counts(circuits[exp_index])\n",
    "    try:\n",
    "        p0 = data['0']/shots\n",
    "    except KeyError:\n",
    "        p0 = 0\n",
    "    try:\n",
    "        p1 = data['1']/shots\n",
    "    except KeyError:\n",
    "        p1 = 0\n",
    "    print('exp {}: [{}, {}] X length = {}'.format(exp_index, p0, p1, p0-p1))"
   ]
  },
  {
   "cell_type": "markdown",
   "metadata": {},
   "source": [
    "Asimptotically, with an infininte number of shots, we would get:\n",
    "\n",
    "| Experiment | Phase angle | Gates | Prob $\\ket{0}$ | Prob $\\ket{1}$ | X length (Prob $\\ket{0}$ - Prob $\\ket{1}$) |\n",
    "|------------|-------------|-------|----------------|----------------|----------|\n",
    "|    0       | \t0          |\t   |\t1           |\t0            | 1        |\n",
    "|    1       |\t$\\pi$/4    |   T   |\t0.8535533 \t|   0.1464466    | 0.7071067|\n",
    "|    2       |\t$\\pi$/2    | T$^2$ |\t0.5      \t|   0.5          | 0        |\n",
    "|    3       |\t3$\\pi$/4   | T$^3$ |\t0.1464466 \t|   0.8535533 \t | -0.707106|\n",
    "|    4       |\t$\\pi$      | T$^4$ |\t0       \t|   1       \t | -1       |\n",
    "|    5       |\t5$\\pi$/4   | T$^5$ |\t0.1464466 \t|   0.8535533    | -0.707106|\n",
    "|    6       |\t3$\\pi$/2   | T$^6$ |\t0.5      \t|   0.5          | 0        |\n",
    "|    7       |\t7$\\pi$/4   | T$^7$ |\t0.8535533 \t|   0.1464466 \t | 0.7071067|"
   ]
  },
  {
   "cell_type": "markdown",
   "metadata": {},
   "source": [
    "With these examples, we observed that even if the probability of observing a qubit in a specific state is given by the module of its complex coefficient, modifying the phase of the coefficient can affect this probability. "
   ]
  },
  {
   "cell_type": "markdown",
   "metadata": {},
   "source": [
    "From the T operator, it is possible to define additional operators, that help in make the notation more compact when dealing with phase modification:"
   ]
  },
  {
   "cell_type": "markdown",
   "metadata": {},
   "source": [
    "$ S = T^2 =  \n",
    "\\begin{bmatrix}\n",
    "    1 & 0 \\\\\n",
    "    0 & i \n",
    "\\end{bmatrix}\n",
    "$\n",
    "\n",
    "$ Z = T^4 =   \n",
    "\\begin{bmatrix}\n",
    "    1 & 0 \\\\\n",
    "    0 & -1 \n",
    "\\end{bmatrix}\n",
    "$\n",
    "\n",
    "$ S^{\\dagger} = T^6 =  \n",
    "\\begin{bmatrix}\n",
    "    1 & 0 \\\\\n",
    "    0 & -i \n",
    "\\end{bmatrix}\n",
    "$\n",
    "\n",
    "$ T^{\\dagger} = T^7 =  \n",
    "\\begin{bmatrix}\n",
    "    1 & 0 \\\\\n",
    "    0 & e^{-i \\pi/4} \n",
    "\\end{bmatrix}\n",
    "$\n",
    "\n",
    "and\n",
    "\n",
    "$ Y =   \n",
    "\\begin{bmatrix}\n",
    "    0 & -i \\\\\n",
    "    i & 0 \n",
    "\\end{bmatrix} = \n",
    "XZ\n",
    "$\n",
    "\n",
    "where:\n",
    "\n",
    "$ X =   \n",
    "\\begin{bmatrix}\n",
    "    0 & i \\\\\n",
    "    i & 0 \n",
    "\\end{bmatrix} \n",
    "$\n"
   ]
  },
  {
   "cell_type": "markdown",
   "metadata": {},
   "source": [
    "All the above operators are defined in Qiskit as gates that can be used to operate on the state of qubits."
   ]
  },
  {
   "cell_type": "markdown",
   "metadata": {},
   "source": [
    "It is now possible to introduce an additional basis (on top of the computational basis $\\{ \\ket{0}, \\ket{1} \\}$ and the superposition basis $\\{ \\ket{+}, \\ket{-} \\}$), which we call the circular (or $Y$) basis, defined as:"
   ]
  },
  {
   "cell_type": "markdown",
   "metadata": {},
   "source": [
    "$\\ket{\\circlearrowright} = \\dfrac{\\ket{0} + i \\ket{1}}{\\sqrt{2}} = \n",
    "\\dfrac{1}{\\sqrt{2}} \n",
    "\\begin{bmatrix}\n",
    "    1 \\\\\n",
    "    i \n",
    "\\end{bmatrix} = \n",
    "\\dfrac{1}{\\sqrt{2}} \n",
    "\\begin{bmatrix}\n",
    "    1 & 0 \\\\\n",
    "    0 & i \n",
    "\\end{bmatrix} \n",
    "\\begin{bmatrix}\n",
    "    1 \\\\\n",
    "    1\n",
    "\\end{bmatrix}= \n",
    "\\dfrac{1}{\\sqrt{2}} \n",
    "\\begin{bmatrix}\n",
    "    1 & 0 \\\\\n",
    "    0 & i \n",
    "\\end{bmatrix}\n",
    "\\begin{bmatrix}\n",
    "    1 & 1 \\\\\n",
    "    1 & -1 \n",
    "\\end{bmatrix}\n",
    "\\begin{bmatrix}\n",
    "    1 \\\\\n",
    "    0 \n",
    "\\end{bmatrix} = \n",
    "SH \\ket{0}\n",
    "$ "
   ]
  },
  {
   "cell_type": "markdown",
   "metadata": {},
   "source": [
    "$\\ket{\\circlearrowleft}  = \\dfrac{\\ket{0} - i \\ket{1}}{\\sqrt{2}} = \n",
    "\\dfrac{1}{\\sqrt{2}} \n",
    "\\begin{bmatrix}\n",
    "    1 \\\\\n",
    "    -i \n",
    "\\end{bmatrix} = \n",
    "\\dfrac{1}{\\sqrt{2}} \n",
    "\\begin{bmatrix}\n",
    "    1 & 0 \\\\\n",
    "    0 & -i \n",
    "\\end{bmatrix} \n",
    "\\begin{bmatrix}\n",
    "    1 \\\\\n",
    "    1\n",
    "\\end{bmatrix}= \n",
    "\\dfrac{1}{\\sqrt{2}} \n",
    "\\begin{bmatrix}\n",
    "    1 & 0 \\\\\n",
    "    0 & -i \n",
    "\\end{bmatrix}\n",
    "\\begin{bmatrix}\n",
    "    1 & 1 \\\\\n",
    "    1 & -1 \n",
    "\\end{bmatrix}\n",
    "\\begin{bmatrix}\n",
    "    1 \\\\\n",
    "    0 \n",
    "\\end{bmatrix} = \n",
    "S^{\\dagger}H \\ket{0}\n",
    "$ "
   ]
  }
 ],
 "metadata": {
  "kernelspec": {
   "display_name": "Python 3",
   "language": "python",
   "name": "python3"
  },
  "language_info": {
   "codemirror_mode": {
    "name": "ipython",
    "version": 3
   },
   "file_extension": ".py",
   "mimetype": "text/x-python",
   "name": "python",
   "nbconvert_exporter": "python",
   "pygments_lexer": "ipython3",
   "version": "3.7.4"
  }
 },
 "nbformat": 4,
 "nbformat_minor": 2
}
