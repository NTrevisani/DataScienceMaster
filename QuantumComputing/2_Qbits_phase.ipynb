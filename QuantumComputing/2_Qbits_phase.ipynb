{
 "cells": [
  {
   "cell_type": "code",
   "execution_count": 1,
   "metadata": {},
   "outputs": [],
   "source": [
    "# quantum_phase.py\n",
    "import numpy as np\n",
    "from qiskit import QuantumCircuit, QuantumRegister, ClassicalRegister, execute, Aer"
   ]
  },
  {
   "cell_type": "code",
   "execution_count": 2,
   "metadata": {},
   "outputs": [],
   "source": [
    "# Define the Quantum and Classical Registers\n",
    "q = QuantumRegister(1)\n",
    "c = ClassicalRegister(1)"
   ]
  },
  {
   "cell_type": "code",
   "execution_count": 3,
   "metadata": {},
   "outputs": [],
   "source": [
    "# Build the circuits\n",
    "circuits = []\n",
    "pre = QuantumCircuit(q, c)\n",
    "pre.h(q)\n",
    "pre.barrier()\n",
    "middle = QuantumCircuit(q, c)\n",
    "meas_x = QuantumCircuit(q, c)\n",
    "meas_x.barrier()\n",
    "meas_x.h(q)\n",
    "meas_x.measure(q, c)\n",
    "exp_vector = range(0,8)\n",
    "for exp_index in exp_vector:\n",
    "    circuits.append(pre + middle + meas_x)\n",
    "    middle.t(q)    "
   ]
  },
  {
   "cell_type": "code",
   "execution_count": 4,
   "metadata": {},
   "outputs": [
    {
     "name": "stdout",
     "output_type": "stream",
     "text": [
      "         ┌───┐ ░  ░ ┌───┐┌─┐\n",
      "q0_0: |0>┤ H ├─░──░─┤ H ├┤M├\n",
      "         └───┘ ░  ░ └───┘└╥┘\n",
      " c0_0: 0 ═════════════════╩═\n",
      "                            \n",
      "         ┌───┐ ░ ┌───┐ ░ ┌───┐┌─┐\n",
      "q0_0: |0>┤ H ├─░─┤ T ├─░─┤ H ├┤M├\n",
      "         └───┘ ░ └───┘ ░ └───┘└╥┘\n",
      " c0_0: 0 ══════════════════════╩═\n",
      "                                 \n",
      "         ┌───┐ ░ ┌───┐┌───┐ ░ ┌───┐┌─┐\n",
      "q0_0: |0>┤ H ├─░─┤ T ├┤ T ├─░─┤ H ├┤M├\n",
      "         └───┘ ░ └───┘└───┘ ░ └───┘└╥┘\n",
      " c0_0: 0 ═══════════════════════════╩═\n",
      "                                      \n",
      "         ┌───┐ ░ ┌───┐┌───┐┌───┐ ░ ┌───┐┌─┐\n",
      "q0_0: |0>┤ H ├─░─┤ T ├┤ T ├┤ T ├─░─┤ H ├┤M├\n",
      "         └───┘ ░ └───┘└───┘└───┘ ░ └───┘└╥┘\n",
      " c0_0: 0 ════════════════════════════════╩═\n",
      "                                           \n",
      "         ┌───┐ ░ ┌───┐┌───┐┌───┐┌───┐ ░ ┌───┐┌─┐\n",
      "q0_0: |0>┤ H ├─░─┤ T ├┤ T ├┤ T ├┤ T ├─░─┤ H ├┤M├\n",
      "         └───┘ ░ └───┘└───┘└───┘└───┘ ░ └───┘└╥┘\n",
      " c0_0: 0 ═════════════════════════════════════╩═\n",
      "                                                \n",
      "         ┌───┐ ░ ┌───┐┌───┐┌───┐┌───┐┌───┐ ░ ┌───┐┌─┐\n",
      "q0_0: |0>┤ H ├─░─┤ T ├┤ T ├┤ T ├┤ T ├┤ T ├─░─┤ H ├┤M├\n",
      "         └───┘ ░ └───┘└───┘└───┘└───┘└───┘ ░ └───┘└╥┘\n",
      " c0_0: 0 ══════════════════════════════════════════╩═\n",
      "                                                     \n",
      "         ┌───┐ ░ ┌───┐┌───┐┌───┐┌───┐┌───┐┌───┐ ░ ┌───┐┌─┐\n",
      "q0_0: |0>┤ H ├─░─┤ T ├┤ T ├┤ T ├┤ T ├┤ T ├┤ T ├─░─┤ H ├┤M├\n",
      "         └───┘ ░ └───┘└───┘└───┘└───┘└───┘└───┘ ░ └───┘└╥┘\n",
      " c0_0: 0 ═══════════════════════════════════════════════╩═\n",
      "                                                          \n",
      "         ┌───┐ ░ ┌───┐┌───┐┌───┐┌───┐┌───┐┌───┐┌───┐ ░ ┌───┐┌─┐\n",
      "q0_0: |0>┤ H ├─░─┤ T ├┤ T ├┤ T ├┤ T ├┤ T ├┤ T ├┤ T ├─░─┤ H ├┤M├\n",
      "         └───┘ ░ └───┘└───┘└───┘└───┘└───┘└───┘└───┘ ░ └───┘└╥┘\n",
      " c0_0: 0 ════════════════════════════════════════════════════╩═\n",
      "                                                               \n"
     ]
    }
   ],
   "source": [
    "# Draw the circuits\n",
    "for circuit in circuits:\n",
    "    print(circuit)"
   ]
  },
  {
   "cell_type": "code",
   "execution_count": 5,
   "metadata": {},
   "outputs": [],
   "source": [
    "# Execute the circuits\n",
    "shots = 1024\n",
    "job = execute(circuits, backend = Aer.get_backend('qasm_simulator'), shots=shots)#, seed=8)\n",
    "result = job.result()"
   ]
  },
  {
   "cell_type": "code",
   "execution_count": 6,
   "metadata": {},
   "outputs": [
    {
     "name": "stdout",
     "output_type": "stream",
     "text": [
      "exp 0: [1.0, 0] X length = 1.0\n",
      "exp 1: [0.8505859375, 0.1494140625] X length = 0.701171875\n",
      "exp 2: [0.4931640625, 0.5068359375] X length = -0.013671875\n",
      "exp 3: [0.138671875, 0.861328125] X length = -0.72265625\n",
      "exp 4: [0, 1.0] X length = -1.0\n",
      "exp 5: [0.171875, 0.828125] X length = -0.65625\n",
      "exp 6: [0.4921875, 0.5078125] X length = -0.015625\n",
      "exp 7: [0.853515625, 0.146484375] X length = 0.70703125\n"
     ]
    }
   ],
   "source": [
    "# Print the result\n",
    "for exp_index in exp_vector:\n",
    "    data = result.get_counts(circuits[exp_index])\n",
    "    try:\n",
    "        p0 = data['0']/shots\n",
    "    except KeyError:\n",
    "        p0 = 0\n",
    "    try:\n",
    "        p1 = data['1']/shots\n",
    "    except KeyError:\n",
    "        p1 = 0\n",
    "    print('exp {}: [{}, {}] X length = {}'.format(exp_index, p0, p1, p0-p1))"
   ]
  },
  {
   "cell_type": "code",
   "execution_count": null,
   "metadata": {},
   "outputs": [],
   "source": []
  }
 ],
 "metadata": {
  "kernelspec": {
   "display_name": "Python 3",
   "language": "python",
   "name": "python3"
  },
  "language_info": {
   "codemirror_mode": {
    "name": "ipython",
    "version": 3
   },
   "file_extension": ".py",
   "mimetype": "text/x-python",
   "name": "python",
   "nbconvert_exporter": "python",
   "pygments_lexer": "ipython3",
   "version": "3.7.4"
  }
 },
 "nbformat": 4,
 "nbformat_minor": 2
}
