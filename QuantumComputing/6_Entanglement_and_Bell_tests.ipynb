{
 "cells": [
  {
   "cell_type": "markdown",
   "metadata": {},
   "source": [
    "$\\newcommand{\\ket}[1]{\\left|#1\\right>}$\n",
    "\n",
    "$\\newcommand{\\bra}[1]{\\left<#1\\right|}$\n",
    "\n",
    "$\\newcommand{\\braket}[2]{\\left<#1 | #2\\right>}$\n",
    "\n",
    "$\\newcommand{\\expectation}[1]{\\left<#1\\right>}$\n"
   ]
  },
  {
   "cell_type": "markdown",
   "metadata": {},
   "source": [
    "# Entanglement and Bell tests\n",
    "\n",
    "For this notebook, I have tried to integrate the content of IBM Q tutorial with some wikipedia examples: \n",
    "\n",
    "https://quantum-computing.ibm.com/docs/guide/mult-entang/entanglement-and-bell-tests <br>\n",
    "https://es.wikipedia.org/wiki/Teorema_de_Bell\n",
    "\n",
    "One of the most interesting but at the same time counterintuitive features of quantum mechanics, is that it states that two systems which are put and kept in a coherent (entangled) state can behave in a strongly correlated way, even if they are too far apart to let any classical local theory explaining that.\n",
    "\n",
    "Of course, this fact influences the behaviour of quantum computers, so that we can verify it and see its effect."
   ]
  },
  {
   "cell_type": "markdown",
   "metadata": {},
   "source": [
    "## The Bell test\n",
    "\n",
    "To understand how entanglement prevents quantum mechanics from being a local and realist theory, we will proceed by setting up an experiment which works in classical mechanics, but fails in quantum mechanics.\n",
    "\n",
    "It is known as the Bell test and we will present it in terms of qbits and measurement of their states, while originally we would have to deal with electrons and measurement of their spins, since it is equivalent and it keeps us in the quantum computing environment."
   ]
  },
  {
   "cell_type": "markdown",
   "metadata": {},
   "source": [
    "### Experimental setup\n",
    "\n",
    "Let's suppose we prepare two qbits in a coherent state as for example:\n",
    "\n",
    "$\\ket{\\psi} = \\dfrac{\\ket{00} + \\ket{11}}{\\sqrt{2}}$\n",
    "\n",
    "If we measure the two qbits along the same *direction* (remember the Bloch sphere and the fact that the z-axis connects the $\\ket{0}$ and $\\ket{1}$ states), we will always get the same results for both qbits.\n",
    "In other words, if perform measurement to see if the first qbit is in the $\\ket{0}$ state and we get a positive result, also the measurement of the second qbit state will give a positive result.\n",
    "This is valid not only for measurements along the z-axis, but along any axis of the Bloch sphere, the important thing is that we have to measure both the qbits along the same axis.\n",
    "\n",
    "As a summary, the results of the measurements of the two qbits, if performed along the same axis, are fully correlated (correlation = +1).\n",
    "\n",
    "Now, let's change a bit our measurements: the axes along which we measure the states of the two qbits will now be othogonal to each other.\n",
    "For example, if we measure the state of the first qbit along the z axis, we measure the state of the second qbit along the x axis. This is equivalent to measure if the first qbit is in the $\\ket{0}$ state and if the second qbit is in the $\\ket{+} = \\dfrac{\\ket{0} + \\ket{1}}{\\sqrt{2}}$ state.\n",
    "In this case, the result of the measurement of the first qbit state will not ensure anything about the state of the second qbit. So that, if we measure the first qbit to be in the $\\ket{0}$ state, the second qbit may be in the $\\ket{+}$ state or not, with 50% probability.\n",
    "\n",
    "So, the results of the measurements of the two qbits, if performed along two othogonal axes, are not correlated (correlation = 0).\n",
    "\n",
    "Up to this point, everything can be explained by the existence of hidden variables that makes it possible to have always fully correlated results when the measurement is made on the same axis for the two qbits and uncorrelated results when the measurement is performed on orthogonal axes.\n",
    "We call them *hidden* variables since we don't have direct acces to them: when we perform a measurement, we just see the result of (indirectly) setting them to the *correct* values in the prepation of the entangled state.\n",
    "\n",
    "Since all the information needed by the qbits is, in our current assumption, stored in some hidden variable, we are now assuming quantum mechanics is a local and realist theory:\n",
    "- realism: all observables have a definite value independent of the measurement;\n",
    "- locality: no information can travel faster than the speed of light.\n",
    "\n",
    "It is easy to understand that the results of our measurement depend (under our current assumption) on the state of the hidden variables, so that if we were able to know their state (which we can't!) we would know the outcome of the measurement *before* performing it (realism) so that the qbits do not have to *communicate* with each other to agree on the result of the measurement (locality). "
   ]
  },
  {
   "cell_type": "markdown",
   "metadata": {},
   "source": [
    "### The Clauser-Horne-Shimony-Holt inequality\n",
    "\n",
    "Let's now consider another slightly different experimental setup: \n",
    "- instead of measuring only one direction, each qbit state can be measured along two orthogonal directions (e.g. the first qbit can be measured along z-axis or along x-axis, so we can measure if it is in the $\\ket{0}$ or if it is in the $\\ket{+}$ state);\n",
    "- the set of axes along which we measure two different qbits are rotated by 45$^{\\circ}$ with respect to each other. So, if the two axes we choose for measuring the first qbits are the z-axis (vertical axis) and the x-axis (horizontal axis), the two axes we use for measuring the second qbits are the ones shown in the following Figure."
   ]
  },
  {
   "cell_type": "markdown",
   "metadata": {},
   "source": [
    "<img src='Bell.png'>"
   ]
  },
  {
   "cell_type": "markdown",
   "metadata": {},
   "source": [
    "What we want to do now is to choose one of the two axes for the first qbit measurement, one of the two axes for the second qbit measurement, and measure their states along those axes.\n",
    "\n",
    "Now let's define a set of scores:\n",
    "- $\\expectation{AB}$: measurement of 1st qbit along z-axis ($A$) and second qbit along 45$^{\\circ}$-axis ($B$) is the same: +1 (-1 if different);\n",
    "- $\\expectation{AB'}$: measurement of 1st qbit along z-axis ($A$) and second qbit along 135$^{\\circ}$-axis ($B'$) is the same: +1 (-1 if different);\n",
    "- $\\expectation{A'B}$: measurement of 1st qbit along x-axis ($A'$) and second qbit along 45$^{\\circ}$-axis ($B$) is the same: +1 (-1 if different);\n",
    "- $\\expectation{A'B'}$: measurement of 1st qbit along x-axis ($A'$) and second qbit along 135$^{\\circ}$-axis ($B'$) is the same: +1 (-1 if different).\n",
    "\n",
    "Clauser, Horne, Shimony, and Holt (CHSH) demonstrated that assuming realism and locality, then the following inequality must be true:\n",
    "\n",
    "$ |C| = |\\expectation{AB} + \\expectation{AB'} + \\expectation{A'B} - \\expectation{A'B'}| \\leq 2$\n",
    "\n",
    "Let's verify it in our case combining all the possible outcomes of our measurements, again considering that some hidden variables have been given some particular values when we created the entanglement between our two qbits, so that realism and locality are satisfied.\n",
    "\n",
    "In the following tables, we are going to list all the possible results we can get, and the corresponding values of C. "
   ]
  },
  {
   "cell_type": "markdown",
   "metadata": {},
   "source": [
    "| Hidden variables states             |   |   |   |   |   |   |   |   |   |   |   |   |   |   |   |   |\n",
    "|:------------------------------------|---|---|---|---|---|---|---|---|---|---|---|---|---|---|---|---|\n",
    "| $A$: z-axis (1st qbit)              | + | + | + | + | − | − | − | − | + | + | + | + | − | − | − | − |\n",
    "| $B$: 45$^{\\circ}$-axis (2nd qbit)   | + | + | + | − | − | − | − | + | + | − | − | − | + | + | + | − |\n",
    "| $A'$: x-axis (1st qbit)             | + | + | − | − | − | − | + | + | − | + | + | − | + | − | − | + |\n",
    "| $B'$: 135$^{\\circ}$-axis (2nd qbit) | + | − | − | − | − | + | + | + | + | + | − | + | − | + | − | − |"
   ]
  },
  {
   "cell_type": "markdown",
   "metadata": {},
   "source": [
    "| Score                 |    |    |    |    |    |    |    |    |    |    |    |    |    |    |    |    |\n",
    "|:----------------------|----|----|----|----|----|----|----|----|----|----|----|----|----|----|----|----|\n",
    "| $\\expectation{AB}$    | +1 | +1 | +1 | −1 | +1 | +1 | +1 | -1 | +1 | −1 | −1 | −1 | −1 | −1 | −1 | +1 |\n",
    "| $\\expectation{A'B}$   | +1 | +1 | −1 | +1 | +1 | +1 | −1 | +1 | −1 | −1 | −1 | +1 | +1 | −1 | −1 | −1 |\n",
    "| −$\\expectation{A'B'}$ | −1 | +1 | −1 | −1 | −1 | +1 | −1 | −1 | +1 | −1 | +1 | +1 | +1 | +1 | −1 | +1 |\n",
    "| $\\expectation{AB'}$   | +1 | −1 | −1 | −1 | +1 | −1 | −1 | −1 | +1 | +1 | −1 | +1 | +1 | −1 | +1 | +1 |\n",
    "| $C$                   | +2 | +2 | −2 | −2 | +2 | +2 | −2 | −2 | +2 | −2 | −2 | +2 | +2 | −2 | −2 | +2 |"
   ]
  },
  {
   "cell_type": "markdown",
   "metadata": {},
   "source": [
    "So, everything looks ok: we assumed that the strange results of entangled systems can be explained by the existence of hidden variables that, whatever they are, makes it possible to satisfy the CHSH inequality and respect locality and realism."
   ]
  },
  {
   "cell_type": "markdown",
   "metadata": {},
   "source": [
    "### Quantum mechanical approach\n",
    "\n",
    "Now, let's try to solve the same problem using quantum mechanics.\n",
    "\n",
    "As we know, in quantum mechanics the measurement process has an active role, as the act of measuring the state of a system makes it collapse to one of the possible final state, with a probability equal to the square module of the corresponding coefficient. In case the results of quantum mechanics are different from those we got in the previous section, it means that quantum mechanics is not a realist or a local theory.\n",
    "\n",
    "In that case, we can use our quantum computer to test which one of the two approaches to the solution of our problem better adjusts to reality. \n",
    "This highlights an interesting features of quantum computers: they represent unique tools to test quantum mechanics.\n",
    "\n",
    "It is worth at this point taking some time to understand the meaning of the scores defined earlier.\n",
    "Each of the score represent the correlation between the two measurements and in fact, it takes value +1 when the measurements give the same result (so they are fully correlated) and it takes value -1 when the results are opposite (and they are fully uncorrelated).\n",
    "\n",
    "In quantum mechanics, we can get the expected correlation between the measurements of two entangled qbits by calculating the expectation value $\\bra{\\psi} A \\ket{\\psi}$ of a measurement."
   ]
  },
  {
   "cell_type": "markdown",
   "metadata": {},
   "source": [
    "So let's start preparing everything we need to solve the problem.\n",
    "\n",
    "First of all, our two qbits, as already said, are in the following entangled state:\n",
    "\n",
    "$\\ket{\\psi} = \\dfrac{\\ket{00} + \\ket{11}}{\\sqrt{2}}$\n",
    "\n",
    "For the first qbit, we have two possibilities:\n",
    "- measure its state along the z-axis or, equivalently, measure if it is in the $\\ket{0}$ state;\n",
    "- measure its state along the x-axis or, equivalently, measure if it is in the $\\ket{+}$ state.\n",
    "\n",
    "So, we recall the matrix expression of the Z and X operators:\n",
    "\n",
    "$ Z =   \n",
    "\\begin{bmatrix}\n",
    "    1 & 0 \\\\\n",
    "    0 & -1 \n",
    "\\end{bmatrix}\n",
    "$\n",
    "\n",
    "$ X =   \n",
    "\\begin{bmatrix}\n",
    "    0 & 1 \\\\\n",
    "    1 & 0 \n",
    "\\end{bmatrix} \n",
    "$"
   ]
  },
  {
   "cell_type": "markdown",
   "metadata": {},
   "source": [
    "While for the second qbit, the two axes along which we want to perform the measurements are rotated by 45$^{\\circ}$ with respect to the axes of the first qbit. The operators we need for these measurements can be written as:\n",
    "\n",
    "$ W = \\dfrac{Z + X}{\\sqrt{2}} =   \n",
    "\\dfrac{1}{\\sqrt{2}}\n",
    "\\begin{bmatrix}\n",
    "    1 & 1 \\\\\n",
    "    1 & -1 \n",
    "\\end{bmatrix}\n",
    "$\n",
    "\n",
    "$ V = \\dfrac{Z - X}{\\sqrt{2}} =   \n",
    "\\dfrac{1}{\\sqrt{2}}\n",
    "\\begin{bmatrix}\n",
    "    1 & -1 \\\\\n",
    "    -1 & -1 \n",
    "\\end{bmatrix}\n",
    "$\n",
    "\n",
    "Remembering that each operator acts only on the corresponding qbit, independently on the other one, we can list all the possible results we can get:"
   ]
  },
  {
   "cell_type": "markdown",
   "metadata": {},
   "source": [
    "#### measurement of the state of the first qbit along the z-axis\n",
    "\n",
    "$Z \\ket{0} = \n",
    "\\begin{bmatrix}\n",
    "    1 & 0 \\\\\n",
    "    0 & -1 \n",
    "\\end{bmatrix}\n",
    "\\begin{bmatrix}\n",
    "    1 \\\\\n",
    "    0 \n",
    "\\end{bmatrix} = \n",
    "\\begin{bmatrix}\n",
    "    1 \\\\\n",
    "    0 \n",
    "\\end{bmatrix} = \n",
    "\\ket{0}\n",
    "$\n",
    "\n",
    "$Z \\ket{1} = \n",
    "\\begin{bmatrix}\n",
    "    1 & 0 \\\\\n",
    "    0 & -1 \n",
    "\\end{bmatrix}\n",
    "\\begin{bmatrix}\n",
    "    0 \\\\\n",
    "    1 \n",
    "\\end{bmatrix} =\n",
    "\\begin{bmatrix}\n",
    "    0 \\\\\n",
    "    -1 \n",
    "\\end{bmatrix} = \n",
    "- \\ket{1}\n",
    "$"
   ]
  },
  {
   "cell_type": "markdown",
   "metadata": {},
   "source": [
    "#### measurement of the state of the first qbit along the x-axis\n",
    "\n",
    "$X \\ket{0} = \n",
    "\\begin{bmatrix}\n",
    "    0 & 1 \\\\\n",
    "    1 & 0 \n",
    "\\end{bmatrix}\n",
    "\\begin{bmatrix}\n",
    "    1 \\\\\n",
    "    0 \n",
    "\\end{bmatrix} = \n",
    "\\begin{bmatrix}\n",
    "    0 \\\\\n",
    "    1 \n",
    "\\end{bmatrix} = \n",
    "\\ket{1}\n",
    "$\n",
    "\n",
    "$X \\ket{1} = \n",
    "\\begin{bmatrix}\n",
    "    0 & 1 \\\\\n",
    "    1 & 0 \n",
    "\\end{bmatrix}\n",
    "\\begin{bmatrix}\n",
    "    0 \\\\\n",
    "    1 \n",
    "\\end{bmatrix} =\n",
    "\\begin{bmatrix}\n",
    "    1 \\\\\n",
    "    0 \n",
    "\\end{bmatrix} = \n",
    "\\ket{0}\n",
    "$"
   ]
  },
  {
   "cell_type": "markdown",
   "metadata": {},
   "source": [
    "#### measurement of the state of the second qbit along the w-axis\n",
    "\n",
    "$W \\ket{0} = \n",
    "\\dfrac{1}{\\sqrt{2}}\n",
    "\\begin{bmatrix}\n",
    "    1 & 1 \\\\\n",
    "    1 & -1 \n",
    "\\end{bmatrix}\n",
    "\\begin{bmatrix}\n",
    "    1 \\\\\n",
    "    0 \n",
    "\\end{bmatrix} = \n",
    "\\dfrac{1}{\\sqrt{2}}\n",
    "\\begin{bmatrix}\n",
    "    1 \\\\\n",
    "    1 \n",
    "\\end{bmatrix} = \n",
    "\\ket{+}\n",
    "$\n",
    "\n",
    "$W \\ket{1} = \n",
    "\\dfrac{1}{\\sqrt{2}}\n",
    "\\begin{bmatrix}\n",
    "    1 & 1 \\\\\n",
    "    1 & -1 \n",
    "\\end{bmatrix}\n",
    "\\begin{bmatrix}\n",
    "    0 \\\\\n",
    "    1 \n",
    "\\end{bmatrix} = \n",
    "\\dfrac{1}{\\sqrt{2}}\n",
    "\\begin{bmatrix}\n",
    "    1 \\\\\n",
    "    -1 \n",
    "\\end{bmatrix} = \n",
    "\\ket{-}\n",
    "$"
   ]
  },
  {
   "cell_type": "markdown",
   "metadata": {},
   "source": [
    "#### measurement of the state of the second qbit along the v-axis\n",
    "\n",
    "$V \\ket{0} = \n",
    "\\dfrac{1}{\\sqrt{2}}\n",
    "\\begin{bmatrix}\n",
    "     1 & -1 \\\\\n",
    "    -1 & -1 \n",
    "\\end{bmatrix}\n",
    "\\begin{bmatrix}\n",
    "    1 \\\\\n",
    "    0 \n",
    "\\end{bmatrix} = \n",
    "\\dfrac{1}{\\sqrt{2}}\n",
    "\\begin{bmatrix}\n",
    "    1 \\\\\n",
    "    -1 \n",
    "\\end{bmatrix} = \n",
    "\\ket{-}\n",
    "$\n",
    "\n",
    "$V \\ket{1} = \n",
    "\\dfrac{1}{\\sqrt{2}}\n",
    "\\begin{bmatrix}\n",
    "     1 & -1 \\\\\n",
    "    -1 & -1 \n",
    "\\end{bmatrix}\n",
    "\\begin{bmatrix}\n",
    "    0 \\\\\n",
    "    1 \n",
    "\\end{bmatrix} = \n",
    "\\dfrac{1}{\\sqrt{2}}\n",
    "\\begin{bmatrix}\n",
    "    -1 \\\\\n",
    "    -1 \n",
    "\\end{bmatrix} = \n",
    "-\\ket{+}\n",
    "$"
   ]
  },
  {
   "cell_type": "markdown",
   "metadata": {},
   "source": [
    "### Getting the scores\n",
    "\n",
    "Before moving to the scores, let's change a bit the notation for the two-qbits state and make clearer, for every state, to which qbit it refers:\n",
    "\n",
    "$\\ket{\\psi} = \\dfrac{\\ket{00} + \\ket{11}}{\\sqrt{2}} = \n",
    "\\dfrac{\\ket{0}_1 \\otimes \\ket{0}_2 + \\ket{1}_1 \\otimes \\ket{1}_2}{\\sqrt{2}}\n",
    "$\n",
    "\n",
    "where the substript indicates to which qbit the state refers to and the $\\otimes$ symbol underlines the fact that each operator acts only on the state associated to its qbit, leaving the state of the other untouched."
   ]
  },
  {
   "cell_type": "markdown",
   "metadata": {},
   "source": [
    "#### $\\expectation{AB}$ score\n",
    "\n",
    "$\\expectation{AB} = \\bra{\\psi} Z_1 W_2 \\ket{\\psi} =\n",
    "%\n",
    "\\bra{\\psi} \\dfrac{Z_1 \\ket{0}_1 \\otimes W_2 \\ket{0}_2 + Z_1 \\ket{1}_1 \\otimes W_2 \\ket{1}_2}{\\sqrt{2}} = \n",
    "%\n",
    "\\bra{\\psi} \\dfrac{\\ket{0}_1 \\otimes \\ket{+}_2 + (-\\ket{1}_1) \\otimes \\ket{-}_2}{\\sqrt{2}} = \n",
    "%\n",
    "\\bra{\\psi} \n",
    "\\dfrac{\\ket{0}_1 \\otimes\n",
    "\\left( \\dfrac{\\ket{0}_2 + \\ket{1}_2}{\\sqrt{2}} \\right) - \n",
    "\\ket{1}_1 \\otimes \n",
    "\\left( \\dfrac{\\ket{0}_2 - \\ket{1}_2}{\\sqrt{2}} \\right)}\n",
    "{\\sqrt{2}} = \n",
    "%\n",
    "\\bra{\\psi} \n",
    "\\dfrac{\\ket{0}_1 \\otimes \\ket{0}_2 + \n",
    "\\ket{0}_1 \\otimes \\ket{1}_2 - \n",
    "\\ket{1}_1 \\otimes \\ket{0}_2 + \n",
    "\\ket{1}_1 \\otimes \\ket{1}_2}\n",
    "{2} = \n",
    "%\n",
    "\\bra{\\psi} \n",
    "\\dfrac{\\ket{00} + \\ket{01} - \\ket{10} + \\ket{11}}{2} = \n",
    "%\n",
    "\\left[\n",
    "\\dfrac{\\bra{00} + \\bra{11}}{\\sqrt{2}} \n",
    "\\right]\n",
    "\\left[\n",
    "\\dfrac{\\ket{00} + \\ket{01} - \\ket{10} + \\ket{11}}{2} \n",
    "\\right] = \\dfrac{1 + 1}{2\\sqrt{2}} = \\dfrac{1}{\\sqrt{2}}\n",
    "$"
   ]
  },
  {
   "cell_type": "markdown",
   "metadata": {},
   "source": [
    "#### $\\expectation{AB'}$ score\n",
    "\n",
    "$\\expectation{AB'} = \\bra{\\psi} Z_1 V_2 \\ket{\\psi} =\n",
    "%\n",
    "\\bra{\\psi} \\dfrac{Z_1 \\ket{0}_1 \\otimes V_2 \\ket{0}_2 + Z_1 \\ket{1}_1 \\otimes V_2 \\ket{1}_2}{\\sqrt{2}} = \n",
    "%\n",
    "\\bra{\\psi} \\dfrac{\\ket{0}_1 \\otimes \\ket{-}_2 + (-\\ket{1}_1) \\otimes (-\\ket{+}_2)}{\\sqrt{2}} = \n",
    "%\n",
    "\\bra{\\psi} \n",
    "\\dfrac{\\ket{0}_1 \\otimes\n",
    "\\left( \\dfrac{\\ket{0}_2 - \\ket{1}_2}{\\sqrt{2}} \\right) + \n",
    "\\ket{1}_1 \\otimes \n",
    "\\left( \\dfrac{\\ket{0}_2 + \\ket{1}_2}{\\sqrt{2}} \\right)}\n",
    "{\\sqrt{2}} = \n",
    "%\n",
    "\\bra{\\psi} \n",
    "\\dfrac{\\ket{0}_1 \\otimes \\ket{0}_2 - \n",
    "\\ket{0}_1 \\otimes \\ket{1}_2 + \n",
    "\\ket{1}_1 \\otimes \\ket{0}_2 + \n",
    "\\ket{1}_1 \\otimes \\ket{1}_2}\n",
    "{2} = \n",
    "%\n",
    "\\bra{\\psi} \n",
    "\\dfrac{\\ket{00} - \\ket{01} + \\ket{10} + \\ket{11}}{2} = \n",
    "%\n",
    "\\left[\n",
    "\\dfrac{\\bra{00} + \\bra{11}}{\\sqrt{2}} \n",
    "\\right]\n",
    "\\left[\n",
    "\\dfrac{\\ket{00} - \\ket{01} + \\ket{10} + \\ket{11}}{2} \n",
    "\\right] = \\dfrac{1 + 1}{2\\sqrt{2}} = \\dfrac{1}{\\sqrt{2}}\n",
    "$"
   ]
  },
  {
   "cell_type": "markdown",
   "metadata": {},
   "source": [
    "#### $\\expectation{A'B}$ score\n",
    "\n",
    "$\\expectation{A'B} = \\bra{\\psi} X_1 W_2 \\ket{\\psi} =\n",
    "%\n",
    "\\bra{\\psi} \\dfrac{X_1 \\ket{0}_1 \\otimes W_2 \\ket{0}_2 + X_1 \\ket{1}_1 \\otimes W_2 \\ket{1}_2}{\\sqrt{2}} = \n",
    "%\n",
    "\\bra{\\psi} \\dfrac{\\ket{1}_1 \\otimes \\ket{+}_2 + \\ket{0}_1 \\otimes \\ket{-}_2}{\\sqrt{2}} = \n",
    "%\n",
    "\\bra{\\psi} \n",
    "\\dfrac{\\ket{1}_1 \\otimes\n",
    "\\left( \\dfrac{\\ket{0}_2 + \\ket{1}_2}{\\sqrt{2}} \\right) + \n",
    "\\ket{0}_1 \\otimes \n",
    "\\left( \\dfrac{\\ket{0}_2 - \\ket{1}_2}{\\sqrt{2}} \\right)}\n",
    "{\\sqrt{2}} = \n",
    "%\n",
    "\\bra{\\psi} \n",
    "\\dfrac{\\ket{1}_1 \\otimes \\ket{0}_2 + \n",
    "\\ket{1}_1 \\otimes \\ket{1}_2 + \n",
    "\\ket{0}_1 \\otimes \\ket{0}_2 - \n",
    "\\ket{0}_1 \\otimes \\ket{1}_2}\n",
    "{2} = \n",
    "%\n",
    "\\bra{\\psi} \n",
    "\\dfrac{\\ket{10} + \\ket{11} + \\ket{00} - \\ket{01}}{2} = \n",
    "%\n",
    "\\left[\n",
    "\\dfrac{\\bra{00} + \\bra{11}}{\\sqrt{2}} \n",
    "\\right]\n",
    "\\left[\n",
    "\\dfrac{\\ket{10} + \\ket{11} + \\ket{00} - \\ket{01}}{2} \n",
    "\\right] = \\dfrac{1 + 1}{2\\sqrt{2}} = \\dfrac{1}{\\sqrt{2}}\n",
    "$"
   ]
  },
  {
   "cell_type": "markdown",
   "metadata": {},
   "source": [
    "#### $\\expectation{A'B'}$ score\n",
    "\n",
    "$\\expectation{A'B'} = \\bra{\\psi} X_1 V_2 \\ket{\\psi} =\n",
    "%\n",
    "\\bra{\\psi} \\dfrac{X_1 \\ket{0}_1 \\otimes V_2 \\ket{0}_2 + X_1 \\ket{1}_1 \\otimes V_2 \\ket{1}_2}{\\sqrt{2}} = \n",
    "%\n",
    "\\bra{\\psi} \\dfrac{\\ket{1}_1 \\otimes \\ket{-}_2 + \\ket{0}_1 \\otimes (- \\ket{+}_2)}{\\sqrt{2}} = \n",
    "%\n",
    "\\bra{\\psi} \n",
    "\\dfrac{\\ket{1}_1 \\otimes\n",
    "\\left( \\dfrac{\\ket{0}_2 - \\ket{1}_2}{\\sqrt{2}} \\right) + \n",
    "\\ket{0}_1 \\otimes \n",
    "\\left( -\\dfrac{\\ket{0}_2 + \\ket{1}_2}{\\sqrt{2}} \\right)}\n",
    "{\\sqrt{2}} = \n",
    "%\n",
    "\\bra{\\psi} \n",
    "\\dfrac{\\ket{1}_1 \\otimes \\ket{0}_2 - \n",
    "\\ket{1}_1 \\otimes \\ket{1}_2 - \n",
    "\\ket{0}_1 \\otimes \\ket{0}_2 - \n",
    "\\ket{0}_1 \\otimes \\ket{1}_2}\n",
    "{2} = \n",
    "%\n",
    "\\bra{\\psi} \n",
    "\\dfrac{\\ket{10} - \\ket{11} - \\ket{00} - \\ket{01}}{2} = \n",
    "%\n",
    "\\left[\n",
    "\\dfrac{\\bra{00} + \\bra{11}}{\\sqrt{2}} \n",
    "\\right]\n",
    "\\left[\n",
    "\\dfrac{\\ket{10} - \\ket{11} - \\ket{00} - \\ket{01}}{2} \n",
    "\\right] = \\dfrac{-1 -1}{2\\sqrt{2}} = -\\dfrac{1}{\\sqrt{2}}\n",
    "$"
   ]
  },
  {
   "cell_type": "markdown",
   "metadata": {},
   "source": [
    "### Finally, the value of CHSH inequality\n",
    "\n",
    "If we now recall the definition of the CHSH inequality, we see:\n",
    "\n",
    "$ \n",
    "|C| = |\\expectation{AB} + \\expectation{AB'} + \\expectation{A'B} - \\expectation{A'B'}| =\n",
    "| \\dfrac{1}{\\sqrt{2}} + \\dfrac{1}{\\sqrt{2}} + \\dfrac{1}{\\sqrt{2}} - \\left(- \\dfrac{1}{\\sqrt{2}}\\right)| = \n",
    "\\dfrac{4}{\\sqrt{2}} = 2 \\sqrt{2} > 2\n",
    "$\n",
    "\n",
    "Which means that quantum mechanics does not respect the requirements needed by a theory to be realist and local.\n",
    "This means that, if with our quantum computer agrees with quantum mechanics, we have to accept that no hidden variables can explain our results, that the act of measuring the state of our qbits make them *choose together* the outcome.  "
   ]
  },
  {
   "cell_type": "markdown",
   "metadata": {},
   "source": [
    "### Experimental verification\n",
    "\n",
    "We can finally move to the experimental verification of our assumptions:\n",
    "1. Quantum mechanics is a local and realist theory and the peculiar behaviour of entangled state can be explained by the existence of hidden variables. In this case, $|C| \\leq 2$;\n",
    "2. Quantum mechanics is not local nor realist, the measurement of the state of an entangled system has an active effect on it, making the qbits to choose *together* the outcome. In this case, $|C| \\leq 2\\sqrt{2}$.  \n",
    "\n",
    "To do it, we will have to prepare a quantum circuit in the so-called Bell state: \n",
    "\n",
    "$\\ket{\\psi} = \\dfrac{\\ket{00} + \\ket{11}}{\\sqrt{2}}$\n",
    "\n",
    "And then perform all the measurements along the pairs of axes we defined in the previous sections of the notebook.\n",
    "By properly summing the results of each measurement, we will get the value of $C$.\n",
    "\n",
    "To prepare the Bell state, we will use a $H$ gate to put the first qbit in the \n",
    "$\\ket{+} = \\frac{\\ket{0} + \\ket{1}}{\\sqrt{2}}$ \n",
    "superposition state and then we will apply a $CNOT$ gate to flip the state of the second qbit from $\\ket{0}$ to $\\ket{1}$ when the first qbit is in state $\\ket{1}$.\n",
    "\n",
    "Let's verify here if this works on a real quantum computer as backend."
   ]
  },
  {
   "cell_type": "code",
   "execution_count": 1,
   "metadata": {},
   "outputs": [
    {
     "data": {
      "text/plain": [
       "<qiskit.circuit.instructionset.InstructionSet at 0x7fadcc49a190>"
      ]
     },
     "execution_count": 1,
     "metadata": {},
     "output_type": "execute_result"
    }
   ],
   "source": [
    "# Build the circuit\n",
    "\n",
    "from qiskit import QuantumCircuit, execute, IBMQ\n",
    "from qiskit import QuantumRegister, ClassicalRegister, Aer\n",
    "\n",
    "# Get access to IBM Q backend\n",
    "provider = IBMQ.load_account()\n",
    "\n",
    "# Define the Quantum and Classical Registers\n",
    "q = QuantumRegister(2)\n",
    "c = ClassicalRegister(2)\n",
    "\n",
    "# Create the circuit\n",
    "bell_state_measurement = QuantumCircuit(q, c)\n",
    "\n",
    "# Put the circuit in the Bell state |00> + |11>\n",
    "bell_state_measurement.h(0)\n",
    "bell_state_measurement.cnot(0,1)\n",
    "\n",
    "# Measure the state\n",
    "bell_state_measurement.measure(q, c)"
   ]
  },
  {
   "cell_type": "code",
   "execution_count": 2,
   "metadata": {},
   "outputs": [
    {
     "data": {
      "image/png": "[encoded data removed]",
      "text/plain": [
       "<Figure size 429.828x204.68 with 1 Axes>"
      ]
     },
     "execution_count": 2,
     "metadata": {},
     "output_type": "execute_result"
    }
   ],
   "source": [
    "# Draw the circuit\n",
    "bell_state_measurement.draw(output='mpl')"
   ]
  },
  {
   "cell_type": "code",
   "execution_count": 3,
   "metadata": {},
   "outputs": [],
   "source": [
    "# Execute the circuit\n",
    "\n",
    "backend = provider.get_backend('ibmq_rome')\n",
    "\n",
    "job = execute(bell_state_measurement, \n",
    "              backend = backend, \n",
    "              shots=1024)\n",
    "\n",
    "result = job.result()"
   ]
  },
  {
   "cell_type": "code",
   "execution_count": 4,
   "metadata": {},
   "outputs": [
    {
     "name": "stdout",
     "output_type": "stream",
     "text": [
      "{'11': 496, '00': 448, '01': 37, '10': 43}\n"
     ]
    }
   ],
   "source": [
    "# Print the result\n",
    "print(result.get_counts(bell_state_measurement))"
   ]
  },
  {
   "cell_type": "code",
   "execution_count": 5,
   "metadata": {},
   "outputs": [
    {
     "data": {
      "image/png": "[encoded data removed]",
      "text/plain": [
       "<Figure size 504x360 with 1 Axes>"
      ]
     },
     "execution_count": 5,
     "metadata": {},
     "output_type": "execute_result"
    }
   ],
   "source": [
    "# Plot the result\n",
    "from qiskit.visualization import plot_histogram\n",
    "\n",
    "plot_histogram(result.get_counts(bell_state_measurement))"
   ]
  },
  {
   "cell_type": "markdown",
   "metadata": {},
   "source": [
    "### $\\expectation{AB}$ measurement"
   ]
  },
  {
   "cell_type": "code",
   "execution_count": 6,
   "metadata": {},
   "outputs": [
    {
     "name": "stderr",
     "output_type": "stream",
     "text": [
      "Credentials are already in use. The existing account in the session will be replaced.\n"
     ]
    },
    {
     "data": {
      "text/plain": [
       "<qiskit.circuit.instructionset.InstructionSet at 0x7fadcb8f0290>"
      ]
     },
     "execution_count": 6,
     "metadata": {},
     "output_type": "execute_result"
    }
   ],
   "source": [
    "### Build the circuit\n",
    "\n",
    "from qiskit import QuantumCircuit, execute, IBMQ\n",
    "from qiskit import QuantumRegister, ClassicalRegister, Aer\n",
    "import numpy as np\n",
    "\n",
    "# Get access to IBM Q backend\n",
    "provider = IBMQ.load_account()\n",
    "\n",
    "# Define the Quantum and Classical Registers\n",
    "q = QuantumRegister(2)\n",
    "c = ClassicalRegister(2)\n",
    "\n",
    "# Create the circuit\n",
    "ab_measurement = QuantumCircuit(q, c)\n",
    "\n",
    "# Put the circuit in the Bell state |00> + |11>\n",
    "ab_measurement.h(0)\n",
    "ab_measurement.cnot(0,1)\n",
    "\n",
    "# I want to measure the second qbit along W = X + Z.\n",
    "# But I can measure it only along Z.\n",
    "# I rotate the state of the second qbit of the same angle\n",
    "# needed to rotate X + Z on Z --> theta = 45 degrees\n",
    "ab_measurement.u3(-np.pi/4, 0, 0, q[1])\n",
    "\n",
    "# Measure the state\n",
    "ab_measurement.measure(q, c)"
   ]
  },
  {
   "cell_type": "code",
   "execution_count": 7,
   "metadata": {},
   "outputs": [
    {
     "data": {
      "image/png": "[encoded data removed]",
      "text/plain": [
       "<Figure size 550.228x204.68 with 1 Axes>"
      ]
     },
     "execution_count": 7,
     "metadata": {},
     "output_type": "execute_result"
    }
   ],
   "source": [
    "# Draw the circuit\n",
    "ab_measurement.draw(output='mpl')"
   ]
  },
  {
   "cell_type": "code",
   "execution_count": 8,
   "metadata": {},
   "outputs": [],
   "source": [
    "# Execute the circuit\n",
    "\n",
    "backend = provider.get_backend('ibmq_rome')\n",
    "shots = 1024\n",
    "\n",
    "job = execute(ab_measurement, \n",
    "              backend = backend, \n",
    "              shots=shots)\n",
    "\n",
    "ab_result = job.result()"
   ]
  },
  {
   "cell_type": "code",
   "execution_count": 9,
   "metadata": {},
   "outputs": [
    {
     "name": "stdout",
     "output_type": "stream",
     "text": [
      "{'11': 472, '00': 360, '01': 90, '10': 102}\n"
     ]
    }
   ],
   "source": [
    "# Print the result\n",
    "print(ab_result.get_counts(ab_measurement))"
   ]
  },
  {
   "cell_type": "code",
   "execution_count": 10,
   "metadata": {},
   "outputs": [
    {
     "data": {
      "image/png": "[encoded data removed]",
      "text/plain": [
       "<Figure size 504x360 with 1 Axes>"
      ]
     },
     "execution_count": 10,
     "metadata": {},
     "output_type": "execute_result"
    }
   ],
   "source": [
    "# Plot the result\n",
    "from qiskit.visualization import plot_histogram\n",
    "\n",
    "plot_histogram(ab_result.get_counts(ab_measurement))"
   ]
  },
  {
   "cell_type": "code",
   "execution_count": 11,
   "metadata": {},
   "outputs": [],
   "source": [
    "# Get the correlation value\n",
    "def correlator(result, circuit, shots):\n",
    "    my_dict = result.get_counts(circuit)\n",
    "    return (my_dict['00'] + my_dict['11'] - my_dict['10'] - my_dict['01']) / shots     "
   ]
  },
  {
   "cell_type": "code",
   "execution_count": 12,
   "metadata": {},
   "outputs": [
    {
     "data": {
      "text/plain": [
       "0.625"
      ]
     },
     "execution_count": 12,
     "metadata": {},
     "output_type": "execute_result"
    }
   ],
   "source": [
    "ab_correlation = correlator(ab_result, ab_measurement, shots)\n",
    "ab_correlation"
   ]
  },
  {
   "cell_type": "markdown",
   "metadata": {},
   "source": [
    "### $\\expectation{A'B}$ measurement"
   ]
  },
  {
   "cell_type": "code",
   "execution_count": 13,
   "metadata": {},
   "outputs": [
    {
     "name": "stderr",
     "output_type": "stream",
     "text": [
      "Credentials are already in use. The existing account in the session will be replaced.\n"
     ]
    },
    {
     "data": {
      "text/plain": [
       "<qiskit.circuit.instructionset.InstructionSet at 0x7fadcaef82d0>"
      ]
     },
     "execution_count": 13,
     "metadata": {},
     "output_type": "execute_result"
    }
   ],
   "source": [
    "### Build the circuit\n",
    "\n",
    "from qiskit import QuantumCircuit, execute, IBMQ\n",
    "from qiskit import QuantumRegister, ClassicalRegister, Aer\n",
    "import numpy as np\n",
    "\n",
    "# Get access to IBM Q backend\n",
    "provider = IBMQ.load_account()\n",
    "\n",
    "# Define the Quantum and Classical Registers\n",
    "q = QuantumRegister(2)\n",
    "c = ClassicalRegister(2)\n",
    "\n",
    "# Create the circuit\n",
    "apb_measurement = QuantumCircuit(q, c)\n",
    "\n",
    "# Put the circuit in the Bell state |00> + |11>\n",
    "apb_measurement.h(0)\n",
    "apb_measurement.cnot(0,1)\n",
    "\n",
    "# I want to measure the first qbit along X.\n",
    "# But I can measure it only along Z.\n",
    "# I apply a H gate to the first qbit,\n",
    "# to rotate it from X toward Z.\n",
    "apb_measurement.h(0)\n",
    "\n",
    "# I want to measure the second qbit along W = X + Z.\n",
    "# But I can measure it only along Z.\n",
    "# I rotate the state of the second qbit of the same angle\n",
    "# needed to rotate X + Z on Z --> theta = 45 degrees\n",
    "apb_measurement.u3(-np.pi/4, 0, 0, q[1])\n",
    "\n",
    "# Measure the state\n",
    "apb_measurement.measure(q, c)"
   ]
  },
  {
   "cell_type": "code",
   "execution_count": 14,
   "metadata": {},
   "outputs": [
    {
     "data": {
      "image/png": "[encoded data removed]",
      "text/plain": [
       "<Figure size 550.228x204.68 with 1 Axes>"
      ]
     },
     "execution_count": 14,
     "metadata": {},
     "output_type": "execute_result"
    }
   ],
   "source": [
    "# Draw the circuit\n",
    "apb_measurement.draw(output='mpl')"
   ]
  },
  {
   "cell_type": "code",
   "execution_count": 15,
   "metadata": {},
   "outputs": [],
   "source": [
    "# Execute the circuit\n",
    "\n",
    "backend = provider.get_backend('ibmq_rome')\n",
    "shots = 1024\n",
    "\n",
    "job = execute(apb_measurement, \n",
    "              backend = backend, \n",
    "              shots=shots)\n",
    "\n",
    "apb_result = job.result()"
   ]
  },
  {
   "cell_type": "code",
   "execution_count": 16,
   "metadata": {},
   "outputs": [
    {
     "name": "stdout",
     "output_type": "stream",
     "text": [
      "{'11': 437, '00': 373, '01': 94, '10': 120}\n"
     ]
    }
   ],
   "source": [
    "# Print the result\n",
    "print(apb_result.get_counts(apb_measurement))"
   ]
  },
  {
   "cell_type": "code",
   "execution_count": 17,
   "metadata": {},
   "outputs": [
    {
     "data": {
      "image/png": "[encoded data removed]",
      "text/plain": [
       "<Figure size 504x360 with 1 Axes>"
      ]
     },
     "execution_count": 17,
     "metadata": {},
     "output_type": "execute_result"
    }
   ],
   "source": [
    "# Plot the result\n",
    "from qiskit.visualization import plot_histogram\n",
    "\n",
    "plot_histogram(apb_result.get_counts(apb_measurement))"
   ]
  },
  {
   "cell_type": "code",
   "execution_count": 18,
   "metadata": {},
   "outputs": [
    {
     "data": {
      "text/plain": [
       "0.58203125"
      ]
     },
     "execution_count": 18,
     "metadata": {},
     "output_type": "execute_result"
    }
   ],
   "source": [
    "apb_correlation = correlator(apb_result, apb_measurement, shots)\n",
    "apb_correlation"
   ]
  },
  {
   "cell_type": "markdown",
   "metadata": {},
   "source": [
    "### $\\expectation{AB'}$ measurement"
   ]
  },
  {
   "cell_type": "code",
   "execution_count": 19,
   "metadata": {},
   "outputs": [
    {
     "name": "stderr",
     "output_type": "stream",
     "text": [
      "Credentials are already in use. The existing account in the session will be replaced.\n"
     ]
    },
    {
     "data": {
      "text/plain": [
       "<qiskit.circuit.instructionset.InstructionSet at 0x7fadcb90bd50>"
      ]
     },
     "execution_count": 19,
     "metadata": {},
     "output_type": "execute_result"
    }
   ],
   "source": [
    "### Build the circuit\n",
    "\n",
    "from qiskit import QuantumCircuit, execute, IBMQ\n",
    "from qiskit import QuantumRegister, ClassicalRegister, Aer\n",
    "import numpy as np\n",
    "\n",
    "# Get access to IBM Q backend\n",
    "provider = IBMQ.load_account()\n",
    "\n",
    "# Define the Quantum and Classical Registers\n",
    "q = QuantumRegister(2)\n",
    "c = ClassicalRegister(2)\n",
    "\n",
    "# Create the circuit\n",
    "abp_measurement = QuantumCircuit(q, c)\n",
    "\n",
    "# Put the circuit in the Bell state |00> + |11>\n",
    "abp_measurement.h(0)\n",
    "abp_measurement.cnot(0,1)\n",
    "\n",
    "# I want to measure the second qbit along V = Z - X.\n",
    "# But I can measure it only along Z.\n",
    "# I rotate the state of the second qbit of the same angle\n",
    "# needed to rotate Z - X on Z --> theta = 45 degrees\n",
    "abp_measurement.u3(np.pi/4, 0, 0, q[1])\n",
    "\n",
    "# Measure the state\n",
    "abp_measurement.measure(q, c)"
   ]
  },
  {
   "cell_type": "code",
   "execution_count": 20,
   "metadata": {},
   "outputs": [
    {
     "data": {
      "image/png": "[encoded data removed]",
      "text/plain": [
       "<Figure size 550.228x204.68 with 1 Axes>"
      ]
     },
     "execution_count": 20,
     "metadata": {},
     "output_type": "execute_result"
    }
   ],
   "source": [
    "# Draw the circuit\n",
    "abp_measurement.draw(output='mpl')"
   ]
  },
  {
   "cell_type": "code",
   "execution_count": 21,
   "metadata": {},
   "outputs": [],
   "source": [
    "# Execute the circuit\n",
    "\n",
    "backend = provider.get_backend('ibmq_rome')\n",
    "shots = 1024\n",
    "\n",
    "job = execute(abp_measurement, \n",
    "              backend = backend, \n",
    "              shots=shots)\n",
    "\n",
    "abp_result = job.result()"
   ]
  },
  {
   "cell_type": "code",
   "execution_count": 22,
   "metadata": {},
   "outputs": [
    {
     "name": "stdout",
     "output_type": "stream",
     "text": [
      "{'11': 394, '00': 429, '01': 114, '10': 87}\n"
     ]
    }
   ],
   "source": [
    "# Print the result\n",
    "print(abp_result.get_counts(abp_measurement))"
   ]
  },
  {
   "cell_type": "code",
   "execution_count": 23,
   "metadata": {},
   "outputs": [
    {
     "data": {
      "image/png": "[encoded data removed]",
      "text/plain": [
       "<Figure size 504x360 with 1 Axes>"
      ]
     },
     "execution_count": 23,
     "metadata": {},
     "output_type": "execute_result"
    }
   ],
   "source": [
    "# Plot the result\n",
    "from qiskit.visualization import plot_histogram\n",
    "\n",
    "plot_histogram(abp_result.get_counts(abp_measurement))"
   ]
  },
  {
   "cell_type": "code",
   "execution_count": 24,
   "metadata": {},
   "outputs": [
    {
     "data": {
      "text/plain": [
       "0.607421875"
      ]
     },
     "execution_count": 24,
     "metadata": {},
     "output_type": "execute_result"
    }
   ],
   "source": [
    "abp_correlation = correlator(abp_result, abp_measurement, shots)\n",
    "abp_correlation"
   ]
  },
  {
   "cell_type": "markdown",
   "metadata": {},
   "source": [
    "### $\\expectation{A'B'}$ measurement"
   ]
  },
  {
   "cell_type": "code",
   "execution_count": 25,
   "metadata": {},
   "outputs": [
    {
     "name": "stderr",
     "output_type": "stream",
     "text": [
      "Credentials are already in use. The existing account in the session will be replaced.\n"
     ]
    },
    {
     "data": {
      "text/plain": [
       "<qiskit.circuit.instructionset.InstructionSet at 0x7fadca4f7390>"
      ]
     },
     "execution_count": 25,
     "metadata": {},
     "output_type": "execute_result"
    }
   ],
   "source": [
    "### Build the circuit\n",
    "\n",
    "from qiskit import QuantumCircuit, execute, IBMQ\n",
    "from qiskit import QuantumRegister, ClassicalRegister, Aer\n",
    "import numpy as np\n",
    "\n",
    "# Get access to IBM Q backend\n",
    "provider = IBMQ.load_account()\n",
    "\n",
    "# Define the Quantum and Classical Registers\n",
    "q = QuantumRegister(2)\n",
    "c = ClassicalRegister(2)\n",
    "\n",
    "# Create the circuit\n",
    "apbp_measurement = QuantumCircuit(q, c)\n",
    "\n",
    "# Put the circuit in the Bell state |00> + |11>\n",
    "apbp_measurement.h(0)\n",
    "apbp_measurement.cnot(0,1)\n",
    "\n",
    "# I want to measure the first qbit along X.\n",
    "# But I can measure it only along Z.\n",
    "# I apply a H gate to the first qbit,\n",
    "# to rotate it from X toward Z.\n",
    "apbp_measurement.h(0)\n",
    "\n",
    "# I want to measure the second qbit along V = Z - X.\n",
    "# But I can measure it only along Z.\n",
    "# I rotate the state of the second qbit of the same angle\n",
    "# needed to rotate Z - X on Z --> theta = 45 degrees\n",
    "apbp_measurement.u3(np.pi/4, 0, 0, q[1])\n",
    "\n",
    "# Measure the state\n",
    "apbp_measurement.measure(q, c)"
   ]
  },
  {
   "cell_type": "code",
   "execution_count": 26,
   "metadata": {},
   "outputs": [
    {
     "data": {
      "image/png": "[encoded data removed]",
      "text/plain": [
       "<Figure size 550.228x204.68 with 1 Axes>"
      ]
     },
     "execution_count": 26,
     "metadata": {},
     "output_type": "execute_result"
    }
   ],
   "source": [
    "# Draw the circuit\n",
    "apbp_measurement.draw(output='mpl')"
   ]
  },
  {
   "cell_type": "code",
   "execution_count": 27,
   "metadata": {},
   "outputs": [],
   "source": [
    "# Execute the circuit\n",
    "\n",
    "backend = provider.get_backend('ibmq_rome')\n",
    "shots = 1024\n",
    "\n",
    "job = execute(apbp_measurement, \n",
    "              backend = backend, \n",
    "              shots=shots)\n",
    "\n",
    "apbp_result = job.result()"
   ]
  },
  {
   "cell_type": "code",
   "execution_count": 28,
   "metadata": {},
   "outputs": [
    {
     "name": "stdout",
     "output_type": "stream",
     "text": [
      "{'11': 97, '00': 114, '01': 422, '10': 391}\n"
     ]
    }
   ],
   "source": [
    "# Print the result\n",
    "print(apbp_result.get_counts(apbp_measurement))"
   ]
  },
  {
   "cell_type": "code",
   "execution_count": 29,
   "metadata": {},
   "outputs": [
    {
     "data": {
      "image/png": "[encoded data removed]",
      "text/plain": [
       "<Figure size 504x360 with 1 Axes>"
      ]
     },
     "execution_count": 29,
     "metadata": {},
     "output_type": "execute_result"
    }
   ],
   "source": [
    "# Plot the result\n",
    "from qiskit.visualization import plot_histogram\n",
    "\n",
    "plot_histogram(apbp_result.get_counts(apbp_measurement))"
   ]
  },
  {
   "cell_type": "code",
   "execution_count": 30,
   "metadata": {},
   "outputs": [
    {
     "data": {
      "text/plain": [
       "-0.587890625"
      ]
     },
     "execution_count": 30,
     "metadata": {},
     "output_type": "execute_result"
    }
   ],
   "source": [
    "apbp_correlation = correlator(apbp_result, apbp_measurement, shots)\n",
    "apbp_correlation"
   ]
  },
  {
   "cell_type": "markdown",
   "metadata": {},
   "source": [
    "### Put everything together\n",
    "\n",
    "We can now compute $|C|$ the value, using the results just obtained, remembering that:\n",
    "\n",
    "$ |C| = | \\expectation{AB} + \\expectation{A'B} + \\expectation{AB'} - \\expectation{A'B'}| $"
   ]
  },
  {
   "cell_type": "code",
   "execution_count": 33,
   "metadata": {},
   "outputs": [
    {
     "name": "stdout",
     "output_type": "stream",
     "text": [
      "The C correlation value obtained is: 2.40234375\n"
     ]
    }
   ],
   "source": [
    "# Properly sum the correlations\n",
    "\n",
    "C = ab_correlation + apb_correlation + abp_correlation - apbp_correlation\n",
    "print(\"The C correlation value obtained is:\", C)"
   ]
  },
  {
   "cell_type": "markdown",
   "metadata": {},
   "source": [
    "Given the result we have just obtained, we can thus conclude that microscopic sytems that can be described by quantum mechanics are actually non-local and non-realist."
   ]
  }
 ],
 "metadata": {
  "kernelspec": {
   "display_name": "Python 3",
   "language": "python",
   "name": "python3"
  },
  "language_info": {
   "codemirror_mode": {
    "name": "ipython",
    "version": 3
   },
   "file_extension": ".py",
   "mimetype": "text/x-python",
   "name": "python",
   "nbconvert_exporter": "python",
   "pygments_lexer": "ipython3",
   "version": "3.7.4"
  }
 },
 "nbformat": 4,
 "nbformat_minor": 4
}
