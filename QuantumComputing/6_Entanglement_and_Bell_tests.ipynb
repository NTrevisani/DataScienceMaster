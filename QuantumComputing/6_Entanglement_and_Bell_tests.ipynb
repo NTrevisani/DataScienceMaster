{
 "cells": [
  {
   "cell_type": "markdown",
   "metadata": {},
   "source": [
    "$\\newcommand{\\ket}[1]{\\left|#1\\right>}$\n",
    "\n",
    "$\\newcommand{\\bra}[1]{\\left<#1\\right|}$\n",
    "\n",
    "$\\newcommand{\\braket}[2]{\\left<#1 | #2\\right>}$\n",
    "\n",
    "$\\newcommand{\\expectation}[1]{\\left<#1\\right>}$\n"
   ]
  },
  {
   "cell_type": "markdown",
   "metadata": {},
   "source": [
    "# Entanglement and Bell tests\n",
    "\n",
    "For this notebook, I have tried to integrate the content of IBM Q tutorial with some wikipedia examples: \n",
    "\n",
    "https://quantum-computing.ibm.com/docs/guide/mult-entang/entanglement-and-bell-tests <br>\n",
    "https://es.wikipedia.org/wiki/Teorema_de_Bell\n",
    "\n",
    "One of the most interesting but at the same time counterintuitive features of quantum mechanics, is that it states that two systems which are put and kept in a coherent (entangled) state can behave in a strongly correlated way, even if they are too far apart to let any classical local theory explaining that.\n",
    "\n",
    "Of course, this fact influences the behaviour of quantum computers, so that we can verify it and see its effect."
   ]
  },
  {
   "cell_type": "markdown",
   "metadata": {},
   "source": [
    "## The Bell test\n",
    "\n",
    "To understand how entanglement prevents quantum mechanics from being a local theory, we will proceed by setting up an experiment which works in classical mechanics, but fails in quantum mechanics.\n",
    "\n",
    "It is known as the Bell test and we will present it in terms of qbits and measurement of their states, while originally we would have to deal with electrons and measurement of their spins, since it is equivalent and it keeps us in the quantum computing environment."
   ]
  },
  {
   "cell_type": "markdown",
   "metadata": {},
   "source": [
    "### Experimental setup\n",
    "\n",
    "Let's suppose we prepare two qbits in a coherent state as for example:\n",
    "\n",
    "$\\ket{\\psi} = \\dfrac{\\ket{00} + \\ket{11}}{\\sqrt{2}}$\n",
    "\n",
    "If we measure the two qbits along the same *direction* (remember the Bloch sphere and the fact that the z-axis connects the $\\ket{0}$ and $\\ket{1}$ states), we will always get the same results for both qbits.\n",
    "In other words, if perform measurement to see if the first qbit is in the $\\ket{0}$ state and we get a positive result, also the measurement of the second qbit state will give a positive result.\n",
    "This is valid not only for measurements along the z-axis, but along any axis of the Bloch sphere, the important thing is that we have to measure both the qbits along the same axis.\n",
    "\n",
    "As a summary, the results of the measurements of the two qbits, if performed along the same axis, are fully correlated (correlation = +1).\n",
    "\n",
    "Now, let's change a bit our measurements: the axes along which we measure the states of the two qbits will now be othogonal to each other.\n",
    "For example, if we measure the state of the first qbit along the z axis, we measure the state of the second qbit along the x axis. This is equivalent to measure if the first qbit is in the $\\ket{0}$ state and if the second qbit is in the $\\ket{+} = \\dfrac{\\ket{0} + \\ket{1}}{\\sqrt{2}}$ state.\n",
    "In this case, the result of the measurement of the first qbit state will not ensure anything about the state of the second qbit. So that, if we measure the first qbit to be in the $\\ket{0}$ state, the second qbit may be in the $\\ket{+}$ state or not, with 50% probability.\n",
    "\n",
    "So, the results of the measurements of the two qbits, if performed along two othogonal axes, are not correlated (correlation = 0).\n",
    "\n",
    "\n",
    "Up to this point, everything can be explained by the existence of hidden variables that makes it possible to have always fully correlated results when the measurement is made on the same axis for the two qbits. \n",
    "On the other hand, these variables are not able to give any correlation on results extracted from measurements performed on orthogonal axes.\n",
    "We call them *hidden* variables since we don't have direct acces to them, we just see the result of (indirectly) setting them to the *correct* values, through the prepation of the entangled state."
   ]
  },
  {
   "cell_type": "markdown",
   "metadata": {},
   "source": [
    "### The Clauser-Horne-Shimony-Holt inequality\n",
    "\n",
    "Let's now consider another slightly different experimental setup: \n",
    "- instead of measuring only one direction, each qbit state can be measured on two orthogonal direction (e.g. the first qbit can be measured along z-axis or along x-axis, so we can measure if it is in the $\\ket{0}$ or if it is in the $\\ket{+}$ state);\n",
    "- the axis along which we measure two different qbits are rotated by 45$^{\\circ}$. So, if the two axes we choose for measuring the first qbits are the z-axis (vertical axis) and the x-axis (horizontal axis), the two axis we use for measuring the second qbits are the ones shown in the following Figure.  "
   ]
  },
  {
   "cell_type": "markdown",
   "metadata": {},
   "source": [
    "<img src='Bell.png'>"
   ]
  },
  {
   "cell_type": "markdown",
   "metadata": {},
   "source": [
    "What we want to do now is to choose one of the two axes for the first qbit measurement, on of the two axes for the second qbit measurement, and measure their states along those axes.\n",
    "\n",
    "Now let's define a set of scores:\n",
    "- $\\expectation{AB}$: measurement of 1st qbit along z-axis ($A$) and second qbit along 45$^{\\circ}$-axis ($B$) is the same: +1 (-1 if different);\n",
    "- $\\expectation{AB'}$: measurement of 1st qbit along z-axis ($A$) and second qbit along 135$^{\\circ}$-axis ($B'$) is the same: +1 (-1 if different);\n",
    "- $\\expectation{A'B}$: measurement of 1st qbit along x-axis ($A'$) and second qbit along 45$^{\\circ}$-axis ($B$) is the same: +1 (-1 if different);\n",
    "- $\\expectation{A'B'}$: measurement of 1st qbit along x-axis ($A'$) and second qbit along 135$^{\\circ}$-axis ($B'$) is the same: +1 (-1 if different).\n",
    "\n",
    "Clauser, Horne, Shimony, and Holt demonstrated that assuming:\n",
    "- realism: all observables have a definite value independent of the measurement;\n",
    "- locality: no information can travel faster than the speed of light.\n",
    "\n",
    "Then, the following inequality must be true:\n",
    "\n",
    "$ |C| = |\\expectation{AB} - \\expectation{AB'} + \\expectation{A'B} + \\expectation{A'B'}| \\leq 2$\n",
    "\n",
    "Let's verify it in our case combining all the possible outcomes of our measurements, again considering that some hidden variables have been given some particular values when we created the entanglement between our two qbits, so that realism and locality are satisfied.\n",
    "\n",
    "In the following tables, we are going to list all the possible results we can get, and the corresponding values of C. "
   ]
  },
  {
   "cell_type": "markdown",
   "metadata": {},
   "source": [
    "| Hidden variables states             |   |   |   |   |   |   |   |   |   |   |   |   |   |   |   |   |\n",
    "|:------------------------------------|---|---|---|---|---|---|---|---|---|---|---|---|---|---|---|---|\n",
    "| $A$: z-axis (1st qbit)              | + | + | + | + | − | − | − | − | + | + | + | + | − | − | − | − |\n",
    "| $B$: 45$^{\\circ}$-axis (2nd qbit)   | + | + | + | − | − | − | − | + | + | − | − | − | + | + | + | − |\n",
    "| $A'$: x-axis (1st qbit)             | + | + | − | − | − | − | + | + | − | + | + | − | + | − | − | + |\n",
    "| $B'$: 135$^{\\circ}$-axis (2nd qbit) | + | − | − | − | − | + | + | + | + | + | − | + | − | + | − | − |"
   ]
  },
  {
   "cell_type": "markdown",
   "metadata": {},
   "source": [
    "| Score                 |    |    |    |    |    |    |    |    |    |    |    |    |    |    |    |    |\n",
    "|:----------------------|----|----|----|----|----|----|----|----|----|----|----|----|----|----|----|----|\n",
    "| $\\expectation{AB}$    | +1 | +1 | +1 | −1 | +1 | +1 | +1 | -1 | +1 | −1 | −1 | −1 | −1 | −1 | −1 | +1 |\n",
    "| $\\expectation{A'B}$   | +1 | +1 | −1 | +1 | +1 | +1 | −1 | +1 | −1 | −1 | −1 | +1 | +1 | −1 | −1 | −1 |\n",
    "| $\\expectation{A'B'}$  | +1 | −1 | +1 | +1 | +1 | −1 | +1 | +1 | −1 | +1 | −1 | −1 | −1 | −1 | +1 | −1 |\n",
    "| −$\\expectation{AB'}$  | −1 | +1 | +1 | +1 | −1 | +1 | +1 | +1 | −1 | −1 | +1 | −1 | −1 | +1 | −1 | −1 |\n",
    "| $C$                   | +2 | +2 | +2 | +2 | +2 | +2 | +2 | +2 | −2 | −2 | −2 | −2 | −2 | −2 | −2 | −2 |"
   ]
  },
  {
   "cell_type": "markdown",
   "metadata": {},
   "source": []
  },
  {
   "cell_type": "code",
   "execution_count": null,
   "metadata": {},
   "outputs": [],
   "source": []
  }
 ],
 "metadata": {
  "kernelspec": {
   "display_name": "Python 3",
   "language": "python",
   "name": "python3"
  },
  "language_info": {
   "codemirror_mode": {
    "name": "ipython",
    "version": 3
   },
   "file_extension": ".py",
   "mimetype": "text/x-python",
   "name": "python",
   "nbconvert_exporter": "python",
   "pygments_lexer": "ipython3",
   "version": "3.7.4"
  }
 },
 "nbformat": 4,
 "nbformat_minor": 4
}
