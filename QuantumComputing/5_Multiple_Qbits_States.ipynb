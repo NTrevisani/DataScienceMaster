{
 "cells": [
  {
   "cell_type": "markdown",
   "metadata": {},
   "source": [
    "$\\newcommand{\\ket}[1]{\\left|#1\\right>}$\n",
    "\n",
    "$\\newcommand{\\bra}[1]{\\left<#1\\right|}$\n",
    "\n",
    "$\\newcommand{\\braket}[2]{\\left<#1 | #2\\right>}$"
   ]
  },
  {
   "cell_type": "markdown",
   "metadata": {},
   "source": [
    "# Multiple Qbits\n",
    "\n",
    "Everything here is taken from the IBM quantum computing User Guide and introduction to quantum computing:\n",
    "\n",
    "https://quantum-computing.ibm.com/docs/guide/mult-entang/multiple-qubits"
   ]
  },
  {
   "cell_type": "markdown",
   "metadata": {},
   "source": [
    "Up to now, we have seen the properties of a qbit and how we can manipulate it.\n",
    "\n",
    "Even more interesting is to see the behaviour of systems of more than one qbit and how we can work with them.\n",
    "\n",
    "We can describe the system of $n$ qbits as a complex vector of $2^n$ dimensions.\n",
    "For example, we can describe a system of 2 qbits as the linear superposition of 4 state vectors:\n",
    "\n",
    "$\\{ \\ket{00}, \\ket{01}, \\ket{10}, \\ket{11} \\}$\n",
    "\n",
    "where in each vector, the first position refers to the state of the first qbit and the second position refers to the second qbit.\n",
    "\n",
    "Now, a classical computer with $n$ bits can assume $2^n$ configurations, but the main difference with respect to a quantum computer is that this one can be in a state of superposition of several states, with qbits entangled together, allowing a much wider range of possibilities.\n",
    "\n",
    "In other words, a classical computer with 2 bits can be in any of the following 4 states:\n",
    "- 00\n",
    "- 01\n",
    "- 10\n",
    "- 11\n",
    "\n",
    "While a quantum computer can be ni any of the following (potentially) infinite states:\n",
    "\n",
    "$\\ket{\\psi} =  \\alpha \\ket{00} + \\beta \\ket{01} + \\gamma \\ket{10} + \\delta \\ket{11} $ <br>\n",
    "\n",
    "with:\n",
    "\n",
    "$\\alpha^2 + \\beta^2 + \\gamma^2 + \\delta^2 = 1$"
   ]
  },
  {
   "cell_type": "markdown",
   "metadata": {},
   "source": [
    "## Multiple Qbits Control\n",
    "\n",
    "In addition to the operators that we already know to control the state of a qbit, we need operators to control more than one qbit or to change the state of a qbit depending on the state of another one."
   ]
  },
  {
   "cell_type": "markdown",
   "metadata": {},
   "source": [
    "### The Control Gate (CNOT operator)\n",
    "\n",
    "This control gate allows two qbits to *communicate*, in particular putting one qbit in control of the other.\n",
    "\n",
    "More explicitly, this gate changes the state of the target qbit from $\\ket{0}$ to $\\ket{1}$ (or from $\\ket{1}$ to $\\ket{0}$) if the control qbit is in the $\\ket{1}$ state, otherwise does nothing.\n",
    "\n",
    "If we write the possible states of a 2-qbit quantum cicuit as a vector:\n",
    "\n",
    "$ \n",
    "\\begin{bmatrix}\n",
    "    \\ket{00} \\\\\n",
    "    \\ket{01} \\\\\n",
    "    \\ket{10} \\\\\n",
    "    \\ket{11} \\\\\n",
    "\\end{bmatrix}\n",
    "$\n",
    "\n",
    "Then we can express the CNOT operator as follows:\n",
    "\n",
    "$ CNOT =\n",
    "\\begin{bmatrix}\n",
    "    1 & 0 & 0 & 0 \\\\\n",
    "    0 & 1 & 0 & 0 \\\\\n",
    "    0 & 0 & 0 & 1 \\\\\n",
    "    0 & 0 & 1 & 0 \\\\\n",
    "\\end{bmatrix}\n",
    "$\n",
    "\n",
    "So that we can see the effect on a pair of qbits in each of the possible states:\n",
    "\n",
    "$ \n",
    "\\begin{bmatrix}\n",
    "    1 & 0 & 0 & 0 \\\\\n",
    "    0 & 1 & 0 & 0 \\\\\n",
    "    0 & 0 & 0 & 1 \\\\\n",
    "    0 & 0 & 1 & 0 \\\\\n",
    "\\end{bmatrix}\n",
    "\\begin{bmatrix}\n",
    "    \\ket{00} \\\\\n",
    "    \\ket{01} \\\\\n",
    "    \\ket{10} \\\\\n",
    "    \\ket{11} \\\\\n",
    "\\end{bmatrix}\n",
    "= \n",
    "\\begin{bmatrix}\n",
    "    \\ket{00} \\\\\n",
    "    \\ket{01} \\\\\n",
    "    \\ket{11} \\\\\n",
    "    \\ket{10} \\\\\n",
    "\\end{bmatrix}\n",
    "$\n"
   ]
  },
  {
   "cell_type": "markdown",
   "metadata": {},
   "source": [
    "Let's see how the CNOT gate operates with some examples."
   ]
  },
  {
   "cell_type": "markdown",
   "metadata": {},
   "source": [
    "#### 1. Control and target qbit in the fundamental state: $\\ket{00}$\n",
    "\n",
    "Let's start by applying a CNOT gate keeping the control qbit in the fundamental state $\\ket{0}$, when also the target qbit is in the $\\ket{0}$ state.\n",
    "\n",
    "We expect, in this case, to see no effect on the target qbit state."
   ]
  },
  {
   "cell_type": "code",
   "execution_count": 1,
   "metadata": {},
   "outputs": [],
   "source": [
    "from qiskit import QuantumCircuit, execute, IBMQ\n",
    "from qiskit import QuantumCircuit, QuantumRegister, ClassicalRegister, execute, Aer"
   ]
  },
  {
   "cell_type": "code",
   "execution_count": 2,
   "metadata": {},
   "outputs": [
    {
     "data": {
      "text/plain": [
       "<qiskit.circuit.instructionset.InstructionSet at 0x7f0f68141c90>"
      ]
     },
     "execution_count": 2,
     "metadata": {},
     "output_type": "execute_result"
    }
   ],
   "source": [
    "# Build the circuits\n",
    "\n",
    "# Define the Quantum and Classical Registers\n",
    "q = QuantumRegister(2)\n",
    "c = ClassicalRegister(2)\n",
    "\n",
    "# Create the circuit\n",
    "double_q_measurement = QuantumCircuit(q, c)\n",
    "\n",
    "# Keep the system in the |00> state\n",
    "\n",
    "# Use the qbit-0 to control the qbit-1 through a cnot \n",
    "double_q_measurement.cnot(0,1)\n",
    "double_q_measurement.measure(q, c)"
   ]
  },
  {
   "cell_type": "code",
   "execution_count": 3,
   "metadata": {},
   "outputs": [
    {
     "data": {
      "image/png": "[encoded data removed]",
      "text/plain": [
       "<Figure size 369.628x204.68 with 1 Axes>"
      ]
     },
     "execution_count": 3,
     "metadata": {},
     "output_type": "execute_result"
    }
   ],
   "source": [
    "# Draw the circuit\n",
    "double_q_measurement.draw(output='mpl')"
   ]
  },
  {
   "cell_type": "code",
   "execution_count": 4,
   "metadata": {},
   "outputs": [],
   "source": [
    "# Execute the circuit\n",
    "job = execute(double_q_measurement, \n",
    "              backend = Aer.get_backend('qasm_simulator'), \n",
    "              shots=1024)\n",
    "\n",
    "result = job.result()"
   ]
  },
  {
   "cell_type": "code",
   "execution_count": 5,
   "metadata": {},
   "outputs": [
    {
     "name": "stdout",
     "output_type": "stream",
     "text": [
      "{'00': 1024}\n"
     ]
    }
   ],
   "source": [
    "# Print the result\n",
    "print(result.get_counts(double_q_measurement))"
   ]
  },
  {
   "cell_type": "code",
   "execution_count": 6,
   "metadata": {},
   "outputs": [
    {
     "data": {
      "image/png": "[encoded data removed]",
      "text/plain": [
       "<Figure size 504x360 with 1 Axes>"
      ]
     },
     "execution_count": 6,
     "metadata": {},
     "output_type": "execute_result"
    }
   ],
   "source": [
    "# Plot the result\n",
    "from qiskit.visualization import plot_histogram\n",
    "\n",
    "plot_histogram(result.get_counts(double_q_measurement))"
   ]
  },
  {
   "cell_type": "markdown",
   "metadata": {},
   "source": [
    "#### 2. Control qbit in the fundamental state and target qbit in the excited state: $\\ket{01}$\n",
    "\n",
    "Let's try something similar to the previous case, but now with the target qbit in the $\\ket{1}$ state.\n",
    "\n",
    "Also in this case, we expect to see no effect on the target qbit state."
   ]
  },
  {
   "cell_type": "code",
   "execution_count": 7,
   "metadata": {},
   "outputs": [],
   "source": [
    "from qiskit import QuantumCircuit, execute, IBMQ\n",
    "from qiskit import QuantumCircuit, QuantumRegister, ClassicalRegister, execute, Aer"
   ]
  },
  {
   "cell_type": "code",
   "execution_count": 8,
   "metadata": {},
   "outputs": [
    {
     "data": {
      "text/plain": [
       "<qiskit.circuit.instructionset.InstructionSet at 0x7f0f1fb84150>"
      ]
     },
     "execution_count": 8,
     "metadata": {},
     "output_type": "execute_result"
    }
   ],
   "source": [
    "# Build the circuits\n",
    "\n",
    "# Define the Quantum and Classical Registers\n",
    "q = QuantumRegister(2)\n",
    "c = ClassicalRegister(2)\n",
    "\n",
    "# Create the circuit\n",
    "double_q_measurement = QuantumCircuit(q, c)\n",
    "\n",
    "# Put the system in the |01> state\n",
    "double_q_measurement.x(0)\n",
    "\n",
    "# Use the qbit-0 to control the qbit-1 through a cnot \n",
    "double_q_measurement.cnot(1,0)\n",
    "double_q_measurement.measure(q, c)"
   ]
  },
  {
   "cell_type": "code",
   "execution_count": 9,
   "metadata": {},
   "outputs": [
    {
     "data": {
      "image/png": "[encoded data removed]",
      "text/plain": [
       "<Figure size 429.828x204.68 with 1 Axes>"
      ]
     },
     "execution_count": 9,
     "metadata": {},
     "output_type": "execute_result"
    }
   ],
   "source": [
    "# Draw the circuit\n",
    "double_q_measurement.draw(output='mpl')"
   ]
  },
  {
   "cell_type": "code",
   "execution_count": 10,
   "metadata": {},
   "outputs": [],
   "source": [
    "# Execute the circuit\n",
    "job = execute(double_q_measurement, \n",
    "              backend = Aer.get_backend('qasm_simulator'), \n",
    "              shots=1024)\n",
    "\n",
    "result = job.result()"
   ]
  },
  {
   "cell_type": "code",
   "execution_count": 11,
   "metadata": {},
   "outputs": [
    {
     "name": "stdout",
     "output_type": "stream",
     "text": [
      "{'01': 1024}\n"
     ]
    }
   ],
   "source": [
    "# Print the result\n",
    "print(result.get_counts(double_q_measurement))"
   ]
  },
  {
   "cell_type": "code",
   "execution_count": 12,
   "metadata": {},
   "outputs": [
    {
     "data": {
      "image/png": "[encoded data removed]",
      "text/plain": [
       "<Figure size 504x360 with 1 Axes>"
      ]
     },
     "execution_count": 12,
     "metadata": {},
     "output_type": "execute_result"
    }
   ],
   "source": [
    "# Plot the result\n",
    "from qiskit.visualization import plot_histogram\n",
    "\n",
    "plot_histogram(result.get_counts(double_q_measurement))"
   ]
  },
  {
   "cell_type": "markdown",
   "metadata": {},
   "source": [
    "#### 3. Control qbit in the excited state and target qbit in the fundamental state: $\\ket{10}$\n",
    "\n",
    "Now we want the conotrol qbit to flip the state of the target qbit, so that we put it in the $\\ket{1}$ state.\n",
    "\n",
    "In this example, we will keep the target qbit in the fundamental state $\\ket{0}$.\n",
    "\n",
    "To summarize, we start in the $\\ket{10}$ state and we expect to finish in the $\\ket{11}$ state."
   ]
  },
  {
   "cell_type": "code",
   "execution_count": 13,
   "metadata": {},
   "outputs": [],
   "source": [
    "from qiskit import QuantumCircuit, execute, IBMQ\n",
    "from qiskit import QuantumCircuit, QuantumRegister, ClassicalRegister, execute, Aer"
   ]
  },
  {
   "cell_type": "code",
   "execution_count": 14,
   "metadata": {},
   "outputs": [
    {
     "data": {
      "text/plain": [
       "<qiskit.circuit.instructionset.InstructionSet at 0x7f0f1f2200d0>"
      ]
     },
     "execution_count": 14,
     "metadata": {},
     "output_type": "execute_result"
    }
   ],
   "source": [
    "# Build the circuits\n",
    "\n",
    "# Define the Quantum and Classical Registers\n",
    "q = QuantumRegister(2)\n",
    "c = ClassicalRegister(2)\n",
    "\n",
    "# Create the circuit\n",
    "double_q_measurement = QuantumCircuit(q, c)\n",
    "\n",
    "# Put the system in the |10> state\n",
    "double_q_measurement.x(1)\n",
    "\n",
    "# Use the qbit-0 to control the qbit-1 through a cnot \n",
    "double_q_measurement.cnot(1,0)\n",
    "double_q_measurement.measure(q, c)"
   ]
  },
  {
   "cell_type": "code",
   "execution_count": 15,
   "metadata": {},
   "outputs": [
    {
     "data": {
      "image/png": "[encoded data removed]",
      "text/plain": [
       "<Figure size 429.828x204.68 with 1 Axes>"
      ]
     },
     "execution_count": 15,
     "metadata": {},
     "output_type": "execute_result"
    }
   ],
   "source": [
    "# Draw the circuit\n",
    "double_q_measurement.draw(output='mpl')"
   ]
  },
  {
   "cell_type": "code",
   "execution_count": 16,
   "metadata": {},
   "outputs": [],
   "source": [
    "# Execute the circuit\n",
    "job = execute(double_q_measurement, \n",
    "              backend = Aer.get_backend('qasm_simulator'), \n",
    "              shots=1024)\n",
    "\n",
    "result = job.result()"
   ]
  },
  {
   "cell_type": "code",
   "execution_count": 17,
   "metadata": {},
   "outputs": [
    {
     "name": "stdout",
     "output_type": "stream",
     "text": [
      "{'11': 1024}\n"
     ]
    }
   ],
   "source": [
    "# Print the result\n",
    "print(result.get_counts(double_q_measurement))"
   ]
  },
  {
   "cell_type": "code",
   "execution_count": 18,
   "metadata": {},
   "outputs": [
    {
     "data": {
      "image/png": "[encoded data removed]",
      "text/plain": [
       "<Figure size 504x360 with 1 Axes>"
      ]
     },
     "execution_count": 18,
     "metadata": {},
     "output_type": "execute_result"
    }
   ],
   "source": [
    "# Plot the result\n",
    "from qiskit.visualization import plot_histogram\n",
    "\n",
    "plot_histogram(result.get_counts(double_q_measurement))"
   ]
  },
  {
   "cell_type": "markdown",
   "metadata": {},
   "source": [
    "#### 4. Control and target qbits in the excited state: $\\ket{11}$\n",
    "\n",
    "Now we want the conotrol qbit to flip the state of the target qbit, so that we put it in the $\\ket{1}$ state.\n",
    "\n",
    "In this last example, we will put the target qbit in the excited state $\\ket{1}$.\n",
    "\n",
    "To summarize, we start in the $\\ket{11}$ state and we expect to finish in the $\\ket{10}$ state."
   ]
  },
  {
   "cell_type": "code",
   "execution_count": 19,
   "metadata": {},
   "outputs": [],
   "source": [
    "from qiskit import QuantumCircuit, execute, IBMQ\n",
    "from qiskit import QuantumCircuit, QuantumRegister, ClassicalRegister, execute, Aer"
   ]
  },
  {
   "cell_type": "code",
   "execution_count": 20,
   "metadata": {},
   "outputs": [
    {
     "data": {
      "text/plain": [
       "<qiskit.circuit.instructionset.InstructionSet at 0x7f0f1f191490>"
      ]
     },
     "execution_count": 20,
     "metadata": {},
     "output_type": "execute_result"
    }
   ],
   "source": [
    "# Build the circuits\n",
    "\n",
    "# Define the Quantum and Classical Registers\n",
    "q = QuantumRegister(2)\n",
    "c = ClassicalRegister(2)\n",
    "\n",
    "# Create the circuit\n",
    "double_q_measurement = QuantumCircuit(q, c)\n",
    "\n",
    "# Put the system in the |10> state\n",
    "double_q_measurement.x(1)\n",
    "double_q_measurement.x(0)\n",
    "\n",
    "# Use the qbit-0 to control the qbit-1 through a cnot \n",
    "double_q_measurement.cnot(1,0)\n",
    "double_q_measurement.measure(q, c)"
   ]
  },
  {
   "cell_type": "code",
   "execution_count": 21,
   "metadata": {},
   "outputs": [
    {
     "data": {
      "image/png": "[encoded data removed]",
      "text/plain": [
       "<Figure size 429.828x204.68 with 1 Axes>"
      ]
     },
     "execution_count": 21,
     "metadata": {},
     "output_type": "execute_result"
    }
   ],
   "source": [
    "# Draw the circuit\n",
    "double_q_measurement.draw(output='mpl')"
   ]
  },
  {
   "cell_type": "code",
   "execution_count": 22,
   "metadata": {},
   "outputs": [],
   "source": [
    "# Execute the circuit\n",
    "job = execute(double_q_measurement, \n",
    "              backend = Aer.get_backend('qasm_simulator'), \n",
    "              shots=1024)\n",
    "\n",
    "result = job.result()"
   ]
  },
  {
   "cell_type": "code",
   "execution_count": 23,
   "metadata": {},
   "outputs": [
    {
     "name": "stdout",
     "output_type": "stream",
     "text": [
      "{'10': 1024}\n"
     ]
    }
   ],
   "source": [
    "# Print the result\n",
    "print(result.get_counts(double_q_measurement))"
   ]
  },
  {
   "cell_type": "code",
   "execution_count": 24,
   "metadata": {},
   "outputs": [
    {
     "data": {
      "image/png": "[encoded data removed]",
      "text/plain": [
       "<Figure size 504x360 with 1 Axes>"
      ]
     },
     "execution_count": 24,
     "metadata": {},
     "output_type": "execute_result"
    }
   ],
   "source": [
    "# Plot the result\n",
    "from qiskit.visualization import plot_histogram\n",
    "\n",
    "plot_histogram(result.get_counts(double_q_measurement))"
   ]
  }
 ],
 "metadata": {
  "kernelspec": {
   "display_name": "Python 3",
   "language": "python",
   "name": "python3"
  },
  "language_info": {
   "codemirror_mode": {
    "name": "ipython",
    "version": 3
   },
   "file_extension": ".py",
   "mimetype": "text/x-python",
   "name": "python",
   "nbconvert_exporter": "python",
   "pygments_lexer": "ipython3",
   "version": "3.7.4"
  }
 },
 "nbformat": 4,
 "nbformat_minor": 4
}
