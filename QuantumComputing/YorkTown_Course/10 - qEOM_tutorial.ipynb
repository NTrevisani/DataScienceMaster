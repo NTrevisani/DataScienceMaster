{
 "cells": [
  {
   "cell_type": "code",
   "execution_count": 1,
   "metadata": {},
   "outputs": [],
   "source": [
    "from qiskit.chemistry.drivers import PySCFDriver, UnitsType\n",
    "from qiskit.aqua.components.optimizers.cobyla import COBYLA\n",
    "from qiskit.chemistry.components.variational_forms import UCCSD\n",
    "from qiskit.chemistry.core import Hamiltonian, TransformationType, QubitMappingType\n",
    "from qiskit.aqua.algorithms.adaptive.vqe.vqe import VQE\n",
    "from qiskit.chemistry import FermionicOperator\n",
    "from qiskit import Aer, IBMQ\n",
    "from qiskit.chemistry.components.initial_states import HartreeFock\n",
    "from qiskit.aqua.operators import WeightedPauliOperator\n",
    "from qiskit import execute\n",
    "from qiskit.aqua import QuantumInstance\n",
    "from qiskit.chemistry.algorithms.q_equation_of_motion.q_equation_of_motion import QEquationOfMotion \n",
    "from qiskit.providers.aer import noise\n",
    "from qiskit.aqua.algorithms import ExactEigensolver\n",
    "from qiskit.quantum_info import Pauli\n",
    "import numpy as np\n",
    "import os\n",
    "import logging\n",
    "import copy"
   ]
  },
  {
   "cell_type": "code",
   "execution_count": 2,
   "metadata": {},
   "outputs": [],
   "source": [
    "qasm_simulator = Aer.get_backend('qasm_simulator')\n",
    "sv_simulator = Aer.get_backend('statevector_simulator')"
   ]
  },
  {
   "cell_type": "code",
   "execution_count": 3,
   "metadata": {},
   "outputs": [],
   "source": [
    "def spin_operator(num_qubits):\n",
    "    pauli_list = []\n",
    "    for i in range(num_qubits):\n",
    "        if i < num_qubits:\n",
    "            c = 1/2\n",
    "        else:\n",
    "            c = -1/2\n",
    "        a_z = np.asarray([0] * i + [1] + [0] * (num_qubits - i - 1), dtype=np.bool)\n",
    "        a_x = np.asarray([0] * i + [0] + [0] * (num_qubits - i - 1), dtype=np.bool)\n",
    "        pauli_list.append([c, Pauli(a_z, a_x)])\n",
    "    op = WeightedPauliOperator(pauli_list)\n",
    "    return op"
   ]
  },
  {
   "cell_type": "code",
   "execution_count": 4,
   "metadata": {},
   "outputs": [],
   "source": [
    "def number_operator(num_qubits):\n",
    "    h1 = np.identity(num_qubits)\n",
    "    op = FermionicOperator(h1)\n",
    "    num_op = op.mapping('jordan_wigner')\n",
    "    return num_op"
   ]
  },
  {
   "cell_type": "code",
   "execution_count": 5,
   "metadata": {},
   "outputs": [],
   "source": [
    "def exact_eigenstates(hamiltonian, num_particles, num_spin):\n",
    "    num_qubits = hamiltonian.num_qubits\n",
    "    exact_eigensolver = ExactEigensolver(hamiltonian, k=1<<num_qubits)\n",
    "    exact_results = exact_eigensolver.run()\n",
    "    \n",
    "    results = [[],[]]\n",
    "    \n",
    "    number_op = number_operator(num_qubits)\n",
    "    spin_op = spin_operator(num_qubits)\n",
    "    \n",
    "    for i in range(len(exact_results['eigvals'])):\n",
    "        particle = round(number_op.evaluate_with_statevector(exact_results['eigvecs'][i])[0],1)\n",
    "        spin = round(spin_op.evaluate_with_statevector(exact_results['eigvecs'][i])[0],1)\n",
    "        if particle != num_particles or spin != num_spin:\n",
    "            continue\n",
    "        results[0].append(exact_results['eigvals'][i])\n",
    "        results[1].append(exact_results['eigvecs'][i])\n",
    "    return results"
   ]
  },
  {
   "cell_type": "markdown",
   "metadata": {},
   "source": [
    "## In this example we will compute the excitation energies of a hydrogen molecule. \n",
    "\n",
    "Let's start by running a (classical) Hartree-Fock calculation to obtain the molecular orbitals of H$_2$."
   ]
  },
  {
   "cell_type": "code",
   "execution_count": 6,
   "metadata": {},
   "outputs": [],
   "source": [
    "two_qubit_reduction = False\n",
    "qubit_mapping = 'jordan_wigner'\n",
    "distance = 0.75\n",
    "\n",
    "pyscf_driver = PySCFDriver(atom='H .0 .0 {}; H .0 .0 .0'.format(distance),\n",
    "                               unit=UnitsType.ANGSTROM, charge=0, spin=0, basis='sto3g')\n",
    "molecule = pyscf_driver.run()\n",
    "\n",
    "core = Hamiltonian(transformation=TransformationType.FULL,\n",
    "                   qubit_mapping=QubitMappingType.JORDAN_WIGNER,\n",
    "                   two_qubit_reduction=two_qubit_reduction,\n",
    "                   freeze_core=False,\n",
    "                   orbital_reduction=[])\n",
    "algo_input = core.run(molecule)\n",
    "hamiltonian = algo_input[0]\n",
    "\n",
    "num_orbitals = core.molecule_info['num_orbitals']\n",
    "num_particles = core.molecule_info['num_particles']\n"
   ]
  },
  {
   "cell_type": "markdown",
   "metadata": {},
   "source": [
    "### 1. Ground state calculation\n",
    "\n",
    "The first step of the qEOM procedure is to find an approximation of the ground state wavefunction of the previously computed Hamiltonian."
   ]
  },
  {
   "cell_type": "code",
   "execution_count": 7,
   "metadata": {},
   "outputs": [
    {
     "name": "stdout",
     "output_type": "stream",
     "text": [
      "{'num_optimizer_evals': 50, 'min_val': -1.8426866578804222, 'opt_params': array([-5.42140099e-05,  1.01252286e-04, -1.14932471e-01]), 'eval_time': 0.5623760223388672, 'eval_count': 50, 'energy': -1.8426866578804222, 'eigvals': array([-1.84268666]), 'min_vector': array([ 3.81633296e-17+2.42855418e-17j, -3.72895392e-16+1.55142555e-16j,\n",
      "       -1.12995821e-16+7.63278329e-17j,  4.16333634e-17+1.38777878e-17j,\n",
      "       -2.77555169e-16+5.86836874e-22j,  7.02441661e-01+7.02441661e-01j,\n",
      "       -3.83350938e-05-3.83350938e-05j, -3.46944695e-16+3.46944695e-16j,\n",
      "       -5.69755012e-18+9.14469645e-17j,  7.15961776e-05+7.15961776e-05j,\n",
      "       -8.10907301e-02-8.10907301e-02j,  1.38777878e-17+6.93889390e-17j,\n",
      "        4.38614666e-17-3.24663664e-17j, -3.76079054e-16+6.66133815e-16j,\n",
      "        1.93813650e-16+6.62379765e-17j, -6.93889390e-17+4.16333634e-17j]), 'eigvecs': array([[ 3.81633296e-17+2.42855418e-17j, -3.72895392e-16+1.55142555e-16j,\n",
      "        -1.12995821e-16+7.63278329e-17j,  4.16333634e-17+1.38777878e-17j,\n",
      "        -2.77555169e-16+5.86836874e-22j,  7.02441661e-01+7.02441661e-01j,\n",
      "        -3.83350938e-05-3.83350938e-05j, -3.46944695e-16+3.46944695e-16j,\n",
      "        -5.69755012e-18+9.14469645e-17j,  7.15961776e-05+7.15961776e-05j,\n",
      "        -8.10907301e-02-8.10907301e-02j,  1.38777878e-17+6.93889390e-17j,\n",
      "         4.38614666e-17-3.24663664e-17j, -3.76079054e-16+6.66133815e-16j,\n",
      "         1.93813650e-16+6.62379765e-17j, -6.93889390e-17+4.16333634e-17j]])}\n"
     ]
    }
   ],
   "source": [
    "init_state = HartreeFock(hamiltonian.num_qubits, num_orbitals, num_particles,\n",
    "                             qubit_mapping=qubit_mapping, two_qubit_reduction=two_qubit_reduction)\n",
    "\n",
    "depth = 1\n",
    "var_form = UCCSD(hamiltonian.num_qubits, depth, num_orbitals, num_particles, initial_state=init_state,\n",
    "                 qubit_mapping=qubit_mapping, two_qubit_reduction=two_qubit_reduction)\n",
    "\n",
    "optimizer = COBYLA(maxiter = 5000)\n",
    "\n",
    "algo = VQE(hamiltonian, var_form, optimizer)\n",
    "\n",
    "results = algo.run(sv_simulator)\n",
    "print(results)\n",
    "energy = results['energy']\n",
    "opt_params = results['opt_params']\n",
    "ground_state = results['min_vector']"
   ]
  },
  {
   "cell_type": "markdown",
   "metadata": {},
   "source": [
    "### 2. Excited states calculation\n",
    "\n",
    "Now that we know how to prepare the ground state in the quantum computer we can measure the EOM matrix elements, reconstruct the pseudo-eigenvalue problem (below) and solve it classically. All these steps are taken care of by the subroutine below which returns the excitation energies as well as the EOM matrices. \n",
    "\n",
    "$\n",
    "\\begin{pmatrix}\n",
    "    \\text{M} & \\text{Q}\\\\ \n",
    "    \\text{Q*} & \\text{M*}\n",
    "\\end{pmatrix}\n",
    "\\begin{pmatrix}\n",
    "    \\text{X}_n\\\\ \n",
    "    \\text{Y}_n\n",
    "\\end{pmatrix}\n",
    "= E_{0n}\n",
    "\\begin{pmatrix}\n",
    "    \\text{V} & \\text{W}\\\\ \n",
    "    -\\text{W*} & -\\text{V*}\n",
    "\\end{pmatrix}\n",
    "\\begin{pmatrix}\n",
    "    \\text{X}_n\\\\ \n",
    "    \\text{Y}_n\n",
    "\\end{pmatrix}\n",
    "$"
   ]
  },
  {
   "cell_type": "code",
   "execution_count": 8,
   "metadata": {},
   "outputs": [
    {
     "name": "stdout",
     "output_type": "stream",
     "text": [
      "[0.59437208 0.95791516 1.59695871]\n"
     ]
    }
   ],
   "source": [
    "eom = QEquationOfMotion(hamiltonian, num_orbitals, num_particles, qubit_mapping=qubit_mapping,\n",
    "                                    two_qubit_reduction=two_qubit_reduction)\n",
    "\n",
    "excitation_energies, eom_matrices = eom.calculate_excited_states(ground_state)\n",
    "\n",
    "print(excitation_energies)"
   ]
  },
  {
   "cell_type": "markdown",
   "metadata": {},
   "source": [
    "### 3. Results\n",
    "\n",
    "We compare those results to the exact values obtained by diagonalization of the Hamiltonian. In the previous example we computed the excitation energies of state that preserve the number of particle and spin (this is the default in the implementation of qEOM at the moment). Hence, we need to compare to the corresponding exact values. The degeneracies are alse ignored. "
   ]
  },
  {
   "cell_type": "code",
   "execution_count": 9,
   "metadata": {},
   "outputs": [
    {
     "name": "stdout",
     "output_type": "stream",
     "text": [
      "State 0 -> exact energy=-1.8426866819057308 , qeom energy=-1.8426866578804222\n",
      "State 1 -> exact energy=-1.248351713417759 , qeom energy=-1.2483145793851622\n",
      "State 2 -> exact energy=-0.8848086402631494 , qeom energy=-0.8847714965126777\n",
      "State 3 -> exact energy=-0.24576509272507635 , qeom energy=-0.24572795011853898\n"
     ]
    }
   ],
   "source": [
    "qeom_energies = [energy]\n",
    "for gap_i in excitation_energies:\n",
    "    qeom_energies.append(energy+gap_i)\n",
    "\n",
    "reference = exact_eigenstates(hamiltonian, 2, 0) #returns only the states with 2 electrons and singlet spin state.\n",
    "exact_energies = []\n",
    "\n",
    "tmp = 1000\n",
    "for i in range(len(reference[0])):\n",
    "    if np.abs(reference[0][i]-tmp)>1e-5:\n",
    "        exact_energies.append(np.real(reference[0][i]))\n",
    "        tmp = reference[0][i]\n",
    "\n",
    "for i in range(4):\n",
    "    print('State {} -> exact energy={} , qeom energy={}'.format(i, exact_energies[i], qeom_energies[i]))\n"
   ]
  },
  {
   "cell_type": "code",
   "execution_count": 11,
   "metadata": {},
   "outputs": [
    {
     "name": "stderr",
     "output_type": "stream",
     "text": [
      "Credentials are already in use. The existing account in the session will be replaced.\n"
     ]
    },
    {
     "data": {
      "text/plain": [
       "[<IBMQSimulator('ibmq_qasm_simulator') from IBMQ(hub='ibm-q-internal', group='dev-qiskit', project='pulse-testing')>,\n",
       " <IBMQBackend('ibmqx2') from IBMQ(hub='ibm-q-internal', group='dev-qiskit', project='pulse-testing')>,\n",
       " <IBMQBackend('ibmq_16_melbourne') from IBMQ(hub='ibm-q-internal', group='dev-qiskit', project='pulse-testing')>,\n",
       " <IBMQBackend('ibmq_poughkeepsie') from IBMQ(hub='ibm-q-internal', group='dev-qiskit', project='pulse-testing')>,\n",
       " <IBMQBackend('ibmq_boeblingen') from IBMQ(hub='ibm-q-internal', group='dev-qiskit', project='pulse-testing')>,\n",
       " <IBMQBackend('ibmq_vigo') from IBMQ(hub='ibm-q-internal', group='dev-qiskit', project='pulse-testing')>,\n",
       " <IBMQBackend('ibmq_ourense') from IBMQ(hub='ibm-q-internal', group='dev-qiskit', project='pulse-testing')>,\n",
       " <IBMQBackend('ibmq_valencia') from IBMQ(hub='ibm-q-internal', group='dev-qiskit', project='pulse-testing')>,\n",
       " <IBMQBackend('ibmq_london') from IBMQ(hub='ibm-q-internal', group='dev-qiskit', project='pulse-testing')>,\n",
       " <IBMQBackend('ibmq_burlington') from IBMQ(hub='ibm-q-internal', group='dev-qiskit', project='pulse-testing')>,\n",
       " <IBMQBackend('ibmq_singapore') from IBMQ(hub='ibm-q-internal', group='dev-qiskit', project='pulse-testing')>,\n",
       " <IBMQBackend('ibmq_almaden') from IBMQ(hub='ibm-q-internal', group='dev-qiskit', project='pulse-testing')>,\n",
       " <IBMQBackend('ibmq_johannesburg') from IBMQ(hub='ibm-q-internal', group='dev-qiskit', project='pulse-testing')>,\n",
       " <IBMQBackend('ibmq_rochester') from IBMQ(hub='ibm-q-internal', group='dev-qiskit', project='pulse-testing')>,\n",
       " <IBMQBackend('ibmq_essex') from IBMQ(hub='ibm-q-internal', group='dev-qiskit', project='pulse-testing')>,\n",
       " <IBMQBackend('alt_almaden') from IBMQ(hub='ibm-q-internal', group='dev-qiskit', project='pulse-testing')>,\n",
       " <IBMQBackend('ibmq_armonk') from IBMQ(hub='ibm-q-internal', group='dev-qiskit', project='pulse-testing')>]"
      ]
     },
     "execution_count": 11,
     "metadata": {},
     "output_type": "execute_result"
    }
   ],
   "source": [
    "IBMQ.load_account()\n",
    "provider = IBMQ.get_provider(hub='ibm-q-internal',group='dev-qiskit')\n",
    "provider.backends()"
   ]
  },
  {
   "cell_type": "code",
   "execution_count": 12,
   "metadata": {},
   "outputs": [
    {
     "name": "stdout",
     "output_type": "stream",
     "text": [
      "State 0 -> exact energy=-1.8426866819057308 , qeom energy=-1.8426866578804222\n",
      "State 1 -> exact energy=-1.248351713417759 , qeom energy=-1.1984488463202392\n",
      "State 2 -> exact energy=-0.8848086402631494 , qeom energy=-0.9417993106440684\n",
      "State 3 -> exact energy=-0.24576509272507635 , qeom energy=-0.25614286334986525\n"
     ]
    }
   ],
   "source": [
    "device = provider.get_backend('ibmq_boeblingen')\n",
    "properties = device.properties()\n",
    "coupling_map = device.configuration().coupling_map\n",
    "noise_model = noise.device.basic_device_noise_model(properties)\n",
    "basis_gates = noise_model.basis_gates\n",
    "shots = 10000\n",
    "\n",
    "quantum_instance = QuantumInstance(qasm_simulator, shots=shots, basis_gates=basis_gates, \n",
    "                                   coupling_map=coupling_map, noise_model=noise_model)\n",
    "\n",
    "wave_function = var_form.construct_circuit(opt_params)\n",
    "\n",
    "\n",
    "excitation_energies, eom_matrices = eom.calculate_excited_states(wave_function, quantum_instance = quantum_instance)\n",
    "\n",
    "qeom_energies_noisy = [energy]\n",
    "for gap_i in excitation_energies:\n",
    "    qeom_energies_noisy.append(energy+gap_i)\n",
    "\n",
    "for i in range(4):\n",
    "    print('State {} -> exact energy={} , qeom energy={}'.format(i, exact_energies[i], qeom_energies_noisy[i]))"
   ]
  },
  {
   "cell_type": "code",
   "execution_count": null,
   "metadata": {},
   "outputs": [],
   "source": []
  }
 ],
 "metadata": {
  "kernelspec": {
   "display_name": "Python 3",
   "language": "python",
   "name": "python3"
  },
  "language_info": {
   "codemirror_mode": {
    "name": "ipython",
    "version": 3
   },
   "file_extension": ".py",
   "mimetype": "text/x-python",
   "name": "python",
   "nbconvert_exporter": "python",
   "pygments_lexer": "ipython3",
   "version": "3.7.4"
  }
 },
 "nbformat": 4,
 "nbformat_minor": 2
}
