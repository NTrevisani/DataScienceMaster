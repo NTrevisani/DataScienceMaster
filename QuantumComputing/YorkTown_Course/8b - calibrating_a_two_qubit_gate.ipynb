{
 "cells": [
  {
   "attachments": {
    "qiskit_header.png": {
     "image/png": "[encoded data removed]"
    }
   },
   "cell_type": "markdown",
   "metadata": {},
   "source": [
    "![qiskit_header.png](attachment:qiskit_header.png)"
   ]
  },
  {
   "cell_type": "markdown",
   "metadata": {
    "slideshow": {
     "slide_type": "slide"
    }
   },
   "source": [
    "# Calibrating a two qubit gate"
   ]
  },
  {
   "cell_type": "code",
   "execution_count": 1,
   "metadata": {},
   "outputs": [],
   "source": [
    "import numpy as np\n",
    "import matplotlib.pyplot as plt\n",
    "\n",
    "from qiskit import IBMQ\n",
    "import qiskit.pulse as pulse\n",
    "import qiskit.pulse.pulse_lib as pulse_lib\n",
    "from qiskit.compiler import assemble\n",
    "from qiskit.qobj.utils import MeasLevel, MeasReturnType"
   ]
  },
  {
   "cell_type": "markdown",
   "metadata": {},
   "source": [
    "In the previous [tutorial](1a_calibrating_a_qubit.ipynb) we demonstrated how to control a single-qubit device with pulse and calibrate a single qubit gate. In this tutorial we will calibrate a two-qubit gate with a cross-resonance pulse using `ibmq_almaden`, a 20 qubit client-only system."
   ]
  },
  {
   "cell_type": "code",
   "execution_count": 2,
   "metadata": {
    "slideshow": {
     "slide_type": "subslide"
    }
   },
   "outputs": [],
   "source": [
    "from qiskit import IBMQ\n",
    "IBMQ.load_account()\n",
    "provider = IBMQ.get_provider(hub='ibm-q-internal', group='deployed', project='default')\n",
    "backend = provider.get_backend('ibmq_johannesburg')\n",
    "\n",
    "backend_config = backend.configuration()"
   ]
  },
  {
   "cell_type": "code",
   "execution_count": 3,
   "metadata": {},
   "outputs": [],
   "source": [
    "config = backend.configuration()\n",
    "defaults = backend.defaults()"
   ]
  },
  {
   "cell_type": "markdown",
   "metadata": {},
   "source": [
    "# Measuring CR Rabi oscillation\n",
    "\n",
    "In this section, we measure cross resonance Rabi oscillation on qubit0 and qubit1. The basic idea of a cross resonance gate is to apply a microwave pulse to the control qubit at the frequency of the target qubit resonance frequency. For more information, see this [paper](https://arxiv.org/abs/1603.04821). As the frequency of the drive channel used in previous experiments is adjusted to be at the resonance frequency of corresponding qubit, a cross resonance pulse must be applied from another channel so that a different frequency may be used for the pulse. This is why we use a control channel (`U channel`) in this experiment.  \n",
    "It should be noted that the role of control channels is not only applying CR pulses, but any possible Hamiltonian term as described in `config.hamiltonian`, and consequently the effect of `ControlChannel` stimulus strongly depends on the design of the specific quantum computing backend."
   ]
  },
  {
   "cell_type": "code",
   "execution_count": 4,
   "metadata": {},
   "outputs": [],
   "source": [
    "# qubit to use for exeperiment\n",
    "control_qubit = 1\n",
    "target_qubit = 0\n",
    "control_channel_index = 1\n",
    "\n",
    "# exp configuration\n",
    "exps = 30\n",
    "shots = 512\n",
    "\n",
    "# Rabi pulse\n",
    "cr_amps = np.linspace(0, 0.2, exps)\n",
    "cr_samples = 200\n",
    "cr_sigma = 4\n",
    "cr_rise_fall = 16\n",
    "\n",
    "# scaling factor for data returned by backend\n",
    "# note: You may have to adjust this for the backend you use\n",
    "scale_factor= 1e-14"
   ]
  },
  {
   "cell_type": "markdown",
   "metadata": {},
   "source": [
    "You can check if your control qubit and target qubit are connected by bus"
   ]
  },
  {
   "cell_type": "code",
   "execution_count": 5,
   "metadata": {},
   "outputs": [
    {
     "data": {
      "text/plain": [
       "True"
      ]
     },
     "execution_count": 5,
     "metadata": {},
     "output_type": "execute_result"
    }
   ],
   "source": [
    "[control_qubit, target_qubit] in config.coupling_map"
   ]
  },
  {
   "cell_type": "markdown",
   "metadata": {},
   "source": [
    "Usually we use a qubit with higher frequency as a control."
   ]
  },
  {
   "cell_type": "code",
   "execution_count": 6,
   "metadata": {},
   "outputs": [
    {
     "name": "stderr",
     "output_type": "stream",
     "text": [
      "/anaconda3/envs/qiskit14/lib/python3.7/site-packages/qiskit/providers/models/pulsedefaults.py:155: UserWarning: `qubit_freq_est` and `meas_freq_est` now have units of Hertz(Hz) rather than gigahertz(GHz).\n",
      "  warnings.warn('`qubit_freq_est` and `meas_freq_est` now have units of '\n"
     ]
    },
    {
     "data": {
      "text/plain": [
       "True"
      ]
     },
     "execution_count": 6,
     "metadata": {},
     "output_type": "execute_result"
    }
   ],
   "source": [
    "defaults.qubit_freq_est[control_qubit] > defaults.qubit_freq_est[target_qubit]"
   ]
  },
  {
   "cell_type": "markdown",
   "metadata": {},
   "source": [
    "For the above qubit configuration, control channel 0 is available to realize a CR pulse. For other configurations, you can refer to the `InstructionScheduleMap` which may be found in `defaults.circuit_instruction_map` to find the proper control channel index."
   ]
  },
  {
   "cell_type": "code",
   "execution_count": 7,
   "metadata": {},
   "outputs": [
    {
     "data": {
      "text/plain": [
       "[UchannelLO(q=5, scale=(1+0j))]"
      ]
     },
     "execution_count": 7,
     "metadata": {},
     "output_type": "execute_result"
    }
   ],
   "source": [
    "config.u_channel_lo[control_channel_index]"
   ]
  },
  {
   "cell_type": "markdown",
   "metadata": {},
   "source": [
    "In this experiment, we use two-pulse echoed CR sequence to eliminate unwanted interactions."
   ]
  },
  {
   "cell_type": "code",
   "execution_count": 8,
   "metadata": {},
   "outputs": [],
   "source": [
    "# Create schedule\n",
    "schedules = []\n",
    "for ii, cr_amp in enumerate(cr_amps):\n",
    "    # drive pulse\n",
    "    cr_rabi_pulse_p = pulse_lib.gaussian_square(duration=cr_samples,\n",
    "                                                amp=cr_amp,\n",
    "                                                sigma=cr_sigma,\n",
    "                                                risefall=cr_rise_fall,\n",
    "                                                name='cr_rabi_pulse_p%d' % ii)\n",
    "    cr_rabi_pulse_m = pulse_lib.gaussian_square(duration=cr_samples,\n",
    "                                                amp=-cr_amp,\n",
    "                                                sigma=cr_sigma,\n",
    "                                                risefall=cr_rise_fall,\n",
    "                                                name='cr_rabi_pulse_m%d' % ii)\n",
    "    \n",
    "    control_channel = pulse.ControlChannel(control_channel_index)\n",
    "    \n",
    "    # We get the state preparation and measurement pulses we need from the\n",
    "    # defaults `circuit_instruction_map`\n",
    "    pi_pulse_q0 = defaults.circuit_instruction_map.get('u3', (control_qubit,), np.pi, 0, np.pi)\n",
    "    measure = defaults.circuit_instruction_map.get('measure', config.meas_map[0])\n",
    "    \n",
    "    # add commands to schedule\n",
    "    schedule = pulse.Schedule(name='CR Rabi Experiment at drive amp = %s' % cr_amp)\n",
    "    \n",
    "    schedule |= cr_rabi_pulse_p(control_channel)\n",
    "    schedule |= pi_pulse_q0 << schedule.duration\n",
    "    schedule |= cr_rabi_pulse_m(control_channel) << schedule.duration\n",
    "    schedule |= measure << schedule.duration\n",
    " \n",
    "    schedules.append(schedule)"
   ]
  },
  {
   "cell_type": "code",
   "execution_count": 13,
   "metadata": {},
   "outputs": [
    {
     "data": {
      "image/png": "[encoded data removed]",
      "text/plain": [
       "<Figure size 720x864 with 2 Axes>"
      ]
     },
     "execution_count": 13,
     "metadata": {},
     "output_type": "execute_result"
    }
   ],
   "source": [
    "schedules[1].draw(channels_to_plot=[pulse.DriveChannel(control_qubit),\n",
    "                                    pulse.DriveChannel(target_qubit),\n",
    "                                    control_channel,\n",
    "                                    pulse.MeasureChannel(control_qubit),\n",
    "                                    pulse.MeasureChannel(target_qubit)],\n",
    "                   scaling=10.0, label=False, plot_range=(0, 700))"
   ]
  },
  {
   "cell_type": "code",
   "execution_count": 9,
   "metadata": {},
   "outputs": [],
   "source": [
    "cr_rabi_qobj = assemble(schedules, backend, meas_level=MeasLevel.KERNELED, \n",
    "                        meas_return=MeasReturnType.AVERAGE, shots=shots)"
   ]
  },
  {
   "cell_type": "code",
   "execution_count": 10,
   "metadata": {},
   "outputs": [],
   "source": [
    "job = backend.run(cr_rabi_qobj)"
   ]
  },
  {
   "cell_type": "code",
   "execution_count": 11,
   "metadata": {},
   "outputs": [
    {
     "data": {
      "text/plain": [
       "'5e31bf8e0520030011cbdb08'"
      ]
     },
     "execution_count": 11,
     "metadata": {},
     "output_type": "execute_result"
    }
   ],
   "source": [
    "job.job_id()"
   ]
  },
  {
   "cell_type": "code",
   "execution_count": 12,
   "metadata": {},
   "outputs": [
    {
     "data": {
      "text/plain": [
       "<JobStatus.VALIDATING: 'job is being validated'>"
      ]
     },
     "execution_count": 12,
     "metadata": {},
     "output_type": "execute_result"
    }
   ],
   "source": [
    "job.status()"
   ]
  },
  {
   "cell_type": "code",
   "execution_count": 13,
   "metadata": {},
   "outputs": [],
   "source": [
    "cr_rabi_result = job.result(timeout=3600)"
   ]
  },
  {
   "cell_type": "code",
   "execution_count": 14,
   "metadata": {},
   "outputs": [],
   "source": [
    "job = backend.retrieve_job('5e31bf8e0520030011cbdb08')\n",
    "cr_rabi_results = job.result(timeout=120)"
   ]
  },
  {
   "cell_type": "markdown",
   "metadata": {},
   "source": [
    "### Analyze the result"
   ]
  },
  {
   "cell_type": "code",
   "execution_count": 15,
   "metadata": {},
   "outputs": [],
   "source": [
    "target_qubit_rabi_data = np.ones(exps, dtype=np.complex_)\n",
    "control_qubit_rabi_data = np.ones(exps, dtype=np.complex_)\n",
    "\n",
    "for i in range(exps):\n",
    "    target_qubit_rabi_data[i] = cr_rabi_result.get_memory(i)[target_qubit]\n",
    "    control_qubit_rabi_data[i] = cr_rabi_result.get_memory(i)[control_qubit]"
   ]
  },
  {
   "cell_type": "markdown",
   "metadata": {},
   "source": [
    "As expected below we can observe the oscillation of the measured signal of only the target qubit."
   ]
  },
  {
   "cell_type": "code",
   "execution_count": 16,
   "metadata": {},
   "outputs": [],
   "source": [
    "# auto-phase the output measurement signal\n",
    "\n",
    "def get_amplitude(vec):\n",
    "    i_signal = np.imag(vec)\n",
    "    r_signal = np.real(vec)\n",
    "\n",
    "    mvec = [np.mean(r_signal), np.mean(i_signal)]\n",
    "\n",
    "    src_mat = np.vstack((r_signal - mvec[0], i_signal - mvec[1])).T\n",
    "    (_, _, v_mat) = np.linalg.svd(src_mat)\n",
    "\n",
    "    dvec = v_mat[0, 0:2]\n",
    "\n",
    "    if dvec.dot(mvec) < 0:\n",
    "        dvec = -dvec\n",
    "\n",
    "    return src_mat.dot(dvec)"
   ]
  },
  {
   "cell_type": "code",
   "execution_count": 23,
   "metadata": {},
   "outputs": [
    {
     "name": "stdout",
     "output_type": "stream",
     "text": [
      "0.027191350692821387\n"
     ]
    },
    {
     "data": {
      "image/png": "[encoded data removed]",
      "text/plain": [
       "<Figure size 432x288 with 1 Axes>"
      ]
     },
     "metadata": {
      "needs_background": "light"
     },
     "output_type": "display_data"
    }
   ],
   "source": [
    "target_rabi_amp_data = get_amplitude(target_qubit_rabi_data)*scale_factor\n",
    "control_rabi_amp_data = get_amplitude(control_qubit_rabi_data)*scale_factor\n",
    "\n",
    "fit_func = lambda x,A,B,T,phi: (A*np.cos(2*np.pi*x/T+phi)+B)\n",
    "\n",
    "#Fit the data\n",
    "fitparams, conv = curve_fit(fit_func, cr_amps, target_rabi_amp_data, [3.0,0.0,0.1,0])\n",
    "\n",
    "#get the pi amplitude\n",
    "cr_pi_2_amp = (np.pi-fitparams[3])*fitparams[2]/4/np.pi\n",
    "\n",
    "plt.plot(cr_amps, fit_func(cr_amps, *fitparams), color='red')\n",
    "plt.axvline(cr_pi_2_amp, color='black', linestyle='dashed')\n",
    "plt.scatter(cr_amps, target_rabi_amp_data, label='target qubit')\n",
    "plt.scatter(cr_amps, control_rabi_amp_data, label='control qubit')\n",
    "plt.xlim(0, 0.2)\n",
    "plt.ylim(-5, 5)\n",
    "plt.legend()\n",
    "plt.xlabel('CR pulse amplitude, a.u.', fontsize=20)\n",
    "plt.ylabel('Signal, a.u.', fontsize=20)\n",
    "plt.title('CR Rabi oscillation', fontsize=20)\n",
    "\n",
    "print(cr_pi_2_amp)"
   ]
  },
  {
   "cell_type": "markdown",
   "metadata": {},
   "source": [
    "From the fit we obtain the CR Rabi oscillation frequency. We may use this to extract the amplitude of a CR π/2 pulse, which is the foundation of the `cx`(CNOT) gate in our systems. To see the pulse schedule for a `cx` gate look in the `defaults.circuit_instruction_map`"
   ]
  },
  {
   "cell_type": "code",
   "execution_count": 17,
   "metadata": {},
   "outputs": [
    {
     "data": {
      "image/png": "[encoded data removed]",
      "text/plain": [
       "<Figure size 720x864 with 2 Axes>"
      ]
     },
     "execution_count": 17,
     "metadata": {},
     "output_type": "execute_result"
    }
   ],
   "source": [
    "defaults.circuit_instruction_map.get('cx', (control_qubit, target_qubit)).draw(show_framechange_channels=False)"
   ]
  },
  {
   "cell_type": "code",
   "execution_count": 18,
   "metadata": {
    "ExecuteTime": {
     "end_time": "2019-08-22T01:29:36.602627Z",
     "start_time": "2019-08-22T01:29:36.594016Z"
    }
   },
   "outputs": [
    {
     "data": {
      "text/html": [
       "<h3>Version Information</h3><table><tr><th>Qiskit Software</th><th>Version</th></tr><tr><td>Qiskit</td><td>0.14.1</td></tr><tr><td>Terra</td><td>0.11.1</td></tr><tr><td>Aer</td><td>0.3.4</td></tr><tr><td>Ignis</td><td>0.2.0</td></tr><tr><td>Aqua</td><td>0.6.2</td></tr><tr><td>IBM Q Provider</td><td>0.4.5</td></tr><tr><th>System information</th></tr><tr><td>Python</td><td>3.7.6 | packaged by conda-forge | (default, Jan  7 2020, 22:05:27) \n",
       "[Clang 9.0.1 ]</td></tr><tr><td>OS</td><td>Darwin</td></tr><tr><td>CPUs</td><td>2</td></tr><tr><td>Memory (Gb)</td><td>16.0</td></tr><tr><td colspan='2'>Wed Jan 29 12:30:07 2020 EST</td></tr></table>"
      ],
      "text/plain": [
       "<IPython.core.display.HTML object>"
      ]
     },
     "metadata": {},
     "output_type": "display_data"
    },
    {
     "data": {
      "text/html": [
       "<div style='width: 100%; background-color:#d5d9e0;padding-left: 10px; padding-bottom: 10px; padding-right: 10px; padding-top: 5px'><h3>This code is a part of Qiskit</h3><p>&copy; Copyright IBM 2017, 2020.</p><p>This code is licensed under the Apache License, Version 2.0. You may<br>obtain a copy of this license in the LICENSE.txt file in the root directory<br> of this source tree or at http://www.apache.org/licenses/LICENSE-2.0.<p>Any modifications or derivative works of this code must retain this<br>copyright notice, and modified files need to carry a notice indicating<br>that they have been altered from the originals.</p></div>"
      ],
      "text/plain": [
       "<IPython.core.display.HTML object>"
      ]
     },
     "metadata": {},
     "output_type": "display_data"
    }
   ],
   "source": [
    "import qiskit.tools.jupyter\n",
    "%qiskit_version_table\n",
    "%qiskit_copyright"
   ]
  },
  {
   "cell_type": "code",
   "execution_count": null,
   "metadata": {},
   "outputs": [],
   "source": []
  }
 ],
 "metadata": {
  "kernelspec": {
   "display_name": "Python 3",
   "language": "python",
   "name": "python3"
  },
  "language_info": {
   "codemirror_mode": {
    "name": "ipython",
    "version": 3
   },
   "file_extension": ".py",
   "mimetype": "text/x-python",
   "name": "python",
   "nbconvert_exporter": "python",
   "pygments_lexer": "ipython3",
   "version": "3.7.6"
  },
  "varInspector": {
   "cols": {
    "lenName": 16,
    "lenType": 16,
    "lenVar": 40
   },
   "kernels_config": {
    "python": {
     "delete_cmd_postfix": "",
     "delete_cmd_prefix": "del ",
     "library": "var_list.py",
     "varRefreshCmd": "print(var_dic_list())"
    },
    "r": {
     "delete_cmd_postfix": ") ",
     "delete_cmd_prefix": "rm(",
     "library": "var_list.r",
     "varRefreshCmd": "cat(var_dic_list()) "
    }
   },
   "types_to_exclude": [
    "module",
    "function",
    "builtin_function_or_method",
    "instance",
    "_Feature"
   ],
   "window_display": false
  }
 },
 "nbformat": 4,
 "nbformat_minor": 2
}
