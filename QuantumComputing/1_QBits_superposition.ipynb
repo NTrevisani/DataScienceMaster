{
 "cells": [
  {
   "cell_type": "markdown",
   "metadata": {},
   "source": [
    "$\\newcommand{\\ket}[1]{\\left|#1\\right>}$\n"
   ]
  },
  {
   "cell_type": "markdown",
   "metadata": {},
   "source": [
    "# Qubits and superposition\n",
    "\n",
    "Everything here is taken from the IBM quantum computing User Guide and introduction to quantum computing:\n",
    "https://quantum-computing.ibm.com/"
   ]
  },
  {
   "cell_type": "markdown",
   "metadata": {},
   "source": [
    "All the following examples need the Qiskit library to run. Install it running the command:\n",
    "\n",
    "    pip install qiskit"
   ]
  },
  {
   "cell_type": "markdown",
   "metadata": {},
   "source": [
    "## The qubit"
   ]
  },
  {
   "cell_type": "markdown",
   "metadata": {},
   "source": [
    "The quantum bit, or qubit, is the fundamental piece of a quantum computer.\n",
    "\n",
    "It can be considered as the analogous of the bit in a standard computer, but with the difference that while a bit can assume values 0 or 1, a qubit has two levels $\\ket{0}$ and $\\ket{1}$ and can be in any state which is the linear superposition of $\\ket{0}$ and $\\ket{1}$."
   ]
  },
  {
   "cell_type": "markdown",
   "metadata": {},
   "source": [
    "On a quantum mechanical point of view, $\\ket{0}$ is the fundamental state and $\\ket{1}$ the first excited state.\n",
    "\n",
    "In the canonical base, they can be expressed as:\n",
    "\n",
    "$\\ket{0} = \\begin{bmatrix}\n",
    "    1 \\\\\n",
    "    0 \\\\\n",
    "\\end{bmatrix}$\n",
    "\n",
    "$\\ket{1} = \\begin{bmatrix}\n",
    "    0 \\\\\n",
    "    1 \\\\\n",
    "\\end{bmatrix}$"
   ]
  },
  {
   "cell_type": "markdown",
   "metadata": {},
   "source": [
    "As said, a qubit state $\\ket{\\psi}$ is the superposition of $\\ket{0}$ and $\\ket{1}$:\n",
    "\n",
    "$\\ket{\\psi} = \\alpha \\ket{0} + \\beta \\ket{1}$\n",
    "\n",
    "where $\\alpha$ and $\\beta$ are complex coefficients that satisfy the relation:\n",
    "\n",
    "$ |\\alpha|^2 + |\\beta|^2 = 1 $"
   ]
  },
  {
   "cell_type": "markdown",
   "metadata": {},
   "source": [
    "These coefficients express the probability of observing the qubit in a certain state when performing a measurement. In our case, for example, if the qubit is in the state: \n",
    "\n",
    "$\\ket{\\psi} = \\alpha \\ket{0} + \\beta \\ket{1}$"
   ]
  },
  {
   "cell_type": "markdown",
   "metadata": {},
   "source": [
    "when performing a measurement on its state, the probability:\n",
    "- of observing it in the state $\\ket{0}$ is $|\\alpha|^2$;\n",
    "- of observing it in the state $\\ket{1}$ is $|\\beta|^2$."
   ]
  },
  {
   "cell_type": "markdown",
   "metadata": {},
   "source": [
    "From the unitary relation already introduced for the coefficients, the sum of the two probabilities is going to be 1."
   ]
  },
  {
   "cell_type": "markdown",
   "metadata": {},
   "source": [
    "## Example 1\n",
    "\n",
    "#### Simple q-bit measurement"
   ]
  },
  {
   "cell_type": "code",
   "execution_count": 1,
   "metadata": {},
   "outputs": [],
   "source": [
    "# single_q_measurement.py\n",
    "from qiskit import QuantumCircuit, QuantumRegister, ClassicalRegister, execute, Aer"
   ]
  },
  {
   "cell_type": "code",
   "execution_count": 2,
   "metadata": {},
   "outputs": [],
   "source": [
    "# Define the Quantum and Classical Registers\n",
    "q = QuantumRegister(1)\n",
    "c = ClassicalRegister(1)"
   ]
  },
  {
   "cell_type": "code",
   "execution_count": 3,
   "metadata": {},
   "outputs": [
    {
     "data": {
      "text/plain": [
       "<qiskit.circuit.instructionset.InstructionSet at 0x7fb5c871ce10>"
      ]
     },
     "execution_count": 3,
     "metadata": {},
     "output_type": "execute_result"
    }
   ],
   "source": [
    "# Build the circuit\n",
    "single_q_measurement = QuantumCircuit(q, c)\n",
    "single_q_measurement.measure(q, c)"
   ]
  },
  {
   "cell_type": "code",
   "execution_count": 4,
   "metadata": {},
   "outputs": [
    {
     "data": {
      "text/html": [
       "<pre style=\"word-wrap: normal;white-space: pre;background: #fff0;line-height: 1.1;font-family: &quot;Courier New&quot;,Courier,monospace\">         ┌─┐\n",
       "q0_0: |0>┤M├\n",
       "         └╥┘\n",
       " c0_0: 0 ═╩═\n",
       "            </pre>"
      ],
      "text/plain": [
       "         ┌─┐\n",
       "q0_0: |0>┤M├\n",
       "         └╥┘\n",
       " c0_0: 0 ═╩═\n",
       "            "
      ]
     },
     "execution_count": 4,
     "metadata": {},
     "output_type": "execute_result"
    }
   ],
   "source": [
    "# Draw the circuit\n",
    "single_q_measurement.draw()"
   ]
  },
  {
   "cell_type": "markdown",
   "metadata": {},
   "source": [
    "The M gate simply measures the state of the q-bit."
   ]
  },
  {
   "cell_type": "code",
   "execution_count": 5,
   "metadata": {},
   "outputs": [],
   "source": [
    "# Execute the circuit\n",
    "job = execute(single_q_measurement, backend = Aer.get_backend('qasm_simulator'), shots=1024)\n",
    "result = job.result()"
   ]
  },
  {
   "cell_type": "code",
   "execution_count": 6,
   "metadata": {},
   "outputs": [
    {
     "name": "stdout",
     "output_type": "stream",
     "text": [
      "{'0': 1024}\n"
     ]
    }
   ],
   "source": [
    "# Print the result\n",
    "print(result.get_counts(single_q_measurement))"
   ]
  },
  {
   "cell_type": "markdown",
   "metadata": {},
   "source": [
    "All the results give 0 (fundamental state)."
   ]
  },
  {
   "cell_type": "markdown",
   "metadata": {},
   "source": [
    "## Example 2\n",
    "\n",
    "#### Q-bit flip circuit"
   ]
  },
  {
   "cell_type": "code",
   "execution_count": 7,
   "metadata": {},
   "outputs": [],
   "source": [
    "# excited_state.py\n",
    "from qiskit import QuantumCircuit, QuantumRegister, ClassicalRegister, execute, Aer"
   ]
  },
  {
   "cell_type": "code",
   "execution_count": 8,
   "metadata": {},
   "outputs": [],
   "source": [
    "# Define the Quantum and Classical Registers\n",
    "q = QuantumRegister(1)\n",
    "c = ClassicalRegister(1)"
   ]
  },
  {
   "cell_type": "code",
   "execution_count": 9,
   "metadata": {},
   "outputs": [
    {
     "data": {
      "text/plain": [
       "<qiskit.circuit.instructionset.InstructionSet at 0x7fb58342a210>"
      ]
     },
     "execution_count": 9,
     "metadata": {},
     "output_type": "execute_result"
    }
   ],
   "source": [
    "# Build the circuit\n",
    "excited_state = QuantumCircuit(q, c)\n",
    "excited_state.x(q)\n",
    "excited_state.measure(q, c)"
   ]
  },
  {
   "cell_type": "code",
   "execution_count": 10,
   "metadata": {},
   "outputs": [
    {
     "data": {
      "text/html": [
       "<pre style=\"word-wrap: normal;white-space: pre;background: #fff0;line-height: 1.1;font-family: &quot;Courier New&quot;,Courier,monospace\">         ┌───┐┌─┐\n",
       "q1_0: |0>┤ X ├┤M├\n",
       "         └───┘└╥┘\n",
       " c1_0: 0 ══════╩═\n",
       "                 </pre>"
      ],
      "text/plain": [
       "         ┌───┐┌─┐\n",
       "q1_0: |0>┤ X ├┤M├\n",
       "         └───┘└╥┘\n",
       " c1_0: 0 ══════╩═\n",
       "                 "
      ]
     },
     "execution_count": 10,
     "metadata": {},
     "output_type": "execute_result"
    }
   ],
   "source": [
    "# Draw the circuit\n",
    "excited_state.draw()"
   ]
  },
  {
   "cell_type": "markdown",
   "metadata": {},
   "source": [
    "Here we used the X gate to put the q-bit in the excited state."
   ]
  },
  {
   "cell_type": "code",
   "execution_count": 11,
   "metadata": {},
   "outputs": [],
   "source": [
    "# Execute the circuit\n",
    "job = execute(excited_state, backend = Aer.get_backend('qasm_simulator'), shots=1024)\n",
    "result = job.result()"
   ]
  },
  {
   "cell_type": "code",
   "execution_count": 12,
   "metadata": {},
   "outputs": [
    {
     "name": "stdout",
     "output_type": "stream",
     "text": [
      "{'1': 1024}\n"
     ]
    }
   ],
   "source": [
    "# Print the result\n",
    "print(result.get_counts(excited_state))"
   ]
  },
  {
   "cell_type": "markdown",
   "metadata": {},
   "source": [
    "All the results give 1 (excited state)."
   ]
  },
  {
   "cell_type": "markdown",
   "metadata": {},
   "source": [
    "## Example 3\n",
    "\n",
    "#### Superpoistion"
   ]
  },
  {
   "cell_type": "code",
   "execution_count": 13,
   "metadata": {},
   "outputs": [],
   "source": [
    "# superposition_state.py\n",
    "from qiskit import QuantumCircuit, QuantumRegister, ClassicalRegister, execute, Aer"
   ]
  },
  {
   "cell_type": "code",
   "execution_count": 14,
   "metadata": {},
   "outputs": [],
   "source": [
    "# Define the Quantum and Classical Registers\n",
    "q = QuantumRegister(1)\n",
    "c = ClassicalRegister(1)"
   ]
  },
  {
   "cell_type": "code",
   "execution_count": 15,
   "metadata": {},
   "outputs": [
    {
     "data": {
      "text/plain": [
       "<qiskit.circuit.instructionset.InstructionSet at 0x7fb58343b1d0>"
      ]
     },
     "execution_count": 15,
     "metadata": {},
     "output_type": "execute_result"
    }
   ],
   "source": [
    "# Build the circuit\n",
    "superposition_state = QuantumCircuit(q, c)\n",
    "superposition_state.h(q)\n",
    "superposition_state.measure(q, c)"
   ]
  },
  {
   "cell_type": "code",
   "execution_count": 16,
   "metadata": {},
   "outputs": [
    {
     "data": {
      "text/html": [
       "<pre style=\"word-wrap: normal;white-space: pre;background: #fff0;line-height: 1.1;font-family: &quot;Courier New&quot;,Courier,monospace\">         ┌───┐┌─┐\n",
       "q2_0: |0>┤ H ├┤M├\n",
       "         └───┘└╥┘\n",
       " c2_0: 0 ══════╩═\n",
       "                 </pre>"
      ],
      "text/plain": [
       "         ┌───┐┌─┐\n",
       "q2_0: |0>┤ H ├┤M├\n",
       "         └───┘└╥┘\n",
       " c2_0: 0 ══════╩═\n",
       "                 "
      ]
     },
     "execution_count": 16,
     "metadata": {},
     "output_type": "execute_result"
    }
   ],
   "source": [
    "# Draw the circuit\n",
    "superposition_state.draw()"
   ]
  },
  {
   "cell_type": "markdown",
   "metadata": {},
   "source": [
    "H gate creates a superposition between fundamental state and excited state in the same q-bit:\n",
    "\n",
    "$ \\ket{+} = \\dfrac{\\ket{0} + \\ket{1}}{\\sqrt{2}} $ "
   ]
  },
  {
   "cell_type": "code",
   "execution_count": 17,
   "metadata": {},
   "outputs": [],
   "source": [
    "# Execute the circuit\n",
    "job = execute(superposition_state, backend = Aer.get_backend('qasm_simulator'), shots=1024)\n",
    "result = job.result()"
   ]
  },
  {
   "cell_type": "code",
   "execution_count": 18,
   "metadata": {},
   "outputs": [
    {
     "name": "stdout",
     "output_type": "stream",
     "text": [
      "{'0': 516, '1': 508}\n"
     ]
    }
   ],
   "source": [
    "# Print the result\n",
    "print(result.get_counts(superposition_state))"
   ]
  },
  {
   "cell_type": "markdown",
   "metadata": {},
   "source": [
    "Approximately half of the results are in the fundamental state and the other half in the excited state."
   ]
  },
  {
   "cell_type": "markdown",
   "metadata": {},
   "source": [
    "## Example 4\n",
    "\n",
    "#### Two superpoistions"
   ]
  },
  {
   "cell_type": "markdown",
   "metadata": {},
   "source": [
    "Let's now try putting two H gates one after the other."
   ]
  },
  {
   "cell_type": "code",
   "execution_count": 19,
   "metadata": {},
   "outputs": [],
   "source": [
    "# superposition_state_xbasis.py\n",
    "from qiskit import QuantumCircuit, QuantumRegister, ClassicalRegister, execute, Aer"
   ]
  },
  {
   "cell_type": "code",
   "execution_count": 20,
   "metadata": {},
   "outputs": [],
   "source": [
    "# Define the Quantum and Classical Registers\n",
    "q = QuantumRegister(1)\n",
    "c = ClassicalRegister(1)"
   ]
  },
  {
   "cell_type": "code",
   "execution_count": 21,
   "metadata": {},
   "outputs": [
    {
     "data": {
      "text/plain": [
       "<qiskit.circuit.instructionset.InstructionSet at 0x7fb5c871c250>"
      ]
     },
     "execution_count": 21,
     "metadata": {},
     "output_type": "execute_result"
    }
   ],
   "source": [
    "# Build the circuit\n",
    "superposition_state_xbasis = QuantumCircuit(q, c)\n",
    "superposition_state_xbasis.h(q)\n",
    "superposition_state_xbasis.barrier()\n",
    "superposition_state_xbasis.h(q)\n",
    "superposition_state_xbasis.measure(q, c)"
   ]
  },
  {
   "cell_type": "code",
   "execution_count": 22,
   "metadata": {},
   "outputs": [
    {
     "data": {
      "text/html": [
       "<pre style=\"word-wrap: normal;white-space: pre;background: #fff0;line-height: 1.1;font-family: &quot;Courier New&quot;,Courier,monospace\">         ┌───┐ ░ ┌───┐┌─┐\n",
       "q3_0: |0>┤ H ├─░─┤ H ├┤M├\n",
       "         └───┘ ░ └───┘└╥┘\n",
       " c3_0: 0 ══════════════╩═\n",
       "                         </pre>"
      ],
      "text/plain": [
       "         ┌───┐ ░ ┌───┐┌─┐\n",
       "q3_0: |0>┤ H ├─░─┤ H ├┤M├\n",
       "         └───┘ ░ └───┘└╥┘\n",
       " c3_0: 0 ══════════════╩═\n",
       "                         "
      ]
     },
     "execution_count": 22,
     "metadata": {},
     "output_type": "execute_result"
    }
   ],
   "source": [
    "# Draw the circuit\n",
    "superposition_state_xbasis.draw()"
   ]
  },
  {
   "cell_type": "code",
   "execution_count": 23,
   "metadata": {},
   "outputs": [],
   "source": [
    "# Execute the circuit\n",
    "job = execute(superposition_state_xbasis, backend = Aer.get_backend('qasm_simulator'), shots=1024)\n",
    "result = job.result()"
   ]
  },
  {
   "cell_type": "code",
   "execution_count": 24,
   "metadata": {},
   "outputs": [
    {
     "name": "stdout",
     "output_type": "stream",
     "text": [
      "{'0': 1024}\n"
     ]
    }
   ],
   "source": [
    "# Print the result\n",
    "print(result.get_counts(superposition_state_xbasis))"
   ]
  },
  {
   "cell_type": "markdown",
   "metadata": {},
   "source": [
    "By putting two H gates one after the other, we obtain the original state."
   ]
  },
  {
   "cell_type": "markdown",
   "metadata": {},
   "source": [
    "## Example 5\n",
    "\n",
    "#### Negative superpoistion"
   ]
  },
  {
   "cell_type": "code",
   "execution_count": 25,
   "metadata": {},
   "outputs": [],
   "source": [
    "# negative_superposition_state.py\n",
    "from qiskit import QuantumCircuit, QuantumRegister, ClassicalRegister, execute, Aer"
   ]
  },
  {
   "cell_type": "code",
   "execution_count": 26,
   "metadata": {},
   "outputs": [],
   "source": [
    "# Define the Quantum and Classical Registers\n",
    "q = QuantumRegister(1)\n",
    "c = ClassicalRegister(1)"
   ]
  },
  {
   "cell_type": "code",
   "execution_count": 27,
   "metadata": {},
   "outputs": [
    {
     "data": {
      "text/plain": [
       "<qiskit.circuit.instructionset.InstructionSet at 0x7fb582bce090>"
      ]
     },
     "execution_count": 27,
     "metadata": {},
     "output_type": "execute_result"
    }
   ],
   "source": [
    "# Build the circuit\n",
    "negative_superposition_state = QuantumCircuit(q, c)\n",
    "negative_superposition_state.x(q)\n",
    "negative_superposition_state.h(q)\n",
    "negative_superposition_state.measure(q, c)"
   ]
  },
  {
   "cell_type": "code",
   "execution_count": 28,
   "metadata": {},
   "outputs": [
    {
     "data": {
      "text/html": [
       "<pre style=\"word-wrap: normal;white-space: pre;background: #fff0;line-height: 1.1;font-family: &quot;Courier New&quot;,Courier,monospace\">         ┌───┐┌───┐┌─┐\n",
       "q4_0: |0>┤ X ├┤ H ├┤M├\n",
       "         └───┘└───┘└╥┘\n",
       " c4_0: 0 ═══════════╩═\n",
       "                      </pre>"
      ],
      "text/plain": [
       "         ┌───┐┌───┐┌─┐\n",
       "q4_0: |0>┤ X ├┤ H ├┤M├\n",
       "         └───┘└───┘└╥┘\n",
       " c4_0: 0 ═══════════╩═\n",
       "                      "
      ]
     },
     "execution_count": 28,
     "metadata": {},
     "output_type": "execute_result"
    }
   ],
   "source": [
    "# Draw thecircuit\n",
    "negative_superposition_state.draw()"
   ]
  },
  {
   "cell_type": "markdown",
   "metadata": {},
   "source": [
    "We first excite the q-bit with the X gate and then create a superposition using the H gate:\n",
    "\n",
    "X gate creates a superposition between fundamental state and excited state in the same q-bit:\n",
    "\n",
    "$ \\ket{-} = \\dfrac{\\ket{0} - \\ket{1}}{\\sqrt{2}} $ "
   ]
  },
  {
   "cell_type": "code",
   "execution_count": 29,
   "metadata": {},
   "outputs": [],
   "source": [
    "# Execute the circuit\n",
    "job = execute(negative_superposition_state, backend = Aer.get_backend('qasm_simulator'), shots=1024)\n",
    "result = job.result()"
   ]
  },
  {
   "cell_type": "code",
   "execution_count": 30,
   "metadata": {},
   "outputs": [
    {
     "name": "stdout",
     "output_type": "stream",
     "text": [
      "{'0': 510, '1': 514}\n"
     ]
    }
   ],
   "source": [
    "# Print the result\n",
    "print(result.get_counts(negative_superposition_state))"
   ]
  },
  {
   "cell_type": "markdown",
   "metadata": {},
   "source": [
    "## Example 6\n",
    "\n",
    "#### Two negative superpoistions"
   ]
  },
  {
   "cell_type": "code",
   "execution_count": 31,
   "metadata": {},
   "outputs": [],
   "source": [
    "# negative_superposition_state_xbasis.py\n",
    "from qiskit import QuantumCircuit, QuantumRegister, ClassicalRegister, execute, Aer"
   ]
  },
  {
   "cell_type": "code",
   "execution_count": 32,
   "metadata": {},
   "outputs": [],
   "source": [
    "# Define the Quantum and Classical Registers\n",
    "q = QuantumRegister(1)\n",
    "c = ClassicalRegister(1)"
   ]
  },
  {
   "cell_type": "code",
   "execution_count": 33,
   "metadata": {},
   "outputs": [
    {
     "data": {
      "text/plain": [
       "<qiskit.circuit.instructionset.InstructionSet at 0x7fb58343bc90>"
      ]
     },
     "execution_count": 33,
     "metadata": {},
     "output_type": "execute_result"
    }
   ],
   "source": [
    "# Build the circuit\n",
    "negative_superposition_state_xbasis = QuantumCircuit(q, c)\n",
    "negative_superposition_state_xbasis.x(q)\n",
    "negative_superposition_state_xbasis.h(q)\n",
    "negative_superposition_state_xbasis.barrier()\n",
    "negative_superposition_state_xbasis.h(q)\n",
    "negative_superposition_state_xbasis.measure(q, c)"
   ]
  },
  {
   "cell_type": "code",
   "execution_count": 34,
   "metadata": {},
   "outputs": [
    {
     "data": {
      "text/html": [
       "<pre style=\"word-wrap: normal;white-space: pre;background: #fff0;line-height: 1.1;font-family: &quot;Courier New&quot;,Courier,monospace\">         ┌───┐┌───┐ ░ ┌───┐┌─┐\n",
       "q5_0: |0>┤ X ├┤ H ├─░─┤ H ├┤M├\n",
       "         └───┘└───┘ ░ └───┘└╥┘\n",
       " c5_0: 0 ═══════════════════╩═\n",
       "                              </pre>"
      ],
      "text/plain": [
       "         ┌───┐┌───┐ ░ ┌───┐┌─┐\n",
       "q5_0: |0>┤ X ├┤ H ├─░─┤ H ├┤M├\n",
       "         └───┘└───┘ ░ └───┘└╥┘\n",
       " c5_0: 0 ═══════════════════╩═\n",
       "                              "
      ]
     },
     "execution_count": 34,
     "metadata": {},
     "output_type": "execute_result"
    }
   ],
   "source": [
    "# Draw thecircuit\n",
    "negative_superposition_state_xbasis.draw()"
   ]
  },
  {
   "cell_type": "code",
   "execution_count": 35,
   "metadata": {},
   "outputs": [],
   "source": [
    "# Execute the circuit\n",
    "job = execute(negative_superposition_state_xbasis, backend = Aer.get_backend('qasm_simulator'), shots=1024)\n",
    "result = job.result()"
   ]
  },
  {
   "cell_type": "code",
   "execution_count": 36,
   "metadata": {},
   "outputs": [
    {
     "name": "stdout",
     "output_type": "stream",
     "text": [
      "{'1': 1024}\n"
     ]
    }
   ],
   "source": [
    "# Print the result\n",
    "print(result.get_counts(negative_superposition_state_xbasis))"
   ]
  },
  {
   "cell_type": "markdown",
   "metadata": {},
   "source": [
    "## Summary\n",
    "\n",
    "#### What we learned from the previous examples"
   ]
  },
  {
   "cell_type": "markdown",
   "metadata": {},
   "source": [
    "The H gate can be represented as a matrix:\n",
    "\n",
    "$ H = \n",
    "\\dfrac{1}{\\sqrt{2}} \n",
    "\\begin{bmatrix}\n",
    "    1 & 1 \\\\\n",
    "    1 & -1 \n",
    "\\end{bmatrix}\n",
    "$"
   ]
  },
  {
   "cell_type": "markdown",
   "metadata": {},
   "source": [
    "If we apply H to the fundamental state $\\ket{0} = \\begin{bmatrix}\n",
    "    1 \\\\\n",
    "    0 \\\\\n",
    "\\end{bmatrix}$, we obtain:"
   ]
  },
  {
   "cell_type": "markdown",
   "metadata": {},
   "source": [
    "$H \\ket{0} = \\dfrac{1}{\\sqrt{2}} \n",
    "\\begin{bmatrix}\n",
    "    1 & 1 \\\\\n",
    "    1 & -1 \n",
    "\\end{bmatrix}\n",
    "\\begin{bmatrix}\n",
    "    1 \\\\\n",
    "    0 \\\\\n",
    "\\end{bmatrix} = \n",
    "\\dfrac{1}{\\sqrt{2}} \n",
    "\\begin{bmatrix}\n",
    "    1 \\\\\n",
    "    1 \\\\\n",
    "\\end{bmatrix} = \n",
    "\\dfrac{\\ket{0} + \\ket{1}}{\\sqrt{2}} = \n",
    "\\ket{+}\n",
    "$"
   ]
  },
  {
   "cell_type": "markdown",
   "metadata": {},
   "source": [
    "Similarly, applying H to the excited state\n",
    "$\\ket{1} = \\begin{bmatrix}\n",
    "    0 \\\\\n",
    "    1 \\\\\n",
    "\\end{bmatrix}$, we get:"
   ]
  },
  {
   "cell_type": "markdown",
   "metadata": {},
   "source": [
    "$H \\ket{1} = \\dfrac{1}{\\sqrt{2}} \n",
    "\\begin{bmatrix}\n",
    "    1 & 1 \\\\\n",
    "    1 & -1 \n",
    "\\end{bmatrix}\n",
    "\\begin{bmatrix}\n",
    "    0 \\\\\n",
    "    1 \\\\\n",
    "\\end{bmatrix} = \n",
    "\\dfrac{1}{\\sqrt{2}} \n",
    "\\begin{bmatrix}\n",
    "    1 \\\\\n",
    "    -1 \\\\\n",
    "\\end{bmatrix} = \n",
    "\\dfrac{\\ket{0} - \\ket{1}}{\\sqrt{2}} = \n",
    "\\ket{-}\n",
    "$"
   ]
  },
  {
   "cell_type": "markdown",
   "metadata": {},
   "source": [
    "Here, $\\ket{+}$ and $\\ket{-}$ are the representation of the superposition state in the superposition base."
   ]
  },
  {
   "cell_type": "markdown",
   "metadata": {},
   "source": [
    "When we perform a measurement to understand if the system is in the fundamental state or in the excited state, it has to *choose*, randomly, where to go, if to $\\ket{0}$ or to $\\ket{1}$.\n",
    "\n",
    "This leads to the results we observed, where we found 50% systems in $\\ket{0}$ and 50% in $\\ket{1}$."
   ]
  },
  {
   "cell_type": "markdown",
   "metadata": {},
   "source": [
    "On the other hand, if we apply the H operator to $\\ket{+}$ or $\\ket{-}$, we get:"
   ]
  },
  {
   "cell_type": "markdown",
   "metadata": {},
   "source": [
    "$H \\ket{+} = \\dfrac{1}{\\sqrt{2}} \n",
    "\\begin{bmatrix}\n",
    "    1 & 1 \\\\\n",
    "    1 & -1 \n",
    "\\end{bmatrix}\n",
    "\\dfrac{1}{\\sqrt{2}}\n",
    "\\begin{bmatrix}\n",
    "    1 \\\\\n",
    "    1 \\\\\n",
    "\\end{bmatrix} = \n",
    "\\dfrac{1}{2} \n",
    "\\begin{bmatrix}\n",
    "    2 \\\\\n",
    "    0 \\\\\n",
    "\\end{bmatrix} = \n",
    "\\begin{bmatrix}\n",
    "    1 \\\\\n",
    "    0 \\\\\n",
    "\\end{bmatrix} = \\ket{0}\n",
    "$"
   ]
  },
  {
   "cell_type": "markdown",
   "metadata": {},
   "source": [
    "$H \\ket{-} = \\dfrac{1}{\\sqrt{2}} \n",
    "\\begin{bmatrix}\n",
    "    1 & 1 \\\\\n",
    "    1 & -1 \n",
    "\\end{bmatrix}\n",
    "\\dfrac{1}{\\sqrt{2}}\n",
    "\\begin{bmatrix}\n",
    "    1 \\\\\n",
    "    -1 \\\\\n",
    "\\end{bmatrix} = \n",
    "\\dfrac{1}{2} \n",
    "\\begin{bmatrix}\n",
    "    0 \\\\\n",
    "    2 \\\\\n",
    "\\end{bmatrix} = \n",
    "\\begin{bmatrix}\n",
    "    0 \\\\\n",
    "    1 \\\\\n",
    "\\end{bmatrix} = \\ket{1}\n",
    "$"
   ]
  },
  {
   "cell_type": "markdown",
   "metadata": {},
   "source": [
    "Again, with some algebra, we can easily explain the results obtained when we applied twice the H operator: the system is always in the state it was before the double manipulation.\n",
    "\n",
    "In other words, $HH = 1$:"
   ]
  },
  {
   "cell_type": "markdown",
   "metadata": {},
   "source": [
    "$ \n",
    "HH = \n",
    "\\dfrac{1}{\\sqrt{2}}\n",
    "\\begin{bmatrix}\n",
    "    1 & 1 \\\\\n",
    "    1 & -1 \n",
    "\\end{bmatrix}\n",
    "\\dfrac{1}{\\sqrt{2}}\n",
    "\\begin{bmatrix}\n",
    "    1 & 1 \\\\\n",
    "    1 & -1 \n",
    "\\end{bmatrix} = \n",
    "\\dfrac{1}{2}\n",
    "\\begin{bmatrix}\n",
    "    2 & 0 \\\\\n",
    "    0 & 2 \n",
    "\\end{bmatrix} = \n",
    "\\begin{bmatrix}\n",
    "    1 & 0 \\\\\n",
    "    0 & 1 \n",
    "\\end{bmatrix}\n",
    "$"
   ]
  }
 ],
 "metadata": {
  "kernelspec": {
   "display_name": "Python 3",
   "language": "python",
   "name": "python3"
  },
  "language_info": {
   "codemirror_mode": {
    "name": "ipython",
    "version": 3
   },
   "file_extension": ".py",
   "mimetype": "text/x-python",
   "name": "python",
   "nbconvert_exporter": "python",
   "pygments_lexer": "ipython3",
   "version": "3.7.4"
  }
 },
 "nbformat": 4,
 "nbformat_minor": 2
}
