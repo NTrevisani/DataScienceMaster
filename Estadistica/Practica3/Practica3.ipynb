{
 "cells": [
  {
   "cell_type": "markdown",
   "metadata": {},
   "source": [
    "# Problema 1"
   ]
  },
  {
   "cell_type": "code",
   "execution_count": 6,
   "metadata": {},
   "outputs": [
    {
     "name": "stdout",
     "output_type": "stream",
     "text": [
      "[1] \"The mean waiting time is: 50.00 minutes\"\n",
      "[1] \"The variance is: 833.33 minutes^2\"\n"
     ]
    }
   ],
   "source": [
    "# The mean waiting time is (a + b)/2, where:\n",
    "\n",
    "# The train arrives now\n",
    "a <- 0\n",
    "\n",
    "# Maximum expected waiting time\n",
    "b <- 100\n",
    "\n",
    "mean.time <- (a + b)/2\n",
    "\n",
    "# The standard deviation, on the other hand, \n",
    "# is given by: (b - a)/sqrt(12)\n",
    "\n",
    "var.time <- (b - a)*(b - a)/12\n",
    "\n",
    "print(paste(\"The mean waiting time is:\", format(round(mean.time, 2), nsmall = 2),\"minutes\"))\n",
    "print(paste(\"The variance is:\", format(round(var.time, 2), nsmall = 2),\"minutes^2\"))"
   ]
  },
  {
   "cell_type": "code",
   "execution_count": 7,
   "metadata": {},
   "outputs": [
    {
     "name": "stdout",
     "output_type": "stream",
     "text": [
      "[1] \"The mean waiting time for this sample is: 50.96\"\n",
      "[1] \"The variance for this sample is: 871.90\"\n"
     ]
    }
   ],
   "source": [
    "# Simulate the waiting time of 30 people\n",
    "\n",
    "# Fi the seed just to have every time the same result\n",
    "set.seed(1)\n",
    "\n",
    "# Simulate the 30 waiting times, using a uniform distribution\n",
    "wait.time <- runif(30,0,100)\n",
    "\n",
    "sample.mean.time = mean(wait.time)\n",
    "print(paste(\"The mean waiting time for this sample is:\", format(round(sample.mean.time, 2), nsmall = 2)))\n",
    "\n",
    "sample.rms.time <- var(wait.time)\n",
    "print(paste(\"The variance for this sample is:\", format(round(sample.rms.time, 2), nsmall = 2)))"
   ]
  },
  {
   "cell_type": "code",
   "execution_count": 10,
   "metadata": {},
   "outputs": [
    {
     "name": "stdout",
     "output_type": "stream",
     "text": [
      "[1] \"The variance a sample of 30 people is: 27.78\"\n",
      "[1] \"The variance a sample of 100 people is: 8.33\"\n"
     ]
    }
   ],
   "source": [
    "# The mean value of the sample is the same as the expected mean value.\n",
    "# In our case, 50 minutes\n",
    "\n",
    "# The variance of the sample is related to the variance through\n",
    "# the relation:\n",
    "# var.sample = var/n, where n is the size of the sample. So:\n",
    "\n",
    "# Case n = 30\n",
    "n <- 30\n",
    "var.sample.30 <- var.time / n\n",
    "print(paste(\"The variance a sample of\",n,\"people is:\", format(round(var.sample.30, 2), nsmall = 2)))\n",
    "\n",
    "# Case n = 100\n",
    "n <- 100\n",
    "var.sample.100 <- var.time / n\n",
    "print(paste(\"The variance a sample of\",n,\"people is:\", format(round(var.sample.100, 2), nsmall = 2)))"
   ]
  },
  {
   "cell_type": "code",
   "execution_count": 24,
   "metadata": {},
   "outputs": [
    {
     "name": "stdout",
     "output_type": "stream",
     "text": [
      "[1] \"The mean extracted from 500 samples of 30 people is: 49.75\"\n",
      "[1] \"The variance extracted from 500 samples of 30 people is: 28.58\"\n"
     ]
    }
   ],
   "source": [
    "# Simulate 500 random samples of 30 people.\n",
    "\n",
    "# A huge (30 x 500) matrix\n",
    "mat.30 <- matrix(runif(30*500,0,100), ncol = 500)\n",
    "\n",
    "mean.vec.30 <- colMeans(mat.30)\n",
    "\n",
    "my.mean.30 <- mean(mean.vec.30)\n",
    "my.var.30 <- var(mean.vec.30)\n",
    "\n",
    "print(paste(\"The mean extracted from 500 samples of 30 people is:\", format(round(my.mean.30, 2), nsmall = 2)))\n",
    "print(paste(\"The variance extracted from 500 samples of 30 people is:\", format(round(my.var.30, 2), nsmall = 2)))"
   ]
  },
  {
   "cell_type": "markdown",
   "metadata": {},
   "source": [
    "The mean value is, as we expected, ~50 in every case, since the mean value is always distributed around the expected value.\n",
    "\n",
    "By simulating 500 samples of 30 people waiting for the train, we get a value of the variance very close to the one we expected for a sample of 30 people."
   ]
  },
  {
   "cell_type": "code",
   "execution_count": 26,
   "metadata": {},
   "outputs": [
    {
     "name": "stdout",
     "output_type": "stream",
     "text": [
      "[1] \"The mean extracted from 500 samples of 30 people is: 49.92\"\n",
      "[1] \"The variance extracted from 500 samples of 30 people is: 7.99\"\n"
     ]
    }
   ],
   "source": [
    "# Now do the same but for samples of 100 people.\n",
    "\n",
    "# Simulate 500 random samples of 100 people.\n",
    "\n",
    "# A huge (100 x 500) matrix\n",
    "mat.100 <- matrix(runif(100*500,0,100), ncol = 500)\n",
    "\n",
    "mean.vec.100 <- colMeans(mat.100)\n",
    "\n",
    "my.mean.100 <- mean(mean.vec.100)\n",
    "my.var.100 <- var(mean.vec.100)\n",
    "\n",
    "print(paste(\"The mean extracted from 500 samples of 30 people is:\", format(round(my.mean.100, 2), nsmall = 2)))\n",
    "print(paste(\"The variance extracted from 500 samples of 30 people is:\", format(round(my.var.100, 2), nsmall = 2)))"
   ]
  },
  {
   "cell_type": "code",
   "execution_count": 30,
   "metadata": {},
   "outputs": [
    {
     "ename": "ERROR",
     "evalue": "Error in xy.coords(x, y, xlabel, ylabel, log): 'x' and 'y' lengths differ\n",
     "output_type": "error",
     "traceback": [
      "Error in xy.coords(x, y, xlabel, ylabel, log): 'x' and 'y' lengths differ\nTraceback:\n",
      "1. plot(x, mean.vec.30, type = \"l\", lty = 1, xlab = \"Cholesterol level [mg/dL]\", \n .     ylab = \"Probability density\", main = \"Probability density function of cholesterol level\")",
      "2. plot.default(x, mean.vec.30, type = \"l\", lty = 1, xlab = \"Cholesterol level [mg/dL]\", \n .     ylab = \"Probability density\", main = \"Probability density function of cholesterol level\")",
      "3. xy.coords(x, y, xlabel, ylabel, log)",
      "4. stop(\"'x' and 'y' lengths differ\")"
     ]
    }
   ],
   "source": [
    "# Plot the 2 previous mean distributions in a 2-panel figure\n",
    "\n",
    "x <- c(0:100)\n",
    "\n",
    "par(mfrow=c(2,1))\n",
    "\n",
    "# 30-people sample\n",
    "plot(x, mean.vec.30, type=\"l\", lty=1, \n",
    "     xlab=\"Cholesterol level [mg/dL]\", ylab=\"Probability density\", \n",
    "     main=\"Probability density function of cholesterol level\")\n"
   ]
  },
  {
   "cell_type": "code",
   "execution_count": null,
   "metadata": {},
   "outputs": [],
   "source": [
    "\n",
    "\n",
    "\n",
    "\n",
    "\n",
    "hist(...,freq = FALSE) --> the histogram has area 1\n",
    "\n",
    "curve(x,0,100, add = TRUE) --> produce the curve of a function of x\n",
    "\n",
    "\n"
   ]
  }
 ],
 "metadata": {
  "kernelspec": {
   "display_name": "R",
   "language": "R",
   "name": "ir"
  },
  "language_info": {
   "codemirror_mode": "r",
   "file_extension": ".r",
   "mimetype": "text/x-r-source",
   "name": "R",
   "pygments_lexer": "r",
   "version": "3.6.1"
  }
 },
 "nbformat": 4,
 "nbformat_minor": 2
}
