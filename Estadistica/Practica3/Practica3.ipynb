{
 "cells": [
  {
   "cell_type": "markdown",
   "metadata": {},
   "source": [
    "# Problema 1"
   ]
  },
  {
   "cell_type": "code",
   "execution_count": 58,
   "metadata": {},
   "outputs": [
    {
     "name": "stdout",
     "output_type": "stream",
     "text": [
      "[1] \"The mean waiting time is: 50,00 minutes\"\n",
      "[1] \"The variance is: 833,33 minutes^2\"\n",
      "[1] \"The standard deviation is: 28,87 minutes\"\n"
     ]
    }
   ],
   "source": [
    "# The mean waiting time is (a + b)/2, where:\n",
    "\n",
    "# The train arrives now (no wait)\n",
    "a <- 0\n",
    "\n",
    "# Maximum expected waiting time\n",
    "b <- 100\n",
    "\n",
    "mean.time <- (a + b)/2\n",
    "\n",
    "# The standard deviation, on the other hand, \n",
    "# is given by: (b - a)/sqrt(12)\n",
    "\n",
    "var.time <- (b - a)*(b - a)/12\n",
    "\n",
    "print(paste(\"The mean waiting time is:\", format(round(mean.time, 2), nsmall = 2),\"minutes\"))\n",
    "print(paste(\"The variance is:\", format(round(var.time, 2), nsmall = 2),\"minutes^2\"))\n",
    "print(paste(\"The standard deviation is:\", format(round(sqrt(var.time), 2), nsmall = 2),\"minutes\"))"
   ]
  },
  {
   "cell_type": "code",
   "execution_count": 63,
   "metadata": {},
   "outputs": [
    {
     "name": "stdout",
     "output_type": "stream",
     "text": [
      "[1] \"The mean waiting time for this sample is: 50,96\"\n",
      "[1] \"The variance for this sample is: 871,90\"\n",
      "[1] \"The standard deviation for this sample is: 29,53\"\n"
     ]
    }
   ],
   "source": [
    "# Simulate the waiting time of 30 people\n",
    "\n",
    "# Fi the seed just to have every time the same result\n",
    "set.seed(1)\n",
    "\n",
    "# Simulate the 30 waiting times, using a uniform distribution\n",
    "wait.time <- runif(30,0,100)\n",
    "\n",
    "sample.mean.time = mean(wait.time)\n",
    "print(paste(\"The mean waiting time for this sample is:\", format(round(sample.mean.time, 2), nsmall = 2)))\n",
    "\n",
    "sample.var.time <- var(wait.time)\n",
    "print(paste(\"The variance for this sample is:\", format(round(sample.var.time, 2), nsmall = 2)))\n",
    "\n",
    "print(paste(\"The standard deviation for this sample is:\", format(round(sqrt(sample.var.time), 2), nsmall = 2)))"
   ]
  },
  {
   "cell_type": "markdown",
   "metadata": {},
   "source": [
    "The mean value of the sample is the same as the expected mean value. \n",
    "In our case, 50 minutes\n",
    "\n",
    "The variance of the sample is related to the expected variance through the relation:\n",
    "\n",
    "$var(X) = \\frac{var(\\bar{X})}{n}$\n",
    "\n",
    "where n is the size of the sample"
   ]
  },
  {
   "cell_type": "code",
   "execution_count": 78,
   "metadata": {},
   "outputs": [
    {
     "name": "stdout",
     "output_type": "stream",
     "text": [
      "[1] \"The variance for a sample of 30 people is: 27,78\"\n",
      "[1] \"The variance for a sample of 100 people is: 8,33\"\n"
     ]
    }
   ],
   "source": [
    "# Case n = 30\n",
    "n <- 30\n",
    "var.sample.30 <- var.time / n\n",
    "print(paste(\"The variance for a sample of\",n,\"people is:\", format(round(var.sample.30, 2), nsmall = 2)))\n",
    "\n",
    "# Case n = 100\n",
    "n <- 100\n",
    "var.sample.100 <- var.time / n\n",
    "print(paste(\"The variance for a sample of\",n,\"people is:\", format(round(var.sample.100, 2), nsmall = 2)))"
   ]
  },
  {
   "cell_type": "code",
   "execution_count": 79,
   "metadata": {},
   "outputs": [
    {
     "name": "stdout",
     "output_type": "stream",
     "text": [
      "[1] \"The mean extracted from 500 samples of 30 people is: 50,04\"\n",
      "[1] \"The variance extracted from 500 samples of 30 people is: 29,49\"\n"
     ]
    }
   ],
   "source": [
    "# Simulate 500 random samples of 30 people.\n",
    "\n",
    "# A huge (30 x 500) matrix\n",
    "mat.30 <- matrix(runif(30*500,0,100), ncol = 500)\n",
    "\n",
    "# A vector storing the means of the 500 random samples\n",
    "mean.vec.30 <- colMeans(mat.30)\n",
    "\n",
    "# The mean of the 500 mean values\n",
    "my.mean.30 <- mean(mean.vec.30)\n",
    "\n",
    "# The variance of the 500 mean values\n",
    "my.var.30 <- var(mean.vec.30)\n",
    "\n",
    "print(paste(\"The mean extracted from 500 samples of 30 people is:\", format(round(my.mean.30, 2), nsmall = 2)))\n",
    "print(paste(\"The variance extracted from 500 samples of 30 people is:\", format(round(my.var.30, 2), nsmall = 2)))"
   ]
  },
  {
   "cell_type": "markdown",
   "metadata": {},
   "source": [
    "The mean value is, as we expected, ~50 in every case, since the mean value is always distributed around the expected value.\n",
    "\n",
    "By simulating 500 samples of 30 people waiting for the train, we get a value of the variance very close to the one we expected for a sample of 30 people."
   ]
  },
  {
   "cell_type": "code",
   "execution_count": 80,
   "metadata": {},
   "outputs": [
    {
     "name": "stdout",
     "output_type": "stream",
     "text": [
      "[1] \"The mean extracted from 500 samples of 30 people is: 50,08\"\n",
      "[1] \"The variance extracted from 500 samples of 30 people is: 7,65\"\n"
     ]
    }
   ],
   "source": [
    "# Now do the same, but for samples of 100 people.\n",
    "\n",
    "# Simulate 500 random samples of 100 people.\n",
    "\n",
    "# A huge (100 x 500) matrix\n",
    "mat.100 <- matrix(runif(100*500,0,100), ncol = 500)\n",
    "\n",
    "# A vector storing the means of the 500 random samples\n",
    "mean.vec.100 <- colMeans(mat.100)\n",
    "\n",
    "# The mean of the 500 mean values\n",
    "my.mean.100 <- mean(mean.vec.100)\n",
    "\n",
    "# The variance of the 500 mean values\n",
    "my.var.100 <- var(mean.vec.100)\n",
    "\n",
    "print(paste(\"The mean extracted from 500 samples of 30 people is:\", format(round(my.mean.100, 2), nsmall = 2)))\n",
    "print(paste(\"The variance extracted from 500 samples of 30 people is:\", format(round(my.var.100, 2), nsmall = 2)))"
   ]
  },
  {
   "cell_type": "markdown",
   "metadata": {},
   "source": [
    "Also in this case, by simulating 500 samples of 100 people waiting for the train, we get a value of the variance very close to the one we expected for a sample of 100 people."
   ]
  },
  {
   "cell_type": "code",
   "execution_count": 55,
   "metadata": {},
   "outputs": [
    {
     "data": {
      "image/png": "[encoded data removed]",
      "text/plain": [
       "Plot with title “Waiting time distribution of 500 samples of 100 people”"
      ]
     },
     "metadata": {},
     "output_type": "display_data"
    }
   ],
   "source": [
    "# Plot the 2 previous mean distributions in a 2-panel figure\n",
    "# and superimpose the corresponding expected normal distribution.\n",
    "\n",
    "# Prepare the 2-panel figure\n",
    "par(mfrow=c(2,1)) \n",
    "\n",
    "# 30-people sample\n",
    "hist(mean.vec.30, xlim = c(0,100), ylim = c(0,0.08),\n",
    "     xlab=\"Mean waiting time [min]\", ylab=\"Normalised frequency\", \n",
    "     main=\"Waiting time distribution of 500 samples of 30 people\",\n",
    "     freq = F)\n",
    "curve(dnorm(x,50,sqrt(var.sample.30)), from = 0, to = 100, add = TRUE)\n",
    "\n",
    "# 100-people sample\n",
    "hist(mean.vec.100, xlim = c(0,100),\n",
    "     xlab=\"Mean waiting time [min]\", ylab=\"Normalised frequency\", \n",
    "     main=\"Waiting time distribution of 500 samples of 100 people\",\n",
    "     freq = F)\n",
    "\n",
    "curve(dnorm(x,50,sqrt(var.sample.100)), from = 0, to = 100, add = TRUE)"
   ]
  },
  {
   "cell_type": "markdown",
   "metadata": {},
   "source": [
    "The plots of the distributions related to the samples we generated agree very well with the expected p.d.f. in both cases.\n",
    "\n",
    "In other words, the histogram representing the distribution of the 500 mean values of the waiting times for samples of 30 people agrees with a gaussian centered at 50 and with a standard deviation of $\\sqrt{27.7}$.\n",
    "Similarly, the histogram representing the distribution of the 500 mean values of the waiting times for samples of 100 people agrees with a gaussian centered at 50 and with a standard deviation of $\\sqrt{8.33}$.\n",
    "\n",
    "This means that by taking the mean value of n uniform distributions (with n large enough, in our case n = 500), we get a normal distribution with expected value corresponding to the expected value of the uniform distribution and variance equal to $\\frac{var(uniform)}{n}$. \n",
    "\n",
    "So, we have empirically verified the central limit theorem in the specific case of uniform distributions.\n"
   ]
  }
 ],
 "metadata": {
  "kernelspec": {
   "display_name": "R",
   "language": "R",
   "name": "ir"
  },
  "language_info": {
   "codemirror_mode": "r",
   "file_extension": ".r",
   "mimetype": "text/x-r-source",
   "name": "R",
   "pygments_lexer": "r",
   "version": "3.6.1"
  }
 },
 "nbformat": 4,
 "nbformat_minor": 2
}
