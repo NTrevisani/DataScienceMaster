{
 "cells": [
  {
   "cell_type": "code",
   "execution_count": null,
   "metadata": {},
   "outputs": [],
   "source": [
    "#DISTRIBUCIONES DE PROBABILIDAD\n",
    "################################\n",
    "################################\n",
    "################################\n",
    "\n",
    "\n",
    "\n",
    "#DISTRIBUCION UNIFORME CONTINUA\n",
    "###############################\n",
    "###############################\n",
    "\n",
    "#Funcion de distribucion P(Variable <= x) en el intervalo [a,b]\n",
    "###############################################################\n",
    "#F(x) = (x-a)/(b-a)\n",
    "\n",
    "# > punif(x,a,b)\n",
    "\n",
    "\n",
    "\n",
    "#Función de densidad f(x) en el intervalo [a,b] \n",
    "###############################################\n",
    "#f(x) = 1/(b-a)\n",
    "\n",
    "# > dunif(x,a,b)\n",
    "\n",
    "#Nota: NO ES UNA PROBABILIDAD\n",
    "\n",
    "#Ejemplo: Un tren tiene la llegada programada en los próximos 5 minutos. Cual es la probabilidad de que esperemos 3 minutos o menos?\n",
    "\n",
    "punif(3,0,5)"
   ]
  },
  {
   "cell_type": "code",
   "execution_count": 5,
   "metadata": {},
   "outputs": [
    {
     "data": {
      "text/html": [
       "0.15625"
      ],
      "text/latex": [
       "0.15625"
      ],
      "text/markdown": [
       "0.15625"
      ],
      "text/plain": [
       "[1] 0.15625"
      ]
     },
     "metadata": {},
     "output_type": "display_data"
    }
   ],
   "source": [
    "#DISTRIBUCION BINOMIAL\n",
    "######################\n",
    "######################\n",
    "\n",
    "\n",
    "\n",
    "#Función de Probabilidad: P(Variable=x) con probabilidad p y tamaño muestal n:\n",
    "###############################################################################\n",
    "# p(x) = choose(n,x) p^x (1-p)^(n-x)\n",
    "\n",
    "# > dbinom(x, n, p)\n",
    "\n",
    "\n",
    "\n",
    "#Función de distribución: Probabilidad acumulada P(Variable <= x) con probabilidad p y tamaño muestal n: \n",
    "########################################################################################################\n",
    "\n",
    "\n",
    "# > pbinom(x, n, p)\n",
    "\n",
    "\n",
    "\n",
    "\n",
    "\n",
    "#Ejemplo:\n",
    "#Lanzamos 5 veces una moneda. ¿Probabilidad de sacar 4 caras?\n",
    "\n",
    "x<-4\n",
    "n<-5\n",
    "p<-0.5\n",
    "\n",
    "dbinom(x,n,p)"
   ]
  },
  {
   "cell_type": "code",
   "execution_count": 6,
   "metadata": {},
   "outputs": [
    {
     "data": {
      "text/html": [
       "0.96875"
      ],
      "text/latex": [
       "0.96875"
      ],
      "text/markdown": [
       "0.96875"
      ],
      "text/plain": [
       "[1] 0.96875"
      ]
     },
     "metadata": {},
     "output_type": "display_data"
    }
   ],
   "source": [
    "#Lanzamos 5 veces una moneda. ¿Probabilidad de sacar 4 caras o menos?\n",
    "\n",
    "pbinom(x,n,p)"
   ]
  },
  {
   "cell_type": "code",
   "execution_count": 7,
   "metadata": {},
   "outputs": [
    {
     "data": {
      "text/html": [
       "0.0216040314524838"
      ],
      "text/latex": [
       "0.0216040314524838"
      ],
      "text/markdown": [
       "0.0216040314524838"
      ],
      "text/plain": [
       "[1] 0.02160403"
      ]
     },
     "metadata": {},
     "output_type": "display_data"
    }
   ],
   "source": [
    "#DISTRIBUCION DE POISSON\n",
    "########################\n",
    "########################\n",
    "\n",
    "\n",
    "#Funcion de probabilidad P(Variable=x) con media lambda \n",
    "########################################################\n",
    "\n",
    "#Poisson: p(x) = lambda^x exp(-lambda)/x!\n",
    "\n",
    "# > dpois(x,lambda)\n",
    "\n",
    "\n",
    "#Funcion de distribucion P(Variable <= x) con media lambda :\n",
    "#############################################################\n",
    "\n",
    "# > ppois(x,lambda)\n",
    "\n",
    "\n",
    "#Ejemplo: El número medio de accidentes por año un una carretera es 3. ¿Probabilidad de que haya 7 el próximo año?\n",
    "\n",
    "lambda<-3\n",
    "x<-7\n",
    "dpois(x,lambda)"
   ]
  },
  {
   "cell_type": "code",
   "execution_count": 8,
   "metadata": {},
   "outputs": [
    {
     "data": {
      "text/html": [
       "0.988095496143643"
      ],
      "text/latex": [
       "0.988095496143643"
      ],
      "text/markdown": [
       "0.988095496143643"
      ],
      "text/plain": [
       "[1] 0.9880955"
      ]
     },
     "metadata": {},
     "output_type": "display_data"
    }
   ],
   "source": [
    "# ¿Probabilidad de que haya 7 o menos el próximo año?\n",
    "ppois(x,lambda)"
   ]
  },
  {
   "cell_type": "code",
   "execution_count": null,
   "metadata": {},
   "outputs": [],
   "source": [
    "#DISTRIBUCION NORMAL\n",
    "####################\n",
    "####################\n",
    "\n",
    "\n",
    "#Funcion de distribucion P(Variable <= x) con media = mu y desviacion tipica = sigma :\n",
    "######################################################################################\n",
    "\n",
    "# > pnorm(x,mu,sigma)\n",
    "\n",
    "\n",
    "#Función de densidad f(x) con media = mu y desviacion tipica = sigma \n",
    "#####################################################################\n",
    "#f(x) = 1/(sqrt(2 pi) sigma) e^-((x - mu)^2/(2 sigma^2))\n",
    "\n",
    "# > dnorm(x,mu,sigma)\n",
    "\n",
    "#Nota: NO ES UNA PROBABILIDAD\n",
    "\n",
    "\n",
    "\n",
    "#Ejemplo: En una población la altura media es 1.75m  y la desviación típica 0.1m\n",
    "#¿Probabilidad de que una persona de la población mida menos de 1.60m?\n",
    "\n",
    "x<-1.60\n",
    "mu<-1.75\n",
    "sigma<-0.1\n",
    "\n",
    "pnorm(1.60,1.75,0.1)\n",
    "\n",
    "#¿Probabilidad de que una persona de la población mida más de 2.20m?\n",
    "\n",
    "1-pnorm(2.2,1.75,0.1)\n",
    "\n",
    "\n",
    "\n",
    "PERCENTILES DE LA DISTRIBUCION NORMAL\n",
    "######################################\n",
    "# Percentil x(p) es un numero tal que P[Variable <= x(p)]= p\n",
    "\n",
    "# Percentil p de la normal de media mu y desviacion tipica sigma:\n",
    "# qnorm(p,mu,sigma)\n",
    "\n",
    "#Ejemplo: En una población la altura media es 1.75m  y la desviación típica 0.1m\n",
    "#Calcula la altura por debajo de la cual se encuentra el 5% de la población.\n",
    "\n",
    "p<-0.05\n",
    "mu<-1.75\n",
    "sigma<-0.1\n",
    "\n",
    "qnorm(p,mu,sigma)"
   ]
  }
 ],
 "metadata": {
  "kernelspec": {
   "display_name": "R",
   "language": "R",
   "name": "ir"
  },
  "language_info": {
   "codemirror_mode": "r",
   "file_extension": ".r",
   "mimetype": "text/x-r-source",
   "name": "R",
   "pygments_lexer": "r",
   "version": "3.4.4"
  }
 },
 "nbformat": 4,
 "nbformat_minor": 2
}
