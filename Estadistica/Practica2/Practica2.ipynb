{
 "cells": [
  {
   "cell_type": "markdown",
   "metadata": {},
   "source": [
    "# Práctica 2 de Estadística para Data Science\n"
   ]
  },
  {
   "cell_type": "markdown",
   "metadata": {},
   "source": [
    "## Problema 1"
   ]
  },
  {
   "cell_type": "markdown",
   "metadata": {},
   "source": [
    "Considera un examen de 10 preguntas con 5 posibles respuestas para cada pregunta en el que se responde al azar.  \n",
    "Considera la variable aleatoria X = numero de preguntas acertadas en el examen."
   ]
  },
  {
   "cell_type": "code",
   "execution_count": null,
   "metadata": {},
   "outputs": [],
   "source": [
    "# Esta es una binomial con estos parametros\n",
    "\n",
    "preguntas  <- 10\n",
    "probabilidad <- 0.2"
   ]
  },
  {
   "cell_type": "code",
   "execution_count": null,
   "metadata": {},
   "outputs": [],
   "source": [
    "# Valor esperado\n",
    "\n",
    "esperado <- preguntas*probabilidad\n",
    "\n",
    "print(paste(\"El valor esperado es:\",esperado))"
   ]
  },
  {
   "cell_type": "code",
   "execution_count": null,
   "metadata": {},
   "outputs": [],
   "source": [
    "# Desviación típica\n",
    "\n",
    "desv <- sqrt(esperado*(1 - probabilidad))\n",
    "\n",
    "print(paste(\"La desviación típica es:\",sqrt(desv)))"
   ]
  },
  {
   "cell_type": "code",
   "execution_count": null,
   "metadata": {},
   "outputs": [],
   "source": [
    "# Las probabilidades, por separado\n",
    "\n",
    "prob.vec <- dbinom(0:10,preguntas,probabilidad)\n",
    "\n",
    "print(\"La probabilidad de acertar:\")\n",
    "for (i in 0:10){\n",
    "    print(paste(i,\"respuestas:\",prob.vec[i+1]))\n",
    "}\n",
    "\n",
    "print(paste(\"Y por suerta la suma de esas probabilidades es:\", sum(prob.vec)))"
   ]
  },
  {
   "cell_type": "code",
   "execution_count": null,
   "metadata": {},
   "outputs": [],
   "source": [
    "# Las probabilidades de acertar al menos i preguntas\n",
    "\n",
    "prob.cumulative <- pbinom(0:10,preguntas,probabilidad)\n",
    "\n",
    "print(\"La probabilidad de acertar al menos:\")\n",
    "for (i in 0:10){\n",
    "    print(paste(i,\"respuestas:\",prob.cumulative[i+1]))\n",
    "}"
   ]
  },
  {
   "cell_type": "code",
   "execution_count": null,
   "metadata": {},
   "outputs": [],
   "source": [
    "# Ahora pintamos las probabilidades\n",
    "\n",
    "plot(0:10,prob.vec)\n",
    "\n",
    "plot(0:10,prob.cumulative)"
   ]
  },
  {
   "cell_type": "markdown",
   "metadata": {},
   "source": [
    "## Problema 2"
   ]
  },
  {
   "cell_type": "code",
   "execution_count": 1,
   "metadata": {},
   "outputs": [
    {
     "name": "stderr",
     "output_type": "stream",
     "text": [
      "── \u001b[1mAttaching packages\u001b[22m ─────────────────────────────────────── tidyverse 1.2.1 ──\n",
      "\n",
      "\u001b[32m✔\u001b[39m \u001b[34mggplot2\u001b[39m 3.2.1     \u001b[32m✔\u001b[39m \u001b[34mpurrr  \u001b[39m 0.3.2\n",
      "\u001b[32m✔\u001b[39m \u001b[34mtibble \u001b[39m 2.1.3     \u001b[32m✔\u001b[39m \u001b[34mdplyr  \u001b[39m 0.8.3\n",
      "\u001b[32m✔\u001b[39m \u001b[34mtidyr  \u001b[39m 1.0.0     \u001b[32m✔\u001b[39m \u001b[34mstringr\u001b[39m 1.4.0\n",
      "\u001b[32m✔\u001b[39m \u001b[34mreadr  \u001b[39m 1.3.1     \u001b[32m✔\u001b[39m \u001b[34mforcats\u001b[39m 0.4.0\n",
      "\n",
      "── \u001b[1mConflicts\u001b[22m ────────────────────────────────────────── tidyverse_conflicts() ──\n",
      "\u001b[31m✖\u001b[39m \u001b[34mdplyr\u001b[39m::\u001b[32mfilter()\u001b[39m masks \u001b[34mstats\u001b[39m::filter()\n",
      "\u001b[31m✖\u001b[39m \u001b[34mdplyr\u001b[39m::\u001b[32mlag()\u001b[39m    masks \u001b[34mstats\u001b[39m::lag()\n",
      "\n",
      "Warning message:\n",
      "“Missing column names filled in: 'X1' [1]”\n",
      "Parsed with column specification:\n",
      "cols(\n",
      "  X1 = \u001b[32mcol_double()\u001b[39m,\n",
      "  Season = \u001b[32mcol_double()\u001b[39m,\n",
      "  Episode = \u001b[32mcol_double()\u001b[39m,\n",
      "  NumDeaths = \u001b[32mcol_double()\u001b[39m\n",
      ")\n",
      "\n"
     ]
    },
    {
     "name": "stdout",
     "output_type": "stream",
     "text": [
      "Classes ‘spec_tbl_df’, ‘tbl_df’, ‘tbl’ and 'data.frame':\t67 obs. of  4 variables:\n",
      " $ X1       : num  1 2 3 4 5 6 7 8 9 10 ...\n",
      " $ Season   : num  1 1 1 1 1 1 1 1 1 1 ...\n",
      " $ Episode  : num  1 2 3 4 5 6 7 8 9 10 ...\n",
      " $ NumDeaths: num  4 3 0 1 5 4 2 7 2 3 ...\n",
      " - attr(*, \"spec\")=\n",
      "  .. cols(\n",
      "  ..   X1 = \u001b[32mcol_double()\u001b[39m,\n",
      "  ..   Season = \u001b[32mcol_double()\u001b[39m,\n",
      "  ..   Episode = \u001b[32mcol_double()\u001b[39m,\n",
      "  ..   NumDeaths = \u001b[32mcol_double()\u001b[39m\n",
      "  .. )\n"
     ]
    }
   ],
   "source": [
    "library(\"tidyverse\")\n",
    "\n",
    "got <- read_csv(\"GOT.csv\")\n",
    "\n",
    "str(got)"
   ]
  },
  {
   "cell_type": "code",
   "execution_count": 2,
   "metadata": {},
   "outputs": [
    {
     "data": {
      "text/html": [
       "215"
      ],
      "text/latex": [
       "215"
      ],
      "text/markdown": [
       "215"
      ],
      "text/plain": [
       "[1] 215"
      ]
     },
     "metadata": {},
     "output_type": "display_data"
    }
   ],
   "source": [
    "total.deaths <- sum(got$NumDeaths)\n",
    "total.deaths"
   ]
  },
  {
   "cell_type": "code",
   "execution_count": 18,
   "metadata": {},
   "outputs": [
    {
     "data": {
      "image/png": "[encoded data removed]",
      "text/plain": [
       "Plot with title “Frequency of deaths per episode”"
      ]
     },
     "metadata": {
      "image/png": {
       "height": 420,
       "width": 420
      },
      "text/plain": {
       "height": 420,
       "width": 420
      }
     },
     "output_type": "display_data"
    }
   ],
   "source": [
    "# Miramos como se distribuye el número de muertes por episodio\n",
    "death.table <- table(got$NumDeaths)\n",
    "\n",
    "barplot(death.table, xlab=\"Number of deaths\", ylab=\"Number of episodes\",\n",
    "       main = \"Frequency of deaths per episode\")"
   ]
  },
  {
   "cell_type": "code",
   "execution_count": 21,
   "metadata": {},
   "outputs": [
    {
     "name": "stdout",
     "output_type": "stream",
     "text": [
      "[1] 3.208955\n"
     ]
    }
   ],
   "source": [
    "# Esta es una distribución de Poisson\n",
    "# Sacamos los valores clave de la distrubución\n",
    "\n",
    "# lambda = valor medio de la distribución\n",
    "lambda <- mean(got$NumDeaths)\n",
    "print(lambda)"
   ]
  },
  {
   "cell_type": "markdown",
   "metadata": {},
   "source": [
    "Para que haya más de 4 muertes, hacemos:\n",
    "(1 - probabilidad que haya 4 muertes o menos)."
   ]
  },
  {
   "cell_type": "code",
   "execution_count": 30,
   "metadata": {},
   "outputs": [
    {
     "name": "stdout",
     "output_type": "stream",
     "text": [
      "[1] \"La probabilidad de que haya más de 4 muertos es 22.0984128004514 %\"\n"
     ]
    }
   ],
   "source": [
    "p.4 <- (1 - ppois(4, lambda))\n",
    "print(paste(\"La probabilidad de que haya más de 4 muertos es\",p.4*100,\"%\"))"
   ]
  },
  {
   "cell_type": "markdown",
   "metadata": {},
   "source": [
    "Para poder usar una distribución de Poisson, hay que asumir que los eventos son ocurren independientes del tiempo discurrido desde el evento anterior. \n",
    "Eso puede ser falso, ya que siendo una serie de televisión, se suelen agrupar eventos \"interesantes\", como por ejemplo la muerte de personajes importantes, al final de la temporada."
   ]
  },
  {
   "cell_type": "code",
   "execution_count": 31,
   "metadata": {},
   "outputs": [
    {
     "data": {
      "image/png": "[encoded data removed]",
      "text/plain": [
       "plot without title"
      ]
     },
     "metadata": {
      "image/png": {
       "height": 420,
       "width": 420
      },
      "text/plain": {
       "height": 420,
       "width": 420
      }
     },
     "output_type": "display_data"
    }
   ],
   "source": [
    "death.episode <- tapply(got$NumDeaths)\n",
    "\n",
    "barplot(got$NumDeaths)"
   ]
  },
  {
   "cell_type": "code",
   "execution_count": null,
   "metadata": {},
   "outputs": [],
   "source": []
  }
 ],
 "metadata": {
  "kernelspec": {
   "display_name": "R",
   "language": "R",
   "name": "ir"
  },
  "language_info": {
   "codemirror_mode": "r",
   "file_extension": ".r",
   "mimetype": "text/x-r-source",
   "name": "R",
   "pygments_lexer": "r",
   "version": "3.4.4"
  }
 },
 "nbformat": 4,
 "nbformat_minor": 2
}
