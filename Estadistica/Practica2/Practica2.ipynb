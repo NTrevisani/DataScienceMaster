{
 "cells": [
  {
   "cell_type": "markdown",
   "metadata": {},
   "source": [
    "# PRACTICA 2\n"
   ]
  },
  {
   "cell_type": "markdown",
   "metadata": {},
   "source": [
    "## Problema 1"
   ]
  },
  {
   "cell_type": "markdown",
   "metadata": {},
   "source": [
    "Consider an exam with 10 questions with 5 possible answers for each question, to which one has to randomly answer.\n",
    "\n",
    "Consider the random variable X = number of questions one guesses in the exam."
   ]
  },
  {
   "cell_type": "code",
   "execution_count": 30,
   "metadata": {},
   "outputs": [],
   "source": [
    "# The problem can be represented by a binomial distribution\n",
    "# with the following parameters\n",
    "\n",
    "# Number of repetitions of the binary experiment\n",
    "questions  <- 10\n",
    "\n",
    "# Success probability\n",
    "probability <- 0.2"
   ]
  },
  {
   "cell_type": "code",
   "execution_count": 31,
   "metadata": {},
   "outputs": [
    {
     "name": "stdout",
     "output_type": "stream",
     "text": [
      "[1] \"The expected value is: 2\"\n",
      "[1] \"The standard deviation is: 1,12\"\n"
     ]
    }
   ],
   "source": [
    "# Let's calculate the expected value\n",
    "# For a binomial distribution: \n",
    "# exp = n_repetitions * success_probability\n",
    "\n",
    "expected <- questions * probability\n",
    "print(paste(\"The expected value is:\", expected))\n",
    "\n",
    "# Now calculate the standard deviation\n",
    "# For a binomial distribution: \n",
    "# var = (n_repetitions * success_probability)(1 - success_probability) =\n",
    "# = exp * (1 - success_probability)\n",
    "# std.dev = sqrt(var)\n",
    "\n",
    "std.dev <- sqrt(expected*(1 - probability))\n",
    "\n",
    "print(paste(\"The standard deviation is:\", format(round(sqrt(std.dev), 2), nsmall = 2)))"
   ]
  },
  {
   "cell_type": "code",
   "execution_count": 32,
   "metadata": {},
   "outputs": [
    {
     "name": "stdout",
     "output_type": "stream",
     "text": [
      "[1] \"The probability to guess:\"\n",
      "[1] \"0 questions: 0,10737418\"\n",
      "[1] \"1 question: 0,26843546\"\n",
      "[1] \"2 questions: 0,30198989\"\n",
      "[1] \"3 questions: 0,20132659\"\n",
      "[1] \"4 questions: 0,08808038\"\n",
      "[1] \"5 questions: 0,02642412\"\n",
      "[1] \"6 questions: 0,00550502\"\n",
      "[1] \"7 questions: 0,00078643\"\n",
      "[1] \"8 questions: 7,373e-05\"\n",
      "[1] \"9 questions: 4,1e-06\"\n",
      "[1] \"10 questions: 1e-07\"\n",
      "[1] \"Luckily, the sum of all the probabilities is: 1\"\n"
     ]
    }
   ],
   "source": [
    "# Calculate the probability of guessing 0,1,2,..,10 questions\n",
    "\n",
    "# To do it, we need to evaluate the probability density function (p.d.f.)\n",
    "# so dbinom ('d' as density) is the R command we need\n",
    "prob.vec <- dbinom(0:10,questions,probability)\n",
    "\n",
    "print(\"The probability to guess:\")\n",
    "for (i in 0:10){\n",
    "    if (i == 1)\n",
    "        print(paste(i,\"question:\",format(round(prob.vec[i+1], 8), nsmall = 8)))\n",
    "    else\n",
    "        print(paste(i,\"questions:\",format(round(prob.vec[i+1], 8), nsmall = 8)))\n",
    "}\n",
    "\n",
    "print(paste(\"Luckily, the sum of all the probabilities is:\", sum(prob.vec)))"
   ]
  },
  {
   "cell_type": "code",
   "execution_count": 33,
   "metadata": {},
   "outputs": [
    {
     "name": "stdout",
     "output_type": "stream",
     "text": [
      "[1] \"The probability to guess at least:\"\n",
      "[1] \"0 questions: 0,10737418\"\n",
      "[1] \"1 question: 0,37580964\"\n",
      "[1] \"2 questions: 0,67779953\"\n",
      "[1] \"3 questions: 0,87912612\"\n",
      "[1] \"4 questions: 0,96720650\"\n",
      "[1] \"5 questions: 0,99363062\"\n",
      "[1] \"6 questions: 0,99913564\"\n",
      "[1] \"7 questions: 0,99992207\"\n",
      "[1] \"8 questions: 0,99999580\"\n",
      "[1] \"9 questions: 0,99999990\"\n",
      "[1] \"10 questions: 1,00000000\"\n"
     ]
    }
   ],
   "source": [
    "# Calculate the probability of guessing at least i questions\n",
    "\n",
    "# In this case, we have to evaluate the cumulative probability function, and \n",
    "# pbinom is the R command we need\n",
    "prob.cumulative <- pbinom(0:10, questions, probability)\n",
    "\n",
    "print(\"The probability to guess at least:\")\n",
    "for (i in 0:10){\n",
    "    if (i == 1)\n",
    "        print(paste(i,\"question:\",format(round(prob.cumulative[i+1], 8), nsmall = 8)))\n",
    "    else\n",
    "        print(paste(i,\"questions:\",format(round(prob.cumulative[i+1], 8), nsmall = 8)))\n",
    "}"
   ]
  },
  {
   "cell_type": "code",
   "execution_count": 35,
   "metadata": {},
   "outputs": [
    {
     "data": {
      "text/html": [
       "<strong>png:</strong> 2"
      ],
      "text/latex": [
       "\\textbf{png:} 2"
      ],
      "text/markdown": [
       "**png:** 2"
      ],
      "text/plain": [
       "png \n",
       "  2 "
      ]
     },
     "metadata": {},
     "output_type": "display_data"
    }
   ],
   "source": [
    "# Create a pdf file \n",
    "pdf(\"Guess_probabilities.pdf\")\n",
    "\n",
    "# Create a 2-panel graphics\n",
    "par(mfrow=c(2,1)) \n",
    "\n",
    "# Now, let's plot the probabilities...\n",
    "\n",
    "barplot(prob.vec, names.arg = c(0:10), xlab = \"Correct answers\", ylab = \"Probability\",\n",
    "       main = \"Probability to guess n correct answers\")\n",
    "\n",
    "# ... and the cumulative probabilities\n",
    "# (probability to guess at least n answers)\n",
    "\n",
    "barplot(prob.cumulative, names.arg = c(0:10), xlab = \"Minimum number of correct answers\", ylab = \"Probability\",\n",
    "       main = \"Probability to guess at least n correct answers\")\n",
    "\n",
    "# Close the pdf file to save the plots\n",
    "dev.off()"
   ]
  },
  {
   "cell_type": "markdown",
   "metadata": {},
   "source": [
    "The most probable number of correct answers is 2, which corresponds to the expected value.\n",
    "\n",
    "The interpretation is that is not a good idea to answer to this kind of exam randomly."
   ]
  },
  {
   "cell_type": "markdown",
   "metadata": {},
   "source": [
    "## Problema 2"
   ]
  },
  {
   "cell_type": "markdown",
   "metadata": {},
   "source": [
    "Consider the GOT.csv file containing the number of deaths during each of the first 67 episodes of Game of Thrones.\n"
   ]
  },
  {
   "cell_type": "code",
   "execution_count": 40,
   "metadata": {},
   "outputs": [
    {
     "name": "stderr",
     "output_type": "stream",
     "text": [
      "Warning message:\n",
      "“Missing column names filled in: 'X1' [1]”Parsed with column specification:\n",
      "cols(\n",
      "  X1 = \u001b[32mcol_double()\u001b[39m,\n",
      "  Season = \u001b[32mcol_double()\u001b[39m,\n",
      "  Episode = \u001b[32mcol_double()\u001b[39m,\n",
      "  NumDeaths = \u001b[32mcol_double()\u001b[39m\n",
      ")\n"
     ]
    },
    {
     "name": "stdout",
     "output_type": "stream",
     "text": [
      "Classes ‘spec_tbl_df’, ‘tbl_df’, ‘tbl’ and 'data.frame':\t67 obs. of  4 variables:\n",
      " $ X1       : num  1 2 3 4 5 6 7 8 9 10 ...\n",
      " $ Season   : num  1 1 1 1 1 1 1 1 1 1 ...\n",
      " $ Episode  : num  1 2 3 4 5 6 7 8 9 10 ...\n",
      " $ NumDeaths: num  4 3 0 1 5 4 2 7 2 3 ...\n",
      " - attr(*, \"spec\")=\n",
      "  .. cols(\n",
      "  ..   X1 = \u001b[32mcol_double()\u001b[39m,\n",
      "  ..   Season = \u001b[32mcol_double()\u001b[39m,\n",
      "  ..   Episode = \u001b[32mcol_double()\u001b[39m,\n",
      "  ..   NumDeaths = \u001b[32mcol_double()\u001b[39m\n",
      "  .. )\n"
     ]
    }
   ],
   "source": [
    "# Load the necessary library and the file\n",
    "\n",
    "# Useful to manage and plot data.frames\n",
    "library(\"tidyverse\")\n",
    "\n",
    "# Load the file\n",
    "got <- read_csv(\"GOT.csv\")\n",
    "str(got)"
   ]
  },
  {
   "cell_type": "markdown",
   "metadata": {},
   "source": [
    "The number of deaths in an episode can be considered as a random variable describing the probability of an event to happen in a specific time interval.\n",
    "\n",
    "If we assume that the distribution of the variable is not affected by the time elapsed since the last event, then we can describe it through a Poisson distribution."
   ]
  },
  {
   "cell_type": "code",
   "execution_count": 41,
   "metadata": {
    "scrolled": true
   },
   "outputs": [
    {
     "data": {
      "image/png": "[encoded data removed]",
      "text/plain": [
       "Plot with title “Number of deaths per episode”"
      ]
     },
     "metadata": {},
     "output_type": "display_data"
    }
   ],
   "source": [
    "# Let's see how the number of deaths per episode is distributed\n",
    "death.table <- table(got$NumDeaths)\n",
    "\n",
    "barplot(death.table, xlab=\"Number of deaths\", ylab=\"Number of episodes\",\n",
    "       main = \"Number of deaths per episode\")"
   ]
  },
  {
   "cell_type": "code",
   "execution_count": 42,
   "metadata": {},
   "outputs": [
    {
     "name": "stdout",
     "output_type": "stream",
     "text": [
      "[1] \"The expected value of deaths in an episode is 3,21\"\n",
      "[1] \"The standard deviation is 1,79\"\n"
     ]
    }
   ],
   "source": [
    "# The distribution, as we guessed, is very similar to a Poisson\n",
    "# Let's extract the key value of the distribution\n",
    "\n",
    "# lambda = mean value of the distribution\n",
    "# sqrt(lambda) = standard deviation of the distribution\n",
    "lambda <- mean(got$NumDeaths)\n",
    "print(paste(\"The expected value of deaths in an episode is\", format(round(lambda, 2), nsmall = 2)))\n",
    "print(paste(\"The standard deviation is\", format(round(sqrt(lambda), 2), nsmall = 2)))"
   ]
  },
  {
   "cell_type": "markdown",
   "metadata": {},
   "source": [
    "To calculate the probaility to have more than 4 deaths, we do:\n",
    "(1 - probability to have 4 or less deaths)."
   ]
  },
  {
   "cell_type": "code",
   "execution_count": 43,
   "metadata": {},
   "outputs": [
    {
     "name": "stdout",
     "output_type": "stream",
     "text": [
      "[1] \"The probability to have more than 4 deaths in an episode is 22,10 %\"\n"
     ]
    }
   ],
   "source": [
    "# The probability to have more than 4 deaths in an episode can be\n",
    "# calculated using the 'ppois' function.\n",
    "# Since 'ppois' returns the probability to have 4 or less deaths,\n",
    "# we have to consider (1 - ppois(4, lambda))\n",
    "\n",
    "p.4 <- (1 - ppois(4, lambda))\n",
    "print(paste(\"The probability to have more than 4 deaths in an episode is\", \n",
    "            format(round(p.4*100, 2), nsmall = 2),\"%\"))"
   ]
  },
  {
   "cell_type": "markdown",
   "metadata": {},
   "source": [
    "As said, the Poisson distribution describes processes in which the events happen independently on the time elapsed since the former event happened.\n",
    "This may not be the case in a TV fiction, in which interesting events (as the death of important characters) may cluster at the end of a season, to _hang_ the public until the beginning of the next season.\n",
    "Let's try to qualitatively test this hypotesis."
   ]
  },
  {
   "cell_type": "code",
   "execution_count": 45,
   "metadata": {
    "scrolled": true
   },
   "outputs": [
    {
     "data": {
      "image/png": "[encoded data removed]",
      "text/plain": [
       "Plot with title “Mean number of deaths per episode across the different seasons”"
      ]
     },
     "metadata": {},
     "output_type": "display_data"
    }
   ],
   "source": [
    "# Let's plot the distribution of the mean number of deaths per episode\n",
    "# versus the number of episode in the season\n",
    "death.episode.mean    <- c(tapply(X = got$NumDeaths, INDEX = got$Episode, mean))\n",
    "death.episode.std.dev <- c(tapply(X = got$NumDeaths, INDEX = got$Episode, sd))\n",
    "\n",
    "death.episode.std.dev.up   <- death.episode.mean + death.episode.std.dev\n",
    "death.episode.std.dev.down <- death.episode.mean - death.episode.std.dev\n",
    "\n",
    "plot(c(1:10), death.episode.mean, ylim = c(0,9), type = \"l\",\n",
    "    xlab = \"Episode\", ylab = \"Mean number of deaths\",\n",
    "    main = \"Mean number of deaths per episode across the different seasons\")\n",
    "\n",
    "polygon(c(c(1:10), c(10:1)), c(death.episode.std.dev.up, rev(death.episode.std.dev.down)), col = \"grey80\", border = NA)\n",
    "lines(c(1:10), death.episode.mean, ylim = c(0,9))\n",
    "\n",
    "legend(\"topleft\",lty=1, \n",
    "       \"Deaths per episode +- std. dev.\", \n",
    "       col = \"black\",\n",
    "       fill = \"grey80\")"
   ]
  },
  {
   "cell_type": "markdown",
   "metadata": {},
   "source": [
    "It is evident in the previous bar plot that the last episodes of a season count more deaths than the first ones.\n",
    "\n",
    "In particular, this fact makes the distribution not flat (as it should in a real Poisson). \n",
    "\n",
    "As it can be seen, there is a trend that makes the number of deaths to increase when approaching the end of a season. In any case, the large error bars seem allow the assumption that the distribution is not incompatible with a flat probability. \n",
    "\n",
    "In other words, our approximation (a Poisson distribution can describe our variable) is a good starting point to try and estimate the probability for a certain number of deaths to happen in an episode."
   ]
  },
  {
   "cell_type": "code",
   "execution_count": 12,
   "metadata": {},
   "outputs": [
    {
     "name": "stdout",
     "output_type": "stream",
     "text": [
      "[1] \"The probability to have:\"\n",
      "[1] \"0 deaths: 0,04039880\"\n",
      "[1] \"1 death: 0,12963794\"\n",
      "[1] \"2 deaths: 0,20800117\"\n",
      "[1] \"3 deaths: 0,22248881\"\n",
      "[1] \"4 deaths: 0,17848916\"\n",
      "[1] \"5 deaths: 0,11455274\"\n",
      "[1] \"6 deaths: 0,06126577\"\n",
      "[1] \"7 deaths: 0,02808559\"\n",
      "[1] \"8 deaths: 0,01126567\"\n",
      "[1] \"9 deaths: 0,00401678\"\n",
      "[1] \"10 deaths: 0,00128897\"\n",
      "[1] \"In this, the sum of these probabilities is: 0,99949140\"\n",
      "[1] \"This means that the probability to have more than 10 deaths in an episode is 0,00050860\"\n"
     ]
    }
   ],
   "source": [
    "# To estimate the probability to have exactly n deaths\n",
    "# in an espisode, we have to evaluate the probability density function,\n",
    "# by using 'dpois'\n",
    "death.prob <- dpois(0:10, lambda)\n",
    "\n",
    "print(\"The probability to have:\")\n",
    "for (i in 0:10){\n",
    "    if (i == 1)\n",
    "        print(paste(i,\"death:\",format(round(death.prob[i+1], 8), nsmall = 8)))\n",
    "    else\n",
    "    print(paste(i,\"deaths:\",format(round(death.prob[i+1], 8), nsmall = 8)))\n",
    "}\n",
    "\n",
    "print(paste(\"In this case, the sum of these probabilities is:\",format(round(sum(death.prob), 8), nsmall = 8)))\n",
    "print(paste(\"This means that the probability to have more than 10 deaths in an episode is\", \n",
    "            format(round(1 - sum(death.prob), 8), nsmall = 8)))"
   ]
  },
  {
   "cell_type": "markdown",
   "metadata": {},
   "source": [
    "In this case, the sum of the probabilities to observe a number of deaths between 0 and 10 is not 1.\n",
    "In fact, nothing says that there is a maximum number of deaths per episode: the tail of the Poisson distribution can reach very high values, even if with an almost zero probability."
   ]
  },
  {
   "cell_type": "markdown",
   "metadata": {},
   "source": [
    "## Problema 3"
   ]
  },
  {
   "cell_type": "markdown",
   "metadata": {},
   "source": [
    "Cholesterol level has been measured in a sample of people to have a mean of 180 mg/dL and a standard deviation of 25 mg/dL."
   ]
  },
  {
   "cell_type": "code",
   "execution_count": 47,
   "metadata": {},
   "outputs": [],
   "source": [
    "# The distribution describing this measurement is a gaussian (normal)\n",
    "# with the following parameters:\n",
    "\n",
    "# Mean of the distribution and expected value\n",
    "mean <- 180\n",
    "\n",
    "# Standard deviation\n",
    "std.dev <- 25"
   ]
  },
  {
   "cell_type": "code",
   "execution_count": 48,
   "metadata": {},
   "outputs": [
    {
     "name": "stdout",
     "output_type": "stream",
     "text": [
      "[1] \"The probability for a person to have more than 225 mg/dL of cholesterol is: 0,0359\"\n"
     ]
    }
   ],
   "source": [
    "# To get the probability of a person to have more than 225 mg/dL\n",
    "# we have to calculate the cumulative until 225 mg/dL and \n",
    "# take (1 - cumulative(225 mg/dL))\n",
    "\n",
    "prob.more.225 <- 1 - pnorm(225,180,25)\n",
    "print(paste(\"The probability for a person to have more than 225 mg/dL of cholesterol is:\",\n",
    "            format(round(prob.more.225, 4), nsmall = 4)))"
   ]
  },
  {
   "cell_type": "code",
   "execution_count": 49,
   "metadata": {},
   "outputs": [
    {
     "name": "stdout",
     "output_type": "stream",
     "text": [
      "[1] \"95% of the population has a value of cholesterol of: 221 or less\"\n"
     ]
    }
   ],
   "source": [
    "# To get the value of cholesterol that encloses the 95%\n",
    "# of the population, we have to use the 'qnorm' ('q' as quantile) \n",
    "# function\n",
    "\n",
    "p <- 0.95\n",
    "\n",
    "perc.95 <- qnorm(p,mean,std.dev)\n",
    "print(paste(\"95% of the population has a value of cholesterol of:\",\n",
    "            format(round(perc.95, 0), nsmall = 0),\"or less\"))"
   ]
  },
  {
   "cell_type": "code",
   "execution_count": 51,
   "metadata": {},
   "outputs": [],
   "source": [
    "# Considering that the mean value of cholesterol is 180 mg/dL\n",
    "# and that it cannot assume negative values, it makes sense to \n",
    "# plot the probability density function (p.d.f.) and the \n",
    "# distribution function between 0 and 360.\n",
    "\n",
    "# Define x coordinate\n",
    "x <- seq(0, 360, length=3600)\n",
    "\n",
    "# Produce a vector with the p.d.f. evaluated\n",
    "# in each point of x\n",
    "pdf <- dnorm(x,mean,std.dev)\n",
    "\n",
    "# Produce a vector with the distribution function evaluated\n",
    "# in each point of x\n",
    "dist.func <- pnorm(x,mean,std.dev)"
   ]
  },
  {
   "cell_type": "code",
   "execution_count": 52,
   "metadata": {},
   "outputs": [
    {
     "data": {
      "text/html": [
       "<strong>png:</strong> 2"
      ],
      "text/latex": [
       "\\textbf{png:} 2"
      ],
      "text/markdown": [
       "**png:** 2"
      ],
      "text/plain": [
       "png \n",
       "  2 "
      ]
     },
     "metadata": {},
     "output_type": "display_data"
    }
   ],
   "source": [
    "# Now plot the distributions and save them into a pdf file\n",
    "\n",
    "# Save everything that follows in\n",
    "# \"Gaussian_distribution.pdf\"\n",
    "pdf(\"Gaussian_distribution.pdf\")\n",
    "\n",
    "par(mfrow=c(2,1)) \n",
    "\n",
    "# p.d.f. plot\n",
    "plot(x, pdf, type=\"l\", lty=1, \n",
    "     xlab=\"Cholesterol level [mg/dL]\", ylab=\"Probability density\", \n",
    "     main=\"Probability density function of cholesterol level\")\n",
    "\n",
    "# Distribution function plot\n",
    "plot(x, dist.func, type=\"l\", lty=1, \n",
    "     xlab=\"Cholesterol level [mg/dL]\", ylab=\"Distribution function\", \n",
    "     main=\"Distribution function of cholesterol level\")\n",
    "\n",
    "# Stop saving things in \"Gaussian_distribution.pdf\"\n",
    "dev.off()"
   ]
  },
  {
   "cell_type": "markdown",
   "metadata": {},
   "source": [
    "## Problema 4"
   ]
  },
  {
   "cell_type": "markdown",
   "metadata": {},
   "source": [
    "In the 'results.csv' file, the results of 40838 international football matches are stored.\n",
    "In the 'home_score' column, the goal scored by local team in each match are listed.\n",
    "In the 'home_team' column, the local team in each match is shown."
   ]
  },
  {
   "cell_type": "code",
   "execution_count": 4,
   "metadata": {},
   "outputs": [
    {
     "name": "stderr",
     "output_type": "stream",
     "text": [
      "── \u001b[1mAttaching packages\u001b[22m ─────────────────────────────────────── tidyverse 1.2.1 ──\n",
      "\u001b[32m✔\u001b[39m \u001b[34mggplot2\u001b[39m 3.2.1     \u001b[32m✔\u001b[39m \u001b[34mpurrr  \u001b[39m 0.3.2\n",
      "\u001b[32m✔\u001b[39m \u001b[34mtibble \u001b[39m 2.1.3     \u001b[32m✔\u001b[39m \u001b[34mdplyr  \u001b[39m 0.8.3\n",
      "\u001b[32m✔\u001b[39m \u001b[34mtidyr  \u001b[39m 1.0.0     \u001b[32m✔\u001b[39m \u001b[34mstringr\u001b[39m 1.4.0\n",
      "\u001b[32m✔\u001b[39m \u001b[34mreadr  \u001b[39m 1.3.1     \u001b[32m✔\u001b[39m \u001b[34mforcats\u001b[39m 0.4.0\n",
      "── \u001b[1mConflicts\u001b[22m ────────────────────────────────────────── tidyverse_conflicts() ──\n",
      "\u001b[31m✖\u001b[39m \u001b[34mdplyr\u001b[39m::\u001b[32mfilter()\u001b[39m masks \u001b[34mstats\u001b[39m::filter()\n",
      "\u001b[31m✖\u001b[39m \u001b[34mdplyr\u001b[39m::\u001b[32mlag()\u001b[39m    masks \u001b[34mstats\u001b[39m::lag()\n",
      "Parsed with column specification:\n",
      "cols(\n",
      "  date = \u001b[34mcol_date(format = \"\")\u001b[39m,\n",
      "  home_team = \u001b[31mcol_character()\u001b[39m,\n",
      "  away_team = \u001b[31mcol_character()\u001b[39m,\n",
      "  home_score = \u001b[32mcol_double()\u001b[39m,\n",
      "  away_score = \u001b[32mcol_double()\u001b[39m,\n",
      "  tournament = \u001b[31mcol_character()\u001b[39m,\n",
      "  city = \u001b[31mcol_character()\u001b[39m,\n",
      "  country = \u001b[31mcol_character()\u001b[39m,\n",
      "  neutral = \u001b[33mcol_logical()\u001b[39m\n",
      ")\n"
     ]
    },
    {
     "name": "stdout",
     "output_type": "stream",
     "text": [
      "Classes ‘spec_tbl_df’, ‘tbl_df’, ‘tbl’ and 'data.frame':\t40945 obs. of  9 variables:\n",
      " $ date      : Date, format: \"1872-11-30\" \"1873-03-08\" ...\n",
      " $ home_team : chr  \"Scotland\" \"England\" \"Scotland\" \"England\" ...\n",
      " $ away_team : chr  \"England\" \"Scotland\" \"England\" \"Scotland\" ...\n",
      " $ home_score: num  0 4 2 2 3 4 1 0 7 9 ...\n",
      " $ away_score: num  0 2 1 2 0 0 3 2 2 0 ...\n",
      " $ tournament: chr  \"Friendly\" \"Friendly\" \"Friendly\" \"Friendly\" ...\n",
      " $ city      : chr  \"Glasgow\" \"London\" \"Glasgow\" \"London\" ...\n",
      " $ country   : chr  \"Scotland\" \"England\" \"Scotland\" \"England\" ...\n",
      " $ neutral   : logi  FALSE FALSE FALSE FALSE FALSE FALSE ...\n",
      " - attr(*, \"spec\")=\n",
      "  .. cols(\n",
      "  ..   date = \u001b[34mcol_date(format = \"\")\u001b[39m,\n",
      "  ..   home_team = \u001b[31mcol_character()\u001b[39m,\n",
      "  ..   away_team = \u001b[31mcol_character()\u001b[39m,\n",
      "  ..   home_score = \u001b[32mcol_double()\u001b[39m,\n",
      "  ..   away_score = \u001b[32mcol_double()\u001b[39m,\n",
      "  ..   tournament = \u001b[31mcol_character()\u001b[39m,\n",
      "  ..   city = \u001b[31mcol_character()\u001b[39m,\n",
      "  ..   country = \u001b[31mcol_character()\u001b[39m,\n",
      "  ..   neutral = \u001b[33mcol_logical()\u001b[39m\n",
      "  .. )\n"
     ]
    }
   ],
   "source": [
    "# Load the necessary library and the file\n",
    "\n",
    "# Useful to manage and plot data.frames\n",
    "library(\"tidyverse\")\n",
    "\n",
    "# Load the file\n",
    "results <- read_csv(\"results.csv\")\n",
    "str(results)"
   ]
  },
  {
   "cell_type": "markdown",
   "metadata": {},
   "source": [
    "The number of goals scored in a football match is a variable describing an event that can happen in a specific time interval, so that we can expect its distribution to follow the Poisson function.\n",
    "\n",
    "Let's try to verify it by inspecting the distribution of goals scored by Spain as local team."
   ]
  },
  {
   "cell_type": "code",
   "execution_count": 5,
   "metadata": {},
   "outputs": [
    {
     "name": "stdout",
     "output_type": "stream",
     "text": [
      "Classes ‘spec_tbl_df’, ‘tbl_df’, ‘tbl’ and 'data.frame':\t357 obs. of  9 variables:\n",
      " $ date      : Date, format: \"1921-12-18\" \"1923-01-28\" ...\n",
      " $ home_team : chr  \"Spain\" \"Spain\" \"Spain\" \"Spain\" ...\n",
      " $ away_team : chr  \"Portugal\" \"France\" \"Portugal\" \"Austria\" ...\n",
      " $ home_score: num  3 3 3 2 1 4 1 1 5 8 ...\n",
      " $ away_score: num  1 0 0 1 0 2 0 1 0 1 ...\n",
      " $ tournament: chr  \"Friendly\" \"Friendly\" \"Friendly\" \"Friendly\" ...\n",
      " $ city      : chr  \"Madrid\" \"San Sebastián\" \"Seville\" \"Barcelona\" ...\n",
      " $ country   : chr  \"Spain\" \"Spain\" \"Spain\" \"Spain\" ...\n",
      " $ neutral   : logi  FALSE FALSE FALSE FALSE FALSE FALSE ...\n",
      " - attr(*, \"spec\")=\n",
      "  .. cols(\n",
      "  ..   date = \u001b[34mcol_date(format = \"\")\u001b[39m,\n",
      "  ..   home_team = \u001b[31mcol_character()\u001b[39m,\n",
      "  ..   away_team = \u001b[31mcol_character()\u001b[39m,\n",
      "  ..   home_score = \u001b[32mcol_double()\u001b[39m,\n",
      "  ..   away_score = \u001b[32mcol_double()\u001b[39m,\n",
      "  ..   tournament = \u001b[31mcol_character()\u001b[39m,\n",
      "  ..   city = \u001b[31mcol_character()\u001b[39m,\n",
      "  ..   country = \u001b[31mcol_character()\u001b[39m,\n",
      "  ..   neutral = \u001b[33mcol_logical()\u001b[39m\n",
      "  .. )\n"
     ]
    }
   ],
   "source": [
    "# Select only the matches in which Spain plays at home\n",
    "spain.local.goals <- filter(results, home_team == \"Spain\")\n",
    "str(spain.local.goals)"
   ]
  },
  {
   "cell_type": "code",
   "execution_count": 6,
   "metadata": {},
   "outputs": [
    {
     "data": {
      "image/png": "[encoded data removed]",
      "text/plain": [
       "Plot with title “Number of goals scored by Spanish selection per home match”"
      ]
     },
     "metadata": {},
     "output_type": "display_data"
    }
   ],
   "source": [
    "# Create a table of frequencies for the goals scored\n",
    "goal.table <- table(spain.local.goals$home_score)\n",
    "\n",
    "# Represent the distribution\n",
    "barplot(goal.table, xlab = \"Number of goals\", ylab = \"Number of matches\",\n",
    "       main = \"Number of goals scored by Spanish selection per home match\")"
   ]
  },
  {
   "cell_type": "markdown",
   "metadata": {},
   "source": [
    "The plots really looks like the one produced by a Poisson distribution."
   ]
  },
  {
   "cell_type": "code",
   "execution_count": 10,
   "metadata": {},
   "outputs": [
    {
     "name": "stdout",
     "output_type": "stream",
     "text": [
      "[1] \"The probability to score more than 3 goals in the next match is 0,21\"\n"
     ]
    }
   ],
   "source": [
    "# Let's extract the key value 'lambda' of the distribution (its mean)\n",
    "\n",
    "lambda <- mean(spain.local.goals$home_score)\n",
    "\n",
    "# To estimate the probability to score more than 3 goals\n",
    "# in the next match, we can calculate the probability\n",
    "# of scoring 3 or less goals and take the complementary\n",
    "\n",
    "prob.more.3 <- (1 - ppois(3,lambda))\n",
    "\n",
    "print(paste(\"The probability to score more than 3 goals in the next match is\", format(round(prob.more.3, 2), nsmall = 2)))"
   ]
  },
  {
   "cell_type": "markdown",
   "metadata": {},
   "source": [
    "Of course, this estimation relies on the fact that the probability to score a certain amount of goals in a match is the same in every match and does not take into account the fact the not all the teams are at the same level, so it is easier to score more goals against a weaker team than against a stronger team."
   ]
  },
  {
   "cell_type": "markdown",
   "metadata": {},
   "source": [
    "As in exercise 2, the probability to score exactly **n** goals is obtained by evaluating the probability density function by using the _dpois_ command."
   ]
  },
  {
   "cell_type": "code",
   "execution_count": 16,
   "metadata": {},
   "outputs": [
    {
     "name": "stdout",
     "output_type": "stream",
     "text": [
      "[1] \"The probability to score:\"\n",
      "[1] \"0 goals: 0,09724398\"\n",
      "[1] \"1 goal: 0,22663023\"\n",
      "[1] \"2 goals: 0,26408452\"\n",
      "[1] \"3 goals: 0,20515249\"\n",
      "[1] \"4 goals: 0,11952862\"\n",
      "[1] \"5 goals: 0,05571306\"\n",
      "[1] \"6 goals: 0,02164018\"\n",
      "[1] \"7 goals: 0,00720473\"\n",
      "[1] \"8 goals: 0,00209886\"\n",
      "[1] \"9 goals: 0,00054350\"\n",
      "[1] \"10 goals: 0,00012666\"\n",
      "[1] \"In this case, the sum of these probabilities is: 0,99996683\"\n",
      "[1] \"This means that the probability to score more than 10 goals in a match is 3,317e-05\"\n",
      "[1] \"The most probable number of goals scored is 2\"\n"
     ]
    }
   ],
   "source": [
    "prob.goal <- dpois(0:10, lambda)\n",
    "\n",
    "print(\"The probability to score:\")\n",
    "for (i in 0:10){\n",
    "    if (i == 1)\n",
    "        print(paste(i,\"goal:\",format(round(prob.goal[i+1], 8), nsmall = 8)))\n",
    "    else\n",
    "    print(paste(i,\"goals:\",format(round(prob.goal[i+1], 8), nsmall = 8)))\n",
    "}\n",
    "\n",
    "print(paste(\"In this case, the sum of these probabilities is:\",format(round(sum(prob.goal), 8), nsmall = 8)))\n",
    "print(paste(\"This means that the probability to score more than 10 goals in a match is\", \n",
    "            format(round(1 - sum(prob.goal), 8), nsmall = 8)))\n",
    "print(paste(\"The most probable number of goals scored is 2\"))"
   ]
  },
  {
   "cell_type": "markdown",
   "metadata": {},
   "source": [
    "A bookmaker pays 4 Euros for every Euro you bet (you gain 3 Euros) if Spain scores more than 3 goals in the next home match, otherwise you loose the Euro you bet. \n",
    "\n",
    "Is it a good idea to bet?\n",
    "\n",
    "To decide this, we have to evaluate the expected amount of money we gain if we bet."
   ]
  },
  {
   "cell_type": "code",
   "execution_count": 28,
   "metadata": {},
   "outputs": [
    {
     "name": "stdout",
     "output_type": "stream",
     "text": [
      "[1] \"The expectation is that for every euro we play, we lose 0,17 euros\"\n",
      "[1] \"I would not bet.\"\n"
     ]
    }
   ],
   "source": [
    "# Probability to win\n",
    "p.win <- prob.more.3\n",
    "\n",
    "# What we win\n",
    "money.win <- 3\n",
    "\n",
    "\n",
    "# Probability to lose\n",
    "p.lose <- 1 - p.win\n",
    "\n",
    "# What we loose\n",
    "money.lose <- 1\n",
    "\n",
    "\n",
    "# Expected amount of money gained\n",
    "money <- (p.win * money.win) - (p.lose * money.lose)\n",
    "\n",
    "# Result:\n",
    "\n",
    "word <- 0\n",
    "phrase <-0\n",
    "\n",
    "if(money > 0){\n",
    "    word <- \"win\"\n",
    "    phrase <- \"Let's bet!\"    \n",
    "} else{\n",
    "    word <- \"lose\"\n",
    "    phrase <- \"I would not bet.\"\n",
    "}\n",
    "    \n",
    "print(paste(\"The expectation is that for every euro we play, we\",word,format(round(abs(money), 2), nsmall = 2),\"euros\"))\n",
    "print(phrase)"
   ]
  }
 ],
 "metadata": {
  "kernelspec": {
   "display_name": "R",
   "language": "R",
   "name": "ir"
  },
  "language_info": {
   "codemirror_mode": "r",
   "file_extension": ".r",
   "mimetype": "text/x-r-source",
   "name": "R",
   "pygments_lexer": "r",
   "version": "3.6.1"
  }
 },
 "nbformat": 4,
 "nbformat_minor": 2
}
