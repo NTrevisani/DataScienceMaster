{
 "cells": [
  {
   "cell_type": "markdown",
   "metadata": {},
   "source": [
    "# Parte 1\n",
    "\n",
    "Escribe una función de R que reciba un vector de números x (la muestra), y genere una muestra bootstrap de ese vector."
   ]
  },
  {
   "cell_type": "code",
   "execution_count": 9,
   "metadata": {},
   "outputs": [],
   "source": [
    "my.bootstrap <- function(vec.x){\n",
    "    my.N <- length(vec.x)\n",
    "    my.sample <- sample(1:my.N,my.N,replace=T)\n",
    "    return(vec.x[my.sample])\n",
    "}"
   ]
  },
  {
   "cell_type": "markdown",
   "metadata": {},
   "source": [
    "# Parte 2\n",
    "\n",
    "Utilizando la función anterior, escribe una función que reciba un vector de números x (la muestra original) y un número natural N, y que genere una matrix que tenga N columnas, siendo cada una una de las muestras de bootstrap."
   ]
  },
  {
   "cell_type": "code",
   "execution_count": 49,
   "metadata": {},
   "outputs": [],
   "source": [
    "my.bootstrap.generator <- function(my.x, n.samples){\n",
    "    my.bootstrap.matrix <- matrix(, nrow = length(my.x), ncol = 0)\n",
    "    for(i in 1:n.samples){\n",
    "        my.bootstrap.matrix <- cbind(my.bootstrap.matrix, my.bootstrap(my.x))\n",
    "    }\n",
    "    return(my.bootstrap.matrix)\n",
    "}"
   ]
  },
  {
   "cell_type": "markdown",
   "metadata": {},
   "source": [
    "# Parte 3\n",
    "\n",
    "Escribe una función de R que reciba un vector de números x (la muestra) y genere una matriz que contenga TODAS las muestras jacknife con el mismo formato del ejercicio anterior."
   ]
  },
  {
   "cell_type": "code",
   "execution_count": 48,
   "metadata": {},
   "outputs": [],
   "source": [
    "my.jackknife.generator <- function(my.x){\n",
    "    my.jackknife.length <- length(my.x) - 1\n",
    "    my.jackknife.matrix <- matrix(, nrow = my.jackknife.length, ncol = 0)\n",
    "    for(i in 1:my.jackknife.length){\n",
    "        my.jackknife.matrix <- cbind(my.jackknife.matrix, my.x[-i])\n",
    "    }\n",
    "    return(my.jackknife.matrix)\n",
    "}"
   ]
  },
  {
   "cell_type": "markdown",
   "metadata": {},
   "source": [
    "# Parte 4\n",
    "\n",
    "Utilizando las funciones anteriores considera la desviación estándar de la media muestral para una muestra de: \n",
    "\n",
    "$M = 1000$ \n",
    "\n",
    "que se distribuya como en el ejercicio 1 (gaussiana centrada en 1.70m y $\\sigma$=0.1). \n",
    "\n",
    "Compara la desviación estándar obtenida, con la obtenida con bootstrap."
   ]
  },
  {
   "cell_type": "code",
   "execution_count": 44,
   "metadata": {},
   "outputs": [],
   "source": [
    "# Fijo los parametros\n",
    "my.mean  <- 1.7\n",
    "my.sigma <- 0.1\n",
    "\n",
    "# orignal sample size\n",
    "M <- 1000\n",
    "\n",
    "# Fijo el numero N de muestras de bootstrap\n",
    "N = 5000"
   ]
  },
  {
   "cell_type": "code",
   "execution_count": 45,
   "metadata": {},
   "outputs": [
    {
     "name": "stdout",
     "output_type": "stream",
     "text": [
      "[1] 1.695491\n",
      "[1] 0.100663\n"
     ]
    }
   ],
   "source": [
    "# Genero la muestra original\n",
    "my.x = rnorm(M,my.mean,my.sigma)\n",
    "\n",
    "# Pinto la media y la desviacion standard\n",
    "meas.mean <- mean(my.x)\n",
    "meas.sd   <- sd(my.x)\n",
    "\n",
    "print(meas.mean)\n",
    "print(meas.sd)"
   ]
  },
  {
   "cell_type": "markdown",
   "metadata": {},
   "source": [
    "La desviación estandard de la media muestral va como:\n",
    "\n",
    "$\\sigma(\\bar{X}) = \\frac{\\sigma}{\\sqrt{M}}$"
   ]
  },
  {
   "cell_type": "markdown",
   "metadata": {},
   "source": [
    "Nosotros tenemos:\n",
    "- $\\sigma$ = 0.1\n",
    "- M = 1000\n",
    "\n",
    "Así que:\n",
    "\n",
    "$\\sigma(\\bar{X}) = \\frac{\\sigma}{\\sqrt{M}} = \\frac{0.1}{\\sqrt{1000}} = \\frac{0.1}{31.6} = 0.00316$"
   ]
  },
  {
   "cell_type": "markdown",
   "metadata": {},
   "source": [
    "Vemos ahora qué sale haciendo la media de las muestras de bootstrap:"
   ]
  },
  {
   "cell_type": "code",
   "execution_count": 46,
   "metadata": {},
   "outputs": [
    {
     "name": "stdout",
     "output_type": "stream",
     "text": [
      "[1] \"1000 samples produced...\"\n",
      "[1] \"2000 samples produced...\"\n",
      "[1] \"3000 samples produced...\"\n",
      "[1] \"4000 samples produced...\"\n",
      "[1] \"5000 samples produced...\"\n"
     ]
    }
   ],
   "source": [
    "# Produzco las muestras bootstrap\n",
    "my.bootstrap.samples <- my.bootstrap.generator(my.x, N)"
   ]
  },
  {
   "cell_type": "code",
   "execution_count": 47,
   "metadata": {},
   "outputs": [
    {
     "name": "stdout",
     "output_type": "stream",
     "text": [
      "[1] \"Media muestral de las 5000 muestras de bootstrap:\"\n"
     ]
    },
    {
     "data": {
      "text/html": [
       "1.69555653135646"
      ],
      "text/latex": [
       "1.69555653135646"
      ],
      "text/markdown": [
       "1.69555653135646"
      ],
      "text/plain": [
       "[1] 1.695557"
      ]
     },
     "metadata": {},
     "output_type": "display_data"
    },
    {
     "name": "stdout",
     "output_type": "stream",
     "text": [
      "[1] \"Desviación típica de la media muestral de las 5000 muestras de bootstrap:\"\n"
     ]
    },
    {
     "data": {
      "text/html": [
       "0.00321133004201061"
      ],
      "text/latex": [
       "0.00321133004201061"
      ],
      "text/markdown": [
       "0.00321133004201061"
      ],
      "text/plain": [
       "[1] 0.00321133"
      ]
     },
     "metadata": {},
     "output_type": "display_data"
    },
    {
     "name": "stdout",
     "output_type": "stream",
     "text": [
      "[1] \"Valor esperado de la desviación típica de la media muestral de una muestra de 1000 elementos:\"\n"
     ]
    },
    {
     "data": {
      "text/html": [
       "0.00318324343512623"
      ],
      "text/latex": [
       "0.00318324343512623"
      ],
      "text/markdown": [
       "0.00318324343512623"
      ],
      "text/plain": [
       "[1] 0.003183243"
      ]
     },
     "metadata": {},
     "output_type": "display_data"
    }
   ],
   "source": [
    "my.bootstrap.mean <- apply(my.bootstrap.samples, MARGIN = 2, FUN = mean)\n",
    "\n",
    "print(paste(\"Media muestral de las\", N, \"muestras de bootstrap:\"))\n",
    "means <- mean(my.bootstrap.mean)\n",
    "means\n",
    "\n",
    "print(paste(\"Desviación típica de la media muestral de las\", N, \"muestras de bootstrap:\"))\n",
    "sds <- sqrt(1/(N-1)*sum((my.bootstrap.mean - meas.mean)^2))\n",
    "sds\n",
    "\n",
    "print(paste(\"Valor esperado de la desviación típica de la media muestral de una muestra de\", M, \"elementos:\"))\n",
    "meas.sd / sqrt(M)"
   ]
  },
  {
   "cell_type": "markdown",
   "metadata": {},
   "source": [
    "# Parte 5\n",
    "\n",
    "Repite el ejercicio anterior utilizando la técnica jackknife. ¿Cuál da mejor resultado?   "
   ]
  },
  {
   "cell_type": "code",
   "execution_count": 39,
   "metadata": {},
   "outputs": [
    {
     "name": "stdout",
     "output_type": "stream",
     "text": [
      "[1] 100\n",
      "[1] 200\n",
      "[1] 300\n",
      "[1] 400\n",
      "[1] 500\n",
      "[1] 600\n",
      "[1] 700\n",
      "[1] 800\n",
      "[1] 900\n"
     ]
    }
   ],
   "source": [
    "my.jackknife.samples <- my.jackknife.generator(my.x)"
   ]
  },
  {
   "cell_type": "code",
   "execution_count": null,
   "metadata": {},
   "outputs": [],
   "source": [
    "my.jackknife.mean <- apply(my.jackknife.samples, MARGIN = 2, FUN = mean)\n",
    "\n",
    "print(paste(\"Media muestral de las\", M, \"muestras de jackknife:\"))\n",
    "means <- mean(my.jackknife.mean)\n",
    "means\n",
    "\n",
    "print(paste(\"Desviación típica de la media muestral de las\", M, \"muestras de jackknife:\"))\n",
    "sds <- sqrt(M/(M-1)*sum((my.jackknife.mean - meas.mean)^2))\n",
    "sds\n",
    "\n",
    "print(paste(\"Valor esperado de la desviación típica de la media muestral de una muestra de\", M, \"elementos:\"))\n",
    "meas.sd / sqrt(M)"
   ]
  },
  {
   "cell_type": "markdown",
   "metadata": {},
   "source": [
    "Gracias a las técnica de remuestreo, hemos logrado mejorar el conocimiento sobre la media de la distribución.\n",
    "\n",
    "Hemos podido pasar de asignar a la media una incertidumbre igual a la desviación típica de la misma muestra ($\\sigma$), a un valor más pequeño, correspondiente a $\\frac{\\sigma}{\\sqrt{M}}$, con M número de eventos de la muestra.\n",
    "\n",
    "Este resultado particular se corresponde a un valor esperado ($\\sigma_{media-muestral}$ = $\\frac{\\sigma}{\\sqrt{M}}$) porque estamos tratando una distribución conocida, en particular una gaussiana.\n",
    "De alguna manera, hemos verificado empiricamente que el remuestreo funciona, comparando el resultado esperado con el resultado obtenido para una distribución gaussiana.\n",
    "\n",
    "Típicamente, la p.d.f. subjacente no es conocida, y es en ese caso cuando las técnicas de remuestreo son más utiles.\n",
    "\n",
    "Si queremos comparar la técnica de bootstrap con la técnica de jackknife, tenemos que considerar que el número de muestras que podemos generar es distinto:\n",
    "- jackknife: M;\n",
    "- bootstrap: M$^{\\textit{M}}$\n",
    "\n",
    "Por eso, sobre todo si las muestras son pequeñas, bootstrap proporciona resultados más fiables, ya que es capaz de proporcionar un número de pseudo-muestras más alto.\n",
    "Ese número puede además ser ajustado a las caracteristicas del problema que se tiene que resolver, buscando el mejor compromiso entre número de muestras y tiempo o capacidad de computación disponible."
   ]
  }
 ],
 "metadata": {
  "kernelspec": {
   "display_name": "R",
   "language": "R",
   "name": "ir"
  },
  "language_info": {
   "codemirror_mode": "r",
   "file_extension": ".r",
   "mimetype": "text/x-r-source",
   "name": "R",
   "pygments_lexer": "r",
   "version": "3.6.1"
  }
 },
 "nbformat": 4,
 "nbformat_minor": 2
}
