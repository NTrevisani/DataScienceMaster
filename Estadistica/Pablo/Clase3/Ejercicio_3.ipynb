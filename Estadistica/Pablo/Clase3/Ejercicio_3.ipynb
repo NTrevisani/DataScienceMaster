{
 "cells": [
  {
   "cell_type": "markdown",
   "metadata": {},
   "source": [
    "## Parte 1"
   ]
  },
  {
   "cell_type": "markdown",
   "metadata": {},
   "source": [
    "Crea una función como la del ejercicio 2 en la que se pase como input: \n",
    "- un vector 'x' con la variable independiente; \n",
    "- un parámetro 'a';\n",
    "- un parámetro 'b' \n",
    "- un valor 'sigma'; \n",
    "\n",
    "que devuelva un vector 'y' que esté distribuido como una función normal con media: \n",
    "\n",
    "$\\bar{y} = ax + b$\n",
    "\n",
    "y $\\sigma$ = 'sigma'. "
   ]
  },
  {
   "cell_type": "code",
   "execution_count": 2,
   "metadata": {},
   "outputs": [],
   "source": [
    "get.y <- function(x, angular.coeff, intercept, std.dev){\n",
    "    my.output <- c()\n",
    "    for (values in x){\n",
    "    my.output <- c(my.output, rnorm(1, (angular.coeff*values + b), std.dev))\n",
    "    }\n",
    "    return(my.output)\n",
    "}"
   ]
  },
  {
   "cell_type": "markdown",
   "metadata": {},
   "source": [
    "## Parte 2"
   ]
  },
  {
   "cell_type": "markdown",
   "metadata": {},
   "source": [
    "Construye una función que reciba dos vectores 'x' e 'y' supuestamente relacionados linealmente y calcule los valores de 'a' y 'b' que minimizan la función de coste. "
   ]
  },
  {
   "cell_type": "code",
   "execution_count": 3,
   "metadata": {},
   "outputs": [],
   "source": [
    "#library(matlib)\n",
    "\n",
    "# alpha = (XT X)-1 XT Y\n",
    "# X = matriz con N lineas y M columnas\n",
    "# N = número de observaciones\n",
    "# M = número de 'features'\n",
    "\n",
    "get.aplha <- function(mat.x, vec.y){\n",
    "    ones <- rep(c(1),nrow(mat.x))\n",
    "    mat.x <- cbind(ones,mat.x)\n",
    "    x.T.x <- solve(t(mat.x) %*% mat.x)\n",
    "    all.x <- x.T.x %*% t(mat.x)\n",
    "    alpha <- all.x %*% vec.y\n",
    "    return(alpha)\n",
    "}"
   ]
  },
  {
   "cell_type": "markdown",
   "metadata": {},
   "source": [
    "## Parte 3"
   ]
  },
  {
   "cell_type": "markdown",
   "metadata": {},
   "source": [
    "Genera un vector 'x' aleatorio con valores entre 0 y 8, y N = 100 puntos. \n",
    "\n",
    "Usa la función creada en 1 con valores:\n",
    "- a = 1; \n",
    "- b = 2; \n",
    "- $\\sigma$ = 2;\n",
    "\n",
    "y la función creada en 2 para encontrar el mínimo de la función de coste. \n",
    "\n",
    "Pinta en un mismo plot 'x' e 'y' representados con puntos, y la recta \n",
    "\n",
    "$ y = ax + b$"
   ]
  },
  {
   "cell_type": "code",
   "execution_count": 4,
   "metadata": {},
   "outputs": [],
   "source": [
    "# Definición de los paramtetros\n",
    "a <- 1\n",
    "b <- 2\n",
    "sigma <- 2\n",
    "\n",
    "N = 100"
   ]
  },
  {
   "cell_type": "code",
   "execution_count": 5,
   "metadata": {},
   "outputs": [
    {
     "name": "stdout",
     "output_type": "stream",
     "text": [
      "[1] 100\n"
     ]
    }
   ],
   "source": [
    "# Genero los puntos\n",
    "my.x <- matrix(runif(N,0,8),ncol=1)\n",
    "\n",
    "# x, angular.coeff, intercept, std.dev)\n",
    "my.y <- get.y(my.x, a, b, sigma)\n",
    "\n",
    "print(nrow(my.x))"
   ]
  },
  {
   "cell_type": "code",
   "execution_count": 6,
   "metadata": {},
   "outputs": [
    {
     "data": {
      "text/html": [
       "<table>\n",
       "<caption>A matrix: 2 × 1 of type dbl</caption>\n",
       "<tbody>\n",
       "\t<tr><th scope=row>ones</th><td>1.9265686</td></tr>\n",
       "\t<tr><th scope=row></th><td>0.9304934</td></tr>\n",
       "</tbody>\n",
       "</table>\n"
      ],
      "text/latex": [
       "A matrix: 2 × 1 of type dbl\n",
       "\\begin{tabular}{r|l}\n",
       "\tones & 1.9265686\\\\\n",
       "\t & 0.9304934\\\\\n",
       "\\end{tabular}\n"
      ],
      "text/markdown": [
       "\n",
       "A matrix: 2 × 1 of type dbl\n",
       "\n",
       "| ones | 1.9265686 |\n",
       "| <!----> | 0.9304934 |\n",
       "\n"
      ],
      "text/plain": [
       "     [,1]     \n",
       "ones 1.9265686\n",
       "     0.9304934"
      ]
     },
     "metadata": {},
     "output_type": "display_data"
    }
   ],
   "source": [
    "# Saco los valores de los parametros de la recta que mnimiza la función de coste\n",
    "my.alpha <- get.aplha(my.x, my.y)\n",
    "my.alpha"
   ]
  },
  {
   "cell_type": "code",
   "execution_count": 7,
   "metadata": {},
   "outputs": [
    {
     "data": {
      "image/png": "[encoded data removed]",
      "text/plain": [
       "plot without title"
      ]
     },
     "metadata": {},
     "output_type": "display_data"
    }
   ],
   "source": [
    "plot(my.x,my.y)\n",
    "abline(my.alpha[1],my.alpha[2])"
   ]
  },
  {
   "cell_type": "markdown",
   "metadata": {},
   "source": [
    "## Parte 4"
   ]
  },
  {
   "cell_type": "markdown",
   "metadata": {},
   "source": [
    "Construye una función que calcule la matriz de covarianza asociada al ajuste lineal anterior. \n",
    "\n",
    "Utilízala con los vectores 'x' e 'y' anteriores y calcula dicha matriz para ese caso particular."
   ]
  },
  {
   "cell_type": "code",
   "execution_count": null,
   "metadata": {},
   "outputs": [],
   "source": [
    "get.cov.alpha <- function(vec.x, vec.y){\n",
    "    ones <- rep(c(1),nrow(vec.x))\n",
    "    mat.x <- cbind(ones,vec.x)\n",
    "    x.T.x <- solve(t(mat.x) %*% mat.x)\n",
    "    all.x <- x.T.x %*% t(mat.x)\n",
    "    cov.y <- diag(x = var(my.y), nrow = length(vec.y), ncol = length(vec.y), names = F)\n",
    "    cov.alpha <- all.x %*% cov.y %*% t(all.x)\n",
    "    return(cov.alpha)\n",
    "}"
   ]
  },
  {
   "cell_type": "code",
   "execution_count": 74,
   "metadata": {},
   "outputs": [
    {
     "data": {
      "text/html": [
       "<table>\n",
       "<caption>A matrix: 2 × 2 of type dbl</caption>\n",
       "<thead>\n",
       "\t<tr><th></th><th scope=col>ones</th><th scope=col></th></tr>\n",
       "</thead>\n",
       "<tbody>\n",
       "\t<tr><th scope=row>ones</th><td> 0,35044751</td><td>-0,06567861</td></tr>\n",
       "\t<tr><th scope=row></th><td>-0,06567861</td><td> 0,01646382</td></tr>\n",
       "</tbody>\n",
       "</table>\n"
      ],
      "text/latex": [
       "A matrix: 2 × 2 of type dbl\n",
       "\\begin{tabular}{r|ll}\n",
       "  & ones & \\\\\n",
       "\\hline\n",
       "\tones &  0,35044751 & -0,06567861\\\\\n",
       "\t & -0,06567861 &  0,01646382\\\\\n",
       "\\end{tabular}\n"
      ],
      "text/markdown": [
       "\n",
       "A matrix: 2 × 2 of type dbl\n",
       "\n",
       "| <!--/--> | ones | <!----> |\n",
       "|---|---|---|\n",
       "| ones |  0,35044751 | -0,06567861 |\n",
       "| <!----> | -0,06567861 |  0,01646382 |\n",
       "\n"
      ],
      "text/plain": [
       "     ones                   \n",
       "ones  0,35044751 -0,06567861\n",
       "     -0,06567861  0,01646382"
      ]
     },
     "metadata": {},
     "output_type": "display_data"
    }
   ],
   "source": [
    "my.cov.alpha <- get.cov.alpha(my.x,my.y)\n",
    "my.cov.alpha"
   ]
  },
  {
   "cell_type": "markdown",
   "metadata": {},
   "source": [
    "## Parte 5"
   ]
  },
  {
   "cell_type": "markdown",
   "metadata": {},
   "source": [
    "Crea una función como la del apartado 1 donde se añadan 3 parámetros más (c, d, e) y en dónde todo sea igual salvo que \n",
    "\n",
    "$y = a + bx + cx^2 + dx^3 + ex^4$"
   ]
  },
  {
   "cell_type": "code",
   "execution_count": 31,
   "metadata": {},
   "outputs": [],
   "source": [
    "get.pol.4 <- function(x, a, b, c, d, e, std.dev){\n",
    "    my.output <- c()\n",
    "    for (values in x){\n",
    "    my.output <- c(my.output, rnorm(1, (a + b*values + c*values**2 + d*values**3 + e*values**4), std.dev))\n",
    "    }\n",
    "    return(my.output)\n",
    "}"
   ]
  },
  {
   "cell_type": "markdown",
   "metadata": {},
   "source": [
    "## Parte 6"
   ]
  },
  {
   "cell_type": "markdown",
   "metadata": {},
   "source": [
    "Repite (3) y (4) con la función generada en (5) y usando: \n",
    "- a = 107; \n",
    "- b = -176: \n",
    "- c = 86;\n",
    "- d = -16;\n",
    "- e = 1."
   ]
  },
  {
   "cell_type": "code",
   "execution_count": 38,
   "metadata": {},
   "outputs": [],
   "source": [
    "# Definición de los paramtetros\n",
    "coeff.0 <- 107\n",
    "coeff.1 <- -176\n",
    "coeff.2 <- 86\n",
    "coeff.3 <- -16\n",
    "coeff.4 = 1\n",
    "sigma <- 2\n",
    "\n",
    "N = 100"
   ]
  },
  {
   "cell_type": "code",
   "execution_count": null,
   "metadata": {},
   "outputs": [],
   "source": [
    "# Genero los puntos\n",
    "my.new.x <- matrix(runif(N,0,8),ncol=1)\n",
    "\n",
    "# x, a, b, c, d, e, std.dev\n",
    "my.pol.4 <- get.pol.4(my.new.x, coeff.0, coeff.1, coeff.2, coeff.3, coeff.4, sigma)"
   ]
  },
  {
   "cell_type": "code",
   "execution_count": 40,
   "metadata": {},
   "outputs": [
    {
     "data": {
      "image/png": "[encoded data removed]",
      "text/plain": [
       "plot without title"
      ]
     },
     "metadata": {},
     "output_type": "display_data"
    }
   ],
   "source": [
    "plot(my.new.x, my.pol.4)"
   ]
  },
  {
   "cell_type": "code",
   "execution_count": 52,
   "metadata": {},
   "outputs": [],
   "source": [
    "# función para ajuste polinomial generico (hay que especificar el grado del polinomio)\n",
    "get.generic.aplha <- function(vec.x, vec.y, grade){\n",
    "    ones <- rep(c(1),nrow(vec.x))\n",
    "    mat.x <- cbind(ones,vec.x)\n",
    "    for(i in 2:grade){\n",
    "        mat.x <- cbind(mat.x,vec.x**i)\n",
    "    }\n",
    "    x.T.x <- solve(t(mat.x) %*% mat.x)\n",
    "    all.x <- x.T.x %*% t(mat.x)\n",
    "    alpha <- all.x %*% vec.y\n",
    "    return(alpha)\n",
    "}"
   ]
  },
  {
   "cell_type": "code",
   "execution_count": 54,
   "metadata": {},
   "outputs": [
    {
     "data": {
      "text/html": [
       "<table>\n",
       "<caption>A matrix: 5 × 1 of type dbl</caption>\n",
       "<tbody>\n",
       "\t<tr><th scope=row>ones</th><td> 107,068867</td></tr>\n",
       "\t<tr><th scope=row></th><td>-177,253389</td></tr>\n",
       "\t<tr><th scope=row></th><td>  87,129811</td></tr>\n",
       "\t<tr><th scope=row></th><td> -16,271962</td></tr>\n",
       "\t<tr><th scope=row></th><td>   1,019113</td></tr>\n",
       "</tbody>\n",
       "</table>\n"
      ],
      "text/latex": [
       "A matrix: 5 × 1 of type dbl\n",
       "\\begin{tabular}{r|l}\n",
       "\tones &  107,068867\\\\\n",
       "\t & -177,253389\\\\\n",
       "\t &   87,129811\\\\\n",
       "\t &  -16,271962\\\\\n",
       "\t &    1,019113\\\\\n",
       "\\end{tabular}\n"
      ],
      "text/markdown": [
       "\n",
       "A matrix: 5 × 1 of type dbl\n",
       "\n",
       "| ones |  107,068867 |\n",
       "| <!----> | -177,253389 |\n",
       "| <!----> |   87,129811 |\n",
       "| <!----> |  -16,271962 |\n",
       "| <!----> |    1,019113 |\n",
       "\n"
      ],
      "text/plain": [
       "     [,1]       \n",
       "ones  107,068867\n",
       "     -177,253389\n",
       "       87,129811\n",
       "      -16,271962\n",
       "        1,019113"
      ]
     },
     "metadata": {},
     "output_type": "display_data"
    }
   ],
   "source": [
    "my.alpha.4 <- get.generic.aplha(my.new.x, my.pol.4, 4)\n",
    "my.alpha.4"
   ]
  },
  {
   "cell_type": "code",
   "execution_count": 58,
   "metadata": {},
   "outputs": [],
   "source": [
    "get.generic.cov.alpha <- function(vec.x, vec.y, grade){\n",
    "    ones <- rep(c(1),nrow(vec.x))\n",
    "    mat.x <- cbind(ones,vec.x)\n",
    "    for(i in 2:grade){\n",
    "        mat.x <- cbind(mat.x,vec.x**i)\n",
    "    }\n",
    "    x.T.x <- solve(t(mat.x) %*% mat.x)\n",
    "    all.x <- x.T.x %*% t(mat.x)\n",
    "    cov.y <- diag(x = var(my.y), nrow = length(vec.y), ncol = length(vec.y), names = F)\n",
    "    cov.alpha <- all.x %*% cov.y %*% t(all.x)\n",
    "    return(cov.alpha)\n",
    "}"
   ]
  },
  {
   "cell_type": "code",
   "execution_count": 69,
   "metadata": {},
   "outputs": [
    {
     "data": {
      "text/html": [
       "<table>\n",
       "<caption>A matrix: 5 × 5 of type dbl</caption>\n",
       "<thead>\n",
       "\t<tr><th></th><th scope=col>ones</th><th scope=col></th><th scope=col></th><th scope=col></th><th scope=col></th></tr>\n",
       "</thead>\n",
       "<tbody>\n",
       "\t<tr><th scope=row>ones</th><td> 2,16984875</td><td>-3,59151117</td><td> 1,62715290</td><td>-0,276349290</td><td> 0,0157514209</td></tr>\n",
       "\t<tr><th scope=row></th><td>-3,59151117</td><td> 7,50467174</td><td>-3,70761238</td><td> 0,659950373</td><td>-0,0387586282</td></tr>\n",
       "\t<tr><th scope=row></th><td> 1,62715290</td><td>-3,70761238</td><td> 1,93183528</td><td>-0,356476429</td><td> 0,0214866465</td></tr>\n",
       "\t<tr><th scope=row></th><td>-0,27634929</td><td> 0,65995037</td><td>-0,35647643</td><td> 0,067565008</td><td>-0,0041564857</td></tr>\n",
       "\t<tr><th scope=row></th><td> 0,01575142</td><td>-0,03875863</td><td> 0,02148665</td><td>-0,004156486</td><td> 0,0002598663</td></tr>\n",
       "</tbody>\n",
       "</table>\n"
      ],
      "text/latex": [
       "A matrix: 5 × 5 of type dbl\n",
       "\\begin{tabular}{r|lllll}\n",
       "  & ones &  &  &  & \\\\\n",
       "\\hline\n",
       "\tones &  2,16984875 & -3,59151117 &  1,62715290 & -0,276349290 &  0,0157514209\\\\\n",
       "\t & -3,59151117 &  7,50467174 & -3,70761238 &  0,659950373 & -0,0387586282\\\\\n",
       "\t &  1,62715290 & -3,70761238 &  1,93183528 & -0,356476429 &  0,0214866465\\\\\n",
       "\t & -0,27634929 &  0,65995037 & -0,35647643 &  0,067565008 & -0,0041564857\\\\\n",
       "\t &  0,01575142 & -0,03875863 &  0,02148665 & -0,004156486 &  0,0002598663\\\\\n",
       "\\end{tabular}\n"
      ],
      "text/markdown": [
       "\n",
       "A matrix: 5 × 5 of type dbl\n",
       "\n",
       "| <!--/--> | ones | <!----> | <!----> | <!----> | <!----> |\n",
       "|---|---|---|---|---|---|\n",
       "| ones |  2,16984875 | -3,59151117 |  1,62715290 | -0,276349290 |  0,0157514209 |\n",
       "| <!----> | -3,59151117 |  7,50467174 | -3,70761238 |  0,659950373 | -0,0387586282 |\n",
       "| <!----> |  1,62715290 | -3,70761238 |  1,93183528 | -0,356476429 |  0,0214866465 |\n",
       "| <!----> | -0,27634929 |  0,65995037 | -0,35647643 |  0,067565008 | -0,0041564857 |\n",
       "| <!----> |  0,01575142 | -0,03875863 |  0,02148665 | -0,004156486 |  0,0002598663 |\n",
       "\n"
      ],
      "text/plain": [
       "     ones                                                          \n",
       "ones  2,16984875 -3,59151117  1,62715290 -0,276349290  0,0157514209\n",
       "     -3,59151117  7,50467174 -3,70761238  0,659950373 -0,0387586282\n",
       "      1,62715290 -3,70761238  1,93183528 -0,356476429  0,0214866465\n",
       "     -0,27634929  0,65995037 -0,35647643  0,067565008 -0,0041564857\n",
       "      0,01575142 -0,03875863  0,02148665 -0,004156486  0,0002598663"
      ]
     },
     "metadata": {},
     "output_type": "display_data"
    }
   ],
   "source": [
    "get.generic.cov.alpha(my.new.x, my.pol.4, 4)"
   ]
  },
  {
   "cell_type": "code",
   "execution_count": 68,
   "metadata": {},
   "outputs": [
    {
     "data": {
      "image/png": "[encoded data removed]",
      "text/plain": [
       "plot without title"
      ]
     },
     "metadata": {},
     "output_type": "display_data"
    }
   ],
   "source": [
    "plot(my.new.x,my.pol.4)\n",
    "curve(my.alpha.4[1] \n",
    "      + my.alpha.4[2]*x \n",
    "      + my.alpha.4[3]*x**2 \n",
    "      + my.alpha.4[4]*x**3 \n",
    "      + my.alpha.4[5]*x**4, \n",
    "      from = 0, to = 8, add=TRUE)"
   ]
  }
 ],
 "metadata": {
  "kernelspec": {
   "display_name": "R",
   "language": "R",
   "name": "ir"
  },
  "language_info": {
   "codemirror_mode": "r",
   "file_extension": ".r",
   "mimetype": "text/x-r-source",
   "name": "R",
   "pygments_lexer": "r",
   "version": "3.6.1"
  }
 },
 "nbformat": 4,
 "nbformat_minor": 2
}
