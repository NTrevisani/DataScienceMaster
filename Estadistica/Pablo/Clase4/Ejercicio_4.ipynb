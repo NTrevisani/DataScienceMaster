{
 "cells": [
  {
   "cell_type": "markdown",
   "metadata": {},
   "source": [
    "## Parte 1"
   ]
  },
  {
   "cell_type": "markdown",
   "metadata": {},
   "source": [
    "Crea una función que genere dos muestras que se distribuyen según dos gaussianas distintas. \n",
    "\n",
    "La función recibirá como valores de entrada: el número N de puntos a generar para cada categoría, y $\\mu_1$, $\\sigma_1$, $\\mu_2$, $\\sigma_2$ que son los correspondientes parámetros de las dos gaussianas. \n",
    "\n",
    "Como output devolverá un valor con longitud 2N que contenga la muestra 'x' generada, y otro vector de longitud 2N que contenga 0 o 1 en función de la categoría asociada a ese elemento."
   ]
  },
  {
   "cell_type": "code",
   "execution_count": 5,
   "metadata": {},
   "outputs": [],
   "source": [
    "two.gauss <- function(n.points, mu.1, sigma.1, mu.2, sigma.2){\n",
    "    gauss.1 <- rnorm(n.points,mu.1,sigma.1)\n",
    "    gauss.2 <- rnorm(n.points,mu.2,sigma.2)\n",
    "    x <- c(gauss.1, gauss.2)\n",
    "    y <- c(rep(0, n.points),rep(1, n.points))\n",
    "    my.output <- data.frame(x,y)\n",
    "    return(my.output)\n",
    "}\n",
    "#a <- two.gauss(10,2,1,6,1)\n",
    "#a$x\n",
    "#a$y"
   ]
  },
  {
   "cell_type": "markdown",
   "metadata": {},
   "source": [
    "## Parte 2"
   ]
  },
  {
   "cell_type": "markdown",
   "metadata": {},
   "source": [
    "Crea una función que calcule el valor de la sigmoide para un valor de entrada Z. "
   ]
  },
  {
   "cell_type": "code",
   "execution_count": 6,
   "metadata": {},
   "outputs": [],
   "source": [
    "my.sigmoid <- function(z){\n",
    "    sigm <- 1. / (1 + exp(-z))   \n",
    "    return(sigm)\n",
    "}"
   ]
  },
  {
   "cell_type": "markdown",
   "metadata": {},
   "source": [
    "## Parte 3"
   ]
  },
  {
   "cell_type": "markdown",
   "metadata": {},
   "source": [
    "Crea una función que calcule el valor de la función de Loss y que reciba como entrada 'x' e 'y' y los parámetros del modelo que vamos a asumir: \n",
    "\n",
    "$z = a + bx$ \n",
    "\n",
    "(es decir, a y b). "
   ]
  },
  {
   "cell_type": "code",
   "execution_count": 8,
   "metadata": {},
   "outputs": [],
   "source": [
    "my.loss <- function(intercept, ang.coeff, vec.x, vec.y){\n",
    "    sigm <- my.sigmoid(intercept + ang.coeff*vec.x)\n",
    "    loss <- (vec.y * log(sigm)) + (1 - vec.y)*log(1 - sigm)\n",
    "    return(-sum(loss)/length(vec.x))\n",
    "}\n",
    "\n",
    "#my.loss(2,3,a$x,a$y)"
   ]
  },
  {
   "cell_type": "markdown",
   "metadata": {},
   "source": [
    "## Parte 4"
   ]
  },
  {
   "cell_type": "markdown",
   "metadata": {},
   "source": [
    "Crea una función que devuelva el gradiente de la función de Loss y que reciba como entrada 'x' e 'y' y los parámetros (a, b) del modelo que vamos a asumir."
   ]
  },
  {
   "cell_type": "code",
   "execution_count": 9,
   "metadata": {},
   "outputs": [],
   "source": [
    "my.grad <- function(intercept, ang.coeff, vec.x, vec.y){\n",
    "    sigm <- my.sigmoid(intercept + ang.coeff*vec.x)\n",
    "    common.grad <- (sigm - vec.y)\n",
    "    grad.a <- sum(common.grad)/length(vec.x)\n",
    "    grad.b <- (sum(common.grad * vec.x))/length(vec.x)\n",
    "    grad <- rbind(grad.a,grad.b)\n",
    "    return(grad)\n",
    "}"
   ]
  },
  {
   "cell_type": "markdown",
   "metadata": {},
   "source": [
    "## Parte 5"
   ]
  },
  {
   "cell_type": "markdown",
   "metadata": {},
   "source": [
    "Generar un par de vectores 'x', 'y' con: \n",
    "- N = 100; \n",
    "- $\\mu_1$ = 2\n",
    "- $\\mu_2$ = 6\n",
    "- $\\sigma_1$ = 1 \n",
    "- $\\sigma_2$ = 1 "
   ]
  },
  {
   "cell_type": "code",
   "execution_count": 10,
   "metadata": {},
   "outputs": [],
   "source": [
    "# Definimos los parametros\n",
    "N = 100\n",
    "mu1 = 2\n",
    "mu2 = 6\n",
    "sigma1 = 1\n",
    "sigma2 = 1"
   ]
  },
  {
   "cell_type": "code",
   "execution_count": 12,
   "metadata": {},
   "outputs": [],
   "source": [
    "my.df <- two.gauss(N, mu1, sigma1, mu2, sigma2)\n",
    "my.x <- my.df$x\n",
    "my.y <- my.df$y"
   ]
  },
  {
   "cell_type": "markdown",
   "metadata": {},
   "source": [
    "## Parte 6"
   ]
  },
  {
   "cell_type": "markdown",
   "metadata": {},
   "source": [
    "Calcular la función de coste y el gradiente para: \n",
    "- a = 0\n",
    "- b = 0. \n",
    "\n",
    "Actualizar los valores de a y b de manera que \n",
    "\n",
    "$(a, b)_{nuevos} = (a, b)_{viejos} + \\lambda \\times \\nabla Loss$\n",
    "\n",
    "Repite tres o cuatro veces y observa los valores de la función de coste. \n",
    "\n",
    "Intenta encontrar el mínimo aproximadadamente. Interpreta los resultados."
   ]
  },
  {
   "cell_type": "code",
   "execution_count": 13,
   "metadata": {},
   "outputs": [],
   "source": [
    "# Defino lambda (qué valor es el mejor que puedo elegir?)\n",
    "lambda = 0.2"
   ]
  },
  {
   "cell_type": "code",
   "execution_count": 21,
   "metadata": {},
   "outputs": [
    {
     "data": {
      "text/html": [
       "0,693147180559945"
      ],
      "text/latex": [
       "0,693147180559945"
      ],
      "text/markdown": [
       "0,693147180559945"
      ],
      "text/plain": [
       "[1] 0,6931472"
      ]
     },
     "metadata": {},
     "output_type": "display_data"
    }
   ],
   "source": [
    "loss.in.zero <- my.loss(0, 0, my.x, my.y)\n",
    "loss.in.zero"
   ]
  },
  {
   "cell_type": "code",
   "execution_count": 15,
   "metadata": {},
   "outputs": [
    {
     "data": {
      "text/html": [
       "<table>\n",
       "<caption>A matrix: 2 × 1 of type dbl</caption>\n",
       "<tbody>\n",
       "\t<tr><th scope=row>grad.a</th><td> 0.000000</td></tr>\n",
       "\t<tr><th scope=row>grad.b</th><td>-1.030067</td></tr>\n",
       "</tbody>\n",
       "</table>\n"
      ],
      "text/latex": [
       "A matrix: 2 × 1 of type dbl\n",
       "\\begin{tabular}{r|l}\n",
       "\tgrad.a &  0.000000\\\\\n",
       "\tgrad.b & -1.030067\\\\\n",
       "\\end{tabular}\n"
      ],
      "text/markdown": [
       "\n",
       "A matrix: 2 × 1 of type dbl\n",
       "\n",
       "| grad.a |  0.000000 |\n",
       "| grad.b | -1.030067 |\n",
       "\n"
      ],
      "text/plain": [
       "       [,1]     \n",
       "grad.a  0.000000\n",
       "grad.b -1.030067"
      ]
     },
     "metadata": {},
     "output_type": "display_data"
    }
   ],
   "source": [
    "grad.in.zero <- my.grad(0, 0, my.x, my.y)\n",
    "grad.in.zero"
   ]
  },
  {
   "cell_type": "markdown",
   "metadata": {},
   "source": [
    "Ok, ahora hacemos un loop"
   ]
  },
  {
   "cell_type": "code",
   "execution_count": 20,
   "metadata": {},
   "outputs": [
    {
     "name": "stdout",
     "output_type": "stream",
     "text": [
      "[1] \"After 10 iterations, the best values of a and b are -0,325939367908242 0,273709361500818\"\n",
      "[1] \"Here, the Loss function value is 0,53370657145851\"\n"
     ]
    }
   ],
   "source": [
    "# Empezamos por a = 0, b = 0\n",
    "\n",
    "a = 0\n",
    "b = 0\n",
    "\n",
    "n.epoch <- 10\n",
    "\n",
    "for(i in 1:n.epoch){\n",
    "    loss <- my.loss(a, b, my.x, my.y)\n",
    "    grad <- my.grad(a, b, my.x, my.y)\n",
    "    a = a - lambda * grad[1]\n",
    "    b = b - lambda * grad[2]\n",
    "}\n",
    "\n",
    "print(paste(\"After\", n.epoch, \"iterations, the best values of a and b are\",a,b))\n",
    "print(paste(\"Here, the Loss function value is\",loss))"
   ]
  },
  {
   "cell_type": "markdown",
   "metadata": {},
   "source": [
    "Let's plot the points and the line obtained with the linear regression."
   ]
  },
  {
   "cell_type": "code",
   "execution_count": 18,
   "metadata": {},
   "outputs": [
    {
     "data": {
      "image/png": "[encoded data removed]",
      "text/plain": [
       "plot without title"
      ]
     },
     "metadata": {},
     "output_type": "display_data"
    }
   ],
   "source": [
    "plot(my.x, my.y)\n",
    "abline(a,b)\n",
    "curve(my.sigmoid(a+b*x), add = T)"
   ]
  }
 ],
 "metadata": {
  "kernelspec": {
   "display_name": "R",
   "language": "R",
   "name": "ir"
  },
  "language_info": {
   "codemirror_mode": "r",
   "file_extension": ".r",
   "mimetype": "text/x-r-source",
   "name": "R",
   "pygments_lexer": "r",
   "version": "3.6.1"
  }
 },
 "nbformat": 4,
 "nbformat_minor": 2
}
