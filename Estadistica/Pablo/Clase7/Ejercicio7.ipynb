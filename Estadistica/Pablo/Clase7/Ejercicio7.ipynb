{
 "cells": [
  {
   "cell_type": "markdown",
   "metadata": {},
   "source": [
    "# Parte 1"
   ]
  },
  {
   "cell_type": "markdown",
   "metadata": {},
   "source": [
    "Escribe una función que tenga como input un vector 'x' con valores distribuidos uniformemente, y unos parámetros:\n",
    "- a; \n",
    "- b; \n",
    "- m;  \n",
    "- n\n",
    "\n",
    "y que devuelva como output una matriz cuya primera columna sea: \n",
    "\n",
    "$y = a + b \\cdot x$ \n",
    "\n",
    "más un término estocástico sacado de una gaussiana con: \n",
    "\n",
    "$\\sigma = m + n \\cdot x^2$ \n",
    "\n",
    "y la segunda columna el error: \n",
    "\n",
    "$\\sigma = m + n \\cdot x^2$ "
   ]
  },
  {
   "cell_type": "code",
   "execution_count": 17,
   "metadata": {},
   "outputs": [],
   "source": [
    "get.y <- function(x, intercept, angular.coeff, std.dev.a, std.dev.b){\n",
    "    y <- c()\n",
    "    sigma <- c()\n",
    "    for (value in x){\n",
    "        my.sigma  <- std.dev.a + std.dev.b * value^2\n",
    "        sigma <- c(sigma, my.sigma) \n",
    "        y <- c(y, rnorm(1, (angular.coeff*value + intercept), sigma))\n",
    "    }\n",
    "    my.out.table <- cbind(y, sigma)\n",
    "    return(as.data.frame(my.out.table))\n",
    "}"
   ]
  },
  {
   "cell_type": "markdown",
   "metadata": {},
   "source": [
    "# Parte 2"
   ]
  },
  {
   "cell_type": "markdown",
   "metadata": {},
   "source": [
    "Escribe otra función que haga lo mismo que la anterior pero con un parámetro más 'c' de tal forma que haga lo mismo pero con un modelo:\n",
    "\n",
    "$y = a + b \\cdot x + c \\cdot x^2$"
   ]
  },
  {
   "cell_type": "code",
   "execution_count": 18,
   "metadata": {},
   "outputs": [],
   "source": [
    "# Esto deberia ser valido para cualquier polinomio.\n",
    "# parameters es un vector de parametros (e.g. parameters = c(a,b,c))\n",
    "\n",
    "get.pol.n <- function(x, parameters, std.dev.a, std.dev.b){\n",
    "    y <- c()\n",
    "    sigma <- c()\n",
    "    for (value in x){\n",
    "        my.sigma  <- std.dev.a + std.dev.b * value^2\n",
    "        sigma <- c(sigma, my.sigma) \n",
    "        model <- 0 \n",
    "        for (i in 1:length(parameters)){\n",
    "            model <- model + parameters[i] * value^(i - 1)\n",
    "            }\n",
    "            y <- c(y, rnorm(1, model, sigma))        \n",
    "    }\n",
    "    my.out.table <- cbind(y, sigma)\n",
    "    return(as.data.frame(my.out.table))\n",
    "}"
   ]
  },
  {
   "cell_type": "markdown",
   "metadata": {},
   "source": [
    "# Parte 3"
   ]
  },
  {
   "cell_type": "markdown",
   "metadata": {},
   "source": [
    "Usando como valores: \n",
    "- a = 1; \n",
    "- b = 2;\n",
    "- c = 0.01;\n",
    "- m = 0.1;\n",
    "- n = 0.04 \n",
    "\n",
    "para el modelo de la primera función: calcula los parámetros para las que el likelihood es máximo asumiendo un modelo con dos parámetros:\n",
    "\n",
    "$y = a + b \\cdot x$ \n",
    "\n",
    "Calcula el valor del $\\chi^2$ y calcula el nivel de confianza con el que rechazaríamos este ajuste.  "
   ]
  },
  {
   "cell_type": "code",
   "execution_count": 33,
   "metadata": {},
   "outputs": [],
   "source": [
    "# Defino la likelihood\n",
    "\n",
    "my.ML <- function(vec.x, mat.y, grade){\n",
    "    cov.y <- diag(mat.y$sigma)\n",
    "    ones <- rep(c(1), length(vec.x))\n",
    "    mat.x <- cbind(ones, vec.x)\n",
    "    if (grade > 1){\n",
    "        for (i in 2:grade){\n",
    "            mat.x <- cbind(mat.x, vec.x^i)\n",
    "        }\n",
    "    }\n",
    "    x.T <- t(mat.x)\n",
    "    xT.cov.x <- solve(x.T %*% solve(cov.y) %*% mat.x)\n",
    "    xT.cov.y <- x.T %*% solve(cov.y) %*% mat.y$y\n",
    "    my.params <- xT.cov.x %*% xT.cov.y\n",
    "    return(my.params)\n",
    "}"
   ]
  },
  {
   "cell_type": "code",
   "execution_count": 20,
   "metadata": {},
   "outputs": [],
   "source": [
    "# Defino los parametros\n",
    "\n",
    "a <- 1\n",
    "b <- 2\n",
    "c <- 0.01\n",
    "m <- 0.1\n",
    "n <- 0.04"
   ]
  },
  {
   "cell_type": "code",
   "execution_count": 21,
   "metadata": {},
   "outputs": [],
   "source": [
    "# Genero los x aleatorios\n",
    "\n",
    "N <- 100\n",
    "\n",
    "my.x <- runif(N,0,10)"
   ]
  },
  {
   "cell_type": "code",
   "execution_count": 22,
   "metadata": {},
   "outputs": [
    {
     "data": {
      "image/png": "[encoded data removed]",
      "text/plain": [
       "plot without title"
      ]
     },
     "metadata": {},
     "output_type": "display_data"
    }
   ],
   "source": [
    "# Genero las 'y' siguiendo el modelo lineal\n",
    "\n",
    "par.2 <- c(a,b)\n",
    "\n",
    "my.pol.1 <- get.pol.n(my.x,par.2,m,n)\n",
    "plot(my.x,my.pol.1$y)\n",
    "arrows(my.x, my.pol.1$y - my.pol.1$sigma / 2, my.x, my.pol.1$y + my.pol.1$sigma / 2, length = 0.05, angle = 90, code = 3)"
   ]
  },
  {
   "cell_type": "code",
   "execution_count": 34,
   "metadata": {},
   "outputs": [
    {
     "data": {
      "text/html": [
       "<table>\n",
       "<caption>A matrix: 2 × 1 of type dbl</caption>\n",
       "<tbody>\n",
       "\t<tr><th scope=row>ones</th><td>1,000229</td></tr>\n",
       "\t<tr><th scope=row>vec.x</th><td>2,004739</td></tr>\n",
       "</tbody>\n",
       "</table>\n"
      ],
      "text/latex": [
       "A matrix: 2 × 1 of type dbl\n",
       "\\begin{tabular}{r|l}\n",
       "\tones & 1,000229\\\\\n",
       "\tvec.x & 2,004739\\\\\n",
       "\\end{tabular}\n"
      ],
      "text/markdown": [
       "\n",
       "A matrix: 2 × 1 of type dbl\n",
       "\n",
       "| ones | 1,000229 |\n",
       "| vec.x | 2,004739 |\n",
       "\n"
      ],
      "text/plain": [
       "      [,1]    \n",
       "ones  1,000229\n",
       "vec.x 2,004739"
      ]
     },
     "metadata": {},
     "output_type": "display_data"
    },
    {
     "data": {
      "image/png": "[encoded data removed]",
      "text/plain": [
       "plot without title"
      ]
     },
     "metadata": {},
     "output_type": "display_data"
    }
   ],
   "source": [
    "# ajusto al modelo lineal\n",
    "\n",
    "theta <- my.ML(my.x, my.pol.1, 1)\n",
    "theta\n",
    "\n",
    "plot(my.x,my.pol.1$y)\n",
    "arrows(my.x, my.pol.1$y - my.pol.1$sigma / 2, my.x, my.pol.1$y + my.pol.1$sigma / 2, length = 0.05, angle = 90, code = 3)\n",
    "abline(theta)"
   ]
  },
  {
   "cell_type": "code",
   "execution_count": 24,
   "metadata": {},
   "outputs": [],
   "source": [
    "# Defino una función que me calcule el Chi2\n",
    "\n",
    "my.chi <- function(vec.x, mat.y, vec.parameters){\n",
    "    cov.y <- diag(mat.y$sigma)\n",
    "    ones <- rep(c(1), length(vec.x))\n",
    "    mat.x <- cbind(ones, vec.x)\n",
    "    x.T <- t(mat.x)\n",
    "    chi <- ((mat.y$y - mat.x %*% vec.parameters) / mat.y$sigma)^2\n",
    "    return(sum(chi))\n",
    "}"
   ]
  },
  {
   "cell_type": "code",
   "execution_count": 42,
   "metadata": {},
   "outputs": [
    {
     "data": {
      "text/html": [
       "67,7578282452403"
      ],
      "text/latex": [
       "67,7578282452403"
      ],
      "text/markdown": [
       "67,7578282452403"
      ],
      "text/plain": [
       "[1] 67,75783"
      ]
     },
     "metadata": {},
     "output_type": "display_data"
    },
    {
     "data": {
      "text/html": [
       "0,00854832352444311"
      ],
      "text/latex": [
       "0,00854832352444311"
      ],
      "text/markdown": [
       "0,00854832352444311"
      ],
      "text/plain": [
       "[1] 0,008548324"
      ]
     },
     "metadata": {},
     "output_type": "display_data"
    },
    {
     "name": "stdout",
     "output_type": "stream",
     "text": [
      "[1] \"Obtengo un Chi2 de 67,7578282452403 con 98 grados de libertad.\"\n",
      "[1] \"Puedo rechazar este ajuste con una confianza del 0,854832352444311 %\"\n"
     ]
    }
   ],
   "source": [
    "# Ahora calculo el Chi2\n",
    "\n",
    "chi.2.pol1 <- my.chi(my.x, my.pol.1, theta)\n",
    "chi.2.pol1\n",
    "\n",
    "my.prob.pol1 <- pchisq(my.chi(my.x, my.pol.1, theta), 98)\n",
    "my.prob.pol1\n",
    "\n",
    "print(paste(\"Obtengo un Chi2 de\",chi.2.pol1,\"con 98 grados de libertad.\"))\n",
    "print(paste(\"Puedo rechazar este ajuste con una confianza del\", my.prob.pol1*100,\"%\"))"
   ]
  },
  {
   "cell_type": "markdown",
   "metadata": {},
   "source": [
    "# Parte 4"
   ]
  },
  {
   "cell_type": "markdown",
   "metadata": {},
   "source": [
    "Repite el paso anterior con el mismo modelo pero usando la segunda función."
   ]
  },
  {
   "cell_type": "code",
   "execution_count": 40,
   "metadata": {},
   "outputs": [
    {
     "data": {
      "text/html": [
       "<table>\n",
       "<caption>A matrix: 3 × 1 of type dbl</caption>\n",
       "<tbody>\n",
       "\t<tr><th scope=row>ones</th><td> 0,9963628282</td></tr>\n",
       "\t<tr><th scope=row>vec.x</th><td> 2,0084909661</td></tr>\n",
       "\t<tr><th scope=row></th><td>-0,0004988278</td></tr>\n",
       "</tbody>\n",
       "</table>\n"
      ],
      "text/latex": [
       "A matrix: 3 × 1 of type dbl\n",
       "\\begin{tabular}{r|l}\n",
       "\tones &  0,9963628282\\\\\n",
       "\tvec.x &  2,0084909661\\\\\n",
       "\t & -0,0004988278\\\\\n",
       "\\end{tabular}\n"
      ],
      "text/markdown": [
       "\n",
       "A matrix: 3 × 1 of type dbl\n",
       "\n",
       "| ones |  0,9963628282 |\n",
       "| vec.x |  2,0084909661 |\n",
       "| <!----> | -0,0004988278 |\n",
       "\n"
      ],
      "text/plain": [
       "      [,1]         \n",
       "ones   0,9963628282\n",
       "vec.x  2,0084909661\n",
       "      -0,0004988278"
      ]
     },
     "metadata": {},
     "output_type": "display_data"
    },
    {
     "data": {
      "image/png": "[encoded data removed]",
      "text/plain": [
       "plot without title"
      ]
     },
     "metadata": {},
     "output_type": "display_data"
    }
   ],
   "source": [
    "# ajusto al modelo cuadratico\n",
    "\n",
    "theta.2 <- my.ML(my.x, my.pol.1, 2)\n",
    "theta.2\n",
    "\n",
    "plot(my.x,my.pol.1$y)\n",
    "arrows(my.x, my.pol.1$y - my.pol.1$sigma / 2, my.x, my.pol.1$y + my.pol.1$sigma / 2, length = 0.05, angle = 90, code = 3)\n",
    "curve(theta.2[1] + theta.2[2]*x + theta.2[3]*x^2, add = T)"
   ]
  },
  {
   "cell_type": "code",
   "execution_count": 49,
   "metadata": {},
   "outputs": [
    {
     "data": {
      "text/html": [
       "67,7578282452403"
      ],
      "text/latex": [
       "67,7578282452403"
      ],
      "text/markdown": [
       "67,7578282452403"
      ],
      "text/plain": [
       "[1] 67,75783"
      ]
     },
     "metadata": {},
     "output_type": "display_data"
    },
    {
     "data": {
      "text/html": [
       "0,00854832352444311"
      ],
      "text/latex": [
       "0,00854832352444311"
      ],
      "text/markdown": [
       "0,00854832352444311"
      ],
      "text/plain": [
       "[1] 0,008548324"
      ]
     },
     "metadata": {},
     "output_type": "display_data"
    },
    {
     "name": "stdout",
     "output_type": "stream",
     "text": [
      "[1] \"Obtengo un Chi2 de 67,7578282452403 con 97 grados de libertad.\"\n",
      "[1] \"Puedo rechazar este ajuste con una confianza del 0,854832352444311 %\"\n"
     ]
    }
   ],
   "source": [
    "# Ahora calculo el Chi2\n",
    "\n",
    "chi.2.pol2 <- my.chi(my.x, my.pol.1, theta)\n",
    "chi.2.pol2\n",
    "\n",
    "my.prob.pol2 <- pchisq(my.chi(my.x, my.pol.1, theta), 98)\n",
    "my.prob.pol2\n",
    "\n",
    "print(paste(\"Obtengo un Chi2 de\",chi.2.pol2,\"con 97 grados de libertad.\"))\n",
    "print(paste(\"Puedo rechazar este ajuste con una confianza del\", my.prob.pol2*100,\"%\"))"
   ]
  },
  {
   "cell_type": "markdown",
   "metadata": {},
   "source": [
    "# Parte 5"
   ]
  },
  {
   "cell_type": "markdown",
   "metadata": {},
   "source": [
    "Usando la primera de las funciones anteriores con los valores dados en 3) calcula el valor del likelihood ratio 'q' para un modelo con 2 y 3 parámetros. \n",
    "\n",
    "¿Con qué confidence level podemos aceptar H$_0$? \n",
    "\n",
    "Comenta el resultado: ¿qué modelo es mejor el primero o el segundo?."
   ]
  },
  {
   "cell_type": "code",
   "execution_count": 50,
   "metadata": {},
   "outputs": [
    {
     "data": {
      "text/html": [
       "0"
      ],
      "text/latex": [
       "0"
      ],
      "text/markdown": [
       "0"
      ],
      "text/plain": [
       "[1] 0"
      ]
     },
     "metadata": {},
     "output_type": "display_data"
    },
    {
     "name": "stdout",
     "output_type": "stream",
     "text": [
      "[1] \"Obtengo un maximum likelihood ratio de 0 con 1 grado de libertad\"\n",
      "[1] \"Puedo aceptar la hipotesis 0 (el ajuste correcto es con 2 parametros) con una confianza del 100 %\"\n"
     ]
    }
   ],
   "source": [
    "q <- -2 * (log(chi.2.pol1) - log(chi.2.pol2))\n",
    "q\n",
    "\n",
    "my.prob.H0 <- pchisq(q, 1)\n",
    "\n",
    "print(paste(\"Obtengo un maximum likelihood ratio de\", q,\"con 1 grado de libertad\"))\n",
    "print(paste(\"Puedo aceptar la hipotesis 0 (el ajuste correcto es con 2 parametros) con una confianza del\",(1 - my.prob.H0)*100,\"%\"))"
   ]
  }
 ],
 "metadata": {
  "kernelspec": {
   "display_name": "R",
   "language": "R",
   "name": "ir"
  },
  "language_info": {
   "codemirror_mode": "r",
   "file_extension": ".r",
   "mimetype": "text/x-r-source",
   "name": "R",
   "pygments_lexer": "r",
   "version": "3.6.1"
  }
 },
 "nbformat": 4,
 "nbformat_minor": 2
}
