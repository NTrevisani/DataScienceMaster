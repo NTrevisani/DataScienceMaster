{
 "cells": [
  {
   "cell_type": "markdown",
   "metadata": {},
   "source": [
    "## Práctica de Clasificación Lineal: Regresión Logística"
   ]
  },
  {
   "cell_type": "markdown",
   "metadata": {},
   "source": [
    "Daniel Garcia Diaz (garciad@ifca.unican.es)"
   ]
  },
  {
   "cell_type": "markdown",
   "metadata": {},
   "source": [
    "En esta práctica utilizaremos el dataset MNIST, compuesto por 60000 imágenes de train y 10000 imagenes de test (de 28x28 pixeles) correspondientes a distintas versiones digitalizadas de los dígitos 0, ..., 9. \n",
    "\n",
    "Descargamos el dataset que vamos a utilizar."
   ]
  },
  {
   "cell_type": "code",
   "execution_count": null,
   "metadata": {},
   "outputs": [],
   "source": [
    "# Set the directory to be able to read the data properly\n",
    "# rm(list=ls())\n",
    "# setwd(\"\")"
   ]
  },
  {
   "cell_type": "code",
   "execution_count": 13,
   "metadata": {},
   "outputs": [
    {
     "name": "stderr",
     "output_type": "stream",
     "text": [
      "also installing the dependencies ‘R.oo’, ‘R.methodsS3’\n",
      "\n",
      "Updating HTML index of packages in '.Library'\n",
      "Making 'packages.html' ... done\n"
     ]
    }
   ],
   "source": [
    "#Install the necessary packages\n",
    "install.packages(\"R.utils\")"
   ]
  },
  {
   "cell_type": "code",
   "execution_count": 14,
   "metadata": {},
   "outputs": [],
   "source": [
    "# download data from http://yann.lecun.com/exdb/mnist/\n",
    "download.file(\"http://yann.lecun.com/exdb/mnist/train-images-idx3-ubyte.gz\",\n",
    "              \"train-images-idx3-ubyte.gz\")\n",
    "download.file(\"http://yann.lecun.com/exdb/mnist/train-labels-idx1-ubyte.gz\",\n",
    "              \"train-labels-idx1-ubyte.gz\")\n",
    "download.file(\"http://yann.lecun.com/exdb/mnist/t10k-images-idx3-ubyte.gz\",\n",
    "              \"t10k-images-idx3-ubyte.gz\")\n",
    "download.file(\"http://yann.lecun.com/exdb/mnist/t10k-labels-idx1-ubyte.gz\",\n",
    "              \"t10k-labels-idx1-ubyte.gz\")\n",
    "\n",
    "# gunzip the files\n",
    "R.utils::gunzip(\"train-images-idx3-ubyte.gz\")\n",
    "R.utils::gunzip(\"train-labels-idx1-ubyte.gz\")\n",
    "R.utils::gunzip(\"t10k-images-idx3-ubyte.gz\")\n",
    "R.utils::gunzip(\"t10k-labels-idx1-ubyte.gz\")"
   ]
  },
  {
   "cell_type": "markdown",
   "metadata": {},
   "source": [
    "4 archivos diferentes para crear los datasets de train (x_train->train-image e y_train->train-labels) y de test (x->t10k-images e y->t10k-labels).\n",
    "\n",
    "Funciones para cargar los archivos\n"
   ]
  },
  {
   "cell_type": "code",
   "execution_count": 15,
   "metadata": {},
   "outputs": [],
   "source": [
    "# load image files\n",
    "load_image_file = function(filename) {\n",
    "  ret = list()\n",
    "  f = file(filename, 'rb')\n",
    "  readBin(f, 'integer', n = 1, size = 4, endian = 'big')\n",
    "  n    = readBin(f, 'integer', n = 1, size = 4, endian = 'big')\n",
    "  nrow = readBin(f, 'integer', n = 1, size = 4, endian = 'big')\n",
    "  ncol = readBin(f, 'integer', n = 1, size = 4, endian = 'big')\n",
    "  x = readBin(f, 'integer', n = n * nrow * ncol, size = 1, signed = FALSE)\n",
    "  close(f)\n",
    "  data.frame(matrix(x, ncol = nrow * ncol, byrow = TRUE))\n",
    "}\n",
    "\n",
    "# load label files\n",
    "load_label_file = function(filename) {\n",
    "  f = file(filename, 'rb')\n",
    "  readBin(f, 'integer', n = 1, size = 4, endian = 'big')\n",
    "  n = readBin(f, 'integer', n = 1, size = 4, endian = 'big')\n",
    "  y = readBin(f, 'integer', n = n, size = 1, signed = FALSE)\n",
    "  close(f)\n",
    "  y\n",
    "}"
   ]
  },
  {
   "cell_type": "code",
   "execution_count": 16,
   "metadata": {},
   "outputs": [],
   "source": [
    "# load images\n",
    "x_train = load_image_file(\"train-images-idx3-ubyte\")\n",
    "x_test  = load_image_file(\"t10k-images-idx3-ubyte\")\n",
    "\n",
    "# load labels\n",
    "y_train = load_label_file(\"train-labels-idx1-ubyte\")\n",
    "y_test  = load_label_file(\"t10k-labels-idx1-ubyte\")"
   ]
  },
  {
   "cell_type": "markdown",
   "metadata": {},
   "source": [
    "Dibujamos los 6 primeros digitos para ver el dataset que tenemos"
   ]
  },
  {
   "cell_type": "code",
   "execution_count": 31,
   "metadata": {},
   "outputs": [
    {
     "data": {
      "image/png": "[encoded data removed]",
      "text/plain": [
       "Plot with title “2”"
      ]
     },
     "metadata": {},
     "output_type": "display_data"
    }
   ],
   "source": [
    "# Dibujamos los 6 primeros dígitos de la base de datos\n",
    "par(mfrow = c(2,3))\n",
    "for (i in 1:6) {\n",
    "    image(matrix(as.matrix(x_train[i,1:784]), nrow = 28, ncol = 28))\n",
    "    title(y_train[i])\n",
    "}"
   ]
  },
  {
   "cell_type": "code",
   "execution_count": 32,
   "metadata": {},
   "outputs": [
    {
     "data": {
      "image/png": "[encoded data removed]",
      "text/plain": [
       "Plot with title “Histogram of y_train”"
      ]
     },
     "metadata": {},
     "output_type": "display_data"
    }
   ],
   "source": [
    "# Cada dígito está igualmente representado en la muestra\n",
    "hist(y_train, breaks = -0.5:9.5)"
   ]
  },
  {
   "cell_type": "markdown",
   "metadata": {},
   "source": [
    "El objetivo es clasificar correctamente cada una de las imágenes, utilizando el valor de los 784 pixeles. Este problema se encuandra dentro de la clasificación multi-categoría (tenemos 10 posibles clases a predicir para cada dato). \n",
    "\n",
    "Para simplificar estos problemas, se suelen consideran tantos problemas binarios (predecir sí o no) independientes como categorías se tengan. Es decir, un modelo para clasificar 0 (si o no), otro para 1, etc. En este ejemplo, consideramos el dígito '9' y el objetivo es predecir si una imagen es 9 o no."
   ]
  },
  {
   "cell_type": "code",
   "execution_count": 33,
   "metadata": {},
   "outputs": [],
   "source": [
    "# Seleccionamos un dígito concreto para tratar de predecirlo. Por ejemplo el nueve\n",
    "# y9 = 1 si el dígito es 9 y 0 en caso contrario\n",
    "y9 <- y_train;\n",
    "y9[which(y_train != 9)] <- 0 ; y9[which(y_train == 9)] <- 1"
   ]
  },
  {
   "cell_type": "code",
   "execution_count": 50,
   "metadata": {},
   "outputs": [],
   "source": [
    "# Construimos un dataframe para entrenar el modelo\n",
    "dat <- data.frame(y9,x_train)"
   ]
  },
  {
   "cell_type": "markdown",
   "metadata": {},
   "source": [
    "Como el tamaño de la muestra es muy grande (60000 imagenes), seleccionamos una muestra para entrenar; por ejemplo, los 5000 primeros dígitos."
   ]
  },
  {
   "cell_type": "code",
   "execution_count": 52,
   "metadata": {},
   "outputs": [],
   "source": [
    "i<- 1:5000;\n",
    "j<-5001:10000\n",
    "#Random sampling\n",
    "#i<-sample(1:dim(x)[1],5000);\n",
    "datT <- dat[i,]\n",
    "datt <- dat[j,]"
   ]
  },
  {
   "cell_type": "markdown",
   "metadata": {},
   "source": [
    "Aunque no es el modelo adecuado, ya que no está acotada y puede tomar valores mucho mayores que 1 o menores que 0, construimos primero un modelo de regresión lineal para estos datos."
   ]
  },
  {
   "cell_type": "code",
   "execution_count": 36,
   "metadata": {},
   "outputs": [
    {
     "data": {
      "image/png": "[encoded data removed]",
      "text/plain": [
       "Plot with title “Histogram of out”"
      ]
     },
     "metadata": {},
     "output_type": "display_data"
    }
   ],
   "source": [
    "# Entrenamos primero un modelo lineal\n",
    "model <- lm(datT$y9~., data = datT)\n",
    "out <- model$fitted.values\n",
    "# El histograma muestra valores predichos (incluyendo negativos y mayores que 1)\n",
    "hist(out)"
   ]
  },
  {
   "cell_type": "markdown",
   "metadata": {},
   "source": [
    "Hacemos la salida del modelo binaria considerando el umbral en 0.5 (a modo de probabilidad) y calculamos la tasa de acierto con los datos de train"
   ]
  },
  {
   "cell_type": "code",
   "execution_count": 37,
   "metadata": {},
   "outputs": [
    {
     "data": {
      "text/html": [
       "96,18"
      ],
      "text/latex": [
       "96,18"
      ],
      "text/markdown": [
       "96,18"
      ],
      "text/plain": [
       "[1] 96,18"
      ]
     },
     "metadata": {},
     "output_type": "display_data"
    }
   ],
   "source": [
    "# Hacemos binaria la salida considerando el umbral 0.5 (a modo de probabilidad)\n",
    "outbin <- as.double(out > 0.5)\n",
    "\n",
    "# Tasa de acierto (en entrenamiento)\n",
    "100*sum(diag(table(datT[,1], outbin))) / length(outbin)"
   ]
  },
  {
   "cell_type": "code",
   "execution_count": 38,
   "metadata": {},
   "outputs": [
    {
     "name": "stderr",
     "output_type": "stream",
     "text": [
      "Warning message in predict.lm(object = model, newdata = datt):\n",
      "“prediction from a rank-deficient fit may be misleading”"
     ]
    },
    {
     "data": {
      "text/html": [
       "94,68"
      ],
      "text/latex": [
       "94,68"
      ],
      "text/markdown": [
       "94,68"
      ],
      "text/plain": [
       "[1] 94,68"
      ]
     },
     "metadata": {},
     "output_type": "display_data"
    }
   ],
   "source": [
    "# Tasa de acierto de test\n",
    "out1<- predict(object=model, newdata = datt);\n",
    "outbin1 <- as.double(out1 > 0.5)\n",
    "100*sum(diag(table(datt[,1], outbin1))) / length(outbin1)"
   ]
  },
  {
   "cell_type": "markdown",
   "metadata": {},
   "source": [
    "Ahora construimos un modelo de regresión logística utilizando la función 'glm' con la familia 'family = binomial(link = \"logit\")'"
   ]
  },
  {
   "cell_type": "code",
   "execution_count": 39,
   "metadata": {},
   "outputs": [
    {
     "name": "stderr",
     "output_type": "stream",
     "text": [
      "Warning message:\n",
      "“glm.fit: algorithm did not converge”Warning message:\n",
      "“glm.fit: fitted probabilities numerically 0 or 1 occurred”"
     ]
    },
    {
     "data": {
      "text/html": [
       "98,26"
      ],
      "text/latex": [
       "98,26"
      ],
      "text/markdown": [
       "98,26"
      ],
      "text/plain": [
       "[1] 98,26"
      ]
     },
     "metadata": {},
     "output_type": "display_data"
    }
   ],
   "source": [
    "model1 <- glm(datT$y9~., data = datT, family = binomial(link = \"logit\"))\n",
    "\n",
    "\n",
    "# Problemas de convergencia con tantas variables\n",
    "# Coefficients: (138 not defined because of singularities)\n",
    "# Tasa de acierto (Train)\n",
    "out2 <- model1$fitted.values\n",
    "outbin2 <- as.double(out2 > 0.5)\n",
    "100*sum(diag(table(datT[,1], outbin2))) / length(outbin2)"
   ]
  },
  {
   "cell_type": "code",
   "execution_count": 40,
   "metadata": {},
   "outputs": [
    {
     "data": {
      "image/png": "[encoded data removed]",
      "text/plain": [
       "Plot with title “Histogram of out2”"
      ]
     },
     "metadata": {},
     "output_type": "display_data"
    }
   ],
   "source": [
    "hist(out2)"
   ]
  },
  {
   "cell_type": "code",
   "execution_count": 41,
   "metadata": {},
   "outputs": [
    {
     "name": "stderr",
     "output_type": "stream",
     "text": [
      "Warning message in predict.lm(object, newdata, se.fit, scale = 1, type = if (type == :\n",
      "“prediction from a rank-deficient fit may be misleading”"
     ]
    },
    {
     "data": {
      "text/html": [
       "92,18"
      ],
      "text/latex": [
       "92,18"
      ],
      "text/markdown": [
       "92,18"
      ],
      "text/plain": [
       "[1] 92,18"
      ]
     },
     "metadata": {},
     "output_type": "display_data"
    }
   ],
   "source": [
    "# Tasa de acierto (test)\n",
    "out3<- predict(object=model1, newdata = datt);\n",
    "outbin3 <- as.double(out3 > 0.5)\n",
    "100*sum(diag(table(datt[,1], outbin3))) / length(outbin3)"
   ]
  },
  {
   "cell_type": "markdown",
   "metadata": {},
   "source": [
    "Las inestabilidades numéricas se producen por la alta dimensionalidad de los datos. Algunos de los coeficientes resultan redundantes y el proceso de optimización no converge.\n",
    "### (195 not defined because of singularities)."
   ]
  },
  {
   "cell_type": "markdown",
   "metadata": {},
   "source": [
    "Una solución a este problema es reducir la dimensionalidad del conjunto de predictores. Para ello existen técnicas eficientes (como los métodos de regularización o las Componentes Principales) que se verán más adelante. En esta práctica utilizamos un entresacado de información, considerando sólo uno de cada 20 pixeles."
   ]
  },
  {
   "cell_type": "code",
   "execution_count": 42,
   "metadata": {},
   "outputs": [
    {
     "data": {
      "text/html": [
       "90,28"
      ],
      "text/latex": [
       "90,28"
      ],
      "text/markdown": [
       "90,28"
      ],
      "text/plain": [
       "[1] 90,28"
      ]
     },
     "metadata": {},
     "output_type": "display_data"
    },
    {
     "name": "stderr",
     "output_type": "stream",
     "text": [
      "Warning message in predict.lm(object = model, newdata = datt[, j]):\n",
      "“prediction from a rank-deficient fit may be misleading”"
     ]
    },
    {
     "data": {
      "text/html": [
       "91,1"
      ],
      "text/latex": [
       "91,1"
      ],
      "text/markdown": [
       "91,1"
      ],
      "text/plain": [
       "[1] 91,1"
      ]
     },
     "metadata": {},
     "output_type": "display_data"
    }
   ],
   "source": [
    "#Modelo de regresión lineal\n",
    "j<-seq(1,784,20)\n",
    "model <- lm(datT$y9~., data = datT[,j])\n",
    "out <- model$fitted.values\n",
    "outbin <- as.double(out > 0.5)\n",
    "100*sum(diag(table(datT[,1], outbin))) / length(outbin)\n",
    "out1<- predict(object=model, newdata = datt[,j]);\n",
    "outbin1 <- as.double(out1 > 0.5)\n",
    "100*sum(diag(table(datt[,1], outbin1))) / length(outbin1)"
   ]
  },
  {
   "cell_type": "code",
   "execution_count": 43,
   "metadata": {},
   "outputs": [
    {
     "name": "stderr",
     "output_type": "stream",
     "text": [
      "Warning message:\n",
      "“glm.fit: fitted probabilities numerically 0 or 1 occurred”"
     ]
    },
    {
     "data": {
      "text/html": [
       "92,02"
      ],
      "text/latex": [
       "92,02"
      ],
      "text/markdown": [
       "92,02"
      ],
      "text/plain": [
       "[1] 92,02"
      ]
     },
     "metadata": {},
     "output_type": "display_data"
    },
    {
     "name": "stderr",
     "output_type": "stream",
     "text": [
      "Warning message in predict.lm(object, newdata, se.fit, scale = 1, type = if (type == :\n",
      "“prediction from a rank-deficient fit may be misleading”"
     ]
    },
    {
     "data": {
      "text/html": [
       "92,26"
      ],
      "text/latex": [
       "92,26"
      ],
      "text/markdown": [
       "92,26"
      ],
      "text/plain": [
       "[1] 92,26"
      ]
     },
     "metadata": {},
     "output_type": "display_data"
    }
   ],
   "source": [
    "#Regresión logística\n",
    "j<-seq(1,784,20)\n",
    "model <- glm(datT$y9~., data = datT[,j], family = binomial(link = \"logit\"))\n",
    "out <- model$fitted.values\n",
    "outbin <- as.double(out > 0.5)\n",
    "100*sum(diag(table(datT[,1], outbin))) / length(outbin)\n",
    "out1<- predict(object=model, newdata = datt[,j]);\n",
    "outbin1 <- as.double(out1 > 0.5)\n",
    "100*sum(diag(table(datt[,1], outbin1))) / length(outbin1)"
   ]
  },
  {
   "cell_type": "markdown",
   "metadata": {},
   "source": [
    "# PRACTICA 1\n",
    "\n",
    "Construir un modelo de clasificación para cada dígito, y obtener una ranking de los dígitos en base a su capacidad predictiva (el primero el que mejor se predice, etc.). Para evaluar la capacidad predictiva considerando el error de test obtenido al separar aleatoriamente la muestra en un conjunto de train (n=10000) y el resto de test. \n",
    "\n",
    "Nota: usar la función 'sample'. \n",
    "Nota2: Elige un entresacado óptimo para que la capacidad predictiva no se reduzca y se reduzca la dimensión el máximo posible."
   ]
  },
  {
   "cell_type": "code",
   "execution_count": null,
   "metadata": {},
   "outputs": [],
   "source": [
    "# Rellena"
   ]
  },
  {
   "cell_type": "markdown",
   "metadata": {},
   "source": [
    "## Empiezo por 0"
   ]
  },
  {
   "cell_type": "code",
   "execution_count": 106,
   "metadata": {},
   "outputs": [],
   "source": [
    "# Train: primeras 5000 imagenes\n",
    "i <- 1:5000;\n",
    "\n",
    "# Test: imagenes de 5001 a 10000\n",
    "j <- 5001:10000\n",
    "\n",
    "# el numero que quiero esudiar\n",
    "N = 0\n",
    "\n",
    "# y_train: sample de train\n",
    "\n",
    "# añado una columna a la muestra de train, que vale:\n",
    "# 1 si es el numero que queremo\n",
    "# 0 si es otro numero\n",
    "\n",
    "my.y <- y_train;\n",
    "my.y[which(y_train != N)] <- 0 ; my.y[which(y_train == N)] <- 1\n",
    "\n",
    "my.dat <- data.frame(my.y,x_train)\n",
    "\n",
    "my.dat.train <- my.dat[i,]\n",
    "my.dat.test  <- my.dat[j,]"
   ]
  },
  {
   "cell_type": "code",
   "execution_count": 94,
   "metadata": {},
   "outputs": [
    {
     "name": "stderr",
     "output_type": "stream",
     "text": [
      "Warning message:\n",
      "“glm.fit: algorithm did not converge”Warning message:\n",
      "“glm.fit: fitted probabilities numerically 0 or 1 occurred”"
     ]
    }
   ],
   "source": [
    "# entreno el modelo logistico con 5000 imagenes (considero todos los pixeles de la imagen)\n",
    "\n",
    "my.model <- glm(my.dat.train$my.y~., data = my.dat.train, family = binomial(link = \"logit\"))"
   ]
  },
  {
   "cell_type": "code",
   "execution_count": 102,
   "metadata": {},
   "outputs": [
    {
     "data": {
      "text/html": [
       "100"
      ],
      "text/latex": [
       "100"
      ],
      "text/markdown": [
       "100"
      ],
      "text/plain": [
       "[1] 100"
      ]
     },
     "metadata": {},
     "output_type": "display_data"
    },
    {
     "data": {
      "text/plain": [
       "   out.bin\n",
       "       0    1\n",
       "  0 4521    0\n",
       "  1    0  479"
      ]
     },
     "metadata": {},
     "output_type": "display_data"
    }
   ],
   "source": [
    "# Tasa de acierto (Train)\n",
    "out.train <- my.model$fitted.values\n",
    "out.bin <- as.double(out.train > 0.5)\n",
    "100*sum(diag(table(my.dat.train[,1], out.bin))) / length(out.bin)\n",
    "\n",
    "# Matriz de confusion (Train)\n",
    "table(my.dat.train[,1], out.bin)"
   ]
  },
  {
   "cell_type": "code",
   "execution_count": 103,
   "metadata": {},
   "outputs": [
    {
     "name": "stderr",
     "output_type": "stream",
     "text": [
      "Warning message in predict.lm(object, newdata, se.fit, scale = 1, type = if (type == :\n",
      "“prediction from a rank-deficient fit may be misleading”"
     ]
    },
    {
     "data": {
      "text/html": [
       "96,94"
      ],
      "text/latex": [
       "96,94"
      ],
      "text/markdown": [
       "96,94"
      ],
      "text/plain": [
       "[1] 96,94"
      ]
     },
     "metadata": {},
     "output_type": "display_data"
    },
    {
     "data": {
      "text/plain": [
       "   out.bin.test\n",
       "       0    1\n",
       "  0 4365  113\n",
       "  1   40  482"
      ]
     },
     "metadata": {},
     "output_type": "display_data"
    }
   ],
   "source": [
    "# Tasa de acierto (test)\n",
    "out.test<- predict(object=my.model, newdata = my.dat.test);\n",
    "out.bin.test <- as.double(out.test > 0.5)\n",
    "100*sum(diag(table(my.dat.test[,1], out.bin.test))) / length(out.bin.test)\n",
    "\n",
    "# Matriz de confusion (test)\n",
    "table(my.dat.test[,1], out.bin.test)"
   ]
  },
  {
   "cell_type": "markdown",
   "metadata": {},
   "source": [
    "### Sampleando los pixeles"
   ]
  },
  {
   "cell_type": "code",
   "execution_count": 177,
   "metadata": {},
   "outputs": [
    {
     "name": "stderr",
     "output_type": "stream",
     "text": [
      "Warning message:\n",
      "“glm.fit: fitted probabilities numerically 0 or 1 occurred”Warning message in predict.lm(object, newdata, se.fit, scale = 1, type = if (type == :\n",
      "“prediction from a rank-deficient fit may be misleading”Warning message:\n",
      "“glm.fit: algorithm did not converge”Warning message:\n",
      "“glm.fit: fitted probabilities numerically 0 or 1 occurred”Warning message in predict.lm(object, newdata, se.fit, scale = 1, type = if (type == :\n",
      "“prediction from a rank-deficient fit may be misleading”Warning message:\n",
      "“glm.fit: fitted probabilities numerically 0 or 1 occurred”Warning message in predict.lm(object, newdata, se.fit, scale = 1, type = if (type == :\n",
      "“prediction from a rank-deficient fit may be misleading”Warning message:\n",
      "“glm.fit: fitted probabilities numerically 0 or 1 occurred”Warning message in predict.lm(object, newdata, se.fit, scale = 1, type = if (type == :\n",
      "“prediction from a rank-deficient fit may be misleading”Warning message:\n",
      "“glm.fit: fitted probabilities numerically 0 or 1 occurred”Warning message in predict.lm(object, newdata, se.fit, scale = 1, type = if (type == :\n",
      "“prediction from a rank-deficient fit may be misleading”Warning message:\n",
      "“glm.fit: fitted probabilities numerically 0 or 1 occurred”Warning message in predict.lm(object, newdata, se.fit, scale = 1, type = if (type == :\n",
      "“prediction from a rank-deficient fit may be misleading”Warning message:\n",
      "“glm.fit: fitted probabilities numerically 0 or 1 occurred”Warning message in predict.lm(object, newdata, se.fit, scale = 1, type = if (type == :\n",
      "“prediction from a rank-deficient fit may be misleading”Warning message:\n",
      "“glm.fit: algorithm did not converge”Warning message:\n",
      "“glm.fit: fitted probabilities numerically 0 or 1 occurred”Warning message in predict.lm(object, newdata, se.fit, scale = 1, type = if (type == :\n",
      "“prediction from a rank-deficient fit may be misleading”Warning message:\n",
      "“glm.fit: fitted probabilities numerically 0 or 1 occurred”Warning message in predict.lm(object, newdata, se.fit, scale = 1, type = if (type == :\n",
      "“prediction from a rank-deficient fit may be misleading”Warning message:\n",
      "“glm.fit: fitted probabilities numerically 0 or 1 occurred”Warning message in predict.lm(object, newdata, se.fit, scale = 1, type = if (type == :\n",
      "“prediction from a rank-deficient fit may be misleading”"
     ]
    }
   ],
   "source": [
    "# Train: primeras 10000 imagenes\n",
    "i <- 1:10000;\n",
    "\n",
    "# Test: imagenes de 10001 a 60000\n",
    "q <- 10001:60000\n",
    "\n",
    "my.results.vector <-c()\n",
    "\n",
    "numbers <- seq(0,9)\n",
    "\n",
    "# el numero que quiero estudiar\n",
    "for (N in numbers){\n",
    "    #print(N)\n",
    "\n",
    "    # y_train: sample de train\n",
    "\n",
    "    # añado una columna a la muestra de train, que vale:\n",
    "    # 1 si es el numero que queremo\n",
    "    # 0 si es otro numero\n",
    "\n",
    "    my.y <- y_train;\n",
    "    my.y[which(y_train != N)] <- 0 ; my.y[which(y_train == N)] <- 1\n",
    "\n",
    "    my.dat <- data.frame(my.y,x_train)\n",
    "\n",
    "    my.dat.train <- my.dat[i,]\n",
    "    my.dat.test  <- my.dat[q,]\n",
    "\n",
    "    # Sample aleatorio de los pixeles que considero\n",
    "    #j <- sample(0:784, 39)\n",
    "    j <- seq(1,784,20)\n",
    "\n",
    "    # Entrenamiento del modelo\n",
    "    my.model <- glm(my.dat.train$my.y~., data = my.dat.train[,j], family = binomial(link = \"logit\"))\n",
    "\n",
    "    # Tasa de acierto (test)\n",
    "    out.test<- predict(object=my.model, newdata = my.dat.test);\n",
    "    out.bin.test <- as.double(out.test > 0.5)\n",
    "\n",
    "    # Guardo la accuracy\n",
    "    my.results.vector <- c(my.results.vector, 100*sum(diag(table(my.dat.test[,1], out.bin.test))) / length(out.bin.test))\n",
    "}\n",
    "\n",
    "names(my.results.vector) <-  numbers\n",
    "sort.int(my.results.vector, index.return = T)$x"
   ]
  },
  {
   "cell_type": "markdown",
   "metadata": {},
   "source": [
    "PRACTICA 2: Tener en cuenta la variabilidad del error de test a la hora de construir el ranking anterior. Para ello, además de calcular la tasa de acierto para cada dígito, considerar también un \"intervalo de confianza\" obtenido como la dispersión (desviación típica) de 10 medidas de test obtenidas con 10 muestras aleatorias distintas. ¿Existe algún dígito que pueda predecirse significativamente mejor que los demás?"
   ]
  },
  {
   "cell_type": "code",
   "execution_count": 187,
   "metadata": {},
   "outputs": [
    {
     "name": "stderr",
     "output_type": "stream",
     "text": [
      "Warning message:\n",
      "“glm.fit: fitted probabilities numerically 0 or 1 occurred”Warning message in predict.lm(object, newdata, se.fit, scale = 1, type = if (type == :\n",
      "“prediction from a rank-deficient fit may be misleading”Warning message in predict.lm(object, newdata, se.fit, scale = 1, type = if (type == :\n",
      "“prediction from a rank-deficient fit may be misleading”Warning message in predict.lm(object, newdata, se.fit, scale = 1, type = if (type == :\n",
      "“prediction from a rank-deficient fit may be misleading”Warning message in predict.lm(object, newdata, se.fit, scale = 1, type = if (type == :\n",
      "“prediction from a rank-deficient fit may be misleading”Warning message in predict.lm(object, newdata, se.fit, scale = 1, type = if (type == :\n",
      "“prediction from a rank-deficient fit may be misleading”Warning message in predict.lm(object, newdata, se.fit, scale = 1, type = if (type == :\n",
      "“prediction from a rank-deficient fit may be misleading”Warning message in predict.lm(object, newdata, se.fit, scale = 1, type = if (type == :\n",
      "“prediction from a rank-deficient fit may be misleading”Warning message in predict.lm(object, newdata, se.fit, scale = 1, type = if (type == :\n",
      "“prediction from a rank-deficient fit may be misleading”Warning message in predict.lm(object, newdata, se.fit, scale = 1, type = if (type == :\n",
      "“prediction from a rank-deficient fit may be misleading”Warning message in predict.lm(object, newdata, se.fit, scale = 1, type = if (type == :\n",
      "“prediction from a rank-deficient fit may be misleading”Warning message:\n",
      "“glm.fit: algorithm did not converge”Warning message:\n",
      "“glm.fit: fitted probabilities numerically 0 or 1 occurred”Warning message in predict.lm(object, newdata, se.fit, scale = 1, type = if (type == :\n",
      "“prediction from a rank-deficient fit may be misleading”Warning message in predict.lm(object, newdata, se.fit, scale = 1, type = if (type == :\n",
      "“prediction from a rank-deficient fit may be misleading”Warning message in predict.lm(object, newdata, se.fit, scale = 1, type = if (type == :\n",
      "“prediction from a rank-deficient fit may be misleading”Warning message in predict.lm(object, newdata, se.fit, scale = 1, type = if (type == :\n",
      "“prediction from a rank-deficient fit may be misleading”Warning message in predict.lm(object, newdata, se.fit, scale = 1, type = if (type == :\n",
      "“prediction from a rank-deficient fit may be misleading”Warning message in predict.lm(object, newdata, se.fit, scale = 1, type = if (type == :\n",
      "“prediction from a rank-deficient fit may be misleading”Warning message in predict.lm(object, newdata, se.fit, scale = 1, type = if (type == :\n",
      "“prediction from a rank-deficient fit may be misleading”Warning message in predict.lm(object, newdata, se.fit, scale = 1, type = if (type == :\n",
      "“prediction from a rank-deficient fit may be misleading”Warning message in predict.lm(object, newdata, se.fit, scale = 1, type = if (type == :\n",
      "“prediction from a rank-deficient fit may be misleading”Warning message in predict.lm(object, newdata, se.fit, scale = 1, type = if (type == :\n",
      "“prediction from a rank-deficient fit may be misleading”Warning message:\n",
      "“glm.fit: fitted probabilities numerically 0 or 1 occurred”Warning message in predict.lm(object, newdata, se.fit, scale = 1, type = if (type == :\n",
      "“prediction from a rank-deficient fit may be misleading”Warning message in predict.lm(object, newdata, se.fit, scale = 1, type = if (type == :\n",
      "“prediction from a rank-deficient fit may be misleading”Warning message in predict.lm(object, newdata, se.fit, scale = 1, type = if (type == :\n",
      "“prediction from a rank-deficient fit may be misleading”Warning message in predict.lm(object, newdata, se.fit, scale = 1, type = if (type == :\n",
      "“prediction from a rank-deficient fit may be misleading”Warning message in predict.lm(object, newdata, se.fit, scale = 1, type = if (type == :\n",
      "“prediction from a rank-deficient fit may be misleading”Warning message in predict.lm(object, newdata, se.fit, scale = 1, type = if (type == :\n",
      "“prediction from a rank-deficient fit may be misleading”Warning message in predict.lm(object, newdata, se.fit, scale = 1, type = if (type == :\n",
      "“prediction from a rank-deficient fit may be misleading”Warning message in predict.lm(object, newdata, se.fit, scale = 1, type = if (type == :\n",
      "“prediction from a rank-deficient fit may be misleading”Warning message in predict.lm(object, newdata, se.fit, scale = 1, type = if (type == :\n",
      "“prediction from a rank-deficient fit may be misleading”Warning message in predict.lm(object, newdata, se.fit, scale = 1, type = if (type == :\n",
      "“prediction from a rank-deficient fit may be misleading”Warning message:\n",
      "“glm.fit: fitted probabilities numerically 0 or 1 occurred”Warning message in predict.lm(object, newdata, se.fit, scale = 1, type = if (type == :\n",
      "“prediction from a rank-deficient fit may be misleading”Warning message in predict.lm(object, newdata, se.fit, scale = 1, type = if (type == :\n",
      "“prediction from a rank-deficient fit may be misleading”Warning message in predict.lm(object, newdata, se.fit, scale = 1, type = if (type == :\n",
      "“prediction from a rank-deficient fit may be misleading”Warning message in predict.lm(object, newdata, se.fit, scale = 1, type = if (type == :\n",
      "“prediction from a rank-deficient fit may be misleading”Warning message in predict.lm(object, newdata, se.fit, scale = 1, type = if (type == :\n",
      "“prediction from a rank-deficient fit may be misleading”Warning message in predict.lm(object, newdata, se.fit, scale = 1, type = if (type == :\n",
      "“prediction from a rank-deficient fit may be misleading”Warning message in predict.lm(object, newdata, se.fit, scale = 1, type = if (type == :\n",
      "“prediction from a rank-deficient fit may be misleading”Warning message in predict.lm(object, newdata, se.fit, scale = 1, type = if (type == :\n",
      "“prediction from a rank-deficient fit may be misleading”Warning message in predict.lm(object, newdata, se.fit, scale = 1, type = if (type == :\n",
      "“prediction from a rank-deficient fit may be misleading”Warning message in predict.lm(object, newdata, se.fit, scale = 1, type = if (type == :\n",
      "“prediction from a rank-deficient fit may be misleading”Warning message:\n",
      "“glm.fit: fitted probabilities numerically 0 or 1 occurred”Warning message in predict.lm(object, newdata, se.fit, scale = 1, type = if (type == :\n",
      "“prediction from a rank-deficient fit may be misleading”Warning message in predict.lm(object, newdata, se.fit, scale = 1, type = if (type == :\n",
      "“prediction from a rank-deficient fit may be misleading”Warning message in predict.lm(object, newdata, se.fit, scale = 1, type = if (type == :\n",
      "“prediction from a rank-deficient fit may be misleading”Warning message in predict.lm(object, newdata, se.fit, scale = 1, type = if (type == :\n",
      "“prediction from a rank-deficient fit may be misleading”Warning message in predict.lm(object, newdata, se.fit, scale = 1, type = if (type == :\n",
      "“prediction from a rank-deficient fit may be misleading”Warning message in predict.lm(object, newdata, se.fit, scale = 1, type = if (type == :\n",
      "“prediction from a rank-deficient fit may be misleading”Warning message in predict.lm(object, newdata, se.fit, scale = 1, type = if (type == :\n",
      "“prediction from a rank-deficient fit may be misleading”Warning message in predict.lm(object, newdata, se.fit, scale = 1, type = if (type == :\n",
      "“prediction from a rank-deficient fit may be misleading”Warning message in predict.lm(object, newdata, se.fit, scale = 1, type = if (type == :\n",
      "“prediction from a rank-deficient fit may be misleading”Warning message in predict.lm(object, newdata, se.fit, scale = 1, type = if (type == :\n",
      "“prediction from a rank-deficient fit may be misleading”Warning message:\n",
      "“glm.fit: fitted probabilities numerically 0 or 1 occurred”Warning message in predict.lm(object, newdata, se.fit, scale = 1, type = if (type == :\n",
      "“prediction from a rank-deficient fit may be misleading”Warning message in predict.lm(object, newdata, se.fit, scale = 1, type = if (type == :\n",
      "“prediction from a rank-deficient fit may be misleading”Warning message in predict.lm(object, newdata, se.fit, scale = 1, type = if (type == :\n",
      "“prediction from a rank-deficient fit may be misleading”Warning message in predict.lm(object, newdata, se.fit, scale = 1, type = if (type == :\n"
     ]
    },
    {
     "name": "stderr",
     "output_type": "stream",
     "text": [
      "“prediction from a rank-deficient fit may be misleading”Warning message in predict.lm(object, newdata, se.fit, scale = 1, type = if (type == :\n",
      "“prediction from a rank-deficient fit may be misleading”Warning message in predict.lm(object, newdata, se.fit, scale = 1, type = if (type == :\n",
      "“prediction from a rank-deficient fit may be misleading”Warning message in predict.lm(object, newdata, se.fit, scale = 1, type = if (type == :\n",
      "“prediction from a rank-deficient fit may be misleading”Warning message in predict.lm(object, newdata, se.fit, scale = 1, type = if (type == :\n",
      "“prediction from a rank-deficient fit may be misleading”Warning message in predict.lm(object, newdata, se.fit, scale = 1, type = if (type == :\n",
      "“prediction from a rank-deficient fit may be misleading”Warning message in predict.lm(object, newdata, se.fit, scale = 1, type = if (type == :\n",
      "“prediction from a rank-deficient fit may be misleading”Warning message:\n",
      "“glm.fit: fitted probabilities numerically 0 or 1 occurred”Warning message in predict.lm(object, newdata, se.fit, scale = 1, type = if (type == :\n",
      "“prediction from a rank-deficient fit may be misleading”Warning message in predict.lm(object, newdata, se.fit, scale = 1, type = if (type == :\n",
      "“prediction from a rank-deficient fit may be misleading”Warning message in predict.lm(object, newdata, se.fit, scale = 1, type = if (type == :\n",
      "“prediction from a rank-deficient fit may be misleading”Warning message in predict.lm(object, newdata, se.fit, scale = 1, type = if (type == :\n",
      "“prediction from a rank-deficient fit may be misleading”Warning message in predict.lm(object, newdata, se.fit, scale = 1, type = if (type == :\n",
      "“prediction from a rank-deficient fit may be misleading”Warning message in predict.lm(object, newdata, se.fit, scale = 1, type = if (type == :\n",
      "“prediction from a rank-deficient fit may be misleading”Warning message in predict.lm(object, newdata, se.fit, scale = 1, type = if (type == :\n",
      "“prediction from a rank-deficient fit may be misleading”Warning message in predict.lm(object, newdata, se.fit, scale = 1, type = if (type == :\n",
      "“prediction from a rank-deficient fit may be misleading”Warning message in predict.lm(object, newdata, se.fit, scale = 1, type = if (type == :\n",
      "“prediction from a rank-deficient fit may be misleading”Warning message in predict.lm(object, newdata, se.fit, scale = 1, type = if (type == :\n",
      "“prediction from a rank-deficient fit may be misleading”Warning message:\n",
      "“glm.fit: algorithm did not converge”Warning message:\n",
      "“glm.fit: fitted probabilities numerically 0 or 1 occurred”Warning message in predict.lm(object, newdata, se.fit, scale = 1, type = if (type == :\n",
      "“prediction from a rank-deficient fit may be misleading”Warning message in predict.lm(object, newdata, se.fit, scale = 1, type = if (type == :\n",
      "“prediction from a rank-deficient fit may be misleading”Warning message in predict.lm(object, newdata, se.fit, scale = 1, type = if (type == :\n",
      "“prediction from a rank-deficient fit may be misleading”Warning message in predict.lm(object, newdata, se.fit, scale = 1, type = if (type == :\n",
      "“prediction from a rank-deficient fit may be misleading”Warning message in predict.lm(object, newdata, se.fit, scale = 1, type = if (type == :\n",
      "“prediction from a rank-deficient fit may be misleading”Warning message in predict.lm(object, newdata, se.fit, scale = 1, type = if (type == :\n",
      "“prediction from a rank-deficient fit may be misleading”Warning message in predict.lm(object, newdata, se.fit, scale = 1, type = if (type == :\n",
      "“prediction from a rank-deficient fit may be misleading”Warning message in predict.lm(object, newdata, se.fit, scale = 1, type = if (type == :\n",
      "“prediction from a rank-deficient fit may be misleading”Warning message in predict.lm(object, newdata, se.fit, scale = 1, type = if (type == :\n",
      "“prediction from a rank-deficient fit may be misleading”Warning message in predict.lm(object, newdata, se.fit, scale = 1, type = if (type == :\n",
      "“prediction from a rank-deficient fit may be misleading”Warning message:\n",
      "“glm.fit: fitted probabilities numerically 0 or 1 occurred”Warning message in predict.lm(object, newdata, se.fit, scale = 1, type = if (type == :\n",
      "“prediction from a rank-deficient fit may be misleading”Warning message in predict.lm(object, newdata, se.fit, scale = 1, type = if (type == :\n",
      "“prediction from a rank-deficient fit may be misleading”Warning message in predict.lm(object, newdata, se.fit, scale = 1, type = if (type == :\n",
      "“prediction from a rank-deficient fit may be misleading”Warning message in predict.lm(object, newdata, se.fit, scale = 1, type = if (type == :\n",
      "“prediction from a rank-deficient fit may be misleading”Warning message in predict.lm(object, newdata, se.fit, scale = 1, type = if (type == :\n",
      "“prediction from a rank-deficient fit may be misleading”Warning message in predict.lm(object, newdata, se.fit, scale = 1, type = if (type == :\n",
      "“prediction from a rank-deficient fit may be misleading”Warning message in predict.lm(object, newdata, se.fit, scale = 1, type = if (type == :\n",
      "“prediction from a rank-deficient fit may be misleading”Warning message in predict.lm(object, newdata, se.fit, scale = 1, type = if (type == :\n",
      "“prediction from a rank-deficient fit may be misleading”Warning message in predict.lm(object, newdata, se.fit, scale = 1, type = if (type == :\n",
      "“prediction from a rank-deficient fit may be misleading”Warning message in predict.lm(object, newdata, se.fit, scale = 1, type = if (type == :\n",
      "“prediction from a rank-deficient fit may be misleading”Warning message:\n",
      "“glm.fit: fitted probabilities numerically 0 or 1 occurred”Warning message in predict.lm(object, newdata, se.fit, scale = 1, type = if (type == :\n",
      "“prediction from a rank-deficient fit may be misleading”Warning message in predict.lm(object, newdata, se.fit, scale = 1, type = if (type == :\n",
      "“prediction from a rank-deficient fit may be misleading”Warning message in predict.lm(object, newdata, se.fit, scale = 1, type = if (type == :\n",
      "“prediction from a rank-deficient fit may be misleading”Warning message in predict.lm(object, newdata, se.fit, scale = 1, type = if (type == :\n",
      "“prediction from a rank-deficient fit may be misleading”Warning message in predict.lm(object, newdata, se.fit, scale = 1, type = if (type == :\n",
      "“prediction from a rank-deficient fit may be misleading”Warning message in predict.lm(object, newdata, se.fit, scale = 1, type = if (type == :\n",
      "“prediction from a rank-deficient fit may be misleading”Warning message in predict.lm(object, newdata, se.fit, scale = 1, type = if (type == :\n",
      "“prediction from a rank-deficient fit may be misleading”Warning message in predict.lm(object, newdata, se.fit, scale = 1, type = if (type == :\n",
      "“prediction from a rank-deficient fit may be misleading”Warning message in predict.lm(object, newdata, se.fit, scale = 1, type = if (type == :\n",
      "“prediction from a rank-deficient fit may be misleading”Warning message in predict.lm(object, newdata, se.fit, scale = 1, type = if (type == :\n",
      "“prediction from a rank-deficient fit may be misleading”"
     ]
    },
    {
     "data": {
      "text/html": [
       "<table>\n",
       "<caption>A matrix: 10 × 10 of type dbl</caption>\n",
       "<tbody>\n",
       "\t<tr><td>96,18</td><td>95,98</td><td>94,28</td><td>93,14</td><td>93,14</td><td>92,16</td><td>93,08</td><td>95,20</td><td>92,82</td><td>90,92</td></tr>\n",
       "\t<tr><td>96,42</td><td>96,02</td><td>94,40</td><td>92,16</td><td>93,24</td><td>92,06</td><td>92,94</td><td>94,70</td><td>93,12</td><td>91,44</td></tr>\n",
       "\t<tr><td>96,42</td><td>95,70</td><td>94,76</td><td>92,50</td><td>93,68</td><td>92,78</td><td>93,16</td><td>95,00</td><td>92,38</td><td>91,50</td></tr>\n",
       "\t<tr><td>96,06</td><td>95,78</td><td>94,44</td><td>92,54</td><td>93,46</td><td>92,38</td><td>93,42</td><td>95,06</td><td>92,44</td><td>91,78</td></tr>\n",
       "\t<tr><td>96,20</td><td>96,18</td><td>93,72</td><td>92,46</td><td>93,38</td><td>92,02</td><td>93,30</td><td>94,72</td><td>92,40</td><td>91,32</td></tr>\n",
       "\t<tr><td>96,16</td><td>95,90</td><td>94,04</td><td>92,36</td><td>93,44</td><td>91,84</td><td>93,90</td><td>94,34</td><td>92,20</td><td>91,94</td></tr>\n",
       "\t<tr><td>96,12</td><td>96,38</td><td>93,90</td><td>92,26</td><td>93,84</td><td>92,50</td><td>93,58</td><td>94,82</td><td>92,64</td><td>91,36</td></tr>\n",
       "\t<tr><td>96,18</td><td>96,46</td><td>94,88</td><td>92,16</td><td>93,48</td><td>92,84</td><td>93,22</td><td>95,06</td><td>92,72</td><td>91,54</td></tr>\n",
       "\t<tr><td>95,80</td><td>96,18</td><td>94,30</td><td>92,34</td><td>93,38</td><td>92,46</td><td>92,92</td><td>94,58</td><td>91,92</td><td>91,50</td></tr>\n",
       "\t<tr><td>95,90</td><td>96,18</td><td>94,38</td><td>92,20</td><td>93,46</td><td>92,96</td><td>93,40</td><td>94,60</td><td>92,02</td><td>91,22</td></tr>\n",
       "</tbody>\n",
       "</table>\n"
      ],
      "text/latex": [
       "A matrix: 10 × 10 of type dbl\n",
       "\\begin{tabular}{llllllllll}\n",
       "\t 96,18 & 95,98 & 94,28 & 93,14 & 93,14 & 92,16 & 93,08 & 95,20 & 92,82 & 90,92\\\\\n",
       "\t 96,42 & 96,02 & 94,40 & 92,16 & 93,24 & 92,06 & 92,94 & 94,70 & 93,12 & 91,44\\\\\n",
       "\t 96,42 & 95,70 & 94,76 & 92,50 & 93,68 & 92,78 & 93,16 & 95,00 & 92,38 & 91,50\\\\\n",
       "\t 96,06 & 95,78 & 94,44 & 92,54 & 93,46 & 92,38 & 93,42 & 95,06 & 92,44 & 91,78\\\\\n",
       "\t 96,20 & 96,18 & 93,72 & 92,46 & 93,38 & 92,02 & 93,30 & 94,72 & 92,40 & 91,32\\\\\n",
       "\t 96,16 & 95,90 & 94,04 & 92,36 & 93,44 & 91,84 & 93,90 & 94,34 & 92,20 & 91,94\\\\\n",
       "\t 96,12 & 96,38 & 93,90 & 92,26 & 93,84 & 92,50 & 93,58 & 94,82 & 92,64 & 91,36\\\\\n",
       "\t 96,18 & 96,46 & 94,88 & 92,16 & 93,48 & 92,84 & 93,22 & 95,06 & 92,72 & 91,54\\\\\n",
       "\t 95,80 & 96,18 & 94,30 & 92,34 & 93,38 & 92,46 & 92,92 & 94,58 & 91,92 & 91,50\\\\\n",
       "\t 95,90 & 96,18 & 94,38 & 92,20 & 93,46 & 92,96 & 93,40 & 94,60 & 92,02 & 91,22\\\\\n",
       "\\end{tabular}\n"
      ],
      "text/markdown": [
       "\n",
       "A matrix: 10 × 10 of type dbl\n",
       "\n",
       "| 96,18 | 95,98 | 94,28 | 93,14 | 93,14 | 92,16 | 93,08 | 95,20 | 92,82 | 90,92 |\n",
       "| 96,42 | 96,02 | 94,40 | 92,16 | 93,24 | 92,06 | 92,94 | 94,70 | 93,12 | 91,44 |\n",
       "| 96,42 | 95,70 | 94,76 | 92,50 | 93,68 | 92,78 | 93,16 | 95,00 | 92,38 | 91,50 |\n",
       "| 96,06 | 95,78 | 94,44 | 92,54 | 93,46 | 92,38 | 93,42 | 95,06 | 92,44 | 91,78 |\n",
       "| 96,20 | 96,18 | 93,72 | 92,46 | 93,38 | 92,02 | 93,30 | 94,72 | 92,40 | 91,32 |\n",
       "| 96,16 | 95,90 | 94,04 | 92,36 | 93,44 | 91,84 | 93,90 | 94,34 | 92,20 | 91,94 |\n",
       "| 96,12 | 96,38 | 93,90 | 92,26 | 93,84 | 92,50 | 93,58 | 94,82 | 92,64 | 91,36 |\n",
       "| 96,18 | 96,46 | 94,88 | 92,16 | 93,48 | 92,84 | 93,22 | 95,06 | 92,72 | 91,54 |\n",
       "| 95,80 | 96,18 | 94,30 | 92,34 | 93,38 | 92,46 | 92,92 | 94,58 | 91,92 | 91,50 |\n",
       "| 95,90 | 96,18 | 94,38 | 92,20 | 93,46 | 92,96 | 93,40 | 94,60 | 92,02 | 91,22 |\n",
       "\n"
      ],
      "text/plain": [
       "      [,1]  [,2]  [,3]  [,4]  [,5]  [,6]  [,7]  [,8]  [,9]  [,10]\n",
       " [1,] 96,18 95,98 94,28 93,14 93,14 92,16 93,08 95,20 92,82 90,92\n",
       " [2,] 96,42 96,02 94,40 92,16 93,24 92,06 92,94 94,70 93,12 91,44\n",
       " [3,] 96,42 95,70 94,76 92,50 93,68 92,78 93,16 95,00 92,38 91,50\n",
       " [4,] 96,06 95,78 94,44 92,54 93,46 92,38 93,42 95,06 92,44 91,78\n",
       " [5,] 96,20 96,18 93,72 92,46 93,38 92,02 93,30 94,72 92,40 91,32\n",
       " [6,] 96,16 95,90 94,04 92,36 93,44 91,84 93,90 94,34 92,20 91,94\n",
       " [7,] 96,12 96,38 93,90 92,26 93,84 92,50 93,58 94,82 92,64 91,36\n",
       " [8,] 96,18 96,46 94,88 92,16 93,48 92,84 93,22 95,06 92,72 91,54\n",
       " [9,] 95,80 96,18 94,30 92,34 93,38 92,46 92,92 94,58 91,92 91,50\n",
       "[10,] 95,90 96,18 94,38 92,20 93,46 92,96 93,40 94,60 92,02 91,22"
      ]
     },
     "metadata": {},
     "output_type": "display_data"
    },
    {
     "data": {
      "text/html": [
       "<ol class=list-inline>\n",
       "\t<li>96,18</li>\n",
       "\t<li>96,42</li>\n",
       "\t<li>96,42</li>\n",
       "\t<li>96,06</li>\n",
       "\t<li>96,2</li>\n",
       "\t<li>96,16</li>\n",
       "\t<li>96,12</li>\n",
       "\t<li>96,18</li>\n",
       "\t<li>95,8</li>\n",
       "\t<li>95,9</li>\n",
       "\t<li>95,98</li>\n",
       "\t<li>96,02</li>\n",
       "\t<li>95,7</li>\n",
       "\t<li>95,78</li>\n",
       "\t<li>96,18</li>\n",
       "\t<li>95,9</li>\n",
       "\t<li>96,38</li>\n",
       "\t<li>96,46</li>\n",
       "\t<li>96,18</li>\n",
       "\t<li>96,18</li>\n",
       "\t<li>94,28</li>\n",
       "\t<li>94,4</li>\n",
       "\t<li>94,76</li>\n",
       "\t<li>94,44</li>\n",
       "\t<li>93,72</li>\n",
       "\t<li>94,04</li>\n",
       "\t<li>93,9</li>\n",
       "\t<li>94,88</li>\n",
       "\t<li>94,3</li>\n",
       "\t<li>94,38</li>\n",
       "\t<li>93,14</li>\n",
       "\t<li>92,16</li>\n",
       "\t<li>92,5</li>\n",
       "\t<li>92,54</li>\n",
       "\t<li>92,46</li>\n",
       "\t<li>92,36</li>\n",
       "\t<li>92,26</li>\n",
       "\t<li>92,16</li>\n",
       "\t<li>92,34</li>\n",
       "\t<li>92,2</li>\n",
       "\t<li>93,14</li>\n",
       "\t<li>93,24</li>\n",
       "\t<li>93,68</li>\n",
       "\t<li>93,46</li>\n",
       "\t<li>93,38</li>\n",
       "\t<li>93,44</li>\n",
       "\t<li>93,84</li>\n",
       "\t<li>93,48</li>\n",
       "\t<li>93,38</li>\n",
       "\t<li>93,46</li>\n",
       "\t<li>92,16</li>\n",
       "\t<li>92,06</li>\n",
       "\t<li>92,78</li>\n",
       "\t<li>92,38</li>\n",
       "\t<li>92,02</li>\n",
       "\t<li>91,84</li>\n",
       "\t<li>92,5</li>\n",
       "\t<li>92,84</li>\n",
       "\t<li>92,46</li>\n",
       "\t<li>92,96</li>\n",
       "\t<li>93,08</li>\n",
       "\t<li>92,94</li>\n",
       "\t<li>93,16</li>\n",
       "\t<li>93,42</li>\n",
       "\t<li>93,3</li>\n",
       "\t<li>93,9</li>\n",
       "\t<li>93,58</li>\n",
       "\t<li>93,22</li>\n",
       "\t<li>92,92</li>\n",
       "\t<li>93,4</li>\n",
       "\t<li>95,2</li>\n",
       "\t<li>94,7</li>\n",
       "\t<li>95</li>\n",
       "\t<li>95,06</li>\n",
       "\t<li>94,72</li>\n",
       "\t<li>94,34</li>\n",
       "\t<li>94,82</li>\n",
       "\t<li>95,06</li>\n",
       "\t<li>94,58</li>\n",
       "\t<li>94,6</li>\n",
       "\t<li>92,82</li>\n",
       "\t<li>93,12</li>\n",
       "\t<li>92,38</li>\n",
       "\t<li>92,44</li>\n",
       "\t<li>92,4</li>\n",
       "\t<li>92,2</li>\n",
       "\t<li>92,64</li>\n",
       "\t<li>92,72</li>\n",
       "\t<li>91,92</li>\n",
       "\t<li>92,02</li>\n",
       "\t<li>90,92</li>\n",
       "\t<li>91,44</li>\n",
       "\t<li>91,5</li>\n",
       "\t<li>91,78</li>\n",
       "\t<li>91,32</li>\n",
       "\t<li>91,94</li>\n",
       "\t<li>91,36</li>\n",
       "\t<li>91,54</li>\n",
       "\t<li>91,5</li>\n",
       "\t<li>91,22</li>\n",
       "</ol>\n"
      ],
      "text/latex": [
       "\\begin{enumerate*}\n",
       "\\item 96,18\n",
       "\\item 96,42\n",
       "\\item 96,42\n",
       "\\item 96,06\n",
       "\\item 96,2\n",
       "\\item 96,16\n",
       "\\item 96,12\n",
       "\\item 96,18\n",
       "\\item 95,8\n",
       "\\item 95,9\n",
       "\\item 95,98\n",
       "\\item 96,02\n",
       "\\item 95,7\n",
       "\\item 95,78\n",
       "\\item 96,18\n",
       "\\item 95,9\n",
       "\\item 96,38\n",
       "\\item 96,46\n",
       "\\item 96,18\n",
       "\\item 96,18\n",
       "\\item 94,28\n",
       "\\item 94,4\n",
       "\\item 94,76\n",
       "\\item 94,44\n",
       "\\item 93,72\n",
       "\\item 94,04\n",
       "\\item 93,9\n",
       "\\item 94,88\n",
       "\\item 94,3\n",
       "\\item 94,38\n",
       "\\item 93,14\n",
       "\\item 92,16\n",
       "\\item 92,5\n",
       "\\item 92,54\n",
       "\\item 92,46\n",
       "\\item 92,36\n",
       "\\item 92,26\n",
       "\\item 92,16\n",
       "\\item 92,34\n",
       "\\item 92,2\n",
       "\\item 93,14\n",
       "\\item 93,24\n",
       "\\item 93,68\n",
       "\\item 93,46\n",
       "\\item 93,38\n",
       "\\item 93,44\n",
       "\\item 93,84\n",
       "\\item 93,48\n",
       "\\item 93,38\n",
       "\\item 93,46\n",
       "\\item 92,16\n",
       "\\item 92,06\n",
       "\\item 92,78\n",
       "\\item 92,38\n",
       "\\item 92,02\n",
       "\\item 91,84\n",
       "\\item 92,5\n",
       "\\item 92,84\n",
       "\\item 92,46\n",
       "\\item 92,96\n",
       "\\item 93,08\n",
       "\\item 92,94\n",
       "\\item 93,16\n",
       "\\item 93,42\n",
       "\\item 93,3\n",
       "\\item 93,9\n",
       "\\item 93,58\n",
       "\\item 93,22\n",
       "\\item 92,92\n",
       "\\item 93,4\n",
       "\\item 95,2\n",
       "\\item 94,7\n",
       "\\item 95\n",
       "\\item 95,06\n",
       "\\item 94,72\n",
       "\\item 94,34\n",
       "\\item 94,82\n",
       "\\item 95,06\n",
       "\\item 94,58\n",
       "\\item 94,6\n",
       "\\item 92,82\n",
       "\\item 93,12\n",
       "\\item 92,38\n",
       "\\item 92,44\n",
       "\\item 92,4\n",
       "\\item 92,2\n",
       "\\item 92,64\n",
       "\\item 92,72\n",
       "\\item 91,92\n",
       "\\item 92,02\n",
       "\\item 90,92\n",
       "\\item 91,44\n",
       "\\item 91,5\n",
       "\\item 91,78\n",
       "\\item 91,32\n",
       "\\item 91,94\n",
       "\\item 91,36\n",
       "\\item 91,54\n",
       "\\item 91,5\n",
       "\\item 91,22\n",
       "\\end{enumerate*}\n"
      ],
      "text/markdown": [
       "1. 96,18\n",
       "2. 96,42\n",
       "3. 96,42\n",
       "4. 96,06\n",
       "5. 96,2\n",
       "6. 96,16\n",
       "7. 96,12\n",
       "8. 96,18\n",
       "9. 95,8\n",
       "10. 95,9\n",
       "11. 95,98\n",
       "12. 96,02\n",
       "13. 95,7\n",
       "14. 95,78\n",
       "15. 96,18\n",
       "16. 95,9\n",
       "17. 96,38\n",
       "18. 96,46\n",
       "19. 96,18\n",
       "20. 96,18\n",
       "21. 94,28\n",
       "22. 94,4\n",
       "23. 94,76\n",
       "24. 94,44\n",
       "25. 93,72\n",
       "26. 94,04\n",
       "27. 93,9\n",
       "28. 94,88\n",
       "29. 94,3\n",
       "30. 94,38\n",
       "31. 93,14\n",
       "32. 92,16\n",
       "33. 92,5\n",
       "34. 92,54\n",
       "35. 92,46\n",
       "36. 92,36\n",
       "37. 92,26\n",
       "38. 92,16\n",
       "39. 92,34\n",
       "40. 92,2\n",
       "41. 93,14\n",
       "42. 93,24\n",
       "43. 93,68\n",
       "44. 93,46\n",
       "45. 93,38\n",
       "46. 93,44\n",
       "47. 93,84\n",
       "48. 93,48\n",
       "49. 93,38\n",
       "50. 93,46\n",
       "51. 92,16\n",
       "52. 92,06\n",
       "53. 92,78\n",
       "54. 92,38\n",
       "55. 92,02\n",
       "56. 91,84\n",
       "57. 92,5\n",
       "58. 92,84\n",
       "59. 92,46\n",
       "60. 92,96\n",
       "61. 93,08\n",
       "62. 92,94\n",
       "63. 93,16\n",
       "64. 93,42\n",
       "65. 93,3\n",
       "66. 93,9\n",
       "67. 93,58\n",
       "68. 93,22\n",
       "69. 92,92\n",
       "70. 93,4\n",
       "71. 95,2\n",
       "72. 94,7\n",
       "73. 95\n",
       "74. 95,06\n",
       "75. 94,72\n",
       "76. 94,34\n",
       "77. 94,82\n",
       "78. 95,06\n",
       "79. 94,58\n",
       "80. 94,6\n",
       "81. 92,82\n",
       "82. 93,12\n",
       "83. 92,38\n",
       "84. 92,44\n",
       "85. 92,4\n",
       "86. 92,2\n",
       "87. 92,64\n",
       "88. 92,72\n",
       "89. 91,92\n",
       "90. 92,02\n",
       "91. 90,92\n",
       "92. 91,44\n",
       "93. 91,5\n",
       "94. 91,78\n",
       "95. 91,32\n",
       "96. 91,94\n",
       "97. 91,36\n",
       "98. 91,54\n",
       "99. 91,5\n",
       "100. 91,22\n",
       "\n",
       "\n"
      ],
      "text/plain": [
       "  [1] 96,18 96,42 96,42 96,06 96,20 96,16 96,12 96,18 95,80 95,90 95,98 96,02\n",
       " [13] 95,70 95,78 96,18 95,90 96,38 96,46 96,18 96,18 94,28 94,40 94,76 94,44\n",
       " [25] 93,72 94,04 93,90 94,88 94,30 94,38 93,14 92,16 92,50 92,54 92,46 92,36\n",
       " [37] 92,26 92,16 92,34 92,20 93,14 93,24 93,68 93,46 93,38 93,44 93,84 93,48\n",
       " [49] 93,38 93,46 92,16 92,06 92,78 92,38 92,02 91,84 92,50 92,84 92,46 92,96\n",
       " [61] 93,08 92,94 93,16 93,42 93,30 93,90 93,58 93,22 92,92 93,40 95,20 94,70\n",
       " [73] 95,00 95,06 94,72 94,34 94,82 95,06 94,58 94,60 92,82 93,12 92,38 92,44\n",
       " [85] 92,40 92,20 92,64 92,72 91,92 92,02 90,92 91,44 91,50 91,78 91,32 91,94\n",
       " [97] 91,36 91,54 91,50 91,22"
      ]
     },
     "metadata": {},
     "output_type": "display_data"
    }
   ],
   "source": [
    "# Train: primeras 10000 imagenes\n",
    "i <- 1:10000;\n",
    "\n",
    "my.results.vector <- c()\n",
    "my.results.matrix <- matrix(, nrow = 1, ncol = 0)\n",
    "\n",
    "numbers <- seq(0,9)\n",
    "\n",
    "# el numero que quiero estudiar\n",
    "for (N in numbers){\n",
    "    #print(N)\n",
    "\n",
    "    # y_train: sample de train\n",
    "\n",
    "    # añado una columna a la muestra de train, que vale:\n",
    "    # 1 si es el numero que queremo\n",
    "    # 0 si es otro numero\n",
    "\n",
    "    my.y <- y_train;\n",
    "    my.y[which(y_train != N)] <- 0 ; my.y[which(y_train == N)] <- 1\n",
    "\n",
    "    my.dat <- data.frame(my.y,x_train)\n",
    "\n",
    "    my.dat.train <- my.dat[i,]\n",
    "\n",
    "    # Sample aleatorio de los pixeles que considero\n",
    "    #j <- sample(0:784, 39)\n",
    "    j <- seq(1,784,20)\n",
    "\n",
    "    # Entrenamiento del modelo\n",
    "    my.model <- glm(my.dat.train$my.y~., data = my.dat.train[,j], family = binomial(link = \"logit\"))\n",
    "\n",
    "    # test (repetido 10 veces)\n",
    "    for (z in 1:10){\n",
    "    \n",
    "        # Test: 5000 imagenes aleatorias\n",
    "        q <- sample(10001:60000, 5000)\n",
    "        my.dat.test  <- my.dat[q,]\n",
    "\n",
    "        # Tasa de acierto (test)\n",
    "        out.test<- predict(object=my.model, newdata = my.dat.test);\n",
    "        out.bin.test <- as.double(out.test > 0.5)\n",
    "\n",
    "        #print(100*sum(diag(table(my.dat.test[,1], out.bin.test))) / length(out.bin.test))\n",
    "        \n",
    "        # Guardo la accuracy\n",
    "        my.results.vector <- c(my.results.vector, 100*sum(diag(table(my.dat.test[,1], out.bin.test))) / length(out.bin.test))\n",
    "    }\n",
    "}"
   ]
  },
  {
   "cell_type": "code",
   "execution_count": 196,
   "metadata": {},
   "outputs": [
    {
     "data": {
      "text/html": [
       "<ol class=list-inline>\n",
       "\t<li>96,144</li>\n",
       "\t<li>96,076</li>\n",
       "\t<li>94,31</li>\n",
       "\t<li>92,412</li>\n",
       "\t<li>93,45</li>\n",
       "\t<li>92,4</li>\n",
       "\t<li>93,292</li>\n",
       "\t<li>94,808</li>\n",
       "\t<li>92,466</li>\n",
       "\t<li>91,452</li>\n",
       "</ol>\n"
      ],
      "text/latex": [
       "\\begin{enumerate*}\n",
       "\\item 96,144\n",
       "\\item 96,076\n",
       "\\item 94,31\n",
       "\\item 92,412\n",
       "\\item 93,45\n",
       "\\item 92,4\n",
       "\\item 93,292\n",
       "\\item 94,808\n",
       "\\item 92,466\n",
       "\\item 91,452\n",
       "\\end{enumerate*}\n"
      ],
      "text/markdown": [
       "1. 96,144\n",
       "2. 96,076\n",
       "3. 94,31\n",
       "4. 92,412\n",
       "5. 93,45\n",
       "6. 92,4\n",
       "7. 93,292\n",
       "8. 94,808\n",
       "9. 92,466\n",
       "10. 91,452\n",
       "\n",
       "\n"
      ],
      "text/plain": [
       " [1] 96,144 96,076 94,310 92,412 93,450 92,400 93,292 94,808 92,466 91,452"
      ]
     },
     "metadata": {},
     "output_type": "display_data"
    },
    {
     "data": {
      "text/html": [
       "<ol class=list-inline>\n",
       "\t<li>0,0382044444444446</li>\n",
       "\t<li>0,0605155555555546</li>\n",
       "\t<li>0,127488888888888</li>\n",
       "\t<li>0,0843733333333336</li>\n",
       "\t<li>0,0395777777777788</li>\n",
       "\t<li>0,144088888888888</li>\n",
       "\t<li>0,0900622222222233</li>\n",
       "\t<li>0,0723733333333338</li>\n",
       "\t<li>0,136448888888889</li>\n",
       "\t<li>0,0801066666666667</li>\n",
       "</ol>\n"
      ],
      "text/latex": [
       "\\begin{enumerate*}\n",
       "\\item 0,0382044444444446\n",
       "\\item 0,0605155555555546\n",
       "\\item 0,127488888888888\n",
       "\\item 0,0843733333333336\n",
       "\\item 0,0395777777777788\n",
       "\\item 0,144088888888888\n",
       "\\item 0,0900622222222233\n",
       "\\item 0,0723733333333338\n",
       "\\item 0,136448888888889\n",
       "\\item 0,0801066666666667\n",
       "\\end{enumerate*}\n"
      ],
      "text/markdown": [
       "1. 0,0382044444444446\n",
       "2. 0,0605155555555546\n",
       "3. 0,127488888888888\n",
       "4. 0,0843733333333336\n",
       "5. 0,0395777777777788\n",
       "6. 0,144088888888888\n",
       "7. 0,0900622222222233\n",
       "8. 0,0723733333333338\n",
       "9. 0,136448888888889\n",
       "10. 0,0801066666666667\n",
       "\n",
       "\n"
      ],
      "text/plain": [
       " [1] 0,03820444 0,06051556 0,12748889 0,08437333 0,03957778 0,14408889\n",
       " [7] 0,09006222 0,07237333 0,13644889 0,08010667"
      ]
     },
     "metadata": {},
     "output_type": "display_data"
    }
   ],
   "source": [
    "my.results.vector <- matrix(my.results.vector, nrow = 10, ncol = 10)\n",
    "\n",
    "#my.results.vector\n",
    "\n",
    "my.mean.values <- apply(my.results.vector, FUN = mean, MARGIN = 2)\n",
    "my.mean.values\n",
    "\n",
    "my.vars <- apply(my.results.vector, FUN = var, MARGIN = 2)\n",
    "my.vars"
   ]
  },
  {
   "cell_type": "markdown",
   "metadata": {},
   "source": [
    "TRABAJO EXTRA: Hasta ahora hemos utilizado la tasa de acierto como medida de validación de los clasificadores. Para ello, las predicciones probabilísticas se tiene que convertir a binarias (utilizando un umbral para al probabilidad). Sin embargo, existen otras medidas más generales que consideran el carácter probabilístico de la predicción. \n",
    "Leer https://es.wikipedia.org/wiki/Curva_ROC\n",
    "Practicar con el paquete 'AUC'\n",
    "#install.packages(\"AUC\")\n",
    "#library(\"AUC\")\n",
    "#roc<-roc(out,as.factor(datT[,1]))\n",
    "#auc(roc)\n",
    "#plot(roc)"
   ]
  },
  {
   "cell_type": "code",
   "execution_count": null,
   "metadata": {},
   "outputs": [],
   "source": []
  }
 ],
 "metadata": {
  "kernelspec": {
   "display_name": "R",
   "language": "R",
   "name": "ir"
  },
  "language_info": {
   "codemirror_mode": "r",
   "file_extension": ".r",
   "mimetype": "text/x-r-source",
   "name": "R",
   "pygments_lexer": "r",
   "version": "3.6.1"
  }
 },
 "nbformat": 4,
 "nbformat_minor": 2
}
