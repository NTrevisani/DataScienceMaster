{
 "cells": [
  {
   "cell_type": "markdown",
   "metadata": {},
   "source": [
    "# Practica de Remuestreo\n",
    "\n",
    "### Estudiante: Nicolò Trevisani\n",
    "\n",
    "Daniel García Diaz (garciad@ifca.unican.es)"
   ]
  },
  {
   "cell_type": "markdown",
   "metadata": {},
   "source": [
    "Las tecnicas de remuestreo son tecnicas desarrolladas hace pocos años para calcular valores estadisticos, basandose en tecnicas computacionales intensivas que evitan los calculos complejos de la teoria estadistica tradicional."
   ]
  },
  {
   "cell_type": "markdown",
   "metadata": {},
   "source": [
    "Serie temporal de datos fisico-quimicos medidos en el embalse de Cuerda del Pozo (Soria) en los años 2014 y 2015.\n",
    "\n",
    "File -> CdP_practica_estadistica.csv"
   ]
  },
  {
   "cell_type": "code",
   "execution_count": 4,
   "metadata": {},
   "outputs": [],
   "source": [
    "#Establecemos el directorio para poder leer los datos correctamente\n",
    "rm(list=ls())\n",
    "#setwd()\n",
    "file = \"CdP_practica_estadistica.csv\""
   ]
  },
  {
   "cell_type": "markdown",
   "metadata": {},
   "source": [
    "Carga el dataset con R y selecciona la temperatura de ambos años por separado. Selecciona solo los datos de Temperatura para el Verano (Julio, Agosto y Septiembre). \n",
    "\n",
    "NOTA!! -> Formatea la fecha para poder dividir los datos en años.\n",
    "\n",
    "Calula la media, mediana y desviacion media de cada uno de los años por separado, devuelve una tabla con los datos"
   ]
  },
  {
   "cell_type": "code",
   "execution_count": 36,
   "metadata": {},
   "outputs": [
    {
     "name": "stdout",
     "output_type": "stream",
     "text": [
      "'data.frame':\t730 obs. of  10 variables:\n",
      " $ date         : Factor w/ 730 levels \"01/01/2014 0:03\",..: 1 25 49 73 97 121 145 169 193 217 ...\n",
      " $ AVG.Temp.    : num  4 4.06 4.13 4.19 4.35 ...\n",
      " $ AVG.Press.   : num  9.62 3.94 3.99 3.95 9.39 ...\n",
      " $ AVG.Cond.    : num  0.0407 0.0399 0.0377 0.0346 0.0313 ...\n",
      " $ AVG.Salinity.: num  0.0304 0.0298 0.0281 0.0257 0.0232 ...\n",
      " $ AVG.DO.      : num  13.6 13.6 13.6 13.6 13.5 ...\n",
      " $ AVG.rawO2.   : num  558 557 559 560 561 ...\n",
      " $ AVG.OxySat.  : num  104 104 104 104 104 ...\n",
      " $ AVG.pH.      : num  8.13 8.11 8.05 7.97 7.9 ...\n",
      " $ AVG.Redox.   : num  356 359 360 362 358 ...\n",
      "'data.frame':\t683 obs. of  10 variables:\n",
      " $ date         : Factor w/ 730 levels \"01/01/2014 0:03\",..: 1 25 49 73 97 121 145 169 193 217 ...\n",
      " $ AVG.Temp.    : num  4 4.06 4.13 4.19 4.35 ...\n",
      " $ AVG.Press.   : num  9.62 3.94 3.99 3.95 9.39 ...\n",
      " $ AVG.Cond.    : num  0.0407 0.0399 0.0377 0.0346 0.0313 ...\n",
      " $ AVG.Salinity.: num  0.0304 0.0298 0.0281 0.0257 0.0232 ...\n",
      " $ AVG.DO.      : num  13.6 13.6 13.6 13.6 13.5 ...\n",
      " $ AVG.rawO2.   : num  558 557 559 560 561 ...\n",
      " $ AVG.OxySat.  : num  104 104 104 104 104 ...\n",
      " $ AVG.pH.      : num  8.13 8.11 8.05 7.97 7.9 ...\n",
      " $ AVG.Redox.   : num  356 359 360 362 358 ...\n",
      " - attr(*, \"na.action\")= 'omit' Named int  11 12 13 14 15 164 165 166 167 168 ...\n",
      "  ..- attr(*, \"names\")= chr  \"11\" \"12\" \"13\" \"14\" ...\n"
     ]
    }
   ],
   "source": [
    "# Leo el dataset y quito los valores 'na'\n",
    "my.data <- read.csv(file, sep = \",\")\n",
    "str(my.data)\n",
    "my.data <- na.omit(my.data)\n",
    "str(my.data)"
   ]
  },
  {
   "cell_type": "code",
   "execution_count": 37,
   "metadata": {},
   "outputs": [
    {
     "name": "stdout",
     "output_type": "stream",
     "text": [
      "'data.frame':\t683 obs. of  10 variables:\n",
      " $ date         : Date, format: \"2014-01-01\" \"2014-01-02\" ...\n",
      " $ AVG.Temp.    : num  4 4.06 4.13 4.19 4.35 ...\n",
      " $ AVG.Press.   : num  9.62 3.94 3.99 3.95 9.39 ...\n",
      " $ AVG.Cond.    : num  0.0407 0.0399 0.0377 0.0346 0.0313 ...\n",
      " $ AVG.Salinity.: num  0.0304 0.0298 0.0281 0.0257 0.0232 ...\n",
      " $ AVG.DO.      : num  13.6 13.6 13.6 13.6 13.5 ...\n",
      " $ AVG.rawO2.   : num  558 557 559 560 561 ...\n",
      " $ AVG.OxySat.  : num  104 104 104 104 104 ...\n",
      " $ AVG.pH.      : num  8.13 8.11 8.05 7.97 7.9 ...\n",
      " $ AVG.Redox.   : num  356 359 360 362 358 ...\n",
      " - attr(*, \"na.action\")= 'omit' Named int  11 12 13 14 15 164 165 166 167 168 ...\n",
      "  ..- attr(*, \"names\")= chr  \"11\" \"12\" \"13\" \"14\" ...\n"
     ]
    }
   ],
   "source": [
    "# formateo la fecha de manera que pueda seleccionar años y meses\n",
    "my.data$date <- as.Date(my.data$date, \"%d/%m/%Y %H:%M\")\n",
    "str(my.data)"
   ]
  },
  {
   "cell_type": "code",
   "execution_count": 44,
   "metadata": {},
   "outputs": [
    {
     "name": "stdout",
     "output_type": "stream",
     "text": [
      "'data.frame':\t90 obs. of  10 variables:\n",
      " $ date         : Date, format: \"2014-07-01\" \"2014-07-02\" ...\n",
      " $ AVG.Temp.    : num  15,4 14,7 14,8 15,1 15,2 ...\n",
      " $ AVG.Press.   : num  11,9 11,9 11,3 11,9 11,9 ...\n",
      " $ AVG.Cond.    : num  0,0565 0,0556 0,0555 0,0561 0,0563 ...\n",
      " $ AVG.Salinity.: num  0,0356 0,0355 0,0354 0,0356 0,0356 ...\n",
      " $ AVG.DO.      : num  7,24 6,73 6,65 7,18 6,95 ...\n",
      " $ AVG.rawO2.   : num  533 480 470 519 509 ...\n",
      " $ AVG.OxySat.  : num  74,9 68,2 67,0 73,3 71,6 ...\n",
      " $ AVG.pH.      : num  6,65 6,47 6,46 6,61 6,60 ...\n",
      " $ AVG.Redox.   : num  414 426 435 429 428 ...\n",
      " - attr(*, \"na.action\")= 'omit' Named int  11 12 13 14 15 164 165 166 167 168 ...\n",
      "  ..- attr(*, \"names\")= chr  \"11\" \"12\" \"13\" \"14\" ...\n"
     ]
    }
   ],
   "source": [
    "# Selecciono eventos del verano de 2014\n",
    "my.data.2014 <- my.data[format(my.data$date, \"%Y\") == 2014\n",
    "                        & (format(my.data$date, \"%m\") == '07' \n",
    "                        |  format(my.data$date, \"%m\") == '08'\n",
    "                        |  format(my.data$date, \"%m\") == '09'),]\n",
    "str(my.data.2014)"
   ]
  },
  {
   "cell_type": "code",
   "execution_count": 51,
   "metadata": {},
   "outputs": [
    {
     "name": "stdout",
     "output_type": "stream",
     "text": [
      "'data.frame':\t92 obs. of  10 variables:\n",
      " $ date         : Date, format: \"2015-07-01\" \"2015-07-02\" ...\n",
      " $ AVG.Temp.    : num  18,7 19,6 18,2 18,6 18,8 ...\n",
      " $ AVG.Press.   : num  8,67 7,40 8,56 8,72 8,55 ...\n",
      " $ AVG.Cond.    : num  0,0638 0,0652 0,0627 0,0636 0,0642 ...\n",
      " $ AVG.Salinity.: num  0,0379 0,0383 0,0376 0,0378 0,0380 ...\n",
      " $ AVG.DO.      : num  10,8 11,4 10,5 10,3 10,4 ...\n",
      " $ AVG.rawO2.   : num  753 790 746 714 718 ...\n",
      " $ AVG.OxySat.  : num  122 129 116 116 118 ...\n",
      " $ AVG.pH.      : num  7,58 7,63 7,58 7,50 7,44 ...\n",
      " $ AVG.Redox.   : num  490 499 510 504 506 ...\n",
      " - attr(*, \"na.action\")= 'omit' Named int  11 12 13 14 15 164 165 166 167 168 ...\n",
      "  ..- attr(*, \"names\")= chr  \"11\" \"12\" \"13\" \"14\" ...\n"
     ]
    }
   ],
   "source": [
    "# Selecciono eventos del verano de 2015\n",
    "my.data.2015 <- my.data[format(my.data$date, \"%Y\") == 2015\n",
    "                        & (format(my.data$date, \"%m\") == '07' \n",
    "                        |  format(my.data$date, \"%m\") == '08'\n",
    "                        |  format(my.data$date, \"%m\") == '09'),]\n",
    "str(my.data.2015)"
   ]
  },
  {
   "cell_type": "code",
   "execution_count": 63,
   "metadata": {},
   "outputs": [
    {
     "data": {
      "text/html": [
       "17,499390981"
      ],
      "text/latex": [
       "17,499390981"
      ],
      "text/markdown": [
       "17,499390981"
      ],
      "text/plain": [
       "[1] 17,49939"
      ]
     },
     "metadata": {},
     "output_type": "display_data"
    },
    {
     "data": {
      "text/html": [
       "17,96166536"
      ],
      "text/latex": [
       "17,96166536"
      ],
      "text/markdown": [
       "17,96166536"
      ],
      "text/plain": [
       "[1] 17,96167"
      ]
     },
     "metadata": {},
     "output_type": "display_data"
    },
    {
     "data": {
      "text/html": [
       "1,82595232342"
      ],
      "text/latex": [
       "1,82595232342"
      ],
      "text/markdown": [
       "1,82595232342"
      ],
      "text/plain": [
       "[1] 1,825952"
      ]
     },
     "metadata": {},
     "output_type": "display_data"
    },
    {
     "data": {
      "image/png": "[encoded data removed]",
      "text/plain": [
       "Plot with title “Histograma de temperatura en verano de 2014”"
      ]
     },
     "metadata": {
      "image/png": {
       "height": 420,
       "width": 420
      },
      "text/plain": {
       "height": 420,
       "width": 420
      }
     },
     "output_type": "display_data"
    }
   ],
   "source": [
    "# Pinto los datos de temperatura de verano 2014\n",
    "vector.2014 <- my.data.2014$AVG.Temp.\n",
    "\n",
    "hist(vector.2014,\n",
    "    xlab = \"Temperatura media [C]\",\n",
    "    ylab = \"Frecuencia\",\n",
    "    main = \"Histograma de temperatura en verano de 2014\")\n",
    "\n",
    "mean.2014 <- mean(vector.2014)\n",
    "mean.2014\n",
    "median.2014 <- median(vector.2014)\n",
    "median.2014\n",
    "sd.2014 <- sd(vector.2014)\n",
    "sd.2014"
   ]
  },
  {
   "cell_type": "code",
   "execution_count": 64,
   "metadata": {},
   "outputs": [
    {
     "data": {
      "text/html": [
       "18,6201212465217"
      ],
      "text/latex": [
       "18,6201212465217"
      ],
      "text/markdown": [
       "18,6201212465217"
      ],
      "text/plain": [
       "[1] 18,62012"
      ]
     },
     "metadata": {},
     "output_type": "display_data"
    },
    {
     "data": {
      "text/html": [
       "18,669095345"
      ],
      "text/latex": [
       "18,669095345"
      ],
      "text/markdown": [
       "18,669095345"
      ],
      "text/plain": [
       "[1] 18,6691"
      ]
     },
     "metadata": {},
     "output_type": "display_data"
    },
    {
     "data": {
      "text/html": [
       "1,95885455885471"
      ],
      "text/latex": [
       "1,95885455885471"
      ],
      "text/markdown": [
       "1,95885455885471"
      ],
      "text/plain": [
       "[1] 1,958855"
      ]
     },
     "metadata": {},
     "output_type": "display_data"
    },
    {
     "data": {
      "image/png": "[encoded data removed]",
      "text/plain": [
       "Plot with title “Histograma de temperatura en verano de 2015”"
      ]
     },
     "metadata": {
      "image/png": {
       "height": 420,
       "width": 420
      },
      "text/plain": {
       "height": 420,
       "width": 420
      }
     },
     "output_type": "display_data"
    }
   ],
   "source": [
    "# Pinto los datos de temperatura de verano 2015\n",
    "vector.2015 <- my.data.2015$AVG.Temp.\n",
    "\n",
    "hist(vector.2015,\n",
    "    xlab = \"Temperatura media [C]\",\n",
    "    ylab = \"Frecuencia\",\n",
    "    main = \"Histograma de temperatura en verano de 2015\")\n",
    "\n",
    "mean.2015 <- mean(vector.2015)\n",
    "mean.2015\n",
    "median.2015 <- median(vector.2015)\n",
    "median.2015\n",
    "sd.2015 <- sd(vector.2015)\n",
    "sd.2015"
   ]
  },
  {
   "cell_type": "code",
   "execution_count": 65,
   "metadata": {},
   "outputs": [
    {
     "data": {
      "text/html": [
       "<table>\n",
       "<caption>A matrix: 2 × 3 of type dbl</caption>\n",
       "<thead>\n",
       "\t<tr><th></th><th scope=col>media</th><th scope=col>mediana</th><th scope=col>desviacion tipica</th></tr>\n",
       "</thead>\n",
       "<tbody>\n",
       "\t<tr><th scope=row>2014</th><td>17,49939</td><td>17,96167</td><td>1,825952</td></tr>\n",
       "\t<tr><th scope=row>2015</th><td>18,62012</td><td>18,66910</td><td>1,958855</td></tr>\n",
       "</tbody>\n",
       "</table>\n"
      ],
      "text/latex": [
       "A matrix: 2 × 3 of type dbl\n",
       "\\begin{tabular}{r|lll}\n",
       "  & media & mediana & desviacion tipica\\\\\n",
       "\\hline\n",
       "\t2014 & 17,49939 & 17,96167 & 1,825952\\\\\n",
       "\t2015 & 18,62012 & 18,66910 & 1,958855\\\\\n",
       "\\end{tabular}\n"
      ],
      "text/markdown": [
       "\n",
       "A matrix: 2 × 3 of type dbl\n",
       "\n",
       "| <!--/--> | media | mediana | desviacion tipica |\n",
       "|---|---|---|---|\n",
       "| 2014 | 17,49939 | 17,96167 | 1,825952 |\n",
       "| 2015 | 18,62012 | 18,66910 | 1,958855 |\n",
       "\n"
      ],
      "text/plain": [
       "     media    mediana  desviacion tipica\n",
       "2014 17,49939 17,96167 1,825952         \n",
       "2015 18,62012 18,66910 1,958855         "
      ]
     },
     "metadata": {},
     "output_type": "display_data"
    }
   ],
   "source": [
    "# Pongo los datos en una tabla\n",
    "my.table <- matrix(c(mean.2014, median.2014, sd.2014,\n",
    "                    mean.2015, median.2015, sd.2015),ncol = 3, nrow = 2, byrow = T)\n",
    "colnames(my.table)<-c(\"media\", \"mediana\", \"desviacion tipica\")\n",
    "rownames(my.table)<-c(\"2014\", \"2015\")\n",
    "my.table"
   ]
  },
  {
   "cell_type": "markdown",
   "metadata": {},
   "source": [
    "### Bootstrap\n",
    "\n",
    "Tecnica de remuestreo que consiste en generar nuevas pseudomuestras sustituyendo cada uno de los elementos de la muestra original por cualquier otro elemento elegido. Cada una de las nuevas psuedomuestras tiene el mismo número de elementos que la original. No todos los elementos de la muestra original tienen por qué aparecer en una pseudomuestra. Algunos elementos de la muestra orginal pueden aparecer repetidos en una pseudomuestra."
   ]
  },
  {
   "cell_type": "markdown",
   "metadata": {},
   "source": [
    "Crea una función que reciba un vector de números ‘x’ (la muestra original) y un número natural N, que genere una matriz que tenga N columnas siendo cada una de estas, una de las muestras de Bootstrap."
   ]
  },
  {
   "cell_type": "code",
   "execution_count": 60,
   "metadata": {},
   "outputs": [],
   "source": [
    "# Defino una función que produzca una muestra de bootstrap, dado un vector de números\n",
    "my.bootstrap <- function(vec.x){\n",
    "    my.N <- length(vec.x)\n",
    "    my.sample <- sample(1:my.N,my.N,replace=T)\n",
    "    return(vec.x[my.sample])\n",
    "}\n",
    "\n",
    "# Defino una función que, dado un vector de numeros y un numero natural N, \n",
    "#produzca una matriz con N muestras de bootstrap\n",
    "my.bootstrap.generator <- function(my.x, n.samples){\n",
    "    my.bootstrap.matrix <- matrix(, nrow = length(my.x), ncol = 0)\n",
    "    for(i in 1:n.samples){\n",
    "        my.bootstrap.matrix <- cbind(my.bootstrap.matrix, my.bootstrap(my.x))\n",
    "    }\n",
    "    return(my.bootstrap.matrix)\n",
    "}"
   ]
  },
  {
   "cell_type": "markdown",
   "metadata": {},
   "source": [
    "Calcular (para N=1000):\n",
    "\n",
    "■ La media y la desviación estándar de la media y compararlas con la obtenida anteriormente."
   ]
  },
  {
   "cell_type": "code",
   "execution_count": 99,
   "metadata": {},
   "outputs": [],
   "source": [
    "# Indico cuantas muestras quiero\n",
    "N = 1000"
   ]
  },
  {
   "cell_type": "code",
   "execution_count": 120,
   "metadata": {},
   "outputs": [
    {
     "data": {
      "text/html": [
       "17,4998323711818"
      ],
      "text/latex": [
       "17,4998323711818"
      ],
      "text/markdown": [
       "17,4998323711818"
      ],
      "text/plain": [
       "[1] 17,49983"
      ]
     },
     "metadata": {},
     "output_type": "display_data"
    },
    {
     "data": {
      "text/html": [
       "0,189207891870133"
      ],
      "text/latex": [
       "0,189207891870133"
      ],
      "text/markdown": [
       "0,189207891870133"
      ],
      "text/plain": [
       "[1] 0,1892079"
      ]
     },
     "metadata": {},
     "output_type": "display_data"
    }
   ],
   "source": [
    "# EMPIEZO POR 2014\n",
    "\n",
    "# Produzco las muestras de bootstrap\n",
    "bootstrap.matrix.2014 <- my.bootstrap.generator(vector.2014, N)\n",
    "\n",
    "# Calculo los estadisticos\n",
    "mean.bootstrap.2014 <- mean(apply(bootstrap.matrix.2014, FUN = mean, MARGIN = 2))\n",
    "mean.bootstrap.2014\n",
    "\n",
    "sd.bootstrap.2014 <- sqrt(1/(N-1)*sum((apply(bootstrap.matrix.2014, FUN = mean, MARGIN = 2) - mean.2014)^2))\n",
    "sd.bootstrap.2014"
   ]
  },
  {
   "cell_type": "code",
   "execution_count": 121,
   "metadata": {},
   "outputs": [
    {
     "data": {
      "text/html": [
       "18,6204415615778"
      ],
      "text/latex": [
       "18,6204415615778"
      ],
      "text/markdown": [
       "18,6204415615778"
      ],
      "text/plain": [
       "[1] 18,62044"
      ]
     },
     "metadata": {},
     "output_type": "display_data"
    },
    {
     "data": {
      "text/html": [
       "0,202410413328191"
      ],
      "text/latex": [
       "0,202410413328191"
      ],
      "text/markdown": [
       "0,202410413328191"
      ],
      "text/plain": [
       "[1] 0,2024104"
      ]
     },
     "metadata": {},
     "output_type": "display_data"
    }
   ],
   "source": [
    "# HAGO LO MISMO PARA 2015\n",
    "\n",
    "# Produzco las muestras de bootstrap\n",
    "bootstrap.matrix.2015 <- my.bootstrap.generator(vector.2015, N)\n",
    "\n",
    "# Calculo los estadisticos\n",
    "mean.bootstrap.2015 <- mean(apply(bootstrap.matrix.2015, FUN = mean, MARGIN = 2))\n",
    "mean.bootstrap.2015\n",
    "\n",
    "sd.bootstrap.2015 <- sqrt(1/(N-1)*sum((apply(bootstrap.matrix.2015, FUN = mean, MARGIN = 2) - mean.2015)^2))\n",
    "sd.bootstrap.2015"
   ]
  },
  {
   "cell_type": "code",
   "execution_count": 128,
   "metadata": {},
   "outputs": [
    {
     "data": {
      "text/html": [
       "<table>\n",
       "<caption>A matrix: 2 × 3 of type dbl</caption>\n",
       "<thead>\n",
       "\t<tr><th></th><th scope=col>media</th><th scope=col>desviacion tipica bootstrap</th><th scope=col>desviacion tipica original</th></tr>\n",
       "</thead>\n",
       "<tbody>\n",
       "\t<tr><th scope=row>2014</th><td>17,49983</td><td>0,1892079</td><td>1,825952</td></tr>\n",
       "\t<tr><th scope=row>2015</th><td>18,62044</td><td>0,2024104</td><td>1,958855</td></tr>\n",
       "</tbody>\n",
       "</table>\n"
      ],
      "text/latex": [
       "A matrix: 2 × 3 of type dbl\n",
       "\\begin{tabular}{r|lll}\n",
       "  & media & desviacion tipica bootstrap & desviacion tipica original\\\\\n",
       "\\hline\n",
       "\t2014 & 17,49983 & 0,1892079 & 1,825952\\\\\n",
       "\t2015 & 18,62044 & 0,2024104 & 1,958855\\\\\n",
       "\\end{tabular}\n"
      ],
      "text/markdown": [
       "\n",
       "A matrix: 2 × 3 of type dbl\n",
       "\n",
       "| <!--/--> | media | desviacion tipica bootstrap | desviacion tipica original |\n",
       "|---|---|---|---|\n",
       "| 2014 | 17,49983 | 0,1892079 | 1,825952 |\n",
       "| 2015 | 18,62044 | 0,2024104 | 1,958855 |\n",
       "\n"
      ],
      "text/plain": [
       "     media    desviacion tipica bootstrap desviacion tipica original\n",
       "2014 17,49983 0,1892079                   1,825952                  \n",
       "2015 18,62044 0,2024104                   1,958855                  "
      ]
     },
     "metadata": {},
     "output_type": "display_data"
    }
   ],
   "source": [
    "# Pongo los datos en una tabla\n",
    "my.bootstrap.table <- matrix(c(mean.bootstrap.2014, sd.bootstrap.2014, sd.2014,\n",
    "                    mean.bootstrap.2015, sd.bootstrap.2015, sd.2015),ncol = 3, nrow = 2, byrow = T)\n",
    "colnames(my.bootstrap.table)<-c(\"media\", \"desviacion tipica bootstrap\", \"desviacion tipica original\")\n",
    "rownames(my.bootstrap.table)<-c(\"2014\", \"2015\")\n",
    "my.bootstrap.table"
   ]
  },
  {
   "cell_type": "markdown",
   "metadata": {},
   "source": [
    "### Jacknife\n",
    "Tecnica de remuestreo que consiste en generar pseudomuestras de modo que cada vez se quita un elemento de la muestra original. Las muestras por tanto tendras tamaño de N-1."
   ]
  },
  {
   "cell_type": "markdown",
   "metadata": {},
   "source": [
    "Crea una función que reciba un vector de números 'x' (la muestra original) y genere una matriz que contenga todas las muestras posibles de jacknife de la muestra original."
   ]
  },
  {
   "cell_type": "code",
   "execution_count": 77,
   "metadata": {},
   "outputs": [],
   "source": [
    "# Defino una función que produzca una matriz \n",
    "# con todas las muestras de jackknife de un vector de números\n",
    "my.jackknife.generator <- function(my.x){\n",
    "    my.jackknife.length <- length(my.x) - 1\n",
    "    my.jackknife.matrix <- matrix(, nrow = my.jackknife.length, ncol = 0)\n",
    "    for(i in 1:my.jackknife.length){\n",
    "        if (i %% 100 == 0) print(i) \n",
    "        my.jackknife.matrix <- cbind(my.jackknife.matrix, my.x[-i])\n",
    "    }\n",
    "    return(my.jackknife.matrix)\n",
    "}"
   ]
  },
  {
   "cell_type": "markdown",
   "metadata": {},
   "source": [
    "Calcula:\n",
    "\n",
    "■ La media y la desviación estándar de la media y compararlas con la obtenida anteriormente."
   ]
  },
  {
   "cell_type": "code",
   "execution_count": 122,
   "metadata": {},
   "outputs": [
    {
     "data": {
      "text/html": [
       "17,4992531981025"
      ],
      "text/latex": [
       "17,4992531981025"
      ],
      "text/markdown": [
       "17,4992531981025"
      ],
      "text/plain": [
       "[1] 17,49925"
      ]
     },
     "metadata": {},
     "output_type": "display_data"
    },
    {
     "data": {
      "text/html": [
       "0,194243855546956"
      ],
      "text/latex": [
       "0,194243855546956"
      ],
      "text/markdown": [
       "0,194243855546956"
      ],
      "text/plain": [
       "[1] 0,1942439"
      ]
     },
     "metadata": {},
     "output_type": "display_data"
    }
   ],
   "source": [
    "# EMPIEZO POR 2014\n",
    "\n",
    "# defino el numero de muestras de jackknife que puedo producir\n",
    "M = length(vector.2014)\n",
    "\n",
    "# Produzco las muestras de jackknife\n",
    "jackknife.matrix.2014 <- my.jackknife.generator(vector.2014)\n",
    "\n",
    "# Calculo los estadisticos\n",
    "mean.jackknife.2014 <- mean(apply(jackknife.matrix.2014, FUN = mean, MARGIN = 2))\n",
    "mean.jackknife.2014\n",
    "\n",
    "sd.jackknife.2014 <- sqrt(M/(M-1)*sum((apply(jackknife.matrix.2014, FUN = mean, MARGIN = 2) - mean.2014)^2))\n",
    "sd.jackknife.2014"
   ]
  },
  {
   "cell_type": "code",
   "execution_count": 123,
   "metadata": {},
   "outputs": [
    {
     "data": {
      "text/html": [
       "18,6197234632291"
      ],
      "text/latex": [
       "18,6197234632291"
      ],
      "text/markdown": [
       "18,6197234632291"
      ],
      "text/plain": [
       "[1] 18,61972"
      ]
     },
     "metadata": {},
     "output_type": "display_data"
    },
    {
     "data": {
      "text/html": [
       "0,203235591610548"
      ],
      "text/latex": [
       "0,203235591610548"
      ],
      "text/markdown": [
       "0,203235591610548"
      ],
      "text/plain": [
       "[1] 0,2032356"
      ]
     },
     "metadata": {},
     "output_type": "display_data"
    }
   ],
   "source": [
    "# HAGO LO MISMO PARA 2015\n",
    "\n",
    "# defino el numero de muestras de jackknife que puedo producir\n",
    "M = length(vector.2015)\n",
    "\n",
    "# Produzco las muestras de jackknife\n",
    "jackknife.matrix.2015 <- my.jackknife.generator(vector.2015)\n",
    "\n",
    "# Calculo los estadisticos\n",
    "mean.jackknife.2015 <- mean(apply(jackknife.matrix.2015, FUN = mean, MARGIN = 2))\n",
    "mean.jackknife.2015\n",
    "\n",
    "sd.jackknife.2015 <- sqrt(M/(M-1)*sum((apply(jackknife.matrix.2015, FUN = mean, MARGIN = 2) - mean.2015)^2))\n",
    "sd.jackknife.2015"
   ]
  },
  {
   "cell_type": "code",
   "execution_count": 126,
   "metadata": {},
   "outputs": [
    {
     "data": {
      "text/html": [
       "<table>\n",
       "<caption>A matrix: 2 × 3 of type dbl</caption>\n",
       "<thead>\n",
       "\t<tr><th></th><th scope=col>media</th><th scope=col>desviacion tipica jacknife</th><th scope=col>desviacion tipica original</th></tr>\n",
       "</thead>\n",
       "<tbody>\n",
       "\t<tr><th scope=row>2014</th><td>17,49925</td><td>0,1942439</td><td>1,825952</td></tr>\n",
       "\t<tr><th scope=row>2015</th><td>18,61972</td><td>0,2032356</td><td>1,958855</td></tr>\n",
       "</tbody>\n",
       "</table>\n"
      ],
      "text/latex": [
       "A matrix: 2 × 3 of type dbl\n",
       "\\begin{tabular}{r|lll}\n",
       "  & media & desviacion tipica jacknife & desviacion tipica original\\\\\n",
       "\\hline\n",
       "\t2014 & 17,49925 & 0,1942439 & 1,825952\\\\\n",
       "\t2015 & 18,61972 & 0,2032356 & 1,958855\\\\\n",
       "\\end{tabular}\n"
      ],
      "text/markdown": [
       "\n",
       "A matrix: 2 × 3 of type dbl\n",
       "\n",
       "| <!--/--> | media | desviacion tipica jacknife | desviacion tipica original |\n",
       "|---|---|---|---|\n",
       "| 2014 | 17,49925 | 0,1942439 | 1,825952 |\n",
       "| 2015 | 18,61972 | 0,2032356 | 1,958855 |\n",
       "\n"
      ],
      "text/plain": [
       "     media    desviacion tipica jacknife desviacion tipica original\n",
       "2014 17,49925 0,1942439                  1,825952                  \n",
       "2015 18,61972 0,2032356                  1,958855                  "
      ]
     },
     "metadata": {},
     "output_type": "display_data"
    }
   ],
   "source": [
    "# Pongo los datos en una tabla\n",
    "my.jackknife.table <- matrix(c(mean.jackknife.2014, sd.jackknife.2014, sd.2014,\n",
    "                    mean.jackknife.2015, sd.jackknife.2015, sd.2015),ncol = 3, nrow = 2, byrow = T)\n",
    "colnames(my.jackknife.table)<-c(\"media\", \"desviacion tipica jacknife\", \"desviacion tipica original\")\n",
    "rownames(my.jackknife.table)<-c(\"2014\", \"2015\")\n",
    "my.jackknife.table"
   ]
  },
  {
   "cell_type": "markdown",
   "metadata": {},
   "source": [
    "### Interpretación de los resultados"
   ]
  },
  {
   "cell_type": "markdown",
   "metadata": {},
   "source": [
    "Los valores de las media obtenidos directamente de la muestra original y los obtenido con la tecnica bootstrap y jackknife son muy parecidos, ya que estamos produciendo más muestras con los mismos valores que la muestra original.\n",
    "\n",
    "Por otro lado, el aspecto más interesante de las técnicas de remuestreo es la posibilidad de aumentar artificialmente la dimensionalidad del dataset que estamos estudiando.\n",
    "\n",
    "Este hecho se puede utilizar para reducir la incertidumbre sobre los parametros estadisticos del dataset, en nuestro caso sobre la media de las temperaturas medidas.\n",
    "\n",
    "Más en concreto, la incertidumbre que podemos asociar a la media muestral de las temperaturas es, en principio, la desviación típica de la distribución.\n",
    "\n",
    "Gracias a las técnicas de remuestreo, podemos producir nuevas muestras con la misma p.d.f.: calculando la media muestral de cada una de ellas y luego la desviación típica de las media muestrales, logramos obtener una incertidumbre más pequeña.\n",
    "\n",
    "En el caso de una p.d.f. gaussiana, ya sabemos que esta incertidumbre va como $\\sigma_{media-muestral}$ = $\\frac{\\sigma}{\\sqrt{M}}$, donde M el número de observaciones de la muestra original, y es lo que obtenemos en el ejemplo de esta práctica.\n",
    "\n",
    "Aún más interesante sería el caso de una p.d.f. desconocida, donde el comportamiento de la media muestral se podría conocer de antemano."
   ]
  }
 ],
 "metadata": {
  "kernelspec": {
   "display_name": "R",
   "language": "R",
   "name": "ir"
  },
  "language_info": {
   "codemirror_mode": "r",
   "file_extension": ".r",
   "mimetype": "text/x-r-source",
   "name": "R",
   "pygments_lexer": "r",
   "version": "3.6.1"
  }
 },
 "nbformat": 4,
 "nbformat_minor": 2
}
