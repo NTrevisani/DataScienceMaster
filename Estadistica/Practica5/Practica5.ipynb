{
 "cells": [
  {
   "cell_type": "markdown",
   "metadata": {},
   "source": [
    "## Exercise 1"
   ]
  },
  {
   "cell_type": "markdown",
   "metadata": {},
   "source": [
    "Roll a dice 50 times."
   ]
  },
  {
   "cell_type": "code",
   "execution_count": 9,
   "metadata": {},
   "outputs": [],
   "source": [
    "dice <- 1:6\n",
    "times <- 50\n",
    "\n",
    "roll.dice <- sample(dice, times, replace = T)"
   ]
  },
  {
   "cell_type": "markdown",
   "metadata": {},
   "source": [
    "The first two quantities are the sample mean and variance and are computed directly looking at the sample we simulated:\n",
    "- $\\bar{X}$ = sample mean\n",
    "- $S^2$ = sample variance"
   ]
  },
  {
   "cell_type": "code",
   "execution_count": 8,
   "metadata": {},
   "outputs": [
    {
     "name": "stdout",
     "output_type": "stream",
     "text": [
      "[1] \"The mean value of the sample generated is 3.26\"\n",
      "[1] \"Its variance is 3.09\"\n"
     ]
    }
   ],
   "source": [
    "sample.mean <- mean(roll.dice)\n",
    "sample.var  <- var(roll.dice)\n",
    "\n",
    "print(paste(\"The mean value of the sample generated is\", sample.mean))\n",
    "print(paste(\"Its variance is\", format(round(sample.var, 2), nsmall = 2)))"
   ]
  },
  {
   "cell_type": "markdown",
   "metadata": {},
   "source": [
    "All the other quantities are expected, so that they can be predicted without generating any sample. Given that the result of rolling a dice follow a discrete uniform distribution:\n",
    "- E(X) = expected value = $\\frac{1 + 6}{2}$ = 3.5\n",
    "- Var(X) = variance = $\\frac{6^2 - 1}{12}$ = $\\frac{35}{12}$\n",
    "- E($\\bar{X}$) = expected sample mean = sample mean = 3.5\n",
    "- Var($\\bar{X}$) = expected sample variance = $\\frac{Var(X)}{n}$ = $\\frac{35}{12} \\times \\frac{1}{50}$ = $\\frac{7}{120}$\n"
   ]
  },
  {
   "cell_type": "markdown",
   "metadata": {},
   "source": [
    "## Exercise 2"
   ]
  },
  {
   "cell_type": "code",
   "execution_count": 19,
   "metadata": {},
   "outputs": [],
   "source": [
    "dice <- 1:6\n",
    "times <- 50\n",
    "\n",
    "roll.dice1 <- sample(dice, times, replace = T)\n",
    "roll.dice2 <- sample(dice, times, replace = T)\n",
    "\n",
    "sum.dice <- roll.dice1 + roll.dice2"
   ]
  },
  {
   "cell_type": "markdown",
   "metadata": {},
   "source": [
    "As in the previous case, the first two quantities are the sample mean and variance and are computed directly looking at the sample we simulated. Now the variable to consider is the sum\n",
    "- $\\bar{X}$ = sample mean\n",
    "- $S^2$ = sample variance"
   ]
  },
  {
   "cell_type": "code",
   "execution_count": 20,
   "metadata": {},
   "outputs": [
    {
     "name": "stdout",
     "output_type": "stream",
     "text": [
      "[1] \"The mean value of the sample generated is 7.32\"\n",
      "[1] \"Its variance is 6.26\"\n"
     ]
    }
   ],
   "source": [
    "sample.mean.2 <- mean(sum.dice)\n",
    "sample.var.2  <- var(sum.dice)\n",
    "\n",
    "print(paste(\"The mean value of the sample generated is\", sample.mean.2))\n",
    "print(paste(\"Its variance is\", format(round(sample.var.2, 2), nsmall = 2)))"
   ]
  },
  {
   "cell_type": "markdown",
   "metadata": {},
   "source": [
    "All the other quantities are expected, so that they can be predicted without generating any sample. \n",
    "Now we are considering the sum of two independent random variables.\n",
    "\n",
    "\n",
    "\n",
    "\n",
    "Given that the result of rolling a dice follow a discrete uniform distribution:\n",
    "- E(X) = expected value = $\\frac{1 + 6}{2}$ = 3.5\n",
    "- Var(X) = variance = $\\frac{6^2 - 1}{12}$ = $\\frac{35}{12}$\n",
    "- E($\\bar{X}$) = expected sample mean = sample mean = 3.5\n",
    "- Var($\\bar{X}$) = expected sample variance = $\\frac{Var(X)}{n}$ = $\\frac{35}{12} \\times \\frac{1}{50}$ = $\\frac{7}{120}$\n"
   ]
  }
 ],
 "metadata": {
  "kernelspec": {
   "display_name": "R",
   "language": "R",
   "name": "ir"
  },
  "language_info": {
   "codemirror_mode": "r",
   "file_extension": ".r",
   "mimetype": "text/x-r-source",
   "name": "R",
   "pygments_lexer": "r",
   "version": "3.6.1"
  }
 },
 "nbformat": 4,
 "nbformat_minor": 2
}
